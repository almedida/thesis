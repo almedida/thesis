{
  "nbformat": 4,
  "nbformat_minor": 0,
  "metadata": {
    "colab": {
      "name": "simulation.ipynb",
      "provenance": [],
      "authorship_tag": "ABX9TyOlC9j14CYjaVIS//siBKJn",
      "include_colab_link": true
    },
    "kernelspec": {
      "name": "ir",
      "display_name": "R"
    },
    "language_info": {
      "name": "R"
    }
  },
  "cells": [
    {
      "cell_type": "markdown",
      "metadata": {
        "id": "view-in-github",
        "colab_type": "text"
      },
      "source": [
        "<a href=\"https://colab.research.google.com/github/almedida/thesis/blob/main/simulation_new_new.ipynb\" target=\"_parent\"><img src=\"https://colab.research.google.com/assets/colab-badge.svg\" alt=\"Open In Colab\"/></a>"
      ]
    },
    {
      "cell_type": "markdown",
      "source": [
        "##**Install Packages**##"
      ],
      "metadata": {
        "id": "-ZaEbyNkloSv"
      }
    },
    {
      "cell_type": "code",
      "source": [
        "rm(list = ls())"
      ],
      "metadata": {
        "id": "DQtVgCTqoGmu"
      },
      "execution_count": 210,
      "outputs": []
    },
    {
      "cell_type": "code",
      "source": [
        "install.packages('pacman')\n",
        "library(pacman, devtools)\n",
        "p_load(\"tidyverse\", \"matrixTests\", \"gtools\", \"tmvtnorm\")\n",
        "\n",
        "#install BiocManager\n",
        "if (!requireNamespace(\"BiocManager\", quietly = TRUE))\n",
        "  install.packages(\"BiocManager\")\n",
        "\n",
        "#install limma and qvalue packages\n",
        "BiocManager::install(c(\"limma\", \"qvalue\"))\n",
        "library(limma)\n",
        "library(qvalue)\n"
      ],
      "metadata": {
        "colab": {
          "base_uri": "https://localhost:8080/"
        },
        "id": "lS6SchBvfIzP",
        "outputId": "5840b111-3483-4f01-a4d7-5f541ac4b5ba"
      },
      "execution_count": 3,
      "outputs": [
        {
          "output_type": "stream",
          "name": "stderr",
          "text": [
            "Installing package into ‘/usr/local/lib/R/site-library’\n",
            "(as ‘lib’ is unspecified)\n",
            "\n",
            "'getOption(\"repos\")' replaces Bioconductor standard repositories, see\n",
            "'?repositories' for details\n",
            "\n",
            "replacement repositories:\n",
            "    CRAN: https://cran.rstudio.com\n",
            "\n",
            "\n",
            "Bioconductor version 3.14 (BiocManager 1.30.16), R 4.1.2 (2021-11-01)\n",
            "\n",
            "Warning message:\n",
            "“package(s) not installed when version(s) same as current; use `force = TRUE` to\n",
            "  re-install: 'limma'”\n",
            "Installing package(s) 'qvalue'\n",
            "\n",
            "also installing the dependencies ‘plyr’, ‘reshape2’\n",
            "\n",
            "\n",
            "Old packages: 'cli', 'clipr', 'colorspace', 'crayon', 'evaluate', 'glue',\n",
            "  'jsonlite', 'openssl', 'rmarkdown', 'tidyselect', 'tinytex', 'xfun', 'yaml',\n",
            "  'mgcv', 'survival'\n",
            "\n"
          ]
        }
      ]
    },
    {
      "cell_type": "markdown",
      "source": [
        "##***Load Dataset***"
      ],
      "metadata": {
        "id": "i5kBkQDinMx0"
      }
    },
    {
      "cell_type": "code",
      "source": [
        "  genej_sim_dataj = read.csv(\"genej_sim_data2.csv\", header = TRUE, sep = \",\")"
      ],
      "metadata": {
        "id": "pIgdYcBwOBOE"
      },
      "execution_count": 211,
      "outputs": []
    },
    {
      "cell_type": "markdown",
      "source": [
        "##Simulation function##"
      ],
      "metadata": {
        "id": "ImCwdXQ5HoBS"
      }
    },
    {
      "cell_type": "code",
      "source": [
        "# simulation = function(){\n",
        "  \n",
        "  m = 10000 #no of genes to be selected from the dataset\n",
        "  n_samples = 4 #no of samples\n",
        "  n_mu = 2 #mu multipling delta\n",
        "  n_de = 1000 #number of m11\n",
        "\n",
        "  # genej_sim_data = read.csv(\"genej_sim_data2.csv\", header = TRUE, sep = \",\")\n",
        "\n",
        "  N = ncol(genej_sim_dataj) #N = number columns (samples in the dataset)\n",
        "  n_gene = nrow(genej_sim_dataj) #n_gene = no of genes (rows in the dataset)\n",
        "  \n",
        "  randomly_selected_genes = sample(n_gene, m) #randomly selected genes of size m from the total genes\n",
        "\n",
        "  #10000 selected data corresponding to the randomly selected genes (EE genes)\n",
        "  randomly_selected_data = genej_sim_dataj[randomly_selected_genes, ]\n",
        "  genej_sim_data = randomly_selected_data\n",
        "\n",
        "  genej_std = apply(genej_sim_data, 1, sd)  #calculate std for all genes\n",
        "\n",
        " \n",
        "  randomly_selected_samples  = sample(N, 2*n_samples) #randomly select samples of size 2*n_trt_grp \n",
        "                                                    #for treatment group\n",
        "  treatment_group1 = randomly_selected_samples[1:n_samples]\n",
        "  treatment_group2 = randomly_selected_samples[(n_samples + 1):(2*n_samples)]\n",
        "\n",
        "  treatment_group1_data = genej_sim_data[treatment_group1]\n",
        "\n",
        "  #group 2 data\n",
        "  treatment_group2_data = genej_sim_data[treatment_group2]\n",
        "\n",
        "  #generate treatment effects, j_effects=10000 for the m genes\n",
        "  mu = n_mu*genej_std\n",
        "  treatment_effect_j = rnorm(m, mu, genej_std)\n",
        "\n",
        "  #add 10k treatments effects generated to group 2 data\n",
        "  de_treatment_group2 = treatment_group2_data + treatment_effect_j\n",
        "\n",
        "  n_treated_genes_grp2 = nrow(de_treatment_group2)\n",
        "\n",
        "  #we extract m genes from DE_treatment_group2 (genes with treatment effects)\n",
        "  de_genes_index = sample(n_treated_genes_grp2, n_de)\n",
        "\n",
        "  #we copied untreated (genes without effects) genes from treatment_group2_data\n",
        "\n",
        "  treated_genes_group2 = treatment_group2_data\n",
        "\n",
        "  #we replaced the m untreated genes (without treatment effects) with the corresponding treated genes(with treatment effects)\n",
        "  treated_genes_group2[de_genes_index, ] = de_treatment_group2[de_genes_index, ]\n",
        "\n",
        "  group1_data = treatment_group1_data\n",
        "  group2_data <- treated_genes_group2\n",
        "\n",
        "  # group2_data = treated_genes_group2\n",
        "\n",
        "  #student t-test\n",
        "  ttest <- row_t_equalvar(group1_data, group2_data, alternative = \"two.sided\", mu = 0, conf.level = 0.95)\n",
        "\n",
        "  pvalue <- ttest[13]\n",
        "\n",
        "  adj_pvalue <- p.adjust(data.matrix(pvalue), \"BH\")\n",
        "  adj_pvalue_df <-  data.frame(adj_pvalue)\n",
        "\n",
        "  #limma \n",
        "  limma_gene_exp <- c(group1_data, group2_data)\n",
        "  limma_gene_exp <- data.frame(limma_gene_exp)\n",
        "\n",
        "  expr_list_10k <- factor(\n",
        "  x = c(rep(\"group1\", n_samples), rep(\"group2\", n_samples)),\n",
        "  levels=c(\"group1\",\"group2\")            # Set group 1 to be the first level\n",
        "  )\n",
        "\n",
        "  design <- model.matrix(~expr_list_10k)          # Remove the zero\n",
        "\n",
        "  fit <- lmFit(limma_gene_exp, design)\n",
        "  fit <- eBayes(fit)\n",
        "  results <- decideTests(fit)\n",
        "\n",
        "  limma_pvalue <- fit$p.value[, 2]\n",
        "  limma_pvalue <- data.frame(limma_pvalue)\n",
        "\n",
        "  adj_limma_pvalue <- data.matrix(limma_pvalue)\n",
        "  adj_limma_pvalue <- p.adjust(adj_limma_pvalue, \"BH\")\n",
        "  adj_limma_pvalue <- data.frame(adj_limma_pvalue)\n",
        "\n",
        "\n",
        "  pval_raw <- c(pvalue, limma_pvalue)\n",
        "  pval_raw <- data.frame(pval_raw)\n",
        "  pvals1 <- (as.matrix(pval_raw[,1]))\n",
        "  pvals2 <- (as.matrix(pval_raw[,2]))\n",
        "\n",
        "  print(head(pval_raw))\n",
        "  print(head(pvals1))\n",
        "  print(head(pvals2))\n",
        "  # pvalues <- cbind(c(pvals1), c(pvals2))\n",
        "  # colnames(pvalues) = c(\"pvals1\", \"pvals2\")\n",
        "  # print(list(pval_raw, pvals1, pvals2))\n",
        "\n",
        "# }"
      ],
      "metadata": {
        "colab": {
          "base_uri": "https://localhost:8080/"
        },
        "id": "rrOp7z8-Dfbj",
        "outputId": "2bbc0385-3f94-46a4-d54b-601c04184550"
      },
      "execution_count": 212,
      "outputs": [
        {
          "output_type": "stream",
          "name": "stdout",
          "text": [
            "       pvalue limma_pvalue\n",
            "1 0.224160944 0.1685704031\n",
            "2 0.137986637 0.0871356348\n",
            "3 0.253470269 0.3066384209\n",
            "4 0.418950271 0.3750277983\n",
            "5 0.001886567 0.0003709841\n",
            "6 0.110503485 0.1787782559\n",
            "            [,1]\n",
            "[1,] 0.224160944\n",
            "[2,] 0.137986637\n",
            "[3,] 0.253470269\n",
            "[4,] 0.418950271\n",
            "[5,] 0.001886567\n",
            "[6,] 0.110503485\n",
            "             [,1]\n",
            "[1,] 0.1685704031\n",
            "[2,] 0.0871356348\n",
            "[3,] 0.3066384209\n",
            "[4,] 0.3750277983\n",
            "[5,] 0.0003709841\n",
            "[6,] 0.1787782559\n"
          ]
        }
      ]
    },
    {
      "cell_type": "code",
      "source": [
        ""
      ],
      "metadata": {
        "id": "XocQKM2f9aN0"
      },
      "execution_count": null,
      "outputs": []
    },
    {
      "cell_type": "markdown",
      "source": [
        "## **Proposed Method**"
      ],
      "metadata": {
        "id": "mk8b4dDOleOI"
      }
    },
    {
      "cell_type": "markdown",
      "source": [
        "**Calculate cut-off points using Histogram-based method**\n",
        "\n",
        "calc.cutoff slightly modifies the estimate.m0 function to return the appropriate p-value cutoff where all p-values greater than the cutoff are assumed to come from null cases."
      ],
      "metadata": {
        "id": "q7-Ajk2roJsR"
      }
    },
    {
      "cell_type": "code",
      "source": [
        "values.list <- simulation()\n",
        "pval_raw <- values.list[1])\n",
        "pvals1 <- values.list[2]\n",
        "pvals2 <- values.list[3]"
      ],
      "metadata": {
        "id": "Y2exX9iCTS4V"
      },
      "execution_count": 194,
      "outputs": []
    },
    {
      "cell_type": "code",
      "source": [
        "\n",
        "calc.cutoff = function(p, B = 20, max=1){\n",
        "\n",
        "\n",
        "  m <- length(p)\n",
        "  m0 <- m\n",
        "  bin <- c(-0.1, (1:B)/B*max)\n",
        "  bin.counts=rep(0,B)\n",
        "\n",
        "  for(i in 1:B){\n",
        "    bin.counts[i]=sum((p>bin[i])&(p<=bin[i+1]))\n",
        "  }\n",
        "\n",
        "  tail.means <- rev(cumsum(rev(bin.counts))/(1:B))\n",
        "  temp <- bin.counts - tail.means\n",
        "  index <- min((1:B)[temp <= 0])\n",
        "  cutoff2 <- (index)/B*max\n",
        "  if(cutoff2 == 1) {cutoff2 <- 1-1/B}\n",
        "\n",
        "  return(cutoff2)\n",
        "\n",
        "}\n",
        "\n",
        "cutoff_value1 = calc.cutoff(pvals1, B=20, max=1)\n",
        "cutoff_value2 = calc.cutoff(pvals2, B=20, max=1)\n",
        "\n",
        "cutoff = cbind(c(cutoff_value1), c(cutoff_value2))\n",
        "\n",
        "colnames(cutoff) = c(\"cutoff_value1\", \"cutoff_value2\")\n",
        "\n",
        "cutoff"
      ],
      "metadata": {
        "id": "w6VhmOGroFvK",
        "colab": {
          "base_uri": "https://localhost:8080/",
          "height": 97
        },
        "outputId": "317b7236-8ebf-4e01-fbfc-6e1304535d6b"
      },
      "execution_count": 214,
      "outputs": [
        {
          "output_type": "display_data",
          "data": {
            "text/plain": [
              "     cutoff_value1 cutoff_value2\n",
              "[1,] 0.95          0.75         "
            ],
            "text/latex": "A matrix: 1 × 2 of type dbl\n\\begin{tabular}{ll}\n cutoff\\_value1 & cutoff\\_value2\\\\\n\\hline\n\t 0.95 & 0.75\\\\\n\\end{tabular}\n",
            "text/markdown": "\nA matrix: 1 × 2 of type dbl\n\n| cutoff_value1 | cutoff_value2 |\n|---|---|\n| 0.95 | 0.75 |\n\n",
            "text/html": [
              "<table class=\"dataframe\">\n",
              "<caption>A matrix: 1 × 2 of type dbl</caption>\n",
              "<thead>\n",
              "\t<tr><th scope=col>cutoff_value1</th><th scope=col>cutoff_value2</th></tr>\n",
              "</thead>\n",
              "<tbody>\n",
              "\t<tr><td>0.95</td><td>0.75</td></tr>\n",
              "</tbody>\n",
              "</table>\n"
            ]
          },
          "metadata": {}
        }
      ]
    },
    {
      "cell_type": "markdown",
      "source": [
        "**Filter dataset using cutoff points**\n",
        "\n",
        "selecting pvalues in the upper-right quadrant using Histogram-Based method\n",
        "defined as lambda1 = cutoffvalue1 and lambda2 = cutoffvalue2 for pvalue 1 and pvalue 2 respectively.\n",
        "lambda1, lambda2 - probability of pvalue 1 and pvalue 2 in the upper-right quadrant respectively"
      ],
      "metadata": {
        "id": "nTyrOl4LobJz"
      }
    },
    {
      "cell_type": "code",
      "source": [
        "p_vals = pval_raw  %>% filter(pvalue >=cutoff_value1, limma_pvalue>=cutoff_value2)"
      ],
      "metadata": {
        "id": "21HbwHpuoYUB"
      },
      "execution_count": 215,
      "outputs": []
    },
    {
      "cell_type": "markdown",
      "source": [
        "convert selected pvalues to z values"
      ],
      "metadata": {
        "id": "ua_W9Lzaokpm"
      }
    },
    {
      "cell_type": "code",
      "source": [
        "z_val = as.data.frame(qnorm(as.matrix(p_vals), lower.tail = TRUE))\n",
        "colnames(z_val) = c(\"zvals1\", \"zvals2\")\n",
        "\n",
        "zvals1 <- (as.data.frame(as.matrix(z_val[,1])))\n",
        "zvals2 <- (as.data.frame(as.matrix(z_val[,2])))"
      ],
      "metadata": {
        "id": "1QvG3J82onat"
      },
      "execution_count": 216,
      "outputs": []
    },
    {
      "cell_type": "markdown",
      "source": [
        "convert lambda(truncation points) to z values"
      ],
      "metadata": {
        "id": "qSpXm07Qow0d"
      }
    },
    {
      "cell_type": "code",
      "source": [
        "z_val_extremums = as.data.frame(qnorm(as.matrix(cbind(c(cutoff_value1,1),c(cutoff_value2,1))), lower.tail = TRUE))\n",
        "\n",
        "min_z1 <- z_val_extremums[1,1]\n",
        "min_z2 <- z_val_extremums[1,2]"
      ],
      "metadata": {
        "id": "xWJ5B7QXoxwO"
      },
      "execution_count": 217,
      "outputs": []
    },
    {
      "cell_type": "markdown",
      "source": [
        "**Estimating m00s**\n",
        "\n",
        "m0.1 - DE genes in experiment 1\n",
        "m0.2 - DE genes in experiment 2\n",
        "m11 - DE genes in both experiments\n",
        "m00 - EE genes in both experiments"
      ],
      "metadata": {
        "id": "VFPqP5aQo6PZ"
      }
    },
    {
      "cell_type": "code",
      "source": [
        "estimate.m0s <- function(p1, p2, B=20){\n",
        "\n",
        "  \n",
        "\n",
        "  m <- length(p1)\n",
        "\n",
        "  ##find lambda cutoffs using histogram-based method\n",
        "  c1 <- calc.cutoff(p1, B=B, max=1)\n",
        "  c2 <- calc.cutoff(p2, B=B, max=1)\n",
        "\n",
        "  ##estimate m0 for experiment 1\n",
        "  ind1 <- (p1>=c1)\n",
        "  m0.1 <- sum(ind1)/(1-c1)\n",
        "  m0.1 <- min(m0.1, 10000)\n",
        "\n",
        "  ##estimate m0 for experiment 2  \n",
        "  ind2 <- (p2>=c2)\n",
        "  m0.2 <- sum(ind2)/(1-c2)\n",
        "  m0.2 <- min(m0.2, 10000)\n",
        "\n",
        "\n",
        "  ##estimate m00\n",
        "  ind12 <- ind1 & ind2\n",
        "  nA <- sum(ind12)\n",
        "  #pA <- (1-c1)*(1-c2)\n",
        "  #m00 <- nA/pA\n",
        "  \n",
        "  #here, we used converted pvalues to z values to estimnate m00\n",
        "  # density function for each row of the bivariate z values (x) and \n",
        "  # estimated parameters(rho)\n",
        "  density = function(x, rho)\n",
        "  {\n",
        "    sigma = matrix(c(1, rho, rho, 1), 2, 2)\n",
        "    z = dtmvnorm(x, mean = c(0,0), sigma = sigma, lower = c(min_z1, min_z2))\n",
        "  }\n",
        "  \n",
        "  # log likelihood of the joint densities\n",
        "  log_likelihood_fn = function(rho){\n",
        "    \n",
        "    joint_likelihood = z_val %>% split(.$zvals2) %>% map_dfr(~density(c(.$zvals1,.$zvals2),rho))    \n",
        "    return(-sum(log(joint_likelihood)))\n",
        "    \n",
        "  }\n",
        "  \n",
        "  #MLE of the log likelihood function\n",
        "  optimal_rho = optimize(log_likelihood_fn, lower = -1, upper = 1 )\n",
        "  optimal_rho = as.data.frame(optimal_rho)\n",
        "  \n",
        "  #probability of a random variable greater than cutoff values \n",
        "  rho = as.numeric(optimal_rho[1])\n",
        "  obj_value = optimal_rho[2]\n",
        "  pA = pmvnorm(lower=c(min_z1, min_z2), upper=c(Inf, Inf), mean=c(0,0), sigma = matrix(c(1, rho, rho, 1), 2, 2))\n",
        "  \n",
        "\n",
        "  m00 <- nA/pA\n",
        "  m00 <- min(m00, 10000)\n",
        "  \n",
        "  \n",
        "  ##estimate m11\n",
        "  m11 <- sum(m - m0.1 - m0.2 + m00)\n",
        "  if (m0.1 == 10000 || m0.2 == 10000 || m00 == 10000){\n",
        "    m11 = 0\n",
        "  }\n",
        "  \n",
        "  ret <- list()\n",
        "  ret$ms <- c(obj_value, rho, m, m0.1, m0.2, m00, m11)\n",
        "  names(ret$ms) <- c(\"obj_value\", \"optimal_rho\", \"m\", \"m0.1\", \"m0.2\", \"m00\", \"m11\")\n",
        "  ret$cutoffs <- c(c1, c2)\n",
        "  return(ret)\n",
        "}\n",
        "\n",
        "estimate.m0s(pvals1, pvals2, B=20)"
      ],
      "metadata": {
        "id": "bGH8chOao8QO",
        "outputId": "9000fb3e-7d07-47d3-f8aa-44e39c10d0b1",
        "colab": {
          "base_uri": "https://localhost:8080/",
          "height": 362
        }
      },
      "execution_count": 218,
      "outputs": [
        {
          "output_type": "display_data",
          "data": {
            "text/plain": [
              "$ms\n",
              "$ms$obj_value\n",
              "[1] -306.8124\n",
              "\n",
              "$ms$optimal_rho\n",
              "[1] 0.9981253\n",
              "\n",
              "$ms$m\n",
              "[1] 10000\n",
              "\n",
              "$ms$m0.1\n",
              "[1] 4780\n",
              "\n",
              "$ms$m0.2\n",
              "[1] 5160\n",
              "\n",
              "$ms$m00\n",
              "[1] 4780\n",
              "\n",
              "$ms$m11\n",
              "[1] 4840\n",
              "\n",
              "\n",
              "$cutoffs\n",
              "[1] 0.95 0.75\n"
            ],
            "text/latex": "\\begin{description}\n\\item[\\$ms] \\begin{description}\n\\item[\\$obj\\_value] -306.812392363969\n\\item[\\$optimal\\_rho] 0.998125315234485\n\\item[\\$m] 10000\n\\item[\\$m0.1] 4780\n\\item[\\$m0.2] 5160\n\\item[\\$m00] 4779.99999999999\n\\item[\\$m11] 4839.99999999999\n\\end{description}\n\n\\item[\\$cutoffs] \\begin{enumerate*}\n\\item 0.95\n\\item 0.75\n\\end{enumerate*}\n\n\\end{description}\n",
            "text/markdown": "$ms\n:   $obj_value\n:   -306.812392363969\n$optimal_rho\n:   0.998125315234485\n$m\n:   10000\n$m0.1\n:   4780\n$m0.2\n:   5160\n$m00\n:   4779.99999999999\n$m11\n:   4839.99999999999\n\n\n\n$cutoffs\n:   1. 0.95\n2. 0.75\n\n\n\n\n\n",
            "text/html": [
              "<dl>\n",
              "\t<dt>$ms</dt>\n",
              "\t\t<dd><dl>\n",
              "\t<dt>$obj_value</dt>\n",
              "\t\t<dd>-306.812392363969</dd>\n",
              "\t<dt>$optimal_rho</dt>\n",
              "\t\t<dd>0.998125315234485</dd>\n",
              "\t<dt>$m</dt>\n",
              "\t\t<dd>10000</dd>\n",
              "\t<dt>$m0.1</dt>\n",
              "\t\t<dd>4780</dd>\n",
              "\t<dt>$m0.2</dt>\n",
              "\t\t<dd>5160</dd>\n",
              "\t<dt>$m00</dt>\n",
              "\t\t<dd>4779.99999999999</dd>\n",
              "\t<dt>$m11</dt>\n",
              "\t\t<dd>4839.99999999999</dd>\n",
              "</dl>\n",
              "</dd>\n",
              "\t<dt>$cutoffs</dt>\n",
              "\t\t<dd><style>\n",
              ".list-inline {list-style: none; margin:0; padding: 0}\n",
              ".list-inline>li {display: inline-block}\n",
              ".list-inline>li:not(:last-child)::after {content: \"\\00b7\"; padding: 0 .5ex}\n",
              "</style>\n",
              "<ol class=list-inline><li>0.95</li><li>0.75</li></ol>\n",
              "</dd>\n",
              "</dl>\n"
            ]
          },
          "metadata": {}
        }
      ]
    },
    {
      "cell_type": "markdown",
      "source": [
        "# **Orr, 2012 Method**"
      ],
      "metadata": {
        "id": "rgV-bPr6vrWX"
      }
    },
    {
      "cell_type": "code",
      "source": [
        "estimate.m0s <- function(p1, p2, B=20){\n",
        "  m <- length(p1)\n",
        "\n",
        "  ##find lambda cutoffs using histogram-based method\n",
        "  c1 <- calc.cutoff(p1, B=B, max=1)\n",
        "  c2 <- calc.cutoff(p2, B=B, max=1)\n",
        "\n",
        "  ##estimate m0 for experiment 1\n",
        "  ind1 <- (p1>=c1)\n",
        "  m0.1 <- sum(ind1)/(1-c1)\n",
        "  m0.1 <- min(m0.1, 10000)\n",
        "  \n",
        "\n",
        "  ##estimate m0 for experiment 2  \n",
        "  ind2 <- (p2>=c2)\n",
        "  m0.2 <- sum(ind2)/(1-c2)\n",
        "  m0.2 <- min(m0.2, 10000)\n",
        "\n",
        "  ##estimate m00\n",
        "  ind12 <- ind1 & ind2\n",
        "  nA <- sum(ind12)\n",
        "  pA <- (1-c1)*(1-c2)\n",
        "  m00 <- nA/pA\n",
        "  m00 <- min(m00, 10000)\n",
        "\n",
        "\n",
        "  ##estimate m11\n",
        "  m11 <- sum(m - m0.1 - m0.2 + m00)\n",
        "  if (m00 == 10000 || m0.1 == 10000 || m0.2 == 10000){\n",
        "    m11 = 0\n",
        "  }\n",
        "  \n",
        "  ret <- list()\n",
        "  ret$ms <- c(m, m0.1, m0.2, m11, m00)\n",
        "  names(ret$ms) <- c(\"m\", \"m0.1\", \"m0.2\", \"m11\",\"m00\")\n",
        "  ret$cutoffs <- c(c1, c2)\n",
        "  return(ret)\n",
        "}\n",
        "\n",
        "estimate.m0s(pvals1, pvals2, B=20)"
      ],
      "metadata": {
        "id": "xNiSUz-rv0PG",
        "outputId": "d740e5de-77fd-4e6c-c523-49020bbb6beb",
        "colab": {
          "base_uri": "https://localhost:8080/",
          "height": 113
        }
      },
      "execution_count": null,
      "outputs": [
        {
          "output_type": "display_data",
          "data": {
            "text/plain": [
              "$ms\n",
              "        m      m0.1      m0.2       m11       m00 \n",
              "10000.000  9336.667 10000.000     0.000  9828.070 \n",
              "\n",
              "$cutoffs\n",
              "[1] 0.70 0.05\n"
            ],
            "text/latex": "\\begin{description}\n\\item[\\$ms] \\begin{description*}\n\\item[m] 10000\n\\item[m0.1] 9336.66666666667\n\\item[m0.2] 10000\n\\item[m11] 0\n\\item[m00] 9828.0701754386\n\\end{description*}\n\n\\item[\\$cutoffs] \\begin{enumerate*}\n\\item 0.7\n\\item 0.05\n\\end{enumerate*}\n\n\\end{description}\n",
            "text/markdown": "$ms\n:   m\n:   10000m0.1\n:   9336.66666666667m0.2\n:   10000m11\n:   0m00\n:   9828.0701754386\n\n\n$cutoffs\n:   1. 0.7\n2. 0.05\n\n\n\n\n\n",
            "text/html": [
              "<dl>\n",
              "\t<dt>$ms</dt>\n",
              "\t\t<dd><style>\n",
              ".dl-inline {width: auto; margin:0; padding: 0}\n",
              ".dl-inline>dt, .dl-inline>dd {float: none; width: auto; display: inline-block}\n",
              ".dl-inline>dt::after {content: \":\\0020\"; padding-right: .5ex}\n",
              ".dl-inline>dt:not(:first-of-type) {padding-left: .5ex}\n",
              "</style><dl class=dl-inline><dt>m</dt><dd>10000</dd><dt>m0.1</dt><dd>9336.66666666667</dd><dt>m0.2</dt><dd>10000</dd><dt>m11</dt><dd>0</dd><dt>m00</dt><dd>9828.0701754386</dd></dl>\n",
              "</dd>\n",
              "\t<dt>$cutoffs</dt>\n",
              "\t\t<dd><style>\n",
              ".list-inline {list-style: none; margin:0; padding: 0}\n",
              ".list-inline>li {display: inline-block}\n",
              ".list-inline>li:not(:last-child)::after {content: \"\\00b7\"; padding: 0 .5ex}\n",
              "</style>\n",
              "<ol class=list-inline><li>0.7</li><li>0.05</li></ol>\n",
              "</dd>\n",
              "</dl>\n"
            ]
          },
          "metadata": {}
        }
      ]
    },
    {
      "cell_type": "markdown",
      "source": [
        "# **Intersection Method**"
      ],
      "metadata": {
        "id": "GIufmHJNxHf7"
      }
    },
    {
      "cell_type": "code",
      "source": [
        "adj_pvalue_df <- data.frame(adj_pvalue)\n",
        "# head(adj_pvalue_df)"
      ],
      "metadata": {
        "id": "rMG5q0LR0AiL"
      },
      "execution_count": null,
      "outputs": []
    },
    {
      "cell_type": "code",
      "source": [
        "pvalue_p <- adj_pvalue_df[rowSums(adj_pvalue_df[1]<=0.05), ]\n",
        "pvalue_05 <- length(pvalue_p)\n",
        "#pvalue_05"
      ],
      "metadata": {
        "id": "DXeXTXtv160X"
      },
      "execution_count": null,
      "outputs": []
    },
    {
      "cell_type": "code",
      "source": [
        "limma_p <- adj_limma_pvalue[rowSums(adj_limma_pvalue[1]<=0.05), ]\n",
        "limma_05 <- length(limma_p) \n",
        "limma_05"
      ],
      "metadata": {
        "id": "rookLcfo2d0G",
        "colab": {
          "base_uri": "https://localhost:8080/",
          "height": 34
        },
        "outputId": "b9f34730-c23e-450d-912a-d5a2ca96d94d"
      },
      "execution_count": null,
      "outputs": [
        {
          "output_type": "display_data",
          "data": {
            "text/plain": [
              "[1] 0"
            ],
            "text/latex": "0",
            "text/markdown": "0",
            "text/html": [
              "0"
            ]
          },
          "metadata": {}
        }
      ]
    },
    {
      "cell_type": "code",
      "source": [
        "limma_ttest <- c(adj_pvalue_df, adj_limma_pvalue)\n",
        "limma_ttest <- data.frame(limma_ttest)"
      ],
      "metadata": {
        "id": "Zy-AgKr_ojy9"
      },
      "execution_count": null,
      "outputs": []
    },
    {
      "cell_type": "code",
      "source": [
        "limma_ttest_p <- limma_ttest[rowSums((limma_ttest[1]<=0.05) & (limma_ttest[2]<=0.05)), ]\n",
        "limma_ttest_05 <- nrow(limma_ttest_p)\n",
        "limma_ttest_05"
      ],
      "metadata": {
        "id": "G5Ae8pGmd2Vp",
        "outputId": "12eb772d-5bc2-4dfc-a56b-8a27769a2b27",
        "colab": {
          "base_uri": "https://localhost:8080/",
          "height": 34
        }
      },
      "execution_count": null,
      "outputs": [
        {
          "output_type": "display_data",
          "data": {
            "text/plain": [
              "[1] 0"
            ],
            "text/latex": "0",
            "text/markdown": "0",
            "text/html": [
              "0"
            ]
          },
          "metadata": {}
        }
      ]
    },
    {
      "cell_type": "code",
      "source": [
        "pvalue_p2 <- adj_pvalue_df[rowSums(adj_pvalue_df[1]<=0.1), ]\n",
        "pvalue_1 <- length(pvalue_p2)\n",
        "pvalue_1"
      ],
      "metadata": {
        "id": "uSuCQvWy5OeO",
        "colab": {
          "base_uri": "https://localhost:8080/",
          "height": 34
        },
        "outputId": "a9dc2ea4-29f6-43cf-a68c-d9490d3d7a0d"
      },
      "execution_count": null,
      "outputs": [
        {
          "output_type": "display_data",
          "data": {
            "text/plain": [
              "[1] 0"
            ],
            "text/latex": "0",
            "text/markdown": "0",
            "text/html": [
              "0"
            ]
          },
          "metadata": {}
        }
      ]
    },
    {
      "cell_type": "code",
      "source": [
        "limma_p2 <- adj_limma_pvalue[rowSums(adj_limma_pvalue[1]<=0.1), ]\n",
        "limma_1 <- length(limma_p2) \n",
        "limma_1"
      ],
      "metadata": {
        "id": "m3S1qTa95hUo"
      },
      "execution_count": null,
      "outputs": []
    },
    {
      "cell_type": "code",
      "source": [
        "# write.csv(limma_ttest, \"adj_pvalue_limma.csv\", row.names=FALSE)"
      ],
      "metadata": {
        "id": "lEyFH9QuTuuu"
      },
      "execution_count": null,
      "outputs": []
    },
    {
      "cell_type": "code",
      "source": [
        "limma_ttest_p2 <- limma_ttest[rowSums((limma_ttest[1]<=0.1) & (limma_ttest[2]<=0.1)), ]\n",
        "limma_ttest_1 <- nrow(limma_ttest_p2)\n",
        "limma_ttest_1"
      ],
      "metadata": {
        "id": "xsCqFwy11f0k",
        "outputId": "169d6667-7b51-4255-d485-e74b98a8aadf",
        "colab": {
          "base_uri": "https://localhost:8080/",
          "height": 34
        }
      },
      "execution_count": null,
      "outputs": [
        {
          "output_type": "display_data",
          "data": {
            "text/plain": [
              "[1] 0"
            ],
            "text/latex": "0",
            "text/markdown": "0",
            "text/html": [
              "0"
            ]
          },
          "metadata": {}
        }
      ]
    }
  ]
}