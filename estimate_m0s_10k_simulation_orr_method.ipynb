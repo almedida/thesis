{
  "nbformat": 4,
  "nbformat_minor": 0,
  "metadata": {
    "colab": {
      "name": "Thesis_work_in_colab.ipynb",
      "provenance": [],
      "authorship_tag": "ABX9TyNnRMOpqmW6YC/fxHRvsm+f",
      "include_colab_link": true
    },
    "kernelspec": {
      "name": "ir",
      "display_name": "R"
    },
    "language_info": {
      "name": "R"
    }
  },
  "cells": [
    {
      "cell_type": "markdown",
      "metadata": {
        "id": "view-in-github",
        "colab_type": "text"
      },
      "source": [
        "<a href=\"https://colab.research.google.com/github/almedida/thesis/blob/main/estimate_m0s_10k_simulation_orr_method.ipynb\" target=\"_parent\"><img src=\"https://colab.research.google.com/assets/colab-badge.svg\" alt=\"Open In Colab\"/></a>"
      ]
    },
    {
      "cell_type": "code",
      "metadata": {
        "colab": {
          "base_uri": "https://localhost:8080/"
        },
        "id": "Ja8SOFp28eno",
        "outputId": "5e0c8719-4968-4bcb-8aae-5c4475a289fb"
      },
      "source": [
        "install.packages('pacman')\n",
        "library(pacman)\n",
        "\n",
        "p_load(\"tidyverse\", \"tmvtnorm\" )"
      ],
      "execution_count": 20,
      "outputs": [
        {
          "output_type": "stream",
          "name": "stderr",
          "text": [
            "Installing package into ‘/usr/local/lib/R/site-library’\n",
            "(as ‘lib’ is unspecified)\n",
            "\n"
          ]
        }
      ]
    },
    {
      "cell_type": "markdown",
      "source": [
        "##**Load Dataset**##"
      ],
      "metadata": {
        "id": "4D4Kte3zMakb"
      }
    },
    {
      "cell_type": "code",
      "metadata": {
        "id": "cN1QtLhd8rFo"
      },
      "source": [
        "#load dataset on data_df\n",
        "data_df = read.table(\"ttest_limma_pvalue_10k_sorted.csv\", header= TRUE, sep=\",\")\n",
        "\n",
        "pval_raw = as.data.frame(as.matrix(data_df))\n",
        "pvals1 <- (as.matrix(pval_raw[,1]))\n",
        "pvals2 <- (as.matrix(pval_raw[,2]))\n"
      ],
      "execution_count": 21,
      "outputs": []
    },
    {
      "cell_type": "code",
      "metadata": {
        "colab": {
          "base_uri": "https://localhost:8080/",
          "height": 240
        },
        "id": "jmRnj6oFQKid",
        "outputId": "ff21f6c5-57e3-443e-ed49-4654dc395092"
      },
      "source": [
        "length(pvals1)\n",
        "length(pvals2)\n",
        "\n",
        "#dim(pvals2)\n",
        "head(pvals1, 5)"
      ],
      "execution_count": 22,
      "outputs": [
        {
          "output_type": "display_data",
          "data": {
            "text/plain": [
              "[1] 10000"
            ],
            "text/latex": "10000",
            "text/markdown": "10000",
            "text/html": [
              "10000"
            ]
          },
          "metadata": {}
        },
        {
          "output_type": "display_data",
          "data": {
            "text/plain": [
              "[1] 10000"
            ],
            "text/latex": "10000",
            "text/markdown": "10000",
            "text/html": [
              "10000"
            ]
          },
          "metadata": {}
        },
        {
          "output_type": "display_data",
          "data": {
            "text/plain": [
              "     [,1]       \n",
              "[1,] 0.031585206\n",
              "[2,] 0.000428599\n",
              "[3,] 0.057169023\n",
              "[4,] 0.310835844\n",
              "[5,] 0.018508069"
            ],
            "text/latex": "A matrix: 5 × 1 of type dbl\n\\begin{tabular}{l}\n\t 0.031585206\\\\\n\t 0.000428599\\\\\n\t 0.057169023\\\\\n\t 0.310835844\\\\\n\t 0.018508069\\\\\n\\end{tabular}\n",
            "text/markdown": "\nA matrix: 5 × 1 of type dbl\n\n| 0.031585206 |\n| 0.000428599 |\n| 0.057169023 |\n| 0.310835844 |\n| 0.018508069 |\n\n",
            "text/html": [
              "<table class=\"dataframe\">\n",
              "<caption>A matrix: 5 × 1 of type dbl</caption>\n",
              "<tbody>\n",
              "\t<tr><td>0.031585206</td></tr>\n",
              "\t<tr><td>0.000428599</td></tr>\n",
              "\t<tr><td>0.057169023</td></tr>\n",
              "\t<tr><td>0.310835844</td></tr>\n",
              "\t<tr><td>0.018508069</td></tr>\n",
              "</tbody>\n",
              "</table>\n"
            ]
          },
          "metadata": {}
        }
      ]
    },
    {
      "cell_type": "markdown",
      "source": [
        "##**Calculate cut-off points using Histogram-based method**##"
      ],
      "metadata": {
        "id": "6ZwsPK6YMm14"
      }
    },
    {
      "cell_type": "markdown",
      "source": [
        "calc.cutoff slightly modifies the estimate.m0 function to return the appropriate p-value cutoff where all p-values greater than the cutoff are assumed to come from null cases."
      ],
      "metadata": {
        "id": "3Ons2netM-8S"
      }
    },
    {
      "cell_type": "code",
      "metadata": {
        "id": "zoH1adM1-qzw"
      },
      "source": [
        "calc.cutoff = function(p, B = 20, max=1){\n",
        "\n",
        "  m <- length(p)\n",
        "  m0 <- m\n",
        "  bin <- c(-0.1, (1:B)/B*max)\n",
        "  bin.counts=rep(0,B)\n",
        "\n",
        "  for(i in 1:B){\n",
        "    bin.counts[i]=sum((p>bin[i])&(p<=bin[i+1]))\n",
        "  }\n",
        "\n",
        "  tail.means <- rev(cumsum(rev(bin.counts))/(1:B))\n",
        "  temp <- bin.counts - tail.means\n",
        "  index <- min((1:B)[temp <= 0])\n",
        "  cutoff2 <- (index)/B*max\n",
        "  if(cutoff2 == 1) {cutoff2 <- 1-1/B}\n",
        "\n",
        "  return(cutoff2)\n",
        "\n",
        "}\n"
      ],
      "execution_count": 23,
      "outputs": []
    },
    {
      "cell_type": "code",
      "metadata": {
        "colab": {
          "base_uri": "https://localhost:8080/",
          "height": 97
        },
        "id": "g7H7MMh3QhBW",
        "outputId": "4da200af-dd88-4396-d6e1-36bdd5a7aeb0"
      },
      "source": [
        "cutoff_value1 = calc.cutoff(pvals1, B=20, max=1)\n",
        "cutoff_value2 = calc.cutoff(pvals2, B=20, max=1)\n",
        "\n",
        "cutoff = cbind(c(cutoff_value1), c(cutoff_value2))\n",
        "\n",
        "colnames(cutoff) = c(\"cutoff_value1\", \"cutoff_value2\")\n",
        "\n",
        "cutoff"
      ],
      "execution_count": 24,
      "outputs": [
        {
          "output_type": "display_data",
          "data": {
            "text/plain": [
              "     cutoff_value1 cutoff_value2\n",
              "[1,] 0.3           0.15         "
            ],
            "text/latex": "A matrix: 1 × 2 of type dbl\n\\begin{tabular}{ll}\n cutoff\\_value1 & cutoff\\_value2\\\\\n\\hline\n\t 0.3 & 0.15\\\\\n\\end{tabular}\n",
            "text/markdown": "\nA matrix: 1 × 2 of type dbl\n\n| cutoff_value1 | cutoff_value2 |\n|---|---|\n| 0.3 | 0.15 |\n\n",
            "text/html": [
              "<table class=\"dataframe\">\n",
              "<caption>A matrix: 1 × 2 of type dbl</caption>\n",
              "<thead>\n",
              "\t<tr><th scope=col>cutoff_value1</th><th scope=col>cutoff_value2</th></tr>\n",
              "</thead>\n",
              "<tbody>\n",
              "\t<tr><td>0.3</td><td>0.15</td></tr>\n",
              "</tbody>\n",
              "</table>\n"
            ]
          },
          "metadata": {}
        }
      ]
    },
    {
      "cell_type": "markdown",
      "source": [
        "**Filter dataset using cutoff points**\n",
        "* selecting pvalues in the upper-right quadrant using Histogram-Based method\n",
        "*  defined as lambda1 = cutoffvalue1 and lambda2 = cutoffvalue2 for pvalue 1 and pvalue 2 respectively.\n",
        "*  lambda1, lambda2 - probability of pvalue 1 and pvalue 2 in the upper-right quadrant respectively \n"
      ],
      "metadata": {
        "id": "xEnVerkvNHFa"
      }
    },
    {
      "cell_type": "code",
      "metadata": {
        "id": "4KMrPJxy8wYY",
        "colab": {
          "base_uri": "https://localhost:8080/",
          "height": 269
        },
        "outputId": "a5dc1d5a-59bf-4ef6-e0fc-3f2424b352ca"
      },
      "source": [
        "p_vals = pval_raw  %>% filter(pvalue >=cutoff_value1, limma_pval>=cutoff_value2)\n",
        "\n",
        "dim(p_vals)\n",
        "\n",
        "head(p_vals, 5)\n"
      ],
      "execution_count": 25,
      "outputs": [
        {
          "output_type": "display_data",
          "data": {
            "text/plain": [
              "[1] 6631    2"
            ],
            "text/latex": "\\begin{enumerate*}\n\\item 6631\n\\item 2\n\\end{enumerate*}\n",
            "text/markdown": "1. 6631\n2. 2\n\n\n",
            "text/html": [
              "<style>\n",
              ".list-inline {list-style: none; margin:0; padding: 0}\n",
              ".list-inline>li {display: inline-block}\n",
              ".list-inline>li:not(:last-child)::after {content: \"\\00b7\"; padding: 0 .5ex}\n",
              "</style>\n",
              "<ol class=list-inline><li>6631</li><li>2</li></ol>\n"
            ]
          },
          "metadata": {}
        },
        {
          "output_type": "display_data",
          "data": {
            "text/plain": [
              "  pvalue    limma_pval\n",
              "1 0.3108358 0.4160210 \n",
              "2 0.5207212 0.5490873 \n",
              "3 0.8153381 0.8197118 \n",
              "4 0.6809475 0.6550252 \n",
              "5 0.6465759 0.6798327 "
            ],
            "text/latex": "A data.frame: 5 × 2\n\\begin{tabular}{r|ll}\n  & pvalue & limma\\_pval\\\\\n  & <dbl> & <dbl>\\\\\n\\hline\n\t1 & 0.3108358 & 0.4160210\\\\\n\t2 & 0.5207212 & 0.5490873\\\\\n\t3 & 0.8153381 & 0.8197118\\\\\n\t4 & 0.6809475 & 0.6550252\\\\\n\t5 & 0.6465759 & 0.6798327\\\\\n\\end{tabular}\n",
            "text/markdown": "\nA data.frame: 5 × 2\n\n| <!--/--> | pvalue &lt;dbl&gt; | limma_pval &lt;dbl&gt; |\n|---|---|---|\n| 1 | 0.3108358 | 0.4160210 |\n| 2 | 0.5207212 | 0.5490873 |\n| 3 | 0.8153381 | 0.8197118 |\n| 4 | 0.6809475 | 0.6550252 |\n| 5 | 0.6465759 | 0.6798327 |\n\n",
            "text/html": [
              "<table class=\"dataframe\">\n",
              "<caption>A data.frame: 5 × 2</caption>\n",
              "<thead>\n",
              "\t<tr><th></th><th scope=col>pvalue</th><th scope=col>limma_pval</th></tr>\n",
              "\t<tr><th></th><th scope=col>&lt;dbl&gt;</th><th scope=col>&lt;dbl&gt;</th></tr>\n",
              "</thead>\n",
              "<tbody>\n",
              "\t<tr><th scope=row>1</th><td>0.3108358</td><td>0.4160210</td></tr>\n",
              "\t<tr><th scope=row>2</th><td>0.5207212</td><td>0.5490873</td></tr>\n",
              "\t<tr><th scope=row>3</th><td>0.8153381</td><td>0.8197118</td></tr>\n",
              "\t<tr><th scope=row>4</th><td>0.6809475</td><td>0.6550252</td></tr>\n",
              "\t<tr><th scope=row>5</th><td>0.6465759</td><td>0.6798327</td></tr>\n",
              "</tbody>\n",
              "</table>\n"
            ]
          },
          "metadata": {}
        }
      ]
    },
    {
      "cell_type": "markdown",
      "source": [
        "##**Estimating m00s**##\n",
        "\n",
        "*  m0.1 - DE genes in experiment 1\n",
        "*  m0.2 - DE genes in experiment 2\n",
        "*  m11 - DE genes in both experiments\n",
        "*  m00 - EE genes in both experiments"
      ],
      "metadata": {
        "id": "wHyKLmZ6PbEM"
      }
    },
    {
      "cell_type": "code",
      "metadata": {
        "id": "2iDJiXxl-0xJ"
      },
      "source": [
        "estimate.m0s <- function(p1, p2, B=20){\n",
        "  m <- length(p1)\n",
        "\n",
        "  ##find lambda cutoffs using histogram-based method\n",
        "  c1 <- calc.cutoff(p1, B=B, max=1)\n",
        "  c2 <- calc.cutoff(p2, B=B, max=1)\n",
        "\n",
        "  ##estimate m0 for experiment 1\n",
        "  ind1 <- (p1>=c1)\n",
        "  m0.1 <- sum(ind1)/(1-c1)\n",
        "\n",
        "  if (m0.1 > 10000){\n",
        "    m0.1 = 10000\n",
        "  }\n",
        "\n",
        "  ##estimate m0 for experiment 2  \n",
        "  ind2 <- (p2>=c2)\n",
        "  m0.2 <- sum(ind2)/(1-c2)\n",
        "\n",
        "  if (m0.2 > 10000){\n",
        "    m0.2 = 10000\n",
        "  }\n",
        "\n",
        "  ##estimate m00\n",
        "  ind12 <- ind1 & ind2\n",
        "  nA <- sum(ind12)\n",
        "  pA <- (1-c1)*(1-c2)\n",
        "  m00 <- nA/pA\n",
        "  \n",
        "  if (m00 > 10000){\n",
        "    m00 = 10000\n",
        "  }\n",
        "\n",
        "\n",
        "  ##estimate m11\n",
        "  m11 <- sum(m - m0.1 - m0.2 + m00)\n",
        "  if (m0.1 == 10000 || m0.2 == 10000 || m00 == 10000){\n",
        "    m11 == 0\n",
        "  }\n",
        "  \n",
        "  ret <- list()\n",
        "  ret$ms <- c(m, m0.1, m0.2, m11, m00)\n",
        "  names(ret$ms) <- c(\"m\", \"m0.1\", \"m0.2\", \"m11\",\"m00\")\n",
        "  ret$cutoffs <- c(c1, c2)\n",
        "  return(ret)\n",
        "}"
      ],
      "execution_count": 38,
      "outputs": []
    },
    {
      "cell_type": "code",
      "metadata": {
        "colab": {
          "base_uri": "https://localhost:8080/",
          "height": 113
        },
        "id": "H0JIdvFr_DKM",
        "outputId": "8105f8f4-1523-4b64-b7ac-bd905bb3dc5c"
      },
      "source": [
        "estimate.m0s(pvals1, pvals2, B=20)"
      ],
      "execution_count": 39,
      "outputs": [
        {
          "output_type": "display_data",
          "data": {
            "text/plain": [
              "$ms\n",
              "        m      m0.1      m0.2       m11       m00 \n",
              "10000.000  9472.857  9484.706  1042.437 10000.000 \n",
              "\n",
              "$cutoffs\n",
              "[1] 0.30 0.15\n"
            ],
            "text/latex": "\\begin{description}\n\\item[\\$ms] \\begin{description*}\n\\item[m] 10000\n\\item[m0.1] 9472.85714285714\n\\item[m0.2] 9484.70588235294\n\\item[m11] 1042.43697478992\n\\item[m00] 10000\n\\end{description*}\n\n\\item[\\$cutoffs] \\begin{enumerate*}\n\\item 0.3\n\\item 0.15\n\\end{enumerate*}\n\n\\end{description}\n",
            "text/markdown": "$ms\n:   m\n:   10000m0.1\n:   9472.85714285714m0.2\n:   9484.70588235294m11\n:   1042.43697478992m00\n:   10000\n\n\n$cutoffs\n:   1. 0.3\n2. 0.15\n\n\n\n\n\n",
            "text/html": [
              "<dl>\n",
              "\t<dt>$ms</dt>\n",
              "\t\t<dd><style>\n",
              ".dl-inline {width: auto; margin:0; padding: 0}\n",
              ".dl-inline>dt, .dl-inline>dd {float: none; width: auto; display: inline-block}\n",
              ".dl-inline>dt::after {content: \":\\0020\"; padding-right: .5ex}\n",
              ".dl-inline>dt:not(:first-of-type) {padding-left: .5ex}\n",
              "</style><dl class=dl-inline><dt>m</dt><dd>10000</dd><dt>m0.1</dt><dd>9472.85714285714</dd><dt>m0.2</dt><dd>9484.70588235294</dd><dt>m11</dt><dd>1042.43697478992</dd><dt>m00</dt><dd>10000</dd></dl>\n",
              "</dd>\n",
              "\t<dt>$cutoffs</dt>\n",
              "\t\t<dd><style>\n",
              ".list-inline {list-style: none; margin:0; padding: 0}\n",
              ".list-inline>li {display: inline-block}\n",
              ".list-inline>li:not(:last-child)::after {content: \"\\00b7\"; padding: 0 .5ex}\n",
              "</style>\n",
              "<ol class=list-inline><li>0.3</li><li>0.15</li></ol>\n",
              "</dd>\n",
              "</dl>\n"
            ]
          },
          "metadata": {}
        }
      ]
    }
  ]
}