{
  "nbformat": 4,
  "nbformat_minor": 0,
  "metadata": {
    "colab": {
      "name": "t_test.ipynb",
      "provenance": [],
      "authorship_tag": "ABX9TyMh/Dhp4ODh/XIW7MKfGOFb",
      "include_colab_link": true
    },
    "kernelspec": {
      "name": "ir",
      "display_name": "R"
    },
    "language_info": {
      "name": "R"
    }
  },
  "cells": [
    {
      "cell_type": "markdown",
      "metadata": {
        "id": "view-in-github",
        "colab_type": "text"
      },
      "source": [
        "<a href=\"https://colab.research.google.com/github/almedida/thesis/blob/main/10k_student_ttest.ipynb\" target=\"_parent\"><img src=\"https://colab.research.google.com/assets/colab-badge.svg\" alt=\"Open In Colab\"/></a>"
      ]
    },
    {
      "cell_type": "code",
      "metadata": {
        "colab": {
          "base_uri": "https://localhost:8080/"
        },
        "id": "s2fJk8K3QVPl",
        "outputId": "774685d3-0d49-428d-8b83-5b4cf9ff6e85"
      },
      "source": [
        "install.packages('pacman')\n",
        "library(pacman, devtools)\n",
        "p_load(\"tidyverse\", \"matrixTests\", \"gtools\", \"VennDiagram\")"
      ],
      "execution_count": 1,
      "outputs": [
        {
          "output_type": "stream",
          "name": "stderr",
          "text": [
            "Installing package into ‘/usr/local/lib/R/site-library’\n",
            "(as ‘lib’ is unspecified)\n",
            "\n",
            "Installing package into ‘/usr/local/lib/R/site-library’\n",
            "(as ‘lib’ is unspecified)\n",
            "\n",
            "also installing the dependency ‘matrixStats’\n",
            "\n",
            "\n",
            "\n",
            "matrixTests installed\n",
            "\n",
            "Installing package into ‘/usr/local/lib/R/site-library’\n",
            "(as ‘lib’ is unspecified)\n",
            "\n",
            "\n",
            "gtools installed\n",
            "\n",
            "Installing package into ‘/usr/local/lib/R/site-library’\n",
            "(as ‘lib’ is unspecified)\n",
            "\n",
            "also installing the dependencies ‘formatR’, ‘lambda.r’, ‘futile.options’, ‘futile.logger’\n",
            "\n",
            "\n",
            "\n",
            "VennDiagram installed\n",
            "\n"
          ]
        }
      ]
    },
    {
      "cell_type": "markdown",
      "source": [
        "##**Load Dataset**##"
      ],
      "metadata": {
        "id": "DOFRT2cbQwcH"
      }
    },
    {
      "cell_type": "markdown",
      "source": [
        "Load 10,000 selected genes with randomly selected samples in each group"
      ],
      "metadata": {
        "id": "odzaIwpcHDYC"
      }
    },
    {
      "cell_type": "code",
      "metadata": {
        "id": "ildnWqiRQTvV"
      },
      "source": [
        "tenk_group1_data = read.table(\"10k_untreated_group1_sorted.csv\", header= TRUE, sep=\",\")\n",
        "tenk_group2_data = read.table(\"10k_treated_group2_sorted.csv\", header= TRUE, sep=\",\")"
      ],
      "execution_count": 2,
      "outputs": []
    },
    {
      "cell_type": "code",
      "source": [
        "head(tenk_group1_data)\n",
        "head(tenk_group2_data)"
      ],
      "metadata": {
        "id": "foFeDHW_QX-4",
        "outputId": "e4f91f82-f5b5-45bc-c3bf-442a7792e11b",
        "colab": {
          "base_uri": "https://localhost:8080/",
          "height": 549
        }
      },
      "execution_count": 3,
      "outputs": [
        {
          "output_type": "display_data",
          "data": {
            "text/plain": [
              "  X  GSM1247270 GSM1247369 GSM1247331 GSM1247364\n",
              "1  3 5.817677   6.514915   5.388687   5.782911  \n",
              "2  4 8.853257   8.704396   9.377953   8.732246  \n",
              "3  7 7.013458   7.076799   6.805468   7.029274  \n",
              "4  8 7.360748   7.008969   7.180487   7.098370  \n",
              "5  9 7.324947   7.345208   7.249547   7.282897  \n",
              "6 14 6.301717   5.763372   6.041736   6.394681  "
            ],
            "text/latex": "A data.frame: 6 × 5\n\\begin{tabular}{r|lllll}\n  & X & GSM1247270 & GSM1247369 & GSM1247331 & GSM1247364\\\\\n  & <int> & <dbl> & <dbl> & <dbl> & <dbl>\\\\\n\\hline\n\t1 &  3 & 5.817677 & 6.514915 & 5.388687 & 5.782911\\\\\n\t2 &  4 & 8.853257 & 8.704396 & 9.377953 & 8.732246\\\\\n\t3 &  7 & 7.013458 & 7.076799 & 6.805468 & 7.029274\\\\\n\t4 &  8 & 7.360748 & 7.008969 & 7.180487 & 7.098370\\\\\n\t5 &  9 & 7.324947 & 7.345208 & 7.249547 & 7.282897\\\\\n\t6 & 14 & 6.301717 & 5.763372 & 6.041736 & 6.394681\\\\\n\\end{tabular}\n",
            "text/markdown": "\nA data.frame: 6 × 5\n\n| <!--/--> | X &lt;int&gt; | GSM1247270 &lt;dbl&gt; | GSM1247369 &lt;dbl&gt; | GSM1247331 &lt;dbl&gt; | GSM1247364 &lt;dbl&gt; |\n|---|---|---|---|---|---|\n| 1 |  3 | 5.817677 | 6.514915 | 5.388687 | 5.782911 |\n| 2 |  4 | 8.853257 | 8.704396 | 9.377953 | 8.732246 |\n| 3 |  7 | 7.013458 | 7.076799 | 6.805468 | 7.029274 |\n| 4 |  8 | 7.360748 | 7.008969 | 7.180487 | 7.098370 |\n| 5 |  9 | 7.324947 | 7.345208 | 7.249547 | 7.282897 |\n| 6 | 14 | 6.301717 | 5.763372 | 6.041736 | 6.394681 |\n\n",
            "text/html": [
              "<table class=\"dataframe\">\n",
              "<caption>A data.frame: 6 × 5</caption>\n",
              "<thead>\n",
              "\t<tr><th></th><th scope=col>X</th><th scope=col>GSM1247270</th><th scope=col>GSM1247369</th><th scope=col>GSM1247331</th><th scope=col>GSM1247364</th></tr>\n",
              "\t<tr><th></th><th scope=col>&lt;int&gt;</th><th scope=col>&lt;dbl&gt;</th><th scope=col>&lt;dbl&gt;</th><th scope=col>&lt;dbl&gt;</th><th scope=col>&lt;dbl&gt;</th></tr>\n",
              "</thead>\n",
              "<tbody>\n",
              "\t<tr><th scope=row>1</th><td> 3</td><td>5.817677</td><td>6.514915</td><td>5.388687</td><td>5.782911</td></tr>\n",
              "\t<tr><th scope=row>2</th><td> 4</td><td>8.853257</td><td>8.704396</td><td>9.377953</td><td>8.732246</td></tr>\n",
              "\t<tr><th scope=row>3</th><td> 7</td><td>7.013458</td><td>7.076799</td><td>6.805468</td><td>7.029274</td></tr>\n",
              "\t<tr><th scope=row>4</th><td> 8</td><td>7.360748</td><td>7.008969</td><td>7.180487</td><td>7.098370</td></tr>\n",
              "\t<tr><th scope=row>5</th><td> 9</td><td>7.324947</td><td>7.345208</td><td>7.249547</td><td>7.282897</td></tr>\n",
              "\t<tr><th scope=row>6</th><td>14</td><td>6.301717</td><td>5.763372</td><td>6.041736</td><td>6.394681</td></tr>\n",
              "</tbody>\n",
              "</table>\n"
            ]
          },
          "metadata": {}
        },
        {
          "output_type": "display_data",
          "data": {
            "text/plain": [
              "  X  GSM1247245 GSM1247216 GSM1247412 GSM1247389\n",
              "1  3  7.294158   6.906492   6.250236   6.638433 \n",
              "2  4 10.633180  10.581575  10.010287  10.712774 \n",
              "3  7  7.224860   7.496177   7.548582   6.992288 \n",
              "4  8  6.953448   7.119632   7.192184   6.960319 \n",
              "5  9  7.142798   7.181086   7.268388   7.156984 \n",
              "6 14  5.832879   5.611746   6.014682   5.731933 "
            ],
            "text/latex": "A data.frame: 6 × 5\n\\begin{tabular}{r|lllll}\n  & X & GSM1247245 & GSM1247216 & GSM1247412 & GSM1247389\\\\\n  & <int> & <dbl> & <dbl> & <dbl> & <dbl>\\\\\n\\hline\n\t1 &  3 &  7.294158 &  6.906492 &  6.250236 &  6.638433\\\\\n\t2 &  4 & 10.633180 & 10.581575 & 10.010287 & 10.712774\\\\\n\t3 &  7 &  7.224860 &  7.496177 &  7.548582 &  6.992288\\\\\n\t4 &  8 &  6.953448 &  7.119632 &  7.192184 &  6.960319\\\\\n\t5 &  9 &  7.142798 &  7.181086 &  7.268388 &  7.156984\\\\\n\t6 & 14 &  5.832879 &  5.611746 &  6.014682 &  5.731933\\\\\n\\end{tabular}\n",
            "text/markdown": "\nA data.frame: 6 × 5\n\n| <!--/--> | X &lt;int&gt; | GSM1247245 &lt;dbl&gt; | GSM1247216 &lt;dbl&gt; | GSM1247412 &lt;dbl&gt; | GSM1247389 &lt;dbl&gt; |\n|---|---|---|---|---|---|\n| 1 |  3 |  7.294158 |  6.906492 |  6.250236 |  6.638433 |\n| 2 |  4 | 10.633180 | 10.581575 | 10.010287 | 10.712774 |\n| 3 |  7 |  7.224860 |  7.496177 |  7.548582 |  6.992288 |\n| 4 |  8 |  6.953448 |  7.119632 |  7.192184 |  6.960319 |\n| 5 |  9 |  7.142798 |  7.181086 |  7.268388 |  7.156984 |\n| 6 | 14 |  5.832879 |  5.611746 |  6.014682 |  5.731933 |\n\n",
            "text/html": [
              "<table class=\"dataframe\">\n",
              "<caption>A data.frame: 6 × 5</caption>\n",
              "<thead>\n",
              "\t<tr><th></th><th scope=col>X</th><th scope=col>GSM1247245</th><th scope=col>GSM1247216</th><th scope=col>GSM1247412</th><th scope=col>GSM1247389</th></tr>\n",
              "\t<tr><th></th><th scope=col>&lt;int&gt;</th><th scope=col>&lt;dbl&gt;</th><th scope=col>&lt;dbl&gt;</th><th scope=col>&lt;dbl&gt;</th><th scope=col>&lt;dbl&gt;</th></tr>\n",
              "</thead>\n",
              "<tbody>\n",
              "\t<tr><th scope=row>1</th><td> 3</td><td> 7.294158</td><td> 6.906492</td><td> 6.250236</td><td> 6.638433</td></tr>\n",
              "\t<tr><th scope=row>2</th><td> 4</td><td>10.633180</td><td>10.581575</td><td>10.010287</td><td>10.712774</td></tr>\n",
              "\t<tr><th scope=row>3</th><td> 7</td><td> 7.224860</td><td> 7.496177</td><td> 7.548582</td><td> 6.992288</td></tr>\n",
              "\t<tr><th scope=row>4</th><td> 8</td><td> 6.953448</td><td> 7.119632</td><td> 7.192184</td><td> 6.960319</td></tr>\n",
              "\t<tr><th scope=row>5</th><td> 9</td><td> 7.142798</td><td> 7.181086</td><td> 7.268388</td><td> 7.156984</td></tr>\n",
              "\t<tr><th scope=row>6</th><td>14</td><td> 5.832879</td><td> 5.611746</td><td> 6.014682</td><td> 5.731933</td></tr>\n",
              "</tbody>\n",
              "</table>\n"
            ]
          },
          "metadata": {}
        }
      ]
    },
    {
      "cell_type": "code",
      "source": [
        "tenk_group1_data = tenk_group1_data[-1]\n",
        "tenk_group2_data = tenk_group2_data[-1]"
      ],
      "metadata": {
        "id": "JWYBbQeMIS2h"
      },
      "execution_count": 4,
      "outputs": []
    },
    {
      "cell_type": "code",
      "source": [
        "head(tenk_group1_data)\n",
        "head(tenk_group2_data)"
      ],
      "metadata": {
        "colab": {
          "base_uri": "https://localhost:8080/",
          "height": 549
        },
        "id": "KlzlXvVqJKnW",
        "outputId": "af23e14e-6059-47b3-d13b-82aff5761bed"
      },
      "execution_count": 5,
      "outputs": [
        {
          "output_type": "display_data",
          "data": {
            "text/plain": [
              "  GSM1247270 GSM1247369 GSM1247331 GSM1247364\n",
              "1 5.817677   6.514915   5.388687   5.782911  \n",
              "2 8.853257   8.704396   9.377953   8.732246  \n",
              "3 7.013458   7.076799   6.805468   7.029274  \n",
              "4 7.360748   7.008969   7.180487   7.098370  \n",
              "5 7.324947   7.345208   7.249547   7.282897  \n",
              "6 6.301717   5.763372   6.041736   6.394681  "
            ],
            "text/latex": "A data.frame: 6 × 4\n\\begin{tabular}{r|llll}\n  & GSM1247270 & GSM1247369 & GSM1247331 & GSM1247364\\\\\n  & <dbl> & <dbl> & <dbl> & <dbl>\\\\\n\\hline\n\t1 & 5.817677 & 6.514915 & 5.388687 & 5.782911\\\\\n\t2 & 8.853257 & 8.704396 & 9.377953 & 8.732246\\\\\n\t3 & 7.013458 & 7.076799 & 6.805468 & 7.029274\\\\\n\t4 & 7.360748 & 7.008969 & 7.180487 & 7.098370\\\\\n\t5 & 7.324947 & 7.345208 & 7.249547 & 7.282897\\\\\n\t6 & 6.301717 & 5.763372 & 6.041736 & 6.394681\\\\\n\\end{tabular}\n",
            "text/markdown": "\nA data.frame: 6 × 4\n\n| <!--/--> | GSM1247270 &lt;dbl&gt; | GSM1247369 &lt;dbl&gt; | GSM1247331 &lt;dbl&gt; | GSM1247364 &lt;dbl&gt; |\n|---|---|---|---|---|\n| 1 | 5.817677 | 6.514915 | 5.388687 | 5.782911 |\n| 2 | 8.853257 | 8.704396 | 9.377953 | 8.732246 |\n| 3 | 7.013458 | 7.076799 | 6.805468 | 7.029274 |\n| 4 | 7.360748 | 7.008969 | 7.180487 | 7.098370 |\n| 5 | 7.324947 | 7.345208 | 7.249547 | 7.282897 |\n| 6 | 6.301717 | 5.763372 | 6.041736 | 6.394681 |\n\n",
            "text/html": [
              "<table class=\"dataframe\">\n",
              "<caption>A data.frame: 6 × 4</caption>\n",
              "<thead>\n",
              "\t<tr><th></th><th scope=col>GSM1247270</th><th scope=col>GSM1247369</th><th scope=col>GSM1247331</th><th scope=col>GSM1247364</th></tr>\n",
              "\t<tr><th></th><th scope=col>&lt;dbl&gt;</th><th scope=col>&lt;dbl&gt;</th><th scope=col>&lt;dbl&gt;</th><th scope=col>&lt;dbl&gt;</th></tr>\n",
              "</thead>\n",
              "<tbody>\n",
              "\t<tr><th scope=row>1</th><td>5.817677</td><td>6.514915</td><td>5.388687</td><td>5.782911</td></tr>\n",
              "\t<tr><th scope=row>2</th><td>8.853257</td><td>8.704396</td><td>9.377953</td><td>8.732246</td></tr>\n",
              "\t<tr><th scope=row>3</th><td>7.013458</td><td>7.076799</td><td>6.805468</td><td>7.029274</td></tr>\n",
              "\t<tr><th scope=row>4</th><td>7.360748</td><td>7.008969</td><td>7.180487</td><td>7.098370</td></tr>\n",
              "\t<tr><th scope=row>5</th><td>7.324947</td><td>7.345208</td><td>7.249547</td><td>7.282897</td></tr>\n",
              "\t<tr><th scope=row>6</th><td>6.301717</td><td>5.763372</td><td>6.041736</td><td>6.394681</td></tr>\n",
              "</tbody>\n",
              "</table>\n"
            ]
          },
          "metadata": {}
        },
        {
          "output_type": "display_data",
          "data": {
            "text/plain": [
              "  GSM1247245 GSM1247216 GSM1247412 GSM1247389\n",
              "1  7.294158   6.906492   6.250236   6.638433 \n",
              "2 10.633180  10.581575  10.010287  10.712774 \n",
              "3  7.224860   7.496177   7.548582   6.992288 \n",
              "4  6.953448   7.119632   7.192184   6.960319 \n",
              "5  7.142798   7.181086   7.268388   7.156984 \n",
              "6  5.832879   5.611746   6.014682   5.731933 "
            ],
            "text/latex": "A data.frame: 6 × 4\n\\begin{tabular}{r|llll}\n  & GSM1247245 & GSM1247216 & GSM1247412 & GSM1247389\\\\\n  & <dbl> & <dbl> & <dbl> & <dbl>\\\\\n\\hline\n\t1 &  7.294158 &  6.906492 &  6.250236 &  6.638433\\\\\n\t2 & 10.633180 & 10.581575 & 10.010287 & 10.712774\\\\\n\t3 &  7.224860 &  7.496177 &  7.548582 &  6.992288\\\\\n\t4 &  6.953448 &  7.119632 &  7.192184 &  6.960319\\\\\n\t5 &  7.142798 &  7.181086 &  7.268388 &  7.156984\\\\\n\t6 &  5.832879 &  5.611746 &  6.014682 &  5.731933\\\\\n\\end{tabular}\n",
            "text/markdown": "\nA data.frame: 6 × 4\n\n| <!--/--> | GSM1247245 &lt;dbl&gt; | GSM1247216 &lt;dbl&gt; | GSM1247412 &lt;dbl&gt; | GSM1247389 &lt;dbl&gt; |\n|---|---|---|---|---|\n| 1 |  7.294158 |  6.906492 |  6.250236 |  6.638433 |\n| 2 | 10.633180 | 10.581575 | 10.010287 | 10.712774 |\n| 3 |  7.224860 |  7.496177 |  7.548582 |  6.992288 |\n| 4 |  6.953448 |  7.119632 |  7.192184 |  6.960319 |\n| 5 |  7.142798 |  7.181086 |  7.268388 |  7.156984 |\n| 6 |  5.832879 |  5.611746 |  6.014682 |  5.731933 |\n\n",
            "text/html": [
              "<table class=\"dataframe\">\n",
              "<caption>A data.frame: 6 × 4</caption>\n",
              "<thead>\n",
              "\t<tr><th></th><th scope=col>GSM1247245</th><th scope=col>GSM1247216</th><th scope=col>GSM1247412</th><th scope=col>GSM1247389</th></tr>\n",
              "\t<tr><th></th><th scope=col>&lt;dbl&gt;</th><th scope=col>&lt;dbl&gt;</th><th scope=col>&lt;dbl&gt;</th><th scope=col>&lt;dbl&gt;</th></tr>\n",
              "</thead>\n",
              "<tbody>\n",
              "\t<tr><th scope=row>1</th><td> 7.294158</td><td> 6.906492</td><td> 6.250236</td><td> 6.638433</td></tr>\n",
              "\t<tr><th scope=row>2</th><td>10.633180</td><td>10.581575</td><td>10.010287</td><td>10.712774</td></tr>\n",
              "\t<tr><th scope=row>3</th><td> 7.224860</td><td> 7.496177</td><td> 7.548582</td><td> 6.992288</td></tr>\n",
              "\t<tr><th scope=row>4</th><td> 6.953448</td><td> 7.119632</td><td> 7.192184</td><td> 6.960319</td></tr>\n",
              "\t<tr><th scope=row>5</th><td> 7.142798</td><td> 7.181086</td><td> 7.268388</td><td> 7.156984</td></tr>\n",
              "\t<tr><th scope=row>6</th><td> 5.832879</td><td> 5.611746</td><td> 6.014682</td><td> 5.731933</td></tr>\n",
              "</tbody>\n",
              "</table>\n"
            ]
          },
          "metadata": {}
        }
      ]
    },
    {
      "cell_type": "markdown",
      "source": [
        "##**Extracting p-values using Student's t-test**##"
      ],
      "metadata": {
        "id": "cYu8zHvoV6_E"
      }
    },
    {
      "cell_type": "code",
      "metadata": {
        "id": "AHJC0Vom19gU"
      },
      "source": [
        "tenk_ttest <- row_t_equalvar(tenk_group1_data, tenk_group2_data, alternative = \"two.sided\", mu = 0, conf.level = 0.95)"
      ],
      "execution_count": 6,
      "outputs": []
    },
    {
      "cell_type": "code",
      "source": [
        "head(tenk_ttest)"
      ],
      "metadata": {
        "colab": {
          "base_uri": "https://localhost:8080/",
          "height": 303
        },
        "id": "v_BeUYghHyrt",
        "outputId": "b80ebfa9-928a-4bbc-aa54-03173878aca5"
      },
      "execution_count": 7,
      "outputs": [
        {
          "output_type": "display_data",
          "data": {
            "text/plain": [
              "  obs.x obs.y obs.tot mean.x   mean.y    mean.diff  var.x       var.y      \n",
              "1 4     4     8       5.876048  6.772330 -0.8962822 0.219251154 0.193604818\n",
              "2 4     4     8       8.916963 10.484454 -1.5674914 0.098625133 0.102838727\n",
              "3 4     4     8       6.981250  7.315477 -0.3342269 0.014457528 0.066551000\n",
              "4 4     4     8       7.162143  7.056396  0.1057477 0.022436573 0.014088751\n",
              "5 4     4     8       7.300650  7.187314  0.1133358 0.001834148 0.003171122\n",
              "6 4     4     8       6.125376  5.797810  0.3275665 0.080554626 0.029074297\n",
              "  var.pooled  stderr     df statistic pvalue       conf.low    conf.high \n",
              "1 0.206427986 0.32126935 6  -2.789816 0.0315852063 -1.68240002 -0.1101645\n",
              "2 0.100731930 0.22442363 6  -6.984520 0.0004285995 -2.11663622 -1.0183465\n",
              "3 0.040504264 0.14230999 6  -2.348584 0.0571690227 -0.68244688  0.0139931\n",
              "4 0.018262662 0.09555800 6   1.106634 0.3108358438 -0.12807425  0.3395697\n",
              "5 0.002502635 0.03537397 6   3.203931 0.0185080692  0.02677877  0.1998927\n",
              "6 0.054814461 0.16555129 6   1.978641 0.0952031468 -0.07752292  0.7326559\n",
              "  alternative mean.null conf.level\n",
              "1 two.sided   0         0.95      \n",
              "2 two.sided   0         0.95      \n",
              "3 two.sided   0         0.95      \n",
              "4 two.sided   0         0.95      \n",
              "5 two.sided   0         0.95      \n",
              "6 two.sided   0         0.95      "
            ],
            "text/latex": "A data.frame: 6 × 18\n\\begin{tabular}{r|llllllllllllllllll}\n  & obs.x & obs.y & obs.tot & mean.x & mean.y & mean.diff & var.x & var.y & var.pooled & stderr & df & statistic & pvalue & conf.low & conf.high & alternative & mean.null & conf.level\\\\\n  & <int> & <int> & <int> & <dbl> & <dbl> & <dbl> & <dbl> & <dbl> & <dbl> & <dbl> & <dbl> & <dbl> & <dbl> & <dbl> & <dbl> & <chr> & <dbl> & <dbl>\\\\\n\\hline\n\t1 & 4 & 4 & 8 & 5.876048 &  6.772330 & -0.8962822 & 0.219251154 & 0.193604818 & 0.206427986 & 0.32126935 & 6 & -2.789816 & 0.0315852063 & -1.68240002 & -0.1101645 & two.sided & 0 & 0.95\\\\\n\t2 & 4 & 4 & 8 & 8.916963 & 10.484454 & -1.5674914 & 0.098625133 & 0.102838727 & 0.100731930 & 0.22442363 & 6 & -6.984520 & 0.0004285995 & -2.11663622 & -1.0183465 & two.sided & 0 & 0.95\\\\\n\t3 & 4 & 4 & 8 & 6.981250 &  7.315477 & -0.3342269 & 0.014457528 & 0.066551000 & 0.040504264 & 0.14230999 & 6 & -2.348584 & 0.0571690227 & -0.68244688 &  0.0139931 & two.sided & 0 & 0.95\\\\\n\t4 & 4 & 4 & 8 & 7.162143 &  7.056396 &  0.1057477 & 0.022436573 & 0.014088751 & 0.018262662 & 0.09555800 & 6 &  1.106634 & 0.3108358438 & -0.12807425 &  0.3395697 & two.sided & 0 & 0.95\\\\\n\t5 & 4 & 4 & 8 & 7.300650 &  7.187314 &  0.1133358 & 0.001834148 & 0.003171122 & 0.002502635 & 0.03537397 & 6 &  3.203931 & 0.0185080692 &  0.02677877 &  0.1998927 & two.sided & 0 & 0.95\\\\\n\t6 & 4 & 4 & 8 & 6.125376 &  5.797810 &  0.3275665 & 0.080554626 & 0.029074297 & 0.054814461 & 0.16555129 & 6 &  1.978641 & 0.0952031468 & -0.07752292 &  0.7326559 & two.sided & 0 & 0.95\\\\\n\\end{tabular}\n",
            "text/markdown": "\nA data.frame: 6 × 18\n\n| <!--/--> | obs.x &lt;int&gt; | obs.y &lt;int&gt; | obs.tot &lt;int&gt; | mean.x &lt;dbl&gt; | mean.y &lt;dbl&gt; | mean.diff &lt;dbl&gt; | var.x &lt;dbl&gt; | var.y &lt;dbl&gt; | var.pooled &lt;dbl&gt; | stderr &lt;dbl&gt; | df &lt;dbl&gt; | statistic &lt;dbl&gt; | pvalue &lt;dbl&gt; | conf.low &lt;dbl&gt; | conf.high &lt;dbl&gt; | alternative &lt;chr&gt; | mean.null &lt;dbl&gt; | conf.level &lt;dbl&gt; |\n|---|---|---|---|---|---|---|---|---|---|---|---|---|---|---|---|---|---|---|\n| 1 | 4 | 4 | 8 | 5.876048 |  6.772330 | -0.8962822 | 0.219251154 | 0.193604818 | 0.206427986 | 0.32126935 | 6 | -2.789816 | 0.0315852063 | -1.68240002 | -0.1101645 | two.sided | 0 | 0.95 |\n| 2 | 4 | 4 | 8 | 8.916963 | 10.484454 | -1.5674914 | 0.098625133 | 0.102838727 | 0.100731930 | 0.22442363 | 6 | -6.984520 | 0.0004285995 | -2.11663622 | -1.0183465 | two.sided | 0 | 0.95 |\n| 3 | 4 | 4 | 8 | 6.981250 |  7.315477 | -0.3342269 | 0.014457528 | 0.066551000 | 0.040504264 | 0.14230999 | 6 | -2.348584 | 0.0571690227 | -0.68244688 |  0.0139931 | two.sided | 0 | 0.95 |\n| 4 | 4 | 4 | 8 | 7.162143 |  7.056396 |  0.1057477 | 0.022436573 | 0.014088751 | 0.018262662 | 0.09555800 | 6 |  1.106634 | 0.3108358438 | -0.12807425 |  0.3395697 | two.sided | 0 | 0.95 |\n| 5 | 4 | 4 | 8 | 7.300650 |  7.187314 |  0.1133358 | 0.001834148 | 0.003171122 | 0.002502635 | 0.03537397 | 6 |  3.203931 | 0.0185080692 |  0.02677877 |  0.1998927 | two.sided | 0 | 0.95 |\n| 6 | 4 | 4 | 8 | 6.125376 |  5.797810 |  0.3275665 | 0.080554626 | 0.029074297 | 0.054814461 | 0.16555129 | 6 |  1.978641 | 0.0952031468 | -0.07752292 |  0.7326559 | two.sided | 0 | 0.95 |\n\n",
            "text/html": [
              "<table class=\"dataframe\">\n",
              "<caption>A data.frame: 6 × 18</caption>\n",
              "<thead>\n",
              "\t<tr><th></th><th scope=col>obs.x</th><th scope=col>obs.y</th><th scope=col>obs.tot</th><th scope=col>mean.x</th><th scope=col>mean.y</th><th scope=col>mean.diff</th><th scope=col>var.x</th><th scope=col>var.y</th><th scope=col>var.pooled</th><th scope=col>stderr</th><th scope=col>df</th><th scope=col>statistic</th><th scope=col>pvalue</th><th scope=col>conf.low</th><th scope=col>conf.high</th><th scope=col>alternative</th><th scope=col>mean.null</th><th scope=col>conf.level</th></tr>\n",
              "\t<tr><th></th><th scope=col>&lt;int&gt;</th><th scope=col>&lt;int&gt;</th><th scope=col>&lt;int&gt;</th><th scope=col>&lt;dbl&gt;</th><th scope=col>&lt;dbl&gt;</th><th scope=col>&lt;dbl&gt;</th><th scope=col>&lt;dbl&gt;</th><th scope=col>&lt;dbl&gt;</th><th scope=col>&lt;dbl&gt;</th><th scope=col>&lt;dbl&gt;</th><th scope=col>&lt;dbl&gt;</th><th scope=col>&lt;dbl&gt;</th><th scope=col>&lt;dbl&gt;</th><th scope=col>&lt;dbl&gt;</th><th scope=col>&lt;dbl&gt;</th><th scope=col>&lt;chr&gt;</th><th scope=col>&lt;dbl&gt;</th><th scope=col>&lt;dbl&gt;</th></tr>\n",
              "</thead>\n",
              "<tbody>\n",
              "\t<tr><th scope=row>1</th><td>4</td><td>4</td><td>8</td><td>5.876048</td><td> 6.772330</td><td>-0.8962822</td><td>0.219251154</td><td>0.193604818</td><td>0.206427986</td><td>0.32126935</td><td>6</td><td>-2.789816</td><td>0.0315852063</td><td>-1.68240002</td><td>-0.1101645</td><td>two.sided</td><td>0</td><td>0.95</td></tr>\n",
              "\t<tr><th scope=row>2</th><td>4</td><td>4</td><td>8</td><td>8.916963</td><td>10.484454</td><td>-1.5674914</td><td>0.098625133</td><td>0.102838727</td><td>0.100731930</td><td>0.22442363</td><td>6</td><td>-6.984520</td><td>0.0004285995</td><td>-2.11663622</td><td>-1.0183465</td><td>two.sided</td><td>0</td><td>0.95</td></tr>\n",
              "\t<tr><th scope=row>3</th><td>4</td><td>4</td><td>8</td><td>6.981250</td><td> 7.315477</td><td>-0.3342269</td><td>0.014457528</td><td>0.066551000</td><td>0.040504264</td><td>0.14230999</td><td>6</td><td>-2.348584</td><td>0.0571690227</td><td>-0.68244688</td><td> 0.0139931</td><td>two.sided</td><td>0</td><td>0.95</td></tr>\n",
              "\t<tr><th scope=row>4</th><td>4</td><td>4</td><td>8</td><td>7.162143</td><td> 7.056396</td><td> 0.1057477</td><td>0.022436573</td><td>0.014088751</td><td>0.018262662</td><td>0.09555800</td><td>6</td><td> 1.106634</td><td>0.3108358438</td><td>-0.12807425</td><td> 0.3395697</td><td>two.sided</td><td>0</td><td>0.95</td></tr>\n",
              "\t<tr><th scope=row>5</th><td>4</td><td>4</td><td>8</td><td>7.300650</td><td> 7.187314</td><td> 0.1133358</td><td>0.001834148</td><td>0.003171122</td><td>0.002502635</td><td>0.03537397</td><td>6</td><td> 3.203931</td><td>0.0185080692</td><td> 0.02677877</td><td> 0.1998927</td><td>two.sided</td><td>0</td><td>0.95</td></tr>\n",
              "\t<tr><th scope=row>6</th><td>4</td><td>4</td><td>8</td><td>6.125376</td><td> 5.797810</td><td> 0.3275665</td><td>0.080554626</td><td>0.029074297</td><td>0.054814461</td><td>0.16555129</td><td>6</td><td> 1.978641</td><td>0.0952031468</td><td>-0.07752292</td><td> 0.7326559</td><td>two.sided</td><td>0</td><td>0.95</td></tr>\n",
              "</tbody>\n",
              "</table>\n"
            ]
          },
          "metadata": {}
        }
      ]
    },
    {
      "cell_type": "code",
      "source": [
        "write.csv(tenk_ttest, \"pvalue_10k_sorted_all.csv\", row.names=FALSE)"
      ],
      "metadata": {
        "id": "Eppk3F-tQJWa"
      },
      "execution_count": 8,
      "outputs": []
    },
    {
      "cell_type": "code",
      "metadata": {
        "id": "mu4CQAmUQ6iQ",
        "colab": {
          "base_uri": "https://localhost:8080/",
          "height": 283
        },
        "outputId": "f82bdf28-6bb8-43a9-ebff-95187853c62a"
      },
      "source": [
        "pvalue_10k_sorted <- tenk_ttest[13]\n",
        "head(pvalue_10k_sorted)\n",
        "write.csv(pvalue_10k_sorted, \"pvalue_10k_sorted.csv\", row.names=FALSE)\n",
        "\n"
      ],
      "execution_count": 9,
      "outputs": [
        {
          "output_type": "display_data",
          "data": {
            "text/plain": [
              "  pvalue      \n",
              "1 0.0315852063\n",
              "2 0.0004285995\n",
              "3 0.0571690227\n",
              "4 0.3108358438\n",
              "5 0.0185080692\n",
              "6 0.0952031468"
            ],
            "text/latex": "A data.frame: 6 × 1\n\\begin{tabular}{r|l}\n  & pvalue\\\\\n  & <dbl>\\\\\n\\hline\n\t1 & 0.0315852063\\\\\n\t2 & 0.0004285995\\\\\n\t3 & 0.0571690227\\\\\n\t4 & 0.3108358438\\\\\n\t5 & 0.0185080692\\\\\n\t6 & 0.0952031468\\\\\n\\end{tabular}\n",
            "text/markdown": "\nA data.frame: 6 × 1\n\n| <!--/--> | pvalue &lt;dbl&gt; |\n|---|---|\n| 1 | 0.0315852063 |\n| 2 | 0.0004285995 |\n| 3 | 0.0571690227 |\n| 4 | 0.3108358438 |\n| 5 | 0.0185080692 |\n| 6 | 0.0952031468 |\n\n",
            "text/html": [
              "<table class=\"dataframe\">\n",
              "<caption>A data.frame: 6 × 1</caption>\n",
              "<thead>\n",
              "\t<tr><th></th><th scope=col>pvalue</th></tr>\n",
              "\t<tr><th></th><th scope=col>&lt;dbl&gt;</th></tr>\n",
              "</thead>\n",
              "<tbody>\n",
              "\t<tr><th scope=row>1</th><td>0.0315852063</td></tr>\n",
              "\t<tr><th scope=row>2</th><td>0.0004285995</td></tr>\n",
              "\t<tr><th scope=row>3</th><td>0.0571690227</td></tr>\n",
              "\t<tr><th scope=row>4</th><td>0.3108358438</td></tr>\n",
              "\t<tr><th scope=row>5</th><td>0.0185080692</td></tr>\n",
              "\t<tr><th scope=row>6</th><td>0.0952031468</td></tr>\n",
              "</tbody>\n",
              "</table>\n"
            ]
          },
          "metadata": {}
        }
      ]
    },
    {
      "cell_type": "code",
      "source": [
        "hist_data <- data.matrix(pvalue_10k_sorted)\n",
        "hist(hist_data)"
      ],
      "metadata": {
        "id": "2u7H5SPYs0Sl",
        "outputId": "7ac27a17-ff8a-4262-d915-bb4f30b912b9",
        "colab": {
          "base_uri": "https://localhost:8080/",
          "height": 437
        }
      },
      "execution_count": 15,
      "outputs": [
        {
          "output_type": "display_data",
          "data": {
            "image/png": "[encoded data removed]",
            "text/plain": [
              "Plot with title “Histogram of hist_data”"
            ]
          },
          "metadata": {
            "image/png": {
              "width": 420,
              "height": 420
            }
          }
        }
      ]
    },
    {
      "cell_type": "code",
      "source": [
        "hist(hist2)\n",
        "summary(hist_limma[, 2])"
      ],
      "metadata": {
        "id": "LguEzlOOuQ8S",
        "outputId": "e5e9e3bd-bdbf-4eb7-9379-b5ad26e59e32",
        "colab": {
          "base_uri": "https://localhost:8080/",
          "height": 471
        }
      },
      "execution_count": 29,
      "outputs": [
        {
          "output_type": "display_data",
          "data": {
            "text/plain": [
              "   Min. 1st Qu.  Median    Mean 3rd Qu.    Max. \n",
              " 0.0000  0.2091  0.4758  0.4738  0.7292  0.9999 "
            ]
          },
          "metadata": {}
        },
        {
          "output_type": "display_data",
          "data": {
            "image/png": "[encoded data removed]",
            "text/plain": [
              "Plot with title “Histogram of hist2”"
            ]
          },
          "metadata": {
            "image/png": {
              "width": 420,
              "height": 420
            }
          }
        }
      ]
    },
    {
      "cell_type": "code",
      "source": [
        "hist_limma = read.table(\"ttest_limma_pvalue_10k_sorted.csv\", header= TRUE, sep=\",\")\n",
        "\n",
        "head(hist_limma)\n",
        "hist_data <- data.matrix(pvalue_10k_sorted)\n",
        "\n",
        "hist(hist_data[, 1])\n"
      ],
      "metadata": {
        "id": "H4hKL-ObtYDB",
        "outputId": "9a89c4cc-bac9-47e1-a967-ed4971f2ca9d",
        "colab": {
          "base_uri": "https://localhost:8080/",
          "height": 703
        }
      },
      "execution_count": 25,
      "outputs": [
        {
          "output_type": "display_data",
          "data": {
            "text/plain": [
              "  pvalue      limma_pvalue\n",
              "1 0.031585206 3.62e-09    \n",
              "2 0.000428599 7.23e-07    \n",
              "3 0.057169023 1.16e-06    \n",
              "4 0.310835844 1.38e-06    \n",
              "5 0.018508069 1.49e-06    \n",
              "6 0.095203147 1.55e-06    "
            ],
            "text/latex": "A data.frame: 6 × 2\n\\begin{tabular}{r|ll}\n  & pvalue & limma\\_pvalue\\\\\n  & <dbl> & <dbl>\\\\\n\\hline\n\t1 & 0.031585206 & 3.62e-09\\\\\n\t2 & 0.000428599 & 7.23e-07\\\\\n\t3 & 0.057169023 & 1.16e-06\\\\\n\t4 & 0.310835844 & 1.38e-06\\\\\n\t5 & 0.018508069 & 1.49e-06\\\\\n\t6 & 0.095203147 & 1.55e-06\\\\\n\\end{tabular}\n",
            "text/markdown": "\nA data.frame: 6 × 2\n\n| <!--/--> | pvalue &lt;dbl&gt; | limma_pvalue &lt;dbl&gt; |\n|---|---|---|\n| 1 | 0.031585206 | 3.62e-09 |\n| 2 | 0.000428599 | 7.23e-07 |\n| 3 | 0.057169023 | 1.16e-06 |\n| 4 | 0.310835844 | 1.38e-06 |\n| 5 | 0.018508069 | 1.49e-06 |\n| 6 | 0.095203147 | 1.55e-06 |\n\n",
            "text/html": [
              "<table class=\"dataframe\">\n",
              "<caption>A data.frame: 6 × 2</caption>\n",
              "<thead>\n",
              "\t<tr><th></th><th scope=col>pvalue</th><th scope=col>limma_pvalue</th></tr>\n",
              "\t<tr><th></th><th scope=col>&lt;dbl&gt;</th><th scope=col>&lt;dbl&gt;</th></tr>\n",
              "</thead>\n",
              "<tbody>\n",
              "\t<tr><th scope=row>1</th><td>0.031585206</td><td>3.62e-09</td></tr>\n",
              "\t<tr><th scope=row>2</th><td>0.000428599</td><td>7.23e-07</td></tr>\n",
              "\t<tr><th scope=row>3</th><td>0.057169023</td><td>1.16e-06</td></tr>\n",
              "\t<tr><th scope=row>4</th><td>0.310835844</td><td>1.38e-06</td></tr>\n",
              "\t<tr><th scope=row>5</th><td>0.018508069</td><td>1.49e-06</td></tr>\n",
              "\t<tr><th scope=row>6</th><td>0.095203147</td><td>1.55e-06</td></tr>\n",
              "</tbody>\n",
              "</table>\n"
            ]
          },
          "metadata": {}
        },
        {
          "output_type": "display_data",
          "data": {
            "image/png": "[encoded data removed]",
            "text/plain": [
              "Plot with title “Histogram of hist_data[, 1]”"
            ]
          },
          "metadata": {
            "image/png": {
              "width": 420,
              "height": 420
            }
          }
        }
      ]
    },
    {
      "cell_type": "code",
      "source": [
        "hist2 <- hist_limma[, 2]\n",
        "head(hist2)"
      ],
      "metadata": {
        "id": "q4ZzYzRcuO_4",
        "outputId": "a491b8e6-1e25-4b16-d31b-76c96ca6af55",
        "colab": {
          "base_uri": "https://localhost:8080/",
          "height": 34
        }
      },
      "execution_count": 28,
      "outputs": [
        {
          "output_type": "display_data",
          "data": {
            "text/plain": [
              "[1] 3.62e-09 7.23e-07 1.16e-06 1.38e-06 1.49e-06 1.55e-06"
            ],
            "text/latex": "\\begin{enumerate*}\n\\item 3.62e-09\n\\item 7.23e-07\n\\item 1.16e-06\n\\item 1.38e-06\n\\item 1.49e-06\n\\item 1.55e-06\n\\end{enumerate*}\n",
            "text/markdown": "1. 3.62e-09\n2. 7.23e-07\n3. 1.16e-06\n4. 1.38e-06\n5. 1.49e-06\n6. 1.55e-06\n\n\n",
            "text/html": [
              "<style>\n",
              ".list-inline {list-style: none; margin:0; padding: 0}\n",
              ".list-inline>li {display: inline-block}\n",
              ".list-inline>li:not(:last-child)::after {content: \"\\00b7\"; padding: 0 .5ex}\n",
              "</style>\n",
              "<ol class=list-inline><li>3.62e-09</li><li>7.23e-07</li><li>1.16e-06</li><li>1.38e-06</li><li>1.49e-06</li><li>1.55e-06</li></ol>\n"
            ]
          },
          "metadata": {}
        }
      ]
    },
    {
      "cell_type": "markdown",
      "source": [
        "**Adjusted p-values using Benjamini Hochberg**"
      ],
      "metadata": {
        "id": "naL0O3RWWFyJ"
      }
    },
    {
      "cell_type": "code",
      "metadata": {
        "id": "vOXjDwW3Tbw6"
      },
      "source": [
        "adj_pvalue_10k_sorted <- data.matrix(as.data.frame(as.matrix(pvalue_10k_sorted)), rownames.force = NA)\n"
      ],
      "execution_count": 10,
      "outputs": []
    },
    {
      "cell_type": "code",
      "source": [
        "adj_pvalue_10k_sorted <-p.adjust(adj_pvalue_10k_sorted, \"BH\")"
      ],
      "metadata": {
        "id": "bLLS2nwHcke-"
      },
      "execution_count": 11,
      "outputs": []
    },
    {
      "cell_type": "code",
      "source": [
        "adj_pvalue_10k_sorted_df = data.frame(adj_pvalue_10k_sorted)\n",
        "head(adj_pvalue_10k_sorted_df)\n",
        "write.csv(adj_pvalue_10k_sorted_df, \"adj_pvalue_10k_sorted.csv\", row.names=FALSE)"
      ],
      "metadata": {
        "id": "Utlra-mMhn-l",
        "outputId": "1e9ccc5f-ca52-4227-e5c6-0b90515dc026",
        "colab": {
          "base_uri": "https://localhost:8080/",
          "height": 283
        }
      },
      "execution_count": 12,
      "outputs": [
        {
          "output_type": "display_data",
          "data": {
            "text/plain": [
              "  adj_pvalue_10k_sorted\n",
              "1 0.41791505           \n",
              "2 0.06055271           \n",
              "3 0.54411081           \n",
              "4 0.89498523           \n",
              "5 0.31433861           \n",
              "6 0.67625227           "
            ],
            "text/latex": "A data.frame: 6 × 1\n\\begin{tabular}{r|l}\n  & adj\\_pvalue\\_10k\\_sorted\\\\\n  & <dbl>\\\\\n\\hline\n\t1 & 0.41791505\\\\\n\t2 & 0.06055271\\\\\n\t3 & 0.54411081\\\\\n\t4 & 0.89498523\\\\\n\t5 & 0.31433861\\\\\n\t6 & 0.67625227\\\\\n\\end{tabular}\n",
            "text/markdown": "\nA data.frame: 6 × 1\n\n| <!--/--> | adj_pvalue_10k_sorted &lt;dbl&gt; |\n|---|---|\n| 1 | 0.41791505 |\n| 2 | 0.06055271 |\n| 3 | 0.54411081 |\n| 4 | 0.89498523 |\n| 5 | 0.31433861 |\n| 6 | 0.67625227 |\n\n",
            "text/html": [
              "<table class=\"dataframe\">\n",
              "<caption>A data.frame: 6 × 1</caption>\n",
              "<thead>\n",
              "\t<tr><th></th><th scope=col>adj_pvalue_10k_sorted</th></tr>\n",
              "\t<tr><th></th><th scope=col>&lt;dbl&gt;</th></tr>\n",
              "</thead>\n",
              "<tbody>\n",
              "\t<tr><th scope=row>1</th><td>0.41791505</td></tr>\n",
              "\t<tr><th scope=row>2</th><td>0.06055271</td></tr>\n",
              "\t<tr><th scope=row>3</th><td>0.54411081</td></tr>\n",
              "\t<tr><th scope=row>4</th><td>0.89498523</td></tr>\n",
              "\t<tr><th scope=row>5</th><td>0.31433861</td></tr>\n",
              "\t<tr><th scope=row>6</th><td>0.67625227</td></tr>\n",
              "</tbody>\n",
              "</table>\n"
            ]
          },
          "metadata": {}
        }
      ]
    },
    {
      "cell_type": "markdown",
      "source": [
        "##**Venn Diagram Analysis using Intersection method**##"
      ],
      "metadata": {
        "id": "8IoXZZcDXgDj"
      }
    },
    {
      "cell_type": "code",
      "metadata": {
        "id": "IpGtyK3Nkq8w",
        "outputId": "cbfe30e2-97fe-4587-a111-ec5006806559",
        "colab": {
          "base_uri": "https://localhost:8080/",
          "height": 181
        }
      },
      "source": [
        "data0_01 = read.table(\"data0_01.csv\", header= TRUE, sep=\",\")\n",
        "data0_05 = read.table(\"data0_05.csv\", header= TRUE, sep=\",\")\n",
        "data0_1 = read.table(\"data0_1.csv\", header= TRUE, sep=\",\")"
      ],
      "execution_count": 13,
      "outputs": [
        {
          "output_type": "stream",
          "name": "stderr",
          "text": [
            "Warning message in file(file, \"rt\"):\n",
            "“cannot open file 'data0_01.csv': No such file or directory”\n"
          ]
        },
        {
          "output_type": "error",
          "ename": "ERROR",
          "evalue": "ignored",
          "traceback": [
            "Error in file(file, \"rt\"): cannot open the connection\nTraceback:\n",
            "1. read.table(\"data0_01.csv\", header = TRUE, sep = \",\")",
            "2. file(file, \"rt\")"
          ]
        }
      ]
    },
    {
      "cell_type": "code",
      "metadata": {
        "id": "HXRoAMZ-lYWv"
      },
      "source": [
        "dataKidney0_01 = sum(data0_01[1])\n",
        "dataLiver0_01 = sum(data0_01[2])\n",
        "dataIntersection0_01 = sum(data0_01[3])\n",
        "\n",
        "dataKidney0_05 = sum(data0_05[1])\n",
        "dataLiver0_05 = sum(data0_05[2])\n",
        "dataIntersection0_05 = sum(data0_05[3])\n",
        "\n",
        "dataKidney0_1 = sum(data0_1[1])\n",
        "dataLiver0_1 = sum(data0_1[2])\n",
        "dataIntersection0_1 = sum(data0_1[3])"
      ],
      "execution_count": null,
      "outputs": []
    },
    {
      "cell_type": "code",
      "metadata": {
        "id": "4fqaSKourksn"
      },
      "source": [
        "c(dataKidney0_01, dataLiver0_01, dataIntersection0_01)\n"
      ],
      "execution_count": null,
      "outputs": []
    },
    {
      "cell_type": "code",
      "metadata": {
        "id": "f_adyquWokaC"
      },
      "source": [
        "draw.pairwise.venn(area1=dataKidney0_01, area2=dataLiver0_01,cross.area=dataIntersection0_01,\n",
        "                   category=c(\"Kidney\",\"Liver\"),fill=c(\"Red\",\"Yellow\"),\n",
        "                   )"
      ],
      "execution_count": null,
      "outputs": []
    },
    {
      "cell_type": "code",
      "metadata": {
        "id": "vUM3UMnNzjS1"
      },
      "source": [
        "draw.pairwise.venn(area1=dataKidney0_05, area2=dataLiver0_05,cross.area=dataIntersection0_05,\n",
        "                   category=c(\"Kidney\",\"Liver\"),fill=c(\"Red\",\"Yellow\"),\n",
        "                   )"
      ],
      "execution_count": null,
      "outputs": []
    },
    {
      "cell_type": "code",
      "metadata": {
        "id": "LxEUFfhAzkAM"
      },
      "source": [
        "draw.pairwise.venn(area1=dataKidney0_1, area2=dataLiver0_1,cross.area=dataIntersection0_1,\n",
        "                   category=c(\"Kidney\",\"Liver\"),fill=c(\"Red\",\"Yellow\"),\n",
        "                   )"
      ],
      "execution_count": null,
      "outputs": []
    }
  ]
}