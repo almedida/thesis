{
  "nbformat": 4,
  "nbformat_minor": 0,
  "metadata": {
    "colab": {
      "name": "t_test.ipynb",
      "provenance": [],
      "authorship_tag": "ABX9TyMy9SxmjEHfdTJWuc8R0RZD",
      "include_colab_link": true
    },
    "kernelspec": {
      "name": "ir",
      "display_name": "R"
    },
    "language_info": {
      "name": "R"
    }
  },
  "cells": [
    {
      "cell_type": "markdown",
      "metadata": {
        "id": "view-in-github",
        "colab_type": "text"
      },
      "source": [
        "<a href=\"https://colab.research.google.com/github/almedida/thesis/blob/main/t_test.ipynb\" target=\"_parent\"><img src=\"https://colab.research.google.com/assets/colab-badge.svg\" alt=\"Open In Colab\"/></a>"
      ]
    },
    {
      "cell_type": "code",
      "metadata": {
        "colab": {
          "base_uri": "https://localhost:8080/"
        },
        "id": "s2fJk8K3QVPl",
        "outputId": "847d0038-7703-4d1c-efaa-6551a25b6a83"
      },
      "source": [
        "install.packages('pacman')\n",
        "\n",
        "library(pacman, devtools)\n",
        "\n",
        "p_load(\"tidyverse\", \"matrixTests\")\n"
      ],
      "execution_count": 1,
      "outputs": [
        {
          "output_type": "stream",
          "name": "stderr",
          "text": [
            "Installing package into ‘/usr/local/lib/R/site-library’\n",
            "(as ‘lib’ is unspecified)\n",
            "\n",
            "Installing package into ‘/usr/local/lib/R/site-library’\n",
            "(as ‘lib’ is unspecified)\n",
            "\n",
            "also installing the dependency ‘matrixStats’\n",
            "\n",
            "\n",
            "\n",
            "matrixTests installed\n",
            "\n"
          ]
        }
      ]
    },
    {
      "cell_type": "code",
      "metadata": {
        "id": "ildnWqiRQTvV"
      },
      "source": [
        "\n",
        "#load dataset on data_df\n",
        "kidneyCBAExpr = read.table(\"kidneyCBA.csv\", header= TRUE, sep=\",\")\n",
        "kidneyTechExpr = read.table(\"kidneyTech.csv\", header= TRUE, sep=\",\")\n"
      ],
      "execution_count": 2,
      "outputs": []
    },
    {
      "cell_type": "code",
      "metadata": {
        "id": "5e_h0ARK0vVU"
      },
      "source": [
        "#load dataset on data_df\n",
        "liverCBAExpr = read.table(\"liverCBA.csv\", header= TRUE, sep=\",\")\n",
        "liverTechExpr = read.table(\"liverTech.csv\", header= TRUE, sep=\",\")"
      ],
      "execution_count": 3,
      "outputs": []
    },
    {
      "cell_type": "code",
      "metadata": {
        "id": "PUPOILxkVg-w"
      },
      "source": [
        "kidneyCBA_df <- data.matrix(as.data.frame(as.matrix(kidneyCBAExpr)), rownames.force = NA)\n",
        "\n",
        "kidneyTech_df <- data.matrix(as.data.frame(as.matrix(kidneyTechExpr)), rownames.force = NA)"
      ],
      "execution_count": 4,
      "outputs": []
    },
    {
      "cell_type": "code",
      "metadata": {
        "id": "JtzDasaQ1Zr9"
      },
      "source": [
        "liverCBA_df <- data.matrix(as.data.frame(as.matrix(liverCBAExpr)), rownames.force = NA)\n",
        "\n",
        "liverTech_df <- data.matrix(as.data.frame(as.matrix(liverTechExpr)), rownames.force = NA)"
      ],
      "execution_count": 5,
      "outputs": []
    },
    {
      "cell_type": "code",
      "metadata": {
        "colab": {
          "base_uri": "https://localhost:8080/",
          "height": 445
        },
        "id": "zcN866Y-V1Yq",
        "outputId": "ed7fa167-af0b-4ddc-e134-7ea1a36c0515"
      },
      "source": [
        "head(liverCBA_df, 5)\n",
        "\n",
        "#dim(liverCBA_df)\n",
        "\n",
        "head(liverTech_df, 5)\n",
        "\n",
        "#dim(liver_df)"
      ],
      "execution_count": null,
      "outputs": [
        {
          "output_type": "display_data",
          "data": {
            "text/plain": [
              "     CBA_Liv_Diet_A_d1 CBA_Liv_Diet_A_d2 CBA_Liv_Diet_A_d3 CBA_Liv_Diet_A_d4\n",
              "[1,] 12.027946         12.258315         12.053265         12.413971        \n",
              "[2,] 11.004045         10.918036         11.008520         11.083123        \n",
              "[3,]  5.338915          5.410364          5.440630          5.745109        \n",
              "[4,]  9.831163          9.721065          9.679919          9.736403        \n",
              "[5,]  7.395784          7.707718          7.111960          7.412790        \n",
              "     CBA_Liv_Diet_A_d5 CBA_Liv_Diet_A_d6\n",
              "[1,] 11.808022         12.325518        \n",
              "[2,] 11.279887         11.393132        \n",
              "[3,]  6.001170          6.183407        \n",
              "[4,] 10.028636         10.034891        \n",
              "[5,]  6.909277          6.892930        "
            ],
            "text/latex": "A matrix: 5 × 6 of type dbl\n\\begin{tabular}{llllll}\n CBA\\_Liv\\_Diet\\_A\\_d1 & CBA\\_Liv\\_Diet\\_A\\_d2 & CBA\\_Liv\\_Diet\\_A\\_d3 & CBA\\_Liv\\_Diet\\_A\\_d4 & CBA\\_Liv\\_Diet\\_A\\_d5 & CBA\\_Liv\\_Diet\\_A\\_d6\\\\\n\\hline\n\t 12.027946 & 12.258315 & 12.053265 & 12.413971 & 11.808022 & 12.325518\\\\\n\t 11.004045 & 10.918036 & 11.008520 & 11.083123 & 11.279887 & 11.393132\\\\\n\t  5.338915 &  5.410364 &  5.440630 &  5.745109 &  6.001170 &  6.183407\\\\\n\t  9.831163 &  9.721065 &  9.679919 &  9.736403 & 10.028636 & 10.034891\\\\\n\t  7.395784 &  7.707718 &  7.111960 &  7.412790 &  6.909277 &  6.892930\\\\\n\\end{tabular}\n",
            "text/markdown": "\nA matrix: 5 × 6 of type dbl\n\n| CBA_Liv_Diet_A_d1 | CBA_Liv_Diet_A_d2 | CBA_Liv_Diet_A_d3 | CBA_Liv_Diet_A_d4 | CBA_Liv_Diet_A_d5 | CBA_Liv_Diet_A_d6 |\n|---|---|---|---|---|---|\n| 12.027946 | 12.258315 | 12.053265 | 12.413971 | 11.808022 | 12.325518 |\n| 11.004045 | 10.918036 | 11.008520 | 11.083123 | 11.279887 | 11.393132 |\n|  5.338915 |  5.410364 |  5.440630 |  5.745109 |  6.001170 |  6.183407 |\n|  9.831163 |  9.721065 |  9.679919 |  9.736403 | 10.028636 | 10.034891 |\n|  7.395784 |  7.707718 |  7.111960 |  7.412790 |  6.909277 |  6.892930 |\n\n",
            "text/html": [
              "<table class=\"dataframe\">\n",
              "<caption>A matrix: 5 × 6 of type dbl</caption>\n",
              "<thead>\n",
              "\t<tr><th scope=col>CBA_Liv_Diet_A_d1</th><th scope=col>CBA_Liv_Diet_A_d2</th><th scope=col>CBA_Liv_Diet_A_d3</th><th scope=col>CBA_Liv_Diet_A_d4</th><th scope=col>CBA_Liv_Diet_A_d5</th><th scope=col>CBA_Liv_Diet_A_d6</th></tr>\n",
              "</thead>\n",
              "<tbody>\n",
              "\t<tr><td>12.027946</td><td>12.258315</td><td>12.053265</td><td>12.413971</td><td>11.808022</td><td>12.325518</td></tr>\n",
              "\t<tr><td>11.004045</td><td>10.918036</td><td>11.008520</td><td>11.083123</td><td>11.279887</td><td>11.393132</td></tr>\n",
              "\t<tr><td> 5.338915</td><td> 5.410364</td><td> 5.440630</td><td> 5.745109</td><td> 6.001170</td><td> 6.183407</td></tr>\n",
              "\t<tr><td> 9.831163</td><td> 9.721065</td><td> 9.679919</td><td> 9.736403</td><td>10.028636</td><td>10.034891</td></tr>\n",
              "\t<tr><td> 7.395784</td><td> 7.707718</td><td> 7.111960</td><td> 7.412790</td><td> 6.909277</td><td> 6.892930</td></tr>\n",
              "</tbody>\n",
              "</table>\n"
            ]
          },
          "metadata": {}
        },
        {
          "output_type": "display_data",
          "data": {
            "text/plain": [
              "     Tech_Liv_Diet_A_d1 Tech_Liv_Diet_A_d2 Tech_Liv_Diet_A_d3\n",
              "[1,] 12.428553          12.202266          12.165604         \n",
              "[2,] 11.230598          10.856301          11.038833         \n",
              "[3,]  5.150117           5.254590           4.743771         \n",
              "[4,]  9.686403           9.397575           9.457412         \n",
              "[5,]  6.548385           6.223798           6.690273         \n",
              "     Tech_Liv_Diet_A_d4 Tech_Liv_Diet_A_d5 Tech_Liv_Diet_A_d6\n",
              "[1,] 11.970479          11.997086          12.332918         \n",
              "[2,] 10.841685          10.511835          11.252713         \n",
              "[3,]  5.404009           5.618906           5.485457         \n",
              "[4,]  9.112441           9.228269           9.886885         \n",
              "[5,]  6.080317           6.677899           6.532884         "
            ],
            "text/latex": "A matrix: 5 × 6 of type dbl\n\\begin{tabular}{llllll}\n Tech\\_Liv\\_Diet\\_A\\_d1 & Tech\\_Liv\\_Diet\\_A\\_d2 & Tech\\_Liv\\_Diet\\_A\\_d3 & Tech\\_Liv\\_Diet\\_A\\_d4 & Tech\\_Liv\\_Diet\\_A\\_d5 & Tech\\_Liv\\_Diet\\_A\\_d6\\\\\n\\hline\n\t 12.428553 & 12.202266 & 12.165604 & 11.970479 & 11.997086 & 12.332918\\\\\n\t 11.230598 & 10.856301 & 11.038833 & 10.841685 & 10.511835 & 11.252713\\\\\n\t  5.150117 &  5.254590 &  4.743771 &  5.404009 &  5.618906 &  5.485457\\\\\n\t  9.686403 &  9.397575 &  9.457412 &  9.112441 &  9.228269 &  9.886885\\\\\n\t  6.548385 &  6.223798 &  6.690273 &  6.080317 &  6.677899 &  6.532884\\\\\n\\end{tabular}\n",
            "text/markdown": "\nA matrix: 5 × 6 of type dbl\n\n| Tech_Liv_Diet_A_d1 | Tech_Liv_Diet_A_d2 | Tech_Liv_Diet_A_d3 | Tech_Liv_Diet_A_d4 | Tech_Liv_Diet_A_d5 | Tech_Liv_Diet_A_d6 |\n|---|---|---|---|---|---|\n| 12.428553 | 12.202266 | 12.165604 | 11.970479 | 11.997086 | 12.332918 |\n| 11.230598 | 10.856301 | 11.038833 | 10.841685 | 10.511835 | 11.252713 |\n|  5.150117 |  5.254590 |  4.743771 |  5.404009 |  5.618906 |  5.485457 |\n|  9.686403 |  9.397575 |  9.457412 |  9.112441 |  9.228269 |  9.886885 |\n|  6.548385 |  6.223798 |  6.690273 |  6.080317 |  6.677899 |  6.532884 |\n\n",
            "text/html": [
              "<table class=\"dataframe\">\n",
              "<caption>A matrix: 5 × 6 of type dbl</caption>\n",
              "<thead>\n",
              "\t<tr><th scope=col>Tech_Liv_Diet_A_d1</th><th scope=col>Tech_Liv_Diet_A_d2</th><th scope=col>Tech_Liv_Diet_A_d3</th><th scope=col>Tech_Liv_Diet_A_d4</th><th scope=col>Tech_Liv_Diet_A_d5</th><th scope=col>Tech_Liv_Diet_A_d6</th></tr>\n",
              "</thead>\n",
              "<tbody>\n",
              "\t<tr><td>12.428553</td><td>12.202266</td><td>12.165604</td><td>11.970479</td><td>11.997086</td><td>12.332918</td></tr>\n",
              "\t<tr><td>11.230598</td><td>10.856301</td><td>11.038833</td><td>10.841685</td><td>10.511835</td><td>11.252713</td></tr>\n",
              "\t<tr><td> 5.150117</td><td> 5.254590</td><td> 4.743771</td><td> 5.404009</td><td> 5.618906</td><td> 5.485457</td></tr>\n",
              "\t<tr><td> 9.686403</td><td> 9.397575</td><td> 9.457412</td><td> 9.112441</td><td> 9.228269</td><td> 9.886885</td></tr>\n",
              "\t<tr><td> 6.548385</td><td> 6.223798</td><td> 6.690273</td><td> 6.080317</td><td> 6.677899</td><td> 6.532884</td></tr>\n",
              "</tbody>\n",
              "</table>\n"
            ]
          },
          "metadata": {}
        }
      ]
    },
    {
      "cell_type": "code",
      "metadata": {
        "id": "AHJC0Vom19gU"
      },
      "source": [
        " #liver_df <- data.matrix(liver_df, rownames.force = NA)\n",
        " \n",
        " kidney_ttest <- row_t_equalvar(kidneyCBA_df, kidneyTech_df, alternative = \"two.sided\", mu = 0, conf.level = 0.95)\n",
        "\n",
        " liver_ttest <-  row_t_equalvar(liverCBA_df, liverTech_df, alternative = \"two.sided\", mu = 0, conf.level = 0.95)"
      ],
      "execution_count": 6,
      "outputs": []
    },
    {
      "cell_type": "code",
      "metadata": {
        "id": "d_i39jfNl-7R"
      },
      "source": [
        "#liver_ttest\n",
        "\n",
        "write.csv(kidney_ttest, \"kidney_ttest.csv\")\n",
        "\n",
        "#write.csv(liver_ttest, \"liver_ttest.csv\")"
      ],
      "execution_count": 9,
      "outputs": []
    }
  ]
}