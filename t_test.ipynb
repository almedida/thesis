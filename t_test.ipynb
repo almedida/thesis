{
  "nbformat": 4,
  "nbformat_minor": 0,
  "metadata": {
    "colab": {
      "name": "t_test.ipynb",
      "provenance": [],
      "authorship_tag": "ABX9TyPCDygSKgEK2jUi0IMyL2To",
      "include_colab_link": true
    },
    "kernelspec": {
      "name": "ir",
      "display_name": "R"
    },
    "language_info": {
      "name": "R"
    }
  },
  "cells": [
    {
      "cell_type": "markdown",
      "metadata": {
        "id": "view-in-github",
        "colab_type": "text"
      },
      "source": [
        "<a href=\"https://colab.research.google.com/github/almedida/thesis/blob/main/t_test.ipynb\" target=\"_parent\"><img src=\"https://colab.research.google.com/assets/colab-badge.svg\" alt=\"Open In Colab\"/></a>"
      ]
    },
    {
      "cell_type": "code",
      "metadata": {
        "colab": {
          "base_uri": "https://localhost:8080/"
        },
        "id": "s2fJk8K3QVPl",
        "outputId": "96f2ec4f-4b52-4505-d35d-d0f55015f74c"
      },
      "source": [
        "install.packages('pacman')\n",
        "library(pacman)\n",
        "\n",
        "p_load(\"tidyverse\")\n"
      ],
      "execution_count": 6,
      "outputs": [
        {
          "output_type": "stream",
          "name": "stderr",
          "text": [
            "Installing package into ‘/usr/local/lib/R/site-library’\n",
            "(as ‘lib’ is unspecified)\n",
            "\n"
          ]
        }
      ]
    },
    {
      "cell_type": "code",
      "metadata": {
        "id": "ildnWqiRQTvV"
      },
      "source": [
        "\n",
        "#load dataset on data_df\n",
        "dataExpr = read.table(\"datExprCBA.csv\", header= TRUE, sep=\",\")\n"
      ],
      "execution_count": 31,
      "outputs": []
    },
    {
      "cell_type": "code",
      "metadata": {
        "id": "Rfe0-b6eTW6M"
      },
      "source": [
        "grp <- c(\"CBA_Liv_Con_A_s1\",\"CBA_Liv_Con_A_s2\",\"CBA_Liv_Con_A_s3\",\"CBA_Liv_Con_A_s4\",\"CBA_Liv_Con_A_s5\",\"CBA_Liv_Con_A_s6\",\n",
        "\"CBA_Liv_Diet_A_d1\",\"CBA_Liv_Diet_A_d2\",\"CBA_Liv_Diet_A_d3\",\"CBA_Liv_Diet_A_d4\",\"CBA_Liv_Diet_A_d5\",\"CBA_Liv_Diet_A_d6\",\n",
        "\"CBA-Kid_Con_A_s1\",\"CBA-Kid_Con_A_s2\",\"CBA-Kid_Con_A_s3\",\"CBA-Kid_Con_A_s4\",\"CBA-Kid_Con_A_s5\",\"CBA-Kid_Con_A_s6\",\n",
        "\"CBA-Kid_Diet_A_d1\",\"CBA-Kid_Diet_A_d2\",\"CBA-Kid_Diet_A_d3\",\"CBA-Kid_Diet_A_d5\",\"CBA-Kid_Diet_A_d6\")"
      ],
      "execution_count": 19,
      "outputs": []
    },
    {
      "cell_type": "code",
      "metadata": {
        "id": "PUPOILxkVg-w"
      },
      "source": [
        "dataExprCBA_df <- as.data.frame(as.matrix(dataExpr))"
      ],
      "execution_count": 32,
      "outputs": []
    },
    {
      "cell_type": "code",
      "metadata": {
        "colab": {
          "base_uri": "https://localhost:8080/",
          "height": 272
        },
        "id": "zcN866Y-V1Yq",
        "outputId": "84c3056c-deb5-42c9-f52c-9ccb035633f0"
      },
      "source": [
        "head(dataExprCBA_df, 5)"
      ],
      "execution_count": 33,
      "outputs": [
        {
          "output_type": "display_data",
          "data": {
            "text/plain": [
              "  X        CBA_Liv_Con_A_s1 CBA_Liv_Con_A_s2 CBA_Liv_Con_A_s3 CBA_Liv_Con_A_s4\n",
              "1 AB001539 11.733064        11.811948        12.186571        11.865383       \n",
              "2 AB001926 11.183815        11.573009        11.670170        10.761185       \n",
              "3 AB003147  5.295900         4.965490         5.136521         5.238248       \n",
              "4 AB003503  9.558426         9.591832         9.553392         9.848268       \n",
              "5 AB004048  7.501710         6.974286         7.032823         6.927557       \n",
              "  CBA_Liv_Con_A_s5 CBA_Liv_Con_A_s6 CBA_Liv_Diet_A_d1 CBA_Liv_Diet_A_d2\n",
              "1 11.829552        11.964246        12.027946         12.258315        \n",
              "2 10.923126        11.151019        11.004045         10.918036        \n",
              "3  5.165626         6.021186         5.338915          5.410364        \n",
              "4  9.491318         9.628843         9.831163          9.721065        \n",
              "5  7.995659         7.202555         7.395784          7.707718        \n",
              "  CBA_Liv_Diet_A_d3 ⋯ CBA.Kid_Con_A_s2 CBA.Kid_Con_A_s3 CBA.Kid_Con_A_s4\n",
              "1 12.053265         ⋯ 11.936553        11.683003        11.823132       \n",
              "2 11.008520         ⋯ 12.540704        12.375846        12.541782       \n",
              "3  5.440630         ⋯  5.474626         4.951659         5.349766       \n",
              "4  9.679919         ⋯  8.972986         8.898291         8.848124       \n",
              "5  7.111960         ⋯  6.575190         6.168843         6.798275       \n",
              "  CBA.Kid_Con_A_s5 CBA.Kid_Con_A_s6 CBA.Kid_Diet_A_d1 CBA.Kid_Diet_A_d2\n",
              "1 11.946154        11.674241        11.696268         11.912039        \n",
              "2 12.319808        12.229561        12.105306         12.284002        \n",
              "3  5.374776         5.386558         5.652185          5.799797        \n",
              "4  8.971987         9.303008         9.284600          9.166966        \n",
              "5  6.420040         7.576921         6.379776          8.107456        \n",
              "  CBA.Kid_Diet_A_d3 CBA.Kid_Diet_A_d5 CBA.Kid_Diet_A_d6\n",
              "1 11.670173         11.847655         11.805205        \n",
              "2 12.036367         12.010170         12.144926        \n",
              "3  4.988294          4.661140          5.230747        \n",
              "4  8.923816          8.997590          9.212134        \n",
              "5  6.392961          6.224068          6.303201        "
            ],
            "text/latex": "A data.frame: 5 × 24\n\\begin{tabular}{r|lllllllllllllllllllll}\n  & X & CBA\\_Liv\\_Con\\_A\\_s1 & CBA\\_Liv\\_Con\\_A\\_s2 & CBA\\_Liv\\_Con\\_A\\_s3 & CBA\\_Liv\\_Con\\_A\\_s4 & CBA\\_Liv\\_Con\\_A\\_s5 & CBA\\_Liv\\_Con\\_A\\_s6 & CBA\\_Liv\\_Diet\\_A\\_d1 & CBA\\_Liv\\_Diet\\_A\\_d2 & CBA\\_Liv\\_Diet\\_A\\_d3 & ⋯ & CBA.Kid\\_Con\\_A\\_s2 & CBA.Kid\\_Con\\_A\\_s3 & CBA.Kid\\_Con\\_A\\_s4 & CBA.Kid\\_Con\\_A\\_s5 & CBA.Kid\\_Con\\_A\\_s6 & CBA.Kid\\_Diet\\_A\\_d1 & CBA.Kid\\_Diet\\_A\\_d2 & CBA.Kid\\_Diet\\_A\\_d3 & CBA.Kid\\_Diet\\_A\\_d5 & CBA.Kid\\_Diet\\_A\\_d6\\\\\n  & <chr> & <chr> & <chr> & <chr> & <chr> & <chr> & <chr> & <chr> & <chr> & <chr> & ⋯ & <chr> & <chr> & <chr> & <chr> & <chr> & <chr> & <chr> & <chr> & <chr> & <chr>\\\\\n\\hline\n\t1 & AB001539 & 11.733064 & 11.811948 & 12.186571 & 11.865383 & 11.829552 & 11.964246 & 12.027946 & 12.258315 & 12.053265 & ⋯ & 11.936553 & 11.683003 & 11.823132 & 11.946154 & 11.674241 & 11.696268 & 11.912039 & 11.670173 & 11.847655 & 11.805205\\\\\n\t2 & AB001926 & 11.183815 & 11.573009 & 11.670170 & 10.761185 & 10.923126 & 11.151019 & 11.004045 & 10.918036 & 11.008520 & ⋯ & 12.540704 & 12.375846 & 12.541782 & 12.319808 & 12.229561 & 12.105306 & 12.284002 & 12.036367 & 12.010170 & 12.144926\\\\\n\t3 & AB003147 &  5.295900 &  4.965490 &  5.136521 &  5.238248 &  5.165626 &  6.021186 &  5.338915 &  5.410364 &  5.440630 & ⋯ &  5.474626 &  4.951659 &  5.349766 &  5.374776 &  5.386558 &  5.652185 &  5.799797 &  4.988294 &  4.661140 &  5.230747\\\\\n\t4 & AB003503 &  9.558426 &  9.591832 &  9.553392 &  9.848268 &  9.491318 &  9.628843 &  9.831163 &  9.721065 &  9.679919 & ⋯ &  8.972986 &  8.898291 &  8.848124 &  8.971987 &  9.303008 &  9.284600 &  9.166966 &  8.923816 &  8.997590 &  9.212134\\\\\n\t5 & AB004048 &  7.501710 &  6.974286 &  7.032823 &  6.927557 &  7.995659 &  7.202555 &  7.395784 &  7.707718 &  7.111960 & ⋯ &  6.575190 &  6.168843 &  6.798275 &  6.420040 &  7.576921 &  6.379776 &  8.107456 &  6.392961 &  6.224068 &  6.303201\\\\\n\\end{tabular}\n",
            "text/markdown": "\nA data.frame: 5 × 24\n\n| <!--/--> | X &lt;chr&gt; | CBA_Liv_Con_A_s1 &lt;chr&gt; | CBA_Liv_Con_A_s2 &lt;chr&gt; | CBA_Liv_Con_A_s3 &lt;chr&gt; | CBA_Liv_Con_A_s4 &lt;chr&gt; | CBA_Liv_Con_A_s5 &lt;chr&gt; | CBA_Liv_Con_A_s6 &lt;chr&gt; | CBA_Liv_Diet_A_d1 &lt;chr&gt; | CBA_Liv_Diet_A_d2 &lt;chr&gt; | CBA_Liv_Diet_A_d3 &lt;chr&gt; | ⋯ ⋯ | CBA.Kid_Con_A_s2 &lt;chr&gt; | CBA.Kid_Con_A_s3 &lt;chr&gt; | CBA.Kid_Con_A_s4 &lt;chr&gt; | CBA.Kid_Con_A_s5 &lt;chr&gt; | CBA.Kid_Con_A_s6 &lt;chr&gt; | CBA.Kid_Diet_A_d1 &lt;chr&gt; | CBA.Kid_Diet_A_d2 &lt;chr&gt; | CBA.Kid_Diet_A_d3 &lt;chr&gt; | CBA.Kid_Diet_A_d5 &lt;chr&gt; | CBA.Kid_Diet_A_d6 &lt;chr&gt; |\n|---|---|---|---|---|---|---|---|---|---|---|---|---|---|---|---|---|---|---|---|---|---|\n| 1 | AB001539 | 11.733064 | 11.811948 | 12.186571 | 11.865383 | 11.829552 | 11.964246 | 12.027946 | 12.258315 | 12.053265 | ⋯ | 11.936553 | 11.683003 | 11.823132 | 11.946154 | 11.674241 | 11.696268 | 11.912039 | 11.670173 | 11.847655 | 11.805205 |\n| 2 | AB001926 | 11.183815 | 11.573009 | 11.670170 | 10.761185 | 10.923126 | 11.151019 | 11.004045 | 10.918036 | 11.008520 | ⋯ | 12.540704 | 12.375846 | 12.541782 | 12.319808 | 12.229561 | 12.105306 | 12.284002 | 12.036367 | 12.010170 | 12.144926 |\n| 3 | AB003147 |  5.295900 |  4.965490 |  5.136521 |  5.238248 |  5.165626 |  6.021186 |  5.338915 |  5.410364 |  5.440630 | ⋯ |  5.474626 |  4.951659 |  5.349766 |  5.374776 |  5.386558 |  5.652185 |  5.799797 |  4.988294 |  4.661140 |  5.230747 |\n| 4 | AB003503 |  9.558426 |  9.591832 |  9.553392 |  9.848268 |  9.491318 |  9.628843 |  9.831163 |  9.721065 |  9.679919 | ⋯ |  8.972986 |  8.898291 |  8.848124 |  8.971987 |  9.303008 |  9.284600 |  9.166966 |  8.923816 |  8.997590 |  9.212134 |\n| 5 | AB004048 |  7.501710 |  6.974286 |  7.032823 |  6.927557 |  7.995659 |  7.202555 |  7.395784 |  7.707718 |  7.111960 | ⋯ |  6.575190 |  6.168843 |  6.798275 |  6.420040 |  7.576921 |  6.379776 |  8.107456 |  6.392961 |  6.224068 |  6.303201 |\n\n",
            "text/html": [
              "<table class=\"dataframe\">\n",
              "<caption>A data.frame: 5 × 24</caption>\n",
              "<thead>\n",
              "\t<tr><th></th><th scope=col>X</th><th scope=col>CBA_Liv_Con_A_s1</th><th scope=col>CBA_Liv_Con_A_s2</th><th scope=col>CBA_Liv_Con_A_s3</th><th scope=col>CBA_Liv_Con_A_s4</th><th scope=col>CBA_Liv_Con_A_s5</th><th scope=col>CBA_Liv_Con_A_s6</th><th scope=col>CBA_Liv_Diet_A_d1</th><th scope=col>CBA_Liv_Diet_A_d2</th><th scope=col>CBA_Liv_Diet_A_d3</th><th scope=col>⋯</th><th scope=col>CBA.Kid_Con_A_s2</th><th scope=col>CBA.Kid_Con_A_s3</th><th scope=col>CBA.Kid_Con_A_s4</th><th scope=col>CBA.Kid_Con_A_s5</th><th scope=col>CBA.Kid_Con_A_s6</th><th scope=col>CBA.Kid_Diet_A_d1</th><th scope=col>CBA.Kid_Diet_A_d2</th><th scope=col>CBA.Kid_Diet_A_d3</th><th scope=col>CBA.Kid_Diet_A_d5</th><th scope=col>CBA.Kid_Diet_A_d6</th></tr>\n",
              "\t<tr><th></th><th scope=col>&lt;chr&gt;</th><th scope=col>&lt;chr&gt;</th><th scope=col>&lt;chr&gt;</th><th scope=col>&lt;chr&gt;</th><th scope=col>&lt;chr&gt;</th><th scope=col>&lt;chr&gt;</th><th scope=col>&lt;chr&gt;</th><th scope=col>&lt;chr&gt;</th><th scope=col>&lt;chr&gt;</th><th scope=col>&lt;chr&gt;</th><th scope=col>⋯</th><th scope=col>&lt;chr&gt;</th><th scope=col>&lt;chr&gt;</th><th scope=col>&lt;chr&gt;</th><th scope=col>&lt;chr&gt;</th><th scope=col>&lt;chr&gt;</th><th scope=col>&lt;chr&gt;</th><th scope=col>&lt;chr&gt;</th><th scope=col>&lt;chr&gt;</th><th scope=col>&lt;chr&gt;</th><th scope=col>&lt;chr&gt;</th></tr>\n",
              "</thead>\n",
              "<tbody>\n",
              "\t<tr><th scope=row>1</th><td>AB001539</td><td>11.733064</td><td>11.811948</td><td>12.186571</td><td>11.865383</td><td>11.829552</td><td>11.964246</td><td>12.027946</td><td>12.258315</td><td>12.053265</td><td>⋯</td><td>11.936553</td><td>11.683003</td><td>11.823132</td><td>11.946154</td><td>11.674241</td><td>11.696268</td><td>11.912039</td><td>11.670173</td><td>11.847655</td><td>11.805205</td></tr>\n",
              "\t<tr><th scope=row>2</th><td>AB001926</td><td>11.183815</td><td>11.573009</td><td>11.670170</td><td>10.761185</td><td>10.923126</td><td>11.151019</td><td>11.004045</td><td>10.918036</td><td>11.008520</td><td>⋯</td><td>12.540704</td><td>12.375846</td><td>12.541782</td><td>12.319808</td><td>12.229561</td><td>12.105306</td><td>12.284002</td><td>12.036367</td><td>12.010170</td><td>12.144926</td></tr>\n",
              "\t<tr><th scope=row>3</th><td>AB003147</td><td> 5.295900</td><td> 4.965490</td><td> 5.136521</td><td> 5.238248</td><td> 5.165626</td><td> 6.021186</td><td> 5.338915</td><td> 5.410364</td><td> 5.440630</td><td>⋯</td><td> 5.474626</td><td> 4.951659</td><td> 5.349766</td><td> 5.374776</td><td> 5.386558</td><td> 5.652185</td><td> 5.799797</td><td> 4.988294</td><td> 4.661140</td><td> 5.230747</td></tr>\n",
              "\t<tr><th scope=row>4</th><td>AB003503</td><td> 9.558426</td><td> 9.591832</td><td> 9.553392</td><td> 9.848268</td><td> 9.491318</td><td> 9.628843</td><td> 9.831163</td><td> 9.721065</td><td> 9.679919</td><td>⋯</td><td> 8.972986</td><td> 8.898291</td><td> 8.848124</td><td> 8.971987</td><td> 9.303008</td><td> 9.284600</td><td> 9.166966</td><td> 8.923816</td><td> 8.997590</td><td> 9.212134</td></tr>\n",
              "\t<tr><th scope=row>5</th><td>AB004048</td><td> 7.501710</td><td> 6.974286</td><td> 7.032823</td><td> 6.927557</td><td> 7.995659</td><td> 7.202555</td><td> 7.395784</td><td> 7.707718</td><td> 7.111960</td><td>⋯</td><td> 6.575190</td><td> 6.168843</td><td> 6.798275</td><td> 6.420040</td><td> 7.576921</td><td> 6.379776</td><td> 8.107456</td><td> 6.392961</td><td> 6.224068</td><td> 6.303201</td></tr>\n",
              "</tbody>\n",
              "</table>\n"
            ]
          },
          "metadata": {}
        }
      ]
    },
    {
      "cell_type": "code",
      "metadata": {
        "id": "lYhbyrCQQfxf"
      },
      "source": [
        "res <- dataExprCBA_df %>% \n",
        "  select_if(is.numeric) %>%\n",
        "  map_df(~ broom::tidy(t.test(. ~ grp)), .id = 'var')"
      ],
      "execution_count": 27,
      "outputs": []
    },
    {
      "cell_type": "code",
      "metadata": {
        "colab": {
          "base_uri": "https://localhost:8080/",
          "height": 17
        },
        "id": "inVZZq5XQnv-",
        "outputId": "8e8ac4e2-f569-45cd-b839-2847363ffae6"
      },
      "source": [
        "res"
      ],
      "execution_count": 28,
      "outputs": [
        {
          "output_type": "display_data",
          "data": {
            "text/plain": [
              "<0 x 0 matrix>"
            ],
            "text/latex": "",
            "text/markdown": "",
            "text/html": [
              ""
            ]
          },
          "metadata": {}
        }
      ]
    }
  ]
}