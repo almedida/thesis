{
  "nbformat": 4,
  "nbformat_minor": 0,
  "metadata": {
    "colab": {
      "name": "estimate_m0s.ipynb",
      "provenance": [],
      "collapsed_sections": [],
      "authorship_tag": "ABX9TyOdLJ8cqD/E17a3ynISS5u3",
      "include_colab_link": true
    },
    "kernelspec": {
      "name": "ir",
      "display_name": "R"
    },
    "language_info": {
      "name": "R"
    }
  },
  "cells": [
    {
      "cell_type": "markdown",
      "metadata": {
        "id": "view-in-github",
        "colab_type": "text"
      },
      "source": [
        "<a href=\"https://colab.research.google.com/github/almedida/thesis/blob/main/estimate_m0s_limma.ipynb\" target=\"_parent\"><img src=\"https://colab.research.google.com/assets/colab-badge.svg\" alt=\"Open In Colab\"/></a>"
      ]
    },
    {
      "cell_type": "code",
      "metadata": {
        "colab": {
          "base_uri": "https://localhost:8080/"
        },
        "id": "Ja8SOFp28eno",
        "outputId": "3e7f5e32-d192-4c30-a535-b99fcadef584"
      },
      "source": [
        "install.packages('pacman')\n",
        "install.packages('BiocManager')\n",
        "library(pacman)\n"
      ],
      "execution_count": 1,
      "outputs": [
        {
          "output_type": "stream",
          "name": "stderr",
          "text": [
            "Installing package into ‘/usr/local/lib/R/site-library’\n",
            "(as ‘lib’ is unspecified)\n",
            "\n",
            "Installing package into ‘/usr/local/lib/R/site-library’\n",
            "(as ‘lib’ is unspecified)\n",
            "\n"
          ]
        }
      ]
    },
    {
      "cell_type": "code",
      "metadata": {
        "colab": {
          "base_uri": "https://localhost:8080/"
        },
        "id": "mCS2rKSLjVbJ",
        "outputId": "41fd51c4-ad07-4311-a266-a38ce92a324e"
      },
      "source": [
        "p_load(\"tidyverse\", \"tmvtnorm\" )"
      ],
      "execution_count": 2,
      "outputs": [
        {
          "output_type": "stream",
          "name": "stderr",
          "text": [
            "Installing package into ‘/usr/local/lib/R/site-library’\n",
            "(as ‘lib’ is unspecified)\n",
            "\n",
            "also installing the dependencies ‘zoo’, ‘sandwich’, ‘mvtnorm’, ‘gmm’\n",
            "\n",
            "\n",
            "\n",
            "tmvtnorm installed\n",
            "\n"
          ]
        }
      ]
    },
    {
      "cell_type": "code",
      "metadata": {
        "id": "cN1QtLhd8rFo",
        "colab": {
          "base_uri": "https://localhost:8080/",
          "height": 283
        },
        "outputId": "f8b874ea-e3f0-4375-a7de-36e7aa994638"
      },
      "source": [
        "#load dataset on data_df\n",
        "data_df = read.table(\"limma_pvalues.csv\", header= TRUE, sep=\",\")\n",
        "\n",
        "pval_raw = as.data.frame(as.matrix(data_df))\n",
        "colnames(pval_raw) = c(\"pvals1\", \"pvals2\")\n",
        "pvals1 <- pval_raw[,1]\n",
        "pvals2 <- pval_raw[,2]\n",
        "\n",
        "head(pval_raw)\n"
      ],
      "execution_count": 27,
      "outputs": [
        {
          "output_type": "display_data",
          "data": {
            "text/plain": [
              "  pvals1      pvals2     \n",
              "1 0.000148258 0.793365999\n",
              "2 0.007329965 0.282316334\n",
              "3 0.005895068 0.036705033\n",
              "4 0.000007070 0.017249638\n",
              "5 0.192345236 0.000236963\n",
              "6 0.000072400 0.000003150"
            ],
            "text/latex": "A data.frame: 6 × 2\n\\begin{tabular}{r|ll}\n  & pvals1 & pvals2\\\\\n  & <dbl> & <dbl>\\\\\n\\hline\n\t1 & 0.000148258 & 0.793365999\\\\\n\t2 & 0.007329965 & 0.282316334\\\\\n\t3 & 0.005895068 & 0.036705033\\\\\n\t4 & 0.000007070 & 0.017249638\\\\\n\t5 & 0.192345236 & 0.000236963\\\\\n\t6 & 0.000072400 & 0.000003150\\\\\n\\end{tabular}\n",
            "text/markdown": "\nA data.frame: 6 × 2\n\n| <!--/--> | pvals1 &lt;dbl&gt; | pvals2 &lt;dbl&gt; |\n|---|---|---|\n| 1 | 0.000148258 | 0.793365999 |\n| 2 | 0.007329965 | 0.282316334 |\n| 3 | 0.005895068 | 0.036705033 |\n| 4 | 0.000007070 | 0.017249638 |\n| 5 | 0.192345236 | 0.000236963 |\n| 6 | 0.000072400 | 0.000003150 |\n\n",
            "text/html": [
              "<table class=\"dataframe\">\n",
              "<caption>A data.frame: 6 × 2</caption>\n",
              "<thead>\n",
              "\t<tr><th></th><th scope=col>pvals1</th><th scope=col>pvals2</th></tr>\n",
              "\t<tr><th></th><th scope=col>&lt;dbl&gt;</th><th scope=col>&lt;dbl&gt;</th></tr>\n",
              "</thead>\n",
              "<tbody>\n",
              "\t<tr><th scope=row>1</th><td>0.000148258</td><td>0.793365999</td></tr>\n",
              "\t<tr><th scope=row>2</th><td>0.007329965</td><td>0.282316334</td></tr>\n",
              "\t<tr><th scope=row>3</th><td>0.005895068</td><td>0.036705033</td></tr>\n",
              "\t<tr><th scope=row>4</th><td>0.000007070</td><td>0.017249638</td></tr>\n",
              "\t<tr><th scope=row>5</th><td>0.192345236</td><td>0.000236963</td></tr>\n",
              "\t<tr><th scope=row>6</th><td>0.000072400</td><td>0.000003150</td></tr>\n",
              "</tbody>\n",
              "</table>\n"
            ]
          },
          "metadata": {}
        }
      ]
    },
    {
      "cell_type": "code",
      "metadata": {
        "id": "jmRnj6oFQKid",
        "colab": {
          "base_uri": "https://localhost:8080/",
          "height": 34
        },
        "outputId": "fc8872e5-21a5-45bf-bfae-d01be346ceea"
      },
      "source": [
        "dim(pval_raw)"
      ],
      "execution_count": 28,
      "outputs": [
        {
          "output_type": "display_data",
          "data": {
            "text/plain": [
              "[1] 42575     2"
            ],
            "text/latex": "\\begin{enumerate*}\n\\item 42575\n\\item 2\n\\end{enumerate*}\n",
            "text/markdown": "1. 42575\n2. 2\n\n\n",
            "text/html": [
              "<style>\n",
              ".list-inline {list-style: none; margin:0; padding: 0}\n",
              ".list-inline>li {display: inline-block}\n",
              ".list-inline>li:not(:last-child)::after {content: \"\\00b7\"; padding: 0 .5ex}\n",
              "</style>\n",
              "<ol class=list-inline><li>42575</li><li>2</li></ol>\n"
            ]
          },
          "metadata": {}
        }
      ]
    },
    {
      "cell_type": "code",
      "metadata": {
        "id": "zoH1adM1-qzw"
      },
      "source": [
        "###################################################################################\n",
        "###################################################################################\n",
        "##calc.cutoff slightly modifies the estimate.m0 function to return the appropriate\n",
        "##p-value cutoff where all p-values greater than the cutoff are assumed to come\n",
        "##from null cases.\n",
        "\n",
        "calc.cutoff = function(p, B = 20, max=1){\n",
        "\n",
        "  m <- length(p)\n",
        "  m0 <- m\n",
        "  bin <- c(-0.1, (1:B)/B*max)\n",
        "  bin.counts=rep(0,B)\n",
        "\n",
        "  for(i in 1:B){\n",
        "    bin.counts[i]=sum((p>bin[i])&(p<=bin[i+1]))\n",
        "  }\n",
        "\n",
        "  tail.means <- rev(cumsum(rev(bin.counts))/(1:B))\n",
        "  temp <- bin.counts - tail.means\n",
        "  index <- min((1:B)[temp <= 0])\n",
        "  cutoff2 <- (index)/B*max\n",
        "  if(cutoff2 == 1) {cutoff2 <- 1-1/B}\n",
        "\n",
        "  return(cutoff2)\n",
        "\n",
        "}\n"
      ],
      "execution_count": 29,
      "outputs": []
    },
    {
      "cell_type": "code",
      "metadata": {
        "colab": {
          "base_uri": "https://localhost:8080/",
          "height": 97
        },
        "id": "g7H7MMh3QhBW",
        "outputId": "a6419e2c-f91d-45fd-8623-b1af13e0a993"
      },
      "source": [
        "cutoff_value1 = calc.cutoff(pvals1, B=20, max=1)\n",
        "cutoff_value2 = calc.cutoff(pvals2, B=20, max=1)\n",
        "\n",
        "cutoff = cbind(c(cutoff_value1), c(cutoff_value2))\n",
        "\n",
        "colnames(cutoff) = c(\"cutoff_value1\", \"cutoff_value2\")\n",
        "\n",
        "cutoff"
      ],
      "execution_count": 30,
      "outputs": [
        {
          "output_type": "display_data",
          "data": {
            "text/plain": [
              "     cutoff_value1 cutoff_value2\n",
              "[1,] 0.95          0.8          "
            ],
            "text/latex": "A matrix: 1 × 2 of type dbl\n\\begin{tabular}{ll}\n cutoff\\_value1 & cutoff\\_value2\\\\\n\\hline\n\t 0.95 & 0.8\\\\\n\\end{tabular}\n",
            "text/markdown": "\nA matrix: 1 × 2 of type dbl\n\n| cutoff_value1 | cutoff_value2 |\n|---|---|\n| 0.95 | 0.8 |\n\n",
            "text/html": [
              "<table class=\"dataframe\">\n",
              "<caption>A matrix: 1 × 2 of type dbl</caption>\n",
              "<thead>\n",
              "\t<tr><th scope=col>cutoff_value1</th><th scope=col>cutoff_value2</th></tr>\n",
              "</thead>\n",
              "<tbody>\n",
              "\t<tr><td>0.95</td><td>0.8</td></tr>\n",
              "</tbody>\n",
              "</table>\n"
            ]
          },
          "metadata": {}
        }
      ]
    },
    {
      "cell_type": "code",
      "metadata": {
        "id": "4KMrPJxy8wYY"
      },
      "source": [
        "#filter dataset using cutoff points\n",
        "#pvalsB and pvalsM are column names (for pvalues) of the data set for this test(to be changed to column names of the loaded data set)\n",
        "\n",
        "# selecting pvalues in the upper-right quadrant using Histogram Based Method by Orr et al. (2012)\n",
        "#defined as lambda1 = cutoffvalue1 and lambda2 = cutoffvalue2 for BS and M respectively.\n",
        "#lambda1, lambda2 - probability of pvalsB and pvalsM in the upper-right quadrant respectively \n",
        "\n",
        "\n",
        "p_vals = pval_raw  %>% filter(pvals1 >=cutoff_value1, pvals2>=cutoff_value2)\n",
        "\n",
        "#pvalsK = pval_raw[1] %>% filter(pvalue_kidney >= cutoff_value1)\n",
        "#pvalsL = pval_raw[2]  %>% filter(pvalue_liver >= cutoff_value2)\n",
        "\n",
        "# dim(p_vals)\n",
        "# dim(pvalsK)\n",
        "# dim(pvalsL)\n",
        "\n",
        "# head(pvalsK)\n",
        "# head(pvalsL)\n"
      ],
      "execution_count": 31,
      "outputs": []
    },
    {
      "cell_type": "code",
      "metadata": {
        "id": "qVEzgfqyurrU",
        "colab": {
          "base_uri": "https://localhost:8080/",
          "height": 300
        },
        "outputId": "1dc48458-65d0-4bc5-e755-1623b2f23e23"
      },
      "source": [
        "head(p_vals)\n",
        "dim(p_vals)"
      ],
      "execution_count": 32,
      "outputs": [
        {
          "output_type": "display_data",
          "data": {
            "text/plain": [
              "  pvals1    pvals2   \n",
              "1 0.9700436 0.9333245\n",
              "2 0.9522237 0.8221438\n",
              "3 0.9500968 0.8292286\n",
              "4 0.9627940 0.8703365\n",
              "5 0.9675548 0.8268452\n",
              "6 0.9762841 0.8324076"
            ],
            "text/latex": "A data.frame: 6 × 2\n\\begin{tabular}{r|ll}\n  & pvals1 & pvals2\\\\\n  & <dbl> & <dbl>\\\\\n\\hline\n\t1 & 0.9700436 & 0.9333245\\\\\n\t2 & 0.9522237 & 0.8221438\\\\\n\t3 & 0.9500968 & 0.8292286\\\\\n\t4 & 0.9627940 & 0.8703365\\\\\n\t5 & 0.9675548 & 0.8268452\\\\\n\t6 & 0.9762841 & 0.8324076\\\\\n\\end{tabular}\n",
            "text/markdown": "\nA data.frame: 6 × 2\n\n| <!--/--> | pvals1 &lt;dbl&gt; | pvals2 &lt;dbl&gt; |\n|---|---|---|\n| 1 | 0.9700436 | 0.9333245 |\n| 2 | 0.9522237 | 0.8221438 |\n| 3 | 0.9500968 | 0.8292286 |\n| 4 | 0.9627940 | 0.8703365 |\n| 5 | 0.9675548 | 0.8268452 |\n| 6 | 0.9762841 | 0.8324076 |\n\n",
            "text/html": [
              "<table class=\"dataframe\">\n",
              "<caption>A data.frame: 6 × 2</caption>\n",
              "<thead>\n",
              "\t<tr><th></th><th scope=col>pvals1</th><th scope=col>pvals2</th></tr>\n",
              "\t<tr><th></th><th scope=col>&lt;dbl&gt;</th><th scope=col>&lt;dbl&gt;</th></tr>\n",
              "</thead>\n",
              "<tbody>\n",
              "\t<tr><th scope=row>1</th><td>0.9700436</td><td>0.9333245</td></tr>\n",
              "\t<tr><th scope=row>2</th><td>0.9522237</td><td>0.8221438</td></tr>\n",
              "\t<tr><th scope=row>3</th><td>0.9500968</td><td>0.8292286</td></tr>\n",
              "\t<tr><th scope=row>4</th><td>0.9627940</td><td>0.8703365</td></tr>\n",
              "\t<tr><th scope=row>5</th><td>0.9675548</td><td>0.8268452</td></tr>\n",
              "\t<tr><th scope=row>6</th><td>0.9762841</td><td>0.8324076</td></tr>\n",
              "</tbody>\n",
              "</table>\n"
            ]
          },
          "metadata": {}
        },
        {
          "output_type": "display_data",
          "data": {
            "text/plain": [
              "[1] 33  2"
            ],
            "text/latex": "\\begin{enumerate*}\n\\item 33\n\\item 2\n\\end{enumerate*}\n",
            "text/markdown": "1. 33\n2. 2\n\n\n",
            "text/html": [
              "<style>\n",
              ".list-inline {list-style: none; margin:0; padding: 0}\n",
              ".list-inline>li {display: inline-block}\n",
              ".list-inline>li:not(:last-child)::after {content: \"\\00b7\"; padding: 0 .5ex}\n",
              "</style>\n",
              "<ol class=list-inline><li>33</li><li>2</li></ol>\n"
            ]
          },
          "metadata": {}
        }
      ]
    },
    {
      "cell_type": "code",
      "metadata": {
        "id": "BGTT4IE78xeB",
        "colab": {
          "base_uri": "https://localhost:8080/",
          "height": 283
        },
        "outputId": "61a2751d-1cbc-40d5-d330-e58c62186a99"
      },
      "source": [
        "# convert selected pvalues to z values\n",
        "z_val = as.data.frame(qnorm(as.matrix(p_vals), lower.tail = TRUE))\n",
        "colnames(z_val) = c(\"zvals1\", \"zvals2\")\n",
        "\n",
        "head(z_val)\n"
      ],
      "execution_count": 33,
      "outputs": [
        {
          "output_type": "display_data",
          "data": {
            "text/plain": [
              "  zvals1   zvals2   \n",
              "1 1.881435 1.5010180\n",
              "2 1.666808 0.9235660\n",
              "3 1.645793 0.9511214\n",
              "4 1.784072 1.1279831\n",
              "5 1.846012 0.9417714\n",
              "6 1.982424 0.9637230"
            ],
            "text/latex": "A data.frame: 6 × 2\n\\begin{tabular}{r|ll}\n  & zvals1 & zvals2\\\\\n  & <dbl> & <dbl>\\\\\n\\hline\n\t1 & 1.881435 & 1.5010180\\\\\n\t2 & 1.666808 & 0.9235660\\\\\n\t3 & 1.645793 & 0.9511214\\\\\n\t4 & 1.784072 & 1.1279831\\\\\n\t5 & 1.846012 & 0.9417714\\\\\n\t6 & 1.982424 & 0.9637230\\\\\n\\end{tabular}\n",
            "text/markdown": "\nA data.frame: 6 × 2\n\n| <!--/--> | zvals1 &lt;dbl&gt; | zvals2 &lt;dbl&gt; |\n|---|---|---|\n| 1 | 1.881435 | 1.5010180 |\n| 2 | 1.666808 | 0.9235660 |\n| 3 | 1.645793 | 0.9511214 |\n| 4 | 1.784072 | 1.1279831 |\n| 5 | 1.846012 | 0.9417714 |\n| 6 | 1.982424 | 0.9637230 |\n\n",
            "text/html": [
              "<table class=\"dataframe\">\n",
              "<caption>A data.frame: 6 × 2</caption>\n",
              "<thead>\n",
              "\t<tr><th></th><th scope=col>zvals1</th><th scope=col>zvals2</th></tr>\n",
              "\t<tr><th></th><th scope=col>&lt;dbl&gt;</th><th scope=col>&lt;dbl&gt;</th></tr>\n",
              "</thead>\n",
              "<tbody>\n",
              "\t<tr><th scope=row>1</th><td>1.881435</td><td>1.5010180</td></tr>\n",
              "\t<tr><th scope=row>2</th><td>1.666808</td><td>0.9235660</td></tr>\n",
              "\t<tr><th scope=row>3</th><td>1.645793</td><td>0.9511214</td></tr>\n",
              "\t<tr><th scope=row>4</th><td>1.784072</td><td>1.1279831</td></tr>\n",
              "\t<tr><th scope=row>5</th><td>1.846012</td><td>0.9417714</td></tr>\n",
              "\t<tr><th scope=row>6</th><td>1.982424</td><td>0.9637230</td></tr>\n",
              "</tbody>\n",
              "</table>\n"
            ]
          },
          "metadata": {}
        }
      ]
    },
    {
      "cell_type": "code",
      "metadata": {
        "id": "HAyzGSTiU7Wi",
        "colab": {
          "base_uri": "https://localhost:8080/",
          "height": 269
        },
        "outputId": "2b2f354e-993e-4695-f64c-ea366185ce51"
      },
      "source": [
        "zvals1 <- (as.data.frame(as.matrix(z_val[,1])))\n",
        "zvals2 <- (as.data.frame(as.matrix(z_val[,2])))\n",
        "\n",
        "head(zvals1, 5)"
      ],
      "execution_count": 34,
      "outputs": [
        {
          "output_type": "display_data",
          "data": {
            "text/plain": [
              "  V1      \n",
              "1 1.881435\n",
              "2 1.666808\n",
              "3 1.645793\n",
              "4 1.784072\n",
              "5 1.846012"
            ],
            "text/latex": "A data.frame: 5 × 1\n\\begin{tabular}{r|l}\n  & V1\\\\\n  & <dbl>\\\\\n\\hline\n\t1 & 1.881435\\\\\n\t2 & 1.666808\\\\\n\t3 & 1.645793\\\\\n\t4 & 1.784072\\\\\n\t5 & 1.846012\\\\\n\\end{tabular}\n",
            "text/markdown": "\nA data.frame: 5 × 1\n\n| <!--/--> | V1 &lt;dbl&gt; |\n|---|---|\n| 1 | 1.881435 |\n| 2 | 1.666808 |\n| 3 | 1.645793 |\n| 4 | 1.784072 |\n| 5 | 1.846012 |\n\n",
            "text/html": [
              "<table class=\"dataframe\">\n",
              "<caption>A data.frame: 5 × 1</caption>\n",
              "<thead>\n",
              "\t<tr><th></th><th scope=col>V1</th></tr>\n",
              "\t<tr><th></th><th scope=col>&lt;dbl&gt;</th></tr>\n",
              "</thead>\n",
              "<tbody>\n",
              "\t<tr><th scope=row>1</th><td>1.881435</td></tr>\n",
              "\t<tr><th scope=row>2</th><td>1.666808</td></tr>\n",
              "\t<tr><th scope=row>3</th><td>1.645793</td></tr>\n",
              "\t<tr><th scope=row>4</th><td>1.784072</td></tr>\n",
              "\t<tr><th scope=row>5</th><td>1.846012</td></tr>\n",
              "</tbody>\n",
              "</table>\n"
            ]
          },
          "metadata": {}
        }
      ]
    },
    {
      "cell_type": "code",
      "metadata": {
        "id": "QSWdnQjS82iS"
      },
      "source": [
        "# convert lambda(truncation points) to z values\n",
        "z_val_extremums = as.data.frame(qnorm(as.matrix(cbind(c(cutoff_value1,1),c(cutoff_value2,1))), lower.tail = TRUE))\n",
        "\n",
        "#selecting the lower bounds (minimum z values) of the bivariate z values\n",
        "min_z1 <- z_val_extremums[1,1]\n",
        "min_z2 <- z_val_extremums[1,2]"
      ],
      "execution_count": 35,
      "outputs": []
    },
    {
      "cell_type": "code",
      "metadata": {
        "colab": {
          "base_uri": "https://localhost:8080/",
          "height": 159
        },
        "id": "LIlTr2Sd-dKH",
        "outputId": "4c410d4e-b4a9-44c1-b68c-8b93a1c3c33c"
      },
      "source": [
        "\n",
        "head(z_val_extremums, 2)"
      ],
      "execution_count": 36,
      "outputs": [
        {
          "output_type": "display_data",
          "data": {
            "text/plain": [
              "  V1       V2       \n",
              "1 1.644854 0.8416212\n",
              "2      Inf       Inf"
            ],
            "text/latex": "A data.frame: 2 × 2\n\\begin{tabular}{r|ll}\n  & V1 & V2\\\\\n  & <dbl> & <dbl>\\\\\n\\hline\n\t1 & 1.644854 & 0.8416212\\\\\n\t2 &      Inf &       Inf\\\\\n\\end{tabular}\n",
            "text/markdown": "\nA data.frame: 2 × 2\n\n| <!--/--> | V1 &lt;dbl&gt; | V2 &lt;dbl&gt; |\n|---|---|---|\n| 1 | 1.644854 | 0.8416212 |\n| 2 |      Inf |       Inf |\n\n",
            "text/html": [
              "<table class=\"dataframe\">\n",
              "<caption>A data.frame: 2 × 2</caption>\n",
              "<thead>\n",
              "\t<tr><th></th><th scope=col>V1</th><th scope=col>V2</th></tr>\n",
              "\t<tr><th></th><th scope=col>&lt;dbl&gt;</th><th scope=col>&lt;dbl&gt;</th></tr>\n",
              "</thead>\n",
              "<tbody>\n",
              "\t<tr><th scope=row>1</th><td>1.644854</td><td>0.8416212</td></tr>\n",
              "\t<tr><th scope=row>2</th><td>     Inf</td><td>      Inf</td></tr>\n",
              "</tbody>\n",
              "</table>\n"
            ]
          },
          "metadata": {}
        }
      ]
    },
    {
      "cell_type": "code",
      "metadata": {
        "id": "2iDJiXxl-0xJ"
      },
      "source": [
        "###################################################################################\n",
        "###################################################################################\n",
        "\n",
        "estimate.m0s <- function(p1, p2, B=20){\n",
        "  m <- length(p1)\n",
        "\n",
        "  ##find lambda cutoffs using histogram-based method\n",
        "  c1 <- calc.cutoff(p1, B=B, max=1)\n",
        "  c2 <- calc.cutoff(p2, B=B, max=1)\n",
        "\n",
        "  ##estimate m0 for experiment 1\n",
        "  ind1 <- (p1>=c1)\n",
        "  m0.1 <- sum(ind1)/(1-c1)\n",
        "\n",
        "  ##estimate m0 for experiment 2  \n",
        "  ind2 <- (p2>=c2)\n",
        "  m0.2 <- sum(ind2)/(1-c2)\n",
        "\n",
        "\n",
        "  ##estimate m00\n",
        "  ind12 <- ind1 & ind2\n",
        "  nA <- sum(ind12)\n",
        "  #pA <- (1-c1)*(1-c2)\n",
        "  #m00 <- nA/pA\n",
        "  \n",
        "  \n",
        "  # density function for each row of the bivariate z values (x) and \n",
        "  # estimated parameters(rho)\n",
        "  density = function(x, rho)\n",
        "  {\n",
        "    sigma = matrix(c(1, rho, rho, 1), 2, 2)\n",
        "    z = dtmvnorm(x, mean = c(0,0), sigma = sigma, lower = c(min_z1, min_z2))\n",
        "  }\n",
        "  \n",
        "  # log likelihood of the joint densities\n",
        "  log_likelihood_fn = function(rho){\n",
        "    \n",
        "    joint_likelihood = z_val %>% split(.$zvals2) %>% map_dfr(~density(c(.$zvals1,.$zvals2),rho))    \n",
        "    return(-sum(log(joint_likelihood)))\n",
        "    \n",
        "  }\n",
        "  \n",
        "  #MLE of the log likelihood function\n",
        "  optimal_rho = optimize(log_likelihood_fn, lower = -1, upper = 1 )\n",
        "  optimal_rho = as.data.frame(optimal_rho)\n",
        "  \n",
        "  #probability of a random variable greater than cutoff values \n",
        "  rho = as.numeric(optimal_rho[1])\n",
        "  pA = pmvnorm(lower=c(min_z1, min_z2), upper=c(Inf, Inf), mean=c(0,0), sigma = matrix(c(1, rho, rho, 1), 2, 2))\n",
        "  \n",
        "  #covert zA to p-value\n",
        "  #pA <- pnorm(zA, lower.tail=TRUE) \n",
        "\n",
        "  m00 <- nA/pA\n",
        "  \n",
        "  \n",
        "  \n",
        "  ##estimate m11\n",
        "  m11 <- sum(m - m0.1 - m0.2 + m00)\n",
        "  \n",
        "  \n",
        "  ret <- list()\n",
        "  ret$ms <- c(m, m0.1, m0.2, m11, m00)\n",
        "  names(ret$ms) <- c(\"m\", \"m0.1\", \"m0.2\", \"m11\",\"m00\")\n",
        "  ret$cutoffs <- c(c1, c2)\n",
        "  return(ret)\n",
        "}"
      ],
      "execution_count": 37,
      "outputs": []
    },
    {
      "cell_type": "code",
      "metadata": {
        "colab": {
          "base_uri": "https://localhost:8080/",
          "height": 113
        },
        "id": "cK20m63UkSwM",
        "outputId": "fa8e794d-b11b-481f-89d6-894763ce0b47"
      },
      "source": [
        "estimates <- estimate.m0s(pvals1, pvals2, B=20)\n",
        "estimates"
      ],
      "execution_count": 38,
      "outputs": [
        {
          "output_type": "display_data",
          "data": {
            "text/plain": [
              "$ms\n",
              "       m     m0.1     m0.2      m11      m00 \n",
              "42575.00  7440.00 17060.00 28116.63 10041.63 \n",
              "\n",
              "$cutoffs\n",
              "[1] 0.95 0.80\n"
            ],
            "text/latex": "\\begin{description}\n\\item[\\$ms] \\begin{description*}\n\\item[m] 42575\n\\item[m0.1] 7439.99999999999\n\\item[m0.2] 17060\n\\item[m11] 28116.6317419924\n\\item[m00] 10041.6317419923\n\\end{description*}\n\n\\item[\\$cutoffs] \\begin{enumerate*}\n\\item 0.95\n\\item 0.8\n\\end{enumerate*}\n\n\\end{description}\n",
            "text/markdown": "$ms\n:   m\n:   42575m0.1\n:   7439.99999999999m0.2\n:   17060m11\n:   28116.6317419924m00\n:   10041.6317419923\n\n\n$cutoffs\n:   1. 0.95\n2. 0.8\n\n\n\n\n\n",
            "text/html": [
              "<dl>\n",
              "\t<dt>$ms</dt>\n",
              "\t\t<dd><style>\n",
              ".dl-inline {width: auto; margin:0; padding: 0}\n",
              ".dl-inline>dt, .dl-inline>dd {float: none; width: auto; display: inline-block}\n",
              ".dl-inline>dt::after {content: \":\\0020\"; padding-right: .5ex}\n",
              ".dl-inline>dt:not(:first-of-type) {padding-left: .5ex}\n",
              "</style><dl class=dl-inline><dt>m</dt><dd>42575</dd><dt>m0.1</dt><dd>7439.99999999999</dd><dt>m0.2</dt><dd>17060</dd><dt>m11</dt><dd>28116.6317419924</dd><dt>m00</dt><dd>10041.6317419923</dd></dl>\n",
              "</dd>\n",
              "\t<dt>$cutoffs</dt>\n",
              "\t\t<dd><style>\n",
              ".list-inline {list-style: none; margin:0; padding: 0}\n",
              ".list-inline>li {display: inline-block}\n",
              ".list-inline>li:not(:last-child)::after {content: \"\\00b7\"; padding: 0 .5ex}\n",
              "</style>\n",
              "<ol class=list-inline><li>0.95</li><li>0.8</li></ol>\n",
              "</dd>\n",
              "</dl>\n"
            ]
          },
          "metadata": {}
        }
      ]
    },
    {
      "cell_type": "code",
      "metadata": {
        "id": "H0JIdvFr_DKM"
      },
      "source": [
        "estimates <- estimate.m0s(pvals1, pvals2, B=20)\n",
        "estimates\n",
        "#write.csv(estimate.m0s, estimate_m0s.csv)"
      ],
      "execution_count": null,
      "outputs": []
    },
    {
      "cell_type": "code",
      "metadata": {
        "id": "5ta1Uf4Ag_bu"
      },
      "source": [
        "mos <- as.matrix(estimates)\n",
        "write.csv(mos, \"estimates.csv\")"
      ],
      "execution_count": null,
      "outputs": []
    },
    {
      "cell_type": "code",
      "metadata": {
        "id": "PKVh3D8ROiK8"
      },
      "source": [
        "###########\n",
        "#results for t-test\n",
        "m = 42575\n",
        "m0(1) = 8000\n",
        "m0(2) = 17120\n",
        "m11 = 20821\n",
        "m00 = 3366\n",
        "\n",
        "cutoffs: 0.8, 0.9\n",
        "\n",
        "############\n",
        "#results for limma pvalues\n",
        "\n",
        "m.01 = 7439.9\n",
        "m.02 = 17060\n",
        "m11 = 28116.6\n",
        "m00 = 10041.6\n",
        "cutoffs: 0.95, 0.8\n",
        "\n"
      ],
      "execution_count": null,
      "outputs": []
    }
  ]
}
