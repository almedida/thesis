{
  "nbformat": 4,
  "nbformat_minor": 0,
  "metadata": {
    "colab": {
      "name": "Thesis_work_in_colab.ipynb",
      "provenance": [],
      "authorship_tag": "ABX9TyPNpdwQ7aYbrcrLDG5Wlya8",
      "include_colab_link": true
    },
    "kernelspec": {
      "name": "ir",
      "display_name": "R"
    },
    "language_info": {
      "name": "R"
    }
  },
  "cells": [
    {
      "cell_type": "markdown",
      "metadata": {
        "id": "view-in-github",
        "colab_type": "text"
      },
      "source": [
        "<a href=\"https://colab.research.google.com/github/almedida/thesis/blob/main/estimate_m0s_10k_simulation_orr_method.ipynb\" target=\"_parent\"><img src=\"https://colab.research.google.com/assets/colab-badge.svg\" alt=\"Open In Colab\"/></a>"
      ]
    },
    {
      "cell_type": "code",
      "metadata": {
        "colab": {
          "base_uri": "https://localhost:8080/"
        },
        "id": "Ja8SOFp28eno",
        "outputId": "04905fb7-2e25-4202-ddca-179dbf352104"
      },
      "source": [
        "install.packages('pacman')\n",
        "library(pacman)\n",
        "\n",
        "p_load(\"tidyverse\", \"tmvtnorm\" )"
      ],
      "execution_count": null,
      "outputs": [
        {
          "output_type": "stream",
          "name": "stderr",
          "text": [
            "Installing package into ‘/usr/local/lib/R/site-library’\n",
            "(as ‘lib’ is unspecified)\n",
            "\n",
            "Installing package into ‘/usr/local/lib/R/site-library’\n",
            "(as ‘lib’ is unspecified)\n",
            "\n",
            "also installing the dependencies ‘zoo’, ‘sandwich’, ‘mvtnorm’, ‘gmm’\n",
            "\n",
            "\n",
            "\n",
            "tmvtnorm installed\n",
            "\n"
          ]
        }
      ]
    },
    {
      "cell_type": "markdown",
      "source": [
        "##**Load Dataset**##"
      ],
      "metadata": {
        "id": "4D4Kte3zMakb"
      }
    },
    {
      "cell_type": "code",
      "metadata": {
        "id": "cN1QtLhd8rFo"
      },
      "source": [
        "#load dataset on data_df\n",
        "data_df = read.table(\"ttest_limma_pvalue_10k_sorted.csv\", header= TRUE, sep=\",\")\n",
        "\n",
        "pval_raw = as.data.frame(as.matrix(data_df))\n",
        "pvals1 <- (as.matrix(pval_raw[,1]))\n",
        "pvals2 <- (as.matrix(pval_raw[,2]))\n"
      ],
      "execution_count": null,
      "outputs": []
    },
    {
      "cell_type": "code",
      "metadata": {
        "colab": {
          "base_uri": "https://localhost:8080/",
          "height": 240
        },
        "id": "jmRnj6oFQKid",
        "outputId": "2b8e44bc-7dca-4f0d-d170-107cfdee24df"
      },
      "source": [
        "length(pvals1)\n",
        "length(pvals2)\n",
        "\n",
        "#dim(pvals2)\n",
        "head(pvals1, 5)"
      ],
      "execution_count": null,
      "outputs": [
        {
          "output_type": "display_data",
          "data": {
            "text/plain": [
              "[1] 10000"
            ],
            "text/latex": "10000",
            "text/markdown": "10000",
            "text/html": [
              "10000"
            ]
          },
          "metadata": {}
        },
        {
          "output_type": "display_data",
          "data": {
            "text/plain": [
              "[1] 10000"
            ],
            "text/latex": "10000",
            "text/markdown": "10000",
            "text/html": [
              "10000"
            ]
          },
          "metadata": {}
        },
        {
          "output_type": "display_data",
          "data": {
            "text/plain": [
              "     [,1]       \n",
              "[1,] 0.031585206\n",
              "[2,] 0.000428599\n",
              "[3,] 0.057169023\n",
              "[4,] 0.310835844\n",
              "[5,] 0.018508069"
            ],
            "text/latex": "A matrix: 5 × 1 of type dbl\n\\begin{tabular}{l}\n\t 0.031585206\\\\\n\t 0.000428599\\\\\n\t 0.057169023\\\\\n\t 0.310835844\\\\\n\t 0.018508069\\\\\n\\end{tabular}\n",
            "text/markdown": "\nA matrix: 5 × 1 of type dbl\n\n| 0.031585206 |\n| 0.000428599 |\n| 0.057169023 |\n| 0.310835844 |\n| 0.018508069 |\n\n",
            "text/html": [
              "<table class=\"dataframe\">\n",
              "<caption>A matrix: 5 × 1 of type dbl</caption>\n",
              "<tbody>\n",
              "\t<tr><td>0.031585206</td></tr>\n",
              "\t<tr><td>0.000428599</td></tr>\n",
              "\t<tr><td>0.057169023</td></tr>\n",
              "\t<tr><td>0.310835844</td></tr>\n",
              "\t<tr><td>0.018508069</td></tr>\n",
              "</tbody>\n",
              "</table>\n"
            ]
          },
          "metadata": {}
        }
      ]
    },
    {
      "cell_type": "markdown",
      "source": [
        "##**Calculate cut-off points using Histogram-based method**##"
      ],
      "metadata": {
        "id": "6ZwsPK6YMm14"
      }
    },
    {
      "cell_type": "markdown",
      "source": [
        "calc.cutoff slightly modifies the estimate.m0 function to return the appropriate p-value cutoff where all p-values greater than the cutoff are assumed to come from null cases."
      ],
      "metadata": {
        "id": "3Ons2netM-8S"
      }
    },
    {
      "cell_type": "code",
      "metadata": {
        "id": "zoH1adM1-qzw"
      },
      "source": [
        "calc.cutoff = function(p, B = 20, max=1){\n",
        "\n",
        "  m <- length(p)\n",
        "  m0 <- m\n",
        "  bin <- c(-0.1, (1:B)/B*max)\n",
        "  bin.counts=rep(0,B)\n",
        "\n",
        "  for(i in 1:B){\n",
        "    bin.counts[i]=sum((p>bin[i])&(p<=bin[i+1]))\n",
        "  }\n",
        "\n",
        "  tail.means <- rev(cumsum(rev(bin.counts))/(1:B))\n",
        "  temp <- bin.counts - tail.means\n",
        "  index <- min((1:B)[temp <= 0])\n",
        "  cutoff2 <- (index)/B*max\n",
        "  if(cutoff2 == 1) {cutoff2 <- 1-1/B}\n",
        "\n",
        "  return(cutoff2)\n",
        "\n",
        "}\n"
      ],
      "execution_count": null,
      "outputs": []
    },
    {
      "cell_type": "code",
      "metadata": {
        "colab": {
          "base_uri": "https://localhost:8080/",
          "height": 97
        },
        "id": "g7H7MMh3QhBW",
        "outputId": "1988277f-956e-4519-caab-20f57b2d6e31"
      },
      "source": [
        "cutoff_value1 = calc.cutoff(pvals1, B=20, max=1)\n",
        "cutoff_value2 = calc.cutoff(pvals2, B=20, max=1)\n",
        "\n",
        "cutoff = cbind(c(cutoff_value1), c(cutoff_value2))\n",
        "\n",
        "colnames(cutoff) = c(\"cutoff_value1\", \"cutoff_value2\")\n",
        "\n",
        "cutoff"
      ],
      "execution_count": null,
      "outputs": [
        {
          "output_type": "display_data",
          "data": {
            "text/plain": [
              "     cutoff_value1 cutoff_value2\n",
              "[1,] 0.3           0.15         "
            ],
            "text/latex": "A matrix: 1 × 2 of type dbl\n\\begin{tabular}{ll}\n cutoff\\_value1 & cutoff\\_value2\\\\\n\\hline\n\t 0.3 & 0.15\\\\\n\\end{tabular}\n",
            "text/markdown": "\nA matrix: 1 × 2 of type dbl\n\n| cutoff_value1 | cutoff_value2 |\n|---|---|\n| 0.3 | 0.15 |\n\n",
            "text/html": [
              "<table class=\"dataframe\">\n",
              "<caption>A matrix: 1 × 2 of type dbl</caption>\n",
              "<thead>\n",
              "\t<tr><th scope=col>cutoff_value1</th><th scope=col>cutoff_value2</th></tr>\n",
              "</thead>\n",
              "<tbody>\n",
              "\t<tr><td>0.3</td><td>0.15</td></tr>\n",
              "</tbody>\n",
              "</table>\n"
            ]
          },
          "metadata": {}
        }
      ]
    },
    {
      "cell_type": "markdown",
      "source": [
        "**Filter dataset using cutoff points**\n",
        "* selecting pvalues in the upper-right quadrant using Histogram-Based method\n",
        "*  defined as lambda1 = cutoffvalue1 and lambda2 = cutoffvalue2 for pvalue 1 and pvalue 2 respectively.\n",
        "*  lambda1, lambda2 - probability of pvalue 1 and pvalue 2 in the upper-right quadrant respectively \n"
      ],
      "metadata": {
        "id": "xEnVerkvNHFa"
      }
    },
    {
      "cell_type": "code",
      "metadata": {
        "id": "4KMrPJxy8wYY",
        "colab": {
          "base_uri": "https://localhost:8080/",
          "height": 269
        },
        "outputId": "b08468d4-e0b4-4234-d590-3f8771763395"
      },
      "source": [
        "\n",
        "\n",
        "p_vals = pval_raw  %>% filter(pvalue >=cutoff_value1, limma_pvalue>=cutoff_value2)\n",
        "\n",
        "dim(p_vals)\n",
        "\n",
        "head(p_vals, 5)\n"
      ],
      "execution_count": null,
      "outputs": [
        {
          "output_type": "display_data",
          "data": {
            "text/plain": [
              "[1] 5348    2"
            ],
            "text/latex": "\\begin{enumerate*}\n\\item 5348\n\\item 2\n\\end{enumerate*}\n",
            "text/markdown": "1. 5348\n2. 2\n\n\n",
            "text/html": [
              "<style>\n",
              ".list-inline {list-style: none; margin:0; padding: 0}\n",
              ".list-inline>li {display: inline-block}\n",
              ".list-inline>li:not(:last-child)::after {content: \"\\00b7\"; padding: 0 .5ex}\n",
              "</style>\n",
              "<ol class=list-inline><li>5348</li><li>2</li></ol>\n"
            ]
          },
          "metadata": {}
        },
        {
          "output_type": "display_data",
          "data": {
            "text/plain": [
              "  pvalue    limma_pvalue\n",
              "1 0.3086879 0.1500449   \n",
              "2 0.9184299 0.1501874   \n",
              "3 0.7291810 0.1502097   \n",
              "4 0.6862194 0.1503720   \n",
              "5 0.8511433 0.1506472   "
            ],
            "text/latex": "A data.frame: 5 × 2\n\\begin{tabular}{r|ll}\n  & pvalue & limma\\_pvalue\\\\\n  & <dbl> & <dbl>\\\\\n\\hline\n\t1 & 0.3086879 & 0.1500449\\\\\n\t2 & 0.9184299 & 0.1501874\\\\\n\t3 & 0.7291810 & 0.1502097\\\\\n\t4 & 0.6862194 & 0.1503720\\\\\n\t5 & 0.8511433 & 0.1506472\\\\\n\\end{tabular}\n",
            "text/markdown": "\nA data.frame: 5 × 2\n\n| <!--/--> | pvalue &lt;dbl&gt; | limma_pvalue &lt;dbl&gt; |\n|---|---|---|\n| 1 | 0.3086879 | 0.1500449 |\n| 2 | 0.9184299 | 0.1501874 |\n| 3 | 0.7291810 | 0.1502097 |\n| 4 | 0.6862194 | 0.1503720 |\n| 5 | 0.8511433 | 0.1506472 |\n\n",
            "text/html": [
              "<table class=\"dataframe\">\n",
              "<caption>A data.frame: 5 × 2</caption>\n",
              "<thead>\n",
              "\t<tr><th></th><th scope=col>pvalue</th><th scope=col>limma_pvalue</th></tr>\n",
              "\t<tr><th></th><th scope=col>&lt;dbl&gt;</th><th scope=col>&lt;dbl&gt;</th></tr>\n",
              "</thead>\n",
              "<tbody>\n",
              "\t<tr><th scope=row>1</th><td>0.3086879</td><td>0.1500449</td></tr>\n",
              "\t<tr><th scope=row>2</th><td>0.9184299</td><td>0.1501874</td></tr>\n",
              "\t<tr><th scope=row>3</th><td>0.7291810</td><td>0.1502097</td></tr>\n",
              "\t<tr><th scope=row>4</th><td>0.6862194</td><td>0.1503720</td></tr>\n",
              "\t<tr><th scope=row>5</th><td>0.8511433</td><td>0.1506472</td></tr>\n",
              "</tbody>\n",
              "</table>\n"
            ]
          },
          "metadata": {}
        }
      ]
    },
    {
      "cell_type": "markdown",
      "source": [
        "convert selected pvalues to z values"
      ],
      "metadata": {
        "id": "cp3E_L3aOr7L"
      }
    },
    {
      "cell_type": "code",
      "metadata": {
        "id": "BGTT4IE78xeB",
        "colab": {
          "base_uri": "https://localhost:8080/",
          "height": 283
        },
        "outputId": "e6e48e1c-3f36-418d-819d-f4b7ee73dfe7"
      },
      "source": [
        "z_val = as.data.frame(qnorm(as.matrix(p_vals), lower.tail = TRUE))\n",
        "colnames(z_val) = c(\"zvals1\", \"zvals2\")\n",
        "\n",
        "head(z_val)\n"
      ],
      "execution_count": null,
      "outputs": [
        {
          "output_type": "display_data",
          "data": {
            "text/plain": [
              "  zvals1     zvals2   \n",
              "1 -0.4995731 -1.036241\n",
              "2  1.3945879 -1.035630\n",
              "3  0.6103378 -1.035534\n",
              "4  0.4851624 -1.034839\n",
              "5  1.0413496 -1.033661\n",
              "6  0.5264771 -1.032573"
            ],
            "text/latex": "A data.frame: 6 × 2\n\\begin{tabular}{r|ll}\n  & zvals1 & zvals2\\\\\n  & <dbl> & <dbl>\\\\\n\\hline\n\t1 & -0.4995731 & -1.036241\\\\\n\t2 &  1.3945879 & -1.035630\\\\\n\t3 &  0.6103378 & -1.035534\\\\\n\t4 &  0.4851624 & -1.034839\\\\\n\t5 &  1.0413496 & -1.033661\\\\\n\t6 &  0.5264771 & -1.032573\\\\\n\\end{tabular}\n",
            "text/markdown": "\nA data.frame: 6 × 2\n\n| <!--/--> | zvals1 &lt;dbl&gt; | zvals2 &lt;dbl&gt; |\n|---|---|---|\n| 1 | -0.4995731 | -1.036241 |\n| 2 |  1.3945879 | -1.035630 |\n| 3 |  0.6103378 | -1.035534 |\n| 4 |  0.4851624 | -1.034839 |\n| 5 |  1.0413496 | -1.033661 |\n| 6 |  0.5264771 | -1.032573 |\n\n",
            "text/html": [
              "<table class=\"dataframe\">\n",
              "<caption>A data.frame: 6 × 2</caption>\n",
              "<thead>\n",
              "\t<tr><th></th><th scope=col>zvals1</th><th scope=col>zvals2</th></tr>\n",
              "\t<tr><th></th><th scope=col>&lt;dbl&gt;</th><th scope=col>&lt;dbl&gt;</th></tr>\n",
              "</thead>\n",
              "<tbody>\n",
              "\t<tr><th scope=row>1</th><td>-0.4995731</td><td>-1.036241</td></tr>\n",
              "\t<tr><th scope=row>2</th><td> 1.3945879</td><td>-1.035630</td></tr>\n",
              "\t<tr><th scope=row>3</th><td> 0.6103378</td><td>-1.035534</td></tr>\n",
              "\t<tr><th scope=row>4</th><td> 0.4851624</td><td>-1.034839</td></tr>\n",
              "\t<tr><th scope=row>5</th><td> 1.0413496</td><td>-1.033661</td></tr>\n",
              "\t<tr><th scope=row>6</th><td> 0.5264771</td><td>-1.032573</td></tr>\n",
              "</tbody>\n",
              "</table>\n"
            ]
          },
          "metadata": {}
        }
      ]
    },
    {
      "cell_type": "code",
      "metadata": {
        "colab": {
          "base_uri": "https://localhost:8080/",
          "height": 269
        },
        "id": "HAyzGSTiU7Wi",
        "outputId": "a489f5a7-cbf7-46e1-fc07-961a3661855b"
      },
      "source": [
        "zvals1 <- (as.data.frame(as.matrix(z_val[,1])))\n",
        "zvals2 <- (as.data.frame(as.matrix(z_val[,2])))\n",
        "\n",
        "head(zvals1, 5)"
      ],
      "execution_count": null,
      "outputs": [
        {
          "output_type": "display_data",
          "data": {
            "text/plain": [
              "  V1        \n",
              "1 -0.4995731\n",
              "2  1.3945879\n",
              "3  0.6103378\n",
              "4  0.4851624\n",
              "5  1.0413496"
            ],
            "text/latex": "A data.frame: 5 × 1\n\\begin{tabular}{r|l}\n  & V1\\\\\n  & <dbl>\\\\\n\\hline\n\t1 & -0.4995731\\\\\n\t2 &  1.3945879\\\\\n\t3 &  0.6103378\\\\\n\t4 &  0.4851624\\\\\n\t5 &  1.0413496\\\\\n\\end{tabular}\n",
            "text/markdown": "\nA data.frame: 5 × 1\n\n| <!--/--> | V1 &lt;dbl&gt; |\n|---|---|\n| 1 | -0.4995731 |\n| 2 |  1.3945879 |\n| 3 |  0.6103378 |\n| 4 |  0.4851624 |\n| 5 |  1.0413496 |\n\n",
            "text/html": [
              "<table class=\"dataframe\">\n",
              "<caption>A data.frame: 5 × 1</caption>\n",
              "<thead>\n",
              "\t<tr><th></th><th scope=col>V1</th></tr>\n",
              "\t<tr><th></th><th scope=col>&lt;dbl&gt;</th></tr>\n",
              "</thead>\n",
              "<tbody>\n",
              "\t<tr><th scope=row>1</th><td>-0.4995731</td></tr>\n",
              "\t<tr><th scope=row>2</th><td> 1.3945879</td></tr>\n",
              "\t<tr><th scope=row>3</th><td> 0.6103378</td></tr>\n",
              "\t<tr><th scope=row>4</th><td> 0.4851624</td></tr>\n",
              "\t<tr><th scope=row>5</th><td> 1.0413496</td></tr>\n",
              "</tbody>\n",
              "</table>\n"
            ]
          },
          "metadata": {}
        }
      ]
    },
    {
      "cell_type": "markdown",
      "source": [
        "convert lambda(truncation points) to z values"
      ],
      "metadata": {
        "id": "sEPoh_3vOxEt"
      }
    },
    {
      "cell_type": "code",
      "metadata": {
        "id": "QSWdnQjS82iS"
      },
      "source": [
        "z_val_extremums = as.data.frame(qnorm(as.matrix(cbind(c(cutoff_value1,1),c(cutoff_value2,1))), lower.tail = TRUE))"
      ],
      "execution_count": null,
      "outputs": []
    },
    {
      "cell_type": "markdown",
      "source": [
        "selecting the lower bounds (minimum z values) of the bivariate z values"
      ],
      "metadata": {
        "id": "MA2adFWuO_Ch"
      }
    },
    {
      "cell_type": "code",
      "source": [
        "min_z1 <- z_val_extremums[1,1]\n",
        "min_z2 <- z_val_extremums[1,2]"
      ],
      "metadata": {
        "id": "uuWdE-eAO73q"
      },
      "execution_count": null,
      "outputs": []
    },
    {
      "cell_type": "code",
      "metadata": {
        "colab": {
          "base_uri": "https://localhost:8080/",
          "height": 159
        },
        "id": "LIlTr2Sd-dKH",
        "outputId": "bcca68d7-880a-472e-8980-ed8edb21036f"
      },
      "source": [
        "head(z_val_extremums, 2)"
      ],
      "execution_count": null,
      "outputs": [
        {
          "output_type": "display_data",
          "data": {
            "text/plain": [
              "  V1         V2       \n",
              "1 -0.5244005 -1.036433\n",
              "2        Inf       Inf"
            ],
            "text/latex": "A data.frame: 2 × 2\n\\begin{tabular}{r|ll}\n  & V1 & V2\\\\\n  & <dbl> & <dbl>\\\\\n\\hline\n\t1 & -0.5244005 & -1.036433\\\\\n\t2 &        Inf &       Inf\\\\\n\\end{tabular}\n",
            "text/markdown": "\nA data.frame: 2 × 2\n\n| <!--/--> | V1 &lt;dbl&gt; | V2 &lt;dbl&gt; |\n|---|---|---|\n| 1 | -0.5244005 | -1.036433 |\n| 2 |        Inf |       Inf |\n\n",
            "text/html": [
              "<table class=\"dataframe\">\n",
              "<caption>A data.frame: 2 × 2</caption>\n",
              "<thead>\n",
              "\t<tr><th></th><th scope=col>V1</th><th scope=col>V2</th></tr>\n",
              "\t<tr><th></th><th scope=col>&lt;dbl&gt;</th><th scope=col>&lt;dbl&gt;</th></tr>\n",
              "</thead>\n",
              "<tbody>\n",
              "\t<tr><th scope=row>1</th><td>-0.5244005</td><td>-1.036433</td></tr>\n",
              "\t<tr><th scope=row>2</th><td>       Inf</td><td>      Inf</td></tr>\n",
              "</tbody>\n",
              "</table>\n"
            ]
          },
          "metadata": {}
        }
      ]
    },
    {
      "cell_type": "markdown",
      "source": [
        "##**Estimating m00s**##\n",
        "\n",
        "*  m0.1 - DE genes in experiment 1\n",
        "*  m0.2 - DE genes in experiment 2\n",
        "*  m11 - DE genes in both experiments\n",
        "*  m00 - EE genes in both experiments"
      ],
      "metadata": {
        "id": "wHyKLmZ6PbEM"
      }
    },
    {
      "cell_type": "code",
      "metadata": {
        "id": "2iDJiXxl-0xJ"
      },
      "source": [
        "estimate.m0s <- function(p1, p2, B=20){\n",
        "  m <- length(p1)\n",
        "\n",
        "  ##find lambda cutoffs using histogram-based method\n",
        "  c1 <- calc.cutoff(p1, B=B, max=1)\n",
        "  c2 <- calc.cutoff(p2, B=B, max=1)\n",
        "\n",
        "  ##estimate m0 for experiment 1\n",
        "  ind1 <- (p1>=c1)\n",
        "  m0.1 <- sum(ind1)/(1-c1)\n",
        "\n",
        "  ##estimate m0 for experiment 2  \n",
        "  ind2 <- (p2>=c2)\n",
        "  m0.2 <- sum(ind2)/(1-c2)\n",
        "\n",
        "\n",
        "  ##estimate m00\n",
        "  ind12 <- ind1 & ind2\n",
        "  nA <- sum(ind12)\n",
        "  pA <- (1-c1)*(1-c2)\n",
        "  m00 <- nA/pA\n",
        "\n",
        "\n",
        "  ret <- list()\n",
        "  ret$ms <- c(m, m0.1, m0.2, m00)\n",
        "  names(ret$ms) <- c(\"m\", \"m0.1\", \"m0.2\", \"m00\")\n",
        "  ret$cutoffs <- c(c1, c2)\n",
        "  return(ret)\n",
        "}"
      ],
      "execution_count": null,
      "outputs": []
    },
    {
      "cell_type": "code",
      "metadata": {
        "colab": {
          "base_uri": "https://localhost:8080/",
          "height": 113
        },
        "id": "H0JIdvFr_DKM",
        "outputId": "73228a1c-cc74-42f6-b854-ca05c7ccd3f9"
      },
      "source": [
        "estimate.m0s(pvals1, pvals2, B=20)"
      ],
      "execution_count": null,
      "outputs": [
        {
          "output_type": "display_data",
          "data": {
            "text/plain": [
              "$ms\n",
              "          m        m0.1        m0.2         m11         m00 \n",
              "10000.00000  9472.85714  9484.70588    67.14866  9024.71168 \n",
              "\n",
              "$cutoffs\n",
              "[1] 0.30 0.15\n"
            ],
            "text/latex": "\\begin{description}\n\\item[\\$ms] \\begin{description*}\n\\item[m] 10000\n\\item[m0.1] 9472.85714285714\n\\item[m0.2] 9484.70588235294\n\\item[m11] 67.1486563883082\n\\item[m00] 9024.71168159839\n\\end{description*}\n\n\\item[\\$cutoffs] \\begin{enumerate*}\n\\item 0.3\n\\item 0.15\n\\end{enumerate*}\n\n\\end{description}\n",
            "text/markdown": "$ms\n:   m\n:   10000m0.1\n:   9472.85714285714m0.2\n:   9484.70588235294m11\n:   67.1486563883082m00\n:   9024.71168159839\n\n\n$cutoffs\n:   1. 0.3\n2. 0.15\n\n\n\n\n\n",
            "text/html": [
              "<dl>\n",
              "\t<dt>$ms</dt>\n",
              "\t\t<dd><style>\n",
              ".dl-inline {width: auto; margin:0; padding: 0}\n",
              ".dl-inline>dt, .dl-inline>dd {float: none; width: auto; display: inline-block}\n",
              ".dl-inline>dt::after {content: \":\\0020\"; padding-right: .5ex}\n",
              ".dl-inline>dt:not(:first-of-type) {padding-left: .5ex}\n",
              "</style><dl class=dl-inline><dt>m</dt><dd>10000</dd><dt>m0.1</dt><dd>9472.85714285714</dd><dt>m0.2</dt><dd>9484.70588235294</dd><dt>m11</dt><dd>67.1486563883082</dd><dt>m00</dt><dd>9024.71168159839</dd></dl>\n",
              "</dd>\n",
              "\t<dt>$cutoffs</dt>\n",
              "\t\t<dd><style>\n",
              ".list-inline {list-style: none; margin:0; padding: 0}\n",
              ".list-inline>li {display: inline-block}\n",
              ".list-inline>li:not(:last-child)::after {content: \"\\00b7\"; padding: 0 .5ex}\n",
              "</style>\n",
              "<ol class=list-inline><li>0.3</li><li>0.15</li></ol>\n",
              "</dd>\n",
              "</dl>\n"
            ]
          },
          "metadata": {}
        }
      ]
    }
  ]
}