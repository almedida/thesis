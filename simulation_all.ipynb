{
  "nbformat": 4,
  "nbformat_minor": 0,
  "metadata": {
    "colab": {
      "name": "simulation.ipynb",
      "provenance": [],
      "authorship_tag": "ABX9TyNmsY9btP19q1rOr6wpqfKg",
      "include_colab_link": true
    },
    "kernelspec": {
      "name": "ir",
      "display_name": "R"
    },
    "language_info": {
      "name": "R"
    }
  },
  "cells": [
    {
      "cell_type": "markdown",
      "metadata": {
        "id": "view-in-github",
        "colab_type": "text"
      },
      "source": [
        "<a href=\"https://colab.research.google.com/github/almedida/thesis/blob/main/simulation_all.ipynb\" target=\"_parent\"><img src=\"https://colab.research.google.com/assets/colab-badge.svg\" alt=\"Open In Colab\"/></a>"
      ]
    },
    {
      "cell_type": "code",
      "source": [
        "rm(list = ls())"
      ],
      "metadata": {
        "id": "DQtVgCTqoGmu"
      },
      "execution_count": 9,
      "outputs": []
    },
    {
      "cell_type": "markdown",
      "source": [
        "##**Install Packages**##"
      ],
      "metadata": {
        "id": "-ZaEbyNkloSv"
      }
    },
    {
      "cell_type": "code",
      "source": [
        "install.packages('pacman')\n",
        "library(pacman, devtools)\n",
        "p_load(\"tidyverse\", \"matrixTests\", \"gtools\", \"VennDiagram\", \"tmvtnorm\")\n",
        "\n",
        "#install BiocManager\n",
        "if (!requireNamespace(\"BiocManager\", quietly = TRUE))\n",
        "  install.packages(\"BiocManager\")\n",
        "\n",
        "#install limma and qvalue packages\n",
        "BiocManager::install(c(\"limma\", \"qvalue\"))\n",
        "library(limma)\n",
        "library(qvalue)\n"
      ],
      "metadata": {
        "colab": {
          "base_uri": "https://localhost:8080/"
        },
        "id": "lS6SchBvfIzP",
        "outputId": "e67e475f-7abc-400e-c402-3542130fcd7a"
      },
      "execution_count": 10,
      "outputs": [
        {
          "output_type": "stream",
          "name": "stderr",
          "text": [
            "Installing package into ‘/usr/local/lib/R/site-library’\n",
            "(as ‘lib’ is unspecified)\n",
            "\n",
            "Installing package into ‘/usr/local/lib/R/site-library’\n",
            "(as ‘lib’ is unspecified)\n",
            "\n",
            "also installing the dependency ‘matrixStats’\n",
            "\n",
            "\n",
            "\n",
            "matrixTests installed\n",
            "\n",
            "Installing package into ‘/usr/local/lib/R/site-library’\n",
            "(as ‘lib’ is unspecified)\n",
            "\n",
            "\n",
            "gtools installed\n",
            "\n",
            "Installing package into ‘/usr/local/lib/R/site-library’\n",
            "(as ‘lib’ is unspecified)\n",
            "\n",
            "also installing the dependencies ‘formatR’, ‘lambda.r’, ‘futile.options’, ‘futile.logger’\n",
            "\n",
            "\n",
            "\n",
            "VennDiagram installed\n",
            "\n",
            "Installing package into ‘/usr/local/lib/R/site-library’\n",
            "(as ‘lib’ is unspecified)\n",
            "\n",
            "also installing the dependencies ‘zoo’, ‘sandwich’, ‘mvtnorm’, ‘gmm’\n",
            "\n",
            "\n",
            "\n",
            "tmvtnorm installed\n",
            "\n",
            "Installing package into ‘/usr/local/lib/R/site-library’\n",
            "(as ‘lib’ is unspecified)\n",
            "\n",
            "'getOption(\"repos\")' replaces Bioconductor standard repositories, see\n",
            "'?repositories' for details\n",
            "\n",
            "replacement repositories:\n",
            "    CRAN: https://cran.rstudio.com\n",
            "\n",
            "\n",
            "Bioconductor version 3.14 (BiocManager 1.30.16), R 4.1.2 (2021-11-01)\n",
            "\n",
            "Installing package(s) 'BiocVersion', 'limma', 'qvalue'\n",
            "\n",
            "also installing the dependencies ‘plyr’, ‘reshape2’\n",
            "\n",
            "\n",
            "Old packages: 'cli', 'clipr', 'colorspace', 'crayon', 'evaluate', 'glue',\n",
            "  'jsonlite', 'openssl', 'rlang', 'rmarkdown', 'tidyselect', 'tinytex',\n",
            "  'withr', 'xfun', 'yaml', 'mgcv', 'survival'\n",
            "\n"
          ]
        }
      ]
    },
    {
      "cell_type": "markdown",
      "source": [
        "##***Load Dataset***"
      ],
      "metadata": {
        "id": "i5kBkQDinMx0"
      }
    },
    {
      "cell_type": "code",
      "execution_count": 11,
      "metadata": {
        "id": "Q4ZIf_LWvFxD"
      },
      "outputs": [],
      "source": [
        "#load dataset\n",
        "simulation_data = read.table(\"sim_data.csv\", header= TRUE, sep=\",\")\n",
        "\n",
        "\n",
        "N = ncol(simulation_data) #N = number columns (samples in the dataset)\n",
        "n_gene = nrow(simulation_data) #n_gene = no of genes (rows in the dataset)"
      ]
    },
    {
      "cell_type": "code",
      "source": [
        "# head(simulation_data)"
      ],
      "metadata": {
        "id": "b7UnOUy0vWRX"
      },
      "execution_count": null,
      "outputs": []
    },
    {
      "cell_type": "code",
      "source": [
        "# dim(simulation_data)"
      ],
      "metadata": {
        "id": "XBf6PuU_w8m4"
      },
      "execution_count": null,
      "outputs": []
    },
    {
      "cell_type": "markdown",
      "source": [
        "10k randomly selected data for simulation process"
      ],
      "metadata": {
        "id": "M-6oMbmLy9cI"
      }
    },
    {
      "cell_type": "code",
      "source": [
        "#set.seed(1)\n",
        "m = 10000 #no of genes to be selected from the dataset\n",
        "randomly_selected_genes = sample(n_gene, m) #randomly selected genes of size m from the total genes\n",
        "\n",
        "# head(randomly_selected_genes)\n",
        "# length(randomly_selected_genes)"
      ],
      "metadata": {
        "id": "8a4rpVGVwxrC"
      },
      "execution_count": 12,
      "outputs": []
    },
    {
      "cell_type": "code",
      "source": [
        "#10000 selected data corresponding to the randomly selected genes (EE genes)\n",
        "randomly_selected_data = simulation_data[randomly_selected_genes, ]\n",
        "genej_sim_data = randomly_selected_data\n",
        "head(genej_sim_data)\n",
        "# dim(genej_sim_data)"
      ],
      "metadata": {
        "id": "tjwoFEa7yn53",
        "outputId": "d13d646a-e0f9-491d-fb30-69529d7b3880",
        "colab": {
          "base_uri": "https://localhost:8080/",
          "height": 303
        }
      },
      "execution_count": 13,
      "outputs": [
        {
          "output_type": "display_data",
          "data": {
            "text/plain": [
              "      GSM1247203 GSM1247204 GSM1247205 GSM1247206 GSM1247207 GSM1247208\n",
              "2573   5.696752   5.732106   5.527625   5.765523  5.794510    5.673148 \n",
              "20153  7.958196   8.240848   8.108602   7.962404  7.850494    7.661667 \n",
              "9349   6.573637   6.722796   6.621485   6.680845  6.735268    6.565933 \n",
              "509   10.494920  10.068500  10.421450  11.074220  9.751422   10.354780 \n",
              "1084   4.475790   4.306536   4.353308   4.277311  5.876474    4.479235 \n",
              "5129   7.459041   7.370674   8.240806   8.094577  7.351286    7.901789 \n",
              "      GSM1247209 GSM1247210 GSM1247211 GSM1247212 ⋯ GSM1247410 GSM1247411\n",
              "2573   5.661434   5.792428   5.902410  5.850823   ⋯  5.683829   5.738701 \n",
              "20153  8.036861   8.050551   8.311008  7.968991   ⋯  8.109547   8.137065 \n",
              "9349   6.670599   6.571579   6.659489  6.881373   ⋯  6.629452   6.560661 \n",
              "509   10.289660  10.229210  10.489280  9.790936   ⋯ 10.624440  10.273820 \n",
              "1084   4.167353   3.935195   4.094814  4.109920   ⋯  4.294724   4.483528 \n",
              "5129   7.420691   8.119202   8.188850  7.591702   ⋯  7.863736   7.967049 \n",
              "      GSM1247412 GSM1247413 GSM1247414 GSM1247415 GSM1247416 GSM1247417\n",
              "2573  5.729288    5.629334   5.815015   5.606970   5.733598   5.786336 \n",
              "20153 8.067874    8.141278   8.124685   7.813756   7.912128   7.885002 \n",
              "9349  6.811317    6.545243   6.229667   6.541565   6.883910   6.669711 \n",
              "509   9.645807   10.839760  10.407380  10.291670  10.828140  10.228550 \n",
              "1084  4.363303    4.313966   4.006860   4.249210   4.366151   3.779328 \n",
              "5129  7.839592    7.685373   7.920784   8.162983   7.551414   7.964921 \n",
              "      GSM1247418 GSM1247419\n",
              "2573  5.786699    5.635683 \n",
              "20153 8.000819    7.939448 \n",
              "9349  6.828555    6.774223 \n",
              "509   9.595561   10.189640 \n",
              "1084  4.329857    4.648503 \n",
              "5129  7.252925    8.204767 "
            ],
            "text/latex": "A data.frame: 6 × 217\n\\begin{tabular}{r|lllllllllllllllllllll}\n  & GSM1247203 & GSM1247204 & GSM1247205 & GSM1247206 & GSM1247207 & GSM1247208 & GSM1247209 & GSM1247210 & GSM1247211 & GSM1247212 & ⋯ & GSM1247410 & GSM1247411 & GSM1247412 & GSM1247413 & GSM1247414 & GSM1247415 & GSM1247416 & GSM1247417 & GSM1247418 & GSM1247419\\\\\n  & <dbl> & <dbl> & <dbl> & <dbl> & <dbl> & <dbl> & <dbl> & <dbl> & <dbl> & <dbl> & ⋯ & <dbl> & <dbl> & <dbl> & <dbl> & <dbl> & <dbl> & <dbl> & <dbl> & <dbl> & <dbl>\\\\\n\\hline\n\t2573 &  5.696752 &  5.732106 &  5.527625 &  5.765523 & 5.794510 &  5.673148 &  5.661434 &  5.792428 &  5.902410 & 5.850823 & ⋯ &  5.683829 &  5.738701 & 5.729288 &  5.629334 &  5.815015 &  5.606970 &  5.733598 &  5.786336 & 5.786699 &  5.635683\\\\\n\t20153 &  7.958196 &  8.240848 &  8.108602 &  7.962404 & 7.850494 &  7.661667 &  8.036861 &  8.050551 &  8.311008 & 7.968991 & ⋯ &  8.109547 &  8.137065 & 8.067874 &  8.141278 &  8.124685 &  7.813756 &  7.912128 &  7.885002 & 8.000819 &  7.939448\\\\\n\t9349 &  6.573637 &  6.722796 &  6.621485 &  6.680845 & 6.735268 &  6.565933 &  6.670599 &  6.571579 &  6.659489 & 6.881373 & ⋯ &  6.629452 &  6.560661 & 6.811317 &  6.545243 &  6.229667 &  6.541565 &  6.883910 &  6.669711 & 6.828555 &  6.774223\\\\\n\t509 & 10.494920 & 10.068500 & 10.421450 & 11.074220 & 9.751422 & 10.354780 & 10.289660 & 10.229210 & 10.489280 & 9.790936 & ⋯ & 10.624440 & 10.273820 & 9.645807 & 10.839760 & 10.407380 & 10.291670 & 10.828140 & 10.228550 & 9.595561 & 10.189640\\\\\n\t1084 &  4.475790 &  4.306536 &  4.353308 &  4.277311 & 5.876474 &  4.479235 &  4.167353 &  3.935195 &  4.094814 & 4.109920 & ⋯ &  4.294724 &  4.483528 & 4.363303 &  4.313966 &  4.006860 &  4.249210 &  4.366151 &  3.779328 & 4.329857 &  4.648503\\\\\n\t5129 &  7.459041 &  7.370674 &  8.240806 &  8.094577 & 7.351286 &  7.901789 &  7.420691 &  8.119202 &  8.188850 & 7.591702 & ⋯ &  7.863736 &  7.967049 & 7.839592 &  7.685373 &  7.920784 &  8.162983 &  7.551414 &  7.964921 & 7.252925 &  8.204767\\\\\n\\end{tabular}\n",
            "text/markdown": "\nA data.frame: 6 × 217\n\n| <!--/--> | GSM1247203 &lt;dbl&gt; | GSM1247204 &lt;dbl&gt; | GSM1247205 &lt;dbl&gt; | GSM1247206 &lt;dbl&gt; | GSM1247207 &lt;dbl&gt; | GSM1247208 &lt;dbl&gt; | GSM1247209 &lt;dbl&gt; | GSM1247210 &lt;dbl&gt; | GSM1247211 &lt;dbl&gt; | GSM1247212 &lt;dbl&gt; | ⋯ ⋯ | GSM1247410 &lt;dbl&gt; | GSM1247411 &lt;dbl&gt; | GSM1247412 &lt;dbl&gt; | GSM1247413 &lt;dbl&gt; | GSM1247414 &lt;dbl&gt; | GSM1247415 &lt;dbl&gt; | GSM1247416 &lt;dbl&gt; | GSM1247417 &lt;dbl&gt; | GSM1247418 &lt;dbl&gt; | GSM1247419 &lt;dbl&gt; |\n|---|---|---|---|---|---|---|---|---|---|---|---|---|---|---|---|---|---|---|---|---|---|\n| 2573 |  5.696752 |  5.732106 |  5.527625 |  5.765523 | 5.794510 |  5.673148 |  5.661434 |  5.792428 |  5.902410 | 5.850823 | ⋯ |  5.683829 |  5.738701 | 5.729288 |  5.629334 |  5.815015 |  5.606970 |  5.733598 |  5.786336 | 5.786699 |  5.635683 |\n| 20153 |  7.958196 |  8.240848 |  8.108602 |  7.962404 | 7.850494 |  7.661667 |  8.036861 |  8.050551 |  8.311008 | 7.968991 | ⋯ |  8.109547 |  8.137065 | 8.067874 |  8.141278 |  8.124685 |  7.813756 |  7.912128 |  7.885002 | 8.000819 |  7.939448 |\n| 9349 |  6.573637 |  6.722796 |  6.621485 |  6.680845 | 6.735268 |  6.565933 |  6.670599 |  6.571579 |  6.659489 | 6.881373 | ⋯ |  6.629452 |  6.560661 | 6.811317 |  6.545243 |  6.229667 |  6.541565 |  6.883910 |  6.669711 | 6.828555 |  6.774223 |\n| 509 | 10.494920 | 10.068500 | 10.421450 | 11.074220 | 9.751422 | 10.354780 | 10.289660 | 10.229210 | 10.489280 | 9.790936 | ⋯ | 10.624440 | 10.273820 | 9.645807 | 10.839760 | 10.407380 | 10.291670 | 10.828140 | 10.228550 | 9.595561 | 10.189640 |\n| 1084 |  4.475790 |  4.306536 |  4.353308 |  4.277311 | 5.876474 |  4.479235 |  4.167353 |  3.935195 |  4.094814 | 4.109920 | ⋯ |  4.294724 |  4.483528 | 4.363303 |  4.313966 |  4.006860 |  4.249210 |  4.366151 |  3.779328 | 4.329857 |  4.648503 |\n| 5129 |  7.459041 |  7.370674 |  8.240806 |  8.094577 | 7.351286 |  7.901789 |  7.420691 |  8.119202 |  8.188850 | 7.591702 | ⋯ |  7.863736 |  7.967049 | 7.839592 |  7.685373 |  7.920784 |  8.162983 |  7.551414 |  7.964921 | 7.252925 |  8.204767 |\n\n",
            "text/html": [
              "<table class=\"dataframe\">\n",
              "<caption>A data.frame: 6 × 217</caption>\n",
              "<thead>\n",
              "\t<tr><th></th><th scope=col>GSM1247203</th><th scope=col>GSM1247204</th><th scope=col>GSM1247205</th><th scope=col>GSM1247206</th><th scope=col>GSM1247207</th><th scope=col>GSM1247208</th><th scope=col>GSM1247209</th><th scope=col>GSM1247210</th><th scope=col>GSM1247211</th><th scope=col>GSM1247212</th><th scope=col>⋯</th><th scope=col>GSM1247410</th><th scope=col>GSM1247411</th><th scope=col>GSM1247412</th><th scope=col>GSM1247413</th><th scope=col>GSM1247414</th><th scope=col>GSM1247415</th><th scope=col>GSM1247416</th><th scope=col>GSM1247417</th><th scope=col>GSM1247418</th><th scope=col>GSM1247419</th></tr>\n",
              "\t<tr><th></th><th scope=col>&lt;dbl&gt;</th><th scope=col>&lt;dbl&gt;</th><th scope=col>&lt;dbl&gt;</th><th scope=col>&lt;dbl&gt;</th><th scope=col>&lt;dbl&gt;</th><th scope=col>&lt;dbl&gt;</th><th scope=col>&lt;dbl&gt;</th><th scope=col>&lt;dbl&gt;</th><th scope=col>&lt;dbl&gt;</th><th scope=col>&lt;dbl&gt;</th><th scope=col>⋯</th><th scope=col>&lt;dbl&gt;</th><th scope=col>&lt;dbl&gt;</th><th scope=col>&lt;dbl&gt;</th><th scope=col>&lt;dbl&gt;</th><th scope=col>&lt;dbl&gt;</th><th scope=col>&lt;dbl&gt;</th><th scope=col>&lt;dbl&gt;</th><th scope=col>&lt;dbl&gt;</th><th scope=col>&lt;dbl&gt;</th><th scope=col>&lt;dbl&gt;</th></tr>\n",
              "</thead>\n",
              "<tbody>\n",
              "\t<tr><th scope=row>2573</th><td> 5.696752</td><td> 5.732106</td><td> 5.527625</td><td> 5.765523</td><td>5.794510</td><td> 5.673148</td><td> 5.661434</td><td> 5.792428</td><td> 5.902410</td><td>5.850823</td><td>⋯</td><td> 5.683829</td><td> 5.738701</td><td>5.729288</td><td> 5.629334</td><td> 5.815015</td><td> 5.606970</td><td> 5.733598</td><td> 5.786336</td><td>5.786699</td><td> 5.635683</td></tr>\n",
              "\t<tr><th scope=row>20153</th><td> 7.958196</td><td> 8.240848</td><td> 8.108602</td><td> 7.962404</td><td>7.850494</td><td> 7.661667</td><td> 8.036861</td><td> 8.050551</td><td> 8.311008</td><td>7.968991</td><td>⋯</td><td> 8.109547</td><td> 8.137065</td><td>8.067874</td><td> 8.141278</td><td> 8.124685</td><td> 7.813756</td><td> 7.912128</td><td> 7.885002</td><td>8.000819</td><td> 7.939448</td></tr>\n",
              "\t<tr><th scope=row>9349</th><td> 6.573637</td><td> 6.722796</td><td> 6.621485</td><td> 6.680845</td><td>6.735268</td><td> 6.565933</td><td> 6.670599</td><td> 6.571579</td><td> 6.659489</td><td>6.881373</td><td>⋯</td><td> 6.629452</td><td> 6.560661</td><td>6.811317</td><td> 6.545243</td><td> 6.229667</td><td> 6.541565</td><td> 6.883910</td><td> 6.669711</td><td>6.828555</td><td> 6.774223</td></tr>\n",
              "\t<tr><th scope=row>509</th><td>10.494920</td><td>10.068500</td><td>10.421450</td><td>11.074220</td><td>9.751422</td><td>10.354780</td><td>10.289660</td><td>10.229210</td><td>10.489280</td><td>9.790936</td><td>⋯</td><td>10.624440</td><td>10.273820</td><td>9.645807</td><td>10.839760</td><td>10.407380</td><td>10.291670</td><td>10.828140</td><td>10.228550</td><td>9.595561</td><td>10.189640</td></tr>\n",
              "\t<tr><th scope=row>1084</th><td> 4.475790</td><td> 4.306536</td><td> 4.353308</td><td> 4.277311</td><td>5.876474</td><td> 4.479235</td><td> 4.167353</td><td> 3.935195</td><td> 4.094814</td><td>4.109920</td><td>⋯</td><td> 4.294724</td><td> 4.483528</td><td>4.363303</td><td> 4.313966</td><td> 4.006860</td><td> 4.249210</td><td> 4.366151</td><td> 3.779328</td><td>4.329857</td><td> 4.648503</td></tr>\n",
              "\t<tr><th scope=row>5129</th><td> 7.459041</td><td> 7.370674</td><td> 8.240806</td><td> 8.094577</td><td>7.351286</td><td> 7.901789</td><td> 7.420691</td><td> 8.119202</td><td> 8.188850</td><td>7.591702</td><td>⋯</td><td> 7.863736</td><td> 7.967049</td><td>7.839592</td><td> 7.685373</td><td> 7.920784</td><td> 8.162983</td><td> 7.551414</td><td> 7.964921</td><td>7.252925</td><td> 8.204767</td></tr>\n",
              "</tbody>\n",
              "</table>\n"
            ]
          },
          "metadata": {}
        }
      ]
    },
    {
      "cell_type": "markdown",
      "source": [
        "standarad deviation for 10000 genes from all experimental units"
      ],
      "metadata": {
        "id": "cPxdbFWoOpfU"
      }
    },
    {
      "cell_type": "code",
      "source": [
        "genej_std = apply(genej_sim_data, 1, sd)\n",
        "# head(genej_std)\n",
        "# length(genej_std)"
      ],
      "metadata": {
        "id": "f8Axfy_TOlt5"
      },
      "execution_count": 14,
      "outputs": []
    },
    {
      "cell_type": "markdown",
      "source": [
        "## **Simulation**"
      ],
      "metadata": {
        "id": "kghmWg1heGzZ"
      }
    },
    {
      "cell_type": "markdown",
      "source": [
        "Here, we create 2 treatment groups with 4 randomly selected samples each with 10,000 randlomly selected genes."
      ],
      "metadata": {
        "id": "QKUC3H8Hk30I"
      }
    },
    {
      "cell_type": "code",
      "source": [
        "set.seed(Sys.time())\n",
        "n_samples = 4 #no of samples\n",
        "randomly_selected_samples  = sample(N, 2*n_samples) #randomly select samples of size 2*n_trt_grp \n",
        "                                                    #for treatment group\n",
        "treatment_group1 = randomly_selected_samples[1:n_samples]\n",
        "treatment_group2 = randomly_selected_samples[(n_samples + 1):(2*n_samples)]"
      ],
      "metadata": {
        "id": "UkXbutdZ0dkn"
      },
      "execution_count": 15,
      "outputs": []
    },
    {
      "cell_type": "markdown",
      "source": [
        "Group 1 data"
      ],
      "metadata": {
        "id": "eWNXjPbtTbiE"
      }
    },
    {
      "cell_type": "code",
      "source": [
        "treatment_group1_data = genej_sim_data[treatment_group1]\n",
        "# head(treatment_group1_data)\n",
        "# write.csv(treatment_group1_data, \"10k_untreated_group15.csv\")"
      ],
      "metadata": {
        "id": "T6e_8tz6S_yu"
      },
      "execution_count": 16,
      "outputs": []
    },
    {
      "cell_type": "markdown",
      "source": [
        "* Group 1 consists of EE genes and group 2 consists of 9k EE genes and 1k DE genes (genes with treatment effects)\n",
        "* treatment_group2_data consists of the 4 randomly selected samples (exp. units)"
      ],
      "metadata": {
        "id": "d6wkwzpZw2Ka"
      }
    },
    {
      "cell_type": "code",
      "source": [
        "treatment_group2_data = genej_sim_data[treatment_group2]\n",
        "# dim(treatment_group2_data)\n",
        "head(treatment_group2_data, 2)"
      ],
      "metadata": {
        "colab": {
          "base_uri": "https://localhost:8080/",
          "height": 159
        },
        "id": "HRDWitPVsKfA",
        "outputId": "471a75b1-d816-4867-f554-22485bb66253"
      },
      "execution_count": 17,
      "outputs": [
        {
          "output_type": "display_data",
          "data": {
            "text/plain": [
              "      GSM1247300 GSM1247261 GSM1247275 GSM1247322\n",
              "2573  5.716673   5.570183   5.878891   5.813386  \n",
              "20153 8.231208   7.829603   8.222807   8.120285  "
            ],
            "text/latex": "A data.frame: 2 × 4\n\\begin{tabular}{r|llll}\n  & GSM1247300 & GSM1247261 & GSM1247275 & GSM1247322\\\\\n  & <dbl> & <dbl> & <dbl> & <dbl>\\\\\n\\hline\n\t2573 & 5.716673 & 5.570183 & 5.878891 & 5.813386\\\\\n\t20153 & 8.231208 & 7.829603 & 8.222807 & 8.120285\\\\\n\\end{tabular}\n",
            "text/markdown": "\nA data.frame: 2 × 4\n\n| <!--/--> | GSM1247300 &lt;dbl&gt; | GSM1247261 &lt;dbl&gt; | GSM1247275 &lt;dbl&gt; | GSM1247322 &lt;dbl&gt; |\n|---|---|---|---|---|\n| 2573 | 5.716673 | 5.570183 | 5.878891 | 5.813386 |\n| 20153 | 8.231208 | 7.829603 | 8.222807 | 8.120285 |\n\n",
            "text/html": [
              "<table class=\"dataframe\">\n",
              "<caption>A data.frame: 2 × 4</caption>\n",
              "<thead>\n",
              "\t<tr><th></th><th scope=col>GSM1247300</th><th scope=col>GSM1247261</th><th scope=col>GSM1247275</th><th scope=col>GSM1247322</th></tr>\n",
              "\t<tr><th></th><th scope=col>&lt;dbl&gt;</th><th scope=col>&lt;dbl&gt;</th><th scope=col>&lt;dbl&gt;</th><th scope=col>&lt;dbl&gt;</th></tr>\n",
              "</thead>\n",
              "<tbody>\n",
              "\t<tr><th scope=row>2573</th><td>5.716673</td><td>5.570183</td><td>5.878891</td><td>5.813386</td></tr>\n",
              "\t<tr><th scope=row>20153</th><td>8.231208</td><td>7.829603</td><td>8.222807</td><td>8.120285</td></tr>\n",
              "</tbody>\n",
              "</table>\n"
            ]
          },
          "metadata": {}
        }
      ]
    },
    {
      "cell_type": "markdown",
      "source": [
        "**Simulation from 3.1**"
      ],
      "metadata": {
        "id": "p7EC16Z9oTBw"
      }
    },
    {
      "cell_type": "markdown",
      "source": [
        "We calculate the treatment effect by extracting the effect size of each gene j from a random normal distribution using genej_std (standard deviation for the 10k randomly selected genes from all experimental units in the population data)"
      ],
      "metadata": {
        "id": "9RAU2JHPxJnq"
      }
    },
    {
      "cell_type": "code",
      "source": [
        "set.seed(1)\n",
        "mu = genej_std\n",
        "\n",
        "treatment_effect_j = rnorm(10000, mu, genej_std)\n",
        "# length(treatment_effect_j)\n",
        "#head(data.frame(treatment_effect_j))\n"
      ],
      "metadata": {
        "id": "q6TlNYr7ozju"
      },
      "execution_count": 18,
      "outputs": []
    },
    {
      "cell_type": "markdown",
      "source": [
        "**DE genes**"
      ],
      "metadata": {
        "id": "n3MHTsO6shYH"
      }
    },
    {
      "cell_type": "markdown",
      "source": [
        "DE genes are created by adding treatment effects extracted to each gene in group 2"
      ],
      "metadata": {
        "id": "4obGjAza0LM6"
      }
    },
    {
      "cell_type": "code",
      "source": [
        "dim(treatment_group2_data)\n",
        "de_treatment_group2 = treatment_group2_data + treatment_effect_j\n",
        "# head(de_treatment_group2)"
      ],
      "metadata": {
        "colab": {
          "base_uri": "https://localhost:8080/",
          "height": 34
        },
        "id": "Bk3FIH-utO_T",
        "outputId": "90360f7d-6885-4599-de54-b3dad1e5a328"
      },
      "execution_count": 19,
      "outputs": [
        {
          "output_type": "display_data",
          "data": {
            "text/plain": [
              "[1] 10000     4"
            ],
            "text/latex": "\\begin{enumerate*}\n\\item 10000\n\\item 4\n\\end{enumerate*}\n",
            "text/markdown": "1. 10000\n2. 4\n\n\n",
            "text/html": [
              "<style>\n",
              ".list-inline {list-style: none; margin:0; padding: 0}\n",
              ".list-inline>li {display: inline-block}\n",
              ".list-inline>li:not(:last-child)::after {content: \"\\00b7\"; padding: 0 .5ex}\n",
              "</style>\n",
              "<ol class=list-inline><li>10000</li><li>4</li></ol>\n"
            ]
          },
          "metadata": {}
        }
      ]
    },
    {
      "cell_type": "markdown",
      "source": [
        "## we randomly selected 3000 genes with treatment effect from de_treatment_group2"
      ],
      "metadata": {
        "id": "F9vqFf6J_nKk"
      }
    },
    {
      "cell_type": "code",
      "source": [
        "# set.seed(1)\n",
        "n_de = 1000 \n",
        "n_treated_genes_grp2 = nrow(de_treatment_group2)\n",
        "\n",
        "#we extract 3000 genes from DE_treatment_group2 (genes with treatment effects)\n",
        "de_genes_index = sample(n_treated_genes_grp2, n_de)\n",
        "\n",
        "#we copied untreated (genes without effects) genes from treatment_group2_data\n",
        "treated_genes_group2 = treatment_group2_data\n",
        "\n",
        "#we replaced the 3000 untreated genes (without treatment effects) with the corresponding treated genes(with treatment effects)\n",
        "treated_genes_group2[de_genes_index, ] = de_treatment_group2[de_genes_index, ]\n",
        "\n",
        "# dim(treated_genes_group2)\n",
        "# head(de_genes_index)"
      ],
      "metadata": {
        "id": "PB45JFXn_iGv"
      },
      "execution_count": 20,
      "outputs": []
    },
    {
      "cell_type": "markdown",
      "source": [
        "## **Summary of Group 2 simulation** \n",
        "\n",
        "m00 - number of EE genes\n",
        "\n",
        "m11 - number of DE genes\n"
      ],
      "metadata": {
        "id": "BizhJZB93heZ"
      }
    },
    {
      "cell_type": "code",
      "source": [
        "m00 = treated_genes_group2[-de_genes_index, ]\n",
        "m11 = treated_genes_group2[de_genes_index, ]\n",
        "treatment_effect_size_grp2 = treatment_effect_j[de_genes_index]\n",
        "# write.csv(treated_genes_group2, \"10k_treated_group25.csv\")\n",
        "#dim(m00)\n",
        "#dim(m11)\n",
        "# length(treatment_effect_size_grp2)"
      ],
      "metadata": {
        "id": "eCMZ_f0Q04E8"
      },
      "execution_count": 21,
      "outputs": []
    },
    {
      "cell_type": "markdown",
      "source": [
        "## **Student t-test**"
      ],
      "metadata": {
        "id": "k6Zd99ete5Lm"
      }
    },
    {
      "cell_type": "code",
      "source": [
        "group1_data = treatment_group1_data\n",
        "group2_data = treated_genes_group2"
      ],
      "metadata": {
        "id": "oRIrvYLKfCZ1"
      },
      "execution_count": 22,
      "outputs": []
    },
    {
      "cell_type": "code",
      "source": [
        "ttest <- row_t_equalvar(group1_data, group2_data, alternative = \"two.sided\", mu = 0, conf.level = 0.95)"
      ],
      "metadata": {
        "id": "yXttAmWqf1Cn"
      },
      "execution_count": 23,
      "outputs": []
    },
    {
      "cell_type": "code",
      "source": [
        "pvalue <- ttest[13]\n",
        "head(pvalue)\n",
        "# hist_data <- data.matrix(pvalue)\n",
        "# hist(hist_data)"
      ],
      "metadata": {
        "id": "Qiz68ISHhMwK",
        "outputId": "62390809-2a66-4a3d-ca8b-3e1eca5c566c",
        "colab": {
          "base_uri": "https://localhost:8080/",
          "height": 283
        }
      },
      "execution_count": 24,
      "outputs": [
        {
          "output_type": "display_data",
          "data": {
            "text/plain": [
              "      pvalue      \n",
              "2573  6.096962e-01\n",
              "20153 5.834692e-01\n",
              "9349  1.738878e-01\n",
              "509   3.798330e-06\n",
              "1084  1.652852e-01\n",
              "5129  8.526334e-02"
            ],
            "text/latex": "A data.frame: 6 × 1\n\\begin{tabular}{r|l}\n  & pvalue\\\\\n  & <dbl>\\\\\n\\hline\n\t2573 & 6.096962e-01\\\\\n\t20153 & 5.834692e-01\\\\\n\t9349 & 1.738878e-01\\\\\n\t509 & 3.798330e-06\\\\\n\t1084 & 1.652852e-01\\\\\n\t5129 & 8.526334e-02\\\\\n\\end{tabular}\n",
            "text/markdown": "\nA data.frame: 6 × 1\n\n| <!--/--> | pvalue &lt;dbl&gt; |\n|---|---|\n| 2573 | 6.096962e-01 |\n| 20153 | 5.834692e-01 |\n| 9349 | 1.738878e-01 |\n| 509 | 3.798330e-06 |\n| 1084 | 1.652852e-01 |\n| 5129 | 8.526334e-02 |\n\n",
            "text/html": [
              "<table class=\"dataframe\">\n",
              "<caption>A data.frame: 6 × 1</caption>\n",
              "<thead>\n",
              "\t<tr><th></th><th scope=col>pvalue</th></tr>\n",
              "\t<tr><th></th><th scope=col>&lt;dbl&gt;</th></tr>\n",
              "</thead>\n",
              "<tbody>\n",
              "\t<tr><th scope=row>2573</th><td>6.096962e-01</td></tr>\n",
              "\t<tr><th scope=row>20153</th><td>5.834692e-01</td></tr>\n",
              "\t<tr><th scope=row>9349</th><td>1.738878e-01</td></tr>\n",
              "\t<tr><th scope=row>509</th><td>3.798330e-06</td></tr>\n",
              "\t<tr><th scope=row>1084</th><td>1.652852e-01</td></tr>\n",
              "\t<tr><th scope=row>5129</th><td>8.526334e-02</td></tr>\n",
              "</tbody>\n",
              "</table>\n"
            ]
          },
          "metadata": {}
        }
      ]
    },
    {
      "cell_type": "markdown",
      "source": [
        "**Adjusted p-values using Benjamini Hochberg**"
      ],
      "metadata": {
        "id": "ArjyULR9hcYa"
      }
    },
    {
      "cell_type": "code",
      "source": [
        "adj_pvalue <- p.adjust(data.matrix(pvalue), \"BH\")\n",
        "adj_pvalue_df <-  data.frame(adj_pvalue)"
      ],
      "metadata": {
        "id": "d9G89rxYheYE"
      },
      "execution_count": 25,
      "outputs": []
    },
    {
      "cell_type": "markdown",
      "source": [
        "## **Limma t-test**"
      ],
      "metadata": {
        "id": "ZRrYJBclibtT"
      }
    },
    {
      "cell_type": "code",
      "source": [
        "limma_gene_exp <- c(group1_data, group2_data)\n",
        "limma_gene_exp <- data.frame(limma_gene_exp)"
      ],
      "metadata": {
        "id": "vfXN4ZO6jLSF"
      },
      "execution_count": 26,
      "outputs": []
    },
    {
      "cell_type": "markdown",
      "source": [
        "**Create expression list**\n",
        "\n",
        "create a factor list for the differentially expressed genes with group1 set as first level"
      ],
      "metadata": {
        "id": "m41rK3akjvVH"
      }
    },
    {
      "cell_type": "code",
      "source": [
        "expr_list_10k <- factor(\n",
        "  x = c(rep(\"group1\",4), rep(\"group2\",4)),\n",
        "  levels=c(\"group1\",\"group2\")            # Set group 1 to be the first level\n",
        ")\n",
        "\n",
        "design <- model.matrix(~expr_list_10k)          # Remove the zero\n",
        "# head(design)"
      ],
      "metadata": {
        "id": "KpV2NlpejxBN"
      },
      "execution_count": 27,
      "outputs": []
    },
    {
      "cell_type": "code",
      "source": [
        "# #Now we can run the differential expression pipeline\n",
        "\n",
        "fit <- lmFit(limma_gene_exp, design)\n",
        "fit <- eBayes(fit)\n",
        "results <- decideTests(fit)\n",
        "# write.csv(summary(results), \"summary_10k_genes_expr_sim5.csv\")"
      ],
      "metadata": {
        "id": "LzBwsblPkBC3"
      },
      "execution_count": 28,
      "outputs": []
    },
    {
      "cell_type": "code",
      "source": [
        "head(fit$p.value)"
      ],
      "metadata": {
        "id": "7u8G50o763Ib",
        "outputId": "7d61e47d-ad2e-4b0f-b4ad-4f2ddbde9017",
        "colab": {
          "base_uri": "https://localhost:8080/",
          "height": 252
        }
      },
      "execution_count": 30,
      "outputs": [
        {
          "output_type": "display_data",
          "data": {
            "text/plain": [
              "     (Intercept)  expr_list_10kgroup2\n",
              "[1,] 3.177115e-13 6.535316e-01       \n",
              "[2,] 1.157367e-13 5.778525e-01       \n",
              "[3,] 4.293840e-13 1.632579e-01       \n",
              "[4,] 2.278502e-15 3.185251e-07       \n",
              "[5,] 4.432785e-07 9.015440e-02       \n",
              "[6,] 8.139978e-14 8.267542e-02       "
            ],
            "text/latex": "A matrix: 6 × 2 of type dbl\n\\begin{tabular}{ll}\n (Intercept) & expr\\_list\\_10kgroup2\\\\\n\\hline\n\t 3.177115e-13 & 6.535316e-01\\\\\n\t 1.157367e-13 & 5.778525e-01\\\\\n\t 4.293840e-13 & 1.632579e-01\\\\\n\t 2.278502e-15 & 3.185251e-07\\\\\n\t 4.432785e-07 & 9.015440e-02\\\\\n\t 8.139978e-14 & 8.267542e-02\\\\\n\\end{tabular}\n",
            "text/markdown": "\nA matrix: 6 × 2 of type dbl\n\n| (Intercept) | expr_list_10kgroup2 |\n|---|---|\n| 3.177115e-13 | 6.535316e-01 |\n| 1.157367e-13 | 5.778525e-01 |\n| 4.293840e-13 | 1.632579e-01 |\n| 2.278502e-15 | 3.185251e-07 |\n| 4.432785e-07 | 9.015440e-02 |\n| 8.139978e-14 | 8.267542e-02 |\n\n",
            "text/html": [
              "<table class=\"dataframe\">\n",
              "<caption>A matrix: 6 × 2 of type dbl</caption>\n",
              "<thead>\n",
              "\t<tr><th scope=col>(Intercept)</th><th scope=col>expr_list_10kgroup2</th></tr>\n",
              "</thead>\n",
              "<tbody>\n",
              "\t<tr><td>3.177115e-13</td><td>6.535316e-01</td></tr>\n",
              "\t<tr><td>1.157367e-13</td><td>5.778525e-01</td></tr>\n",
              "\t<tr><td>4.293840e-13</td><td>1.632579e-01</td></tr>\n",
              "\t<tr><td>2.278502e-15</td><td>3.185251e-07</td></tr>\n",
              "\t<tr><td>4.432785e-07</td><td>9.015440e-02</td></tr>\n",
              "\t<tr><td>8.139978e-14</td><td>8.267542e-02</td></tr>\n",
              "</tbody>\n",
              "</table>\n"
            ]
          },
          "metadata": {}
        }
      ]
    },
    {
      "cell_type": "code",
      "source": [
        "limma_pvalue <- fit$p.value[, 2]\n",
        "limma_pvalue <- data.frame(limma_pvalue)\n",
        "head(limma_pvalue)"
      ],
      "metadata": {
        "id": "iYgd2p_IkMzn",
        "outputId": "f09cd5b5-aca3-4d93-80e7-58f5b1afb650",
        "colab": {
          "base_uri": "https://localhost:8080/",
          "height": 283
        }
      },
      "execution_count": 29,
      "outputs": [
        {
          "output_type": "display_data",
          "data": {
            "text/plain": [
              "  limma_pvalue\n",
              "1 6.535316e-01\n",
              "2 5.778525e-01\n",
              "3 1.632579e-01\n",
              "4 3.185251e-07\n",
              "5 9.015440e-02\n",
              "6 8.267542e-02"
            ],
            "text/latex": "A data.frame: 6 × 1\n\\begin{tabular}{r|l}\n  & limma\\_pvalue\\\\\n  & <dbl>\\\\\n\\hline\n\t1 & 6.535316e-01\\\\\n\t2 & 5.778525e-01\\\\\n\t3 & 1.632579e-01\\\\\n\t4 & 3.185251e-07\\\\\n\t5 & 9.015440e-02\\\\\n\t6 & 8.267542e-02\\\\\n\\end{tabular}\n",
            "text/markdown": "\nA data.frame: 6 × 1\n\n| <!--/--> | limma_pvalue &lt;dbl&gt; |\n|---|---|\n| 1 | 6.535316e-01 |\n| 2 | 5.778525e-01 |\n| 3 | 1.632579e-01 |\n| 4 | 3.185251e-07 |\n| 5 | 9.015440e-02 |\n| 6 | 8.267542e-02 |\n\n",
            "text/html": [
              "<table class=\"dataframe\">\n",
              "<caption>A data.frame: 6 × 1</caption>\n",
              "<thead>\n",
              "\t<tr><th></th><th scope=col>limma_pvalue</th></tr>\n",
              "\t<tr><th></th><th scope=col>&lt;dbl&gt;</th></tr>\n",
              "</thead>\n",
              "<tbody>\n",
              "\t<tr><th scope=row>1</th><td>6.535316e-01</td></tr>\n",
              "\t<tr><th scope=row>2</th><td>5.778525e-01</td></tr>\n",
              "\t<tr><th scope=row>3</th><td>1.632579e-01</td></tr>\n",
              "\t<tr><th scope=row>4</th><td>3.185251e-07</td></tr>\n",
              "\t<tr><th scope=row>5</th><td>9.015440e-02</td></tr>\n",
              "\t<tr><th scope=row>6</th><td>8.267542e-02</td></tr>\n",
              "</tbody>\n",
              "</table>\n"
            ]
          },
          "metadata": {}
        }
      ]
    },
    {
      "cell_type": "code",
      "source": [
        "adj_limma_pvalue <- data.matrix(limma_pvalue)\n",
        "adj_limma_pvalue <- p.adjust(adj_limma_pvalue, \"BH\")\n",
        "adj_limma_pvalue <- data.frame(adj_limma_pvalue)"
      ],
      "metadata": {
        "id": "DV4Rw3YPkXI_"
      },
      "execution_count": null,
      "outputs": []
    },
    {
      "cell_type": "markdown",
      "source": [
        "## **Proposed Method**"
      ],
      "metadata": {
        "id": "mk8b4dDOleOI"
      }
    },
    {
      "cell_type": "code",
      "source": [
        "pval_raw <- c(pvalue, limma_pvalue)\n",
        "pval_raw <- data.frame(pval_raw)\n",
        "pvals1 <- (as.matrix(pval_raw[,1]))\n",
        "pvals2 <- (as.matrix(pval_raw[,2]))"
      ],
      "metadata": {
        "id": "UNbp2rclldlm"
      },
      "execution_count": null,
      "outputs": []
    },
    {
      "cell_type": "markdown",
      "source": [
        "**Calculate cut-off points using Histogram-based method**\n",
        "\n",
        "calc.cutoff slightly modifies the estimate.m0 function to return the appropriate p-value cutoff where all p-values greater than the cutoff are assumed to come from null cases."
      ],
      "metadata": {
        "id": "q7-Ajk2roJsR"
      }
    },
    {
      "cell_type": "code",
      "source": [
        "calc.cutoff = function(p, B = 20, max=1){\n",
        "\n",
        "  m <- length(p)\n",
        "  m0 <- m\n",
        "  bin <- c(-0.1, (1:B)/B*max)\n",
        "  bin.counts=rep(0,B)\n",
        "\n",
        "  for(i in 1:B){\n",
        "    bin.counts[i]=sum((p>bin[i])&(p<=bin[i+1]))\n",
        "  }\n",
        "\n",
        "  tail.means <- rev(cumsum(rev(bin.counts))/(1:B))\n",
        "  temp <- bin.counts - tail.means\n",
        "  index <- min((1:B)[temp <= 0])\n",
        "  cutoff2 <- (index)/B*max\n",
        "  if(cutoff2 == 1) {cutoff2 <- 1-1/B}\n",
        "\n",
        "  return(cutoff2)\n",
        "\n",
        "}\n",
        "\n",
        "cutoff_value1 = calc.cutoff(pvals1, B=20, max=1)\n",
        "cutoff_value2 = calc.cutoff(pvals2, B=20, max=1)\n",
        "\n",
        "cutoff = cbind(c(cutoff_value1), c(cutoff_value2))\n",
        "\n",
        "colnames(cutoff) = c(\"cutoff_value1\", \"cutoff_value2\")\n",
        "\n",
        "cutoff"
      ],
      "metadata": {
        "colab": {
          "base_uri": "https://localhost:8080/",
          "height": 97
        },
        "id": "w6VhmOGroFvK",
        "outputId": "b2b50a87-b31a-4121-fc9c-45ba01873486"
      },
      "execution_count": null,
      "outputs": [
        {
          "output_type": "display_data",
          "data": {
            "text/plain": [
              "     cutoff_value1 cutoff_value2\n",
              "[1,] 0.85          0.85         "
            ],
            "text/latex": "A matrix: 1 × 2 of type dbl\n\\begin{tabular}{ll}\n cutoff\\_value1 & cutoff\\_value2\\\\\n\\hline\n\t 0.85 & 0.85\\\\\n\\end{tabular}\n",
            "text/markdown": "\nA matrix: 1 × 2 of type dbl\n\n| cutoff_value1 | cutoff_value2 |\n|---|---|\n| 0.85 | 0.85 |\n\n",
            "text/html": [
              "<table class=\"dataframe\">\n",
              "<caption>A matrix: 1 × 2 of type dbl</caption>\n",
              "<thead>\n",
              "\t<tr><th scope=col>cutoff_value1</th><th scope=col>cutoff_value2</th></tr>\n",
              "</thead>\n",
              "<tbody>\n",
              "\t<tr><td>0.85</td><td>0.85</td></tr>\n",
              "</tbody>\n",
              "</table>\n"
            ]
          },
          "metadata": {}
        }
      ]
    },
    {
      "cell_type": "markdown",
      "source": [
        "**Filter dataset using cutoff points**\n",
        "\n",
        "selecting pvalues in the upper-right quadrant using Histogram-Based method\n",
        "defined as lambda1 = cutoffvalue1 and lambda2 = cutoffvalue2 for pvalue 1 and pvalue 2 respectively.\n",
        "lambda1, lambda2 - probability of pvalue 1 and pvalue 2 in the upper-right quadrant respectively"
      ],
      "metadata": {
        "id": "nTyrOl4LobJz"
      }
    },
    {
      "cell_type": "code",
      "source": [
        "p_vals = pval_raw  %>% filter(pvalue >=cutoff_value1, limma_pvalue>=cutoff_value2)"
      ],
      "metadata": {
        "id": "21HbwHpuoYUB"
      },
      "execution_count": null,
      "outputs": []
    },
    {
      "cell_type": "markdown",
      "source": [
        "convert selected pvalues to z values"
      ],
      "metadata": {
        "id": "ua_W9Lzaokpm"
      }
    },
    {
      "cell_type": "code",
      "source": [
        "z_val = as.data.frame(qnorm(as.matrix(p_vals), lower.tail = TRUE))\n",
        "colnames(z_val) = c(\"zvals1\", \"zvals2\")\n",
        "\n",
        "zvals1 <- (as.data.frame(as.matrix(z_val[,1])))\n",
        "zvals2 <- (as.data.frame(as.matrix(z_val[,2])))"
      ],
      "metadata": {
        "id": "1QvG3J82onat"
      },
      "execution_count": null,
      "outputs": []
    },
    {
      "cell_type": "markdown",
      "source": [
        "convert lambda(truncation points) to z values"
      ],
      "metadata": {
        "id": "qSpXm07Qow0d"
      }
    },
    {
      "cell_type": "code",
      "source": [
        "z_val_extremums = as.data.frame(qnorm(as.matrix(cbind(c(cutoff_value1,1),c(cutoff_value2,1))), lower.tail = TRUE))\n",
        "\n",
        "min_z1 <- z_val_extremums[1,1]\n",
        "min_z2 <- z_val_extremums[1,2]"
      ],
      "metadata": {
        "id": "xWJ5B7QXoxwO"
      },
      "execution_count": null,
      "outputs": []
    },
    {
      "cell_type": "markdown",
      "source": [
        "**Estimating m00s**\n",
        "\n",
        "m0.1 - DE genes in experiment 1\n",
        "m0.2 - DE genes in experiment 2\n",
        "m11 - DE genes in both experiments\n",
        "m00 - EE genes in both experiments"
      ],
      "metadata": {
        "id": "VFPqP5aQo6PZ"
      }
    },
    {
      "cell_type": "code",
      "source": [
        "estimate.m0s <- function(p1, p2, B=20){\n",
        "  m <- length(p1)\n",
        "\n",
        "  ##find lambda cutoffs using histogram-based method\n",
        "  c1 <- calc.cutoff(p1, B=B, max=1)\n",
        "  c2 <- calc.cutoff(p2, B=B, max=1)\n",
        "\n",
        "  ##estimate m0 for experiment 1\n",
        "  ind1 <- (p1>=c1)\n",
        "  m0.1 <- sum(ind1)/(1-c1)\n",
        "  m0.1 <- min(m0.1, 10000)\n",
        "\n",
        "  ##estimate m0 for experiment 2  \n",
        "  ind2 <- (p2>=c2)\n",
        "  m0.2 <- sum(ind2)/(1-c2)\n",
        "  m0.2 <- min(m0.2, 10000)\n",
        "\n",
        "\n",
        "  ##estimate m00\n",
        "  ind12 <- ind1 & ind2\n",
        "  nA <- sum(ind12)\n",
        "  #pA <- (1-c1)*(1-c2)\n",
        "  #m00 <- nA/pA\n",
        "  \n",
        "  #here, we used converted pvalues to z values to estimnate m00\n",
        "  # density function for each row of the bivariate z values (x) and \n",
        "  # estimated parameters(rho)\n",
        "  density = function(x, rho)\n",
        "  {\n",
        "    sigma = matrix(c(1, rho, rho, 1), 2, 2)\n",
        "    z = dtmvnorm(x, mean = c(0,0), sigma = sigma, lower = c(min_z1, min_z2))\n",
        "  }\n",
        "  \n",
        "  # log likelihood of the joint densities\n",
        "  log_likelihood_fn = function(rho){\n",
        "    \n",
        "    joint_likelihood = z_val %>% split(.$zvals2) %>% map_dfr(~density(c(.$zvals1,.$zvals2),rho))    \n",
        "    return(-sum(log(joint_likelihood)))\n",
        "    \n",
        "  }\n",
        "  \n",
        "  #MLE of the log likelihood function\n",
        "  optimal_rho = optimize(log_likelihood_fn, lower = -1, upper = 1 )\n",
        "  optimal_rho = as.data.frame(optimal_rho)\n",
        "  \n",
        "  #probability of a random variable greater than cutoff values \n",
        "  rho = as.numeric(optimal_rho[1])\n",
        "  obj_value = optimal_rho[2]\n",
        "  pA = pmvnorm(lower=c(min_z1, min_z2), upper=c(Inf, Inf), mean=c(0,0), sigma = matrix(c(1, rho, rho, 1), 2, 2))\n",
        "  \n",
        "\n",
        "  m00 <- nA/pA\n",
        "  m00 <- min(m00, 10000)\n",
        "  \n",
        "  \n",
        "  ##estimate m11\n",
        "  m11 <- sum(m - m0.1 - m0.2 + m00)\n",
        "  if (m0.1 == 10000 || m0.2 == 10000 || m00 == 10000){\n",
        "    m11 = 0\n",
        "  }\n",
        "  \n",
        "  ret <- list()\n",
        "  ret$ms <- c(obj_value, rho, m, m0.1, m0.2, m00, m11)\n",
        "  names(ret$ms) <- c(\"obj_value\", \"optimal_rho\", \"m\", \"m0.1\", \"m0.2\", \"m00\", \"m11\")\n",
        "  ret$cutoffs <- c(c1, c2)\n",
        "  return(ret)\n",
        "}\n",
        "\n",
        "estimate.m0s(pvals1, pvals2, B=20)"
      ],
      "metadata": {
        "id": "bGH8chOao8QO",
        "outputId": "38af068a-7acd-4b02-cc00-0edd8e9b2dfd",
        "colab": {
          "base_uri": "https://localhost:8080/",
          "height": 362
        }
      },
      "execution_count": null,
      "outputs": [
        {
          "output_type": "display_data",
          "data": {
            "text/plain": [
              "$ms\n",
              "$ms$obj_value\n",
              "[1] -488.5183\n",
              "\n",
              "$ms$optimal_rho\n",
              "[1] 0.996325\n",
              "\n",
              "$ms$m\n",
              "[1] 10000\n",
              "\n",
              "$ms$m0.1\n",
              "[1] 4693.333\n",
              "\n",
              "$ms$m0.2\n",
              "[1] 4706.667\n",
              "\n",
              "$ms$m00\n",
              "[1] 4654.091\n",
              "\n",
              "$ms$m11\n",
              "[1] 5254.091\n",
              "\n",
              "\n",
              "$cutoffs\n",
              "[1] 0.85 0.85\n"
            ],
            "text/latex": "\\begin{description}\n\\item[\\$ms] \\begin{description}\n\\item[\\$obj\\_value] -488.518331985531\n\\item[\\$optimal\\_rho] 0.996324951258672\n\\item[\\$m] 10000\n\\item[\\$m0.1] 4693.33333333333\n\\item[\\$m0.2] 4706.66666666667\n\\item[\\$m00] 4654.09077806968\n\\item[\\$m11] 5254.09077806968\n\\end{description}\n\n\\item[\\$cutoffs] \\begin{enumerate*}\n\\item 0.85\n\\item 0.85\n\\end{enumerate*}\n\n\\end{description}\n",
            "text/markdown": "$ms\n:   $obj_value\n:   -488.518331985531\n$optimal_rho\n:   0.996324951258672\n$m\n:   10000\n$m0.1\n:   4693.33333333333\n$m0.2\n:   4706.66666666667\n$m00\n:   4654.09077806968\n$m11\n:   5254.09077806968\n\n\n\n$cutoffs\n:   1. 0.85\n2. 0.85\n\n\n\n\n\n",
            "text/html": [
              "<dl>\n",
              "\t<dt>$ms</dt>\n",
              "\t\t<dd><dl>\n",
              "\t<dt>$obj_value</dt>\n",
              "\t\t<dd>-488.518331985531</dd>\n",
              "\t<dt>$optimal_rho</dt>\n",
              "\t\t<dd>0.996324951258672</dd>\n",
              "\t<dt>$m</dt>\n",
              "\t\t<dd>10000</dd>\n",
              "\t<dt>$m0.1</dt>\n",
              "\t\t<dd>4693.33333333333</dd>\n",
              "\t<dt>$m0.2</dt>\n",
              "\t\t<dd>4706.66666666667</dd>\n",
              "\t<dt>$m00</dt>\n",
              "\t\t<dd>4654.09077806968</dd>\n",
              "\t<dt>$m11</dt>\n",
              "\t\t<dd>5254.09077806968</dd>\n",
              "</dl>\n",
              "</dd>\n",
              "\t<dt>$cutoffs</dt>\n",
              "\t\t<dd><style>\n",
              ".list-inline {list-style: none; margin:0; padding: 0}\n",
              ".list-inline>li {display: inline-block}\n",
              ".list-inline>li:not(:last-child)::after {content: \"\\00b7\"; padding: 0 .5ex}\n",
              "</style>\n",
              "<ol class=list-inline><li>0.85</li><li>0.85</li></ol>\n",
              "</dd>\n",
              "</dl>\n"
            ]
          },
          "metadata": {}
        }
      ]
    },
    {
      "cell_type": "markdown",
      "source": [
        "# **Orr, 2012 Method**"
      ],
      "metadata": {
        "id": "rgV-bPr6vrWX"
      }
    },
    {
      "cell_type": "code",
      "source": [
        "estimate.m0s <- function(p1, p2, B=20){\n",
        "  m <- length(p1)\n",
        "\n",
        "  ##find lambda cutoffs using histogram-based method\n",
        "  c1 <- calc.cutoff(p1, B=B, max=1)\n",
        "  c2 <- calc.cutoff(p2, B=B, max=1)\n",
        "\n",
        "  ##estimate m0 for experiment 1\n",
        "  ind1 <- (p1>=c1)\n",
        "  m0.1 <- sum(ind1)/(1-c1)\n",
        "  m0.1 <- min(m0.1, 10000)\n",
        "  \n",
        "\n",
        "  ##estimate m0 for experiment 2  \n",
        "  ind2 <- (p2>=c2)\n",
        "  m0.2 <- sum(ind2)/(1-c2)\n",
        "  m0.2 <- min(m0.2, 10000)\n",
        "\n",
        "  ##estimate m00\n",
        "  ind12 <- ind1 & ind2\n",
        "  nA <- sum(ind12)\n",
        "  pA <- (1-c1)*(1-c2)\n",
        "  m00 <- nA/pA\n",
        "  m00 <- min(m00, 10000)\n",
        "\n",
        "\n",
        "  ##estimate m11\n",
        "  m11 <- sum(m - m0.1 - m0.2 + m00)\n",
        "  if (m00 == 10000 || m0.1 == 10000 || m0.2 == 10000){\n",
        "    m11 = 0\n",
        "  }\n",
        "  \n",
        "  ret <- list()\n",
        "  ret$ms <- c(m, m0.1, m0.2, m11, m00)\n",
        "  names(ret$ms) <- c(\"m\", \"m0.1\", \"m0.2\", \"m11\",\"m00\")\n",
        "  ret$cutoffs <- c(c1, c2)\n",
        "  return(ret)\n",
        "}\n",
        "\n",
        "estimate.m0s(pvals1, pvals2, B=20)"
      ],
      "metadata": {
        "id": "xNiSUz-rv0PG",
        "outputId": "fb6a8a77-2311-49ee-a2c3-9eb30bac482c",
        "colab": {
          "base_uri": "https://localhost:8080/",
          "height": 113
        }
      },
      "execution_count": null,
      "outputs": [
        {
          "output_type": "display_data",
          "data": {
            "text/plain": [
              "$ms\n",
              "        m      m0.1      m0.2       m11       m00 \n",
              "10000.000  4693.333  4706.667     0.000 10000.000 \n",
              "\n",
              "$cutoffs\n",
              "[1] 0.85 0.85\n"
            ],
            "text/latex": "\\begin{description}\n\\item[\\$ms] \\begin{description*}\n\\item[m] 10000\n\\item[m0.1] 4693.33333333333\n\\item[m0.2] 4706.66666666667\n\\item[m11] 0\n\\item[m00] 10000\n\\end{description*}\n\n\\item[\\$cutoffs] \\begin{enumerate*}\n\\item 0.85\n\\item 0.85\n\\end{enumerate*}\n\n\\end{description}\n",
            "text/markdown": "$ms\n:   m\n:   10000m0.1\n:   4693.33333333333m0.2\n:   4706.66666666667m11\n:   0m00\n:   10000\n\n\n$cutoffs\n:   1. 0.85\n2. 0.85\n\n\n\n\n\n",
            "text/html": [
              "<dl>\n",
              "\t<dt>$ms</dt>\n",
              "\t\t<dd><style>\n",
              ".dl-inline {width: auto; margin:0; padding: 0}\n",
              ".dl-inline>dt, .dl-inline>dd {float: none; width: auto; display: inline-block}\n",
              ".dl-inline>dt::after {content: \":\\0020\"; padding-right: .5ex}\n",
              ".dl-inline>dt:not(:first-of-type) {padding-left: .5ex}\n",
              "</style><dl class=dl-inline><dt>m</dt><dd>10000</dd><dt>m0.1</dt><dd>4693.33333333333</dd><dt>m0.2</dt><dd>4706.66666666667</dd><dt>m11</dt><dd>0</dd><dt>m00</dt><dd>10000</dd></dl>\n",
              "</dd>\n",
              "\t<dt>$cutoffs</dt>\n",
              "\t\t<dd><style>\n",
              ".list-inline {list-style: none; margin:0; padding: 0}\n",
              ".list-inline>li {display: inline-block}\n",
              ".list-inline>li:not(:last-child)::after {content: \"\\00b7\"; padding: 0 .5ex}\n",
              "</style>\n",
              "<ol class=list-inline><li>0.85</li><li>0.85</li></ol>\n",
              "</dd>\n",
              "</dl>\n"
            ]
          },
          "metadata": {}
        }
      ]
    },
    {
      "cell_type": "markdown",
      "source": [
        "# **Intersection Method**"
      ],
      "metadata": {
        "id": "GIufmHJNxHf7"
      }
    },
    {
      "cell_type": "code",
      "source": [
        "adj_pvalue_df <- data.frame(adj_pvalue)\n",
        "# head(adj_pvalue_df)"
      ],
      "metadata": {
        "id": "rMG5q0LR0AiL"
      },
      "execution_count": null,
      "outputs": []
    },
    {
      "cell_type": "code",
      "source": [
        "pvalue_p <- adj_pvalue_df[rowSums(adj_pvalue_df[1]<=0.05), ]\n",
        "pvalue_05 <- length(pvalue_p)\n",
        "#pvalue_05"
      ],
      "metadata": {
        "id": "DXeXTXtv160X"
      },
      "execution_count": null,
      "outputs": []
    },
    {
      "cell_type": "code",
      "source": [
        "limma_p <- adj_limma_pvalue[rowSums(adj_limma_pvalue[1]<=0.05), ]\n",
        "limma_05 <- length(limma_p) \n",
        "#limma_05"
      ],
      "metadata": {
        "id": "rookLcfo2d0G"
      },
      "execution_count": null,
      "outputs": []
    },
    {
      "cell_type": "code",
      "source": [
        "limma_ttest <- c(adj_pvalue_df, adj_limma_pvalue)\n",
        "limma_ttest <- data.frame(limma_ttest)"
      ],
      "metadata": {
        "id": "Zy-AgKr_ojy9"
      },
      "execution_count": null,
      "outputs": []
    },
    {
      "cell_type": "code",
      "source": [
        "limma_ttest_p <- limma_ttest[rowSums((limma_ttest[1]<=0.05) & (limma_ttest[2]<=0.05)), ]\n",
        "limma_ttest_05 <- nrow(limma_ttest_p)\n",
        "limma_ttest_05"
      ],
      "metadata": {
        "id": "G5Ae8pGmd2Vp",
        "outputId": "d8136a35-335d-4488-d036-f47395757ceb",
        "colab": {
          "base_uri": "https://localhost:8080/",
          "height": 34
        }
      },
      "execution_count": null,
      "outputs": [
        {
          "output_type": "display_data",
          "data": {
            "text/plain": [
              "[1] 1352"
            ],
            "text/latex": "1352",
            "text/markdown": "1352",
            "text/html": [
              "1352"
            ]
          },
          "metadata": {}
        }
      ]
    },
    {
      "cell_type": "code",
      "source": [
        "pvalue_p2 <- adj_pvalue_df[rowSums(adj_pvalue_df[1]<=0.1), ]\n",
        "pvalue_1 <- length(pvalue_p2)\n",
        "#pvalue_1"
      ],
      "metadata": {
        "id": "uSuCQvWy5OeO"
      },
      "execution_count": null,
      "outputs": []
    },
    {
      "cell_type": "code",
      "source": [
        "limma_p2 <- adj_limma_pvalue[rowSums(adj_limma_pvalue[1]<=0.1), ]\n",
        "limma_1 <- length(limma_p2) \n",
        "#limma_1"
      ],
      "metadata": {
        "id": "m3S1qTa95hUo"
      },
      "execution_count": null,
      "outputs": []
    },
    {
      "cell_type": "code",
      "source": [
        "# write.csv(limma_ttest, \"adj_pvalue_limma.csv\", row.names=FALSE)"
      ],
      "metadata": {
        "id": "lEyFH9QuTuuu"
      },
      "execution_count": null,
      "outputs": []
    },
    {
      "cell_type": "code",
      "source": [
        "limma_ttest_p2 <- limma_ttest[rowSums((limma_ttest[1]<=0.1) & (limma_ttest[2]<=0.1)), ]\n",
        "limma_ttest_1 <- nrow(limma_ttest_p2)\n",
        "limma_ttest_1"
      ],
      "metadata": {
        "id": "xsCqFwy11f0k",
        "outputId": "9d77215c-2e44-4a21-e60a-fd16470a9edd",
        "colab": {
          "base_uri": "https://localhost:8080/",
          "height": 34
        }
      },
      "execution_count": null,
      "outputs": [
        {
          "output_type": "display_data",
          "data": {
            "text/plain": [
              "[1] 2207"
            ],
            "text/latex": "2207",
            "text/markdown": "2207",
            "text/html": [
              "2207"
            ]
          },
          "metadata": {}
        }
      ]
    },
    {
      "cell_type": "markdown",
      "source": [
        "# **Venn diagram Analysis**"
      ],
      "metadata": {
        "id": "i2e3DmHHfmo8"
      }
    },
    {
      "cell_type": "markdown",
      "source": [
        "Controlling at alpha<=0.05 using Benjamini-Hochberg"
      ],
      "metadata": {
        "id": "FiyEqTVJgCVl"
      }
    },
    {
      "cell_type": "code",
      "source": [
        "# draw.pairwise.venn(area1=limma_1, area2=pvalue_1,cross.area=limma_ttest_1,\n",
        "#                    category=c(\"Student t-test\",\"Limma\"),fill=c(\"Red\",\"Yellow\"),\n",
        "# )"
      ],
      "metadata": {
        "id": "DU4YFsn7fsEk"
      },
      "execution_count": null,
      "outputs": []
    }
  ]
}