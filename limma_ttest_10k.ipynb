{
  "nbformat": 4,
  "nbformat_minor": 0,
  "metadata": {
    "colab": {
      "name": "limma_ttest_10k.ipynb",
      "provenance": [],
      "authorship_tag": "ABX9TyNM2jk8S+qvo7kTGAjy8vT/",
      "include_colab_link": true
    },
    "kernelspec": {
      "name": "ir",
      "display_name": "R"
    },
    "language_info": {
      "name": "R"
    }
  },
  "cells": [
    {
      "cell_type": "markdown",
      "metadata": {
        "id": "view-in-github",
        "colab_type": "text"
      },
      "source": [
        "<a href=\"https://colab.research.google.com/github/almedida/thesis/blob/main/limma_ttest_10k.ipynb\" target=\"_parent\"><img src=\"https://colab.research.google.com/assets/colab-badge.svg\" alt=\"Open In Colab\"/></a>"
      ]
    },
    {
      "cell_type": "markdown",
      "source": [
        "##**Install tools**##"
      ],
      "metadata": {
        "id": "MiZD9WHcKd_Z"
      }
    },
    {
      "cell_type": "code",
      "execution_count": 1,
      "metadata": {
        "id": "Y9yuvvKAngEo",
        "outputId": "77c84fdf-db70-4563-b357-b1ad6e881e3c",
        "colab": {
          "base_uri": "https://localhost:8080/"
        }
      },
      "outputs": [
        {
          "output_type": "stream",
          "name": "stderr",
          "text": [
            "Installing package into ‘/usr/local/lib/R/site-library’\n",
            "(as ‘lib’ is unspecified)\n",
            "\n",
            "'getOption(\"repos\")' replaces Bioconductor standard repositories, see\n",
            "'?repositories' for details\n",
            "\n",
            "replacement repositories:\n",
            "    CRAN: https://cran.rstudio.com\n",
            "\n",
            "\n",
            "Bioconductor version 3.14 (BiocManager 1.30.16), R 4.1.2 (2021-11-01)\n",
            "\n",
            "Installing package(s) 'BiocVersion', 'limma', 'qvalue'\n",
            "\n",
            "also installing the dependencies ‘plyr’, ‘reshape2’\n",
            "\n",
            "\n",
            "Old packages: 'pbdZMQ', 'brew', 'dplyr', 'generics', 'pillar', 'readr',\n",
            "  'rlang', 'svglite', 'tidyr'\n",
            "\n",
            "Installing package into ‘/usr/local/lib/R/site-library’\n",
            "(as ‘lib’ is unspecified)\n",
            "\n",
            "Installing package into ‘/usr/local/lib/R/site-library’\n",
            "(as ‘lib’ is unspecified)\n",
            "\n",
            "also installing the dependency ‘matrixStats’\n",
            "\n",
            "\n",
            "\n",
            "matrixTests installed\n",
            "\n",
            "Installing package into ‘/usr/local/lib/R/site-library’\n",
            "(as ‘lib’ is unspecified)\n",
            "\n",
            "\n",
            "gtools installed\n",
            "\n",
            "Installing package into ‘/usr/local/lib/R/site-library’\n",
            "(as ‘lib’ is unspecified)\n",
            "\n",
            "also installing the dependencies ‘formatR’, ‘lambda.r’, ‘futile.options’, ‘futile.logger’\n",
            "\n",
            "\n",
            "\n",
            "VennDiagram installed\n",
            "\n"
          ]
        }
      ],
      "source": [
        "#install BiocManager\n",
        "if (!requireNamespace(\"BiocManager\", quietly = TRUE))\n",
        "  install.packages(\"BiocManager\")\n",
        "\n",
        "#install limma and qvalue packages\n",
        "BiocManager::install(c(\"limma\", \"qvalue\"))\n",
        "library(limma)\n",
        "library(qvalue)\n",
        "\n",
        "install.packages('pacman')\n",
        "library(pacman, devtools)\n",
        "p_load(\"tidyverse\", \"matrixTests\", \"gtools\", \"VennDiagram\")\n",
        "\n"
      ]
    },
    {
      "cell_type": "markdown",
      "source": [
        "##**Load data**##"
      ],
      "metadata": {
        "id": "jNukwVUfKjJ7"
      }
    },
    {
      "cell_type": "markdown",
      "source": [
        "**gene expression analysis for the 2 levels (group 1 and 2)**"
      ],
      "metadata": {
        "id": "mErmz1BoKtlo"
      }
    },
    {
      "cell_type": "code",
      "source": [
        "\n",
        "genes_exp_10k = read.table(\"10k_genes_group1_2.csv\", header= TRUE, sep=\",\")\n",
        "#genes_exp_10k = genes_exp_10k[, -1]\n",
        "head(genes_exp_10k)\n"
      ],
      "metadata": {
        "id": "FVqUkBWYnqfG",
        "outputId": "fa53bafa-21de-46b6-9999-65fecd522a2d",
        "colab": {
          "base_uri": "https://localhost:8080/",
          "height": 283
        }
      },
      "execution_count": 12,
      "outputs": [
        {
          "output_type": "display_data",
          "data": {
            "text/plain": [
              "  X     GSM1247270 GSM1247369 GSM1247331 GSM1247364 GSM1247245 GSM1247216\n",
              "1 17401  7.440661   6.980917   7.245719   7.191339   7.281503  7.235446  \n",
              "2  4775  4.125719   4.080995   3.819399   4.104383   4.127808  4.584075  \n",
              "3 13218  7.896658   8.193822   8.064172   7.637587   7.935946  7.795728  \n",
              "4 10539  7.710653   6.906425   7.321344   7.207895   7.256062  7.494608  \n",
              "5  8462  6.211932   6.102299   5.840452   5.439352   5.813072  5.418977  \n",
              "6  4050 10.423190  11.512620  11.124810  10.188600  10.446420  9.349102  \n",
              "  GSM1247412 GSM1247389\n",
              "1  7.332173   7.097853 \n",
              "2  4.180370   3.777045 \n",
              "3  7.634784   7.370020 \n",
              "4  6.647726   6.818447 \n",
              "5  5.989962   5.462583 \n",
              "6 10.694180  10.714950 "
            ],
            "text/latex": "A data.frame: 6 × 9\n\\begin{tabular}{r|lllllllll}\n  & X & GSM1247270 & GSM1247369 & GSM1247331 & GSM1247364 & GSM1247245 & GSM1247216 & GSM1247412 & GSM1247389\\\\\n  & <int> & <dbl> & <dbl> & <dbl> & <dbl> & <dbl> & <dbl> & <dbl> & <dbl>\\\\\n\\hline\n\t1 & 17401 &  7.440661 &  6.980917 &  7.245719 &  7.191339 &  7.281503 & 7.235446 &  7.332173 &  7.097853\\\\\n\t2 &  4775 &  4.125719 &  4.080995 &  3.819399 &  4.104383 &  4.127808 & 4.584075 &  4.180370 &  3.777045\\\\\n\t3 & 13218 &  7.896658 &  8.193822 &  8.064172 &  7.637587 &  7.935946 & 7.795728 &  7.634784 &  7.370020\\\\\n\t4 & 10539 &  7.710653 &  6.906425 &  7.321344 &  7.207895 &  7.256062 & 7.494608 &  6.647726 &  6.818447\\\\\n\t5 &  8462 &  6.211932 &  6.102299 &  5.840452 &  5.439352 &  5.813072 & 5.418977 &  5.989962 &  5.462583\\\\\n\t6 &  4050 & 10.423190 & 11.512620 & 11.124810 & 10.188600 & 10.446420 & 9.349102 & 10.694180 & 10.714950\\\\\n\\end{tabular}\n",
            "text/markdown": "\nA data.frame: 6 × 9\n\n| <!--/--> | X &lt;int&gt; | GSM1247270 &lt;dbl&gt; | GSM1247369 &lt;dbl&gt; | GSM1247331 &lt;dbl&gt; | GSM1247364 &lt;dbl&gt; | GSM1247245 &lt;dbl&gt; | GSM1247216 &lt;dbl&gt; | GSM1247412 &lt;dbl&gt; | GSM1247389 &lt;dbl&gt; |\n|---|---|---|---|---|---|---|---|---|---|\n| 1 | 17401 |  7.440661 |  6.980917 |  7.245719 |  7.191339 |  7.281503 | 7.235446 |  7.332173 |  7.097853 |\n| 2 |  4775 |  4.125719 |  4.080995 |  3.819399 |  4.104383 |  4.127808 | 4.584075 |  4.180370 |  3.777045 |\n| 3 | 13218 |  7.896658 |  8.193822 |  8.064172 |  7.637587 |  7.935946 | 7.795728 |  7.634784 |  7.370020 |\n| 4 | 10539 |  7.710653 |  6.906425 |  7.321344 |  7.207895 |  7.256062 | 7.494608 |  6.647726 |  6.818447 |\n| 5 |  8462 |  6.211932 |  6.102299 |  5.840452 |  5.439352 |  5.813072 | 5.418977 |  5.989962 |  5.462583 |\n| 6 |  4050 | 10.423190 | 11.512620 | 11.124810 | 10.188600 | 10.446420 | 9.349102 | 10.694180 | 10.714950 |\n\n",
            "text/html": [
              "<table class=\"dataframe\">\n",
              "<caption>A data.frame: 6 × 9</caption>\n",
              "<thead>\n",
              "\t<tr><th></th><th scope=col>X</th><th scope=col>GSM1247270</th><th scope=col>GSM1247369</th><th scope=col>GSM1247331</th><th scope=col>GSM1247364</th><th scope=col>GSM1247245</th><th scope=col>GSM1247216</th><th scope=col>GSM1247412</th><th scope=col>GSM1247389</th></tr>\n",
              "\t<tr><th></th><th scope=col>&lt;int&gt;</th><th scope=col>&lt;dbl&gt;</th><th scope=col>&lt;dbl&gt;</th><th scope=col>&lt;dbl&gt;</th><th scope=col>&lt;dbl&gt;</th><th scope=col>&lt;dbl&gt;</th><th scope=col>&lt;dbl&gt;</th><th scope=col>&lt;dbl&gt;</th><th scope=col>&lt;dbl&gt;</th></tr>\n",
              "</thead>\n",
              "<tbody>\n",
              "\t<tr><th scope=row>1</th><td>17401</td><td> 7.440661</td><td> 6.980917</td><td> 7.245719</td><td> 7.191339</td><td> 7.281503</td><td>7.235446</td><td> 7.332173</td><td> 7.097853</td></tr>\n",
              "\t<tr><th scope=row>2</th><td> 4775</td><td> 4.125719</td><td> 4.080995</td><td> 3.819399</td><td> 4.104383</td><td> 4.127808</td><td>4.584075</td><td> 4.180370</td><td> 3.777045</td></tr>\n",
              "\t<tr><th scope=row>3</th><td>13218</td><td> 7.896658</td><td> 8.193822</td><td> 8.064172</td><td> 7.637587</td><td> 7.935946</td><td>7.795728</td><td> 7.634784</td><td> 7.370020</td></tr>\n",
              "\t<tr><th scope=row>4</th><td>10539</td><td> 7.710653</td><td> 6.906425</td><td> 7.321344</td><td> 7.207895</td><td> 7.256062</td><td>7.494608</td><td> 6.647726</td><td> 6.818447</td></tr>\n",
              "\t<tr><th scope=row>5</th><td> 8462</td><td> 6.211932</td><td> 6.102299</td><td> 5.840452</td><td> 5.439352</td><td> 5.813072</td><td>5.418977</td><td> 5.989962</td><td> 5.462583</td></tr>\n",
              "\t<tr><th scope=row>6</th><td> 4050</td><td>10.423190</td><td>11.512620</td><td>11.124810</td><td>10.188600</td><td>10.446420</td><td>9.349102</td><td>10.694180</td><td>10.714950</td></tr>\n",
              "</tbody>\n",
              "</table>\n"
            ]
          },
          "metadata": {}
        }
      ]
    },
    {
      "cell_type": "markdown",
      "source": [
        "**Sorted data**"
      ],
      "metadata": {
        "id": "fLJq4MXcUonu"
      }
    },
    {
      "cell_type": "code",
      "source": [
        "genes_exp_10k_sorted = read.table(\"10k_genes_group1_2_sorted.csv\", header= TRUE, sep=\",\")\n",
        "genes_exp_10k_sorted = genes_exp_10k_sorted[, -1]\n",
        "head(genes_exp_10k_sorted)\n"
      ],
      "metadata": {
        "id": "hgbLd1poUoPJ",
        "outputId": "ab73509f-4261-40d1-9673-321f5cc5a0a1",
        "colab": {
          "base_uri": "https://localhost:8080/",
          "height": 283
        }
      },
      "execution_count": 25,
      "outputs": [
        {
          "output_type": "display_data",
          "data": {
            "text/plain": [
              "  GSM1247270 GSM1247369 GSM1247331 GSM1247364 GSM1247245 GSM1247216 GSM1247412\n",
              "1 5.817677   6.514915   5.388687   5.782911    7.294158   6.906492   6.250236 \n",
              "2 8.853257   8.704396   9.377953   8.732246   10.633180  10.581575  10.010287 \n",
              "3 7.013458   7.076799   6.805468   7.029274    7.224860   7.496177   7.548582 \n",
              "4 7.360748   7.008969   7.180487   7.098370    6.953448   7.119632   7.192184 \n",
              "5 7.324947   7.345208   7.249547   7.282897    7.142798   7.181086   7.268388 \n",
              "6 6.301717   5.763372   6.041736   6.394681    5.832879   5.611746   6.014682 \n",
              "  GSM1247389\n",
              "1  6.638433 \n",
              "2 10.712774 \n",
              "3  6.992288 \n",
              "4  6.960319 \n",
              "5  7.156984 \n",
              "6  5.731933 "
            ],
            "text/latex": "A data.frame: 6 × 8\n\\begin{tabular}{r|llllllll}\n  & GSM1247270 & GSM1247369 & GSM1247331 & GSM1247364 & GSM1247245 & GSM1247216 & GSM1247412 & GSM1247389\\\\\n  & <dbl> & <dbl> & <dbl> & <dbl> & <dbl> & <dbl> & <dbl> & <dbl>\\\\\n\\hline\n\t1 & 5.817677 & 6.514915 & 5.388687 & 5.782911 &  7.294158 &  6.906492 &  6.250236 &  6.638433\\\\\n\t2 & 8.853257 & 8.704396 & 9.377953 & 8.732246 & 10.633180 & 10.581575 & 10.010287 & 10.712774\\\\\n\t3 & 7.013458 & 7.076799 & 6.805468 & 7.029274 &  7.224860 &  7.496177 &  7.548582 &  6.992288\\\\\n\t4 & 7.360748 & 7.008969 & 7.180487 & 7.098370 &  6.953448 &  7.119632 &  7.192184 &  6.960319\\\\\n\t5 & 7.324947 & 7.345208 & 7.249547 & 7.282897 &  7.142798 &  7.181086 &  7.268388 &  7.156984\\\\\n\t6 & 6.301717 & 5.763372 & 6.041736 & 6.394681 &  5.832879 &  5.611746 &  6.014682 &  5.731933\\\\\n\\end{tabular}\n",
            "text/markdown": "\nA data.frame: 6 × 8\n\n| <!--/--> | GSM1247270 &lt;dbl&gt; | GSM1247369 &lt;dbl&gt; | GSM1247331 &lt;dbl&gt; | GSM1247364 &lt;dbl&gt; | GSM1247245 &lt;dbl&gt; | GSM1247216 &lt;dbl&gt; | GSM1247412 &lt;dbl&gt; | GSM1247389 &lt;dbl&gt; |\n|---|---|---|---|---|---|---|---|---|\n| 1 | 5.817677 | 6.514915 | 5.388687 | 5.782911 |  7.294158 |  6.906492 |  6.250236 |  6.638433 |\n| 2 | 8.853257 | 8.704396 | 9.377953 | 8.732246 | 10.633180 | 10.581575 | 10.010287 | 10.712774 |\n| 3 | 7.013458 | 7.076799 | 6.805468 | 7.029274 |  7.224860 |  7.496177 |  7.548582 |  6.992288 |\n| 4 | 7.360748 | 7.008969 | 7.180487 | 7.098370 |  6.953448 |  7.119632 |  7.192184 |  6.960319 |\n| 5 | 7.324947 | 7.345208 | 7.249547 | 7.282897 |  7.142798 |  7.181086 |  7.268388 |  7.156984 |\n| 6 | 6.301717 | 5.763372 | 6.041736 | 6.394681 |  5.832879 |  5.611746 |  6.014682 |  5.731933 |\n\n",
            "text/html": [
              "<table class=\"dataframe\">\n",
              "<caption>A data.frame: 6 × 8</caption>\n",
              "<thead>\n",
              "\t<tr><th></th><th scope=col>GSM1247270</th><th scope=col>GSM1247369</th><th scope=col>GSM1247331</th><th scope=col>GSM1247364</th><th scope=col>GSM1247245</th><th scope=col>GSM1247216</th><th scope=col>GSM1247412</th><th scope=col>GSM1247389</th></tr>\n",
              "\t<tr><th></th><th scope=col>&lt;dbl&gt;</th><th scope=col>&lt;dbl&gt;</th><th scope=col>&lt;dbl&gt;</th><th scope=col>&lt;dbl&gt;</th><th scope=col>&lt;dbl&gt;</th><th scope=col>&lt;dbl&gt;</th><th scope=col>&lt;dbl&gt;</th><th scope=col>&lt;dbl&gt;</th></tr>\n",
              "</thead>\n",
              "<tbody>\n",
              "\t<tr><th scope=row>1</th><td>5.817677</td><td>6.514915</td><td>5.388687</td><td>5.782911</td><td> 7.294158</td><td> 6.906492</td><td> 6.250236</td><td> 6.638433</td></tr>\n",
              "\t<tr><th scope=row>2</th><td>8.853257</td><td>8.704396</td><td>9.377953</td><td>8.732246</td><td>10.633180</td><td>10.581575</td><td>10.010287</td><td>10.712774</td></tr>\n",
              "\t<tr><th scope=row>3</th><td>7.013458</td><td>7.076799</td><td>6.805468</td><td>7.029274</td><td> 7.224860</td><td> 7.496177</td><td> 7.548582</td><td> 6.992288</td></tr>\n",
              "\t<tr><th scope=row>4</th><td>7.360748</td><td>7.008969</td><td>7.180487</td><td>7.098370</td><td> 6.953448</td><td> 7.119632</td><td> 7.192184</td><td> 6.960319</td></tr>\n",
              "\t<tr><th scope=row>5</th><td>7.324947</td><td>7.345208</td><td>7.249547</td><td>7.282897</td><td> 7.142798</td><td> 7.181086</td><td> 7.268388</td><td> 7.156984</td></tr>\n",
              "\t<tr><th scope=row>6</th><td>6.301717</td><td>5.763372</td><td>6.041736</td><td>6.394681</td><td> 5.832879</td><td> 5.611746</td><td> 6.014682</td><td> 5.731933</td></tr>\n",
              "</tbody>\n",
              "</table>\n"
            ]
          },
          "metadata": {}
        }
      ]
    },
    {
      "cell_type": "markdown",
      "source": [
        "##**Create expression list**##"
      ],
      "metadata": {
        "id": "KxwokyRbKmml"
      }
    },
    {
      "cell_type": "markdown",
      "source": [
        "create a factor list for the differentially expressed genes with group1 set as first level"
      ],
      "metadata": {
        "id": "xyh_mileL6qp"
      }
    },
    {
      "cell_type": "code",
      "source": [
        "expr_list_10k <- factor(\n",
        "  x = c(rep(\"group1\",4), rep(\"group2\",4)),\n",
        "  levels=c(\"group1\",\"group2\")            # Set group 1 to be the first level\n",
        ")\n",
        "\n",
        "design <- model.matrix(~expr_list_10k)          # Remove the zero\n",
        "head(design)"
      ],
      "metadata": {
        "id": "Arn2Z94VKcQk",
        "outputId": "3dfb1eb1-3545-43cf-8753-7f2a15f3755d",
        "colab": {
          "base_uri": "https://localhost:8080/",
          "height": 252
        }
      },
      "execution_count": 7,
      "outputs": [
        {
          "output_type": "display_data",
          "data": {
            "text/plain": [
              "  (Intercept) expr_list_10kgroup2\n",
              "1 1           0                  \n",
              "2 1           0                  \n",
              "3 1           0                  \n",
              "4 1           0                  \n",
              "5 1           1                  \n",
              "6 1           1                  "
            ],
            "text/latex": "A matrix: 6 × 2 of type dbl\n\\begin{tabular}{r|ll}\n  & (Intercept) & expr\\_list\\_10kgroup2\\\\\n\\hline\n\t1 & 1 & 0\\\\\n\t2 & 1 & 0\\\\\n\t3 & 1 & 0\\\\\n\t4 & 1 & 0\\\\\n\t5 & 1 & 1\\\\\n\t6 & 1 & 1\\\\\n\\end{tabular}\n",
            "text/markdown": "\nA matrix: 6 × 2 of type dbl\n\n| <!--/--> | (Intercept) | expr_list_10kgroup2 |\n|---|---|---|\n| 1 | 1 | 0 |\n| 2 | 1 | 0 |\n| 3 | 1 | 0 |\n| 4 | 1 | 0 |\n| 5 | 1 | 1 |\n| 6 | 1 | 1 |\n\n",
            "text/html": [
              "<table class=\"dataframe\">\n",
              "<caption>A matrix: 6 × 2 of type dbl</caption>\n",
              "<thead>\n",
              "\t<tr><th></th><th scope=col>(Intercept)</th><th scope=col>expr_list_10kgroup2</th></tr>\n",
              "</thead>\n",
              "<tbody>\n",
              "\t<tr><th scope=row>1</th><td>1</td><td>0</td></tr>\n",
              "\t<tr><th scope=row>2</th><td>1</td><td>0</td></tr>\n",
              "\t<tr><th scope=row>3</th><td>1</td><td>0</td></tr>\n",
              "\t<tr><th scope=row>4</th><td>1</td><td>0</td></tr>\n",
              "\t<tr><th scope=row>5</th><td>1</td><td>1</td></tr>\n",
              "\t<tr><th scope=row>6</th><td>1</td><td>1</td></tr>\n",
              "</tbody>\n",
              "</table>\n"
            ]
          },
          "metadata": {}
        }
      ]
    },
    {
      "cell_type": "code",
      "source": [
        "#Now we can run the differential expression pipeline\n",
        "\n",
        "fit <- lmFit(genes_exp_10k, design)\n",
        "fit <- eBayes(fit)\n",
        "results <- decideTests(fit)\n",
        "write.csv(summary(results), \"summary_10k_genes_expr.csv\")\n"
      ],
      "metadata": {
        "id": "IPG50Oyrnzr7"
      },
      "execution_count": 8,
      "outputs": []
    },
    {
      "cell_type": "markdown",
      "source": [
        "differentially expressed genes"
      ],
      "metadata": {
        "id": "6roGPRYHN7vP"
      }
    },
    {
      "cell_type": "code",
      "source": [
        "write.csv(topTable(fit, coef=\"expr_list_10kgroup2\", n=10000), \"10k_limma_expr_list.csv\")"
      ],
      "metadata": {
        "id": "sWzCNOspn7aO"
      },
      "execution_count": 10,
      "outputs": []
    },
    {
      "cell_type": "code",
      "source": [
        "\n",
        "#visualization of the results\n",
        "plotMD(fit, coef=\"expr_list_10kgroup2\", status=results)\n"
      ],
      "metadata": {
        "id": "-0kyvt9Un_xm",
        "outputId": "96ccd466-0dd8-4727-8d85-ea587fa6d879",
        "colab": {
          "base_uri": "https://localhost:8080/",
          "height": 437
        }
      },
      "execution_count": 11,
      "outputs": [
        {
          "output_type": "display_data",
          "data": {
            "image/png": "[encoded data removed]",
            "text/plain": [
              "Plot with title “NA”"
            ]
          },
          "metadata": {
            "image/png": {
              "width": 420,
              "height": 420
            }
          }
        }
      ]
    },
    {
      "cell_type": "markdown",
      "source": [
        "# **Sorted data**"
      ],
      "metadata": {
        "id": "uA78-o2NU5a5"
      }
    },
    {
      "cell_type": "code",
      "source": [
        "expr_list_10k_sorted <- factor(\n",
        "  x = c(rep(\"group1\",4), rep(\"group2\",4)),\n",
        "  levels=c(\"group1\",\"group2\")            # Set group 1 to be the first level\n",
        ")\n",
        "\n",
        "design_sorted <- model.matrix(~expr_list_10k_sorted)          # Remove the zero\n",
        "head(design_sorted)"
      ],
      "metadata": {
        "id": "9zCAzl33U46m",
        "outputId": "c7fb03a0-b674-4163-a214-1c273b0daa94",
        "colab": {
          "base_uri": "https://localhost:8080/",
          "height": 252
        }
      },
      "execution_count": 26,
      "outputs": [
        {
          "output_type": "display_data",
          "data": {
            "text/plain": [
              "  (Intercept) expr_list_10k_sortedgroup2\n",
              "1 1           0                         \n",
              "2 1           0                         \n",
              "3 1           0                         \n",
              "4 1           0                         \n",
              "5 1           1                         \n",
              "6 1           1                         "
            ],
            "text/latex": "A matrix: 6 × 2 of type dbl\n\\begin{tabular}{r|ll}\n  & (Intercept) & expr\\_list\\_10k\\_sortedgroup2\\\\\n\\hline\n\t1 & 1 & 0\\\\\n\t2 & 1 & 0\\\\\n\t3 & 1 & 0\\\\\n\t4 & 1 & 0\\\\\n\t5 & 1 & 1\\\\\n\t6 & 1 & 1\\\\\n\\end{tabular}\n",
            "text/markdown": "\nA matrix: 6 × 2 of type dbl\n\n| <!--/--> | (Intercept) | expr_list_10k_sortedgroup2 |\n|---|---|---|\n| 1 | 1 | 0 |\n| 2 | 1 | 0 |\n| 3 | 1 | 0 |\n| 4 | 1 | 0 |\n| 5 | 1 | 1 |\n| 6 | 1 | 1 |\n\n",
            "text/html": [
              "<table class=\"dataframe\">\n",
              "<caption>A matrix: 6 × 2 of type dbl</caption>\n",
              "<thead>\n",
              "\t<tr><th></th><th scope=col>(Intercept)</th><th scope=col>expr_list_10k_sortedgroup2</th></tr>\n",
              "</thead>\n",
              "<tbody>\n",
              "\t<tr><th scope=row>1</th><td>1</td><td>0</td></tr>\n",
              "\t<tr><th scope=row>2</th><td>1</td><td>0</td></tr>\n",
              "\t<tr><th scope=row>3</th><td>1</td><td>0</td></tr>\n",
              "\t<tr><th scope=row>4</th><td>1</td><td>0</td></tr>\n",
              "\t<tr><th scope=row>5</th><td>1</td><td>1</td></tr>\n",
              "\t<tr><th scope=row>6</th><td>1</td><td>1</td></tr>\n",
              "</tbody>\n",
              "</table>\n"
            ]
          },
          "metadata": {}
        }
      ]
    },
    {
      "cell_type": "markdown",
      "source": [
        "**Sorted data**"
      ],
      "metadata": {
        "id": "ngxHL1w3VOuA"
      }
    },
    {
      "cell_type": "code",
      "source": [
        "#Now we can run the differential expression pipeline\n",
        "\n",
        "fit_sorted <- lmFit(genes_exp_10k_sorted, design_sorted)\n",
        "fit_sorted <- eBayes(fit_sorted)\n",
        "results_sorted <- decideTests(fit_sorted)\n",
        "write.csv(summary(results_sorted), \"summary_10k_genes_expr_sorted.csv\")"
      ],
      "metadata": {
        "id": "1nNC77KSVOKp"
      },
      "execution_count": 27,
      "outputs": []
    },
    {
      "cell_type": "code",
      "source": [
        "write.csv(topTable(fit_sorted, coef=\"expr_list_10k_sortedgroup2\", n=10000), \"10k_limma_expr_list_sorted.csv\")"
      ],
      "metadata": {
        "id": "ocY_sh-cXB4S"
      },
      "execution_count": 30,
      "outputs": []
    },
    {
      "cell_type": "markdown",
      "source": [
        "##**Intersection method using ajusted pvalues from limms test**##"
      ],
      "metadata": {
        "id": "IZ43ccbuPbAY"
      }
    },
    {
      "cell_type": "markdown",
      "source": [
        "* visualization of the results using intersection method on the adjusted p-values from limma test \n",
        "* excel was used to do the intersection method analysis\n"
      ],
      "metadata": {
        "id": "Z5Cr_cp8PotO"
      }
    },
    {
      "cell_type": "code",
      "source": [
        "#adjusted p-values <=0.01\n",
        "draw.pairwise.venn(area1=21245, area2=7520,cross.area=3723,\n",
        "                   category=c(\"Kidney\",\"Liver\"),fill=c(\"Red\",\"Green\"),\n",
        ")\n",
        "\n",
        "\n",
        "#adjusted p-values <=0.05\n",
        "draw.pairwise.venn(area1=27350, area2=12989,cross.area=8144,\n",
        "                   category=c(\"Kidney\",\"Liver\"),fill=c(\"Red\",\"Green\"),\n",
        ")\n",
        "\n",
        "#adjusted p-values <=0.1\n",
        "draw.pairwise.venn(area1=30168, area2=16461,cross.area=11382,\n",
        "                   category=c(\"Kidney\",\"Liver\"),fill=c(\"Red\",\"Green\"),\n",
        ")"
      ],
      "metadata": {
        "id": "dNK5sa67oHYm"
      },
      "execution_count": null,
      "outputs": []
    }
  ]
}