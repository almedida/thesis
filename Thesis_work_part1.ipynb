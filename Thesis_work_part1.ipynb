{
  "nbformat": 4,
  "nbformat_minor": 0,
  "metadata": {
    "colab": {
      "name": "Thesis_work_in_colab.ipynb",
      "provenance": [],
      "authorship_tag": "ABX9TyND/j+G+u5vQE2y/I5mCMsL",
      "include_colab_link": true
    },
    "kernelspec": {
      "name": "ir",
      "display_name": "R"
    },
    "language_info": {
      "name": "R"
    }
  },
  "cells": [
    {
      "cell_type": "markdown",
      "metadata": {
        "id": "view-in-github",
        "colab_type": "text"
      },
      "source": [
        "<a href=\"https://colab.research.google.com/github/almedida/thesis/blob/main/Thesis_work_Main.ipynb\" target=\"_parent\"><img src=\"https://colab.research.google.com/assets/colab-badge.svg\" alt=\"Open In Colab\"/></a>"
      ]
    },
    {
      "cell_type": "code",
      "metadata": {
        "colab": {
          "base_uri": "https://localhost:8080/"
        },
        "id": "Ja8SOFp28eno",
        "outputId": "e4c491fc-e44a-4f2e-c235-7b9e2f0db519"
      },
      "source": [
        "install.packages('pacman')\n",
        "library(pacman)\n",
        "\n",
        "p_load(\"tidyverse\", \"tmvtnorm\" )"
      ],
      "execution_count": 1,
      "outputs": [
        {
          "output_type": "stream",
          "name": "stderr",
          "text": [
            "Installing package into ‘/usr/local/lib/R/site-library’\n",
            "(as ‘lib’ is unspecified)\n",
            "\n",
            "Installing package into ‘/usr/local/lib/R/site-library’\n",
            "(as ‘lib’ is unspecified)\n",
            "\n",
            "also installing the dependencies ‘zoo’, ‘sandwich’, ‘mvtnorm’, ‘gmm’\n",
            "\n",
            "\n",
            "\n",
            "tmvtnorm installed\n",
            "\n"
          ]
        }
      ]
    },
    {
      "cell_type": "code",
      "metadata": {
        "id": "cN1QtLhd8rFo"
      },
      "source": [
        "#load dataset on data_df\n",
        "data_df = read.table(\"pvalues_data.csv\", header= TRUE, sep=\",\")\n",
        "\n",
        "pval_raw = as.data.frame(as.matrix(data_df))\n",
        "pvals1 <- (as.matrix(pval_raw[,1]))\n",
        "pvals2 <- (as.matrix(pval_raw[,2]))\n"
      ],
      "execution_count": 2,
      "outputs": []
    },
    {
      "cell_type": "code",
      "metadata": {
        "colab": {
          "base_uri": "https://localhost:8080/",
          "height": 240
        },
        "id": "jmRnj6oFQKid",
        "outputId": "e5867388-2152-46e0-a1ac-2aab40da5fa8"
      },
      "source": [
        "length(pvals1)\n",
        "length(pvals2)\n",
        "\n",
        "#dim(pvals2)\n",
        "head(pvals1, 5)"
      ],
      "execution_count": 3,
      "outputs": [
        {
          "output_type": "display_data",
          "data": {
            "text/plain": [
              "[1] 42575"
            ],
            "text/latex": "42575",
            "text/markdown": "42575",
            "text/html": [
              "42575"
            ]
          },
          "metadata": {}
        },
        {
          "output_type": "display_data",
          "data": {
            "text/plain": [
              "[1] 42575"
            ],
            "text/latex": "42575",
            "text/markdown": "42575",
            "text/html": [
              "42575"
            ]
          },
          "metadata": {}
        },
        {
          "output_type": "display_data",
          "data": {
            "text/plain": [
              "     [,1]       \n",
              "[1,] 0.000024200\n",
              "[2,] 0.002483496\n",
              "[3,] 0.018659052\n",
              "[4,] 0.000016200\n",
              "[5,] 0.273430103"
            ],
            "text/latex": "A matrix: 5 × 1 of type dbl\n\\begin{tabular}{l}\n\t 0.000024200\\\\\n\t 0.002483496\\\\\n\t 0.018659052\\\\\n\t 0.000016200\\\\\n\t 0.273430103\\\\\n\\end{tabular}\n",
            "text/markdown": "\nA matrix: 5 × 1 of type dbl\n\n| 0.000024200 |\n| 0.002483496 |\n| 0.018659052 |\n| 0.000016200 |\n| 0.273430103 |\n\n",
            "text/html": [
              "<table class=\"dataframe\">\n",
              "<caption>A matrix: 5 × 1 of type dbl</caption>\n",
              "<tbody>\n",
              "\t<tr><td>0.000024200</td></tr>\n",
              "\t<tr><td>0.002483496</td></tr>\n",
              "\t<tr><td>0.018659052</td></tr>\n",
              "\t<tr><td>0.000016200</td></tr>\n",
              "\t<tr><td>0.273430103</td></tr>\n",
              "</tbody>\n",
              "</table>\n"
            ]
          },
          "metadata": {}
        }
      ]
    },
    {
      "cell_type": "code",
      "metadata": {
        "id": "zoH1adM1-qzw"
      },
      "source": [
        "###################################################################################\n",
        "###################################################################################\n",
        "##calc.cutoff slightly modifies the estimate.m0 function to return the appropriate\n",
        "##p-value cutoff where all p-values greater than the cutoff are assumed to come\n",
        "##from null cases.\n",
        "\n",
        "calc.cutoff = function(p, B = 20, max=1){\n",
        "\n",
        "  m <- length(p)\n",
        "  m0 <- m\n",
        "  bin <- c(-0.1, (1:B)/B*max)\n",
        "  bin.counts=rep(0,B)\n",
        "\n",
        "  for(i in 1:B){\n",
        "    bin.counts[i]=sum((p>bin[i])&(p<=bin[i+1]))\n",
        "  }\n",
        "\n",
        "  tail.means <- rev(cumsum(rev(bin.counts))/(1:B))\n",
        "  temp <- bin.counts - tail.means\n",
        "  index <- min((1:B)[temp <= 0])\n",
        "  cutoff2 <- (index)/B*max\n",
        "  if(cutoff2 == 1) {cutoff2 <- 1-1/B}\n",
        "\n",
        "  return(cutoff2)\n",
        "\n",
        "}\n"
      ],
      "execution_count": 4,
      "outputs": []
    },
    {
      "cell_type": "code",
      "metadata": {
        "colab": {
          "base_uri": "https://localhost:8080/",
          "height": 97
        },
        "id": "g7H7MMh3QhBW",
        "outputId": "ee50f253-55db-4ad4-f285-5c1dd89c8693"
      },
      "source": [
        "cutoff_value1 = calc.cutoff(pvals1, B=20, max=1)\n",
        "cutoff_value2 = calc.cutoff(pvals2, B=20, max=1)\n",
        "\n",
        "cutoff = cbind(c(cutoff_value1), c(cutoff_value2))\n",
        "\n",
        "colnames(cutoff) = c(\"cutoff_value1\", \"cutoff_value2\")\n",
        "\n",
        "cutoff"
      ],
      "execution_count": 5,
      "outputs": [
        {
          "output_type": "display_data",
          "data": {
            "text/plain": [
              "     cutoff_value1 cutoff_value2\n",
              "[1,] 0.8           0.9          "
            ],
            "text/latex": "A matrix: 1 × 2 of type dbl\n\\begin{tabular}{ll}\n cutoff\\_value1 & cutoff\\_value2\\\\\n\\hline\n\t 0.8 & 0.9\\\\\n\\end{tabular}\n",
            "text/markdown": "\nA matrix: 1 × 2 of type dbl\n\n| cutoff_value1 | cutoff_value2 |\n|---|---|\n| 0.8 | 0.9 |\n\n",
            "text/html": [
              "<table class=\"dataframe\">\n",
              "<caption>A matrix: 1 × 2 of type dbl</caption>\n",
              "<thead>\n",
              "\t<tr><th scope=col>cutoff_value1</th><th scope=col>cutoff_value2</th></tr>\n",
              "</thead>\n",
              "<tbody>\n",
              "\t<tr><td>0.8</td><td>0.9</td></tr>\n",
              "</tbody>\n",
              "</table>\n"
            ]
          },
          "metadata": {}
        }
      ]
    },
    {
      "cell_type": "code",
      "metadata": {
        "id": "4KMrPJxy8wYY",
        "colab": {
          "base_uri": "https://localhost:8080/",
          "height": 269
        },
        "outputId": "e9535a67-c78e-4d64-a38b-43b9792f9b61"
      },
      "source": [
        "#filter dataset using cutoff points\n",
        "#pvalsB and pvalsM are column names (for pvalues) of the data set for this test(to be changed to column names of the loaded data set)\n",
        "\n",
        "# selecting pvalues in the upper-right quadrant using Histogram Based Method by Orr et al. (2012)\n",
        "#defined as lambda1 = cutoffvalue1 and lambda2 = cutoffvalue2 for BS and M respectively.\n",
        "#lambda1, lambda2 - probability of pvalsB and pvalsM in the upper-right quadrant respectively \n",
        "\n",
        "\n",
        "p_vals = pval_raw  %>% filter(pvalue_kidney >=cutoff_value1, pvalue_liver>=cutoff_value2)\n",
        "\n",
        "dim(p_vals)\n",
        "\n",
        "head(p_vals, 5)\n"
      ],
      "execution_count": 9,
      "outputs": [
        {
          "output_type": "display_data",
          "data": {
            "text/plain": [
              "[1] 53  2"
            ],
            "text/latex": "\\begin{enumerate*}\n\\item 53\n\\item 2\n\\end{enumerate*}\n",
            "text/markdown": "1. 53\n2. 2\n\n\n",
            "text/html": [
              "<style>\n",
              ".list-inline {list-style: none; margin:0; padding: 0}\n",
              ".list-inline>li {display: inline-block}\n",
              ".list-inline>li:not(:last-child)::after {content: \"\\00b7\"; padding: 0 .5ex}\n",
              "</style>\n",
              "<ol class=list-inline><li>53</li><li>2</li></ol>\n"
            ]
          },
          "metadata": {}
        },
        {
          "output_type": "display_data",
          "data": {
            "text/plain": [
              "  pvalue_kidney pvalue_liver\n",
              "1 0.8367549     0.9597926   \n",
              "2 0.8624033     0.9850292   \n",
              "3 0.9622471     0.9351648   \n",
              "4 0.9191937     0.9953451   \n",
              "5 0.8049365     0.9646580   "
            ],
            "text/latex": "A data.frame: 5 × 2\n\\begin{tabular}{r|ll}\n  & pvalue\\_kidney & pvalue\\_liver\\\\\n  & <dbl> & <dbl>\\\\\n\\hline\n\t1 & 0.8367549 & 0.9597926\\\\\n\t2 & 0.8624033 & 0.9850292\\\\\n\t3 & 0.9622471 & 0.9351648\\\\\n\t4 & 0.9191937 & 0.9953451\\\\\n\t5 & 0.8049365 & 0.9646580\\\\\n\\end{tabular}\n",
            "text/markdown": "\nA data.frame: 5 × 2\n\n| <!--/--> | pvalue_kidney &lt;dbl&gt; | pvalue_liver &lt;dbl&gt; |\n|---|---|---|\n| 1 | 0.8367549 | 0.9597926 |\n| 2 | 0.8624033 | 0.9850292 |\n| 3 | 0.9622471 | 0.9351648 |\n| 4 | 0.9191937 | 0.9953451 |\n| 5 | 0.8049365 | 0.9646580 |\n\n",
            "text/html": [
              "<table class=\"dataframe\">\n",
              "<caption>A data.frame: 5 × 2</caption>\n",
              "<thead>\n",
              "\t<tr><th></th><th scope=col>pvalue_kidney</th><th scope=col>pvalue_liver</th></tr>\n",
              "\t<tr><th></th><th scope=col>&lt;dbl&gt;</th><th scope=col>&lt;dbl&gt;</th></tr>\n",
              "</thead>\n",
              "<tbody>\n",
              "\t<tr><th scope=row>1</th><td>0.8367549</td><td>0.9597926</td></tr>\n",
              "\t<tr><th scope=row>2</th><td>0.8624033</td><td>0.9850292</td></tr>\n",
              "\t<tr><th scope=row>3</th><td>0.9622471</td><td>0.9351648</td></tr>\n",
              "\t<tr><th scope=row>4</th><td>0.9191937</td><td>0.9953451</td></tr>\n",
              "\t<tr><th scope=row>5</th><td>0.8049365</td><td>0.9646580</td></tr>\n",
              "</tbody>\n",
              "</table>\n"
            ]
          },
          "metadata": {}
        }
      ]
    },
    {
      "cell_type": "code",
      "metadata": {
        "id": "BGTT4IE78xeB",
        "colab": {
          "base_uri": "https://localhost:8080/",
          "height": 283
        },
        "outputId": "73f0b496-97c4-4298-9b7f-5869617c33b5"
      },
      "source": [
        "# convert selected pvalues to z values\n",
        "z_val = as.data.frame(qnorm(as.matrix(p_vals), lower.tail = TRUE))\n",
        "colnames(z_val) = c(\"zvals1\", \"zvals2\")\n",
        "\n",
        "head(z_val)\n"
      ],
      "execution_count": 10,
      "outputs": [
        {
          "output_type": "display_data",
          "data": {
            "text/plain": [
              "  zvals1    zvals2  \n",
              "1 0.9812080 1.748284\n",
              "2 1.0911807 2.170862\n",
              "3 1.7773792 1.515403\n",
              "4 1.3996683 2.600462\n",
              "5 0.8593872 1.807502\n",
              "6 1.4086173 2.197443"
            ],
            "text/latex": "A data.frame: 6 × 2\n\\begin{tabular}{r|ll}\n  & zvals1 & zvals2\\\\\n  & <dbl> & <dbl>\\\\\n\\hline\n\t1 & 0.9812080 & 1.748284\\\\\n\t2 & 1.0911807 & 2.170862\\\\\n\t3 & 1.7773792 & 1.515403\\\\\n\t4 & 1.3996683 & 2.600462\\\\\n\t5 & 0.8593872 & 1.807502\\\\\n\t6 & 1.4086173 & 2.197443\\\\\n\\end{tabular}\n",
            "text/markdown": "\nA data.frame: 6 × 2\n\n| <!--/--> | zvals1 &lt;dbl&gt; | zvals2 &lt;dbl&gt; |\n|---|---|---|\n| 1 | 0.9812080 | 1.748284 |\n| 2 | 1.0911807 | 2.170862 |\n| 3 | 1.7773792 | 1.515403 |\n| 4 | 1.3996683 | 2.600462 |\n| 5 | 0.8593872 | 1.807502 |\n| 6 | 1.4086173 | 2.197443 |\n\n",
            "text/html": [
              "<table class=\"dataframe\">\n",
              "<caption>A data.frame: 6 × 2</caption>\n",
              "<thead>\n",
              "\t<tr><th></th><th scope=col>zvals1</th><th scope=col>zvals2</th></tr>\n",
              "\t<tr><th></th><th scope=col>&lt;dbl&gt;</th><th scope=col>&lt;dbl&gt;</th></tr>\n",
              "</thead>\n",
              "<tbody>\n",
              "\t<tr><th scope=row>1</th><td>0.9812080</td><td>1.748284</td></tr>\n",
              "\t<tr><th scope=row>2</th><td>1.0911807</td><td>2.170862</td></tr>\n",
              "\t<tr><th scope=row>3</th><td>1.7773792</td><td>1.515403</td></tr>\n",
              "\t<tr><th scope=row>4</th><td>1.3996683</td><td>2.600462</td></tr>\n",
              "\t<tr><th scope=row>5</th><td>0.8593872</td><td>1.807502</td></tr>\n",
              "\t<tr><th scope=row>6</th><td>1.4086173</td><td>2.197443</td></tr>\n",
              "</tbody>\n",
              "</table>\n"
            ]
          },
          "metadata": {}
        }
      ]
    },
    {
      "cell_type": "code",
      "metadata": {
        "colab": {
          "base_uri": "https://localhost:8080/",
          "height": 269
        },
        "id": "HAyzGSTiU7Wi",
        "outputId": "fae111f6-f8ab-466c-f965-7e80efdfc031"
      },
      "source": [
        "zvals1 <- (as.data.frame(as.matrix(z_val[,1])))\n",
        "zvals2 <- (as.data.frame(as.matrix(z_val[,2])))\n",
        "\n",
        "head(zvals1, 5)"
      ],
      "execution_count": 11,
      "outputs": [
        {
          "output_type": "display_data",
          "data": {
            "text/plain": [
              "  V1       \n",
              "1 0.9812080\n",
              "2 1.0911807\n",
              "3 1.7773792\n",
              "4 1.3996683\n",
              "5 0.8593872"
            ],
            "text/latex": "A data.frame: 5 × 1\n\\begin{tabular}{r|l}\n  & V1\\\\\n  & <dbl>\\\\\n\\hline\n\t1 & 0.9812080\\\\\n\t2 & 1.0911807\\\\\n\t3 & 1.7773792\\\\\n\t4 & 1.3996683\\\\\n\t5 & 0.8593872\\\\\n\\end{tabular}\n",
            "text/markdown": "\nA data.frame: 5 × 1\n\n| <!--/--> | V1 &lt;dbl&gt; |\n|---|---|\n| 1 | 0.9812080 |\n| 2 | 1.0911807 |\n| 3 | 1.7773792 |\n| 4 | 1.3996683 |\n| 5 | 0.8593872 |\n\n",
            "text/html": [
              "<table class=\"dataframe\">\n",
              "<caption>A data.frame: 5 × 1</caption>\n",
              "<thead>\n",
              "\t<tr><th></th><th scope=col>V1</th></tr>\n",
              "\t<tr><th></th><th scope=col>&lt;dbl&gt;</th></tr>\n",
              "</thead>\n",
              "<tbody>\n",
              "\t<tr><th scope=row>1</th><td>0.9812080</td></tr>\n",
              "\t<tr><th scope=row>2</th><td>1.0911807</td></tr>\n",
              "\t<tr><th scope=row>3</th><td>1.7773792</td></tr>\n",
              "\t<tr><th scope=row>4</th><td>1.3996683</td></tr>\n",
              "\t<tr><th scope=row>5</th><td>0.8593872</td></tr>\n",
              "</tbody>\n",
              "</table>\n"
            ]
          },
          "metadata": {}
        }
      ]
    },
    {
      "cell_type": "code",
      "metadata": {
        "id": "QSWdnQjS82iS"
      },
      "source": [
        "# convert lambda(truncation points) to z values\n",
        "z_val_extremums = as.data.frame(qnorm(as.matrix(cbind(c(cutoff_value1,1),c(cutoff_value2,1))), lower.tail = TRUE))\n",
        "\n",
        "#selecting the lower bounds (minimum z values) of the bivariate z values\n",
        "min_z1 <- z_val_extremums[1,1]\n",
        "min_z2 <- z_val_extremums[1,2]"
      ],
      "execution_count": 12,
      "outputs": []
    },
    {
      "cell_type": "code",
      "metadata": {
        "colab": {
          "base_uri": "https://localhost:8080/",
          "height": 159
        },
        "id": "LIlTr2Sd-dKH",
        "outputId": "a6478aab-34ad-4e84-bbfe-9ee9e5fb9828"
      },
      "source": [
        "\n",
        "head(z_val_extremums, 2)"
      ],
      "execution_count": 13,
      "outputs": [
        {
          "output_type": "display_data",
          "data": {
            "text/plain": [
              "  V1        V2      \n",
              "1 0.8416212 1.281552\n",
              "2       Inf      Inf"
            ],
            "text/latex": "A data.frame: 2 × 2\n\\begin{tabular}{r|ll}\n  & V1 & V2\\\\\n  & <dbl> & <dbl>\\\\\n\\hline\n\t1 & 0.8416212 & 1.281552\\\\\n\t2 &       Inf &      Inf\\\\\n\\end{tabular}\n",
            "text/markdown": "\nA data.frame: 2 × 2\n\n| <!--/--> | V1 &lt;dbl&gt; | V2 &lt;dbl&gt; |\n|---|---|---|\n| 1 | 0.8416212 | 1.281552 |\n| 2 |       Inf |      Inf |\n\n",
            "text/html": [
              "<table class=\"dataframe\">\n",
              "<caption>A data.frame: 2 × 2</caption>\n",
              "<thead>\n",
              "\t<tr><th></th><th scope=col>V1</th><th scope=col>V2</th></tr>\n",
              "\t<tr><th></th><th scope=col>&lt;dbl&gt;</th><th scope=col>&lt;dbl&gt;</th></tr>\n",
              "</thead>\n",
              "<tbody>\n",
              "\t<tr><th scope=row>1</th><td>0.8416212</td><td>1.281552</td></tr>\n",
              "\t<tr><th scope=row>2</th><td>      Inf</td><td>     Inf</td></tr>\n",
              "</tbody>\n",
              "</table>\n"
            ]
          },
          "metadata": {}
        }
      ]
    },
    {
      "cell_type": "code",
      "metadata": {
        "id": "2iDJiXxl-0xJ"
      },
      "source": [
        "###################################################################################\n",
        "###################################################################################\n",
        "\n",
        "estimate.m0s <- function(p1, p2, B=20){\n",
        "  m <- length(p1)\n",
        "\n",
        "  ##find lambda cutoffs using histogram-based method\n",
        "  c1 <- calc.cutoff(p1, B=B, max=1)\n",
        "  c2 <- calc.cutoff(p2, B=B, max=1)\n",
        "\n",
        "  ##estimate m0 for experiment 1\n",
        "  ind1 <- (p1>=c1)\n",
        "  m0.1 <- sum(ind1)/(1-c1)\n",
        "\n",
        "  ##estimate m0 for experiment 2  \n",
        "  ind2 <- (p2>=c2)\n",
        "  m0.2 <- sum(ind2)/(1-c2)\n",
        "\n",
        "\n",
        "  ##estimate m00\n",
        "  ind12 <- ind1 & ind2\n",
        "  nA <- sum(ind12)\n",
        "  #pA <- (1-c1)*(1-c2)\n",
        "  #m00 <- nA/pA\n",
        "  \n",
        "  \n",
        "  # density function for each row of the bivariate z values (x) and \n",
        "  # estimated parameters(rho)\n",
        "  density = function(x, rho)\n",
        "  {\n",
        "    sigma = matrix(c(1, rho, rho, 1), 2, 2)\n",
        "    z = dtmvnorm(x, mean = c(0,0), sigma = sigma, lower = c(min_z1, min_z2))\n",
        "  }\n",
        "  \n",
        "  # log likelihood of the joint densities\n",
        "  log_likelihood_fn = function(rho){\n",
        "    \n",
        "    joint_likelihood = z_val %>% split(.$zvals2) %>% map_dfr(~density(c(.$zvals1,.$zvals2),rho))    \n",
        "    return(-sum(log(joint_likelihood)))\n",
        "    \n",
        "  }\n",
        "  \n",
        "  #MLE of the log likelihood function\n",
        "  optimal_rho = optimize(log_likelihood_fn, lower = -1, upper = 1 )\n",
        "  optimal_rho = as.data.frame(optimal_rho)\n",
        "  \n",
        "  #probability of a random variable greater than cutoff values \n",
        "  rho = as.numeric(optimal_rho[1])\n",
        "  pA = pmvnorm(lower=c(min_z1, min_z2), upper=c(Inf, Inf), mean=c(0,0), sigma = matrix(c(1, rho, rho, 1), 2, 2))\n",
        "  \n",
        "  m00 <- nA/pA\n",
        "  \n",
        "  \n",
        "  \n",
        "  ##estimate m11\n",
        "  m11 <- sum(m - m0.1 - m0.2 + m00)\n",
        "  \n",
        "  \n",
        "  ret <- list()\n",
        "  ret$ms <- c(m, m0.1, m0.2, m11, m00)\n",
        "  names(ret$ms) <- c(\"m\", \"m0.1\", \"m0.2\", \"m11\",\"m00\")\n",
        "  ret$cutoffs <- c(c1, c2)\n",
        "  return(ret)\n",
        "}"
      ],
      "execution_count": 14,
      "outputs": []
    },
    {
      "cell_type": "code",
      "metadata": {
        "colab": {
          "base_uri": "https://localhost:8080/",
          "height": 113
        },
        "id": "H0JIdvFr_DKM",
        "outputId": "c0db14eb-83e8-40f5-b290-4b213348a5b2"
      },
      "source": [
        "estimate.m0s(pvals1, pvals2, B=20)"
      ],
      "execution_count": 15,
      "outputs": [
        {
          "output_type": "display_data",
          "data": {
            "text/plain": [
              "$ms\n",
              "       m     m0.1     m0.2      m11      m00 \n",
              "42575.00  8000.00 17120.00 20821.12  3366.12 \n",
              "\n",
              "$cutoffs\n",
              "[1] 0.8 0.9\n"
            ],
            "text/latex": "\\begin{description}\n\\item[\\$ms] \\begin{description*}\n\\item[m] 42575\n\\item[m0.1] 8000\n\\item[m0.2] 17120\n\\item[m11] 20821.1202769254\n\\item[m00] 3366.1202769254\n\\end{description*}\n\n\\item[\\$cutoffs] \\begin{enumerate*}\n\\item 0.8\n\\item 0.9\n\\end{enumerate*}\n\n\\end{description}\n",
            "text/markdown": "$ms\n:   m\n:   42575m0.1\n:   8000m0.2\n:   17120m11\n:   20821.1202769254m00\n:   3366.1202769254\n\n\n$cutoffs\n:   1. 0.8\n2. 0.9\n\n\n\n\n\n",
            "text/html": [
              "<dl>\n",
              "\t<dt>$ms</dt>\n",
              "\t\t<dd><style>\n",
              ".dl-inline {width: auto; margin:0; padding: 0}\n",
              ".dl-inline>dt, .dl-inline>dd {float: none; width: auto; display: inline-block}\n",
              ".dl-inline>dt::after {content: \":\\0020\"; padding-right: .5ex}\n",
              ".dl-inline>dt:not(:first-of-type) {padding-left: .5ex}\n",
              "</style><dl class=dl-inline><dt>m</dt><dd>42575</dd><dt>m0.1</dt><dd>8000</dd><dt>m0.2</dt><dd>17120</dd><dt>m11</dt><dd>20821.1202769254</dd><dt>m00</dt><dd>3366.1202769254</dd></dl>\n",
              "</dd>\n",
              "\t<dt>$cutoffs</dt>\n",
              "\t\t<dd><style>\n",
              ".list-inline {list-style: none; margin:0; padding: 0}\n",
              ".list-inline>li {display: inline-block}\n",
              ".list-inline>li:not(:last-child)::after {content: \"\\00b7\"; padding: 0 .5ex}\n",
              "</style>\n",
              "<ol class=list-inline><li>0.8</li><li>0.9</li></ol>\n",
              "</dd>\n",
              "</dl>\n"
            ]
          },
          "metadata": {}
        }
      ]
    }
  ]
}
