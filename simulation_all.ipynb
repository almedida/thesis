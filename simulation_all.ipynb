{
  "nbformat": 4,
  "nbformat_minor": 0,
  "metadata": {
    "colab": {
      "name": "simulation.ipynb",
      "provenance": [],
      "authorship_tag": "ABX9TyMoJyCHrwRmVYoifqn1cPmA",
      "include_colab_link": true
    },
    "kernelspec": {
      "name": "ir",
      "display_name": "R"
    },
    "language_info": {
      "name": "R"
    }
  },
  "cells": [
    {
      "cell_type": "markdown",
      "metadata": {
        "id": "view-in-github",
        "colab_type": "text"
      },
      "source": [
        "<a href=\"https://colab.research.google.com/github/almedida/thesis/blob/main/simulation_all.ipynb\" target=\"_parent\"><img src=\"https://colab.research.google.com/assets/colab-badge.svg\" alt=\"Open In Colab\"/></a>"
      ]
    },
    {
      "cell_type": "code",
      "source": [
        "rm(list = ls())"
      ],
      "metadata": {
        "id": "DQtVgCTqoGmu"
      },
      "execution_count": null,
      "outputs": []
    },
    {
      "cell_type": "code",
      "source": [
        "install.packages('pacman')\n",
        "library(pacman, devtools)\n",
        "p_load(\"tidyverse\", \"matrixTests\", \"gtools\", \"VennDiagram\")"
      ],
      "metadata": {
        "id": "lS6SchBvfIzP"
      },
      "execution_count": null,
      "outputs": []
    },
    {
      "cell_type": "markdown",
      "source": [
        "##***Load Dataset***"
      ],
      "metadata": {
        "id": "i5kBkQDinMx0"
      }
    },
    {
      "cell_type": "code",
      "execution_count": null,
      "metadata": {
        "id": "Q4ZIf_LWvFxD"
      },
      "outputs": [],
      "source": [
        "#load dataset\n",
        "simulation_data = read.table(\"sim_data.csv\", header= TRUE, sep=\",\")\n",
        "N = ncol(simulation_data) #N = number columns (samples in the dataset)\n",
        "n_gene = nrow(simulation_data) #n_gene = no of genes (rows in the dataset)"
      ]
    },
    {
      "cell_type": "code",
      "source": [
        "# head(simulation_data)"
      ],
      "metadata": {
        "id": "b7UnOUy0vWRX"
      },
      "execution_count": null,
      "outputs": []
    },
    {
      "cell_type": "code",
      "source": [
        "# dim(simulation_data)"
      ],
      "metadata": {
        "id": "XBf6PuU_w8m4"
      },
      "execution_count": null,
      "outputs": []
    },
    {
      "cell_type": "markdown",
      "source": [
        "# **Simulation**"
      ],
      "metadata": {
        "id": "kghmWg1heGzZ"
      }
    },
    {
      "cell_type": "code",
      "source": [
        "set.seed(1)\n",
        "m = 10000 #no of genes to be selected from the dataset\n",
        "randomly_selected_genes = sample(n_gene, m) #randomly selected genes of size m from the total genes\n",
        "\n",
        "# head(randomly_selected_genes)\n",
        "# length(randomly_selected_genes)"
      ],
      "metadata": {
        "id": "8a4rpVGVwxrC"
      },
      "execution_count": null,
      "outputs": []
    },
    {
      "cell_type": "markdown",
      "source": [
        "10k randomly selected data for simulation process"
      ],
      "metadata": {
        "id": "M-6oMbmLy9cI"
      }
    },
    {
      "cell_type": "code",
      "source": [
        "#10000 selected data corresponding to the randomly selected genes (EE genes)\n",
        "randomly_selected_data = simulation_data[randomly_selected_genes, ]\n",
        "genej_sim_data = randomly_selected_data\n",
        "# head(genej_sim_data)\n",
        "# dim(genej_sim_data)"
      ],
      "metadata": {
        "id": "tjwoFEa7yn53"
      },
      "execution_count": null,
      "outputs": []
    },
    {
      "cell_type": "markdown",
      "source": [
        "standarad deviation for 10000 genes from all experimental units"
      ],
      "metadata": {
        "id": "cPxdbFWoOpfU"
      }
    },
    {
      "cell_type": "code",
      "source": [
        "genej_std = apply(genej_sim_data, 1, sd)\n",
        "# head(genej_std)\n",
        "# length(genej_std)"
      ],
      "metadata": {
        "id": "f8Axfy_TOlt5"
      },
      "execution_count": null,
      "outputs": []
    },
    {
      "cell_type": "markdown",
      "source": [
        "Here, we create 2 treatment groups with 4 randomly selected samples each with 10,000 randlomly selected genes."
      ],
      "metadata": {
        "id": "QKUC3H8Hk30I"
      }
    },
    {
      "cell_type": "code",
      "source": [
        "set.seed(1)\n",
        "n_samples = 4 #no of samples\n",
        "randomly_selected_samples  = sample(N, 2*n_samples) #randomly select samples of size 2*n_trt_grp \n",
        "                                                    #for treatment group\n",
        "treatment_group1 = randomly_selected_samples[1:n_samples]\n",
        "treatment_group2 = randomly_selected_samples[(n_samples + 1):(2*n_samples)]"
      ],
      "metadata": {
        "id": "UkXbutdZ0dkn"
      },
      "execution_count": null,
      "outputs": []
    },
    {
      "cell_type": "markdown",
      "source": [
        "Group 1 data"
      ],
      "metadata": {
        "id": "eWNXjPbtTbiE"
      }
    },
    {
      "cell_type": "code",
      "source": [
        "treatment_group1_data = genej_sim_data[treatment_group15]\n",
        "# head(treatment_group1_data)\n",
        "# write.csv(treatment_group1_data, \"10k_untreated_group15.csv\")"
      ],
      "metadata": {
        "id": "T6e_8tz6S_yu"
      },
      "execution_count": null,
      "outputs": []
    },
    {
      "cell_type": "markdown",
      "source": [
        "* Group 1 consists of EE genes and group 2 consists of 9k EE genes and 1k DE genes (genes with treatment effects)\n",
        "* treatment_group2_data consists of the 4 randomly selected samples (exp. units)"
      ],
      "metadata": {
        "id": "d6wkwzpZw2Ka"
      }
    },
    {
      "cell_type": "code",
      "source": [
        "treatment_group2_data = genej_sim_data[treatment_group25]\n",
        "# dim(treatment_group2_data)\n",
        "# head(treatment_group2_data)"
      ],
      "metadata": {
        "id": "HRDWitPVsKfA"
      },
      "execution_count": null,
      "outputs": []
    },
    {
      "cell_type": "markdown",
      "source": [
        "**Simulation from 3.1**"
      ],
      "metadata": {
        "id": "p7EC16Z9oTBw"
      }
    },
    {
      "cell_type": "markdown",
      "source": [
        "We calculate the treatment effect by extracting the effect size of each gene j from a random normal distribution using genej_std (standard deviation for the 10k randomly selected genes from all experimental units in the population data)"
      ],
      "metadata": {
        "id": "9RAU2JHPxJnq"
      }
    },
    {
      "cell_type": "code",
      "source": [
        "set.seed(1)\n",
        "mu = 2*genej_std\n",
        "\n",
        "treatment_effect_j = rnorm(10000, mu, genej_std)\n",
        "# length(treatment_effect_j)\n",
        "# head(data.frame(treatment_effect_j))"
      ],
      "metadata": {
        "id": "q6TlNYr7ozju"
      },
      "execution_count": null,
      "outputs": []
    },
    {
      "cell_type": "markdown",
      "source": [
        "**DE genes**"
      ],
      "metadata": {
        "id": "n3MHTsO6shYH"
      }
    },
    {
      "cell_type": "markdown",
      "source": [
        "DE genes are created by adding treatment effects extracted to each gene in group 2"
      ],
      "metadata": {
        "id": "4obGjAza0LM6"
      }
    },
    {
      "cell_type": "code",
      "source": [
        "dim(treatment_group2_data)\n",
        "de_treatment_group2 = treatment_group2_data + treatment_effect_j\n",
        "# head(de_treatment_group2)"
      ],
      "metadata": {
        "id": "Bk3FIH-utO_T"
      },
      "execution_count": null,
      "outputs": []
    },
    {
      "cell_type": "markdown",
      "source": [
        "we randomly selected 1000 genes with treatment effect from de_treatment_group2"
      ],
      "metadata": {
        "id": "gGtOVvBA1S5d"
      }
    },
    {
      "cell_type": "code",
      "source": [
        "set.seed(1)\n",
        "n_de = 1000 \n",
        "n_treated_genes_grp2 = nrow(de_treatment_group2)\n",
        "\n",
        "#we extract 1000 genes from DE_treatment_group2 (genes with treatment effects)\n",
        "de_genes_index = sample(n_treated_genes_grp2, n_de)\n",
        "\n",
        "#we copied untreated (genes without effects) genes from treatment_group2_data\n",
        "treated_genes_group2 = treatment_group2_data\n",
        "\n",
        "#we replaced the 1000 untreated genes (without treatment effects) with the corresponding treated genes(with treatment effects)\n",
        "treated_genes_group2[de_genes_index, ] = de_treatment_group2[de_genes_index, ]\n",
        "\n",
        "# dim(treated_genes_group2)\n",
        "# head(de_genes_index)\n"
      ],
      "metadata": {
        "id": "Nf9PE2-Jn8Fr"
      },
      "execution_count": null,
      "outputs": []
    },
    {
      "cell_type": "markdown",
      "source": [
        "**Summary of Group 2 simulation**\n",
        "\n",
        "m00 - number of EE genes (consists of 9000 genes)\n",
        "\n",
        "m11 - number of DE genes (1000 genes)\n"
      ],
      "metadata": {
        "id": "BizhJZB93heZ"
      }
    },
    {
      "cell_type": "code",
      "source": [
        "m00 = treated_genes_group2[-de_genes_index, ]\n",
        "m11 = treated_genes_group2[de_genes_index, ]\n",
        "treatment_effect_size_grp2 = treatment_effect_j[de_genes_index]\n",
        "# write.csv(treated_genes_group2, \"10k_treated_group25.csv\")\n",
        "# dim(m00)\n",
        "# dim(m11)\n",
        "# length(treatment_effect_size_grp2)"
      ],
      "metadata": {
        "id": "eCMZ_f0Q04E8"
      },
      "execution_count": null,
      "outputs": []
    },
    {
      "cell_type": "markdown",
      "source": [
        "## **Student t-test**"
      ],
      "metadata": {
        "id": "k6Zd99ete5Lm"
      }
    },
    {
      "cell_type": "code",
      "source": [
        "tenk_group1_data = read.table(\"10k_untreated_group15.csv\", header= TRUE, sep=\",\")\n",
        "tenk_group2_data = read.table(\"10k_treated_group25.csv\", header= TRUE, sep=\",\")"
      ],
      "metadata": {
        "id": "oRIrvYLKfCZ1"
      },
      "execution_count": null,
      "outputs": []
    }
  ]
}