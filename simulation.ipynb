{
  "nbformat": 4,
  "nbformat_minor": 0,
  "metadata": {
    "colab": {
      "name": "simulation.ipynb",
      "provenance": [],
      "authorship_tag": "ABX9TyOdtUQS6gTNJV7gn1Kxi6DN",
      "include_colab_link": true
    },
    "kernelspec": {
      "name": "ir",
      "display_name": "R"
    },
    "language_info": {
      "name": "R"
    }
  },
  "cells": [
    {
      "cell_type": "markdown",
      "metadata": {
        "id": "view-in-github",
        "colab_type": "text"
      },
      "source": [
        "<a href=\"https://colab.research.google.com/github/almedida/thesis/blob/main/simulation.ipynb\" target=\"_parent\"><img src=\"https://colab.research.google.com/assets/colab-badge.svg\" alt=\"Open In Colab\"/></a>"
      ]
    },
    {
      "cell_type": "code",
      "execution_count": 3,
      "metadata": {
        "id": "Q4ZIf_LWvFxD"
      },
      "outputs": [],
      "source": [
        "#load dataset\n",
        "simulation_data = read.table(\"sim_data.csv\", header= TRUE, sep=\",\")\n",
        "N = ncol(simulation_data) #N = number columns (samples in the dataset)\n",
        "n_gene = nrow(simulation_data) #n_gene = no of genes (rows in the dataset)"
      ]
    },
    {
      "cell_type": "code",
      "source": [
        "head(simulation_data)"
      ],
      "metadata": {
        "colab": {
          "base_uri": "https://localhost:8080/",
          "height": 303
        },
        "id": "b7UnOUy0vWRX",
        "outputId": "3f7c6547-a6d3-49ae-d7e4-168d9ab1080a"
      },
      "execution_count": 4,
      "outputs": [
        {
          "output_type": "display_data",
          "data": {
            "text/plain": [
              "  GSM1247203 GSM1247204 GSM1247205 GSM1247206 GSM1247207 GSM1247208 GSM1247209\n",
              "1 4.319644   4.396137    3.968531  3.979268   3.901083   4.207761   3.963131  \n",
              "2 9.608635   9.244517   10.553440  9.754355   8.997556   9.027160   9.227125  \n",
              "3 5.923612   6.797588    6.369745  5.671180   6.077140   6.341990   6.686084  \n",
              "4 9.911118   9.421990    9.358638  9.275714   8.573832   9.072234   9.053680  \n",
              "5 6.292236   6.047995    6.268707  6.275980   6.257831   6.371053   6.149960  \n",
              "6 7.310085   8.409503    7.802326  7.260794   7.598630   7.504309   8.223495  \n",
              "  GSM1247210 GSM1247211 GSM1247212 ⋯ GSM1247410 GSM1247411 GSM1247412\n",
              "1 4.164432   3.873857   4.217890   ⋯  4.484714  4.219507   3.925787  \n",
              "2 9.198466   8.908276   9.604081   ⋯  8.846296  8.666471   9.462380  \n",
              "3 6.154192   5.906662   6.186725   ⋯  6.820596  6.006575   6.250236  \n",
              "4 9.549565   9.458813   9.247518   ⋯ 10.028440  9.816180   8.794598  \n",
              "5 6.261317   6.361110   6.336733   ⋯  6.278971  6.549239   6.395798  \n",
              "6 7.424841   7.065065   7.577485   ⋯  7.754192  7.051993   7.425191  \n",
              "  GSM1247413 GSM1247414 GSM1247415 GSM1247416 GSM1247417 GSM1247418 GSM1247419\n",
              "1 3.861954   4.015559   4.623454   5.223074   3.927950   3.798007   3.958021  \n",
              "2 9.199890   9.022814   9.072050   9.679663   8.615543   8.796901   8.688204  \n",
              "3 6.047955   6.467733   6.707928   7.916406   5.589499   5.016101   5.278193  \n",
              "4 9.688042   8.914406   9.211488   9.399957   9.693126   8.551371   9.780800  \n",
              "5 6.263772   6.119008   6.146906   6.276937   6.206087   6.438444   6.251627  \n",
              "6 7.989666   7.573813   7.743429   8.081255   7.023867   7.322741   7.321942  "
            ],
            "text/latex": "A data.frame: 6 × 217\n\\begin{tabular}{r|lllllllllllllllllllll}\n  & GSM1247203 & GSM1247204 & GSM1247205 & GSM1247206 & GSM1247207 & GSM1247208 & GSM1247209 & GSM1247210 & GSM1247211 & GSM1247212 & ⋯ & GSM1247410 & GSM1247411 & GSM1247412 & GSM1247413 & GSM1247414 & GSM1247415 & GSM1247416 & GSM1247417 & GSM1247418 & GSM1247419\\\\\n  & <dbl> & <dbl> & <dbl> & <dbl> & <dbl> & <dbl> & <dbl> & <dbl> & <dbl> & <dbl> & ⋯ & <dbl> & <dbl> & <dbl> & <dbl> & <dbl> & <dbl> & <dbl> & <dbl> & <dbl> & <dbl>\\\\\n\\hline\n\t1 & 4.319644 & 4.396137 &  3.968531 & 3.979268 & 3.901083 & 4.207761 & 3.963131 & 4.164432 & 3.873857 & 4.217890 & ⋯ &  4.484714 & 4.219507 & 3.925787 & 3.861954 & 4.015559 & 4.623454 & 5.223074 & 3.927950 & 3.798007 & 3.958021\\\\\n\t2 & 9.608635 & 9.244517 & 10.553440 & 9.754355 & 8.997556 & 9.027160 & 9.227125 & 9.198466 & 8.908276 & 9.604081 & ⋯ &  8.846296 & 8.666471 & 9.462380 & 9.199890 & 9.022814 & 9.072050 & 9.679663 & 8.615543 & 8.796901 & 8.688204\\\\\n\t3 & 5.923612 & 6.797588 &  6.369745 & 5.671180 & 6.077140 & 6.341990 & 6.686084 & 6.154192 & 5.906662 & 6.186725 & ⋯ &  6.820596 & 6.006575 & 6.250236 & 6.047955 & 6.467733 & 6.707928 & 7.916406 & 5.589499 & 5.016101 & 5.278193\\\\\n\t4 & 9.911118 & 9.421990 &  9.358638 & 9.275714 & 8.573832 & 9.072234 & 9.053680 & 9.549565 & 9.458813 & 9.247518 & ⋯ & 10.028440 & 9.816180 & 8.794598 & 9.688042 & 8.914406 & 9.211488 & 9.399957 & 9.693126 & 8.551371 & 9.780800\\\\\n\t5 & 6.292236 & 6.047995 &  6.268707 & 6.275980 & 6.257831 & 6.371053 & 6.149960 & 6.261317 & 6.361110 & 6.336733 & ⋯ &  6.278971 & 6.549239 & 6.395798 & 6.263772 & 6.119008 & 6.146906 & 6.276937 & 6.206087 & 6.438444 & 6.251627\\\\\n\t6 & 7.310085 & 8.409503 &  7.802326 & 7.260794 & 7.598630 & 7.504309 & 8.223495 & 7.424841 & 7.065065 & 7.577485 & ⋯ &  7.754192 & 7.051993 & 7.425191 & 7.989666 & 7.573813 & 7.743429 & 8.081255 & 7.023867 & 7.322741 & 7.321942\\\\\n\\end{tabular}\n",
            "text/markdown": "\nA data.frame: 6 × 217\n\n| <!--/--> | GSM1247203 &lt;dbl&gt; | GSM1247204 &lt;dbl&gt; | GSM1247205 &lt;dbl&gt; | GSM1247206 &lt;dbl&gt; | GSM1247207 &lt;dbl&gt; | GSM1247208 &lt;dbl&gt; | GSM1247209 &lt;dbl&gt; | GSM1247210 &lt;dbl&gt; | GSM1247211 &lt;dbl&gt; | GSM1247212 &lt;dbl&gt; | ⋯ ⋯ | GSM1247410 &lt;dbl&gt; | GSM1247411 &lt;dbl&gt; | GSM1247412 &lt;dbl&gt; | GSM1247413 &lt;dbl&gt; | GSM1247414 &lt;dbl&gt; | GSM1247415 &lt;dbl&gt; | GSM1247416 &lt;dbl&gt; | GSM1247417 &lt;dbl&gt; | GSM1247418 &lt;dbl&gt; | GSM1247419 &lt;dbl&gt; |\n|---|---|---|---|---|---|---|---|---|---|---|---|---|---|---|---|---|---|---|---|---|---|\n| 1 | 4.319644 | 4.396137 |  3.968531 | 3.979268 | 3.901083 | 4.207761 | 3.963131 | 4.164432 | 3.873857 | 4.217890 | ⋯ |  4.484714 | 4.219507 | 3.925787 | 3.861954 | 4.015559 | 4.623454 | 5.223074 | 3.927950 | 3.798007 | 3.958021 |\n| 2 | 9.608635 | 9.244517 | 10.553440 | 9.754355 | 8.997556 | 9.027160 | 9.227125 | 9.198466 | 8.908276 | 9.604081 | ⋯ |  8.846296 | 8.666471 | 9.462380 | 9.199890 | 9.022814 | 9.072050 | 9.679663 | 8.615543 | 8.796901 | 8.688204 |\n| 3 | 5.923612 | 6.797588 |  6.369745 | 5.671180 | 6.077140 | 6.341990 | 6.686084 | 6.154192 | 5.906662 | 6.186725 | ⋯ |  6.820596 | 6.006575 | 6.250236 | 6.047955 | 6.467733 | 6.707928 | 7.916406 | 5.589499 | 5.016101 | 5.278193 |\n| 4 | 9.911118 | 9.421990 |  9.358638 | 9.275714 | 8.573832 | 9.072234 | 9.053680 | 9.549565 | 9.458813 | 9.247518 | ⋯ | 10.028440 | 9.816180 | 8.794598 | 9.688042 | 8.914406 | 9.211488 | 9.399957 | 9.693126 | 8.551371 | 9.780800 |\n| 5 | 6.292236 | 6.047995 |  6.268707 | 6.275980 | 6.257831 | 6.371053 | 6.149960 | 6.261317 | 6.361110 | 6.336733 | ⋯ |  6.278971 | 6.549239 | 6.395798 | 6.263772 | 6.119008 | 6.146906 | 6.276937 | 6.206087 | 6.438444 | 6.251627 |\n| 6 | 7.310085 | 8.409503 |  7.802326 | 7.260794 | 7.598630 | 7.504309 | 8.223495 | 7.424841 | 7.065065 | 7.577485 | ⋯ |  7.754192 | 7.051993 | 7.425191 | 7.989666 | 7.573813 | 7.743429 | 8.081255 | 7.023867 | 7.322741 | 7.321942 |\n\n",
            "text/html": [
              "<table class=\"dataframe\">\n",
              "<caption>A data.frame: 6 × 217</caption>\n",
              "<thead>\n",
              "\t<tr><th></th><th scope=col>GSM1247203</th><th scope=col>GSM1247204</th><th scope=col>GSM1247205</th><th scope=col>GSM1247206</th><th scope=col>GSM1247207</th><th scope=col>GSM1247208</th><th scope=col>GSM1247209</th><th scope=col>GSM1247210</th><th scope=col>GSM1247211</th><th scope=col>GSM1247212</th><th scope=col>⋯</th><th scope=col>GSM1247410</th><th scope=col>GSM1247411</th><th scope=col>GSM1247412</th><th scope=col>GSM1247413</th><th scope=col>GSM1247414</th><th scope=col>GSM1247415</th><th scope=col>GSM1247416</th><th scope=col>GSM1247417</th><th scope=col>GSM1247418</th><th scope=col>GSM1247419</th></tr>\n",
              "\t<tr><th></th><th scope=col>&lt;dbl&gt;</th><th scope=col>&lt;dbl&gt;</th><th scope=col>&lt;dbl&gt;</th><th scope=col>&lt;dbl&gt;</th><th scope=col>&lt;dbl&gt;</th><th scope=col>&lt;dbl&gt;</th><th scope=col>&lt;dbl&gt;</th><th scope=col>&lt;dbl&gt;</th><th scope=col>&lt;dbl&gt;</th><th scope=col>&lt;dbl&gt;</th><th scope=col>⋯</th><th scope=col>&lt;dbl&gt;</th><th scope=col>&lt;dbl&gt;</th><th scope=col>&lt;dbl&gt;</th><th scope=col>&lt;dbl&gt;</th><th scope=col>&lt;dbl&gt;</th><th scope=col>&lt;dbl&gt;</th><th scope=col>&lt;dbl&gt;</th><th scope=col>&lt;dbl&gt;</th><th scope=col>&lt;dbl&gt;</th><th scope=col>&lt;dbl&gt;</th></tr>\n",
              "</thead>\n",
              "<tbody>\n",
              "\t<tr><th scope=row>1</th><td>4.319644</td><td>4.396137</td><td> 3.968531</td><td>3.979268</td><td>3.901083</td><td>4.207761</td><td>3.963131</td><td>4.164432</td><td>3.873857</td><td>4.217890</td><td>⋯</td><td> 4.484714</td><td>4.219507</td><td>3.925787</td><td>3.861954</td><td>4.015559</td><td>4.623454</td><td>5.223074</td><td>3.927950</td><td>3.798007</td><td>3.958021</td></tr>\n",
              "\t<tr><th scope=row>2</th><td>9.608635</td><td>9.244517</td><td>10.553440</td><td>9.754355</td><td>8.997556</td><td>9.027160</td><td>9.227125</td><td>9.198466</td><td>8.908276</td><td>9.604081</td><td>⋯</td><td> 8.846296</td><td>8.666471</td><td>9.462380</td><td>9.199890</td><td>9.022814</td><td>9.072050</td><td>9.679663</td><td>8.615543</td><td>8.796901</td><td>8.688204</td></tr>\n",
              "\t<tr><th scope=row>3</th><td>5.923612</td><td>6.797588</td><td> 6.369745</td><td>5.671180</td><td>6.077140</td><td>6.341990</td><td>6.686084</td><td>6.154192</td><td>5.906662</td><td>6.186725</td><td>⋯</td><td> 6.820596</td><td>6.006575</td><td>6.250236</td><td>6.047955</td><td>6.467733</td><td>6.707928</td><td>7.916406</td><td>5.589499</td><td>5.016101</td><td>5.278193</td></tr>\n",
              "\t<tr><th scope=row>4</th><td>9.911118</td><td>9.421990</td><td> 9.358638</td><td>9.275714</td><td>8.573832</td><td>9.072234</td><td>9.053680</td><td>9.549565</td><td>9.458813</td><td>9.247518</td><td>⋯</td><td>10.028440</td><td>9.816180</td><td>8.794598</td><td>9.688042</td><td>8.914406</td><td>9.211488</td><td>9.399957</td><td>9.693126</td><td>8.551371</td><td>9.780800</td></tr>\n",
              "\t<tr><th scope=row>5</th><td>6.292236</td><td>6.047995</td><td> 6.268707</td><td>6.275980</td><td>6.257831</td><td>6.371053</td><td>6.149960</td><td>6.261317</td><td>6.361110</td><td>6.336733</td><td>⋯</td><td> 6.278971</td><td>6.549239</td><td>6.395798</td><td>6.263772</td><td>6.119008</td><td>6.146906</td><td>6.276937</td><td>6.206087</td><td>6.438444</td><td>6.251627</td></tr>\n",
              "\t<tr><th scope=row>6</th><td>7.310085</td><td>8.409503</td><td> 7.802326</td><td>7.260794</td><td>7.598630</td><td>7.504309</td><td>8.223495</td><td>7.424841</td><td>7.065065</td><td>7.577485</td><td>⋯</td><td> 7.754192</td><td>7.051993</td><td>7.425191</td><td>7.989666</td><td>7.573813</td><td>7.743429</td><td>8.081255</td><td>7.023867</td><td>7.322741</td><td>7.321942</td></tr>\n",
              "</tbody>\n",
              "</table>\n"
            ]
          },
          "metadata": {}
        }
      ]
    },
    {
      "cell_type": "code",
      "source": [
        "dim(simulation_data)"
      ],
      "metadata": {
        "colab": {
          "base_uri": "https://localhost:8080/",
          "height": 34
        },
        "id": "XBf6PuU_w8m4",
        "outputId": "f32adf57-364d-49bc-b1c8-130bf09e8731"
      },
      "execution_count": 5,
      "outputs": [
        {
          "output_type": "display_data",
          "data": {
            "text/plain": [
              "[1] 20219   217"
            ],
            "text/latex": "\\begin{enumerate*}\n\\item 20219\n\\item 217\n\\end{enumerate*}\n",
            "text/markdown": "1. 20219\n2. 217\n\n\n",
            "text/html": [
              "<style>\n",
              ".list-inline {list-style: none; margin:0; padding: 0}\n",
              ".list-inline>li {display: inline-block}\n",
              ".list-inline>li:not(:last-child)::after {content: \"\\00b7\"; padding: 0 .5ex}\n",
              "</style>\n",
              "<ol class=list-inline><li>20219</li><li>217</li></ol>\n"
            ]
          },
          "metadata": {}
        }
      ]
    },
    {
      "cell_type": "code",
      "source": [
        "set.seed(1)\n",
        "m = 10000 #no of genes to be selected from the dataset\n",
        "randomly_selected_genes = sample(n_gene, m) #randomly selected genes of size m from the total genes\n",
        "\n",
        "head(randomly_selected_genes)\n",
        "length(randomly_selected_genes)"
      ],
      "metadata": {
        "colab": {
          "base_uri": "https://localhost:8080/",
          "height": 51
        },
        "id": "8a4rpVGVwxrC",
        "outputId": "7f84bf0c-ed73-4f54-98e8-97bc79f99137"
      },
      "execution_count": 6,
      "outputs": [
        {
          "output_type": "display_data",
          "data": {
            "text/plain": [
              "[1] 17401  4775 13218 10539  8462  4050"
            ],
            "text/latex": "\\begin{enumerate*}\n\\item 17401\n\\item 4775\n\\item 13218\n\\item 10539\n\\item 8462\n\\item 4050\n\\end{enumerate*}\n",
            "text/markdown": "1. 17401\n2. 4775\n3. 13218\n4. 10539\n5. 8462\n6. 4050\n\n\n",
            "text/html": [
              "<style>\n",
              ".list-inline {list-style: none; margin:0; padding: 0}\n",
              ".list-inline>li {display: inline-block}\n",
              ".list-inline>li:not(:last-child)::after {content: \"\\00b7\"; padding: 0 .5ex}\n",
              "</style>\n",
              "<ol class=list-inline><li>17401</li><li>4775</li><li>13218</li><li>10539</li><li>8462</li><li>4050</li></ol>\n"
            ]
          },
          "metadata": {}
        },
        {
          "output_type": "display_data",
          "data": {
            "text/plain": [
              "[1] 10000"
            ],
            "text/latex": "10000",
            "text/markdown": "10000",
            "text/html": [
              "10000"
            ]
          },
          "metadata": {}
        }
      ]
    },
    {
      "cell_type": "code",
      "source": [
        "#10000 selected data corresponding to the randomly selected genes (EE genes)\n",
        "randomly_selected_data = simulation_data[randomly_selected_genes, ]\n",
        "head(randomly_selected_data)"
      ],
      "metadata": {
        "colab": {
          "base_uri": "https://localhost:8080/",
          "height": 303
        },
        "id": "tjwoFEa7yn53",
        "outputId": "457f016c-0615-4cfe-b59b-af7e029878f9"
      },
      "execution_count": 7,
      "outputs": [
        {
          "output_type": "display_data",
          "data": {
            "text/plain": [
              "      GSM1247203 GSM1247204 GSM1247205 GSM1247206 GSM1247207 GSM1247208\n",
              "17401  7.252734   7.303979  7.010113   6.760083    7.459250   7.264806 \n",
              "4775   4.165667   4.435168  4.385319   4.420685    4.152833   3.816157 \n",
              "13218  7.629774   8.434767  7.971606   8.015123    7.517571   7.230787 \n",
              "10539  6.915510   7.562835  7.405954   8.888284    6.957932   6.642156 \n",
              "8462   5.949411   5.801627  5.792423   5.666441    5.843078   5.670973 \n",
              "4050  10.050940  11.042590  9.510201   9.602699   10.909970  11.115290 \n",
              "      GSM1247209 GSM1247210 GSM1247211 GSM1247212 ⋯ GSM1247410 GSM1247411\n",
              "17401  7.441763  7.080874    7.218505   7.343332  ⋯ 7.379983    7.181466 \n",
              "4775   4.201120  4.029131    4.034959   4.177509  ⋯ 4.109681    4.031004 \n",
              "13218  7.881967  7.835166    8.319057   8.088978  ⋯ 8.052246    7.810543 \n",
              "10539  6.770809  6.772811    6.661028   6.976250  ⋯ 8.309056    6.928286 \n",
              "8462   5.809662  5.423051    5.958257   5.824004  ⋯ 5.784465    5.980613 \n",
              "4050  11.792050  9.915201   11.798120  10.769450  ⋯ 9.197424   10.616580 \n",
              "      GSM1247412 GSM1247413 GSM1247414 GSM1247415 GSM1247416 GSM1247417\n",
              "17401  7.332173   7.204830   7.089101   7.034548   7.151740  7.135917  \n",
              "4775   4.180370   4.046903   4.022233   4.061613   4.244768  3.818283  \n",
              "13218  7.634784   8.381040   7.980730   7.325929   7.867981  8.242966  \n",
              "10539  6.647726   6.942022   6.752002   6.683944   6.985731  7.734789  \n",
              "8462   5.989962   5.781039   6.324430   5.347286   6.174486  5.765319  \n",
              "4050  10.694180  10.988510  11.430450  10.100610  11.895710  9.907439  \n",
              "      GSM1247418 GSM1247419\n",
              "17401  7.595081  7.322358  \n",
              "4775   3.911840  4.099252  \n",
              "13218  7.700593  8.018120  \n",
              "10539  6.958129  7.541349  \n",
              "8462   5.868937  6.113311  \n",
              "4050  11.307340  9.178329  "
            ],
            "text/latex": "A data.frame: 6 × 217\n\\begin{tabular}{r|lllllllllllllllllllll}\n  & GSM1247203 & GSM1247204 & GSM1247205 & GSM1247206 & GSM1247207 & GSM1247208 & GSM1247209 & GSM1247210 & GSM1247211 & GSM1247212 & ⋯ & GSM1247410 & GSM1247411 & GSM1247412 & GSM1247413 & GSM1247414 & GSM1247415 & GSM1247416 & GSM1247417 & GSM1247418 & GSM1247419\\\\\n  & <dbl> & <dbl> & <dbl> & <dbl> & <dbl> & <dbl> & <dbl> & <dbl> & <dbl> & <dbl> & ⋯ & <dbl> & <dbl> & <dbl> & <dbl> & <dbl> & <dbl> & <dbl> & <dbl> & <dbl> & <dbl>\\\\\n\\hline\n\t17401 &  7.252734 &  7.303979 & 7.010113 & 6.760083 &  7.459250 &  7.264806 &  7.441763 & 7.080874 &  7.218505 &  7.343332 & ⋯ & 7.379983 &  7.181466 &  7.332173 &  7.204830 &  7.089101 &  7.034548 &  7.151740 & 7.135917 &  7.595081 & 7.322358\\\\\n\t4775 &  4.165667 &  4.435168 & 4.385319 & 4.420685 &  4.152833 &  3.816157 &  4.201120 & 4.029131 &  4.034959 &  4.177509 & ⋯ & 4.109681 &  4.031004 &  4.180370 &  4.046903 &  4.022233 &  4.061613 &  4.244768 & 3.818283 &  3.911840 & 4.099252\\\\\n\t13218 &  7.629774 &  8.434767 & 7.971606 & 8.015123 &  7.517571 &  7.230787 &  7.881967 & 7.835166 &  8.319057 &  8.088978 & ⋯ & 8.052246 &  7.810543 &  7.634784 &  8.381040 &  7.980730 &  7.325929 &  7.867981 & 8.242966 &  7.700593 & 8.018120\\\\\n\t10539 &  6.915510 &  7.562835 & 7.405954 & 8.888284 &  6.957932 &  6.642156 &  6.770809 & 6.772811 &  6.661028 &  6.976250 & ⋯ & 8.309056 &  6.928286 &  6.647726 &  6.942022 &  6.752002 &  6.683944 &  6.985731 & 7.734789 &  6.958129 & 7.541349\\\\\n\t8462 &  5.949411 &  5.801627 & 5.792423 & 5.666441 &  5.843078 &  5.670973 &  5.809662 & 5.423051 &  5.958257 &  5.824004 & ⋯ & 5.784465 &  5.980613 &  5.989962 &  5.781039 &  6.324430 &  5.347286 &  6.174486 & 5.765319 &  5.868937 & 6.113311\\\\\n\t4050 & 10.050940 & 11.042590 & 9.510201 & 9.602699 & 10.909970 & 11.115290 & 11.792050 & 9.915201 & 11.798120 & 10.769450 & ⋯ & 9.197424 & 10.616580 & 10.694180 & 10.988510 & 11.430450 & 10.100610 & 11.895710 & 9.907439 & 11.307340 & 9.178329\\\\\n\\end{tabular}\n",
            "text/markdown": "\nA data.frame: 6 × 217\n\n| <!--/--> | GSM1247203 &lt;dbl&gt; | GSM1247204 &lt;dbl&gt; | GSM1247205 &lt;dbl&gt; | GSM1247206 &lt;dbl&gt; | GSM1247207 &lt;dbl&gt; | GSM1247208 &lt;dbl&gt; | GSM1247209 &lt;dbl&gt; | GSM1247210 &lt;dbl&gt; | GSM1247211 &lt;dbl&gt; | GSM1247212 &lt;dbl&gt; | ⋯ ⋯ | GSM1247410 &lt;dbl&gt; | GSM1247411 &lt;dbl&gt; | GSM1247412 &lt;dbl&gt; | GSM1247413 &lt;dbl&gt; | GSM1247414 &lt;dbl&gt; | GSM1247415 &lt;dbl&gt; | GSM1247416 &lt;dbl&gt; | GSM1247417 &lt;dbl&gt; | GSM1247418 &lt;dbl&gt; | GSM1247419 &lt;dbl&gt; |\n|---|---|---|---|---|---|---|---|---|---|---|---|---|---|---|---|---|---|---|---|---|---|\n| 17401 |  7.252734 |  7.303979 | 7.010113 | 6.760083 |  7.459250 |  7.264806 |  7.441763 | 7.080874 |  7.218505 |  7.343332 | ⋯ | 7.379983 |  7.181466 |  7.332173 |  7.204830 |  7.089101 |  7.034548 |  7.151740 | 7.135917 |  7.595081 | 7.322358 |\n| 4775 |  4.165667 |  4.435168 | 4.385319 | 4.420685 |  4.152833 |  3.816157 |  4.201120 | 4.029131 |  4.034959 |  4.177509 | ⋯ | 4.109681 |  4.031004 |  4.180370 |  4.046903 |  4.022233 |  4.061613 |  4.244768 | 3.818283 |  3.911840 | 4.099252 |\n| 13218 |  7.629774 |  8.434767 | 7.971606 | 8.015123 |  7.517571 |  7.230787 |  7.881967 | 7.835166 |  8.319057 |  8.088978 | ⋯ | 8.052246 |  7.810543 |  7.634784 |  8.381040 |  7.980730 |  7.325929 |  7.867981 | 8.242966 |  7.700593 | 8.018120 |\n| 10539 |  6.915510 |  7.562835 | 7.405954 | 8.888284 |  6.957932 |  6.642156 |  6.770809 | 6.772811 |  6.661028 |  6.976250 | ⋯ | 8.309056 |  6.928286 |  6.647726 |  6.942022 |  6.752002 |  6.683944 |  6.985731 | 7.734789 |  6.958129 | 7.541349 |\n| 8462 |  5.949411 |  5.801627 | 5.792423 | 5.666441 |  5.843078 |  5.670973 |  5.809662 | 5.423051 |  5.958257 |  5.824004 | ⋯ | 5.784465 |  5.980613 |  5.989962 |  5.781039 |  6.324430 |  5.347286 |  6.174486 | 5.765319 |  5.868937 | 6.113311 |\n| 4050 | 10.050940 | 11.042590 | 9.510201 | 9.602699 | 10.909970 | 11.115290 | 11.792050 | 9.915201 | 11.798120 | 10.769450 | ⋯ | 9.197424 | 10.616580 | 10.694180 | 10.988510 | 11.430450 | 10.100610 | 11.895710 | 9.907439 | 11.307340 | 9.178329 |\n\n",
            "text/html": [
              "<table class=\"dataframe\">\n",
              "<caption>A data.frame: 6 × 217</caption>\n",
              "<thead>\n",
              "\t<tr><th></th><th scope=col>GSM1247203</th><th scope=col>GSM1247204</th><th scope=col>GSM1247205</th><th scope=col>GSM1247206</th><th scope=col>GSM1247207</th><th scope=col>GSM1247208</th><th scope=col>GSM1247209</th><th scope=col>GSM1247210</th><th scope=col>GSM1247211</th><th scope=col>GSM1247212</th><th scope=col>⋯</th><th scope=col>GSM1247410</th><th scope=col>GSM1247411</th><th scope=col>GSM1247412</th><th scope=col>GSM1247413</th><th scope=col>GSM1247414</th><th scope=col>GSM1247415</th><th scope=col>GSM1247416</th><th scope=col>GSM1247417</th><th scope=col>GSM1247418</th><th scope=col>GSM1247419</th></tr>\n",
              "\t<tr><th></th><th scope=col>&lt;dbl&gt;</th><th scope=col>&lt;dbl&gt;</th><th scope=col>&lt;dbl&gt;</th><th scope=col>&lt;dbl&gt;</th><th scope=col>&lt;dbl&gt;</th><th scope=col>&lt;dbl&gt;</th><th scope=col>&lt;dbl&gt;</th><th scope=col>&lt;dbl&gt;</th><th scope=col>&lt;dbl&gt;</th><th scope=col>&lt;dbl&gt;</th><th scope=col>⋯</th><th scope=col>&lt;dbl&gt;</th><th scope=col>&lt;dbl&gt;</th><th scope=col>&lt;dbl&gt;</th><th scope=col>&lt;dbl&gt;</th><th scope=col>&lt;dbl&gt;</th><th scope=col>&lt;dbl&gt;</th><th scope=col>&lt;dbl&gt;</th><th scope=col>&lt;dbl&gt;</th><th scope=col>&lt;dbl&gt;</th><th scope=col>&lt;dbl&gt;</th></tr>\n",
              "</thead>\n",
              "<tbody>\n",
              "\t<tr><th scope=row>17401</th><td> 7.252734</td><td> 7.303979</td><td>7.010113</td><td>6.760083</td><td> 7.459250</td><td> 7.264806</td><td> 7.441763</td><td>7.080874</td><td> 7.218505</td><td> 7.343332</td><td>⋯</td><td>7.379983</td><td> 7.181466</td><td> 7.332173</td><td> 7.204830</td><td> 7.089101</td><td> 7.034548</td><td> 7.151740</td><td>7.135917</td><td> 7.595081</td><td>7.322358</td></tr>\n",
              "\t<tr><th scope=row>4775</th><td> 4.165667</td><td> 4.435168</td><td>4.385319</td><td>4.420685</td><td> 4.152833</td><td> 3.816157</td><td> 4.201120</td><td>4.029131</td><td> 4.034959</td><td> 4.177509</td><td>⋯</td><td>4.109681</td><td> 4.031004</td><td> 4.180370</td><td> 4.046903</td><td> 4.022233</td><td> 4.061613</td><td> 4.244768</td><td>3.818283</td><td> 3.911840</td><td>4.099252</td></tr>\n",
              "\t<tr><th scope=row>13218</th><td> 7.629774</td><td> 8.434767</td><td>7.971606</td><td>8.015123</td><td> 7.517571</td><td> 7.230787</td><td> 7.881967</td><td>7.835166</td><td> 8.319057</td><td> 8.088978</td><td>⋯</td><td>8.052246</td><td> 7.810543</td><td> 7.634784</td><td> 8.381040</td><td> 7.980730</td><td> 7.325929</td><td> 7.867981</td><td>8.242966</td><td> 7.700593</td><td>8.018120</td></tr>\n",
              "\t<tr><th scope=row>10539</th><td> 6.915510</td><td> 7.562835</td><td>7.405954</td><td>8.888284</td><td> 6.957932</td><td> 6.642156</td><td> 6.770809</td><td>6.772811</td><td> 6.661028</td><td> 6.976250</td><td>⋯</td><td>8.309056</td><td> 6.928286</td><td> 6.647726</td><td> 6.942022</td><td> 6.752002</td><td> 6.683944</td><td> 6.985731</td><td>7.734789</td><td> 6.958129</td><td>7.541349</td></tr>\n",
              "\t<tr><th scope=row>8462</th><td> 5.949411</td><td> 5.801627</td><td>5.792423</td><td>5.666441</td><td> 5.843078</td><td> 5.670973</td><td> 5.809662</td><td>5.423051</td><td> 5.958257</td><td> 5.824004</td><td>⋯</td><td>5.784465</td><td> 5.980613</td><td> 5.989962</td><td> 5.781039</td><td> 6.324430</td><td> 5.347286</td><td> 6.174486</td><td>5.765319</td><td> 5.868937</td><td>6.113311</td></tr>\n",
              "\t<tr><th scope=row>4050</th><td>10.050940</td><td>11.042590</td><td>9.510201</td><td>9.602699</td><td>10.909970</td><td>11.115290</td><td>11.792050</td><td>9.915201</td><td>11.798120</td><td>10.769450</td><td>⋯</td><td>9.197424</td><td>10.616580</td><td>10.694180</td><td>10.988510</td><td>11.430450</td><td>10.100610</td><td>11.895710</td><td>9.907439</td><td>11.307340</td><td>9.178329</td></tr>\n",
              "</tbody>\n",
              "</table>\n"
            ]
          },
          "metadata": {}
        }
      ]
    },
    {
      "cell_type": "code",
      "source": [
        "#calculate standard deviation for each gene for the 10,000 selected genes for the whole samples\n",
        "randomly_selected_genes_std = apply(randomly_selected_data, 1, sd)\n",
        "\n",
        "head(randomly_selected_genes_std)\n",
        "length(randomly_selected_genes_std)"
      ],
      "metadata": {
        "colab": {
          "base_uri": "https://localhost:8080/",
          "height": 68
        },
        "id": "ZC3t0LfLzoxl",
        "outputId": "9409408f-1f80-4cc7-a235-2ba5c2947d36"
      },
      "execution_count": 41,
      "outputs": [
        {
          "output_type": "display_data",
          "data": {
            "text/plain": [
              "    17401      4775     13218     10539      8462      4050 \n",
              "0.2237894 0.2063794 0.2945551 0.5984411 0.3111447 0.8521204 "
            ],
            "text/latex": "\\begin{description*}\n\\item[17401] 0.223789436940553\n\\item[4775] 0.206379379852298\n\\item[13218] 0.2945551365075\n\\item[10539] 0.598441090859509\n\\item[8462] 0.311144731430865\n\\item[4050] 0.852120407872688\n\\end{description*}\n",
            "text/markdown": "17401\n:   0.2237894369405534775\n:   0.20637937985229813218\n:   0.294555136507510539\n:   0.5984410908595098462\n:   0.3111447314308654050\n:   0.852120407872688\n\n",
            "text/html": [
              "<style>\n",
              ".dl-inline {width: auto; margin:0; padding: 0}\n",
              ".dl-inline>dt, .dl-inline>dd {float: none; width: auto; display: inline-block}\n",
              ".dl-inline>dt::after {content: \":\\0020\"; padding-right: .5ex}\n",
              ".dl-inline>dt:not(:first-of-type) {padding-left: .5ex}\n",
              "</style><dl class=dl-inline><dt>17401</dt><dd>0.223789436940553</dd><dt>4775</dt><dd>0.206379379852298</dd><dt>13218</dt><dd>0.2945551365075</dd><dt>10539</dt><dd>0.598441090859509</dd><dt>8462</dt><dd>0.311144731430865</dd><dt>4050</dt><dd>0.852120407872688</dd></dl>\n"
            ]
          },
          "metadata": {}
        },
        {
          "output_type": "display_data",
          "data": {
            "text/plain": [
              "[1] 10000"
            ],
            "text/latex": "10000",
            "text/markdown": "10000",
            "text/html": [
              "10000"
            ]
          },
          "metadata": {}
        }
      ]
    },
    {
      "cell_type": "markdown",
      "source": [
        "Here, we create 2 treatment groups with 4 randomly selected samples each with different number of genes selected from 10,000 randlomly selected genes. We start with 1,000 genes. Group 1 consists of EE genes and group 2 consists of DE genes (genes with treatment effects)\n",
        "We calculate the treatment effect by extracting the effect size of each gene from a random normal distribution, and add to each to each selected gene."
      ],
      "metadata": {
        "id": "QKUC3H8Hk30I"
      }
    },
    {
      "cell_type": "code",
      "source": [
        "set.seed(1)\n",
        "n_samples = 4 #no of samples\n",
        "randomly_selected_samples  = sample(N, 2*n_samples) #randomly select samples of size 2*n_trt_grp \n",
        "                                                    #for treatment group\n",
        "\n",
        "randomly_selected_samples\n",
        "\n",
        "treatment_group1 = randomly_selected_samples[1:n_samples]\n",
        "treatment_group2 = randomly_selected_samples[(n_samples + 1):(2*n_samples)]\n",
        "\n",
        "treatment_group1\n",
        "treatment_group2"
      ],
      "metadata": {
        "colab": {
          "base_uri": "https://localhost:8080/",
          "height": 68
        },
        "id": "UkXbutdZ0dkn",
        "outputId": "f8440c6c-b07e-4668-a650-41967e1b9cd7"
      },
      "execution_count": 9,
      "outputs": [
        {
          "output_type": "display_data",
          "data": {
            "text/plain": [
              "[1]  68 167 129 162  43  14 210 187"
            ],
            "text/latex": "\\begin{enumerate*}\n\\item 68\n\\item 167\n\\item 129\n\\item 162\n\\item 43\n\\item 14\n\\item 210\n\\item 187\n\\end{enumerate*}\n",
            "text/markdown": "1. 68\n2. 167\n3. 129\n4. 162\n5. 43\n6. 14\n7. 210\n8. 187\n\n\n",
            "text/html": [
              "<style>\n",
              ".list-inline {list-style: none; margin:0; padding: 0}\n",
              ".list-inline>li {display: inline-block}\n",
              ".list-inline>li:not(:last-child)::after {content: \"\\00b7\"; padding: 0 .5ex}\n",
              "</style>\n",
              "<ol class=list-inline><li>68</li><li>167</li><li>129</li><li>162</li><li>43</li><li>14</li><li>210</li><li>187</li></ol>\n"
            ]
          },
          "metadata": {}
        },
        {
          "output_type": "display_data",
          "data": {
            "text/plain": [
              "[1]  68 167 129 162"
            ],
            "text/latex": "\\begin{enumerate*}\n\\item 68\n\\item 167\n\\item 129\n\\item 162\n\\end{enumerate*}\n",
            "text/markdown": "1. 68\n2. 167\n3. 129\n4. 162\n\n\n",
            "text/html": [
              "<style>\n",
              ".list-inline {list-style: none; margin:0; padding: 0}\n",
              ".list-inline>li {display: inline-block}\n",
              ".list-inline>li:not(:last-child)::after {content: \"\\00b7\"; padding: 0 .5ex}\n",
              "</style>\n",
              "<ol class=list-inline><li>68</li><li>167</li><li>129</li><li>162</li></ol>\n"
            ]
          },
          "metadata": {}
        },
        {
          "output_type": "display_data",
          "data": {
            "text/plain": [
              "[1]  43  14 210 187"
            ],
            "text/latex": "\\begin{enumerate*}\n\\item 43\n\\item 14\n\\item 210\n\\item 187\n\\end{enumerate*}\n",
            "text/markdown": "1. 43\n2. 14\n3. 210\n4. 187\n\n\n",
            "text/html": [
              "<style>\n",
              ".list-inline {list-style: none; margin:0; padding: 0}\n",
              ".list-inline>li {display: inline-block}\n",
              ".list-inline>li:not(:last-child)::after {content: \"\\00b7\"; padding: 0 .5ex}\n",
              "</style>\n",
              "<ol class=list-inline><li>43</li><li>14</li><li>210</li><li>187</li></ol>\n"
            ]
          },
          "metadata": {}
        }
      ]
    },
    {
      "cell_type": "code",
      "source": [
        "treatment_group2_data = randomly_selected_data[treatment_group2]\n",
        "dim(treatment_group2_data)\n",
        "head(treatment_group2_data)"
      ],
      "metadata": {
        "colab": {
          "base_uri": "https://localhost:8080/",
          "height": 300
        },
        "id": "HRDWitPVsKfA",
        "outputId": "09e74371-742c-4f5f-d7f5-bc5c539ff78c"
      },
      "execution_count": 22,
      "outputs": [
        {
          "output_type": "display_data",
          "data": {
            "text/plain": [
              "[1] 10000     4"
            ],
            "text/latex": "\\begin{enumerate*}\n\\item 10000\n\\item 4\n\\end{enumerate*}\n",
            "text/markdown": "1. 10000\n2. 4\n\n\n",
            "text/html": [
              "<style>\n",
              ".list-inline {list-style: none; margin:0; padding: 0}\n",
              ".list-inline>li {display: inline-block}\n",
              ".list-inline>li:not(:last-child)::after {content: \"\\00b7\"; padding: 0 .5ex}\n",
              "</style>\n",
              "<ol class=list-inline><li>10000</li><li>4</li></ol>\n"
            ]
          },
          "metadata": {}
        },
        {
          "output_type": "display_data",
          "data": {
            "text/plain": [
              "      GSM1247245 GSM1247216 GSM1247412 GSM1247389\n",
              "17401  7.281503  7.235446    7.332173   7.097853 \n",
              "4775   4.127808  4.584075    4.180370   3.777045 \n",
              "13218  7.935946  7.795728    7.634784   7.370020 \n",
              "10539  7.256062  7.494608    6.647726   6.818447 \n",
              "8462   5.813072  5.418977    5.989962   5.462583 \n",
              "4050  10.446420  9.349102   10.694180  10.714950 "
            ],
            "text/latex": "A data.frame: 6 × 4\n\\begin{tabular}{r|llll}\n  & GSM1247245 & GSM1247216 & GSM1247412 & GSM1247389\\\\\n  & <dbl> & <dbl> & <dbl> & <dbl>\\\\\n\\hline\n\t17401 &  7.281503 & 7.235446 &  7.332173 &  7.097853\\\\\n\t4775 &  4.127808 & 4.584075 &  4.180370 &  3.777045\\\\\n\t13218 &  7.935946 & 7.795728 &  7.634784 &  7.370020\\\\\n\t10539 &  7.256062 & 7.494608 &  6.647726 &  6.818447\\\\\n\t8462 &  5.813072 & 5.418977 &  5.989962 &  5.462583\\\\\n\t4050 & 10.446420 & 9.349102 & 10.694180 & 10.714950\\\\\n\\end{tabular}\n",
            "text/markdown": "\nA data.frame: 6 × 4\n\n| <!--/--> | GSM1247245 &lt;dbl&gt; | GSM1247216 &lt;dbl&gt; | GSM1247412 &lt;dbl&gt; | GSM1247389 &lt;dbl&gt; |\n|---|---|---|---|---|\n| 17401 |  7.281503 | 7.235446 |  7.332173 |  7.097853 |\n| 4775 |  4.127808 | 4.584075 |  4.180370 |  3.777045 |\n| 13218 |  7.935946 | 7.795728 |  7.634784 |  7.370020 |\n| 10539 |  7.256062 | 7.494608 |  6.647726 |  6.818447 |\n| 8462 |  5.813072 | 5.418977 |  5.989962 |  5.462583 |\n| 4050 | 10.446420 | 9.349102 | 10.694180 | 10.714950 |\n\n",
            "text/html": [
              "<table class=\"dataframe\">\n",
              "<caption>A data.frame: 6 × 4</caption>\n",
              "<thead>\n",
              "\t<tr><th></th><th scope=col>GSM1247245</th><th scope=col>GSM1247216</th><th scope=col>GSM1247412</th><th scope=col>GSM1247389</th></tr>\n",
              "\t<tr><th></th><th scope=col>&lt;dbl&gt;</th><th scope=col>&lt;dbl&gt;</th><th scope=col>&lt;dbl&gt;</th><th scope=col>&lt;dbl&gt;</th></tr>\n",
              "</thead>\n",
              "<tbody>\n",
              "\t<tr><th scope=row>17401</th><td> 7.281503</td><td>7.235446</td><td> 7.332173</td><td> 7.097853</td></tr>\n",
              "\t<tr><th scope=row>4775</th><td> 4.127808</td><td>4.584075</td><td> 4.180370</td><td> 3.777045</td></tr>\n",
              "\t<tr><th scope=row>13218</th><td> 7.935946</td><td>7.795728</td><td> 7.634784</td><td> 7.370020</td></tr>\n",
              "\t<tr><th scope=row>10539</th><td> 7.256062</td><td>7.494608</td><td> 6.647726</td><td> 6.818447</td></tr>\n",
              "\t<tr><th scope=row>8462</th><td> 5.813072</td><td>5.418977</td><td> 5.989962</td><td> 5.462583</td></tr>\n",
              "\t<tr><th scope=row>4050</th><td>10.446420</td><td>9.349102</td><td>10.694180</td><td>10.714950</td></tr>\n",
              "</tbody>\n",
              "</table>\n"
            ]
          },
          "metadata": {}
        }
      ]
    },
    {
      "cell_type": "code",
      "source": [
        "#1000 randomly selected genes for group 2\n",
        "n_m11 = 1000 \n",
        "n_group2_genes = nrow(treatment_group2_data)\n",
        "\n",
        "m11_genes = sample(n_group2_genes, n_m11)\n",
        "length(m11_genes)\n",
        "head(m11_genes)\n",
        "\n",
        "m11_data = treatment_group2_data[m11_genes, ]\n",
        "head(m11_data)\n",
        "dim(m11_data)"
      ],
      "metadata": {
        "colab": {
          "base_uri": "https://localhost:8080/",
          "height": 334
        },
        "id": "Nf9PE2-Jn8Fr",
        "outputId": "7413427f-85ae-4ed3-e393-0bbafea500bc"
      },
      "execution_count": 37,
      "outputs": [
        {
          "output_type": "display_data",
          "data": {
            "text/plain": [
              "[1] 1000"
            ],
            "text/latex": "1000",
            "text/markdown": "1000",
            "text/html": [
              "1000"
            ]
          },
          "metadata": {}
        },
        {
          "output_type": "display_data",
          "data": {
            "text/plain": [
              "[1] 7354 3946 6014 9167 5205 1266"
            ],
            "text/latex": "\\begin{enumerate*}\n\\item 7354\n\\item 3946\n\\item 6014\n\\item 9167\n\\item 5205\n\\item 1266\n\\end{enumerate*}\n",
            "text/markdown": "1. 7354\n2. 3946\n3. 6014\n4. 9167\n5. 5205\n6. 1266\n\n\n",
            "text/html": [
              "<style>\n",
              ".list-inline {list-style: none; margin:0; padding: 0}\n",
              ".list-inline>li {display: inline-block}\n",
              ".list-inline>li:not(:last-child)::after {content: \"\\00b7\"; padding: 0 .5ex}\n",
              "</style>\n",
              "<ol class=list-inline><li>7354</li><li>3946</li><li>6014</li><li>9167</li><li>5205</li><li>1266</li></ol>\n"
            ]
          },
          "metadata": {}
        },
        {
          "output_type": "display_data",
          "data": {
            "text/plain": [
              "      GSM1247245 GSM1247216 GSM1247412 GSM1247389\n",
              "13596  5.170680   4.730273  4.645144    5.213178 \n",
              "1900   7.982648   7.294804  7.927159    7.768323 \n",
              "4231   6.422726   6.204313  6.493874    6.102875 \n",
              "5085  10.349560  10.392900  9.959881   10.096170 \n",
              "19722  7.244420   7.673153  6.916930    7.138304 \n",
              "11392  8.459208   7.955292  8.075250    8.574453 "
            ],
            "text/latex": "A data.frame: 6 × 4\n\\begin{tabular}{r|llll}\n  & GSM1247245 & GSM1247216 & GSM1247412 & GSM1247389\\\\\n  & <dbl> & <dbl> & <dbl> & <dbl>\\\\\n\\hline\n\t13596 &  5.170680 &  4.730273 & 4.645144 &  5.213178\\\\\n\t1900 &  7.982648 &  7.294804 & 7.927159 &  7.768323\\\\\n\t4231 &  6.422726 &  6.204313 & 6.493874 &  6.102875\\\\\n\t5085 & 10.349560 & 10.392900 & 9.959881 & 10.096170\\\\\n\t19722 &  7.244420 &  7.673153 & 6.916930 &  7.138304\\\\\n\t11392 &  8.459208 &  7.955292 & 8.075250 &  8.574453\\\\\n\\end{tabular}\n",
            "text/markdown": "\nA data.frame: 6 × 4\n\n| <!--/--> | GSM1247245 &lt;dbl&gt; | GSM1247216 &lt;dbl&gt; | GSM1247412 &lt;dbl&gt; | GSM1247389 &lt;dbl&gt; |\n|---|---|---|---|---|\n| 13596 |  5.170680 |  4.730273 | 4.645144 |  5.213178 |\n| 1900 |  7.982648 |  7.294804 | 7.927159 |  7.768323 |\n| 4231 |  6.422726 |  6.204313 | 6.493874 |  6.102875 |\n| 5085 | 10.349560 | 10.392900 | 9.959881 | 10.096170 |\n| 19722 |  7.244420 |  7.673153 | 6.916930 |  7.138304 |\n| 11392 |  8.459208 |  7.955292 | 8.075250 |  8.574453 |\n\n",
            "text/html": [
              "<table class=\"dataframe\">\n",
              "<caption>A data.frame: 6 × 4</caption>\n",
              "<thead>\n",
              "\t<tr><th></th><th scope=col>GSM1247245</th><th scope=col>GSM1247216</th><th scope=col>GSM1247412</th><th scope=col>GSM1247389</th></tr>\n",
              "\t<tr><th></th><th scope=col>&lt;dbl&gt;</th><th scope=col>&lt;dbl&gt;</th><th scope=col>&lt;dbl&gt;</th><th scope=col>&lt;dbl&gt;</th></tr>\n",
              "</thead>\n",
              "<tbody>\n",
              "\t<tr><th scope=row>13596</th><td> 5.170680</td><td> 4.730273</td><td>4.645144</td><td> 5.213178</td></tr>\n",
              "\t<tr><th scope=row>1900</th><td> 7.982648</td><td> 7.294804</td><td>7.927159</td><td> 7.768323</td></tr>\n",
              "\t<tr><th scope=row>4231</th><td> 6.422726</td><td> 6.204313</td><td>6.493874</td><td> 6.102875</td></tr>\n",
              "\t<tr><th scope=row>5085</th><td>10.349560</td><td>10.392900</td><td>9.959881</td><td>10.096170</td></tr>\n",
              "\t<tr><th scope=row>19722</th><td> 7.244420</td><td> 7.673153</td><td>6.916930</td><td> 7.138304</td></tr>\n",
              "\t<tr><th scope=row>11392</th><td> 8.459208</td><td> 7.955292</td><td>8.075250</td><td> 8.574453</td></tr>\n",
              "</tbody>\n",
              "</table>\n"
            ]
          },
          "metadata": {}
        },
        {
          "output_type": "display_data",
          "data": {
            "text/plain": [
              "[1] 1000    4"
            ],
            "text/latex": "\\begin{enumerate*}\n\\item 1000\n\\item 4\n\\end{enumerate*}\n",
            "text/markdown": "1. 1000\n2. 4\n\n\n",
            "text/html": [
              "<style>\n",
              ".list-inline {list-style: none; margin:0; padding: 0}\n",
              ".list-inline>li {display: inline-block}\n",
              ".list-inline>li:not(:last-child)::after {content: \"\\00b7\"; padding: 0 .5ex}\n",
              "</style>\n",
              "<ol class=list-inline><li>1000</li><li>4</li></ol>\n"
            ]
          },
          "metadata": {}
        }
      ]
    },
    {
      "cell_type": "code",
      "source": [
        "mu=2\n",
        "m11_genes_std = apply(m11_data, 1, sd)\n",
        "\n",
        "df_m11_genes_std = data.frame(m11_genes_std)\n",
        "head(df_m11_genes_std)\n",
        "\n",
        "#genes_treatment_effect <- data.frame(rnorm(1000, mu*df_m11_genes_std, df_m11_genes_std))"
      ],
      "metadata": {
        "id": "HcrzXFYXzHE7",
        "outputId": "6536aafc-3334-4855-9c61-d1d204f38fc6",
        "colab": {
          "base_uri": "https://localhost:8080/",
          "height": 283
        }
      },
      "execution_count": 60,
      "outputs": [
        {
          "output_type": "display_data",
          "data": {
            "text/plain": [
              "      m11_genes_std\n",
              "13596 0.2936922    \n",
              "1900  0.3124454    \n",
              "4231  0.1830497    \n",
              "5085  0.2065719    \n",
              "19722 0.3174462    \n",
              "11392 0.2974321    "
            ],
            "text/latex": "A data.frame: 6 × 1\n\\begin{tabular}{r|l}\n  & m11\\_genes\\_std\\\\\n  & <dbl>\\\\\n\\hline\n\t13596 & 0.2936922\\\\\n\t1900 & 0.3124454\\\\\n\t4231 & 0.1830497\\\\\n\t5085 & 0.2065719\\\\\n\t19722 & 0.3174462\\\\\n\t11392 & 0.2974321\\\\\n\\end{tabular}\n",
            "text/markdown": "\nA data.frame: 6 × 1\n\n| <!--/--> | m11_genes_std &lt;dbl&gt; |\n|---|---|\n| 13596 | 0.2936922 |\n| 1900 | 0.3124454 |\n| 4231 | 0.1830497 |\n| 5085 | 0.2065719 |\n| 19722 | 0.3174462 |\n| 11392 | 0.2974321 |\n\n",
            "text/html": [
              "<table class=\"dataframe\">\n",
              "<caption>A data.frame: 6 × 1</caption>\n",
              "<thead>\n",
              "\t<tr><th></th><th scope=col>m11_genes_std</th></tr>\n",
              "\t<tr><th></th><th scope=col>&lt;dbl&gt;</th></tr>\n",
              "</thead>\n",
              "<tbody>\n",
              "\t<tr><th scope=row>13596</th><td>0.2936922</td></tr>\n",
              "\t<tr><th scope=row>1900</th><td>0.3124454</td></tr>\n",
              "\t<tr><th scope=row>4231</th><td>0.1830497</td></tr>\n",
              "\t<tr><th scope=row>5085</th><td>0.2065719</td></tr>\n",
              "\t<tr><th scope=row>19722</th><td>0.3174462</td></tr>\n",
              "\t<tr><th scope=row>11392</th><td>0.2974321</td></tr>\n",
              "</tbody>\n",
              "</table>\n"
            ]
          },
          "metadata": {}
        }
      ]
    },
    {
      "cell_type": "markdown",
      "source": [
        "\n",
        "\n",
        "*   find effect size of each gene from the samples in m11_genes (DE), using mu=2 and std of each each\n",
        "*   add the corresponding effect size to all the samples of the 1000 genes selected for m11_genes"
      ],
      "metadata": {
        "id": "64HkVDan8lhQ"
      }
    },
    {
      "cell_type": "code",
      "source": [
        "mu = 2\n",
        "for (gene in length(n_group2_genes)){\n",
        "  gene_j = df_m11_genes_std[gene]\n",
        "  \n",
        "  if (gene_j[gene] == \n",
        "    genes_treatment_effect <- rnorm(1000, mu*gene_j[ ,1], gene_j)\n",
        "\n",
        "  genes_treatment_effect <- rnorm(1000, mu*gene_j[gene], gene_j[gene])\n",
        "  \n",
        "}"
      ],
      "metadata": {
        "id": "2-AjSqaK1Cn1"
      },
      "execution_count": 70,
      "outputs": []
    },
    {
      "cell_type": "code",
      "source": [
        "gene_j[1][ ,1]"
      ],
      "metadata": {
        "id": "lajMd_RH0GHq",
        "outputId": "fd0b2d03-27bb-4cf8-bc80-02660e3e2832",
        "colab": {
          "base_uri": "https://localhost:8080/",
          "height": 1000
        }
      },
      "execution_count": 93,
      "outputs": [
        {
          "output_type": "display_data",
          "data": {
            "text/plain": [
              "   [1] 0.29369220 0.31244540 0.18304972 0.20657190 0.31744624 0.29743212\n",
              "   [7] 0.30486620 0.41041697 0.57191685 0.08723569 0.08202839 0.40669433\n",
              "  [13] 0.02499801 0.37753971 0.27105422 0.32186107 0.30438051 0.04067224\n",
              "  [19] 0.28748344 0.20511765 0.14778833 0.19202503 0.09008259 0.23840494\n",
              "  [25] 0.51995584 0.59549287 0.76819220 0.28581167 0.45191604 0.19711470\n",
              "  [31] 0.75602196 0.23096779 0.12733683 0.17355019 0.17119307 0.20225427\n",
              "  [37] 0.29310997 0.19927926 0.13639665 0.21968257 0.32967922 0.19939124\n",
              "  [43] 0.33287060 0.47243842 0.05951744 0.16014883 0.36507849 0.17267332\n",
              "  [49] 0.38760095 0.58110900 0.30680357 0.11999579 0.45517298 0.15086963\n",
              "  [55] 0.21078587 0.17556046 0.32305119 0.26891611 0.22274561 0.27194671\n",
              "  [61] 0.16956190 0.40611196 0.34442868 0.11003240 0.15606848 0.10290229\n",
              "  [67] 0.15820118 0.24645654 0.14148674 0.05260501 0.10325129 0.36202240\n",
              "  [73] 0.41270857 0.28179635 0.31565120 0.12211016 0.39772981 0.55577262\n",
              "  [79] 0.59638005 0.25601636 0.14747260 0.05667443 0.33918644 0.12391842\n",
              "  [85] 0.15026701 0.96058911 0.19591129 0.10756416 0.14056238 0.31813953\n",
              "  [91] 0.35073060 0.38913045 0.24975082 0.49378078 0.20084439 0.31456150\n",
              "  [97] 0.22201322 0.25952370 0.42098763 0.34664573 0.17371325 0.22067719\n",
              " [103] 0.08228145 0.26127464 0.24470486 0.34913860 0.47350309 0.34433629\n",
              " [109] 0.31174068 0.18030132 0.28473834 0.32666014 0.17880320 0.30801736\n",
              " [115] 0.78450692 0.39881246 0.27783570 0.30837935 0.12896939 0.30906449\n",
              " [121] 0.89978799 0.48542180 0.12340881 0.47114745 0.12618996 0.48950246\n",
              " [127] 0.22175430 0.22365539 0.17683424 0.14893267 0.19417445 0.09850920\n",
              " [133] 0.10235999 0.14883312 0.20190152 0.16712556 0.15341646 0.18553234\n",
              " [139] 0.13286800 0.35582476 0.16315364 0.30650470 1.53374288 0.22877294\n",
              " [145] 0.22337359 0.33782195 0.42475834 0.11438694 0.31106234 0.26140615\n",
              " [151] 0.15817060 0.47382873 0.55909106 0.44379419 0.28578927 0.14831937\n",
              " [157] 0.19818166 0.40262546 0.08201742 0.14497438 0.33908019 0.37772320\n",
              " [163] 0.25758378 0.19907205 0.23868936 0.20398661 0.67672760 0.13620574\n",
              " [169] 0.34552589 0.28713703 0.58802268 0.31341370 0.58768404 0.82405504\n",
              " [175] 0.57678344 0.17442038 0.14020502 0.46357755 0.10490960 0.36696407\n",
              " [181] 0.23699399 0.31296281 0.16278515 0.09319472 0.34399023 0.17788768\n",
              " [187] 0.31415416 0.15287654 0.34869456 0.14653129 0.16002617 0.33064376\n",
              " [193] 0.71992555 0.17459940 0.32604529 0.15462238 1.00228501 0.24145286\n",
              " [199] 0.24257588 0.35393527 0.49706613 0.14859633 0.09220577 0.16393708\n",
              " [205] 0.25142089 0.19062195 0.29143956 0.27164573 0.18621719 0.38521206\n",
              " [211] 0.24264763 0.15235935 0.23234978 0.16621596 0.97054606 0.17037498\n",
              " [217] 0.82627896 0.20304403 0.38519668 0.17130569 0.19494518 0.57429244\n",
              " [223] 0.40346857 0.24137483 0.38859900 0.53338003 0.17889825 0.13520206\n",
              " [229] 0.18385037 0.16357078 0.18473568 0.31880567 0.25508167 0.16772737\n",
              " [235] 0.23117604 0.26443070 0.39942107 0.27163535 0.12305149 0.16888564\n",
              " [241] 0.33495273 0.40727244 0.32208636 0.14445965 0.27103094 0.08064024\n",
              " [247] 0.17967205 0.20289581 0.22855162 0.17997656 0.19690400 0.28866474\n",
              " [253] 0.57895646 0.28508491 0.39803551 0.23252645 0.32483482 0.13766553\n",
              " [259] 0.15583479 0.15476295 0.13261350 0.04746887 0.40042849 0.15546459\n",
              " [265] 0.45402627 0.13166802 0.33476026 0.09526781 0.20079770 0.10933865\n",
              " [271] 0.20783400 0.48608126 0.50067803 0.20442113 0.12217029 0.63408362\n",
              " [277] 0.80031296 0.09538807 0.19041948 0.07381733 0.19828456 0.11513121\n",
              " [283] 0.15803156 0.12325584 0.05598806 0.09994899 0.24907967 1.13884091\n",
              " [289] 0.09090718 0.07063738 0.26732632 0.10437949 0.20601970 0.17510880\n",
              " [295] 0.19829660 0.32448205 0.27169608 0.12905267 0.10806495 0.37193411\n",
              " [301] 0.56650526 0.21740024 0.12697837 0.27825704 0.39990325 0.27178903\n",
              " [307] 0.12085030 0.10995124 0.12412498 0.11081340 0.16732873 0.25405760\n",
              " [313] 0.48807338 0.23542643 0.17567619 0.21848943 0.26118512 0.18519174\n",
              " [319] 0.38426149 1.17909505 0.17173793 0.15362558 0.12176628 0.41810582\n",
              " [325] 1.94803580 0.44473263 0.29645435 0.34402934 0.16906247 0.34664020\n",
              " [331] 0.24498786 0.20054712 0.23613456 0.26815732 0.31988000 0.26335486\n",
              " [337] 0.27776915 0.14506830 0.17982838 0.14327410 0.05036147 0.11824532\n",
              " [343] 0.21502707 0.38966142 0.58008621 0.35825665 0.12494925 0.33758934\n",
              " [349] 0.29281230 0.39547717 0.71473259 0.28385573 0.27072935 0.26930744\n",
              " [355] 0.21161665 0.21537555 0.07415976 0.32900805 0.24205585 0.42384586\n",
              " [361] 0.21029752 0.57942475 0.35053324 0.24901403 0.47244717 1.13741071\n",
              " [367] 0.29531683 0.14637478 0.21125503 0.37954760 0.11806206 0.55545671\n",
              " [373] 0.21861541 0.40764548 0.21210250 0.63727142 0.16989446 0.52331286\n",
              " [379] 0.23860119 0.35019948 0.16934635 0.09450476 0.35340280 0.32914982\n",
              " [385] 0.14942806 0.21315817 0.09723699 0.29664827 0.25959232 0.52206021\n",
              " [391] 0.56667186 1.31614385 0.41563980 0.48468431 0.10921111 0.13712959\n",
              " [397] 0.27780655 0.15492906 0.49508104 0.22089822 0.16699638 0.25995331\n",
              " [403] 0.14996240 0.22979858 0.36057063 0.60993207 0.12379260 0.83178389\n",
              " [409] 0.37370119 0.45617025 0.31277344 0.15395673 0.27636647 0.40732578\n",
              " [415] 0.43953632 0.15743297 0.25456648 0.32332552 0.43995373 0.26179540\n",
              " [421] 0.17408820 0.12748822 0.66964437 0.35995997 0.20294345 0.35677543\n",
              " [427] 1.00540411 0.19107245 0.21245596 0.17706148 0.12679370 0.17352345\n",
              " [433] 0.37447273 0.49312460 0.29204991 0.20534274 0.38844138 0.22520874\n",
              " [439] 0.33735960 0.16843041 0.16802439 0.27295326 0.38304331 0.27530629\n",
              " [445] 0.41412901 0.38796198 0.23994201 0.19866347 0.45643231 0.51138690\n",
              " [451] 0.64676267 0.16956584 0.11489736 0.30240233 0.39034988 0.46262007\n",
              " [457] 0.18901278 0.22910975 0.15268084 0.41605909 0.20859765 0.22135480\n",
              " [463] 0.19287956 0.35784136 0.18455953 0.31112457 0.21364122 0.17391854\n",
              " [469] 0.17176415 0.25292190 0.20215813 0.57561733 0.15876738 0.29749509\n",
              " [475] 0.22787224 0.30453363 0.22162646 0.34143496 0.36578536 0.20108754\n",
              " [481] 0.22809344 0.51963087 0.40050008 0.92260602 0.32296536 0.19470197\n",
              " [487] 0.17079233 0.14029870 0.11520035 0.24982405 0.20861792 0.24240976\n",
              " [493] 0.48186294 0.17820186 0.15726080 0.83048711 0.22943775 0.21985034\n",
              " [499] 0.30556508 0.22534898 0.08040064 0.06904792 0.19711430 0.15879716\n",
              " [505] 0.43234419 0.16035059 0.26150980 0.15756308 0.06763079 0.15742367\n",
              " [511] 0.36063330 0.18488012 0.16253839 0.43907019 0.57444448 0.13094746\n",
              " [517] 0.23013853 0.13872167 0.20650314 0.16595291 0.32954544 0.58729175\n",
              " [523] 0.56273038 0.08698254 0.12698595 0.28486915 0.14061028 0.91754715\n",
              " [529] 0.09180475 0.26141502 0.16652575 0.37904744 0.07580335 0.42766081\n",
              " [535] 0.22569523 0.22888930 0.14790317 0.11744703 0.26234032 0.37831746\n",
              " [541] 0.15871248 0.20792661 0.48721993 0.04052296 0.37668605 0.53439618\n",
              " [547] 0.16796685 0.79106399 0.21623607 0.25058489 0.24210929 0.46863360\n",
              " [553] 0.45390678 0.22703991 0.20194266 0.39161418 0.79055616 0.11758305\n",
              " [559] 0.08871229 0.25982647 0.20481725 0.73764957 0.22188522 0.12923420\n",
              " [565] 0.40117823 0.29533957 0.08628614 0.23914200 0.27362903 0.17001499\n",
              " [571] 0.11137146 0.19188537 0.27584061 0.15104070 0.15216230 0.19311068\n",
              " [577] 0.23001522 0.09415735 0.16138651 0.21257433 0.09960921 0.47468763\n",
              " [583] 0.22233653 0.19885783 0.35565233 0.22825142 0.06867759 0.28593982\n",
              " [589] 0.30212195 0.12064387 0.53114254 0.33061831 0.20561627 0.44712150\n",
              " [595] 0.27755725 0.24217944 0.23128004 0.17477937 0.21179282 0.16356466\n",
              " [601] 0.22040793 0.15310636 0.53975862 0.15763550 0.52190762 0.64794069\n",
              " [607] 0.36264160 0.76752512 0.03844238 0.08627373 0.17916351 0.16109097\n",
              " [613] 0.22374061 0.13994278 0.19660819 0.21056582 0.21130733 0.33283811\n",
              " [619] 0.38819507 0.25324038 0.10443697 0.14878880 0.10079592 0.11628803\n",
              " [625] 0.27729542 0.15318760 0.19862872 0.59929526 0.27232688 0.17544984\n",
              " [631] 0.59438181 0.31531088 0.24359116 0.29852248 0.18864402 0.76465526\n",
              " [637] 0.17927813 0.30553804 0.16358286 0.26730138 0.30103265 0.19839523\n",
              " [643] 1.35795918 0.10955443 0.40809857 1.33922473 0.28653896 0.36122220\n",
              " [649] 0.13622392 0.41627575 0.06702595 0.39584475 0.32845821 0.53567188\n",
              " [655] 0.10219312 0.36785113 0.16110898 0.37315588 0.72858944 0.13217957\n",
              " [661] 0.15210169 0.44327074 0.21135805 0.30523538 0.19692168 0.44507721\n",
              " [667] 0.28527103 0.35320794 0.34259659 0.91384152 0.22321011 0.09504113\n",
              " [673] 0.50647354 0.22178834 0.24302432 0.19649923 0.20761572 0.33100360\n",
              " [679] 0.09504727 0.18415652 0.39685650 0.21545484 0.07072779 0.16887756\n",
              " [685] 0.33677157 0.75967930 0.36131266 0.54431312 0.10554622 0.24224241\n",
              " [691] 0.09277553 0.14492605 0.18673465 0.38611805 0.25459008 0.24364949\n",
              " [697] 0.27987570 0.16016020 0.37440083 0.31848428 0.35511635 0.24340707\n",
              " [703] 0.24615343 0.49192494 0.37070488 0.11817348 0.46880610 0.15989811\n",
              " [709] 0.62201679 0.35494534 0.41006902 0.23104633 1.32597821 0.25741441\n",
              " [715] 0.15637938 0.50685059 0.20621394 0.55395595 0.37447332 0.11578928\n",
              " [721] 0.60889237 0.19179516 0.13743154 0.12397758 0.50876176 0.29646294\n",
              " [727] 0.35916871 0.04689928 0.25155702 0.46112277 0.41250383 0.35633749\n",
              " [733] 0.38419922 0.18531573 0.27778099 0.35284621 0.11534737 0.58036495\n",
              " [739] 0.25087712 0.08633443 0.52531144 0.18802611 0.12645163 0.29793373\n",
              " [745] 0.35519162 0.14507265 0.07781327 0.22691010 0.41464154 0.28389997\n",
              " [751] 0.22803121 1.01856052 0.26586225 0.17294416 0.44886073 0.33052020\n",
              " [757] 0.60590008 0.31746423 0.17610396 0.15741038 0.46993934 0.14508705\n",
              " [763] 0.23742270 0.35484870 0.18316822 0.25424782 0.22553499 0.15225757\n",
              " [769] 0.41654334 0.26016990 0.37852876 0.17937794 0.10137286 0.15780122\n",
              " [775] 0.25124714 0.87525256 0.28203700 0.13815984 0.27522339 0.37742957\n",
              " [781] 0.07973338 0.29939877 0.12256998 0.39540463 0.24324560 0.29599841\n",
              " [787] 0.14865518 0.25944364 0.40031495 0.36544835 0.22961085 0.26975258\n",
              " [793] 0.10101388 0.29046289 0.33472907 0.28948868 0.28885836 0.19399462\n",
              " [799] 0.12124450 0.16935494 0.33248450 0.28203262 0.58584191 0.19973356\n",
              " [805] 0.67096620 0.28652222 0.51374954 0.24007138 0.92537057 0.18268130\n",
              " [811] 0.12324535 0.12001465 0.09475478 0.19994114 0.70821083 0.06172354\n",
              " [817] 0.21668820 0.20336610 0.33418429 0.13633589 0.28203592 0.28130218\n",
              " [823] 0.21852658 1.48429608 0.16578271 0.21466502 0.50067522 0.29524796\n",
              " [829] 0.42655565 0.28618222 0.33912268 0.53202119 0.19369437 0.38947712\n",
              " [835] 0.37519235 0.21197086 0.43717207 0.17906755 0.29549987 0.32976963\n",
              " [841] 0.27479258 0.24949276 0.41416671 0.32915972 0.35775963 0.13937225\n",
              " [847] 0.24751025 0.16495007 0.19261919 0.20651219 0.06868732 1.05358495\n",
              " [853] 0.66413168 0.68796886 0.06524204 1.37738191 0.26741596 0.34209479\n",
              " [859] 0.52105233 0.82297073 0.24561109 0.37210404 0.84248936 0.16915648\n",
              " [865] 0.07353195 0.79318586 0.37065421 0.29723447 0.23175230 0.28788223\n",
              " [871] 0.31010093 0.15679554 0.15468018 0.18397892 0.14894987 0.19971733\n",
              " [877] 0.31537071 0.48370061 0.24826497 0.43174863 0.23129855 0.25931532\n",
              " [883] 0.20168751 0.58978239 0.37171994 0.27591710 0.23338353 0.16590391\n",
              " [889] 0.24275879 0.25939593 0.09615343 0.48142247 1.32448920 0.39631951\n",
              " [895] 0.20854678 0.19262312 0.15116312 0.20376733 0.31765151 0.34452223\n",
              " [901] 0.45639359 0.36182947 0.05484115 0.11384116 0.18215532 0.23487989\n",
              " [907] 0.19477793 0.38570849 0.18579746 0.40262800 0.08574093 0.28986509\n",
              " [913] 0.21408860 0.10483231 0.18602010 0.08153295 0.33180415 0.07167812\n",
              " [919] 0.24985083 0.37430775 0.33589257 0.30343314 0.39610906 0.30740968\n",
              " [925] 0.53745123 0.27163780 0.29697296 0.23450583 0.29307826 0.07257600\n",
              " [931] 0.37119785 0.19603067 0.21934342 0.18378187 0.24157711 0.96834573\n",
              " [937] 0.19037796 0.13926453 0.50770275 0.34097705 0.22371162 0.08323594\n",
              " [943] 0.24975524 0.06936429 0.46032692 0.54373186 0.09547793 0.36128474\n",
              " [949] 0.35828298 0.32063503 0.61186179 0.38192769 0.32474768 0.14436659\n",
              " [955] 0.25494148 0.94414805 0.17000885 0.32219669 0.22490785 0.13729681\n",
              " [961] 0.12454849 0.21156963 0.35780239 0.11433533 0.32175005 0.23880057\n",
              " [967] 0.14166374 0.19132764 0.29668299 0.17823993 0.17351679 0.34547367\n",
              " [973] 0.30840975 0.15022171 0.11695969 0.32713873 0.24717091 0.16885506\n",
              " [979] 0.28014428 0.41713638 0.32977940 0.16914757 0.46987301 0.42114879\n",
              " [985] 0.09821804 0.19697227 0.22313830 0.21374484 0.19255198 0.20683492\n",
              " [991] 1.06819103 0.20737533 0.07135731 0.38143474 0.28580862 0.21919992\n",
              " [997] 0.15710026 0.07554966 0.47570487 0.30611453"
            ],
            "text/latex": "\\begin{enumerate*}\n\\item 0.293692202917442\n\\item 0.312445404212747\n\\item 0.183049719393393\n\\item 0.206571902236445\n\\item 0.317446244432424\n\\item 0.297432119950502\n\\item 0.304866195412669\n\\item 0.410416974127025\n\\item 0.571916848488484\n\\item 0.0872356944470933\n\\item 0.0820283925987418\n\\item 0.40669432765848\n\\item 0.024998005053737\n\\item 0.37753970658495\n\\item 0.271054222980692\n\\item 0.321861065692818\n\\item 0.304380506975507\n\\item 0.0406722390990874\n\\item 0.287483440953272\n\\item 0.205117649987351\n\\item 0.147788325836876\n\\item 0.192025034536298\n\\item 0.0900825942320897\n\\item 0.238404940455791\n\\item 0.519955844781074\n\\item 0.595492869786589\n\\item 0.768192200371051\n\\item 0.285811667178464\n\\item 0.451916038043481\n\\item 0.197114700948458\n\\item 0.756021958458604\n\\item 0.230967785203911\n\\item 0.127336833357765\n\\item 0.173550185862524\n\\item 0.171193067401253\n\\item 0.202254268067656\n\\item 0.293109974047285\n\\item 0.199279260748997\n\\item 0.136396654177867\n\\item 0.219682570178352\n\\item 0.329679217928959\n\\item 0.199391240604997\n\\item 0.332870600496149\n\\item 0.472438423542776\n\\item 0.0595174427619052\n\\item 0.160148828128453\n\\item 0.365078488901017\n\\item 0.17267332329865\n\\item 0.387600945805843\n\\item 0.581108998315218\n\\item 0.306803565659826\n\\item 0.119995791152839\n\\item 0.455172984385332\n\\item 0.150869634913446\n\\item 0.210785871299723\n\\item 0.175560463192172\n\\item 0.323051190743304\n\\item 0.268916111950673\n\\item 0.222745605148377\n\\item 0.27194671110394\n\\item 0.169561900790193\n\\item 0.406111957782888\n\\item 0.344428684805602\n\\item 0.110032402528755\n\\item 0.156068482875307\n\\item 0.102902285719269\n\\item 0.158201183855663\n\\item 0.246456541244597\n\\item 0.141486740237086\n\\item 0.052605007958685\n\\item 0.103251291935017\n\\item 0.362022397119639\n\\item 0.412708566095879\n\\item 0.281796345324066\n\\item 0.315651200984436\n\\item 0.122110163654246\n\\item 0.397729812453442\n\\item 0.555772622126096\n\\item 0.596380045150182\n\\item 0.256016363747027\n\\item 0.147472600565608\n\\item 0.0566744308426062\n\\item 0.339186443237835\n\\item 0.1239184162191\n\\item 0.15026701036932\n\\item 0.960589107999314\n\\item 0.195911288894574\n\\item 0.107564162133971\n\\item 0.140562384132159\n\\item 0.318139534870053\n\\item 0.350730601376612\n\\item 0.38913045392216\n\\item 0.249750820712032\n\\item 0.493780775176174\n\\item 0.20084439123776\n\\item 0.314561500443607\n\\item 0.222013215304855\n\\item 0.259523700927134\n\\item 0.420987626390214\n\\item 0.346645728535994\n\\item 0.173713250088748\n\\item 0.220677189011461\n\\item 0.0822814494418393\n\\item 0.261274635379932\n\\item 0.244704862279032\n\\item 0.349138596973919\n\\item 0.473503090415381\n\\item 0.344336293296248\n\\item 0.311740682300209\n\\item 0.180301323390179\n\\item 0.284738343597972\n\\item 0.326660138129703\n\\item 0.178803201510068\n\\item 0.308017362514274\n\\item 0.784506922787545\n\\item 0.398812456540248\n\\item 0.277835697213299\n\\item 0.308379351840662\n\\item 0.128969389267376\n\\item 0.309064487265468\n\\item 0.899787986918585\n\\item 0.485421799019505\n\\item 0.123408812249842\n\\item 0.471147452614005\n\\item 0.126189958531771\n\\item 0.489502463213074\n\\item 0.221754300039481\n\\item 0.223655391501263\n\\item 0.176834243637934\n\\item 0.148932674120445\n\\item 0.194174450833951\n\\item 0.0985091976056889\n\\item 0.10235999020125\n\\item 0.14883312176926\n\\item 0.20190152302711\n\\item 0.167125563868158\n\\item 0.153416464397567\n\\item 0.185532344496182\n\\item 0.13286799798296\n\\item 0.355824762605017\n\\item 0.163153635979506\n\\item 0.306504703666463\n\\item 1.53374288277477\n\\item 0.228772940502149\n\\item 0.223373588215646\n\\item 0.337821952458565\n\\item 0.42475833737197\n\\item 0.114386944897571\n\\item 0.311062337661735\n\\item 0.261406145472743\n\\item 0.158170604090172\n\\item 0.47382873462351\n\\item 0.559091055293918\n\\item 0.443794188518732\n\\item 0.285789269058369\n\\item 0.148319372923207\n\\item 0.19818166486564\n\\item 0.402625464216228\n\\item 0.0820174175160376\n\\item 0.144974383731231\n\\item 0.339080192973088\n\\item 0.377723196580512\n\\item 0.257583777669033\n\\item 0.199072051179759\n\\item 0.238689355527744\n\\item 0.203986608018557\n\\item 0.676727599914163\n\\item 0.136205735548287\n\\item 0.345525893518368\n\\item 0.287137032178453\n\\item 0.588022683498406\n\\item 0.313413704943242\n\\item 0.587684042356662\n\\item 0.824055040035707\n\\item 0.576783438554136\n\\item 0.174420378249408\n\\item 0.140205024176204\n\\item 0.463577554566296\n\\item 0.104909596289695\n\\item 0.366964070591273\n\\item 0.236993988082152\n\\item 0.31296280876847\n\\item 0.162785145598936\n\\item 0.0931947217729275\n\\item 0.343990230841299\n\\item 0.17788768050163\n\\item 0.314154156745803\n\\item 0.152876535015461\n\\item 0.348694556106415\n\\item 0.146531285426242\n\\item 0.160026170027489\n\\item 0.330643757830463\n\\item 0.719925545523054\n\\item 0.174599400801521\n\\item 0.326045291681488\n\\item 0.154622378786459\n\\item 1.00228500799436\n\\item 0.241452858022707\n\\item 0.242575883728508\n\\item 0.353935265118143\n\\item ⋯\n\\item 0.332484502449237\n\\item 0.282032620295803\n\\item 0.585841908102917\n\\item 0.199733557693535\n\\item 0.670966201837817\n\\item 0.286522218275622\n\\item 0.513749541193307\n\\item 0.240071378065462\n\\item 0.925370565010715\n\\item 0.18268129882097\n\\item 0.123245354921257\n\\item 0.120014651562493\n\\item 0.0947547841479082\n\\item 0.199941144383374\n\\item 0.708210832600658\n\\item 0.0617235367283014\n\\item 0.216688203126635\n\\item 0.203366102648032\n\\item 0.334184293974024\n\\item 0.136335889275959\n\\item 0.282035919391484\n\\item 0.281302184379479\n\\item 0.21852657907983\n\\item 1.48429608010742\n\\item 0.165782709722697\n\\item 0.214665019541882\n\\item 0.500675224792147\n\\item 0.295247956529621\n\\item 0.426555645131539\n\\item 0.28618221526503\n\\item 0.339122678850761\n\\item 0.532021189662592\n\\item 0.193694365988232\n\\item 0.389477122063671\n\\item 0.375192350846424\n\\item 0.21197086349052\n\\item 0.437172073274262\n\\item 0.179067550067937\n\\item 0.295499868161279\n\\item 0.329769633797469\n\\item 0.274792576300743\n\\item 0.249492757739077\n\\item 0.414166713134538\n\\item 0.329159715539812\n\\item 0.357759633118267\n\\item 0.139372245059469\n\\item 0.247510247530742\n\\item 0.164950071769965\n\\item 0.1926191873765\n\\item 0.206512191098371\n\\item 0.0686873230437513\n\\item 1.05358495333421\n\\item 0.664131684040648\n\\item 0.687968856042675\n\\item 0.065242040727203\n\\item 1.37738191018985\n\\item 0.267415960044148\n\\item 0.342094787673923\n\\item 0.52105232985269\n\\item 0.822970733823506\n\\item 0.245611087542209\n\\item 0.37210403769824\n\\item 0.842489360176287\n\\item 0.169156477923795\n\\item 0.0735319489043144\n\\item 0.793185864815219\n\\item 0.370654209040695\n\\item 0.297234470231275\n\\item 0.231752304811265\n\\item 0.287882228629463\n\\item 0.310100926783926\n\\item 0.156795536302324\n\\item 0.154680182967685\n\\item 0.183978916162514\n\\item 0.148949866005311\n\\item 0.199717331256579\n\\item 0.315370706329736\n\\item 0.483700605259769\n\\item 0.248264974267918\n\\item 0.431748626952073\n\\item 0.231298547666575\n\\item 0.259315320631563\n\\item 0.201687510628654\n\\item 0.589782391728508\n\\item 0.371719935310174\n\\item 0.275917098709468\n\\item 0.23338352995213\n\\item 0.165903912818033\n\\item 0.242758786959401\n\\item 0.259395925069992\n\\item 0.0961534314914619\n\\item 0.481422468801484\n\\item 1.3244891993357\n\\item 0.396319513163306\n\\item 0.208546775922293\n\\item 0.192623120345577\n\\item 0.151163120945553\n\\item 0.203767328016539\n\\item 0.31765151355954\n\\item 0.34452222695592\n\\item 0.456393591857127\n\\item 0.361829466409592\n\\item 0.0548411523280342\n\\item 0.113841162831889\n\\item 0.182155320628669\n\\item 0.23487988926027\n\\item 0.194777929891753\n\\item 0.385708489766127\n\\item 0.18579745884049\n\\item 0.402627999862052\n\\item 0.0857409315608169\n\\item 0.289865090214253\n\\item 0.214088599961169\n\\item 0.104832313758687\n\\item 0.186020104660311\n\\item 0.0815329475529168\n\\item 0.331804153326426\n\\item 0.0716781233222522\n\\item 0.249850828340132\n\\item 0.374307752749882\n\\item 0.335892571969819\n\\item 0.303433139664518\n\\item 0.396109061774132\n\\item 0.307409683918166\n\\item 0.537451228139741\n\\item 0.271637799045438\n\\item 0.296972963905667\n\\item 0.234505825002813\n\\item 0.293078260991269\n\\item 0.072576002040964\n\\item 0.371197845999946\n\\item 0.19603066961979\n\\item 0.219343422952836\n\\item 0.183781871693955\n\\item 0.241577112974132\n\\item 0.968345733490325\n\\item 0.190377964129912\n\\item 0.139264525285515\n\\item 0.507702749188604\n\\item 0.340977050675824\n\\item 0.223711620917608\n\\item 0.0832359401115288\n\\item 0.249755240862429\n\\item 0.0693642921249831\n\\item 0.460326923796918\n\\item 0.543731861792802\n\\item 0.0954779322300011\n\\item 0.361284744492369\n\\item 0.358282977626508\n\\item 0.320635030805113\n\\item 0.611861786370637\n\\item 0.381927687925673\n\\item 0.324747676304106\n\\item 0.144366585813108\n\\item 0.254941478961186\n\\item 0.94414805199198\n\\item 0.170008854811301\n\\item 0.3221966946344\n\\item 0.224907849382067\n\\item 0.137296807197642\n\\item 0.124548494669078\n\\item 0.211569629432015\n\\item 0.357802385486272\n\\item 0.114335334504474\n\\item 0.321750052956613\n\\item 0.238800567244406\n\\item 0.141663738058356\n\\item 0.191327638234347\n\\item 0.296682986242189\n\\item 0.178239928157888\n\\item 0.173516794988026\n\\item 0.345473674357396\n\\item 0.308409751644896\n\\item 0.150221706155436\n\\item 0.116959694106916\n\\item 0.327138733657323\n\\item 0.247170912273775\n\\item 0.168855064869994\n\\item 0.280144277084\n\\item 0.417136382758585\n\\item 0.329779402848202\n\\item 0.169147573470377\n\\item 0.469873012934612\n\\item 0.421148787394173\n\\item 0.0982180379712234\n\\item 0.196972267278078\n\\item 0.223138301227998\n\\item 0.213744835924365\n\\item 0.192551975623034\n\\item 0.206834923078567\n\\item 1.06819102516482\n\\item 0.207375325339307\n\\item 0.0713573095438255\n\\item 0.381434740016778\n\\item 0.285808623891349\n\\item 0.219199921452237\n\\item 0.157100264266699\n\\item 0.0755496604625061\n\\item 0.475704872218322\n\\item 0.306114530009467\n\\end{enumerate*}\n",
            "text/markdown": "1. 0.293692202917442\n2. 0.312445404212747\n3. 0.183049719393393\n4. 0.206571902236445\n5. 0.317446244432424\n6. 0.297432119950502\n7. 0.304866195412669\n8. 0.410416974127025\n9. 0.571916848488484\n10. 0.0872356944470933\n11. 0.0820283925987418\n12. 0.40669432765848\n13. 0.024998005053737\n14. 0.37753970658495\n15. 0.271054222980692\n16. 0.321861065692818\n17. 0.304380506975507\n18. 0.0406722390990874\n19. 0.287483440953272\n20. 0.205117649987351\n21. 0.147788325836876\n22. 0.192025034536298\n23. 0.0900825942320897\n24. 0.238404940455791\n25. 0.519955844781074\n26. 0.595492869786589\n27. 0.768192200371051\n28. 0.285811667178464\n29. 0.451916038043481\n30. 0.197114700948458\n31. 0.756021958458604\n32. 0.230967785203911\n33. 0.127336833357765\n34. 0.173550185862524\n35. 0.171193067401253\n36. 0.202254268067656\n37. 0.293109974047285\n38. 0.199279260748997\n39. 0.136396654177867\n40. 0.219682570178352\n41. 0.329679217928959\n42. 0.199391240604997\n43. 0.332870600496149\n44. 0.472438423542776\n45. 0.0595174427619052\n46. 0.160148828128453\n47. 0.365078488901017\n48. 0.17267332329865\n49. 0.387600945805843\n50. 0.581108998315218\n51. 0.306803565659826\n52. 0.119995791152839\n53. 0.455172984385332\n54. 0.150869634913446\n55. 0.210785871299723\n56. 0.175560463192172\n57. 0.323051190743304\n58. 0.268916111950673\n59. 0.222745605148377\n60. 0.27194671110394\n61. 0.169561900790193\n62. 0.406111957782888\n63. 0.344428684805602\n64. 0.110032402528755\n65. 0.156068482875307\n66. 0.102902285719269\n67. 0.158201183855663\n68. 0.246456541244597\n69. 0.141486740237086\n70. 0.052605007958685\n71. 0.103251291935017\n72. 0.362022397119639\n73. 0.412708566095879\n74. 0.281796345324066\n75. 0.315651200984436\n76. 0.122110163654246\n77. 0.397729812453442\n78. 0.555772622126096\n79. 0.596380045150182\n80. 0.256016363747027\n81. 0.147472600565608\n82. 0.0566744308426062\n83. 0.339186443237835\n84. 0.1239184162191\n85. 0.15026701036932\n86. 0.960589107999314\n87. 0.195911288894574\n88. 0.107564162133971\n89. 0.140562384132159\n90. 0.318139534870053\n91. 0.350730601376612\n92. 0.38913045392216\n93. 0.249750820712032\n94. 0.493780775176174\n95. 0.20084439123776\n96. 0.314561500443607\n97. 0.222013215304855\n98. 0.259523700927134\n99. 0.420987626390214\n100. 0.346645728535994\n101. 0.173713250088748\n102. 0.220677189011461\n103. 0.0822814494418393\n104. 0.261274635379932\n105. 0.244704862279032\n106. 0.349138596973919\n107. 0.473503090415381\n108. 0.344336293296248\n109. 0.311740682300209\n110. 0.180301323390179\n111. 0.284738343597972\n112. 0.326660138129703\n113. 0.178803201510068\n114. 0.308017362514274\n115. 0.784506922787545\n116. 0.398812456540248\n117. 0.277835697213299\n118. 0.308379351840662\n119. 0.128969389267376\n120. 0.309064487265468\n121. 0.899787986918585\n122. 0.485421799019505\n123. 0.123408812249842\n124. 0.471147452614005\n125. 0.126189958531771\n126. 0.489502463213074\n127. 0.221754300039481\n128. 0.223655391501263\n129. 0.176834243637934\n130. 0.148932674120445\n131. 0.194174450833951\n132. 0.0985091976056889\n133. 0.10235999020125\n134. 0.14883312176926\n135. 0.20190152302711\n136. 0.167125563868158\n137. 0.153416464397567\n138. 0.185532344496182\n139. 0.13286799798296\n140. 0.355824762605017\n141. 0.163153635979506\n142. 0.306504703666463\n143. 1.53374288277477\n144. 0.228772940502149\n145. 0.223373588215646\n146. 0.337821952458565\n147. 0.42475833737197\n148. 0.114386944897571\n149. 0.311062337661735\n150. 0.261406145472743\n151. 0.158170604090172\n152. 0.47382873462351\n153. 0.559091055293918\n154. 0.443794188518732\n155. 0.285789269058369\n156. 0.148319372923207\n157. 0.19818166486564\n158. 0.402625464216228\n159. 0.0820174175160376\n160. 0.144974383731231\n161. 0.339080192973088\n162. 0.377723196580512\n163. 0.257583777669033\n164. 0.199072051179759\n165. 0.238689355527744\n166. 0.203986608018557\n167. 0.676727599914163\n168. 0.136205735548287\n169. 0.345525893518368\n170. 0.287137032178453\n171. 0.588022683498406\n172. 0.313413704943242\n173. 0.587684042356662\n174. 0.824055040035707\n175. 0.576783438554136\n176. 0.174420378249408\n177. 0.140205024176204\n178. 0.463577554566296\n179. 0.104909596289695\n180. 0.366964070591273\n181. 0.236993988082152\n182. 0.31296280876847\n183. 0.162785145598936\n184. 0.0931947217729275\n185. 0.343990230841299\n186. 0.17788768050163\n187. 0.314154156745803\n188. 0.152876535015461\n189. 0.348694556106415\n190. 0.146531285426242\n191. 0.160026170027489\n192. 0.330643757830463\n193. 0.719925545523054\n194. 0.174599400801521\n195. 0.326045291681488\n196. 0.154622378786459\n197. 1.00228500799436\n198. 0.241452858022707\n199. 0.242575883728508\n200. 0.353935265118143\n201. ⋯\n202. 0.332484502449237\n203. 0.282032620295803\n204. 0.585841908102917\n205. 0.199733557693535\n206. 0.670966201837817\n207. 0.286522218275622\n208. 0.513749541193307\n209. 0.240071378065462\n210. 0.925370565010715\n211. 0.18268129882097\n212. 0.123245354921257\n213. 0.120014651562493\n214. 0.0947547841479082\n215. 0.199941144383374\n216. 0.708210832600658\n217. 0.0617235367283014\n218. 0.216688203126635\n219. 0.203366102648032\n220. 0.334184293974024\n221. 0.136335889275959\n222. 0.282035919391484\n223. 0.281302184379479\n224. 0.21852657907983\n225. 1.48429608010742\n226. 0.165782709722697\n227. 0.214665019541882\n228. 0.500675224792147\n229. 0.295247956529621\n230. 0.426555645131539\n231. 0.28618221526503\n232. 0.339122678850761\n233. 0.532021189662592\n234. 0.193694365988232\n235. 0.389477122063671\n236. 0.375192350846424\n237. 0.21197086349052\n238. 0.437172073274262\n239. 0.179067550067937\n240. 0.295499868161279\n241. 0.329769633797469\n242. 0.274792576300743\n243. 0.249492757739077\n244. 0.414166713134538\n245. 0.329159715539812\n246. 0.357759633118267\n247. 0.139372245059469\n248. 0.247510247530742\n249. 0.164950071769965\n250. 0.1926191873765\n251. 0.206512191098371\n252. 0.0686873230437513\n253. 1.05358495333421\n254. 0.664131684040648\n255. 0.687968856042675\n256. 0.065242040727203\n257. 1.37738191018985\n258. 0.267415960044148\n259. 0.342094787673923\n260. 0.52105232985269\n261. 0.822970733823506\n262. 0.245611087542209\n263. 0.37210403769824\n264. 0.842489360176287\n265. 0.169156477923795\n266. 0.0735319489043144\n267. 0.793185864815219\n268. 0.370654209040695\n269. 0.297234470231275\n270. 0.231752304811265\n271. 0.287882228629463\n272. 0.310100926783926\n273. 0.156795536302324\n274. 0.154680182967685\n275. 0.183978916162514\n276. 0.148949866005311\n277. 0.199717331256579\n278. 0.315370706329736\n279. 0.483700605259769\n280. 0.248264974267918\n281. 0.431748626952073\n282. 0.231298547666575\n283. 0.259315320631563\n284. 0.201687510628654\n285. 0.589782391728508\n286. 0.371719935310174\n287. 0.275917098709468\n288. 0.23338352995213\n289. 0.165903912818033\n290. 0.242758786959401\n291. 0.259395925069992\n292. 0.0961534314914619\n293. 0.481422468801484\n294. 1.3244891993357\n295. 0.396319513163306\n296. 0.208546775922293\n297. 0.192623120345577\n298. 0.151163120945553\n299. 0.203767328016539\n300. 0.31765151355954\n301. 0.34452222695592\n302. 0.456393591857127\n303. 0.361829466409592\n304. 0.0548411523280342\n305. 0.113841162831889\n306. 0.182155320628669\n307. 0.23487988926027\n308. 0.194777929891753\n309. 0.385708489766127\n310. 0.18579745884049\n311. 0.402627999862052\n312. 0.0857409315608169\n313. 0.289865090214253\n314. 0.214088599961169\n315. 0.104832313758687\n316. 0.186020104660311\n317. 0.0815329475529168\n318. 0.331804153326426\n319. 0.0716781233222522\n320. 0.249850828340132\n321. 0.374307752749882\n322. 0.335892571969819\n323. 0.303433139664518\n324. 0.396109061774132\n325. 0.307409683918166\n326. 0.537451228139741\n327. 0.271637799045438\n328. 0.296972963905667\n329. 0.234505825002813\n330. 0.293078260991269\n331. 0.072576002040964\n332. 0.371197845999946\n333. 0.19603066961979\n334. 0.219343422952836\n335. 0.183781871693955\n336. 0.241577112974132\n337. 0.968345733490325\n338. 0.190377964129912\n339. 0.139264525285515\n340. 0.507702749188604\n341. 0.340977050675824\n342. 0.223711620917608\n343. 0.0832359401115288\n344. 0.249755240862429\n345. 0.0693642921249831\n346. 0.460326923796918\n347. 0.543731861792802\n348. 0.0954779322300011\n349. 0.361284744492369\n350. 0.358282977626508\n351. 0.320635030805113\n352. 0.611861786370637\n353. 0.381927687925673\n354. 0.324747676304106\n355. 0.144366585813108\n356. 0.254941478961186\n357. 0.94414805199198\n358. 0.170008854811301\n359. 0.3221966946344\n360. 0.224907849382067\n361. 0.137296807197642\n362. 0.124548494669078\n363. 0.211569629432015\n364. 0.357802385486272\n365. 0.114335334504474\n366. 0.321750052956613\n367. 0.238800567244406\n368. 0.141663738058356\n369. 0.191327638234347\n370. 0.296682986242189\n371. 0.178239928157888\n372. 0.173516794988026\n373. 0.345473674357396\n374. 0.308409751644896\n375. 0.150221706155436\n376. 0.116959694106916\n377. 0.327138733657323\n378. 0.247170912273775\n379. 0.168855064869994\n380. 0.280144277084\n381. 0.417136382758585\n382. 0.329779402848202\n383. 0.169147573470377\n384. 0.469873012934612\n385. 0.421148787394173\n386. 0.0982180379712234\n387. 0.196972267278078\n388. 0.223138301227998\n389. 0.213744835924365\n390. 0.192551975623034\n391. 0.206834923078567\n392. 1.06819102516482\n393. 0.207375325339307\n394. 0.0713573095438255\n395. 0.381434740016778\n396. 0.285808623891349\n397. 0.219199921452237\n398. 0.157100264266699\n399. 0.0755496604625061\n400. 0.475704872218322\n401. 0.306114530009467\n\n\n",
            "text/html": [
              "<style>\n",
              ".list-inline {list-style: none; margin:0; padding: 0}\n",
              ".list-inline>li {display: inline-block}\n",
              ".list-inline>li:not(:last-child)::after {content: \"\\00b7\"; padding: 0 .5ex}\n",
              "</style>\n",
              "<ol class=list-inline><li>0.293692202917442</li><li>0.312445404212747</li><li>0.183049719393393</li><li>0.206571902236445</li><li>0.317446244432424</li><li>0.297432119950502</li><li>0.304866195412669</li><li>0.410416974127025</li><li>0.571916848488484</li><li>0.0872356944470933</li><li>0.0820283925987418</li><li>0.40669432765848</li><li>0.024998005053737</li><li>0.37753970658495</li><li>0.271054222980692</li><li>0.321861065692818</li><li>0.304380506975507</li><li>0.0406722390990874</li><li>0.287483440953272</li><li>0.205117649987351</li><li>0.147788325836876</li><li>0.192025034536298</li><li>0.0900825942320897</li><li>0.238404940455791</li><li>0.519955844781074</li><li>0.595492869786589</li><li>0.768192200371051</li><li>0.285811667178464</li><li>0.451916038043481</li><li>0.197114700948458</li><li>0.756021958458604</li><li>0.230967785203911</li><li>0.127336833357765</li><li>0.173550185862524</li><li>0.171193067401253</li><li>0.202254268067656</li><li>0.293109974047285</li><li>0.199279260748997</li><li>0.136396654177867</li><li>0.219682570178352</li><li>0.329679217928959</li><li>0.199391240604997</li><li>0.332870600496149</li><li>0.472438423542776</li><li>0.0595174427619052</li><li>0.160148828128453</li><li>0.365078488901017</li><li>0.17267332329865</li><li>0.387600945805843</li><li>0.581108998315218</li><li>0.306803565659826</li><li>0.119995791152839</li><li>0.455172984385332</li><li>0.150869634913446</li><li>0.210785871299723</li><li>0.175560463192172</li><li>0.323051190743304</li><li>0.268916111950673</li><li>0.222745605148377</li><li>0.27194671110394</li><li>0.169561900790193</li><li>0.406111957782888</li><li>0.344428684805602</li><li>0.110032402528755</li><li>0.156068482875307</li><li>0.102902285719269</li><li>0.158201183855663</li><li>0.246456541244597</li><li>0.141486740237086</li><li>0.052605007958685</li><li>0.103251291935017</li><li>0.362022397119639</li><li>0.412708566095879</li><li>0.281796345324066</li><li>0.315651200984436</li><li>0.122110163654246</li><li>0.397729812453442</li><li>0.555772622126096</li><li>0.596380045150182</li><li>0.256016363747027</li><li>0.147472600565608</li><li>0.0566744308426062</li><li>0.339186443237835</li><li>0.1239184162191</li><li>0.15026701036932</li><li>0.960589107999314</li><li>0.195911288894574</li><li>0.107564162133971</li><li>0.140562384132159</li><li>0.318139534870053</li><li>0.350730601376612</li><li>0.38913045392216</li><li>0.249750820712032</li><li>0.493780775176174</li><li>0.20084439123776</li><li>0.314561500443607</li><li>0.222013215304855</li><li>0.259523700927134</li><li>0.420987626390214</li><li>0.346645728535994</li><li>0.173713250088748</li><li>0.220677189011461</li><li>0.0822814494418393</li><li>0.261274635379932</li><li>0.244704862279032</li><li>0.349138596973919</li><li>0.473503090415381</li><li>0.344336293296248</li><li>0.311740682300209</li><li>0.180301323390179</li><li>0.284738343597972</li><li>0.326660138129703</li><li>0.178803201510068</li><li>0.308017362514274</li><li>0.784506922787545</li><li>0.398812456540248</li><li>0.277835697213299</li><li>0.308379351840662</li><li>0.128969389267376</li><li>0.309064487265468</li><li>0.899787986918585</li><li>0.485421799019505</li><li>0.123408812249842</li><li>0.471147452614005</li><li>0.126189958531771</li><li>0.489502463213074</li><li>0.221754300039481</li><li>0.223655391501263</li><li>0.176834243637934</li><li>0.148932674120445</li><li>0.194174450833951</li><li>0.0985091976056889</li><li>0.10235999020125</li><li>0.14883312176926</li><li>0.20190152302711</li><li>0.167125563868158</li><li>0.153416464397567</li><li>0.185532344496182</li><li>0.13286799798296</li><li>0.355824762605017</li><li>0.163153635979506</li><li>0.306504703666463</li><li>1.53374288277477</li><li>0.228772940502149</li><li>0.223373588215646</li><li>0.337821952458565</li><li>0.42475833737197</li><li>0.114386944897571</li><li>0.311062337661735</li><li>0.261406145472743</li><li>0.158170604090172</li><li>0.47382873462351</li><li>0.559091055293918</li><li>0.443794188518732</li><li>0.285789269058369</li><li>0.148319372923207</li><li>0.19818166486564</li><li>0.402625464216228</li><li>0.0820174175160376</li><li>0.144974383731231</li><li>0.339080192973088</li><li>0.377723196580512</li><li>0.257583777669033</li><li>0.199072051179759</li><li>0.238689355527744</li><li>0.203986608018557</li><li>0.676727599914163</li><li>0.136205735548287</li><li>0.345525893518368</li><li>0.287137032178453</li><li>0.588022683498406</li><li>0.313413704943242</li><li>0.587684042356662</li><li>0.824055040035707</li><li>0.576783438554136</li><li>0.174420378249408</li><li>0.140205024176204</li><li>0.463577554566296</li><li>0.104909596289695</li><li>0.366964070591273</li><li>0.236993988082152</li><li>0.31296280876847</li><li>0.162785145598936</li><li>0.0931947217729275</li><li>0.343990230841299</li><li>0.17788768050163</li><li>0.314154156745803</li><li>0.152876535015461</li><li>0.348694556106415</li><li>0.146531285426242</li><li>0.160026170027489</li><li>0.330643757830463</li><li>0.719925545523054</li><li>0.174599400801521</li><li>0.326045291681488</li><li>0.154622378786459</li><li>1.00228500799436</li><li>0.241452858022707</li><li>0.242575883728508</li><li>0.353935265118143</li><li>⋯</li><li>0.332484502449237</li><li>0.282032620295803</li><li>0.585841908102917</li><li>0.199733557693535</li><li>0.670966201837817</li><li>0.286522218275622</li><li>0.513749541193307</li><li>0.240071378065462</li><li>0.925370565010715</li><li>0.18268129882097</li><li>0.123245354921257</li><li>0.120014651562493</li><li>0.0947547841479082</li><li>0.199941144383374</li><li>0.708210832600658</li><li>0.0617235367283014</li><li>0.216688203126635</li><li>0.203366102648032</li><li>0.334184293974024</li><li>0.136335889275959</li><li>0.282035919391484</li><li>0.281302184379479</li><li>0.21852657907983</li><li>1.48429608010742</li><li>0.165782709722697</li><li>0.214665019541882</li><li>0.500675224792147</li><li>0.295247956529621</li><li>0.426555645131539</li><li>0.28618221526503</li><li>0.339122678850761</li><li>0.532021189662592</li><li>0.193694365988232</li><li>0.389477122063671</li><li>0.375192350846424</li><li>0.21197086349052</li><li>0.437172073274262</li><li>0.179067550067937</li><li>0.295499868161279</li><li>0.329769633797469</li><li>0.274792576300743</li><li>0.249492757739077</li><li>0.414166713134538</li><li>0.329159715539812</li><li>0.357759633118267</li><li>0.139372245059469</li><li>0.247510247530742</li><li>0.164950071769965</li><li>0.1926191873765</li><li>0.206512191098371</li><li>0.0686873230437513</li><li>1.05358495333421</li><li>0.664131684040648</li><li>0.687968856042675</li><li>0.065242040727203</li><li>1.37738191018985</li><li>0.267415960044148</li><li>0.342094787673923</li><li>0.52105232985269</li><li>0.822970733823506</li><li>0.245611087542209</li><li>0.37210403769824</li><li>0.842489360176287</li><li>0.169156477923795</li><li>0.0735319489043144</li><li>0.793185864815219</li><li>0.370654209040695</li><li>0.297234470231275</li><li>0.231752304811265</li><li>0.287882228629463</li><li>0.310100926783926</li><li>0.156795536302324</li><li>0.154680182967685</li><li>0.183978916162514</li><li>0.148949866005311</li><li>0.199717331256579</li><li>0.315370706329736</li><li>0.483700605259769</li><li>0.248264974267918</li><li>0.431748626952073</li><li>0.231298547666575</li><li>0.259315320631563</li><li>0.201687510628654</li><li>0.589782391728508</li><li>0.371719935310174</li><li>0.275917098709468</li><li>0.23338352995213</li><li>0.165903912818033</li><li>0.242758786959401</li><li>0.259395925069992</li><li>0.0961534314914619</li><li>0.481422468801484</li><li>1.3244891993357</li><li>0.396319513163306</li><li>0.208546775922293</li><li>0.192623120345577</li><li>0.151163120945553</li><li>0.203767328016539</li><li>0.31765151355954</li><li>0.34452222695592</li><li>0.456393591857127</li><li>0.361829466409592</li><li>0.0548411523280342</li><li>0.113841162831889</li><li>0.182155320628669</li><li>0.23487988926027</li><li>0.194777929891753</li><li>0.385708489766127</li><li>0.18579745884049</li><li>0.402627999862052</li><li>0.0857409315608169</li><li>0.289865090214253</li><li>0.214088599961169</li><li>0.104832313758687</li><li>0.186020104660311</li><li>0.0815329475529168</li><li>0.331804153326426</li><li>0.0716781233222522</li><li>0.249850828340132</li><li>0.374307752749882</li><li>0.335892571969819</li><li>0.303433139664518</li><li>0.396109061774132</li><li>0.307409683918166</li><li>0.537451228139741</li><li>0.271637799045438</li><li>0.296972963905667</li><li>0.234505825002813</li><li>0.293078260991269</li><li>0.072576002040964</li><li>0.371197845999946</li><li>0.19603066961979</li><li>0.219343422952836</li><li>0.183781871693955</li><li>0.241577112974132</li><li>0.968345733490325</li><li>0.190377964129912</li><li>0.139264525285515</li><li>0.507702749188604</li><li>0.340977050675824</li><li>0.223711620917608</li><li>0.0832359401115288</li><li>0.249755240862429</li><li>0.0693642921249831</li><li>0.460326923796918</li><li>0.543731861792802</li><li>0.0954779322300011</li><li>0.361284744492369</li><li>0.358282977626508</li><li>0.320635030805113</li><li>0.611861786370637</li><li>0.381927687925673</li><li>0.324747676304106</li><li>0.144366585813108</li><li>0.254941478961186</li><li>0.94414805199198</li><li>0.170008854811301</li><li>0.3221966946344</li><li>0.224907849382067</li><li>0.137296807197642</li><li>0.124548494669078</li><li>0.211569629432015</li><li>0.357802385486272</li><li>0.114335334504474</li><li>0.321750052956613</li><li>0.238800567244406</li><li>0.141663738058356</li><li>0.191327638234347</li><li>0.296682986242189</li><li>0.178239928157888</li><li>0.173516794988026</li><li>0.345473674357396</li><li>0.308409751644896</li><li>0.150221706155436</li><li>0.116959694106916</li><li>0.327138733657323</li><li>0.247170912273775</li><li>0.168855064869994</li><li>0.280144277084</li><li>0.417136382758585</li><li>0.329779402848202</li><li>0.169147573470377</li><li>0.469873012934612</li><li>0.421148787394173</li><li>0.0982180379712234</li><li>0.196972267278078</li><li>0.223138301227998</li><li>0.213744835924365</li><li>0.192551975623034</li><li>0.206834923078567</li><li>1.06819102516482</li><li>0.207375325339307</li><li>0.0713573095438255</li><li>0.381434740016778</li><li>0.285808623891349</li><li>0.219199921452237</li><li>0.157100264266699</li><li>0.0755496604625061</li><li>0.475704872218322</li><li>0.306114530009467</li></ol>\n"
            ]
          },
          "metadata": {}
        }
      ]
    },
    {
      "cell_type": "code",
      "source": [
        "if (gene_j[gene]\n",
        "  genes_treatment_effect <- rnorm(1000, mu*gene_j[ ,1], gene_j)"
      ],
      "metadata": {
        "id": "KxG5Ts-h6BX2",
        "outputId": "f77bdbaa-5963-4ddf-ca6c-41e1554e16d1",
        "colab": {
          "base_uri": "https://localhost:8080/",
          "height": 130
        }
      },
      "execution_count": 80,
      "outputs": [
        {
          "output_type": "error",
          "ename": "ERROR",
          "evalue": "ignored",
          "traceback": [
            "Error in rnorm(1000, mu * gene_j[, 1], gene_j): invalid arguments\nTraceback:\n",
            "1. rnorm(1000, mu * gene_j[, 1], gene_j)"
          ]
        }
      ]
    },
    {
      "cell_type": "code",
      "source": [
        "#set.seed(1)\n",
        "#randomly selected jth gene and calculate sd\n",
        "#gene_j = sample(random_genes, 1)\n",
        "#gene_j\n",
        "#head(rand_selected_data)\n",
        "sd_gene_j = apply(rand_selected_data[gene_j, ], 1, sd)\n",
        "sd_gene_j\n",
        "#sd_gene_j = sample(rand_selected_data_sd, 1)\n",
        "#sd_gene_j"
      ],
      "metadata": {
        "colab": {
          "base_uri": "https://localhost:8080/",
          "height": 34
        },
        "id": "eaaPO8FSL849",
        "outputId": "f371acac-fa03-4ed3-fdfb-b81e0feabb63"
      },
      "execution_count": 23,
      "outputs": [
        {
          "output_type": "display_data",
          "data": {
            "text/plain": [
              "    16090 \n",
              "0.1555285 "
            ],
            "text/latex": "\\textbf{16090:} 0.155528483138732",
            "text/markdown": "**16090:** 0.155528483138732",
            "text/html": [
              "<strong>16090:</strong> 0.155528483138732"
            ]
          },
          "metadata": {}
        }
      ]
    },
    {
      "cell_type": "code",
      "source": [
        "#calculate random normal\n",
        "set.seed(1)\n",
        "m11 = 1000\n",
        "mu = 2\n",
        "dat0 <- rnorm(m11, mu*sd_gene_j, sd_gene_j)\n",
        "length(dat0)\n",
        "#treatment effect selected at random\n",
        "trt_effect = sample(dat0, 1)\n",
        "trt_effect"
      ],
      "metadata": {
        "colab": {
          "base_uri": "https://localhost:8080/",
          "height": 51
        },
        "id": "7xu1T3dNDf72",
        "outputId": "f083e2d5-89ea-4266-abc4-d3baae88588a"
      },
      "execution_count": 34,
      "outputs": [
        {
          "output_type": "display_data",
          "data": {
            "text/plain": [
              "[1] 1000"
            ],
            "text/latex": "1000",
            "text/markdown": "1000",
            "text/html": [
              "1000"
            ]
          },
          "metadata": {}
        },
        {
          "output_type": "display_data",
          "data": {
            "text/plain": [
              "[1] 0.2744522"
            ],
            "text/latex": "0.2744521829694",
            "text/markdown": "0.2744521829694",
            "text/html": [
              "0.2744521829694"
            ]
          },
          "metadata": {}
        }
      ]
    },
    {
      "cell_type": "code",
      "source": [
        "#m11\n",
        "n=1000\n",
        "m11 = sample(rand_selected_data_sd, n)\n",
        "length(m11)\n",
        "m11_1 = 5\n",
        "for (i in 1:(length(m11))){\n",
        "  if (m11[i] == gene_j[i]){\n",
        "    m11[i] = m11[i]+ 5\n",
        "  }\n",
        "  \n",
        "}"
      ],
      "metadata": {
        "colab": {
          "base_uri": "https://localhost:8080/",
          "height": 113
        },
        "id": "LxabOTEpOTwS",
        "outputId": "f4f52bb0-5c55-4c5a-942f-e7092ea78906"
      },
      "execution_count": 35,
      "outputs": [
        {
          "output_type": "display_data",
          "data": {
            "text/plain": [
              "[1] 1000"
            ],
            "text/latex": "1000",
            "text/markdown": "1000",
            "text/html": [
              "1000"
            ]
          },
          "metadata": {}
        },
        {
          "output_type": "error",
          "ename": "ERROR",
          "evalue": "ignored",
          "traceback": [
            "Error in if (m11[i] == gene_j[i]) {: missing value where TRUE/FALSE needed\nTraceback:\n"
          ]
        }
      ]
    },
    {
      "cell_type": "code",
      "source": [
        "#add treatment effect to all genes \n",
        "trt_grp2_datacopy = trt_grp2_data\n",
        "\n",
        "trt_grp2_with_effect = trt_grp2_datacopy[1:m, ] + trt_effect\n",
        "head(trt_grp2_with_effect)"
      ],
      "metadata": {
        "colab": {
          "base_uri": "https://localhost:8080/",
          "height": 283
        },
        "id": "ZrwaVsjCXdCy",
        "outputId": "017cf608-e870-4856-8bff-990665ffcd8d"
      },
      "execution_count": null,
      "outputs": [
        {
          "output_type": "display_data",
          "data": {
            "text/plain": [
              "      GSM1247245 GSM1247216 GSM1247412 GSM1247389\n",
              "17401  9.251279   9.205222   9.301949   9.067629 \n",
              "4775   6.097584   6.553851   6.150146   5.746821 \n",
              "13218  9.905722   9.765504   9.604560   9.339796 \n",
              "10539  9.225838   9.464384   8.617502   8.788223 \n",
              "8462   7.782848   7.388753   7.959738   7.432359 \n",
              "4050  12.416196  11.318878  12.663956  12.684726 "
            ],
            "text/latex": "A data.frame: 6 × 4\n\\begin{tabular}{r|llll}\n  & GSM1247245 & GSM1247216 & GSM1247412 & GSM1247389\\\\\n  & <dbl> & <dbl> & <dbl> & <dbl>\\\\\n\\hline\n\t17401 &  9.251279 &  9.205222 &  9.301949 &  9.067629\\\\\n\t4775 &  6.097584 &  6.553851 &  6.150146 &  5.746821\\\\\n\t13218 &  9.905722 &  9.765504 &  9.604560 &  9.339796\\\\\n\t10539 &  9.225838 &  9.464384 &  8.617502 &  8.788223\\\\\n\t8462 &  7.782848 &  7.388753 &  7.959738 &  7.432359\\\\\n\t4050 & 12.416196 & 11.318878 & 12.663956 & 12.684726\\\\\n\\end{tabular}\n",
            "text/markdown": "\nA data.frame: 6 × 4\n\n| <!--/--> | GSM1247245 &lt;dbl&gt; | GSM1247216 &lt;dbl&gt; | GSM1247412 &lt;dbl&gt; | GSM1247389 &lt;dbl&gt; |\n|---|---|---|---|---|\n| 17401 |  9.251279 |  9.205222 |  9.301949 |  9.067629 |\n| 4775 |  6.097584 |  6.553851 |  6.150146 |  5.746821 |\n| 13218 |  9.905722 |  9.765504 |  9.604560 |  9.339796 |\n| 10539 |  9.225838 |  9.464384 |  8.617502 |  8.788223 |\n| 8462 |  7.782848 |  7.388753 |  7.959738 |  7.432359 |\n| 4050 | 12.416196 | 11.318878 | 12.663956 | 12.684726 |\n\n",
            "text/html": [
              "<table class=\"dataframe\">\n",
              "<caption>A data.frame: 6 × 4</caption>\n",
              "<thead>\n",
              "\t<tr><th></th><th scope=col>GSM1247245</th><th scope=col>GSM1247216</th><th scope=col>GSM1247412</th><th scope=col>GSM1247389</th></tr>\n",
              "\t<tr><th></th><th scope=col>&lt;dbl&gt;</th><th scope=col>&lt;dbl&gt;</th><th scope=col>&lt;dbl&gt;</th><th scope=col>&lt;dbl&gt;</th></tr>\n",
              "</thead>\n",
              "<tbody>\n",
              "\t<tr><th scope=row>17401</th><td> 9.251279</td><td> 9.205222</td><td> 9.301949</td><td> 9.067629</td></tr>\n",
              "\t<tr><th scope=row>4775</th><td> 6.097584</td><td> 6.553851</td><td> 6.150146</td><td> 5.746821</td></tr>\n",
              "\t<tr><th scope=row>13218</th><td> 9.905722</td><td> 9.765504</td><td> 9.604560</td><td> 9.339796</td></tr>\n",
              "\t<tr><th scope=row>10539</th><td> 9.225838</td><td> 9.464384</td><td> 8.617502</td><td> 8.788223</td></tr>\n",
              "\t<tr><th scope=row>8462</th><td> 7.782848</td><td> 7.388753</td><td> 7.959738</td><td> 7.432359</td></tr>\n",
              "\t<tr><th scope=row>4050</th><td>12.416196</td><td>11.318878</td><td>12.663956</td><td>12.684726</td></tr>\n",
              "</tbody>\n",
              "</table>\n"
            ]
          },
          "metadata": {}
        }
      ]
    }
  ]
}