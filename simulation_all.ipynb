{
  "nbformat": 4,
  "nbformat_minor": 0,
  "metadata": {
    "colab": {
      "name": "simulation.ipynb",
      "provenance": [],
      "authorship_tag": "ABX9TyOfVgQ9MjeD5g3aOgC/R3X2",
      "include_colab_link": true
    },
    "kernelspec": {
      "name": "ir",
      "display_name": "R"
    },
    "language_info": {
      "name": "R"
    }
  },
  "cells": [
    {
      "cell_type": "markdown",
      "metadata": {
        "id": "view-in-github",
        "colab_type": "text"
      },
      "source": [
        "<a href=\"https://colab.research.google.com/github/almedida/thesis/blob/main/simulation_all.ipynb\" target=\"_parent\"><img src=\"https://colab.research.google.com/assets/colab-badge.svg\" alt=\"Open In Colab\"/></a>"
      ]
    },
    {
      "cell_type": "code",
      "source": [
        "rm(list = ls())"
      ],
      "metadata": {
        "id": "DQtVgCTqoGmu"
      },
      "execution_count": 124,
      "outputs": []
    },
    {
      "cell_type": "markdown",
      "source": [
        "##**Install Packages**##"
      ],
      "metadata": {
        "id": "-ZaEbyNkloSv"
      }
    },
    {
      "cell_type": "code",
      "source": [
        "install.packages('pacman')\n",
        "library(pacman, devtools)\n",
        "p_load(\"tidyverse\", \"matrixTests\", \"gtools\", \"VennDiagram\", \"tmvtnorm\")\n",
        "\n",
        "#install BiocManager\n",
        "if (!requireNamespace(\"BiocManager\", quietly = TRUE))\n",
        "  install.packages(\"BiocManager\")\n",
        "\n",
        "#install limma and qvalue packages\n",
        "BiocManager::install(c(\"limma\", \"qvalue\"))\n",
        "library(limma)\n",
        "library(qvalue)\n"
      ],
      "metadata": {
        "colab": {
          "base_uri": "https://localhost:8080/"
        },
        "id": "lS6SchBvfIzP",
        "outputId": "9df1b64a-4c8e-4b00-aeb7-d59cd9079dd8"
      },
      "execution_count": 125,
      "outputs": [
        {
          "output_type": "stream",
          "name": "stderr",
          "text": [
            "Installing package into ‘/usr/local/lib/R/site-library’\n",
            "(as ‘lib’ is unspecified)\n",
            "\n",
            "'getOption(\"repos\")' replaces Bioconductor standard repositories, see\n",
            "'?repositories' for details\n",
            "\n",
            "replacement repositories:\n",
            "    CRAN: https://cran.rstudio.com\n",
            "\n",
            "\n",
            "Bioconductor version 3.14 (BiocManager 1.30.16), R 4.1.2 (2021-11-01)\n",
            "\n",
            "Warning message:\n",
            "“package(s) not installed when version(s) same as current; use `force = TRUE` to\n",
            "  re-install: 'limma' 'qvalue'”\n",
            "Old packages: 'pbdZMQ', 'brew', 'cli', 'crayon', 'dplyr', 'generics', 'pillar',\n",
            "  'readr', 'rlang', 'svglite', 'systemfonts', 'tidyr'\n",
            "\n"
          ]
        }
      ]
    },
    {
      "cell_type": "markdown",
      "source": [
        "##***Load Dataset***"
      ],
      "metadata": {
        "id": "i5kBkQDinMx0"
      }
    },
    {
      "cell_type": "code",
      "execution_count": 126,
      "metadata": {
        "id": "Q4ZIf_LWvFxD"
      },
      "outputs": [],
      "source": [
        "#load dataset\n",
        "simulation_data = read.table(\"sim_data.csv\", header= TRUE, sep=\",\")\n",
        "N = ncol(simulation_data) #N = number columns (samples in the dataset)\n",
        "n_gene = nrow(simulation_data) #n_gene = no of genes (rows in the dataset)"
      ]
    },
    {
      "cell_type": "code",
      "source": [
        "# head(simulation_data)"
      ],
      "metadata": {
        "id": "b7UnOUy0vWRX"
      },
      "execution_count": 127,
      "outputs": []
    },
    {
      "cell_type": "code",
      "source": [
        "# dim(simulation_data)"
      ],
      "metadata": {
        "id": "XBf6PuU_w8m4"
      },
      "execution_count": 128,
      "outputs": []
    },
    {
      "cell_type": "markdown",
      "source": [
        "## **Simulation**"
      ],
      "metadata": {
        "id": "kghmWg1heGzZ"
      }
    },
    {
      "cell_type": "code",
      "source": [
        "set.seed(1)\n",
        "m = 10000 #no of genes to be selected from the dataset\n",
        "randomly_selected_genes = sample(n_gene, m) #randomly selected genes of size m from the total genes\n",
        "\n",
        "# head(randomly_selected_genes)\n",
        "# length(randomly_selected_genes)"
      ],
      "metadata": {
        "id": "8a4rpVGVwxrC"
      },
      "execution_count": 129,
      "outputs": []
    },
    {
      "cell_type": "markdown",
      "source": [
        "10k randomly selected data for simulation process"
      ],
      "metadata": {
        "id": "M-6oMbmLy9cI"
      }
    },
    {
      "cell_type": "code",
      "source": [
        "#10000 selected data corresponding to the randomly selected genes (EE genes)\n",
        "randomly_selected_data = simulation_data[randomly_selected_genes, ]\n",
        "genej_sim_data = randomly_selected_data\n",
        "# head(genej_sim_data)\n",
        "# dim(genej_sim_data)"
      ],
      "metadata": {
        "id": "tjwoFEa7yn53"
      },
      "execution_count": 130,
      "outputs": []
    },
    {
      "cell_type": "markdown",
      "source": [
        "standarad deviation for 10000 genes from all experimental units"
      ],
      "metadata": {
        "id": "cPxdbFWoOpfU"
      }
    },
    {
      "cell_type": "code",
      "source": [
        "genej_std = apply(genej_sim_data, 1, sd)\n",
        "# head(genej_std)\n",
        "# length(genej_std)"
      ],
      "metadata": {
        "id": "f8Axfy_TOlt5"
      },
      "execution_count": 131,
      "outputs": []
    },
    {
      "cell_type": "markdown",
      "source": [
        "Here, we create 2 treatment groups with 4 randomly selected samples each with 10,000 randlomly selected genes."
      ],
      "metadata": {
        "id": "QKUC3H8Hk30I"
      }
    },
    {
      "cell_type": "code",
      "source": [
        "set.seed(1)\n",
        "n_samples = 4 #no of samples\n",
        "randomly_selected_samples  = sample(N, 2*n_samples) #randomly select samples of size 2*n_trt_grp \n",
        "                                                    #for treatment group\n",
        "treatment_group1 = randomly_selected_samples[1:n_samples]\n",
        "treatment_group2 = randomly_selected_samples[(n_samples + 1):(2*n_samples)]"
      ],
      "metadata": {
        "id": "UkXbutdZ0dkn"
      },
      "execution_count": 132,
      "outputs": []
    },
    {
      "cell_type": "markdown",
      "source": [
        "Group 1 data"
      ],
      "metadata": {
        "id": "eWNXjPbtTbiE"
      }
    },
    {
      "cell_type": "code",
      "source": [
        "treatment_group1_data = genej_sim_data[treatment_group1]\n",
        "# head(treatment_group1_data)\n",
        "# write.csv(treatment_group1_data, \"10k_untreated_group15.csv\")"
      ],
      "metadata": {
        "id": "T6e_8tz6S_yu"
      },
      "execution_count": 133,
      "outputs": []
    },
    {
      "cell_type": "markdown",
      "source": [
        "* Group 1 consists of EE genes and group 2 consists of 9k EE genes and 1k DE genes (genes with treatment effects)\n",
        "* treatment_group2_data consists of the 4 randomly selected samples (exp. units)"
      ],
      "metadata": {
        "id": "d6wkwzpZw2Ka"
      }
    },
    {
      "cell_type": "code",
      "source": [
        "treatment_group2_data = genej_sim_data[treatment_group2]\n",
        "# dim(treatment_group2_data)\n",
        "# head(treatment_group2_data)"
      ],
      "metadata": {
        "id": "HRDWitPVsKfA"
      },
      "execution_count": 134,
      "outputs": []
    },
    {
      "cell_type": "markdown",
      "source": [
        "**Simulation from 3.1**"
      ],
      "metadata": {
        "id": "p7EC16Z9oTBw"
      }
    },
    {
      "cell_type": "markdown",
      "source": [
        "We calculate the treatment effect by extracting the effect size of each gene j from a random normal distribution using genej_std (standard deviation for the 10k randomly selected genes from all experimental units in the population data)"
      ],
      "metadata": {
        "id": "9RAU2JHPxJnq"
      }
    },
    {
      "cell_type": "code",
      "source": [
        "set.seed(1)\n",
        "mu = 2*genej_std\n",
        "\n",
        "treatment_effect_j = rnorm(10000, mu, genej_std)\n",
        "# length(treatment_effect_j)\n",
        "# head(data.frame(treatment_effect_j))"
      ],
      "metadata": {
        "id": "q6TlNYr7ozju"
      },
      "execution_count": 135,
      "outputs": []
    },
    {
      "cell_type": "markdown",
      "source": [
        "**DE genes**"
      ],
      "metadata": {
        "id": "n3MHTsO6shYH"
      }
    },
    {
      "cell_type": "markdown",
      "source": [
        "DE genes are created by adding treatment effects extracted to each gene in group 2"
      ],
      "metadata": {
        "id": "4obGjAza0LM6"
      }
    },
    {
      "cell_type": "code",
      "source": [
        "dim(treatment_group2_data)\n",
        "de_treatment_group2 = treatment_group2_data + treatment_effect_j\n",
        "# head(de_treatment_group2)"
      ],
      "metadata": {
        "colab": {
          "base_uri": "https://localhost:8080/",
          "height": 34
        },
        "id": "Bk3FIH-utO_T",
        "outputId": "38ffbbe7-bf28-4114-ff8c-fa6b49281d21"
      },
      "execution_count": 136,
      "outputs": [
        {
          "output_type": "display_data",
          "data": {
            "text/plain": [
              "[1] 10000     4"
            ],
            "text/latex": "\\begin{enumerate*}\n\\item 10000\n\\item 4\n\\end{enumerate*}\n",
            "text/markdown": "1. 10000\n2. 4\n\n\n",
            "text/html": [
              "<style>\n",
              ".list-inline {list-style: none; margin:0; padding: 0}\n",
              ".list-inline>li {display: inline-block}\n",
              ".list-inline>li:not(:last-child)::after {content: \"\\00b7\"; padding: 0 .5ex}\n",
              "</style>\n",
              "<ol class=list-inline><li>10000</li><li>4</li></ol>\n"
            ]
          },
          "metadata": {}
        }
      ]
    },
    {
      "cell_type": "markdown",
      "source": [
        "we randomly selected 1000 genes with treatment effect from de_treatment_group2"
      ],
      "metadata": {
        "id": "gGtOVvBA1S5d"
      }
    },
    {
      "cell_type": "code",
      "source": [
        "set.seed(1)\n",
        "n_de = 1000 \n",
        "n_treated_genes_grp2 = nrow(de_treatment_group2)\n",
        "\n",
        "#we extract 1000 genes from DE_treatment_group2 (genes with treatment effects)\n",
        "de_genes_index = sample(n_treated_genes_grp2, n_de)\n",
        "\n",
        "#we copied untreated (genes without effects) genes from treatment_group2_data\n",
        "treated_genes_group2 = treatment_group2_data\n",
        "\n",
        "#we replaced the 1000 untreated genes (without treatment effects) with the corresponding treated genes(with treatment effects)\n",
        "treated_genes_group2[de_genes_index, ] = de_treatment_group2[de_genes_index, ]\n",
        "\n",
        "# dim(treated_genes_group2)\n",
        "# head(de_genes_index)\n"
      ],
      "metadata": {
        "id": "Nf9PE2-Jn8Fr"
      },
      "execution_count": 137,
      "outputs": []
    },
    {
      "cell_type": "markdown",
      "source": [
        "**Summary of Group 2 simulation**\n",
        "\n",
        "m00 - number of EE genes (consists of 9000 genes)\n",
        "\n",
        "m11 - number of DE genes (1000 genes)\n"
      ],
      "metadata": {
        "id": "BizhJZB93heZ"
      }
    },
    {
      "cell_type": "code",
      "source": [
        "m00 = treated_genes_group2[-de_genes_index, ]\n",
        "m11 = treated_genes_group2[de_genes_index, ]\n",
        "treatment_effect_size_grp2 = treatment_effect_j[de_genes_index]\n",
        "# write.csv(treated_genes_group2, \"10k_treated_group25.csv\")\n",
        "# dim(m00)\n",
        "# dim(m11)\n",
        "# length(treatment_effect_size_grp2)"
      ],
      "metadata": {
        "id": "eCMZ_f0Q04E8"
      },
      "execution_count": 138,
      "outputs": []
    },
    {
      "cell_type": "markdown",
      "source": [
        "## **Student t-test**"
      ],
      "metadata": {
        "id": "k6Zd99ete5Lm"
      }
    },
    {
      "cell_type": "code",
      "source": [
        "group1_data = treatment_group1_data\n",
        "group2_data = treated_genes_group2"
      ],
      "metadata": {
        "id": "oRIrvYLKfCZ1"
      },
      "execution_count": 139,
      "outputs": []
    },
    {
      "cell_type": "code",
      "source": [
        "ttest <- row_t_equalvar(group1_data, group2_data, alternative = \"two.sided\", mu = 0, conf.level = 0.95)"
      ],
      "metadata": {
        "id": "yXttAmWqf1Cn"
      },
      "execution_count": 140,
      "outputs": []
    },
    {
      "cell_type": "code",
      "source": [
        "pvalue <- ttest[13]\n",
        "hist_data <- data.matrix(pvalue)\n",
        "hist(hist_data)"
      ],
      "metadata": {
        "id": "Qiz68ISHhMwK",
        "outputId": "f32e3d11-c56f-4256-9d7e-bfc46ad22788",
        "colab": {
          "base_uri": "https://localhost:8080/",
          "height": 437
        }
      },
      "execution_count": 141,
      "outputs": [
        {
          "output_type": "display_data",
          "data": {
            "image/png": "[encoded data removed]",
            "text/plain": [
              "Plot with title “Histogram of hist_data”"
            ]
          },
          "metadata": {
            "image/png": {
              "width": 420,
              "height": 420
            }
          }
        }
      ]
    },
    {
      "cell_type": "markdown",
      "source": [
        "**Adjusted p-values using Benjamini Hochberg**"
      ],
      "metadata": {
        "id": "ArjyULR9hcYa"
      }
    },
    {
      "cell_type": "code",
      "source": [
        "adj_pvalue <- data.matrix(as.data.frame(as.matrix(pvalue)), rownames.force = NA)\n"
      ],
      "metadata": {
        "id": "d9G89rxYheYE"
      },
      "execution_count": 142,
      "outputs": []
    },
    {
      "cell_type": "markdown",
      "source": [
        "## **Limma t-test**"
      ],
      "metadata": {
        "id": "ZRrYJBclibtT"
      }
    },
    {
      "cell_type": "code",
      "source": [
        "limma_gene_exp <- c(group1_data, group2_data)\n",
        "limma_gene_exp <- data.frame(limma_gene_exp)"
      ],
      "metadata": {
        "id": "vfXN4ZO6jLSF"
      },
      "execution_count": 143,
      "outputs": []
    },
    {
      "cell_type": "markdown",
      "source": [
        "**Create expression list**\n",
        "\n",
        "create a factor list for the differentially expressed genes with group1 set as first level"
      ],
      "metadata": {
        "id": "m41rK3akjvVH"
      }
    },
    {
      "cell_type": "code",
      "source": [
        "expr_list_10k <- factor(\n",
        "  x = c(rep(\"group1\",4), rep(\"group2\",4)),\n",
        "  levels=c(\"group1\",\"group2\")            # Set group 1 to be the first level\n",
        ")\n",
        "\n",
        "design <- model.matrix(~expr_list_10k)          # Remove the zero\n",
        "# head(design)"
      ],
      "metadata": {
        "id": "KpV2NlpejxBN"
      },
      "execution_count": 144,
      "outputs": []
    },
    {
      "cell_type": "code",
      "source": [
        "# #Now we can run the differential expression pipeline\n",
        "\n",
        "fit <- lmFit(limma_gene_exp, design)\n",
        "fit <- eBayes(fit)\n",
        "results <- decideTests(fit)\n",
        "# write.csv(summary(results), \"summary_10k_genes_expr_sim5.csv\")"
      ],
      "metadata": {
        "id": "LzBwsblPkBC3"
      },
      "execution_count": 145,
      "outputs": []
    },
    {
      "cell_type": "code",
      "source": [
        "limma_pvalue <- fit$p.value[, 2]\n",
        "limma_pvalue <- data.frame(limma_pvalue)\n"
      ],
      "metadata": {
        "id": "iYgd2p_IkMzn"
      },
      "execution_count": null,
      "outputs": []
    },
    {
      "cell_type": "code",
      "source": [
        "adj_limma_pvalue <- data.matrix(limma_pvalue)\n",
        "adj_limma_pvalue <- p.adjust(adj_limma_pvalue, \"BH\")\n",
        "adj_limma_pvalue <- data.frame(adj_limma_pvalue)"
      ],
      "metadata": {
        "id": "DV4Rw3YPkXI_"
      },
      "execution_count": 147,
      "outputs": []
    },
    {
      "cell_type": "markdown",
      "source": [
        "## **Proposed Method**"
      ],
      "metadata": {
        "id": "mk8b4dDOleOI"
      }
    },
    {
      "cell_type": "code",
      "source": [
        "pval_raw <- c(pvalue, limma_pvalue)\n",
        "pval_raw <- data.frame(pval_raw)\n",
        "pvals1 <- (as.matrix(pval_raw[,1]))\n",
        "pvals2 <- (as.matrix(pval_raw[,2]))"
      ],
      "metadata": {
        "id": "UNbp2rclldlm"
      },
      "execution_count": 148,
      "outputs": []
    },
    {
      "cell_type": "markdown",
      "source": [
        "**Calculate cut-off points using Histogram-based method**\n",
        "\n",
        "calc.cutoff slightly modifies the estimate.m0 function to return the appropriate p-value cutoff where all p-values greater than the cutoff are assumed to come from null cases."
      ],
      "metadata": {
        "id": "q7-Ajk2roJsR"
      }
    },
    {
      "cell_type": "code",
      "source": [
        "calc.cutoff = function(p, B = 20, max=1){\n",
        "\n",
        "  m <- length(p)\n",
        "  m0 <- m\n",
        "  bin <- c(-0.1, (1:B)/B*max)\n",
        "  bin.counts=rep(0,B)\n",
        "\n",
        "  for(i in 1:B){\n",
        "    bin.counts[i]=sum((p>bin[i])&(p<=bin[i+1]))\n",
        "  }\n",
        "\n",
        "  tail.means <- rev(cumsum(rev(bin.counts))/(1:B))\n",
        "  temp <- bin.counts - tail.means\n",
        "  index <- min((1:B)[temp <= 0])\n",
        "  cutoff2 <- (index)/B*max\n",
        "  if(cutoff2 == 1) {cutoff2 <- 1-1/B}\n",
        "\n",
        "  return(cutoff2)\n",
        "\n",
        "}\n",
        "\n",
        "cutoff_value1 = calc.cutoff(pvals1, B=20, max=1)\n",
        "cutoff_value2 = calc.cutoff(pvals2, B=20, max=1)\n",
        "\n",
        "cutoff = cbind(c(cutoff_value1), c(cutoff_value2))\n",
        "\n",
        "colnames(cutoff) = c(\"cutoff_value1\", \"cutoff_value2\")\n",
        "\n",
        "cutoff"
      ],
      "metadata": {
        "id": "w6VhmOGroFvK",
        "outputId": "9c179362-11ca-4eea-f2c9-9b4ebffea5dd",
        "colab": {
          "base_uri": "https://localhost:8080/",
          "height": 97
        }
      },
      "execution_count": 149,
      "outputs": [
        {
          "output_type": "display_data",
          "data": {
            "text/plain": [
              "     cutoff_value1 cutoff_value2\n",
              "[1,] 0.3           0.15         "
            ],
            "text/latex": "A matrix: 1 × 2 of type dbl\n\\begin{tabular}{ll}\n cutoff\\_value1 & cutoff\\_value2\\\\\n\\hline\n\t 0.3 & 0.15\\\\\n\\end{tabular}\n",
            "text/markdown": "\nA matrix: 1 × 2 of type dbl\n\n| cutoff_value1 | cutoff_value2 |\n|---|---|\n| 0.3 | 0.15 |\n\n",
            "text/html": [
              "<table class=\"dataframe\">\n",
              "<caption>A matrix: 1 × 2 of type dbl</caption>\n",
              "<thead>\n",
              "\t<tr><th scope=col>cutoff_value1</th><th scope=col>cutoff_value2</th></tr>\n",
              "</thead>\n",
              "<tbody>\n",
              "\t<tr><td>0.3</td><td>0.15</td></tr>\n",
              "</tbody>\n",
              "</table>\n"
            ]
          },
          "metadata": {}
        }
      ]
    },
    {
      "cell_type": "markdown",
      "source": [
        "**Filter dataset using cutoff points**\n",
        "\n",
        "selecting pvalues in the upper-right quadrant using Histogram-Based method\n",
        "defined as lambda1 = cutoffvalue1 and lambda2 = cutoffvalue2 for pvalue 1 and pvalue 2 respectively.\n",
        "lambda1, lambda2 - probability of pvalue 1 and pvalue 2 in the upper-right quadrant respectively"
      ],
      "metadata": {
        "id": "nTyrOl4LobJz"
      }
    },
    {
      "cell_type": "code",
      "source": [
        "p_vals = pval_raw  %>% filter(pvalue >=cutoff_value1, limma_pvalue>=cutoff_value2)"
      ],
      "metadata": {
        "id": "21HbwHpuoYUB"
      },
      "execution_count": 150,
      "outputs": []
    },
    {
      "cell_type": "markdown",
      "source": [
        "convert selected pvalues to z values"
      ],
      "metadata": {
        "id": "ua_W9Lzaokpm"
      }
    },
    {
      "cell_type": "code",
      "source": [
        "z_val = as.data.frame(qnorm(as.matrix(p_vals), lower.tail = TRUE))\n",
        "colnames(z_val) = c(\"zvals1\", \"zvals2\")\n",
        "\n",
        "zvals1 <- (as.data.frame(as.matrix(z_val[,1])))\n",
        "zvals2 <- (as.data.frame(as.matrix(z_val[,2])))"
      ],
      "metadata": {
        "id": "1QvG3J82onat"
      },
      "execution_count": 151,
      "outputs": []
    },
    {
      "cell_type": "markdown",
      "source": [
        "convert lambda(truncation points) to z values"
      ],
      "metadata": {
        "id": "qSpXm07Qow0d"
      }
    },
    {
      "cell_type": "code",
      "source": [
        "z_val_extremums = as.data.frame(qnorm(as.matrix(cbind(c(cutoff_value1,1),c(cutoff_value2,1))), lower.tail = TRUE))\n",
        "\n",
        "min_z1 <- z_val_extremums[1,1]\n",
        "min_z2 <- z_val_extremums[1,2]"
      ],
      "metadata": {
        "id": "xWJ5B7QXoxwO"
      },
      "execution_count": 152,
      "outputs": []
    },
    {
      "cell_type": "markdown",
      "source": [
        "**Estimating m00s**\n",
        "\n",
        "m0.1 - DE genes in experiment 1\n",
        "m0.2 - DE genes in experiment 2\n",
        "m11 - DE genes in both experiments\n",
        "m00 - EE genes in both experiments"
      ],
      "metadata": {
        "id": "VFPqP5aQo6PZ"
      }
    },
    {
      "cell_type": "code",
      "source": [
        "estimate.m0s <- function(p1, p2, B=20){\n",
        "  m <- length(p1)\n",
        "\n",
        "  ##find lambda cutoffs using histogram-based method\n",
        "  c1 <- calc.cutoff(p1, B=B, max=1)\n",
        "  c2 <- calc.cutoff(p2, B=B, max=1)\n",
        "\n",
        "  ##estimate m0 for experiment 1\n",
        "  ind1 <- (p1>=c1)\n",
        "  m0.1 <- sum(ind1)/(1-c1)\n",
        "  m0.1 <- min(m0.1, 10000)\n",
        "\n",
        "  ##estimate m0 for experiment 2  \n",
        "  ind2 <- (p2>=c2)\n",
        "  m0.2 <- sum(ind2)/(1-c2)\n",
        "  m0.2 <- min(m0.2, 10000)\n",
        "\n",
        "\n",
        "  ##estimate m00\n",
        "  ind12 <- ind1 & ind2\n",
        "  nA <- sum(ind12)\n",
        "  #pA <- (1-c1)*(1-c2)\n",
        "  #m00 <- nA/pA\n",
        "  \n",
        "  #here, we used converted pvalues to z values to estimnate m00\n",
        "  # density function for each row of the bivariate z values (x) and \n",
        "  # estimated parameters(rho)\n",
        "  density = function(x, rho)\n",
        "  {\n",
        "    sigma = matrix(c(1, rho, rho, 1), 2, 2)\n",
        "    z = dtmvnorm(x, mean = c(0,0), sigma = sigma, lower = c(min_z1, min_z2))\n",
        "  }\n",
        "  \n",
        "  # log likelihood of the joint densities\n",
        "  log_likelihood_fn = function(rho){\n",
        "    \n",
        "    joint_likelihood = z_val %>% split(.$zvals2) %>% map_dfr(~density(c(.$zvals1,.$zvals2),rho))    \n",
        "    return(-sum(log(joint_likelihood)))\n",
        "    \n",
        "  }\n",
        "  \n",
        "  #MLE of the log likelihood function\n",
        "  optimal_rho = optimize(log_likelihood_fn, lower = -1, upper = 1 )\n",
        "  optimal_rho = as.data.frame(optimal_rho)\n",
        "  \n",
        "  #probability of a random variable greater than cutoff values \n",
        "  rho = as.numeric(optimal_rho[1])\n",
        "  obj_value = optimal_rho[2]\n",
        "  pA = pmvnorm(lower=c(min_z1, min_z2), upper=c(Inf, Inf), mean=c(0,0), sigma = matrix(c(1, rho, rho, 1), 2, 2))\n",
        "  \n",
        "\n",
        "  m00 <- nA/pA\n",
        "  m00 <- min(m00, 10000)\n",
        "  \n",
        "  \n",
        "  ##estimate m11\n",
        "  m11 <- sum(m - m0.1 - m0.2 + m00)\n",
        "  if (m0.1 == 10000 || m0.2 == 10000 || m00 == 10000){\n",
        "    m11 = 0\n",
        "  }\n",
        "  \n",
        "  ret <- list()\n",
        "  ret$ms <- c(rho, obj_value, m, m0.1, m0.2, m11, m00)\n",
        "  names(ret$ms) <- c(\"optimal_rho\", \"obj_value\", \"m\", \"m0.1\", \"m0.2\", \"m11\",\"m00\")\n",
        "  ret$cutoffs <- c(c1, c2)\n",
        "  return(ret)\n",
        "}\n",
        "\n",
        "estimate.m0s(pvals1, pvals2, B=20)"
      ],
      "metadata": {
        "id": "bGH8chOao8QO"
      },
      "execution_count": 153,
      "outputs": []
    },
    {
      "cell_type": "markdown",
      "source": [
        "# **Orr, 2012 Method**"
      ],
      "metadata": {
        "id": "rgV-bPr6vrWX"
      }
    },
    {
      "cell_type": "code",
      "source": [
        "estimate.m0s <- function(p1, p2, B=20){\n",
        "  m <- length(p1)\n",
        "\n",
        "  ##find lambda cutoffs using histogram-based method\n",
        "  c1 <- calc.cutoff(p1, B=B, max=1)\n",
        "  c2 <- calc.cutoff(p2, B=B, max=1)\n",
        "\n",
        "  ##estimate m0 for experiment 1\n",
        "  ind1 <- (p1>=c1)\n",
        "  m0.1 <- sum(ind1)/(1-c1)\n",
        "  m0.1 <- min(m0.1, 10000)\n",
        "  \n",
        "\n",
        "  ##estimate m0 for experiment 2  \n",
        "  ind2 <- (p2>=c2)\n",
        "  m0.2 <- sum(ind2)/(1-c2)\n",
        "  m0.2 <- min(m0.2, 10000)\n",
        "\n",
        "  ##estimate m00\n",
        "  ind12 <- ind1 & ind2\n",
        "  nA <- sum(ind12)\n",
        "  pA <- (1-c1)*(1-c2)\n",
        "  m00 <- nA/pA\n",
        "  m00 <- min(m00, 10000)\n",
        "\n",
        "\n",
        "  ##estimate m11\n",
        "  m11 <- sum(m - m0.1 - m0.2 + m00)\n",
        "  if (m00 == 10000){\n",
        "    m11 = 0\n",
        "  }\n",
        "  \n",
        "  ret <- list()\n",
        "  ret$ms <- c(m, m0.1, m0.2, m11, m00)\n",
        "  names(ret$ms) <- c(\"m\", \"m0.1\", \"m0.2\", \"m11\",\"m00\")\n",
        "  ret$cutoffs <- c(c1, c2)\n",
        "  return(ret)\n",
        "}\n",
        "\n",
        "estimate.m0s(pvals1, pvals2, B=20)"
      ],
      "metadata": {
        "id": "xNiSUz-rv0PG",
        "outputId": "80a5fedb-5c8f-48ff-9125-ed217878498e",
        "colab": {
          "base_uri": "https://localhost:8080/",
          "height": 113
        }
      },
      "execution_count": 155,
      "outputs": [
        {
          "output_type": "display_data",
          "data": {
            "text/plain": [
              "$ms\n",
              "        m      m0.1      m0.2       m11       m00 \n",
              "10000.000  9472.857  9484.706     0.000 10000.000 \n",
              "\n",
              "$cutoffs\n",
              "[1] 0.30 0.15\n"
            ],
            "text/latex": "\\begin{description}\n\\item[\\$ms] \\begin{description*}\n\\item[m] 10000\n\\item[m0.1] 9472.85714285714\n\\item[m0.2] 9484.70588235294\n\\item[m11] 0\n\\item[m00] 10000\n\\end{description*}\n\n\\item[\\$cutoffs] \\begin{enumerate*}\n\\item 0.3\n\\item 0.15\n\\end{enumerate*}\n\n\\end{description}\n",
            "text/markdown": "$ms\n:   m\n:   10000m0.1\n:   9472.85714285714m0.2\n:   9484.70588235294m11\n:   0m00\n:   10000\n\n\n$cutoffs\n:   1. 0.3\n2. 0.15\n\n\n\n\n\n",
            "text/html": [
              "<dl>\n",
              "\t<dt>$ms</dt>\n",
              "\t\t<dd><style>\n",
              ".dl-inline {width: auto; margin:0; padding: 0}\n",
              ".dl-inline>dt, .dl-inline>dd {float: none; width: auto; display: inline-block}\n",
              ".dl-inline>dt::after {content: \":\\0020\"; padding-right: .5ex}\n",
              ".dl-inline>dt:not(:first-of-type) {padding-left: .5ex}\n",
              "</style><dl class=dl-inline><dt>m</dt><dd>10000</dd><dt>m0.1</dt><dd>9472.85714285714</dd><dt>m0.2</dt><dd>9484.70588235294</dd><dt>m11</dt><dd>0</dd><dt>m00</dt><dd>10000</dd></dl>\n",
              "</dd>\n",
              "\t<dt>$cutoffs</dt>\n",
              "\t\t<dd><style>\n",
              ".list-inline {list-style: none; margin:0; padding: 0}\n",
              ".list-inline>li {display: inline-block}\n",
              ".list-inline>li:not(:last-child)::after {content: \"\\00b7\"; padding: 0 .5ex}\n",
              "</style>\n",
              "<ol class=list-inline><li>0.3</li><li>0.15</li></ol>\n",
              "</dd>\n",
              "</dl>\n"
            ]
          },
          "metadata": {}
        }
      ]
    },
    {
      "cell_type": "markdown",
      "source": [
        "# **Intersection Method**"
      ],
      "metadata": {
        "id": "GIufmHJNxHf7"
      }
    },
    {
      "cell_type": "code",
      "source": [
        "adj_pvalue_df = data.matrix(adj_pvalue)\n",
        "head(adj_pvalue_df)\n",
        "head(adj_limma_pvalue)"
      ],
      "metadata": {
        "id": "ssc47M5mxJfe",
        "outputId": "5dc11cf3-4497-4241-e656-493a4a84efdc",
        "colab": {
          "base_uri": "https://localhost:8080/",
          "height": 535
        }
      },
      "execution_count": 185,
      "outputs": [
        {
          "output_type": "display_data",
          "data": {
            "text/plain": [
              "      pvalue   \n",
              "17401 0.8434363\n",
              "4775  0.4828462\n",
              "13218 0.1731252\n",
              "10539 0.3992641\n",
              "8462  0.3420154\n",
              "4050  0.2949288"
            ],
            "text/latex": "A matrix: 6 × 1 of type dbl\n\\begin{tabular}{r|l}\n  & pvalue\\\\\n\\hline\n\t17401 & 0.8434363\\\\\n\t4775 & 0.4828462\\\\\n\t13218 & 0.1731252\\\\\n\t10539 & 0.3992641\\\\\n\t8462 & 0.3420154\\\\\n\t4050 & 0.2949288\\\\\n\\end{tabular}\n",
            "text/markdown": "\nA matrix: 6 × 1 of type dbl\n\n| <!--/--> | pvalue |\n|---|---|\n| 17401 | 0.8434363 |\n| 4775 | 0.4828462 |\n| 13218 | 0.1731252 |\n| 10539 | 0.3992641 |\n| 8462 | 0.3420154 |\n| 4050 | 0.2949288 |\n\n",
            "text/html": [
              "<table class=\"dataframe\">\n",
              "<caption>A matrix: 6 × 1 of type dbl</caption>\n",
              "<thead>\n",
              "\t<tr><th></th><th scope=col>pvalue</th></tr>\n",
              "</thead>\n",
              "<tbody>\n",
              "\t<tr><th scope=row>17401</th><td>0.8434363</td></tr>\n",
              "\t<tr><th scope=row>4775</th><td>0.4828462</td></tr>\n",
              "\t<tr><th scope=row>13218</th><td>0.1731252</td></tr>\n",
              "\t<tr><th scope=row>10539</th><td>0.3992641</td></tr>\n",
              "\t<tr><th scope=row>8462</th><td>0.3420154</td></tr>\n",
              "\t<tr><th scope=row>4050</th><td>0.2949288</td></tr>\n",
              "</tbody>\n",
              "</table>\n"
            ]
          },
          "metadata": {}
        },
        {
          "output_type": "display_data",
          "data": {
            "text/plain": [
              "  adj_limma_pvalue\n",
              "1 0.9876896       \n",
              "2 0.9486909       \n",
              "3 0.7723017       \n",
              "4 0.9204634       \n",
              "5 0.8931342       \n",
              "6 0.8260967       "
            ],
            "text/latex": "A data.frame: 6 × 1\n\\begin{tabular}{r|l}\n  & adj\\_limma\\_pvalue\\\\\n  & <dbl>\\\\\n\\hline\n\t1 & 0.9876896\\\\\n\t2 & 0.9486909\\\\\n\t3 & 0.7723017\\\\\n\t4 & 0.9204634\\\\\n\t5 & 0.8931342\\\\\n\t6 & 0.8260967\\\\\n\\end{tabular}\n",
            "text/markdown": "\nA data.frame: 6 × 1\n\n| <!--/--> | adj_limma_pvalue &lt;dbl&gt; |\n|---|---|\n| 1 | 0.9876896 |\n| 2 | 0.9486909 |\n| 3 | 0.7723017 |\n| 4 | 0.9204634 |\n| 5 | 0.8931342 |\n| 6 | 0.8260967 |\n\n",
            "text/html": [
              "<table class=\"dataframe\">\n",
              "<caption>A data.frame: 6 × 1</caption>\n",
              "<thead>\n",
              "\t<tr><th></th><th scope=col>adj_limma_pvalue</th></tr>\n",
              "\t<tr><th></th><th scope=col>&lt;dbl&gt;</th></tr>\n",
              "</thead>\n",
              "<tbody>\n",
              "\t<tr><th scope=row>1</th><td>0.9876896</td></tr>\n",
              "\t<tr><th scope=row>2</th><td>0.9486909</td></tr>\n",
              "\t<tr><th scope=row>3</th><td>0.7723017</td></tr>\n",
              "\t<tr><th scope=row>4</th><td>0.9204634</td></tr>\n",
              "\t<tr><th scope=row>5</th><td>0.8931342</td></tr>\n",
              "\t<tr><th scope=row>6</th><td>0.8260967</td></tr>\n",
              "</tbody>\n",
              "</table>\n"
            ]
          },
          "metadata": {}
        }
      ]
    },
    {
      "cell_type": "code",
      "source": [
        "inter <- function(alpha){\n",
        "  for (i in adj_pvalue[ ,]):\n",
        "    for (j in adj_limma_pvalue[,]):\n",
        "      filter_p <- adj_pvalue_df[(adj_pvalue_df[i,] <= alpha),]\n",
        "      filter_l <- adj_limma_pvalue_df[(adj_pvalue_df[j,] <= alpha),]\n",
        "    \n",
        "  \n",
        "  \n",
        "  return filter_p\n",
        "  return filter_l\n",
        "  \n",
        "}\n",
        "length(inter(0.05))"
      ],
      "metadata": {
        "id": "rMG5q0LR0AiL",
        "outputId": "8bed7e4b-bfb9-4678-b300-ee7abf4df60a",
        "colab": {
          "base_uri": "https://localhost:8080/",
          "height": 147
        }
      },
      "execution_count": 188,
      "outputs": [
        {
          "output_type": "error",
          "ename": "ERROR",
          "evalue": "ignored",
          "traceback": [
            "Error in parse(text = x, srcfile = src): <text>:2:28: unexpected ':'\n1: inter <- function(alpha){\n2:   for (i in adj_pvalue[ ,]):\n                              ^\nTraceback:\n"
          ]
        }
      ]
    },
    {
      "cell_type": "code",
      "source": [
        ""
      ],
      "metadata": {
        "id": "y4kbiDRX7bIt"
      },
      "execution_count": null,
      "outputs": []
    },
    {
      "cell_type": "code",
      "source": [
        "inter_05 <- adj_pvalue_df[(adj_pvalue_df[,] <= 0.05),]\n",
        "head(inter_05)"
      ],
      "metadata": {
        "id": "BgAAo3Ak2BwW",
        "outputId": "6ff85458-d861-47f4-a993-64fdc8df3012",
        "colab": {
          "base_uri": "https://localhost:8080/",
          "height": 34
        }
      },
      "execution_count": 182,
      "outputs": [
        {
          "output_type": "display_data",
          "data": {
            "text/plain": [
              "[1] 967"
            ],
            "text/latex": "967",
            "text/markdown": "967",
            "text/html": [
              "967"
            ]
          },
          "metadata": {}
        }
      ]
    }
  ]
}