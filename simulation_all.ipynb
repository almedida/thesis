{
  "nbformat": 4,
  "nbformat_minor": 0,
  "metadata": {
    "colab": {
      "name": "simulation.ipynb",
      "provenance": [],
      "authorship_tag": "ABX9TyPVOLwLKPT4i4GQ8eDX8bCC",
      "include_colab_link": true
    },
    "kernelspec": {
      "name": "ir",
      "display_name": "R"
    },
    "language_info": {
      "name": "R"
    }
  },
  "cells": [
    {
      "cell_type": "markdown",
      "metadata": {
        "id": "view-in-github",
        "colab_type": "text"
      },
      "source": [
        "<a href=\"https://colab.research.google.com/github/almedida/thesis/blob/main/simulation_all.ipynb\" target=\"_parent\"><img src=\"https://colab.research.google.com/assets/colab-badge.svg\" alt=\"Open In Colab\"/></a>"
      ]
    },
    {
      "cell_type": "code",
      "source": [
        "rm(list = ls())"
      ],
      "metadata": {
        "id": "DQtVgCTqoGmu"
      },
      "execution_count": 19,
      "outputs": []
    },
    {
      "cell_type": "markdown",
      "source": [
        "##***Load Dataset***"
      ],
      "metadata": {
        "id": "i5kBkQDinMx0"
      }
    },
    {
      "cell_type": "code",
      "execution_count": 20,
      "metadata": {
        "id": "Q4ZIf_LWvFxD"
      },
      "outputs": [],
      "source": [
        "#load dataset\n",
        "simulation_data = read.table(\"sim_data.csv\", header= TRUE, sep=\",\")\n",
        "N = ncol(simulation_data) #N = number columns (samples in the dataset)\n",
        "n_gene = nrow(simulation_data) #n_gene = no of genes (rows in the dataset)"
      ]
    },
    {
      "cell_type": "code",
      "source": [
        "head(simulation_data)"
      ],
      "metadata": {
        "colab": {
          "base_uri": "https://localhost:8080/",
          "height": 303
        },
        "id": "b7UnOUy0vWRX",
        "outputId": "bdfec09c-0ddb-4d55-f6c6-5cd4642560c6"
      },
      "execution_count": 21,
      "outputs": [
        {
          "output_type": "display_data",
          "data": {
            "text/plain": [
              "  GSM1247203 GSM1247204 GSM1247205 GSM1247206 GSM1247207 GSM1247208 GSM1247209\n",
              "1 4.319644   4.396137    3.968531  3.979268   3.901083   4.207761   3.963131  \n",
              "2 9.608635   9.244517   10.553440  9.754355   8.997556   9.027160   9.227125  \n",
              "3 5.923612   6.797588    6.369745  5.671180   6.077140   6.341990   6.686084  \n",
              "4 9.911118   9.421990    9.358638  9.275714   8.573832   9.072234   9.053680  \n",
              "5 6.292236   6.047995    6.268707  6.275980   6.257831   6.371053   6.149960  \n",
              "6 7.310085   8.409503    7.802326  7.260794   7.598630   7.504309   8.223495  \n",
              "  GSM1247210 GSM1247211 GSM1247212 ⋯ GSM1247410 GSM1247411 GSM1247412\n",
              "1 4.164432   3.873857   4.217890   ⋯  4.484714  4.219507   3.925787  \n",
              "2 9.198466   8.908276   9.604081   ⋯  8.846296  8.666471   9.462380  \n",
              "3 6.154192   5.906662   6.186725   ⋯  6.820596  6.006575   6.250236  \n",
              "4 9.549565   9.458813   9.247518   ⋯ 10.028440  9.816180   8.794598  \n",
              "5 6.261317   6.361110   6.336733   ⋯  6.278971  6.549239   6.395798  \n",
              "6 7.424841   7.065065   7.577485   ⋯  7.754192  7.051993   7.425191  \n",
              "  GSM1247413 GSM1247414 GSM1247415 GSM1247416 GSM1247417 GSM1247418 GSM1247419\n",
              "1 3.861954   4.015559   4.623454   5.223074   3.927950   3.798007   3.958021  \n",
              "2 9.199890   9.022814   9.072050   9.679663   8.615543   8.796901   8.688204  \n",
              "3 6.047955   6.467733   6.707928   7.916406   5.589499   5.016101   5.278193  \n",
              "4 9.688042   8.914406   9.211488   9.399957   9.693126   8.551371   9.780800  \n",
              "5 6.263772   6.119008   6.146906   6.276937   6.206087   6.438444   6.251627  \n",
              "6 7.989666   7.573813   7.743429   8.081255   7.023867   7.322741   7.321942  "
            ],
            "text/latex": "A data.frame: 6 × 217\n\\begin{tabular}{r|lllllllllllllllllllll}\n  & GSM1247203 & GSM1247204 & GSM1247205 & GSM1247206 & GSM1247207 & GSM1247208 & GSM1247209 & GSM1247210 & GSM1247211 & GSM1247212 & ⋯ & GSM1247410 & GSM1247411 & GSM1247412 & GSM1247413 & GSM1247414 & GSM1247415 & GSM1247416 & GSM1247417 & GSM1247418 & GSM1247419\\\\\n  & <dbl> & <dbl> & <dbl> & <dbl> & <dbl> & <dbl> & <dbl> & <dbl> & <dbl> & <dbl> & ⋯ & <dbl> & <dbl> & <dbl> & <dbl> & <dbl> & <dbl> & <dbl> & <dbl> & <dbl> & <dbl>\\\\\n\\hline\n\t1 & 4.319644 & 4.396137 &  3.968531 & 3.979268 & 3.901083 & 4.207761 & 3.963131 & 4.164432 & 3.873857 & 4.217890 & ⋯ &  4.484714 & 4.219507 & 3.925787 & 3.861954 & 4.015559 & 4.623454 & 5.223074 & 3.927950 & 3.798007 & 3.958021\\\\\n\t2 & 9.608635 & 9.244517 & 10.553440 & 9.754355 & 8.997556 & 9.027160 & 9.227125 & 9.198466 & 8.908276 & 9.604081 & ⋯ &  8.846296 & 8.666471 & 9.462380 & 9.199890 & 9.022814 & 9.072050 & 9.679663 & 8.615543 & 8.796901 & 8.688204\\\\\n\t3 & 5.923612 & 6.797588 &  6.369745 & 5.671180 & 6.077140 & 6.341990 & 6.686084 & 6.154192 & 5.906662 & 6.186725 & ⋯ &  6.820596 & 6.006575 & 6.250236 & 6.047955 & 6.467733 & 6.707928 & 7.916406 & 5.589499 & 5.016101 & 5.278193\\\\\n\t4 & 9.911118 & 9.421990 &  9.358638 & 9.275714 & 8.573832 & 9.072234 & 9.053680 & 9.549565 & 9.458813 & 9.247518 & ⋯ & 10.028440 & 9.816180 & 8.794598 & 9.688042 & 8.914406 & 9.211488 & 9.399957 & 9.693126 & 8.551371 & 9.780800\\\\\n\t5 & 6.292236 & 6.047995 &  6.268707 & 6.275980 & 6.257831 & 6.371053 & 6.149960 & 6.261317 & 6.361110 & 6.336733 & ⋯ &  6.278971 & 6.549239 & 6.395798 & 6.263772 & 6.119008 & 6.146906 & 6.276937 & 6.206087 & 6.438444 & 6.251627\\\\\n\t6 & 7.310085 & 8.409503 &  7.802326 & 7.260794 & 7.598630 & 7.504309 & 8.223495 & 7.424841 & 7.065065 & 7.577485 & ⋯ &  7.754192 & 7.051993 & 7.425191 & 7.989666 & 7.573813 & 7.743429 & 8.081255 & 7.023867 & 7.322741 & 7.321942\\\\\n\\end{tabular}\n",
            "text/markdown": "\nA data.frame: 6 × 217\n\n| <!--/--> | GSM1247203 &lt;dbl&gt; | GSM1247204 &lt;dbl&gt; | GSM1247205 &lt;dbl&gt; | GSM1247206 &lt;dbl&gt; | GSM1247207 &lt;dbl&gt; | GSM1247208 &lt;dbl&gt; | GSM1247209 &lt;dbl&gt; | GSM1247210 &lt;dbl&gt; | GSM1247211 &lt;dbl&gt; | GSM1247212 &lt;dbl&gt; | ⋯ ⋯ | GSM1247410 &lt;dbl&gt; | GSM1247411 &lt;dbl&gt; | GSM1247412 &lt;dbl&gt; | GSM1247413 &lt;dbl&gt; | GSM1247414 &lt;dbl&gt; | GSM1247415 &lt;dbl&gt; | GSM1247416 &lt;dbl&gt; | GSM1247417 &lt;dbl&gt; | GSM1247418 &lt;dbl&gt; | GSM1247419 &lt;dbl&gt; |\n|---|---|---|---|---|---|---|---|---|---|---|---|---|---|---|---|---|---|---|---|---|---|\n| 1 | 4.319644 | 4.396137 |  3.968531 | 3.979268 | 3.901083 | 4.207761 | 3.963131 | 4.164432 | 3.873857 | 4.217890 | ⋯ |  4.484714 | 4.219507 | 3.925787 | 3.861954 | 4.015559 | 4.623454 | 5.223074 | 3.927950 | 3.798007 | 3.958021 |\n| 2 | 9.608635 | 9.244517 | 10.553440 | 9.754355 | 8.997556 | 9.027160 | 9.227125 | 9.198466 | 8.908276 | 9.604081 | ⋯ |  8.846296 | 8.666471 | 9.462380 | 9.199890 | 9.022814 | 9.072050 | 9.679663 | 8.615543 | 8.796901 | 8.688204 |\n| 3 | 5.923612 | 6.797588 |  6.369745 | 5.671180 | 6.077140 | 6.341990 | 6.686084 | 6.154192 | 5.906662 | 6.186725 | ⋯ |  6.820596 | 6.006575 | 6.250236 | 6.047955 | 6.467733 | 6.707928 | 7.916406 | 5.589499 | 5.016101 | 5.278193 |\n| 4 | 9.911118 | 9.421990 |  9.358638 | 9.275714 | 8.573832 | 9.072234 | 9.053680 | 9.549565 | 9.458813 | 9.247518 | ⋯ | 10.028440 | 9.816180 | 8.794598 | 9.688042 | 8.914406 | 9.211488 | 9.399957 | 9.693126 | 8.551371 | 9.780800 |\n| 5 | 6.292236 | 6.047995 |  6.268707 | 6.275980 | 6.257831 | 6.371053 | 6.149960 | 6.261317 | 6.361110 | 6.336733 | ⋯ |  6.278971 | 6.549239 | 6.395798 | 6.263772 | 6.119008 | 6.146906 | 6.276937 | 6.206087 | 6.438444 | 6.251627 |\n| 6 | 7.310085 | 8.409503 |  7.802326 | 7.260794 | 7.598630 | 7.504309 | 8.223495 | 7.424841 | 7.065065 | 7.577485 | ⋯ |  7.754192 | 7.051993 | 7.425191 | 7.989666 | 7.573813 | 7.743429 | 8.081255 | 7.023867 | 7.322741 | 7.321942 |\n\n",
            "text/html": [
              "<table class=\"dataframe\">\n",
              "<caption>A data.frame: 6 × 217</caption>\n",
              "<thead>\n",
              "\t<tr><th></th><th scope=col>GSM1247203</th><th scope=col>GSM1247204</th><th scope=col>GSM1247205</th><th scope=col>GSM1247206</th><th scope=col>GSM1247207</th><th scope=col>GSM1247208</th><th scope=col>GSM1247209</th><th scope=col>GSM1247210</th><th scope=col>GSM1247211</th><th scope=col>GSM1247212</th><th scope=col>⋯</th><th scope=col>GSM1247410</th><th scope=col>GSM1247411</th><th scope=col>GSM1247412</th><th scope=col>GSM1247413</th><th scope=col>GSM1247414</th><th scope=col>GSM1247415</th><th scope=col>GSM1247416</th><th scope=col>GSM1247417</th><th scope=col>GSM1247418</th><th scope=col>GSM1247419</th></tr>\n",
              "\t<tr><th></th><th scope=col>&lt;dbl&gt;</th><th scope=col>&lt;dbl&gt;</th><th scope=col>&lt;dbl&gt;</th><th scope=col>&lt;dbl&gt;</th><th scope=col>&lt;dbl&gt;</th><th scope=col>&lt;dbl&gt;</th><th scope=col>&lt;dbl&gt;</th><th scope=col>&lt;dbl&gt;</th><th scope=col>&lt;dbl&gt;</th><th scope=col>&lt;dbl&gt;</th><th scope=col>⋯</th><th scope=col>&lt;dbl&gt;</th><th scope=col>&lt;dbl&gt;</th><th scope=col>&lt;dbl&gt;</th><th scope=col>&lt;dbl&gt;</th><th scope=col>&lt;dbl&gt;</th><th scope=col>&lt;dbl&gt;</th><th scope=col>&lt;dbl&gt;</th><th scope=col>&lt;dbl&gt;</th><th scope=col>&lt;dbl&gt;</th><th scope=col>&lt;dbl&gt;</th></tr>\n",
              "</thead>\n",
              "<tbody>\n",
              "\t<tr><th scope=row>1</th><td>4.319644</td><td>4.396137</td><td> 3.968531</td><td>3.979268</td><td>3.901083</td><td>4.207761</td><td>3.963131</td><td>4.164432</td><td>3.873857</td><td>4.217890</td><td>⋯</td><td> 4.484714</td><td>4.219507</td><td>3.925787</td><td>3.861954</td><td>4.015559</td><td>4.623454</td><td>5.223074</td><td>3.927950</td><td>3.798007</td><td>3.958021</td></tr>\n",
              "\t<tr><th scope=row>2</th><td>9.608635</td><td>9.244517</td><td>10.553440</td><td>9.754355</td><td>8.997556</td><td>9.027160</td><td>9.227125</td><td>9.198466</td><td>8.908276</td><td>9.604081</td><td>⋯</td><td> 8.846296</td><td>8.666471</td><td>9.462380</td><td>9.199890</td><td>9.022814</td><td>9.072050</td><td>9.679663</td><td>8.615543</td><td>8.796901</td><td>8.688204</td></tr>\n",
              "\t<tr><th scope=row>3</th><td>5.923612</td><td>6.797588</td><td> 6.369745</td><td>5.671180</td><td>6.077140</td><td>6.341990</td><td>6.686084</td><td>6.154192</td><td>5.906662</td><td>6.186725</td><td>⋯</td><td> 6.820596</td><td>6.006575</td><td>6.250236</td><td>6.047955</td><td>6.467733</td><td>6.707928</td><td>7.916406</td><td>5.589499</td><td>5.016101</td><td>5.278193</td></tr>\n",
              "\t<tr><th scope=row>4</th><td>9.911118</td><td>9.421990</td><td> 9.358638</td><td>9.275714</td><td>8.573832</td><td>9.072234</td><td>9.053680</td><td>9.549565</td><td>9.458813</td><td>9.247518</td><td>⋯</td><td>10.028440</td><td>9.816180</td><td>8.794598</td><td>9.688042</td><td>8.914406</td><td>9.211488</td><td>9.399957</td><td>9.693126</td><td>8.551371</td><td>9.780800</td></tr>\n",
              "\t<tr><th scope=row>5</th><td>6.292236</td><td>6.047995</td><td> 6.268707</td><td>6.275980</td><td>6.257831</td><td>6.371053</td><td>6.149960</td><td>6.261317</td><td>6.361110</td><td>6.336733</td><td>⋯</td><td> 6.278971</td><td>6.549239</td><td>6.395798</td><td>6.263772</td><td>6.119008</td><td>6.146906</td><td>6.276937</td><td>6.206087</td><td>6.438444</td><td>6.251627</td></tr>\n",
              "\t<tr><th scope=row>6</th><td>7.310085</td><td>8.409503</td><td> 7.802326</td><td>7.260794</td><td>7.598630</td><td>7.504309</td><td>8.223495</td><td>7.424841</td><td>7.065065</td><td>7.577485</td><td>⋯</td><td> 7.754192</td><td>7.051993</td><td>7.425191</td><td>7.989666</td><td>7.573813</td><td>7.743429</td><td>8.081255</td><td>7.023867</td><td>7.322741</td><td>7.321942</td></tr>\n",
              "</tbody>\n",
              "</table>\n"
            ]
          },
          "metadata": {}
        }
      ]
    },
    {
      "cell_type": "code",
      "source": [
        "dim(simulation_data)"
      ],
      "metadata": {
        "colab": {
          "base_uri": "https://localhost:8080/",
          "height": 34
        },
        "id": "XBf6PuU_w8m4",
        "outputId": "04969228-d290-439e-9001-48acc3b13e12"
      },
      "execution_count": 22,
      "outputs": [
        {
          "output_type": "display_data",
          "data": {
            "text/plain": [
              "[1] 20219   217"
            ],
            "text/latex": "\\begin{enumerate*}\n\\item 20219\n\\item 217\n\\end{enumerate*}\n",
            "text/markdown": "1. 20219\n2. 217\n\n\n",
            "text/html": [
              "<style>\n",
              ".list-inline {list-style: none; margin:0; padding: 0}\n",
              ".list-inline>li {display: inline-block}\n",
              ".list-inline>li:not(:last-child)::after {content: \"\\00b7\"; padding: 0 .5ex}\n",
              "</style>\n",
              "<ol class=list-inline><li>20219</li><li>217</li></ol>\n"
            ]
          },
          "metadata": {}
        }
      ]
    },
    {
      "cell_type": "code",
      "source": [
        "set.seed(1)\n",
        "m = 10000 #no of genes to be selected from the dataset\n",
        "randomly_selected_genes = sample(n_gene, m) #randomly selected genes of size m from the total genes\n",
        "\n",
        "head(randomly_selected_genes)\n",
        "length(randomly_selected_genes)"
      ],
      "metadata": {
        "colab": {
          "base_uri": "https://localhost:8080/",
          "height": 51
        },
        "id": "8a4rpVGVwxrC",
        "outputId": "bf23ca62-266c-443c-8a62-3562543b91c8"
      },
      "execution_count": 23,
      "outputs": [
        {
          "output_type": "display_data",
          "data": {
            "text/plain": [
              "[1] 17401  4775 13218 10539  8462  4050"
            ],
            "text/latex": "\\begin{enumerate*}\n\\item 17401\n\\item 4775\n\\item 13218\n\\item 10539\n\\item 8462\n\\item 4050\n\\end{enumerate*}\n",
            "text/markdown": "1. 17401\n2. 4775\n3. 13218\n4. 10539\n5. 8462\n6. 4050\n\n\n",
            "text/html": [
              "<style>\n",
              ".list-inline {list-style: none; margin:0; padding: 0}\n",
              ".list-inline>li {display: inline-block}\n",
              ".list-inline>li:not(:last-child)::after {content: \"\\00b7\"; padding: 0 .5ex}\n",
              "</style>\n",
              "<ol class=list-inline><li>17401</li><li>4775</li><li>13218</li><li>10539</li><li>8462</li><li>4050</li></ol>\n"
            ]
          },
          "metadata": {}
        },
        {
          "output_type": "display_data",
          "data": {
            "text/plain": [
              "[1] 10000"
            ],
            "text/latex": "10000",
            "text/markdown": "10000",
            "text/html": [
              "10000"
            ]
          },
          "metadata": {}
        }
      ]
    },
    {
      "cell_type": "markdown",
      "source": [
        "10k randomly selected data for simulation process"
      ],
      "metadata": {
        "id": "M-6oMbmLy9cI"
      }
    },
    {
      "cell_type": "code",
      "source": [
        "#10000 selected data corresponding to the randomly selected genes (EE genes)\n",
        "randomly_selected_data = simulation_data[randomly_selected_genes, ]\n",
        "genej_sim_data = randomly_selected_data\n",
        "head(genej_sim_data)\n",
        "dim(genej_sim_data)"
      ],
      "metadata": {
        "colab": {
          "base_uri": "https://localhost:8080/",
          "height": 320
        },
        "id": "tjwoFEa7yn53",
        "outputId": "70533b4d-dd7c-4cb3-dedb-b379c9435815"
      },
      "execution_count": 24,
      "outputs": [
        {
          "output_type": "display_data",
          "data": {
            "text/plain": [
              "      GSM1247203 GSM1247204 GSM1247205 GSM1247206 GSM1247207 GSM1247208\n",
              "17401  7.252734   7.303979  7.010113   6.760083    7.459250   7.264806 \n",
              "4775   4.165667   4.435168  4.385319   4.420685    4.152833   3.816157 \n",
              "13218  7.629774   8.434767  7.971606   8.015123    7.517571   7.230787 \n",
              "10539  6.915510   7.562835  7.405954   8.888284    6.957932   6.642156 \n",
              "8462   5.949411   5.801627  5.792423   5.666441    5.843078   5.670973 \n",
              "4050  10.050940  11.042590  9.510201   9.602699   10.909970  11.115290 \n",
              "      GSM1247209 GSM1247210 GSM1247211 GSM1247212 ⋯ GSM1247410 GSM1247411\n",
              "17401  7.441763  7.080874    7.218505   7.343332  ⋯ 7.379983    7.181466 \n",
              "4775   4.201120  4.029131    4.034959   4.177509  ⋯ 4.109681    4.031004 \n",
              "13218  7.881967  7.835166    8.319057   8.088978  ⋯ 8.052246    7.810543 \n",
              "10539  6.770809  6.772811    6.661028   6.976250  ⋯ 8.309056    6.928286 \n",
              "8462   5.809662  5.423051    5.958257   5.824004  ⋯ 5.784465    5.980613 \n",
              "4050  11.792050  9.915201   11.798120  10.769450  ⋯ 9.197424   10.616580 \n",
              "      GSM1247412 GSM1247413 GSM1247414 GSM1247415 GSM1247416 GSM1247417\n",
              "17401  7.332173   7.204830   7.089101   7.034548   7.151740  7.135917  \n",
              "4775   4.180370   4.046903   4.022233   4.061613   4.244768  3.818283  \n",
              "13218  7.634784   8.381040   7.980730   7.325929   7.867981  8.242966  \n",
              "10539  6.647726   6.942022   6.752002   6.683944   6.985731  7.734789  \n",
              "8462   5.989962   5.781039   6.324430   5.347286   6.174486  5.765319  \n",
              "4050  10.694180  10.988510  11.430450  10.100610  11.895710  9.907439  \n",
              "      GSM1247418 GSM1247419\n",
              "17401  7.595081  7.322358  \n",
              "4775   3.911840  4.099252  \n",
              "13218  7.700593  8.018120  \n",
              "10539  6.958129  7.541349  \n",
              "8462   5.868937  6.113311  \n",
              "4050  11.307340  9.178329  "
            ],
            "text/latex": "A data.frame: 6 × 217\n\\begin{tabular}{r|lllllllllllllllllllll}\n  & GSM1247203 & GSM1247204 & GSM1247205 & GSM1247206 & GSM1247207 & GSM1247208 & GSM1247209 & GSM1247210 & GSM1247211 & GSM1247212 & ⋯ & GSM1247410 & GSM1247411 & GSM1247412 & GSM1247413 & GSM1247414 & GSM1247415 & GSM1247416 & GSM1247417 & GSM1247418 & GSM1247419\\\\\n  & <dbl> & <dbl> & <dbl> & <dbl> & <dbl> & <dbl> & <dbl> & <dbl> & <dbl> & <dbl> & ⋯ & <dbl> & <dbl> & <dbl> & <dbl> & <dbl> & <dbl> & <dbl> & <dbl> & <dbl> & <dbl>\\\\\n\\hline\n\t17401 &  7.252734 &  7.303979 & 7.010113 & 6.760083 &  7.459250 &  7.264806 &  7.441763 & 7.080874 &  7.218505 &  7.343332 & ⋯ & 7.379983 &  7.181466 &  7.332173 &  7.204830 &  7.089101 &  7.034548 &  7.151740 & 7.135917 &  7.595081 & 7.322358\\\\\n\t4775 &  4.165667 &  4.435168 & 4.385319 & 4.420685 &  4.152833 &  3.816157 &  4.201120 & 4.029131 &  4.034959 &  4.177509 & ⋯ & 4.109681 &  4.031004 &  4.180370 &  4.046903 &  4.022233 &  4.061613 &  4.244768 & 3.818283 &  3.911840 & 4.099252\\\\\n\t13218 &  7.629774 &  8.434767 & 7.971606 & 8.015123 &  7.517571 &  7.230787 &  7.881967 & 7.835166 &  8.319057 &  8.088978 & ⋯ & 8.052246 &  7.810543 &  7.634784 &  8.381040 &  7.980730 &  7.325929 &  7.867981 & 8.242966 &  7.700593 & 8.018120\\\\\n\t10539 &  6.915510 &  7.562835 & 7.405954 & 8.888284 &  6.957932 &  6.642156 &  6.770809 & 6.772811 &  6.661028 &  6.976250 & ⋯ & 8.309056 &  6.928286 &  6.647726 &  6.942022 &  6.752002 &  6.683944 &  6.985731 & 7.734789 &  6.958129 & 7.541349\\\\\n\t8462 &  5.949411 &  5.801627 & 5.792423 & 5.666441 &  5.843078 &  5.670973 &  5.809662 & 5.423051 &  5.958257 &  5.824004 & ⋯ & 5.784465 &  5.980613 &  5.989962 &  5.781039 &  6.324430 &  5.347286 &  6.174486 & 5.765319 &  5.868937 & 6.113311\\\\\n\t4050 & 10.050940 & 11.042590 & 9.510201 & 9.602699 & 10.909970 & 11.115290 & 11.792050 & 9.915201 & 11.798120 & 10.769450 & ⋯ & 9.197424 & 10.616580 & 10.694180 & 10.988510 & 11.430450 & 10.100610 & 11.895710 & 9.907439 & 11.307340 & 9.178329\\\\\n\\end{tabular}\n",
            "text/markdown": "\nA data.frame: 6 × 217\n\n| <!--/--> | GSM1247203 &lt;dbl&gt; | GSM1247204 &lt;dbl&gt; | GSM1247205 &lt;dbl&gt; | GSM1247206 &lt;dbl&gt; | GSM1247207 &lt;dbl&gt; | GSM1247208 &lt;dbl&gt; | GSM1247209 &lt;dbl&gt; | GSM1247210 &lt;dbl&gt; | GSM1247211 &lt;dbl&gt; | GSM1247212 &lt;dbl&gt; | ⋯ ⋯ | GSM1247410 &lt;dbl&gt; | GSM1247411 &lt;dbl&gt; | GSM1247412 &lt;dbl&gt; | GSM1247413 &lt;dbl&gt; | GSM1247414 &lt;dbl&gt; | GSM1247415 &lt;dbl&gt; | GSM1247416 &lt;dbl&gt; | GSM1247417 &lt;dbl&gt; | GSM1247418 &lt;dbl&gt; | GSM1247419 &lt;dbl&gt; |\n|---|---|---|---|---|---|---|---|---|---|---|---|---|---|---|---|---|---|---|---|---|---|\n| 17401 |  7.252734 |  7.303979 | 7.010113 | 6.760083 |  7.459250 |  7.264806 |  7.441763 | 7.080874 |  7.218505 |  7.343332 | ⋯ | 7.379983 |  7.181466 |  7.332173 |  7.204830 |  7.089101 |  7.034548 |  7.151740 | 7.135917 |  7.595081 | 7.322358 |\n| 4775 |  4.165667 |  4.435168 | 4.385319 | 4.420685 |  4.152833 |  3.816157 |  4.201120 | 4.029131 |  4.034959 |  4.177509 | ⋯ | 4.109681 |  4.031004 |  4.180370 |  4.046903 |  4.022233 |  4.061613 |  4.244768 | 3.818283 |  3.911840 | 4.099252 |\n| 13218 |  7.629774 |  8.434767 | 7.971606 | 8.015123 |  7.517571 |  7.230787 |  7.881967 | 7.835166 |  8.319057 |  8.088978 | ⋯ | 8.052246 |  7.810543 |  7.634784 |  8.381040 |  7.980730 |  7.325929 |  7.867981 | 8.242966 |  7.700593 | 8.018120 |\n| 10539 |  6.915510 |  7.562835 | 7.405954 | 8.888284 |  6.957932 |  6.642156 |  6.770809 | 6.772811 |  6.661028 |  6.976250 | ⋯ | 8.309056 |  6.928286 |  6.647726 |  6.942022 |  6.752002 |  6.683944 |  6.985731 | 7.734789 |  6.958129 | 7.541349 |\n| 8462 |  5.949411 |  5.801627 | 5.792423 | 5.666441 |  5.843078 |  5.670973 |  5.809662 | 5.423051 |  5.958257 |  5.824004 | ⋯ | 5.784465 |  5.980613 |  5.989962 |  5.781039 |  6.324430 |  5.347286 |  6.174486 | 5.765319 |  5.868937 | 6.113311 |\n| 4050 | 10.050940 | 11.042590 | 9.510201 | 9.602699 | 10.909970 | 11.115290 | 11.792050 | 9.915201 | 11.798120 | 10.769450 | ⋯ | 9.197424 | 10.616580 | 10.694180 | 10.988510 | 11.430450 | 10.100610 | 11.895710 | 9.907439 | 11.307340 | 9.178329 |\n\n",
            "text/html": [
              "<table class=\"dataframe\">\n",
              "<caption>A data.frame: 6 × 217</caption>\n",
              "<thead>\n",
              "\t<tr><th></th><th scope=col>GSM1247203</th><th scope=col>GSM1247204</th><th scope=col>GSM1247205</th><th scope=col>GSM1247206</th><th scope=col>GSM1247207</th><th scope=col>GSM1247208</th><th scope=col>GSM1247209</th><th scope=col>GSM1247210</th><th scope=col>GSM1247211</th><th scope=col>GSM1247212</th><th scope=col>⋯</th><th scope=col>GSM1247410</th><th scope=col>GSM1247411</th><th scope=col>GSM1247412</th><th scope=col>GSM1247413</th><th scope=col>GSM1247414</th><th scope=col>GSM1247415</th><th scope=col>GSM1247416</th><th scope=col>GSM1247417</th><th scope=col>GSM1247418</th><th scope=col>GSM1247419</th></tr>\n",
              "\t<tr><th></th><th scope=col>&lt;dbl&gt;</th><th scope=col>&lt;dbl&gt;</th><th scope=col>&lt;dbl&gt;</th><th scope=col>&lt;dbl&gt;</th><th scope=col>&lt;dbl&gt;</th><th scope=col>&lt;dbl&gt;</th><th scope=col>&lt;dbl&gt;</th><th scope=col>&lt;dbl&gt;</th><th scope=col>&lt;dbl&gt;</th><th scope=col>&lt;dbl&gt;</th><th scope=col>⋯</th><th scope=col>&lt;dbl&gt;</th><th scope=col>&lt;dbl&gt;</th><th scope=col>&lt;dbl&gt;</th><th scope=col>&lt;dbl&gt;</th><th scope=col>&lt;dbl&gt;</th><th scope=col>&lt;dbl&gt;</th><th scope=col>&lt;dbl&gt;</th><th scope=col>&lt;dbl&gt;</th><th scope=col>&lt;dbl&gt;</th><th scope=col>&lt;dbl&gt;</th></tr>\n",
              "</thead>\n",
              "<tbody>\n",
              "\t<tr><th scope=row>17401</th><td> 7.252734</td><td> 7.303979</td><td>7.010113</td><td>6.760083</td><td> 7.459250</td><td> 7.264806</td><td> 7.441763</td><td>7.080874</td><td> 7.218505</td><td> 7.343332</td><td>⋯</td><td>7.379983</td><td> 7.181466</td><td> 7.332173</td><td> 7.204830</td><td> 7.089101</td><td> 7.034548</td><td> 7.151740</td><td>7.135917</td><td> 7.595081</td><td>7.322358</td></tr>\n",
              "\t<tr><th scope=row>4775</th><td> 4.165667</td><td> 4.435168</td><td>4.385319</td><td>4.420685</td><td> 4.152833</td><td> 3.816157</td><td> 4.201120</td><td>4.029131</td><td> 4.034959</td><td> 4.177509</td><td>⋯</td><td>4.109681</td><td> 4.031004</td><td> 4.180370</td><td> 4.046903</td><td> 4.022233</td><td> 4.061613</td><td> 4.244768</td><td>3.818283</td><td> 3.911840</td><td>4.099252</td></tr>\n",
              "\t<tr><th scope=row>13218</th><td> 7.629774</td><td> 8.434767</td><td>7.971606</td><td>8.015123</td><td> 7.517571</td><td> 7.230787</td><td> 7.881967</td><td>7.835166</td><td> 8.319057</td><td> 8.088978</td><td>⋯</td><td>8.052246</td><td> 7.810543</td><td> 7.634784</td><td> 8.381040</td><td> 7.980730</td><td> 7.325929</td><td> 7.867981</td><td>8.242966</td><td> 7.700593</td><td>8.018120</td></tr>\n",
              "\t<tr><th scope=row>10539</th><td> 6.915510</td><td> 7.562835</td><td>7.405954</td><td>8.888284</td><td> 6.957932</td><td> 6.642156</td><td> 6.770809</td><td>6.772811</td><td> 6.661028</td><td> 6.976250</td><td>⋯</td><td>8.309056</td><td> 6.928286</td><td> 6.647726</td><td> 6.942022</td><td> 6.752002</td><td> 6.683944</td><td> 6.985731</td><td>7.734789</td><td> 6.958129</td><td>7.541349</td></tr>\n",
              "\t<tr><th scope=row>8462</th><td> 5.949411</td><td> 5.801627</td><td>5.792423</td><td>5.666441</td><td> 5.843078</td><td> 5.670973</td><td> 5.809662</td><td>5.423051</td><td> 5.958257</td><td> 5.824004</td><td>⋯</td><td>5.784465</td><td> 5.980613</td><td> 5.989962</td><td> 5.781039</td><td> 6.324430</td><td> 5.347286</td><td> 6.174486</td><td>5.765319</td><td> 5.868937</td><td>6.113311</td></tr>\n",
              "\t<tr><th scope=row>4050</th><td>10.050940</td><td>11.042590</td><td>9.510201</td><td>9.602699</td><td>10.909970</td><td>11.115290</td><td>11.792050</td><td>9.915201</td><td>11.798120</td><td>10.769450</td><td>⋯</td><td>9.197424</td><td>10.616580</td><td>10.694180</td><td>10.988510</td><td>11.430450</td><td>10.100610</td><td>11.895710</td><td>9.907439</td><td>11.307340</td><td>9.178329</td></tr>\n",
              "</tbody>\n",
              "</table>\n"
            ]
          },
          "metadata": {}
        },
        {
          "output_type": "display_data",
          "data": {
            "text/plain": [
              "[1] 10000   217"
            ],
            "text/latex": "\\begin{enumerate*}\n\\item 10000\n\\item 217\n\\end{enumerate*}\n",
            "text/markdown": "1. 10000\n2. 217\n\n\n",
            "text/html": [
              "<style>\n",
              ".list-inline {list-style: none; margin:0; padding: 0}\n",
              ".list-inline>li {display: inline-block}\n",
              ".list-inline>li:not(:last-child)::after {content: \"\\00b7\"; padding: 0 .5ex}\n",
              "</style>\n",
              "<ol class=list-inline><li>10000</li><li>217</li></ol>\n"
            ]
          },
          "metadata": {}
        }
      ]
    },
    {
      "cell_type": "markdown",
      "source": [
        "standarad deviation for 10000 genes from all experimental units"
      ],
      "metadata": {
        "id": "cPxdbFWoOpfU"
      }
    },
    {
      "cell_type": "code",
      "source": [
        "genej_std = apply(genej_sim_data, 1, sd)\n",
        "head(genej_std)\n",
        "length(genej_std)"
      ],
      "metadata": {
        "id": "f8Axfy_TOlt5",
        "outputId": "aef2e2e0-d0f8-4bcd-b722-96eaa509a247",
        "colab": {
          "base_uri": "https://localhost:8080/",
          "height": 68
        }
      },
      "execution_count": 25,
      "outputs": [
        {
          "output_type": "display_data",
          "data": {
            "text/plain": [
              "    17401      4775     13218     10539      8462      4050 \n",
              "0.2237894 0.2063794 0.2945551 0.5984411 0.3111447 0.8521204 "
            ],
            "text/latex": "\\begin{description*}\n\\item[17401] 0.223789436940553\n\\item[4775] 0.206379379852298\n\\item[13218] 0.2945551365075\n\\item[10539] 0.598441090859509\n\\item[8462] 0.311144731430865\n\\item[4050] 0.852120407872688\n\\end{description*}\n",
            "text/markdown": "17401\n:   0.2237894369405534775\n:   0.20637937985229813218\n:   0.294555136507510539\n:   0.5984410908595098462\n:   0.3111447314308654050\n:   0.852120407872688\n\n",
            "text/html": [
              "<style>\n",
              ".dl-inline {width: auto; margin:0; padding: 0}\n",
              ".dl-inline>dt, .dl-inline>dd {float: none; width: auto; display: inline-block}\n",
              ".dl-inline>dt::after {content: \":\\0020\"; padding-right: .5ex}\n",
              ".dl-inline>dt:not(:first-of-type) {padding-left: .5ex}\n",
              "</style><dl class=dl-inline><dt>17401</dt><dd>0.223789436940553</dd><dt>4775</dt><dd>0.206379379852298</dd><dt>13218</dt><dd>0.2945551365075</dd><dt>10539</dt><dd>0.598441090859509</dd><dt>8462</dt><dd>0.311144731430865</dd><dt>4050</dt><dd>0.852120407872688</dd></dl>\n"
            ]
          },
          "metadata": {}
        },
        {
          "output_type": "display_data",
          "data": {
            "text/plain": [
              "[1] 10000"
            ],
            "text/latex": "10000",
            "text/markdown": "10000",
            "text/html": [
              "10000"
            ]
          },
          "metadata": {}
        }
      ]
    },
    {
      "cell_type": "markdown",
      "source": [
        "## Experimental units - Part 1"
      ],
      "metadata": {
        "id": "qPEwZP1uHrGR"
      }
    },
    {
      "cell_type": "markdown",
      "source": [
        "Here, we create 2 treatment groups with 4 randomly selected samples each with 10,000 randlomly selected genes."
      ],
      "metadata": {
        "id": "QKUC3H8Hk30I"
      }
    },
    {
      "cell_type": "code",
      "source": [
        "set.seed(1)\n",
        "n_samples = 4 #no of samples\n",
        "randomly_selected_samples  = sample(N, 2*n_samples) #randomly select samples of size 2*n_trt_grp \n",
        "                                                    #for treatment group\n",
        "\n",
        "treatment_group1 = randomly_selected_samples[1:n_samples]\n",
        "treatment_group2 = randomly_selected_samples[(n_samples + 1):(2*n_samples)]\n",
        "\n",
        "treatment_group1\n",
        "treatment_group2"
      ],
      "metadata": {
        "colab": {
          "base_uri": "https://localhost:8080/",
          "height": 173
        },
        "id": "UkXbutdZ0dkn",
        "outputId": "1ce9c169-67c8-44c0-da03-8063f2df2e12"
      },
      "execution_count": 26,
      "outputs": [
        {
          "output_type": "display_data",
          "data": {
            "text/plain": [
              "[1]  68 167 129 162"
            ],
            "text/latex": "\\begin{enumerate*}\n\\item 68\n\\item 167\n\\item 129\n\\item 162\n\\end{enumerate*}\n",
            "text/markdown": "1. 68\n2. 167\n3. 129\n4. 162\n\n\n",
            "text/html": [
              "<style>\n",
              ".list-inline {list-style: none; margin:0; padding: 0}\n",
              ".list-inline>li {display: inline-block}\n",
              ".list-inline>li:not(:last-child)::after {content: \"\\00b7\"; padding: 0 .5ex}\n",
              "</style>\n",
              "<ol class=list-inline><li>68</li><li>167</li><li>129</li><li>162</li></ol>\n"
            ]
          },
          "metadata": {}
        },
        {
          "output_type": "display_data",
          "data": {
            "text/plain": [
              "[1]  43  14 210 187"
            ],
            "text/latex": "\\begin{enumerate*}\n\\item 43\n\\item 14\n\\item 210\n\\item 187\n\\end{enumerate*}\n",
            "text/markdown": "1. 43\n2. 14\n3. 210\n4. 187\n\n\n",
            "text/html": [
              "<style>\n",
              ".list-inline {list-style: none; margin:0; padding: 0}\n",
              ".list-inline>li {display: inline-block}\n",
              ".list-inline>li:not(:last-child)::after {content: \"\\00b7\"; padding: 0 .5ex}\n",
              "</style>\n",
              "<ol class=list-inline><li>43</li><li>14</li><li>210</li><li>187</li></ol>\n"
            ]
          },
          "metadata": {}
        }
      ]
    },
    {
      "cell_type": "markdown",
      "source": [
        "## Experimental units - Part 2"
      ],
      "metadata": {
        "id": "mUSQyCWIINyS"
      }
    },
    {
      "cell_type": "code",
      "source": [
        "set.seed(5) #simulation number for exp units\n",
        "n_samples = 4 #no of samples\n",
        "randomly_selected_samples  = sample(N, 2*n_samples) #randomly select samples of size 2*n_trt_grp \n",
        "                                                    #for treatment group\n",
        "\n",
        "treatment_group15 = randomly_selected_samples[1:n_samples]\n",
        "treatment_group25 = randomly_selected_samples[(n_samples + 1):(2*n_samples)]\n",
        "\n",
        "treatment_group15\n",
        "treatment_group25"
      ],
      "metadata": {
        "colab": {
          "base_uri": "https://localhost:8080/",
          "height": 51
        },
        "id": "GbVxKwk-H6Yu",
        "outputId": "f4be5052-b320-4739-f99d-fc85f1bbddcf"
      },
      "execution_count": 27,
      "outputs": [
        {
          "output_type": "display_data",
          "data": {
            "text/plain": [
              "[1]  66 107 185 207"
            ],
            "text/latex": "\\begin{enumerate*}\n\\item 66\n\\item 107\n\\item 185\n\\item 207\n\\end{enumerate*}\n",
            "text/markdown": "1. 66\n2. 107\n3. 185\n4. 207\n\n\n",
            "text/html": [
              "<style>\n",
              ".list-inline {list-style: none; margin:0; padding: 0}\n",
              ".list-inline>li {display: inline-block}\n",
              ".list-inline>li:not(:last-child)::after {content: \"\\00b7\"; padding: 0 .5ex}\n",
              "</style>\n",
              "<ol class=list-inline><li>66</li><li>107</li><li>185</li><li>207</li></ol>\n"
            ]
          },
          "metadata": {}
        },
        {
          "output_type": "display_data",
          "data": {
            "text/plain": [
              "[1] 203 121  41  71"
            ],
            "text/latex": "\\begin{enumerate*}\n\\item 203\n\\item 121\n\\item 41\n\\item 71\n\\end{enumerate*}\n",
            "text/markdown": "1. 203\n2. 121\n3. 41\n4. 71\n\n\n",
            "text/html": [
              "<style>\n",
              ".list-inline {list-style: none; margin:0; padding: 0}\n",
              ".list-inline>li {display: inline-block}\n",
              ".list-inline>li:not(:last-child)::after {content: \"\\00b7\"; padding: 0 .5ex}\n",
              "</style>\n",
              "<ol class=list-inline><li>203</li><li>121</li><li>41</li><li>71</li></ol>\n"
            ]
          },
          "metadata": {}
        }
      ]
    },
    {
      "cell_type": "markdown",
      "source": [
        "Group 1 data"
      ],
      "metadata": {
        "id": "eWNXjPbtTbiE"
      }
    },
    {
      "cell_type": "code",
      "source": [
        "treatment_group1_data = genej_sim_data[treatment_group15]\n",
        "head(treatment_group1_data)\n",
        "write.csv(treatment_group1_data, \"10k_untreated_group15.csv\")"
      ],
      "metadata": {
        "colab": {
          "base_uri": "https://localhost:8080/",
          "height": 283
        },
        "id": "T6e_8tz6S_yu",
        "outputId": "1aaa4b82-d8f4-4972-a14e-bae84d31ded9"
      },
      "execution_count": 28,
      "outputs": [
        {
          "output_type": "display_data",
          "data": {
            "text/plain": [
              "      GSM1247268 GSM1247309 GSM1247387 GSM1247409\n",
              "17401  7.340714   7.394424   7.243478   7.101899 \n",
              "4775   4.394040   4.219564   4.489715   4.206203 \n",
              "13218  8.103082   7.992739   8.204715   7.663785 \n",
              "10539  6.606597   7.475056   6.824796   7.184802 \n",
              "8462   5.841540   6.006771   6.521505   5.825291 \n",
              "4050  11.438090  10.713660  10.065300  10.868320 "
            ],
            "text/latex": "A data.frame: 6 × 4\n\\begin{tabular}{r|llll}\n  & GSM1247268 & GSM1247309 & GSM1247387 & GSM1247409\\\\\n  & <dbl> & <dbl> & <dbl> & <dbl>\\\\\n\\hline\n\t17401 &  7.340714 &  7.394424 &  7.243478 &  7.101899\\\\\n\t4775 &  4.394040 &  4.219564 &  4.489715 &  4.206203\\\\\n\t13218 &  8.103082 &  7.992739 &  8.204715 &  7.663785\\\\\n\t10539 &  6.606597 &  7.475056 &  6.824796 &  7.184802\\\\\n\t8462 &  5.841540 &  6.006771 &  6.521505 &  5.825291\\\\\n\t4050 & 11.438090 & 10.713660 & 10.065300 & 10.868320\\\\\n\\end{tabular}\n",
            "text/markdown": "\nA data.frame: 6 × 4\n\n| <!--/--> | GSM1247268 &lt;dbl&gt; | GSM1247309 &lt;dbl&gt; | GSM1247387 &lt;dbl&gt; | GSM1247409 &lt;dbl&gt; |\n|---|---|---|---|---|\n| 17401 |  7.340714 |  7.394424 |  7.243478 |  7.101899 |\n| 4775 |  4.394040 |  4.219564 |  4.489715 |  4.206203 |\n| 13218 |  8.103082 |  7.992739 |  8.204715 |  7.663785 |\n| 10539 |  6.606597 |  7.475056 |  6.824796 |  7.184802 |\n| 8462 |  5.841540 |  6.006771 |  6.521505 |  5.825291 |\n| 4050 | 11.438090 | 10.713660 | 10.065300 | 10.868320 |\n\n",
            "text/html": [
              "<table class=\"dataframe\">\n",
              "<caption>A data.frame: 6 × 4</caption>\n",
              "<thead>\n",
              "\t<tr><th></th><th scope=col>GSM1247268</th><th scope=col>GSM1247309</th><th scope=col>GSM1247387</th><th scope=col>GSM1247409</th></tr>\n",
              "\t<tr><th></th><th scope=col>&lt;dbl&gt;</th><th scope=col>&lt;dbl&gt;</th><th scope=col>&lt;dbl&gt;</th><th scope=col>&lt;dbl&gt;</th></tr>\n",
              "</thead>\n",
              "<tbody>\n",
              "\t<tr><th scope=row>17401</th><td> 7.340714</td><td> 7.394424</td><td> 7.243478</td><td> 7.101899</td></tr>\n",
              "\t<tr><th scope=row>4775</th><td> 4.394040</td><td> 4.219564</td><td> 4.489715</td><td> 4.206203</td></tr>\n",
              "\t<tr><th scope=row>13218</th><td> 8.103082</td><td> 7.992739</td><td> 8.204715</td><td> 7.663785</td></tr>\n",
              "\t<tr><th scope=row>10539</th><td> 6.606597</td><td> 7.475056</td><td> 6.824796</td><td> 7.184802</td></tr>\n",
              "\t<tr><th scope=row>8462</th><td> 5.841540</td><td> 6.006771</td><td> 6.521505</td><td> 5.825291</td></tr>\n",
              "\t<tr><th scope=row>4050</th><td>11.438090</td><td>10.713660</td><td>10.065300</td><td>10.868320</td></tr>\n",
              "</tbody>\n",
              "</table>\n"
            ]
          },
          "metadata": {}
        }
      ]
    },
    {
      "cell_type": "markdown",
      "source": [
        "##**Simulation**"
      ],
      "metadata": {
        "id": "ZqILLd-ioD3r"
      }
    },
    {
      "cell_type": "markdown",
      "source": [
        "* Group 1 consists of EE genes and group 2 consists of 9k EE genes and 1k DE genes (genes with treatment effects)\n",
        "* treatment_group2_data consists of the 4 randomly selected samples (exp. units)"
      ],
      "metadata": {
        "id": "d6wkwzpZw2Ka"
      }
    },
    {
      "cell_type": "code",
      "source": [
        "treatment_group2_data = genej_sim_data[treatment_group25]\n",
        "dim(treatment_group2_data)\n",
        "head(treatment_group2_data)"
      ],
      "metadata": {
        "colab": {
          "base_uri": "https://localhost:8080/",
          "height": 300
        },
        "id": "HRDWitPVsKfA",
        "outputId": "5c87d4e5-e595-4950-be90-0d71dcc5b093"
      },
      "execution_count": 29,
      "outputs": [
        {
          "output_type": "display_data",
          "data": {
            "text/plain": [
              "[1] 10000     4"
            ],
            "text/latex": "\\begin{enumerate*}\n\\item 10000\n\\item 4\n\\end{enumerate*}\n",
            "text/markdown": "1. 10000\n2. 4\n\n\n",
            "text/html": [
              "<style>\n",
              ".list-inline {list-style: none; margin:0; padding: 0}\n",
              ".list-inline>li {display: inline-block}\n",
              ".list-inline>li:not(:last-child)::after {content: \"\\00b7\"; padding: 0 .5ex}\n",
              "</style>\n",
              "<ol class=list-inline><li>10000</li><li>4</li></ol>\n"
            ]
          },
          "metadata": {}
        },
        {
          "output_type": "display_data",
          "data": {
            "text/plain": [
              "      GSM1247405 GSM1247323 GSM1247243 GSM1247273\n",
              "17401  7.651242   7.306319   7.309459   7.154801 \n",
              "4775   3.900088   3.922012   4.181620   3.828347 \n",
              "13218  7.504424   8.022729   7.835551   7.735613 \n",
              "10539  6.808388   6.921469   7.536829   6.694359 \n",
              "8462   5.956972   6.108686   5.570955   5.662761 \n",
              "4050  11.412720  10.295770  11.124620  11.241340 "
            ],
            "text/latex": "A data.frame: 6 × 4\n\\begin{tabular}{r|llll}\n  & GSM1247405 & GSM1247323 & GSM1247243 & GSM1247273\\\\\n  & <dbl> & <dbl> & <dbl> & <dbl>\\\\\n\\hline\n\t17401 &  7.651242 &  7.306319 &  7.309459 &  7.154801\\\\\n\t4775 &  3.900088 &  3.922012 &  4.181620 &  3.828347\\\\\n\t13218 &  7.504424 &  8.022729 &  7.835551 &  7.735613\\\\\n\t10539 &  6.808388 &  6.921469 &  7.536829 &  6.694359\\\\\n\t8462 &  5.956972 &  6.108686 &  5.570955 &  5.662761\\\\\n\t4050 & 11.412720 & 10.295770 & 11.124620 & 11.241340\\\\\n\\end{tabular}\n",
            "text/markdown": "\nA data.frame: 6 × 4\n\n| <!--/--> | GSM1247405 &lt;dbl&gt; | GSM1247323 &lt;dbl&gt; | GSM1247243 &lt;dbl&gt; | GSM1247273 &lt;dbl&gt; |\n|---|---|---|---|---|\n| 17401 |  7.651242 |  7.306319 |  7.309459 |  7.154801 |\n| 4775 |  3.900088 |  3.922012 |  4.181620 |  3.828347 |\n| 13218 |  7.504424 |  8.022729 |  7.835551 |  7.735613 |\n| 10539 |  6.808388 |  6.921469 |  7.536829 |  6.694359 |\n| 8462 |  5.956972 |  6.108686 |  5.570955 |  5.662761 |\n| 4050 | 11.412720 | 10.295770 | 11.124620 | 11.241340 |\n\n",
            "text/html": [
              "<table class=\"dataframe\">\n",
              "<caption>A data.frame: 6 × 4</caption>\n",
              "<thead>\n",
              "\t<tr><th></th><th scope=col>GSM1247405</th><th scope=col>GSM1247323</th><th scope=col>GSM1247243</th><th scope=col>GSM1247273</th></tr>\n",
              "\t<tr><th></th><th scope=col>&lt;dbl&gt;</th><th scope=col>&lt;dbl&gt;</th><th scope=col>&lt;dbl&gt;</th><th scope=col>&lt;dbl&gt;</th></tr>\n",
              "</thead>\n",
              "<tbody>\n",
              "\t<tr><th scope=row>17401</th><td> 7.651242</td><td> 7.306319</td><td> 7.309459</td><td> 7.154801</td></tr>\n",
              "\t<tr><th scope=row>4775</th><td> 3.900088</td><td> 3.922012</td><td> 4.181620</td><td> 3.828347</td></tr>\n",
              "\t<tr><th scope=row>13218</th><td> 7.504424</td><td> 8.022729</td><td> 7.835551</td><td> 7.735613</td></tr>\n",
              "\t<tr><th scope=row>10539</th><td> 6.808388</td><td> 6.921469</td><td> 7.536829</td><td> 6.694359</td></tr>\n",
              "\t<tr><th scope=row>8462</th><td> 5.956972</td><td> 6.108686</td><td> 5.570955</td><td> 5.662761</td></tr>\n",
              "\t<tr><th scope=row>4050</th><td>11.412720</td><td>10.295770</td><td>11.124620</td><td>11.241340</td></tr>\n",
              "</tbody>\n",
              "</table>\n"
            ]
          },
          "metadata": {}
        }
      ]
    },
    {
      "cell_type": "markdown",
      "source": [
        "## **Simulation from 3.1**"
      ],
      "metadata": {
        "id": "p7EC16Z9oTBw"
      }
    },
    {
      "cell_type": "markdown",
      "source": [
        "We calculate the treatment effect by extracting the effect size of each gene j from a random normal distribution using genej_std (standard deviation for the 10k randomly selected genes from all experimental units in the population data)"
      ],
      "metadata": {
        "id": "9RAU2JHPxJnq"
      }
    },
    {
      "cell_type": "code",
      "source": [
        "set.seed(1)\n",
        "mu = 2*genej_std\n",
        "\n",
        "treatment_effect_j = rnorm(10000, mu, genej_std)\n",
        "length(treatment_effect_j)\n",
        "head(data.frame(treatment_effect_j))"
      ],
      "metadata": {
        "colab": {
          "base_uri": "https://localhost:8080/",
          "height": 300
        },
        "id": "q6TlNYr7ozju",
        "outputId": "83d1a5bb-315f-4930-9630-a4e886c0235e"
      },
      "execution_count": 30,
      "outputs": [
        {
          "output_type": "display_data",
          "data": {
            "text/plain": [
              "[1] 10000"
            ],
            "text/latex": "10000",
            "text/markdown": "10000",
            "text/html": [
              "10000"
            ]
          },
          "metadata": {}
        },
        {
          "output_type": "display_data",
          "data": {
            "text/plain": [
              "  treatment_effect_j\n",
              "1 0.3073851         \n",
              "2 0.4506590         \n",
              "3 0.3429716         \n",
              "4 2.1515638         \n",
              "5 0.7248141         \n",
              "6 1.0051030         "
            ],
            "text/latex": "A data.frame: 6 × 1\n\\begin{tabular}{r|l}\n  & treatment\\_effect\\_j\\\\\n  & <dbl>\\\\\n\\hline\n\t1 & 0.3073851\\\\\n\t2 & 0.4506590\\\\\n\t3 & 0.3429716\\\\\n\t4 & 2.1515638\\\\\n\t5 & 0.7248141\\\\\n\t6 & 1.0051030\\\\\n\\end{tabular}\n",
            "text/markdown": "\nA data.frame: 6 × 1\n\n| <!--/--> | treatment_effect_j &lt;dbl&gt; |\n|---|---|\n| 1 | 0.3073851 |\n| 2 | 0.4506590 |\n| 3 | 0.3429716 |\n| 4 | 2.1515638 |\n| 5 | 0.7248141 |\n| 6 | 1.0051030 |\n\n",
            "text/html": [
              "<table class=\"dataframe\">\n",
              "<caption>A data.frame: 6 × 1</caption>\n",
              "<thead>\n",
              "\t<tr><th></th><th scope=col>treatment_effect_j</th></tr>\n",
              "\t<tr><th></th><th scope=col>&lt;dbl&gt;</th></tr>\n",
              "</thead>\n",
              "<tbody>\n",
              "\t<tr><th scope=row>1</th><td>0.3073851</td></tr>\n",
              "\t<tr><th scope=row>2</th><td>0.4506590</td></tr>\n",
              "\t<tr><th scope=row>3</th><td>0.3429716</td></tr>\n",
              "\t<tr><th scope=row>4</th><td>2.1515638</td></tr>\n",
              "\t<tr><th scope=row>5</th><td>0.7248141</td></tr>\n",
              "\t<tr><th scope=row>6</th><td>1.0051030</td></tr>\n",
              "</tbody>\n",
              "</table>\n"
            ]
          },
          "metadata": {}
        }
      ]
    },
    {
      "cell_type": "markdown",
      "source": [
        "## **DE genes**"
      ],
      "metadata": {
        "id": "n3MHTsO6shYH"
      }
    },
    {
      "cell_type": "markdown",
      "source": [
        "DE genes are created by adding treatment effects extracted to each gene in group 2"
      ],
      "metadata": {
        "id": "4obGjAza0LM6"
      }
    },
    {
      "cell_type": "code",
      "source": [
        "dim(treatment_group2_data)\n",
        "de_treatment_group2 = treatment_group2_data + treatment_effect_j\n",
        "head(de_treatment_group2)"
      ],
      "metadata": {
        "colab": {
          "base_uri": "https://localhost:8080/",
          "height": 300
        },
        "id": "Bk3FIH-utO_T",
        "outputId": "ae9c28eb-c69e-4b31-8fe1-1c5cfd50696a"
      },
      "execution_count": 31,
      "outputs": [
        {
          "output_type": "display_data",
          "data": {
            "text/plain": [
              "[1] 10000     4"
            ],
            "text/latex": "\\begin{enumerate*}\n\\item 10000\n\\item 4\n\\end{enumerate*}\n",
            "text/markdown": "1. 10000\n2. 4\n\n\n",
            "text/html": [
              "<style>\n",
              ".list-inline {list-style: none; margin:0; padding: 0}\n",
              ".list-inline>li {display: inline-block}\n",
              ".list-inline>li:not(:last-child)::after {content: \"\\00b7\"; padding: 0 .5ex}\n",
              "</style>\n",
              "<ol class=list-inline><li>10000</li><li>4</li></ol>\n"
            ]
          },
          "metadata": {}
        },
        {
          "output_type": "display_data",
          "data": {
            "text/plain": [
              "      GSM1247405 GSM1247323 GSM1247243 GSM1247273\n",
              "17401  7.958627   7.613704   7.616844   7.462186 \n",
              "4775   4.350747   4.372671   4.632279   4.279006 \n",
              "13218  7.847396   8.365701   8.178523   8.078585 \n",
              "10539  8.959952   9.073033   9.688393   8.845923 \n",
              "8462   6.681786   6.833500   6.295769   6.387575 \n",
              "4050  12.417823  11.300873  12.129723  12.246443 "
            ],
            "text/latex": "A data.frame: 6 × 4\n\\begin{tabular}{r|llll}\n  & GSM1247405 & GSM1247323 & GSM1247243 & GSM1247273\\\\\n  & <dbl> & <dbl> & <dbl> & <dbl>\\\\\n\\hline\n\t17401 &  7.958627 &  7.613704 &  7.616844 &  7.462186\\\\\n\t4775 &  4.350747 &  4.372671 &  4.632279 &  4.279006\\\\\n\t13218 &  7.847396 &  8.365701 &  8.178523 &  8.078585\\\\\n\t10539 &  8.959952 &  9.073033 &  9.688393 &  8.845923\\\\\n\t8462 &  6.681786 &  6.833500 &  6.295769 &  6.387575\\\\\n\t4050 & 12.417823 & 11.300873 & 12.129723 & 12.246443\\\\\n\\end{tabular}\n",
            "text/markdown": "\nA data.frame: 6 × 4\n\n| <!--/--> | GSM1247405 &lt;dbl&gt; | GSM1247323 &lt;dbl&gt; | GSM1247243 &lt;dbl&gt; | GSM1247273 &lt;dbl&gt; |\n|---|---|---|---|---|\n| 17401 |  7.958627 |  7.613704 |  7.616844 |  7.462186 |\n| 4775 |  4.350747 |  4.372671 |  4.632279 |  4.279006 |\n| 13218 |  7.847396 |  8.365701 |  8.178523 |  8.078585 |\n| 10539 |  8.959952 |  9.073033 |  9.688393 |  8.845923 |\n| 8462 |  6.681786 |  6.833500 |  6.295769 |  6.387575 |\n| 4050 | 12.417823 | 11.300873 | 12.129723 | 12.246443 |\n\n",
            "text/html": [
              "<table class=\"dataframe\">\n",
              "<caption>A data.frame: 6 × 4</caption>\n",
              "<thead>\n",
              "\t<tr><th></th><th scope=col>GSM1247405</th><th scope=col>GSM1247323</th><th scope=col>GSM1247243</th><th scope=col>GSM1247273</th></tr>\n",
              "\t<tr><th></th><th scope=col>&lt;dbl&gt;</th><th scope=col>&lt;dbl&gt;</th><th scope=col>&lt;dbl&gt;</th><th scope=col>&lt;dbl&gt;</th></tr>\n",
              "</thead>\n",
              "<tbody>\n",
              "\t<tr><th scope=row>17401</th><td> 7.958627</td><td> 7.613704</td><td> 7.616844</td><td> 7.462186</td></tr>\n",
              "\t<tr><th scope=row>4775</th><td> 4.350747</td><td> 4.372671</td><td> 4.632279</td><td> 4.279006</td></tr>\n",
              "\t<tr><th scope=row>13218</th><td> 7.847396</td><td> 8.365701</td><td> 8.178523</td><td> 8.078585</td></tr>\n",
              "\t<tr><th scope=row>10539</th><td> 8.959952</td><td> 9.073033</td><td> 9.688393</td><td> 8.845923</td></tr>\n",
              "\t<tr><th scope=row>8462</th><td> 6.681786</td><td> 6.833500</td><td> 6.295769</td><td> 6.387575</td></tr>\n",
              "\t<tr><th scope=row>4050</th><td>12.417823</td><td>11.300873</td><td>12.129723</td><td>12.246443</td></tr>\n",
              "</tbody>\n",
              "</table>\n"
            ]
          },
          "metadata": {}
        }
      ]
    },
    {
      "cell_type": "markdown",
      "source": [
        "we randomly selected 1000 genes with treatment effect from de_treatment_group2"
      ],
      "metadata": {
        "id": "gGtOVvBA1S5d"
      }
    },
    {
      "cell_type": "code",
      "source": [
        "set.seed(1)\n",
        "n_de = 1000 \n",
        "n_treated_genes_grp2 = nrow(de_treatment_group2)\n",
        "\n",
        "#we extract 1000 genes from DE_treatment_group2 (genes with treatment effects)\n",
        "de_genes_index = sample(n_treated_genes_grp2, n_de)\n",
        "\n",
        "#we copied untreated (genes without effects) genes from treatment_group2_data\n",
        "treated_genes_group2 = treatment_group2_data\n",
        "\n",
        "#we replaced the 1000 untreated genes (without treatment effects) with the corresponding treated genes(with treatment effects)\n",
        "treated_genes_group2[de_genes_index, ] = de_treatment_group2[de_genes_index, ]\n",
        "\n",
        "dim(treated_genes_group2)\n",
        "head(de_genes_index)\n"
      ],
      "metadata": {
        "colab": {
          "base_uri": "https://localhost:8080/",
          "height": 51
        },
        "id": "Nf9PE2-Jn8Fr",
        "outputId": "a4964381-19c3-426e-bfff-1bf72cb31c02"
      },
      "execution_count": 32,
      "outputs": [
        {
          "output_type": "display_data",
          "data": {
            "text/plain": [
              "[1] 10000     4"
            ],
            "text/latex": "\\begin{enumerate*}\n\\item 10000\n\\item 4\n\\end{enumerate*}\n",
            "text/markdown": "1. 10000\n2. 4\n\n\n",
            "text/html": [
              "<style>\n",
              ".list-inline {list-style: none; margin:0; padding: 0}\n",
              ".list-inline>li {display: inline-block}\n",
              ".list-inline>li:not(:last-child)::after {content: \"\\00b7\"; padding: 0 .5ex}\n",
              "</style>\n",
              "<ol class=list-inline><li>10000</li><li>4</li></ol>\n"
            ]
          },
          "metadata": {}
        },
        {
          "output_type": "display_data",
          "data": {
            "text/plain": [
              "[1] 1017 8004 4775 9725 8462 4050"
            ],
            "text/latex": "\\begin{enumerate*}\n\\item 1017\n\\item 8004\n\\item 4775\n\\item 9725\n\\item 8462\n\\item 4050\n\\end{enumerate*}\n",
            "text/markdown": "1. 1017\n2. 8004\n3. 4775\n4. 9725\n5. 8462\n6. 4050\n\n\n",
            "text/html": [
              "<style>\n",
              ".list-inline {list-style: none; margin:0; padding: 0}\n",
              ".list-inline>li {display: inline-block}\n",
              ".list-inline>li:not(:last-child)::after {content: \"\\00b7\"; padding: 0 .5ex}\n",
              "</style>\n",
              "<ol class=list-inline><li>1017</li><li>8004</li><li>4775</li><li>9725</li><li>8462</li><li>4050</li></ol>\n"
            ]
          },
          "metadata": {}
        }
      ]
    },
    {
      "cell_type": "code",
      "source": [
        "head(de_genes_index)"
      ],
      "metadata": {
        "id": "Xsdsm77h15H4",
        "outputId": "db349cda-d7b9-4085-d76d-6ed6a16d4ea0",
        "colab": {
          "base_uri": "https://localhost:8080/",
          "height": 34
        }
      },
      "execution_count": 33,
      "outputs": [
        {
          "output_type": "display_data",
          "data": {
            "text/plain": [
              "[1] 1017 8004 4775 9725 8462 4050"
            ],
            "text/latex": "\\begin{enumerate*}\n\\item 1017\n\\item 8004\n\\item 4775\n\\item 9725\n\\item 8462\n\\item 4050\n\\end{enumerate*}\n",
            "text/markdown": "1. 1017\n2. 8004\n3. 4775\n4. 9725\n5. 8462\n6. 4050\n\n\n",
            "text/html": [
              "<style>\n",
              ".list-inline {list-style: none; margin:0; padding: 0}\n",
              ".list-inline>li {display: inline-block}\n",
              ".list-inline>li:not(:last-child)::after {content: \"\\00b7\"; padding: 0 .5ex}\n",
              "</style>\n",
              "<ol class=list-inline><li>1017</li><li>8004</li><li>4775</li><li>9725</li><li>8462</li><li>4050</li></ol>\n"
            ]
          },
          "metadata": {}
        }
      ]
    },
    {
      "cell_type": "markdown",
      "source": [
        "**Summary of Group 2 simulation**\n",
        "\n",
        "m00 - number of EE genes (consists of 9000 genes)\n",
        "\n",
        "m11 - number of DE genes (1000 genes)\n"
      ],
      "metadata": {
        "id": "BizhJZB93heZ"
      }
    },
    {
      "cell_type": "code",
      "source": [
        "m00 = treated_genes_group2[-de_genes_index, ]\n",
        "m11 = treated_genes_group2[de_genes_index, ]\n",
        "treatment_effect_size_grp2 = treatment_effect_j[de_genes_index]\n",
        "write.csv(treated_genes_group2, \"10k_treated_group25.csv\")\n",
        "dim(m00)\n",
        "dim(m11)\n",
        "length(treatment_effect_size_grp2)"
      ],
      "metadata": {
        "colab": {
          "base_uri": "https://localhost:8080/",
          "height": 68
        },
        "id": "eCMZ_f0Q04E8",
        "outputId": "3df0320c-bf5d-408a-cdda-3755974c6e96"
      },
      "execution_count": 34,
      "outputs": [
        {
          "output_type": "display_data",
          "data": {
            "text/plain": [
              "[1] 9000    4"
            ],
            "text/latex": "\\begin{enumerate*}\n\\item 9000\n\\item 4\n\\end{enumerate*}\n",
            "text/markdown": "1. 9000\n2. 4\n\n\n",
            "text/html": [
              "<style>\n",
              ".list-inline {list-style: none; margin:0; padding: 0}\n",
              ".list-inline>li {display: inline-block}\n",
              ".list-inline>li:not(:last-child)::after {content: \"\\00b7\"; padding: 0 .5ex}\n",
              "</style>\n",
              "<ol class=list-inline><li>9000</li><li>4</li></ol>\n"
            ]
          },
          "metadata": {}
        },
        {
          "output_type": "display_data",
          "data": {
            "text/plain": [
              "[1] 1000    4"
            ],
            "text/latex": "\\begin{enumerate*}\n\\item 1000\n\\item 4\n\\end{enumerate*}\n",
            "text/markdown": "1. 1000\n2. 4\n\n\n",
            "text/html": [
              "<style>\n",
              ".list-inline {list-style: none; margin:0; padding: 0}\n",
              ".list-inline>li {display: inline-block}\n",
              ".list-inline>li:not(:last-child)::after {content: \"\\00b7\"; padding: 0 .5ex}\n",
              "</style>\n",
              "<ol class=list-inline><li>1000</li><li>4</li></ol>\n"
            ]
          },
          "metadata": {}
        },
        {
          "output_type": "display_data",
          "data": {
            "text/plain": [
              "[1] 1000"
            ],
            "text/latex": "1000",
            "text/markdown": "1000",
            "text/html": [
              "1000"
            ]
          },
          "metadata": {}
        }
      ]
    },
    {
      "cell_type": "markdown",
      "source": [
        "## Not part"
      ],
      "metadata": {
        "id": "mOdoSrbM6JQF"
      }
    },
    {
      "cell_type": "code",
      "source": [
        "# set.seed(1)\n",
        "# mu = 2\n",
        "# for (i in 1:length(df_m11_genes_std[1][,1])){\n",
        "\n",
        "#   #print(df_m11_genes_std[1][i,1])\n",
        "  \n",
        "#   genes_treatment_effect <- rnorm(1000, mu*df_m11_genes_std[1][i,1], df_m11_genes_std[1][i,1])\n",
        "  \n",
        "# }\n",
        "\n",
        "# head(genes_treatment_effect)\n",
        "# gene_j_effect = data.frame(genes_treatment_effect)\n",
        "# head(gene_j_effect)\n",
        "# dim(gene_j_effect)"
      ],
      "metadata": {
        "id": "2-AjSqaK1Cn1"
      },
      "execution_count": 35,
      "outputs": []
    },
    {
      "cell_type": "code",
      "source": [
        "# set.seed(1)\n",
        "# gene_j_effect_fn <- function(n, mu, std_data){\n",
        "#   mu = mu\n",
        "#   for (i in 1:length(std_data[,1])){\n",
        "    \n",
        "#     genes_treatment_effect2 <- rnorm(n, mu*std_data[i,1], std_data[i,1])\n",
        "#     return (genes_treatment_effect2)\n",
        "#   }\n",
        "# }\n",
        "\n",
        "# head(gene_j_effect_fn(1000, 2, df_m11_genes_std[1]))\n"
      ],
      "metadata": {
        "id": "kxDUYUkVPeqC"
      },
      "execution_count": 36,
      "outputs": []
    }
  ]
}