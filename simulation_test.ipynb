{
  "nbformat": 4,
  "nbformat_minor": 0,
  "metadata": {
    "colab": {
      "name": "simulation_test.ipynb",
      "provenance": [],
      "collapsed_sections": [],
      "authorship_tag": "ABX9TyOkgOsg1u6sgCcwcGVDY7ON",
      "include_colab_link": true
    },
    "kernelspec": {
      "name": "python3",
      "display_name": "Python 3"
    },
    "language_info": {
      "name": "python"
    }
  },
  "cells": [
    {
      "cell_type": "markdown",
      "metadata": {
        "id": "view-in-github",
        "colab_type": "text"
      },
      "source": [
        "<a href=\"https://colab.research.google.com/github/almedida/thesis/blob/main/simulation_test.ipynb\" target=\"_parent\"><img src=\"https://colab.research.google.com/assets/colab-badge.svg\" alt=\"Open In Colab\"/></a>"
      ]
    },
    {
      "cell_type": "code",
      "metadata": {
        "id": "HKTQMOMKh6WG"
      },
      "source": [
        "########### Testing MLE estimates with different correlations ###############\n",
        "\n",
        "rho_test=0.7\n",
        "dat0 <- mvrnorm(n=5000, mu=c(0,0), Sigma = matrix(c(1, rho_test, rho_test, 1), 2, 2))\n",
        "dat1 <- dat0[(dat0[,1]>=0.524)&(dat0[,2]>=0.126),]\n",
        "dat2 <- as.data.frame(dat1)\n",
        "\n",
        "# row.names(dat1)=NULL\n",
        "row.names(dat2) = NULL\n",
        "dim(dat2)\n",
        "\n",
        "colnames(dat2) = c(\"simB\", \"simM\")\n",
        "head(dat2, 2)"
      ],
      "execution_count": null,
      "outputs": []
    },
    {
      "cell_type": "code",
      "metadata": {
        "id": "2pTFtFQBjGgg"
      },
      "source": [
        "density_test = function(x, rho_test)\n",
        "{\n",
        "  sigma = matrix(c(1, rho_test, rho_test, 1), 2, 2)\n",
        "  z = dtmvnorm(x, mean = c(0,0), sigma = sigma, lower = c(0.524, 0.126))\n",
        "  z\n",
        "}"
      ],
      "execution_count": null,
      "outputs": []
    },
    {
      "cell_type": "code",
      "metadata": {
        "id": "a7pfdc-hjK7m"
      },
      "source": [
        "# testing with simulated data\n",
        "# log likelihood of the joint densities\n",
        "log_likelihood_test = function(rho_test){\n",
        "  \n",
        "  joint_likelihood_test= dat2 %>% split(.$simM) %>% map_dfr(~density_test(c(.$simB,.$simM),rho_test))    \n",
        "  return(-sum(log(joint_likelihood_test)))\n",
        "  \n",
        "}"
      ],
      "execution_count": null,
      "outputs": []
    },
    {
      "cell_type": "code",
      "metadata": {
        "id": "GsPW4v27jNj8"
      },
      "source": [
        "#MLE of the log likelihood test function\n",
        "optimal_rho_test = optimize(log_likelihood_test, lower = -1, upper = 1 )\n",
        "optimal_rho_test = as.data.frame(optimal_rho_test)\n",
        "optimal_rho_test"
      ],
      "execution_count": null,
      "outputs": []
    },
    {
      "cell_type": "code",
      "metadata": {
        "id": "zbQ6Vj8rjQXR"
      },
      "source": [
        "#probability of a random variable greater than lambda 1 and 2 \n",
        "\n",
        "rho = as.numeric(optimal_rho[1])\n",
        "prob_val = pmvnorm(lower=c(min_z1, min_z2), upper=c(Inf, Inf), mean=c(0,0), sigma = matrix(c(1, rho, rho, 1), 2, 2))\n",
        "round(prob_val, 3)"
      ],
      "execution_count": null,
      "outputs": []
    }
  ]
}