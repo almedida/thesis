{
  "nbformat": 4,
  "nbformat_minor": 0,
  "metadata": {
    "colab": {
      "name": "t_test.ipynb",
      "provenance": [],
      "authorship_tag": "ABX9TyPFXfythflzIwdo62kOTV30",
      "include_colab_link": true
    },
    "kernelspec": {
      "name": "ir",
      "display_name": "R"
    },
    "language_info": {
      "name": "R"
    }
  },
  "cells": [
    {
      "cell_type": "markdown",
      "metadata": {
        "id": "view-in-github",
        "colab_type": "text"
      },
      "source": [
        "<a href=\"https://colab.research.google.com/github/almedida/thesis/blob/main/t_test.ipynb\" target=\"_parent\"><img src=\"https://colab.research.google.com/assets/colab-badge.svg\" alt=\"Open In Colab\"/></a>"
      ]
    },
    {
      "cell_type": "code",
      "metadata": {
        "colab": {
          "base_uri": "https://localhost:8080/"
        },
        "id": "s2fJk8K3QVPl",
        "outputId": "920f7dbd-8c45-4eb5-902c-d7630943281f"
      },
      "source": [
        "install.packages('pacman')\n",
        "\n",
        "library(pacman, devtools)\n",
        "\n",
        "p_load(\"tidyverse\", \"matrixTests\")\n"
      ],
      "execution_count": 4,
      "outputs": [
        {
          "output_type": "stream",
          "name": "stderr",
          "text": [
            "Installing package into ‘/usr/local/lib/R/site-library’\n",
            "(as ‘lib’ is unspecified)\n",
            "\n",
            "Installing package into ‘/usr/local/lib/R/site-library’\n",
            "(as ‘lib’ is unspecified)\n",
            "\n",
            "also installing the dependency ‘matrixStats’\n",
            "\n",
            "\n",
            "\n",
            "matrixTests installed\n",
            "\n"
          ]
        }
      ]
    },
    {
      "cell_type": "code",
      "metadata": {
        "colab": {
          "base_uri": "https://localhost:8080/",
          "height": 181
        },
        "id": "ildnWqiRQTvV",
        "outputId": "31708837-58af-46b4-939e-37dff92ec58e"
      },
      "source": [
        "\n",
        "#load dataset on data_df\n",
        "dataExpr = read.table(\"datExprCBA.csv\", header= TRUE, sep=\",\")\n"
      ],
      "execution_count": 36,
      "outputs": [
        {
          "output_type": "stream",
          "name": "stderr",
          "text": [
            "Warning message in file(file, \"rt\"):\n",
            "“cannot open file 'datExprBALBTECH.csv': No such file or directory”\n"
          ]
        },
        {
          "output_type": "error",
          "ename": "ERROR",
          "evalue": "ignored",
          "traceback": [
            "Error in file(file, \"rt\"): cannot open the connection\nTraceback:\n",
            "1. read.table(\"datExprBALBTECH.csv\", header = TRUE, sep = \",\")",
            "2. file(file, \"rt\")"
          ]
        }
      ]
    },
    {
      "cell_type": "code",
      "metadata": {
        "id": "dJnMSyr-lVDZ"
      },
      "source": [
        "dataExpr2 = read.table(\"datExprBALBTech.csv\", header= TRUE, sep=\",\")"
      ],
      "execution_count": 37,
      "outputs": []
    },
    {
      "cell_type": "code",
      "metadata": {
        "id": "PUPOILxkVg-w"
      },
      "source": [
        "dataExprCBA_df <- as.data.frame(as.matrix(dataExpr))"
      ],
      "execution_count": 19,
      "outputs": []
    },
    {
      "cell_type": "code",
      "metadata": {
        "id": "iIb9azrHlYNe"
      },
      "source": [
        "dataExprBALBTech_df <- as.data.frame(as.matrix(dataExpr2))"
      ],
      "execution_count": 38,
      "outputs": []
    },
    {
      "cell_type": "code",
      "metadata": {
        "colab": {
          "base_uri": "https://localhost:8080/",
          "height": 541
        },
        "id": "zcN866Y-V1Yq",
        "outputId": "5d89cea4-b5cb-485f-cf22-775f64083fe2"
      },
      "source": [
        "head(dataExprCBA_df, 5)\n",
        "\n",
        "dim(dataExprCBA_df)\n",
        "\n",
        "head(dataExprBALBTech_df, 5)\n",
        "\n",
        "dim(dataExprBALBTech_df)"
      ],
      "execution_count": 39,
      "outputs": [
        {
          "output_type": "display_data",
          "data": {
            "text/plain": [
              "  CBA_Liv_Con_A_s1 CBA_Liv_Con_A_s2 CBA_Liv_Con_A_s3 CBA_Liv_Con_A_s4\n",
              "1 11.733064        11.811948        12.186571        11.865383       \n",
              "2 11.183815        11.573009        11.670170        10.761185       \n",
              "3  5.295900         4.965490         5.136521         5.238248       \n",
              "4  9.558426         9.591832         9.553392         9.848268       \n",
              "5  7.501710         6.974286         7.032823         6.927557       \n",
              "  CBA_Liv_Con_A_s5 CBA_Liv_Con_A_s6 CBA_Liv_Diet_A_d1 CBA_Liv_Diet_A_d2\n",
              "1 11.829552        11.964246        12.027946         12.258315        \n",
              "2 10.923126        11.151019        11.004045         10.918036        \n",
              "3  5.165626         6.021186         5.338915          5.410364        \n",
              "4  9.491318         9.628843         9.831163          9.721065        \n",
              "5  7.995659         7.202555         7.395784          7.707718        \n",
              "  CBA_Liv_Diet_A_d3 CBA_Liv_Diet_A_d4 ⋯ CBA.Kid_Con_A_s2 CBA.Kid_Con_A_s3\n",
              "1 12.053265         12.413971         ⋯ 11.936553        11.683003       \n",
              "2 11.008520         11.083123         ⋯ 12.540704        12.375846       \n",
              "3  5.440630          5.745109         ⋯  5.474626         4.951659       \n",
              "4  9.679919          9.736403         ⋯  8.972986         8.898291       \n",
              "5  7.111960          7.412790         ⋯  6.575190         6.168843       \n",
              "  CBA.Kid_Con_A_s4 CBA.Kid_Con_A_s5 CBA.Kid_Con_A_s6 CBA.Kid_Diet_A_d1\n",
              "1 11.823132        11.946154        11.674241        11.696268        \n",
              "2 12.541782        12.319808        12.229561        12.105306        \n",
              "3  5.349766         5.374776         5.386558         5.652185        \n",
              "4  8.848124         8.971987         9.303008         9.284600        \n",
              "5  6.798275         6.420040         7.576921         6.379776        \n",
              "  CBA.Kid_Diet_A_d2 CBA.Kid_Diet_A_d3 CBA.Kid_Diet_A_d5 CBA.Kid_Diet_A_d6\n",
              "1 11.912039         11.670173         11.847655         11.805205        \n",
              "2 12.284002         12.036367         12.010170         12.144926        \n",
              "3  5.799797          4.988294          4.661140          5.230747        \n",
              "4  9.166966          8.923816          8.997590          9.212134        \n",
              "5  8.107456          6.392961          6.224068          6.303201        "
            ],
            "text/latex": "A data.frame: 5 × 23\n\\begin{tabular}{r|lllllllllllllllllllll}\n  & CBA\\_Liv\\_Con\\_A\\_s1 & CBA\\_Liv\\_Con\\_A\\_s2 & CBA\\_Liv\\_Con\\_A\\_s3 & CBA\\_Liv\\_Con\\_A\\_s4 & CBA\\_Liv\\_Con\\_A\\_s5 & CBA\\_Liv\\_Con\\_A\\_s6 & CBA\\_Liv\\_Diet\\_A\\_d1 & CBA\\_Liv\\_Diet\\_A\\_d2 & CBA\\_Liv\\_Diet\\_A\\_d3 & CBA\\_Liv\\_Diet\\_A\\_d4 & ⋯ & CBA.Kid\\_Con\\_A\\_s2 & CBA.Kid\\_Con\\_A\\_s3 & CBA.Kid\\_Con\\_A\\_s4 & CBA.Kid\\_Con\\_A\\_s5 & CBA.Kid\\_Con\\_A\\_s6 & CBA.Kid\\_Diet\\_A\\_d1 & CBA.Kid\\_Diet\\_A\\_d2 & CBA.Kid\\_Diet\\_A\\_d3 & CBA.Kid\\_Diet\\_A\\_d5 & CBA.Kid\\_Diet\\_A\\_d6\\\\\n  & <dbl> & <dbl> & <dbl> & <dbl> & <dbl> & <dbl> & <dbl> & <dbl> & <dbl> & <dbl> & ⋯ & <dbl> & <dbl> & <dbl> & <dbl> & <dbl> & <dbl> & <dbl> & <dbl> & <dbl> & <dbl>\\\\\n\\hline\n\t1 & 11.733064 & 11.811948 & 12.186571 & 11.865383 & 11.829552 & 11.964246 & 12.027946 & 12.258315 & 12.053265 & 12.413971 & ⋯ & 11.936553 & 11.683003 & 11.823132 & 11.946154 & 11.674241 & 11.696268 & 11.912039 & 11.670173 & 11.847655 & 11.805205\\\\\n\t2 & 11.183815 & 11.573009 & 11.670170 & 10.761185 & 10.923126 & 11.151019 & 11.004045 & 10.918036 & 11.008520 & 11.083123 & ⋯ & 12.540704 & 12.375846 & 12.541782 & 12.319808 & 12.229561 & 12.105306 & 12.284002 & 12.036367 & 12.010170 & 12.144926\\\\\n\t3 &  5.295900 &  4.965490 &  5.136521 &  5.238248 &  5.165626 &  6.021186 &  5.338915 &  5.410364 &  5.440630 &  5.745109 & ⋯ &  5.474626 &  4.951659 &  5.349766 &  5.374776 &  5.386558 &  5.652185 &  5.799797 &  4.988294 &  4.661140 &  5.230747\\\\\n\t4 &  9.558426 &  9.591832 &  9.553392 &  9.848268 &  9.491318 &  9.628843 &  9.831163 &  9.721065 &  9.679919 &  9.736403 & ⋯ &  8.972986 &  8.898291 &  8.848124 &  8.971987 &  9.303008 &  9.284600 &  9.166966 &  8.923816 &  8.997590 &  9.212134\\\\\n\t5 &  7.501710 &  6.974286 &  7.032823 &  6.927557 &  7.995659 &  7.202555 &  7.395784 &  7.707718 &  7.111960 &  7.412790 & ⋯ &  6.575190 &  6.168843 &  6.798275 &  6.420040 &  7.576921 &  6.379776 &  8.107456 &  6.392961 &  6.224068 &  6.303201\\\\\n\\end{tabular}\n",
            "text/markdown": "\nA data.frame: 5 × 23\n\n| <!--/--> | CBA_Liv_Con_A_s1 &lt;dbl&gt; | CBA_Liv_Con_A_s2 &lt;dbl&gt; | CBA_Liv_Con_A_s3 &lt;dbl&gt; | CBA_Liv_Con_A_s4 &lt;dbl&gt; | CBA_Liv_Con_A_s5 &lt;dbl&gt; | CBA_Liv_Con_A_s6 &lt;dbl&gt; | CBA_Liv_Diet_A_d1 &lt;dbl&gt; | CBA_Liv_Diet_A_d2 &lt;dbl&gt; | CBA_Liv_Diet_A_d3 &lt;dbl&gt; | CBA_Liv_Diet_A_d4 &lt;dbl&gt; | ⋯ ⋯ | CBA.Kid_Con_A_s2 &lt;dbl&gt; | CBA.Kid_Con_A_s3 &lt;dbl&gt; | CBA.Kid_Con_A_s4 &lt;dbl&gt; | CBA.Kid_Con_A_s5 &lt;dbl&gt; | CBA.Kid_Con_A_s6 &lt;dbl&gt; | CBA.Kid_Diet_A_d1 &lt;dbl&gt; | CBA.Kid_Diet_A_d2 &lt;dbl&gt; | CBA.Kid_Diet_A_d3 &lt;dbl&gt; | CBA.Kid_Diet_A_d5 &lt;dbl&gt; | CBA.Kid_Diet_A_d6 &lt;dbl&gt; |\n|---|---|---|---|---|---|---|---|---|---|---|---|---|---|---|---|---|---|---|---|---|---|\n| 1 | 11.733064 | 11.811948 | 12.186571 | 11.865383 | 11.829552 | 11.964246 | 12.027946 | 12.258315 | 12.053265 | 12.413971 | ⋯ | 11.936553 | 11.683003 | 11.823132 | 11.946154 | 11.674241 | 11.696268 | 11.912039 | 11.670173 | 11.847655 | 11.805205 |\n| 2 | 11.183815 | 11.573009 | 11.670170 | 10.761185 | 10.923126 | 11.151019 | 11.004045 | 10.918036 | 11.008520 | 11.083123 | ⋯ | 12.540704 | 12.375846 | 12.541782 | 12.319808 | 12.229561 | 12.105306 | 12.284002 | 12.036367 | 12.010170 | 12.144926 |\n| 3 |  5.295900 |  4.965490 |  5.136521 |  5.238248 |  5.165626 |  6.021186 |  5.338915 |  5.410364 |  5.440630 |  5.745109 | ⋯ |  5.474626 |  4.951659 |  5.349766 |  5.374776 |  5.386558 |  5.652185 |  5.799797 |  4.988294 |  4.661140 |  5.230747 |\n| 4 |  9.558426 |  9.591832 |  9.553392 |  9.848268 |  9.491318 |  9.628843 |  9.831163 |  9.721065 |  9.679919 |  9.736403 | ⋯ |  8.972986 |  8.898291 |  8.848124 |  8.971987 |  9.303008 |  9.284600 |  9.166966 |  8.923816 |  8.997590 |  9.212134 |\n| 5 |  7.501710 |  6.974286 |  7.032823 |  6.927557 |  7.995659 |  7.202555 |  7.395784 |  7.707718 |  7.111960 |  7.412790 | ⋯ |  6.575190 |  6.168843 |  6.798275 |  6.420040 |  7.576921 |  6.379776 |  8.107456 |  6.392961 |  6.224068 |  6.303201 |\n\n",
            "text/html": [
              "<table class=\"dataframe\">\n",
              "<caption>A data.frame: 5 × 23</caption>\n",
              "<thead>\n",
              "\t<tr><th></th><th scope=col>CBA_Liv_Con_A_s1</th><th scope=col>CBA_Liv_Con_A_s2</th><th scope=col>CBA_Liv_Con_A_s3</th><th scope=col>CBA_Liv_Con_A_s4</th><th scope=col>CBA_Liv_Con_A_s5</th><th scope=col>CBA_Liv_Con_A_s6</th><th scope=col>CBA_Liv_Diet_A_d1</th><th scope=col>CBA_Liv_Diet_A_d2</th><th scope=col>CBA_Liv_Diet_A_d3</th><th scope=col>CBA_Liv_Diet_A_d4</th><th scope=col>⋯</th><th scope=col>CBA.Kid_Con_A_s2</th><th scope=col>CBA.Kid_Con_A_s3</th><th scope=col>CBA.Kid_Con_A_s4</th><th scope=col>CBA.Kid_Con_A_s5</th><th scope=col>CBA.Kid_Con_A_s6</th><th scope=col>CBA.Kid_Diet_A_d1</th><th scope=col>CBA.Kid_Diet_A_d2</th><th scope=col>CBA.Kid_Diet_A_d3</th><th scope=col>CBA.Kid_Diet_A_d5</th><th scope=col>CBA.Kid_Diet_A_d6</th></tr>\n",
              "\t<tr><th></th><th scope=col>&lt;dbl&gt;</th><th scope=col>&lt;dbl&gt;</th><th scope=col>&lt;dbl&gt;</th><th scope=col>&lt;dbl&gt;</th><th scope=col>&lt;dbl&gt;</th><th scope=col>&lt;dbl&gt;</th><th scope=col>&lt;dbl&gt;</th><th scope=col>&lt;dbl&gt;</th><th scope=col>&lt;dbl&gt;</th><th scope=col>&lt;dbl&gt;</th><th scope=col>⋯</th><th scope=col>&lt;dbl&gt;</th><th scope=col>&lt;dbl&gt;</th><th scope=col>&lt;dbl&gt;</th><th scope=col>&lt;dbl&gt;</th><th scope=col>&lt;dbl&gt;</th><th scope=col>&lt;dbl&gt;</th><th scope=col>&lt;dbl&gt;</th><th scope=col>&lt;dbl&gt;</th><th scope=col>&lt;dbl&gt;</th><th scope=col>&lt;dbl&gt;</th></tr>\n",
              "</thead>\n",
              "<tbody>\n",
              "\t<tr><th scope=row>1</th><td>11.733064</td><td>11.811948</td><td>12.186571</td><td>11.865383</td><td>11.829552</td><td>11.964246</td><td>12.027946</td><td>12.258315</td><td>12.053265</td><td>12.413971</td><td>⋯</td><td>11.936553</td><td>11.683003</td><td>11.823132</td><td>11.946154</td><td>11.674241</td><td>11.696268</td><td>11.912039</td><td>11.670173</td><td>11.847655</td><td>11.805205</td></tr>\n",
              "\t<tr><th scope=row>2</th><td>11.183815</td><td>11.573009</td><td>11.670170</td><td>10.761185</td><td>10.923126</td><td>11.151019</td><td>11.004045</td><td>10.918036</td><td>11.008520</td><td>11.083123</td><td>⋯</td><td>12.540704</td><td>12.375846</td><td>12.541782</td><td>12.319808</td><td>12.229561</td><td>12.105306</td><td>12.284002</td><td>12.036367</td><td>12.010170</td><td>12.144926</td></tr>\n",
              "\t<tr><th scope=row>3</th><td> 5.295900</td><td> 4.965490</td><td> 5.136521</td><td> 5.238248</td><td> 5.165626</td><td> 6.021186</td><td> 5.338915</td><td> 5.410364</td><td> 5.440630</td><td> 5.745109</td><td>⋯</td><td> 5.474626</td><td> 4.951659</td><td> 5.349766</td><td> 5.374776</td><td> 5.386558</td><td> 5.652185</td><td> 5.799797</td><td> 4.988294</td><td> 4.661140</td><td> 5.230747</td></tr>\n",
              "\t<tr><th scope=row>4</th><td> 9.558426</td><td> 9.591832</td><td> 9.553392</td><td> 9.848268</td><td> 9.491318</td><td> 9.628843</td><td> 9.831163</td><td> 9.721065</td><td> 9.679919</td><td> 9.736403</td><td>⋯</td><td> 8.972986</td><td> 8.898291</td><td> 8.848124</td><td> 8.971987</td><td> 9.303008</td><td> 9.284600</td><td> 9.166966</td><td> 8.923816</td><td> 8.997590</td><td> 9.212134</td></tr>\n",
              "\t<tr><th scope=row>5</th><td> 7.501710</td><td> 6.974286</td><td> 7.032823</td><td> 6.927557</td><td> 7.995659</td><td> 7.202555</td><td> 7.395784</td><td> 7.707718</td><td> 7.111960</td><td> 7.412790</td><td>⋯</td><td> 6.575190</td><td> 6.168843</td><td> 6.798275</td><td> 6.420040</td><td> 7.576921</td><td> 6.379776</td><td> 8.107456</td><td> 6.392961</td><td> 6.224068</td><td> 6.303201</td></tr>\n",
              "</tbody>\n",
              "</table>\n"
            ]
          },
          "metadata": {}
        },
        {
          "output_type": "display_data",
          "data": {
            "text/plain": [
              "[1] 42575    23"
            ],
            "text/latex": "\\begin{enumerate*}\n\\item 42575\n\\item 23\n\\end{enumerate*}\n",
            "text/markdown": "1. 42575\n2. 23\n\n\n",
            "text/html": [
              "<style>\n",
              ".list-inline {list-style: none; margin:0; padding: 0}\n",
              ".list-inline>li {display: inline-block}\n",
              ".list-inline>li:not(:last-child)::after {content: \"\\00b7\"; padding: 0 .5ex}\n",
              "</style>\n",
              "<ol class=list-inline><li>42575</li><li>23</li></ol>\n"
            ]
          },
          "metadata": {}
        },
        {
          "output_type": "display_data",
          "data": {
            "text/plain": [
              "  Liv_Con_A_s3 Liv_Con_A_s4 Liv_Con_A_s5 Liv_Con_A_s6 Liv_Con_A_s7 Liv_Con_A_s8\n",
              "1 11.733064    11.811948    12.186571    11.865383    11.829552    11.964246   \n",
              "2 11.183815    11.573009    11.670170    10.761185    10.923126    11.151019   \n",
              "3  5.295900     4.965490     5.136521     5.238248     5.165626     6.021186   \n",
              "4  9.558426     9.591832     9.553392     9.848268     9.491318     9.628843   \n",
              "5  7.501710     6.974286     7.032823     6.927557     7.995659     7.202555   \n",
              "  Liv_Diet_A_d1 Liv_Diet_A_d2 Liv_Diet_A_d3 Liv_Diet_A_d4 ⋯ Kid_Con_A_s2\n",
              "1 12.027946     12.258315     12.053265     12.413971     ⋯ 11.735968   \n",
              "2 11.004045     10.918036     11.008520     11.083123     ⋯ 11.380401   \n",
              "3  5.338915      5.410364      5.440630      5.745109     ⋯  4.663724   \n",
              "4  9.831163      9.721065      9.679919      9.736403     ⋯  8.953766   \n",
              "5  7.395784      7.707718      7.111960      7.412790     ⋯  7.389600   \n",
              "  Kid_Con_A_s4 Kid_Con_A_s5 Kid_Con_A_s6 Kid_Con_A_s7 Kid_Diet_A_d3\n",
              "1 11.721261    12.215931    11.987978    11.373426    11.943372    \n",
              "2 10.979947    10.983999    10.945659    11.130472    10.962599    \n",
              "3  5.001811     4.654178     4.652339     5.501846     5.319057    \n",
              "4  8.761682     8.824066     9.149327     8.968154     9.154447    \n",
              "5  6.546015     6.937506     6.460002     7.473827     7.278671    \n",
              "  Kid_Diet_A_d4 Kid_Diet_A_d6 Kid_Diet_A_d7 Kid_Diet_A_d8\n",
              "1 11.870330     11.751711     11.401135     11.765722    \n",
              "2 10.824049     10.907303     11.067492     12.242663    \n",
              "3  5.194018      5.042244      5.155504      5.334774    \n",
              "4  8.962862      8.576916      9.416309      9.028274    \n",
              "5  7.480614      7.159379      6.821761      6.965735    "
            ],
            "text/latex": "A data.frame: 5 × 23\n\\begin{tabular}{r|lllllllllllllllllllll}\n  & Liv\\_Con\\_A\\_s3 & Liv\\_Con\\_A\\_s4 & Liv\\_Con\\_A\\_s5 & Liv\\_Con\\_A\\_s6 & Liv\\_Con\\_A\\_s7 & Liv\\_Con\\_A\\_s8 & Liv\\_Diet\\_A\\_d1 & Liv\\_Diet\\_A\\_d2 & Liv\\_Diet\\_A\\_d3 & Liv\\_Diet\\_A\\_d4 & ⋯ & Kid\\_Con\\_A\\_s2 & Kid\\_Con\\_A\\_s4 & Kid\\_Con\\_A\\_s5 & Kid\\_Con\\_A\\_s6 & Kid\\_Con\\_A\\_s7 & Kid\\_Diet\\_A\\_d3 & Kid\\_Diet\\_A\\_d4 & Kid\\_Diet\\_A\\_d6 & Kid\\_Diet\\_A\\_d7 & Kid\\_Diet\\_A\\_d8\\\\\n  & <dbl> & <dbl> & <dbl> & <dbl> & <dbl> & <dbl> & <dbl> & <dbl> & <dbl> & <dbl> & ⋯ & <dbl> & <dbl> & <dbl> & <dbl> & <dbl> & <dbl> & <dbl> & <dbl> & <dbl> & <dbl>\\\\\n\\hline\n\t1 & 11.733064 & 11.811948 & 12.186571 & 11.865383 & 11.829552 & 11.964246 & 12.027946 & 12.258315 & 12.053265 & 12.413971 & ⋯ & 11.735968 & 11.721261 & 12.215931 & 11.987978 & 11.373426 & 11.943372 & 11.870330 & 11.751711 & 11.401135 & 11.765722\\\\\n\t2 & 11.183815 & 11.573009 & 11.670170 & 10.761185 & 10.923126 & 11.151019 & 11.004045 & 10.918036 & 11.008520 & 11.083123 & ⋯ & 11.380401 & 10.979947 & 10.983999 & 10.945659 & 11.130472 & 10.962599 & 10.824049 & 10.907303 & 11.067492 & 12.242663\\\\\n\t3 &  5.295900 &  4.965490 &  5.136521 &  5.238248 &  5.165626 &  6.021186 &  5.338915 &  5.410364 &  5.440630 &  5.745109 & ⋯ &  4.663724 &  5.001811 &  4.654178 &  4.652339 &  5.501846 &  5.319057 &  5.194018 &  5.042244 &  5.155504 &  5.334774\\\\\n\t4 &  9.558426 &  9.591832 &  9.553392 &  9.848268 &  9.491318 &  9.628843 &  9.831163 &  9.721065 &  9.679919 &  9.736403 & ⋯ &  8.953766 &  8.761682 &  8.824066 &  9.149327 &  8.968154 &  9.154447 &  8.962862 &  8.576916 &  9.416309 &  9.028274\\\\\n\t5 &  7.501710 &  6.974286 &  7.032823 &  6.927557 &  7.995659 &  7.202555 &  7.395784 &  7.707718 &  7.111960 &  7.412790 & ⋯ &  7.389600 &  6.546015 &  6.937506 &  6.460002 &  7.473827 &  7.278671 &  7.480614 &  7.159379 &  6.821761 &  6.965735\\\\\n\\end{tabular}\n",
            "text/markdown": "\nA data.frame: 5 × 23\n\n| <!--/--> | Liv_Con_A_s3 &lt;dbl&gt; | Liv_Con_A_s4 &lt;dbl&gt; | Liv_Con_A_s5 &lt;dbl&gt; | Liv_Con_A_s6 &lt;dbl&gt; | Liv_Con_A_s7 &lt;dbl&gt; | Liv_Con_A_s8 &lt;dbl&gt; | Liv_Diet_A_d1 &lt;dbl&gt; | Liv_Diet_A_d2 &lt;dbl&gt; | Liv_Diet_A_d3 &lt;dbl&gt; | Liv_Diet_A_d4 &lt;dbl&gt; | ⋯ ⋯ | Kid_Con_A_s2 &lt;dbl&gt; | Kid_Con_A_s4 &lt;dbl&gt; | Kid_Con_A_s5 &lt;dbl&gt; | Kid_Con_A_s6 &lt;dbl&gt; | Kid_Con_A_s7 &lt;dbl&gt; | Kid_Diet_A_d3 &lt;dbl&gt; | Kid_Diet_A_d4 &lt;dbl&gt; | Kid_Diet_A_d6 &lt;dbl&gt; | Kid_Diet_A_d7 &lt;dbl&gt; | Kid_Diet_A_d8 &lt;dbl&gt; |\n|---|---|---|---|---|---|---|---|---|---|---|---|---|---|---|---|---|---|---|---|---|---|\n| 1 | 11.733064 | 11.811948 | 12.186571 | 11.865383 | 11.829552 | 11.964246 | 12.027946 | 12.258315 | 12.053265 | 12.413971 | ⋯ | 11.735968 | 11.721261 | 12.215931 | 11.987978 | 11.373426 | 11.943372 | 11.870330 | 11.751711 | 11.401135 | 11.765722 |\n| 2 | 11.183815 | 11.573009 | 11.670170 | 10.761185 | 10.923126 | 11.151019 | 11.004045 | 10.918036 | 11.008520 | 11.083123 | ⋯ | 11.380401 | 10.979947 | 10.983999 | 10.945659 | 11.130472 | 10.962599 | 10.824049 | 10.907303 | 11.067492 | 12.242663 |\n| 3 |  5.295900 |  4.965490 |  5.136521 |  5.238248 |  5.165626 |  6.021186 |  5.338915 |  5.410364 |  5.440630 |  5.745109 | ⋯ |  4.663724 |  5.001811 |  4.654178 |  4.652339 |  5.501846 |  5.319057 |  5.194018 |  5.042244 |  5.155504 |  5.334774 |\n| 4 |  9.558426 |  9.591832 |  9.553392 |  9.848268 |  9.491318 |  9.628843 |  9.831163 |  9.721065 |  9.679919 |  9.736403 | ⋯ |  8.953766 |  8.761682 |  8.824066 |  9.149327 |  8.968154 |  9.154447 |  8.962862 |  8.576916 |  9.416309 |  9.028274 |\n| 5 |  7.501710 |  6.974286 |  7.032823 |  6.927557 |  7.995659 |  7.202555 |  7.395784 |  7.707718 |  7.111960 |  7.412790 | ⋯ |  7.389600 |  6.546015 |  6.937506 |  6.460002 |  7.473827 |  7.278671 |  7.480614 |  7.159379 |  6.821761 |  6.965735 |\n\n",
            "text/html": [
              "<table class=\"dataframe\">\n",
              "<caption>A data.frame: 5 × 23</caption>\n",
              "<thead>\n",
              "\t<tr><th></th><th scope=col>Liv_Con_A_s3</th><th scope=col>Liv_Con_A_s4</th><th scope=col>Liv_Con_A_s5</th><th scope=col>Liv_Con_A_s6</th><th scope=col>Liv_Con_A_s7</th><th scope=col>Liv_Con_A_s8</th><th scope=col>Liv_Diet_A_d1</th><th scope=col>Liv_Diet_A_d2</th><th scope=col>Liv_Diet_A_d3</th><th scope=col>Liv_Diet_A_d4</th><th scope=col>⋯</th><th scope=col>Kid_Con_A_s2</th><th scope=col>Kid_Con_A_s4</th><th scope=col>Kid_Con_A_s5</th><th scope=col>Kid_Con_A_s6</th><th scope=col>Kid_Con_A_s7</th><th scope=col>Kid_Diet_A_d3</th><th scope=col>Kid_Diet_A_d4</th><th scope=col>Kid_Diet_A_d6</th><th scope=col>Kid_Diet_A_d7</th><th scope=col>Kid_Diet_A_d8</th></tr>\n",
              "\t<tr><th></th><th scope=col>&lt;dbl&gt;</th><th scope=col>&lt;dbl&gt;</th><th scope=col>&lt;dbl&gt;</th><th scope=col>&lt;dbl&gt;</th><th scope=col>&lt;dbl&gt;</th><th scope=col>&lt;dbl&gt;</th><th scope=col>&lt;dbl&gt;</th><th scope=col>&lt;dbl&gt;</th><th scope=col>&lt;dbl&gt;</th><th scope=col>&lt;dbl&gt;</th><th scope=col>⋯</th><th scope=col>&lt;dbl&gt;</th><th scope=col>&lt;dbl&gt;</th><th scope=col>&lt;dbl&gt;</th><th scope=col>&lt;dbl&gt;</th><th scope=col>&lt;dbl&gt;</th><th scope=col>&lt;dbl&gt;</th><th scope=col>&lt;dbl&gt;</th><th scope=col>&lt;dbl&gt;</th><th scope=col>&lt;dbl&gt;</th><th scope=col>&lt;dbl&gt;</th></tr>\n",
              "</thead>\n",
              "<tbody>\n",
              "\t<tr><th scope=row>1</th><td>11.733064</td><td>11.811948</td><td>12.186571</td><td>11.865383</td><td>11.829552</td><td>11.964246</td><td>12.027946</td><td>12.258315</td><td>12.053265</td><td>12.413971</td><td>⋯</td><td>11.735968</td><td>11.721261</td><td>12.215931</td><td>11.987978</td><td>11.373426</td><td>11.943372</td><td>11.870330</td><td>11.751711</td><td>11.401135</td><td>11.765722</td></tr>\n",
              "\t<tr><th scope=row>2</th><td>11.183815</td><td>11.573009</td><td>11.670170</td><td>10.761185</td><td>10.923126</td><td>11.151019</td><td>11.004045</td><td>10.918036</td><td>11.008520</td><td>11.083123</td><td>⋯</td><td>11.380401</td><td>10.979947</td><td>10.983999</td><td>10.945659</td><td>11.130472</td><td>10.962599</td><td>10.824049</td><td>10.907303</td><td>11.067492</td><td>12.242663</td></tr>\n",
              "\t<tr><th scope=row>3</th><td> 5.295900</td><td> 4.965490</td><td> 5.136521</td><td> 5.238248</td><td> 5.165626</td><td> 6.021186</td><td> 5.338915</td><td> 5.410364</td><td> 5.440630</td><td> 5.745109</td><td>⋯</td><td> 4.663724</td><td> 5.001811</td><td> 4.654178</td><td> 4.652339</td><td> 5.501846</td><td> 5.319057</td><td> 5.194018</td><td> 5.042244</td><td> 5.155504</td><td> 5.334774</td></tr>\n",
              "\t<tr><th scope=row>4</th><td> 9.558426</td><td> 9.591832</td><td> 9.553392</td><td> 9.848268</td><td> 9.491318</td><td> 9.628843</td><td> 9.831163</td><td> 9.721065</td><td> 9.679919</td><td> 9.736403</td><td>⋯</td><td> 8.953766</td><td> 8.761682</td><td> 8.824066</td><td> 9.149327</td><td> 8.968154</td><td> 9.154447</td><td> 8.962862</td><td> 8.576916</td><td> 9.416309</td><td> 9.028274</td></tr>\n",
              "\t<tr><th scope=row>5</th><td> 7.501710</td><td> 6.974286</td><td> 7.032823</td><td> 6.927557</td><td> 7.995659</td><td> 7.202555</td><td> 7.395784</td><td> 7.707718</td><td> 7.111960</td><td> 7.412790</td><td>⋯</td><td> 7.389600</td><td> 6.546015</td><td> 6.937506</td><td> 6.460002</td><td> 7.473827</td><td> 7.278671</td><td> 7.480614</td><td> 7.159379</td><td> 6.821761</td><td> 6.965735</td></tr>\n",
              "</tbody>\n",
              "</table>\n"
            ]
          },
          "metadata": {}
        },
        {
          "output_type": "display_data",
          "data": {
            "text/plain": [
              "[1] 42575    23"
            ],
            "text/latex": "\\begin{enumerate*}\n\\item 42575\n\\item 23\n\\end{enumerate*}\n",
            "text/markdown": "1. 42575\n2. 23\n\n\n",
            "text/html": [
              "<style>\n",
              ".list-inline {list-style: none; margin:0; padding: 0}\n",
              ".list-inline>li {display: inline-block}\n",
              ".list-inline>li:not(:last-child)::after {content: \"\\00b7\"; padding: 0 .5ex}\n",
              "</style>\n",
              "<ol class=list-inline><li>42575</li><li>23</li></ol>\n"
            ]
          },
          "metadata": {}
        }
      ]
    },
    {
      "cell_type": "code",
      "metadata": {
        "id": "AHJC0Vom19gU"
      },
      "source": [
        " dataExprCBA_df_N <- data.matrix(dataExprCBA_df, rownames.force = NA)\n",
        " \n",
        " dataExprCBA_df_ttest <- row_t_onesample(dataExprCBA_df_N, alternative = \"two.sided\", mu = 0, conf.level = 0.95)"
      ],
      "execution_count": 22,
      "outputs": []
    },
    {
      "cell_type": "code",
      "metadata": {
        "id": "fEBFrcAilp-M"
      },
      "source": [
        "dataExprBALBTech_df_N <- data.matrix(dataExprBALBTech_df, rownames.force = NA)\n",
        " \n",
        " dataExprBALBTech_df_ttest <- row_t_onesample(dataExprBALBTech_df_N, alternative = \"two.sided\", mu = 0, conf.level = 0.95)"
      ],
      "execution_count": 40,
      "outputs": []
    },
    {
      "cell_type": "code",
      "metadata": {
        "colab": {
          "base_uri": "https://localhost:8080/",
          "height": 1000
        },
        "id": "d_i39jfNl-7R",
        "outputId": "f86aa877-9db6-48f6-dce7-172774c57500"
      },
      "source": [
        "dataExprBALBTech_df_ttest\n",
        "\n",
        "write.csv(dataExprBALBTech_df_ttest, \"datExprBALBTech_ttest.csv\")"
      ],
      "execution_count": 42,
      "outputs": [
        {
          "output_type": "display_data",
          "data": {
            "text/plain": [
              "      obs mean      var        stderr     df statistic pvalue       conf.low \n",
              "1     23  11.908495 0.06754884 0.05419323 22 219.74138 2.939670e-38 11.796105\n",
              "2     23  11.150604 0.10841511 0.06865639 22 162.41174 2.264878e-35 11.008220\n",
              "3     23   5.323758 0.18685609 0.09013422 22  59.06478 9.872667e-26  5.136832\n",
              "4     23   9.343516 0.21843536 0.09745352 22  95.87663 2.420026e-30  9.141409\n",
              "5     23   7.164694 0.12801174 0.07460380 22  96.03657 2.333088e-30  7.009975\n",
              "6     23  12.600482 0.06332860 0.05247302 22 240.13260 4.176126e-39 12.491660\n",
              "7     23  12.182515 0.03217753 0.03740352 22 325.70506 5.121016e-42 12.104945\n",
              "8     23   6.553775 0.93039399 0.20112661 22  32.58532 4.093261e-20  6.136664\n",
              "9     23  10.897177 0.12633467 0.07411350 22 147.03362 2.016611e-34 10.743475\n",
              "10    23  11.520557 0.62122160 0.16434608 22  70.09937 2.324252e-27 11.179724\n",
              "11    23  12.719607 0.15304710 0.08157341 22 155.92834 5.545658e-35 12.550434\n",
              "12    23   5.329462 0.27279452 0.10890653 22  48.93611 6.007994e-24  5.103603\n",
              "13    23   8.873528 0.61602856 0.16365772 22  54.22004 6.409073e-25  8.534123\n",
              "14    23  11.646482 0.02322898 0.03177980 22 366.47438 3.825914e-43 11.580574\n",
              "15    23  10.794631 0.04871160 0.04602060 22 234.56085 6.998305e-39 10.699190\n",
              "16    23  11.355709 0.24543652 0.10330127 22 109.92807 1.201513e-31 11.141476\n",
              "17    23  12.269729 0.03908633 0.04122385 22 297.63667 3.717118e-41 12.184236\n",
              "18    23  12.214422 0.13565817 0.07679962 22 159.04274 3.590540e-35 12.055149\n",
              "19    23   9.012735 0.54494131 0.15392563 22  58.55253 1.194416e-25  8.693513\n",
              "20    23   5.616674 0.28365554 0.11105336 22  50.57635 2.926797e-24  5.386363\n",
              "21    23   6.607440 0.24385817 0.10296858 22  64.16947 1.609990e-26  6.393896\n",
              "22    23   7.351945 0.07006450 0.05519314 22 133.20398 1.767639e-33  7.237482\n",
              "23    23   5.382313 0.27972401 0.11028107 22  48.80541 6.368809e-24  5.153604\n",
              "24    23   9.432083 0.34987996 0.12333764 22  76.47368 3.451367e-28  9.176296\n",
              "25    23  12.456657 0.89761460 0.19755182 22  63.05514 2.362282e-26 12.046960\n",
              "26    23  10.318168 0.19930801 0.09308902 22 110.84194 1.001758e-31 10.125113\n",
              "27    23  13.424467 0.04130843 0.04237946 22 316.76823 9.443335e-42 13.336578\n",
              "28    23  12.788507 0.01705116 0.02722783 22 469.68507 1.630195e-45 12.732040\n",
              "29    23   6.681030 0.14361078 0.07901865 22  84.55005 3.818321e-29  6.517156\n",
              "30    23   4.632264 0.32810019 0.11943712 22  38.78412 9.453270e-22  4.384566\n",
              "⋮     ⋮   ⋮         ⋮          ⋮          ⋮  ⋮         ⋮            ⋮        \n",
              "42546 23   4.825690 0.42219645 0.13548567 22  35.61771 5.985183e-21  4.544710\n",
              "42547 23  11.515944 0.11541435 0.07083795 22 162.56744 2.217670e-35 11.369035\n",
              "42548 23   5.445331 0.13984780 0.07797653 22  69.83295 2.526436e-27  5.283618\n",
              "42549 23   6.317297 0.26638381 0.10761926 22  58.70043 1.130312e-25  6.094108\n",
              "42550 23   7.083813 0.30187325 0.11456406 22  61.83277 3.625478e-26  6.846221\n",
              "42551 23   4.367007 0.17102029 0.08623030 22  50.64353 2.843235e-24  4.188177\n",
              "42552 23  11.140972 1.10046456 0.21873794 22  50.93297 2.510759e-24 10.687337\n",
              "42553 23   9.712345 0.13739568 0.07728988 22 125.66128 6.362655e-33  9.552056\n",
              "42554 23   9.486264 0.13538642 0.07672266 22 123.64358 9.080012e-33  9.327151\n",
              "42555 23   6.536149 0.19005405 0.09090225 22  71.90304 1.332184e-27  6.347629\n",
              "42556 23   8.321694 0.70777697 0.17542210 22  47.43812 1.183314e-23  7.957891\n",
              "42557 23   5.047465 0.17001705 0.08597701 22  58.70715 1.127489e-25  4.869159\n",
              "42558 23  12.756401 0.05867521 0.05050837 22 252.56012 1.376705e-39 12.651653\n",
              "42559 23  13.686530 0.06926603 0.05487774 22 249.40039 1.815888e-39 13.572720\n",
              "42560 23   6.979961 0.12012338 0.07226864 22  96.58354 2.059642e-30  6.830085\n",
              "42561 23   7.153071 0.37731258 0.12808159 22  55.84777 3.358433e-25  6.887446\n",
              "42562 23   8.054334 0.20466469 0.09433167 22  85.38313 3.079386e-29  7.858702\n",
              "42563 23   5.229191 0.33812715 0.12124842 22  43.12791 9.417299e-23  4.977737\n",
              "42564 23   5.301326 0.20833685 0.09517418 22  55.70131 3.556781e-25  5.103947\n",
              "42565 23   5.346297 0.07228133 0.05605949 22  95.36828 2.719553e-30  5.230037\n",
              "42566 23  11.818263 0.09739963 0.06507509 22 181.60964 1.942390e-36 11.683305\n",
              "42567 23   9.890464 0.04297298 0.04322488 22 228.81413 1.207533e-38  9.800821\n",
              "42568 23   4.914349 0.33859729 0.12133269 22  40.50309 3.687359e-22  4.662721\n",
              "42569 23  11.201170 0.07924774 0.05869884 22 190.82438 6.542363e-37 11.079436\n",
              "42570 23   5.666900 0.74009376 0.17938224 22  31.59120 7.982924e-20  5.294884\n",
              "42571 23  12.636203 0.01722194 0.02736384 22 461.78466 2.367573e-45 12.579454\n",
              "42572 23   4.905434 0.34211164 0.12196073 22  40.22142 4.290832e-22  4.652502\n",
              "42573 23   9.672546 0.07967924 0.05885843 22 164.33578 1.748275e-35  9.550481\n",
              "42574 23  12.106829 0.03667156 0.03993014 22 303.20030 2.473419e-41 12.024019\n",
              "42575 23   8.344406 0.45440085 0.14055803 22  59.36627 8.832427e-26  8.052906\n",
              "      conf.high alternative mean.null conf.level\n",
              "1     12.020885 two.sided   0         0.95      \n",
              "2     11.292989 two.sided   0         0.95      \n",
              "3      5.510685 two.sided   0         0.95      \n",
              "4      9.545622 two.sided   0         0.95      \n",
              "5      7.319412 two.sided   0         0.95      \n",
              "6     12.709305 two.sided   0         0.95      \n",
              "7     12.260085 two.sided   0         0.95      \n",
              "8      6.970886 two.sided   0         0.95      \n",
              "9     11.050879 two.sided   0         0.95      \n",
              "10    11.861390 two.sided   0         0.95      \n",
              "11    12.888780 two.sided   0         0.95      \n",
              "12     5.555320 two.sided   0         0.95      \n",
              "13     9.212933 two.sided   0         0.95      \n",
              "14    11.712389 two.sided   0         0.95      \n",
              "15    10.890072 two.sided   0         0.95      \n",
              "16    11.569943 two.sided   0         0.95      \n",
              "17    12.355222 two.sided   0         0.95      \n",
              "18    12.373694 two.sided   0         0.95      \n",
              "19     9.331957 two.sided   0         0.95      \n",
              "20     5.846985 two.sided   0         0.95      \n",
              "21     6.820984 two.sided   0         0.95      \n",
              "22     7.466409 two.sided   0         0.95      \n",
              "23     5.611022 two.sided   0         0.95      \n",
              "24     9.687869 two.sided   0         0.95      \n",
              "25    12.866354 two.sided   0         0.95      \n",
              "26    10.511223 two.sided   0         0.95      \n",
              "27    13.512357 two.sided   0         0.95      \n",
              "28    12.844974 two.sided   0         0.95      \n",
              "29     6.844905 two.sided   0         0.95      \n",
              "30     4.879961 two.sided   0         0.95      \n",
              "⋮     ⋮         ⋮           ⋮         ⋮         \n",
              "42546  5.106670 two.sided   0         0.95      \n",
              "42547 11.662853 two.sided   0         0.95      \n",
              "42548  5.607045 two.sided   0         0.95      \n",
              "42549  6.540486 two.sided   0         0.95      \n",
              "42550  7.321404 two.sided   0         0.95      \n",
              "42551  4.545838 two.sided   0         0.95      \n",
              "42552 11.594607 two.sided   0         0.95      \n",
              "42553  9.872634 two.sided   0         0.95      \n",
              "42554  9.645377 two.sided   0         0.95      \n",
              "42555  6.724668 two.sided   0         0.95      \n",
              "42556  8.685498 two.sided   0         0.95      \n",
              "42557  5.225770 two.sided   0         0.95      \n",
              "42558 12.861149 two.sided   0         0.95      \n",
              "42559 13.800339 two.sided   0         0.95      \n",
              "42560  7.129837 two.sided   0         0.95      \n",
              "42561  7.418696 two.sided   0         0.95      \n",
              "42562  8.249966 two.sided   0         0.95      \n",
              "42563  5.480645 two.sided   0         0.95      \n",
              "42564  5.498705 two.sided   0         0.95      \n",
              "42565  5.462557 two.sided   0         0.95      \n",
              "42566 11.953220 two.sided   0         0.95      \n",
              "42567  9.980106 two.sided   0         0.95      \n",
              "42568  5.165978 two.sided   0         0.95      \n",
              "42569 11.322904 two.sided   0         0.95      \n",
              "42570  6.038916 two.sided   0         0.95      \n",
              "42571 12.692952 two.sided   0         0.95      \n",
              "42572  5.158365 two.sided   0         0.95      \n",
              "42573  9.794611 two.sided   0         0.95      \n",
              "42574 12.189639 two.sided   0         0.95      \n",
              "42575  8.635905 two.sided   0         0.95      "
            ],
            "text/latex": "A data.frame: 42575 × 12\n\\begin{tabular}{llllllllllll}\n obs & mean & var & stderr & df & statistic & pvalue & conf.low & conf.high & alternative & mean.null & conf.level\\\\\n <int> & <dbl> & <dbl> & <dbl> & <dbl> & <dbl> & <dbl> & <dbl> & <dbl> & <chr> & <dbl> & <dbl>\\\\\n\\hline\n\t 23 & 11.908495 & 0.06754884 & 0.05419323 & 22 & 219.74138 & 2.939670e-38 & 11.796105 & 12.020885 & two.sided & 0 & 0.95\\\\\n\t 23 & 11.150604 & 0.10841511 & 0.06865639 & 22 & 162.41174 & 2.264878e-35 & 11.008220 & 11.292989 & two.sided & 0 & 0.95\\\\\n\t 23 &  5.323758 & 0.18685609 & 0.09013422 & 22 &  59.06478 & 9.872667e-26 &  5.136832 &  5.510685 & two.sided & 0 & 0.95\\\\\n\t 23 &  9.343516 & 0.21843536 & 0.09745352 & 22 &  95.87663 & 2.420026e-30 &  9.141409 &  9.545622 & two.sided & 0 & 0.95\\\\\n\t 23 &  7.164694 & 0.12801174 & 0.07460380 & 22 &  96.03657 & 2.333088e-30 &  7.009975 &  7.319412 & two.sided & 0 & 0.95\\\\\n\t 23 & 12.600482 & 0.06332860 & 0.05247302 & 22 & 240.13260 & 4.176126e-39 & 12.491660 & 12.709305 & two.sided & 0 & 0.95\\\\\n\t 23 & 12.182515 & 0.03217753 & 0.03740352 & 22 & 325.70506 & 5.121016e-42 & 12.104945 & 12.260085 & two.sided & 0 & 0.95\\\\\n\t 23 &  6.553775 & 0.93039399 & 0.20112661 & 22 &  32.58532 & 4.093261e-20 &  6.136664 &  6.970886 & two.sided & 0 & 0.95\\\\\n\t 23 & 10.897177 & 0.12633467 & 0.07411350 & 22 & 147.03362 & 2.016611e-34 & 10.743475 & 11.050879 & two.sided & 0 & 0.95\\\\\n\t 23 & 11.520557 & 0.62122160 & 0.16434608 & 22 &  70.09937 & 2.324252e-27 & 11.179724 & 11.861390 & two.sided & 0 & 0.95\\\\\n\t 23 & 12.719607 & 0.15304710 & 0.08157341 & 22 & 155.92834 & 5.545658e-35 & 12.550434 & 12.888780 & two.sided & 0 & 0.95\\\\\n\t 23 &  5.329462 & 0.27279452 & 0.10890653 & 22 &  48.93611 & 6.007994e-24 &  5.103603 &  5.555320 & two.sided & 0 & 0.95\\\\\n\t 23 &  8.873528 & 0.61602856 & 0.16365772 & 22 &  54.22004 & 6.409073e-25 &  8.534123 &  9.212933 & two.sided & 0 & 0.95\\\\\n\t 23 & 11.646482 & 0.02322898 & 0.03177980 & 22 & 366.47438 & 3.825914e-43 & 11.580574 & 11.712389 & two.sided & 0 & 0.95\\\\\n\t 23 & 10.794631 & 0.04871160 & 0.04602060 & 22 & 234.56085 & 6.998305e-39 & 10.699190 & 10.890072 & two.sided & 0 & 0.95\\\\\n\t 23 & 11.355709 & 0.24543652 & 0.10330127 & 22 & 109.92807 & 1.201513e-31 & 11.141476 & 11.569943 & two.sided & 0 & 0.95\\\\\n\t 23 & 12.269729 & 0.03908633 & 0.04122385 & 22 & 297.63667 & 3.717118e-41 & 12.184236 & 12.355222 & two.sided & 0 & 0.95\\\\\n\t 23 & 12.214422 & 0.13565817 & 0.07679962 & 22 & 159.04274 & 3.590540e-35 & 12.055149 & 12.373694 & two.sided & 0 & 0.95\\\\\n\t 23 &  9.012735 & 0.54494131 & 0.15392563 & 22 &  58.55253 & 1.194416e-25 &  8.693513 &  9.331957 & two.sided & 0 & 0.95\\\\\n\t 23 &  5.616674 & 0.28365554 & 0.11105336 & 22 &  50.57635 & 2.926797e-24 &  5.386363 &  5.846985 & two.sided & 0 & 0.95\\\\\n\t 23 &  6.607440 & 0.24385817 & 0.10296858 & 22 &  64.16947 & 1.609990e-26 &  6.393896 &  6.820984 & two.sided & 0 & 0.95\\\\\n\t 23 &  7.351945 & 0.07006450 & 0.05519314 & 22 & 133.20398 & 1.767639e-33 &  7.237482 &  7.466409 & two.sided & 0 & 0.95\\\\\n\t 23 &  5.382313 & 0.27972401 & 0.11028107 & 22 &  48.80541 & 6.368809e-24 &  5.153604 &  5.611022 & two.sided & 0 & 0.95\\\\\n\t 23 &  9.432083 & 0.34987996 & 0.12333764 & 22 &  76.47368 & 3.451367e-28 &  9.176296 &  9.687869 & two.sided & 0 & 0.95\\\\\n\t 23 & 12.456657 & 0.89761460 & 0.19755182 & 22 &  63.05514 & 2.362282e-26 & 12.046960 & 12.866354 & two.sided & 0 & 0.95\\\\\n\t 23 & 10.318168 & 0.19930801 & 0.09308902 & 22 & 110.84194 & 1.001758e-31 & 10.125113 & 10.511223 & two.sided & 0 & 0.95\\\\\n\t 23 & 13.424467 & 0.04130843 & 0.04237946 & 22 & 316.76823 & 9.443335e-42 & 13.336578 & 13.512357 & two.sided & 0 & 0.95\\\\\n\t 23 & 12.788507 & 0.01705116 & 0.02722783 & 22 & 469.68507 & 1.630195e-45 & 12.732040 & 12.844974 & two.sided & 0 & 0.95\\\\\n\t 23 &  6.681030 & 0.14361078 & 0.07901865 & 22 &  84.55005 & 3.818321e-29 &  6.517156 &  6.844905 & two.sided & 0 & 0.95\\\\\n\t 23 &  4.632264 & 0.32810019 & 0.11943712 & 22 &  38.78412 & 9.453270e-22 &  4.384566 &  4.879961 & two.sided & 0 & 0.95\\\\\n\t ⋮ & ⋮ & ⋮ & ⋮ & ⋮ & ⋮ & ⋮ & ⋮ & ⋮ & ⋮ & ⋮ & ⋮\\\\\n\t 23 &  4.825690 & 0.42219645 & 0.13548567 & 22 &  35.61771 & 5.985183e-21 &  4.544710 &  5.106670 & two.sided & 0 & 0.95\\\\\n\t 23 & 11.515944 & 0.11541435 & 0.07083795 & 22 & 162.56744 & 2.217670e-35 & 11.369035 & 11.662853 & two.sided & 0 & 0.95\\\\\n\t 23 &  5.445331 & 0.13984780 & 0.07797653 & 22 &  69.83295 & 2.526436e-27 &  5.283618 &  5.607045 & two.sided & 0 & 0.95\\\\\n\t 23 &  6.317297 & 0.26638381 & 0.10761926 & 22 &  58.70043 & 1.130312e-25 &  6.094108 &  6.540486 & two.sided & 0 & 0.95\\\\\n\t 23 &  7.083813 & 0.30187325 & 0.11456406 & 22 &  61.83277 & 3.625478e-26 &  6.846221 &  7.321404 & two.sided & 0 & 0.95\\\\\n\t 23 &  4.367007 & 0.17102029 & 0.08623030 & 22 &  50.64353 & 2.843235e-24 &  4.188177 &  4.545838 & two.sided & 0 & 0.95\\\\\n\t 23 & 11.140972 & 1.10046456 & 0.21873794 & 22 &  50.93297 & 2.510759e-24 & 10.687337 & 11.594607 & two.sided & 0 & 0.95\\\\\n\t 23 &  9.712345 & 0.13739568 & 0.07728988 & 22 & 125.66128 & 6.362655e-33 &  9.552056 &  9.872634 & two.sided & 0 & 0.95\\\\\n\t 23 &  9.486264 & 0.13538642 & 0.07672266 & 22 & 123.64358 & 9.080012e-33 &  9.327151 &  9.645377 & two.sided & 0 & 0.95\\\\\n\t 23 &  6.536149 & 0.19005405 & 0.09090225 & 22 &  71.90304 & 1.332184e-27 &  6.347629 &  6.724668 & two.sided & 0 & 0.95\\\\\n\t 23 &  8.321694 & 0.70777697 & 0.17542210 & 22 &  47.43812 & 1.183314e-23 &  7.957891 &  8.685498 & two.sided & 0 & 0.95\\\\\n\t 23 &  5.047465 & 0.17001705 & 0.08597701 & 22 &  58.70715 & 1.127489e-25 &  4.869159 &  5.225770 & two.sided & 0 & 0.95\\\\\n\t 23 & 12.756401 & 0.05867521 & 0.05050837 & 22 & 252.56012 & 1.376705e-39 & 12.651653 & 12.861149 & two.sided & 0 & 0.95\\\\\n\t 23 & 13.686530 & 0.06926603 & 0.05487774 & 22 & 249.40039 & 1.815888e-39 & 13.572720 & 13.800339 & two.sided & 0 & 0.95\\\\\n\t 23 &  6.979961 & 0.12012338 & 0.07226864 & 22 &  96.58354 & 2.059642e-30 &  6.830085 &  7.129837 & two.sided & 0 & 0.95\\\\\n\t 23 &  7.153071 & 0.37731258 & 0.12808159 & 22 &  55.84777 & 3.358433e-25 &  6.887446 &  7.418696 & two.sided & 0 & 0.95\\\\\n\t 23 &  8.054334 & 0.20466469 & 0.09433167 & 22 &  85.38313 & 3.079386e-29 &  7.858702 &  8.249966 & two.sided & 0 & 0.95\\\\\n\t 23 &  5.229191 & 0.33812715 & 0.12124842 & 22 &  43.12791 & 9.417299e-23 &  4.977737 &  5.480645 & two.sided & 0 & 0.95\\\\\n\t 23 &  5.301326 & 0.20833685 & 0.09517418 & 22 &  55.70131 & 3.556781e-25 &  5.103947 &  5.498705 & two.sided & 0 & 0.95\\\\\n\t 23 &  5.346297 & 0.07228133 & 0.05605949 & 22 &  95.36828 & 2.719553e-30 &  5.230037 &  5.462557 & two.sided & 0 & 0.95\\\\\n\t 23 & 11.818263 & 0.09739963 & 0.06507509 & 22 & 181.60964 & 1.942390e-36 & 11.683305 & 11.953220 & two.sided & 0 & 0.95\\\\\n\t 23 &  9.890464 & 0.04297298 & 0.04322488 & 22 & 228.81413 & 1.207533e-38 &  9.800821 &  9.980106 & two.sided & 0 & 0.95\\\\\n\t 23 &  4.914349 & 0.33859729 & 0.12133269 & 22 &  40.50309 & 3.687359e-22 &  4.662721 &  5.165978 & two.sided & 0 & 0.95\\\\\n\t 23 & 11.201170 & 0.07924774 & 0.05869884 & 22 & 190.82438 & 6.542363e-37 & 11.079436 & 11.322904 & two.sided & 0 & 0.95\\\\\n\t 23 &  5.666900 & 0.74009376 & 0.17938224 & 22 &  31.59120 & 7.982924e-20 &  5.294884 &  6.038916 & two.sided & 0 & 0.95\\\\\n\t 23 & 12.636203 & 0.01722194 & 0.02736384 & 22 & 461.78466 & 2.367573e-45 & 12.579454 & 12.692952 & two.sided & 0 & 0.95\\\\\n\t 23 &  4.905434 & 0.34211164 & 0.12196073 & 22 &  40.22142 & 4.290832e-22 &  4.652502 &  5.158365 & two.sided & 0 & 0.95\\\\\n\t 23 &  9.672546 & 0.07967924 & 0.05885843 & 22 & 164.33578 & 1.748275e-35 &  9.550481 &  9.794611 & two.sided & 0 & 0.95\\\\\n\t 23 & 12.106829 & 0.03667156 & 0.03993014 & 22 & 303.20030 & 2.473419e-41 & 12.024019 & 12.189639 & two.sided & 0 & 0.95\\\\\n\t 23 &  8.344406 & 0.45440085 & 0.14055803 & 22 &  59.36627 & 8.832427e-26 &  8.052906 &  8.635905 & two.sided & 0 & 0.95\\\\\n\\end{tabular}\n",
            "text/markdown": "\nA data.frame: 42575 × 12\n\n| obs &lt;int&gt; | mean &lt;dbl&gt; | var &lt;dbl&gt; | stderr &lt;dbl&gt; | df &lt;dbl&gt; | statistic &lt;dbl&gt; | pvalue &lt;dbl&gt; | conf.low &lt;dbl&gt; | conf.high &lt;dbl&gt; | alternative &lt;chr&gt; | mean.null &lt;dbl&gt; | conf.level &lt;dbl&gt; |\n|---|---|---|---|---|---|---|---|---|---|---|---|\n| 23 | 11.908495 | 0.06754884 | 0.05419323 | 22 | 219.74138 | 2.939670e-38 | 11.796105 | 12.020885 | two.sided | 0 | 0.95 |\n| 23 | 11.150604 | 0.10841511 | 0.06865639 | 22 | 162.41174 | 2.264878e-35 | 11.008220 | 11.292989 | two.sided | 0 | 0.95 |\n| 23 |  5.323758 | 0.18685609 | 0.09013422 | 22 |  59.06478 | 9.872667e-26 |  5.136832 |  5.510685 | two.sided | 0 | 0.95 |\n| 23 |  9.343516 | 0.21843536 | 0.09745352 | 22 |  95.87663 | 2.420026e-30 |  9.141409 |  9.545622 | two.sided | 0 | 0.95 |\n| 23 |  7.164694 | 0.12801174 | 0.07460380 | 22 |  96.03657 | 2.333088e-30 |  7.009975 |  7.319412 | two.sided | 0 | 0.95 |\n| 23 | 12.600482 | 0.06332860 | 0.05247302 | 22 | 240.13260 | 4.176126e-39 | 12.491660 | 12.709305 | two.sided | 0 | 0.95 |\n| 23 | 12.182515 | 0.03217753 | 0.03740352 | 22 | 325.70506 | 5.121016e-42 | 12.104945 | 12.260085 | two.sided | 0 | 0.95 |\n| 23 |  6.553775 | 0.93039399 | 0.20112661 | 22 |  32.58532 | 4.093261e-20 |  6.136664 |  6.970886 | two.sided | 0 | 0.95 |\n| 23 | 10.897177 | 0.12633467 | 0.07411350 | 22 | 147.03362 | 2.016611e-34 | 10.743475 | 11.050879 | two.sided | 0 | 0.95 |\n| 23 | 11.520557 | 0.62122160 | 0.16434608 | 22 |  70.09937 | 2.324252e-27 | 11.179724 | 11.861390 | two.sided | 0 | 0.95 |\n| 23 | 12.719607 | 0.15304710 | 0.08157341 | 22 | 155.92834 | 5.545658e-35 | 12.550434 | 12.888780 | two.sided | 0 | 0.95 |\n| 23 |  5.329462 | 0.27279452 | 0.10890653 | 22 |  48.93611 | 6.007994e-24 |  5.103603 |  5.555320 | two.sided | 0 | 0.95 |\n| 23 |  8.873528 | 0.61602856 | 0.16365772 | 22 |  54.22004 | 6.409073e-25 |  8.534123 |  9.212933 | two.sided | 0 | 0.95 |\n| 23 | 11.646482 | 0.02322898 | 0.03177980 | 22 | 366.47438 | 3.825914e-43 | 11.580574 | 11.712389 | two.sided | 0 | 0.95 |\n| 23 | 10.794631 | 0.04871160 | 0.04602060 | 22 | 234.56085 | 6.998305e-39 | 10.699190 | 10.890072 | two.sided | 0 | 0.95 |\n| 23 | 11.355709 | 0.24543652 | 0.10330127 | 22 | 109.92807 | 1.201513e-31 | 11.141476 | 11.569943 | two.sided | 0 | 0.95 |\n| 23 | 12.269729 | 0.03908633 | 0.04122385 | 22 | 297.63667 | 3.717118e-41 | 12.184236 | 12.355222 | two.sided | 0 | 0.95 |\n| 23 | 12.214422 | 0.13565817 | 0.07679962 | 22 | 159.04274 | 3.590540e-35 | 12.055149 | 12.373694 | two.sided | 0 | 0.95 |\n| 23 |  9.012735 | 0.54494131 | 0.15392563 | 22 |  58.55253 | 1.194416e-25 |  8.693513 |  9.331957 | two.sided | 0 | 0.95 |\n| 23 |  5.616674 | 0.28365554 | 0.11105336 | 22 |  50.57635 | 2.926797e-24 |  5.386363 |  5.846985 | two.sided | 0 | 0.95 |\n| 23 |  6.607440 | 0.24385817 | 0.10296858 | 22 |  64.16947 | 1.609990e-26 |  6.393896 |  6.820984 | two.sided | 0 | 0.95 |\n| 23 |  7.351945 | 0.07006450 | 0.05519314 | 22 | 133.20398 | 1.767639e-33 |  7.237482 |  7.466409 | two.sided | 0 | 0.95 |\n| 23 |  5.382313 | 0.27972401 | 0.11028107 | 22 |  48.80541 | 6.368809e-24 |  5.153604 |  5.611022 | two.sided | 0 | 0.95 |\n| 23 |  9.432083 | 0.34987996 | 0.12333764 | 22 |  76.47368 | 3.451367e-28 |  9.176296 |  9.687869 | two.sided | 0 | 0.95 |\n| 23 | 12.456657 | 0.89761460 | 0.19755182 | 22 |  63.05514 | 2.362282e-26 | 12.046960 | 12.866354 | two.sided | 0 | 0.95 |\n| 23 | 10.318168 | 0.19930801 | 0.09308902 | 22 | 110.84194 | 1.001758e-31 | 10.125113 | 10.511223 | two.sided | 0 | 0.95 |\n| 23 | 13.424467 | 0.04130843 | 0.04237946 | 22 | 316.76823 | 9.443335e-42 | 13.336578 | 13.512357 | two.sided | 0 | 0.95 |\n| 23 | 12.788507 | 0.01705116 | 0.02722783 | 22 | 469.68507 | 1.630195e-45 | 12.732040 | 12.844974 | two.sided | 0 | 0.95 |\n| 23 |  6.681030 | 0.14361078 | 0.07901865 | 22 |  84.55005 | 3.818321e-29 |  6.517156 |  6.844905 | two.sided | 0 | 0.95 |\n| 23 |  4.632264 | 0.32810019 | 0.11943712 | 22 |  38.78412 | 9.453270e-22 |  4.384566 |  4.879961 | two.sided | 0 | 0.95 |\n| ⋮ | ⋮ | ⋮ | ⋮ | ⋮ | ⋮ | ⋮ | ⋮ | ⋮ | ⋮ | ⋮ | ⋮ |\n| 23 |  4.825690 | 0.42219645 | 0.13548567 | 22 |  35.61771 | 5.985183e-21 |  4.544710 |  5.106670 | two.sided | 0 | 0.95 |\n| 23 | 11.515944 | 0.11541435 | 0.07083795 | 22 | 162.56744 | 2.217670e-35 | 11.369035 | 11.662853 | two.sided | 0 | 0.95 |\n| 23 |  5.445331 | 0.13984780 | 0.07797653 | 22 |  69.83295 | 2.526436e-27 |  5.283618 |  5.607045 | two.sided | 0 | 0.95 |\n| 23 |  6.317297 | 0.26638381 | 0.10761926 | 22 |  58.70043 | 1.130312e-25 |  6.094108 |  6.540486 | two.sided | 0 | 0.95 |\n| 23 |  7.083813 | 0.30187325 | 0.11456406 | 22 |  61.83277 | 3.625478e-26 |  6.846221 |  7.321404 | two.sided | 0 | 0.95 |\n| 23 |  4.367007 | 0.17102029 | 0.08623030 | 22 |  50.64353 | 2.843235e-24 |  4.188177 |  4.545838 | two.sided | 0 | 0.95 |\n| 23 | 11.140972 | 1.10046456 | 0.21873794 | 22 |  50.93297 | 2.510759e-24 | 10.687337 | 11.594607 | two.sided | 0 | 0.95 |\n| 23 |  9.712345 | 0.13739568 | 0.07728988 | 22 | 125.66128 | 6.362655e-33 |  9.552056 |  9.872634 | two.sided | 0 | 0.95 |\n| 23 |  9.486264 | 0.13538642 | 0.07672266 | 22 | 123.64358 | 9.080012e-33 |  9.327151 |  9.645377 | two.sided | 0 | 0.95 |\n| 23 |  6.536149 | 0.19005405 | 0.09090225 | 22 |  71.90304 | 1.332184e-27 |  6.347629 |  6.724668 | two.sided | 0 | 0.95 |\n| 23 |  8.321694 | 0.70777697 | 0.17542210 | 22 |  47.43812 | 1.183314e-23 |  7.957891 |  8.685498 | two.sided | 0 | 0.95 |\n| 23 |  5.047465 | 0.17001705 | 0.08597701 | 22 |  58.70715 | 1.127489e-25 |  4.869159 |  5.225770 | two.sided | 0 | 0.95 |\n| 23 | 12.756401 | 0.05867521 | 0.05050837 | 22 | 252.56012 | 1.376705e-39 | 12.651653 | 12.861149 | two.sided | 0 | 0.95 |\n| 23 | 13.686530 | 0.06926603 | 0.05487774 | 22 | 249.40039 | 1.815888e-39 | 13.572720 | 13.800339 | two.sided | 0 | 0.95 |\n| 23 |  6.979961 | 0.12012338 | 0.07226864 | 22 |  96.58354 | 2.059642e-30 |  6.830085 |  7.129837 | two.sided | 0 | 0.95 |\n| 23 |  7.153071 | 0.37731258 | 0.12808159 | 22 |  55.84777 | 3.358433e-25 |  6.887446 |  7.418696 | two.sided | 0 | 0.95 |\n| 23 |  8.054334 | 0.20466469 | 0.09433167 | 22 |  85.38313 | 3.079386e-29 |  7.858702 |  8.249966 | two.sided | 0 | 0.95 |\n| 23 |  5.229191 | 0.33812715 | 0.12124842 | 22 |  43.12791 | 9.417299e-23 |  4.977737 |  5.480645 | two.sided | 0 | 0.95 |\n| 23 |  5.301326 | 0.20833685 | 0.09517418 | 22 |  55.70131 | 3.556781e-25 |  5.103947 |  5.498705 | two.sided | 0 | 0.95 |\n| 23 |  5.346297 | 0.07228133 | 0.05605949 | 22 |  95.36828 | 2.719553e-30 |  5.230037 |  5.462557 | two.sided | 0 | 0.95 |\n| 23 | 11.818263 | 0.09739963 | 0.06507509 | 22 | 181.60964 | 1.942390e-36 | 11.683305 | 11.953220 | two.sided | 0 | 0.95 |\n| 23 |  9.890464 | 0.04297298 | 0.04322488 | 22 | 228.81413 | 1.207533e-38 |  9.800821 |  9.980106 | two.sided | 0 | 0.95 |\n| 23 |  4.914349 | 0.33859729 | 0.12133269 | 22 |  40.50309 | 3.687359e-22 |  4.662721 |  5.165978 | two.sided | 0 | 0.95 |\n| 23 | 11.201170 | 0.07924774 | 0.05869884 | 22 | 190.82438 | 6.542363e-37 | 11.079436 | 11.322904 | two.sided | 0 | 0.95 |\n| 23 |  5.666900 | 0.74009376 | 0.17938224 | 22 |  31.59120 | 7.982924e-20 |  5.294884 |  6.038916 | two.sided | 0 | 0.95 |\n| 23 | 12.636203 | 0.01722194 | 0.02736384 | 22 | 461.78466 | 2.367573e-45 | 12.579454 | 12.692952 | two.sided | 0 | 0.95 |\n| 23 |  4.905434 | 0.34211164 | 0.12196073 | 22 |  40.22142 | 4.290832e-22 |  4.652502 |  5.158365 | two.sided | 0 | 0.95 |\n| 23 |  9.672546 | 0.07967924 | 0.05885843 | 22 | 164.33578 | 1.748275e-35 |  9.550481 |  9.794611 | two.sided | 0 | 0.95 |\n| 23 | 12.106829 | 0.03667156 | 0.03993014 | 22 | 303.20030 | 2.473419e-41 | 12.024019 | 12.189639 | two.sided | 0 | 0.95 |\n| 23 |  8.344406 | 0.45440085 | 0.14055803 | 22 |  59.36627 | 8.832427e-26 |  8.052906 |  8.635905 | two.sided | 0 | 0.95 |\n\n",
            "text/html": [
              "<table class=\"dataframe\">\n",
              "<caption>A data.frame: 42575 × 12</caption>\n",
              "<thead>\n",
              "\t<tr><th scope=col>obs</th><th scope=col>mean</th><th scope=col>var</th><th scope=col>stderr</th><th scope=col>df</th><th scope=col>statistic</th><th scope=col>pvalue</th><th scope=col>conf.low</th><th scope=col>conf.high</th><th scope=col>alternative</th><th scope=col>mean.null</th><th scope=col>conf.level</th></tr>\n",
              "\t<tr><th scope=col>&lt;int&gt;</th><th scope=col>&lt;dbl&gt;</th><th scope=col>&lt;dbl&gt;</th><th scope=col>&lt;dbl&gt;</th><th scope=col>&lt;dbl&gt;</th><th scope=col>&lt;dbl&gt;</th><th scope=col>&lt;dbl&gt;</th><th scope=col>&lt;dbl&gt;</th><th scope=col>&lt;dbl&gt;</th><th scope=col>&lt;chr&gt;</th><th scope=col>&lt;dbl&gt;</th><th scope=col>&lt;dbl&gt;</th></tr>\n",
              "</thead>\n",
              "<tbody>\n",
              "\t<tr><td>23</td><td>11.908495</td><td>0.06754884</td><td>0.05419323</td><td>22</td><td>219.74138</td><td>2.939670e-38</td><td>11.796105</td><td>12.020885</td><td>two.sided</td><td>0</td><td>0.95</td></tr>\n",
              "\t<tr><td>23</td><td>11.150604</td><td>0.10841511</td><td>0.06865639</td><td>22</td><td>162.41174</td><td>2.264878e-35</td><td>11.008220</td><td>11.292989</td><td>two.sided</td><td>0</td><td>0.95</td></tr>\n",
              "\t<tr><td>23</td><td> 5.323758</td><td>0.18685609</td><td>0.09013422</td><td>22</td><td> 59.06478</td><td>9.872667e-26</td><td> 5.136832</td><td> 5.510685</td><td>two.sided</td><td>0</td><td>0.95</td></tr>\n",
              "\t<tr><td>23</td><td> 9.343516</td><td>0.21843536</td><td>0.09745352</td><td>22</td><td> 95.87663</td><td>2.420026e-30</td><td> 9.141409</td><td> 9.545622</td><td>two.sided</td><td>0</td><td>0.95</td></tr>\n",
              "\t<tr><td>23</td><td> 7.164694</td><td>0.12801174</td><td>0.07460380</td><td>22</td><td> 96.03657</td><td>2.333088e-30</td><td> 7.009975</td><td> 7.319412</td><td>two.sided</td><td>0</td><td>0.95</td></tr>\n",
              "\t<tr><td>23</td><td>12.600482</td><td>0.06332860</td><td>0.05247302</td><td>22</td><td>240.13260</td><td>4.176126e-39</td><td>12.491660</td><td>12.709305</td><td>two.sided</td><td>0</td><td>0.95</td></tr>\n",
              "\t<tr><td>23</td><td>12.182515</td><td>0.03217753</td><td>0.03740352</td><td>22</td><td>325.70506</td><td>5.121016e-42</td><td>12.104945</td><td>12.260085</td><td>two.sided</td><td>0</td><td>0.95</td></tr>\n",
              "\t<tr><td>23</td><td> 6.553775</td><td>0.93039399</td><td>0.20112661</td><td>22</td><td> 32.58532</td><td>4.093261e-20</td><td> 6.136664</td><td> 6.970886</td><td>two.sided</td><td>0</td><td>0.95</td></tr>\n",
              "\t<tr><td>23</td><td>10.897177</td><td>0.12633467</td><td>0.07411350</td><td>22</td><td>147.03362</td><td>2.016611e-34</td><td>10.743475</td><td>11.050879</td><td>two.sided</td><td>0</td><td>0.95</td></tr>\n",
              "\t<tr><td>23</td><td>11.520557</td><td>0.62122160</td><td>0.16434608</td><td>22</td><td> 70.09937</td><td>2.324252e-27</td><td>11.179724</td><td>11.861390</td><td>two.sided</td><td>0</td><td>0.95</td></tr>\n",
              "\t<tr><td>23</td><td>12.719607</td><td>0.15304710</td><td>0.08157341</td><td>22</td><td>155.92834</td><td>5.545658e-35</td><td>12.550434</td><td>12.888780</td><td>two.sided</td><td>0</td><td>0.95</td></tr>\n",
              "\t<tr><td>23</td><td> 5.329462</td><td>0.27279452</td><td>0.10890653</td><td>22</td><td> 48.93611</td><td>6.007994e-24</td><td> 5.103603</td><td> 5.555320</td><td>two.sided</td><td>0</td><td>0.95</td></tr>\n",
              "\t<tr><td>23</td><td> 8.873528</td><td>0.61602856</td><td>0.16365772</td><td>22</td><td> 54.22004</td><td>6.409073e-25</td><td> 8.534123</td><td> 9.212933</td><td>two.sided</td><td>0</td><td>0.95</td></tr>\n",
              "\t<tr><td>23</td><td>11.646482</td><td>0.02322898</td><td>0.03177980</td><td>22</td><td>366.47438</td><td>3.825914e-43</td><td>11.580574</td><td>11.712389</td><td>two.sided</td><td>0</td><td>0.95</td></tr>\n",
              "\t<tr><td>23</td><td>10.794631</td><td>0.04871160</td><td>0.04602060</td><td>22</td><td>234.56085</td><td>6.998305e-39</td><td>10.699190</td><td>10.890072</td><td>two.sided</td><td>0</td><td>0.95</td></tr>\n",
              "\t<tr><td>23</td><td>11.355709</td><td>0.24543652</td><td>0.10330127</td><td>22</td><td>109.92807</td><td>1.201513e-31</td><td>11.141476</td><td>11.569943</td><td>two.sided</td><td>0</td><td>0.95</td></tr>\n",
              "\t<tr><td>23</td><td>12.269729</td><td>0.03908633</td><td>0.04122385</td><td>22</td><td>297.63667</td><td>3.717118e-41</td><td>12.184236</td><td>12.355222</td><td>two.sided</td><td>0</td><td>0.95</td></tr>\n",
              "\t<tr><td>23</td><td>12.214422</td><td>0.13565817</td><td>0.07679962</td><td>22</td><td>159.04274</td><td>3.590540e-35</td><td>12.055149</td><td>12.373694</td><td>two.sided</td><td>0</td><td>0.95</td></tr>\n",
              "\t<tr><td>23</td><td> 9.012735</td><td>0.54494131</td><td>0.15392563</td><td>22</td><td> 58.55253</td><td>1.194416e-25</td><td> 8.693513</td><td> 9.331957</td><td>two.sided</td><td>0</td><td>0.95</td></tr>\n",
              "\t<tr><td>23</td><td> 5.616674</td><td>0.28365554</td><td>0.11105336</td><td>22</td><td> 50.57635</td><td>2.926797e-24</td><td> 5.386363</td><td> 5.846985</td><td>two.sided</td><td>0</td><td>0.95</td></tr>\n",
              "\t<tr><td>23</td><td> 6.607440</td><td>0.24385817</td><td>0.10296858</td><td>22</td><td> 64.16947</td><td>1.609990e-26</td><td> 6.393896</td><td> 6.820984</td><td>two.sided</td><td>0</td><td>0.95</td></tr>\n",
              "\t<tr><td>23</td><td> 7.351945</td><td>0.07006450</td><td>0.05519314</td><td>22</td><td>133.20398</td><td>1.767639e-33</td><td> 7.237482</td><td> 7.466409</td><td>two.sided</td><td>0</td><td>0.95</td></tr>\n",
              "\t<tr><td>23</td><td> 5.382313</td><td>0.27972401</td><td>0.11028107</td><td>22</td><td> 48.80541</td><td>6.368809e-24</td><td> 5.153604</td><td> 5.611022</td><td>two.sided</td><td>0</td><td>0.95</td></tr>\n",
              "\t<tr><td>23</td><td> 9.432083</td><td>0.34987996</td><td>0.12333764</td><td>22</td><td> 76.47368</td><td>3.451367e-28</td><td> 9.176296</td><td> 9.687869</td><td>two.sided</td><td>0</td><td>0.95</td></tr>\n",
              "\t<tr><td>23</td><td>12.456657</td><td>0.89761460</td><td>0.19755182</td><td>22</td><td> 63.05514</td><td>2.362282e-26</td><td>12.046960</td><td>12.866354</td><td>two.sided</td><td>0</td><td>0.95</td></tr>\n",
              "\t<tr><td>23</td><td>10.318168</td><td>0.19930801</td><td>0.09308902</td><td>22</td><td>110.84194</td><td>1.001758e-31</td><td>10.125113</td><td>10.511223</td><td>two.sided</td><td>0</td><td>0.95</td></tr>\n",
              "\t<tr><td>23</td><td>13.424467</td><td>0.04130843</td><td>0.04237946</td><td>22</td><td>316.76823</td><td>9.443335e-42</td><td>13.336578</td><td>13.512357</td><td>two.sided</td><td>0</td><td>0.95</td></tr>\n",
              "\t<tr><td>23</td><td>12.788507</td><td>0.01705116</td><td>0.02722783</td><td>22</td><td>469.68507</td><td>1.630195e-45</td><td>12.732040</td><td>12.844974</td><td>two.sided</td><td>0</td><td>0.95</td></tr>\n",
              "\t<tr><td>23</td><td> 6.681030</td><td>0.14361078</td><td>0.07901865</td><td>22</td><td> 84.55005</td><td>3.818321e-29</td><td> 6.517156</td><td> 6.844905</td><td>two.sided</td><td>0</td><td>0.95</td></tr>\n",
              "\t<tr><td>23</td><td> 4.632264</td><td>0.32810019</td><td>0.11943712</td><td>22</td><td> 38.78412</td><td>9.453270e-22</td><td> 4.384566</td><td> 4.879961</td><td>two.sided</td><td>0</td><td>0.95</td></tr>\n",
              "\t<tr><td>⋮</td><td>⋮</td><td>⋮</td><td>⋮</td><td>⋮</td><td>⋮</td><td>⋮</td><td>⋮</td><td>⋮</td><td>⋮</td><td>⋮</td><td>⋮</td></tr>\n",
              "\t<tr><td>23</td><td> 4.825690</td><td>0.42219645</td><td>0.13548567</td><td>22</td><td> 35.61771</td><td>5.985183e-21</td><td> 4.544710</td><td> 5.106670</td><td>two.sided</td><td>0</td><td>0.95</td></tr>\n",
              "\t<tr><td>23</td><td>11.515944</td><td>0.11541435</td><td>0.07083795</td><td>22</td><td>162.56744</td><td>2.217670e-35</td><td>11.369035</td><td>11.662853</td><td>two.sided</td><td>0</td><td>0.95</td></tr>\n",
              "\t<tr><td>23</td><td> 5.445331</td><td>0.13984780</td><td>0.07797653</td><td>22</td><td> 69.83295</td><td>2.526436e-27</td><td> 5.283618</td><td> 5.607045</td><td>two.sided</td><td>0</td><td>0.95</td></tr>\n",
              "\t<tr><td>23</td><td> 6.317297</td><td>0.26638381</td><td>0.10761926</td><td>22</td><td> 58.70043</td><td>1.130312e-25</td><td> 6.094108</td><td> 6.540486</td><td>two.sided</td><td>0</td><td>0.95</td></tr>\n",
              "\t<tr><td>23</td><td> 7.083813</td><td>0.30187325</td><td>0.11456406</td><td>22</td><td> 61.83277</td><td>3.625478e-26</td><td> 6.846221</td><td> 7.321404</td><td>two.sided</td><td>0</td><td>0.95</td></tr>\n",
              "\t<tr><td>23</td><td> 4.367007</td><td>0.17102029</td><td>0.08623030</td><td>22</td><td> 50.64353</td><td>2.843235e-24</td><td> 4.188177</td><td> 4.545838</td><td>two.sided</td><td>0</td><td>0.95</td></tr>\n",
              "\t<tr><td>23</td><td>11.140972</td><td>1.10046456</td><td>0.21873794</td><td>22</td><td> 50.93297</td><td>2.510759e-24</td><td>10.687337</td><td>11.594607</td><td>two.sided</td><td>0</td><td>0.95</td></tr>\n",
              "\t<tr><td>23</td><td> 9.712345</td><td>0.13739568</td><td>0.07728988</td><td>22</td><td>125.66128</td><td>6.362655e-33</td><td> 9.552056</td><td> 9.872634</td><td>two.sided</td><td>0</td><td>0.95</td></tr>\n",
              "\t<tr><td>23</td><td> 9.486264</td><td>0.13538642</td><td>0.07672266</td><td>22</td><td>123.64358</td><td>9.080012e-33</td><td> 9.327151</td><td> 9.645377</td><td>two.sided</td><td>0</td><td>0.95</td></tr>\n",
              "\t<tr><td>23</td><td> 6.536149</td><td>0.19005405</td><td>0.09090225</td><td>22</td><td> 71.90304</td><td>1.332184e-27</td><td> 6.347629</td><td> 6.724668</td><td>two.sided</td><td>0</td><td>0.95</td></tr>\n",
              "\t<tr><td>23</td><td> 8.321694</td><td>0.70777697</td><td>0.17542210</td><td>22</td><td> 47.43812</td><td>1.183314e-23</td><td> 7.957891</td><td> 8.685498</td><td>two.sided</td><td>0</td><td>0.95</td></tr>\n",
              "\t<tr><td>23</td><td> 5.047465</td><td>0.17001705</td><td>0.08597701</td><td>22</td><td> 58.70715</td><td>1.127489e-25</td><td> 4.869159</td><td> 5.225770</td><td>two.sided</td><td>0</td><td>0.95</td></tr>\n",
              "\t<tr><td>23</td><td>12.756401</td><td>0.05867521</td><td>0.05050837</td><td>22</td><td>252.56012</td><td>1.376705e-39</td><td>12.651653</td><td>12.861149</td><td>two.sided</td><td>0</td><td>0.95</td></tr>\n",
              "\t<tr><td>23</td><td>13.686530</td><td>0.06926603</td><td>0.05487774</td><td>22</td><td>249.40039</td><td>1.815888e-39</td><td>13.572720</td><td>13.800339</td><td>two.sided</td><td>0</td><td>0.95</td></tr>\n",
              "\t<tr><td>23</td><td> 6.979961</td><td>0.12012338</td><td>0.07226864</td><td>22</td><td> 96.58354</td><td>2.059642e-30</td><td> 6.830085</td><td> 7.129837</td><td>two.sided</td><td>0</td><td>0.95</td></tr>\n",
              "\t<tr><td>23</td><td> 7.153071</td><td>0.37731258</td><td>0.12808159</td><td>22</td><td> 55.84777</td><td>3.358433e-25</td><td> 6.887446</td><td> 7.418696</td><td>two.sided</td><td>0</td><td>0.95</td></tr>\n",
              "\t<tr><td>23</td><td> 8.054334</td><td>0.20466469</td><td>0.09433167</td><td>22</td><td> 85.38313</td><td>3.079386e-29</td><td> 7.858702</td><td> 8.249966</td><td>two.sided</td><td>0</td><td>0.95</td></tr>\n",
              "\t<tr><td>23</td><td> 5.229191</td><td>0.33812715</td><td>0.12124842</td><td>22</td><td> 43.12791</td><td>9.417299e-23</td><td> 4.977737</td><td> 5.480645</td><td>two.sided</td><td>0</td><td>0.95</td></tr>\n",
              "\t<tr><td>23</td><td> 5.301326</td><td>0.20833685</td><td>0.09517418</td><td>22</td><td> 55.70131</td><td>3.556781e-25</td><td> 5.103947</td><td> 5.498705</td><td>two.sided</td><td>0</td><td>0.95</td></tr>\n",
              "\t<tr><td>23</td><td> 5.346297</td><td>0.07228133</td><td>0.05605949</td><td>22</td><td> 95.36828</td><td>2.719553e-30</td><td> 5.230037</td><td> 5.462557</td><td>two.sided</td><td>0</td><td>0.95</td></tr>\n",
              "\t<tr><td>23</td><td>11.818263</td><td>0.09739963</td><td>0.06507509</td><td>22</td><td>181.60964</td><td>1.942390e-36</td><td>11.683305</td><td>11.953220</td><td>two.sided</td><td>0</td><td>0.95</td></tr>\n",
              "\t<tr><td>23</td><td> 9.890464</td><td>0.04297298</td><td>0.04322488</td><td>22</td><td>228.81413</td><td>1.207533e-38</td><td> 9.800821</td><td> 9.980106</td><td>two.sided</td><td>0</td><td>0.95</td></tr>\n",
              "\t<tr><td>23</td><td> 4.914349</td><td>0.33859729</td><td>0.12133269</td><td>22</td><td> 40.50309</td><td>3.687359e-22</td><td> 4.662721</td><td> 5.165978</td><td>two.sided</td><td>0</td><td>0.95</td></tr>\n",
              "\t<tr><td>23</td><td>11.201170</td><td>0.07924774</td><td>0.05869884</td><td>22</td><td>190.82438</td><td>6.542363e-37</td><td>11.079436</td><td>11.322904</td><td>two.sided</td><td>0</td><td>0.95</td></tr>\n",
              "\t<tr><td>23</td><td> 5.666900</td><td>0.74009376</td><td>0.17938224</td><td>22</td><td> 31.59120</td><td>7.982924e-20</td><td> 5.294884</td><td> 6.038916</td><td>two.sided</td><td>0</td><td>0.95</td></tr>\n",
              "\t<tr><td>23</td><td>12.636203</td><td>0.01722194</td><td>0.02736384</td><td>22</td><td>461.78466</td><td>2.367573e-45</td><td>12.579454</td><td>12.692952</td><td>two.sided</td><td>0</td><td>0.95</td></tr>\n",
              "\t<tr><td>23</td><td> 4.905434</td><td>0.34211164</td><td>0.12196073</td><td>22</td><td> 40.22142</td><td>4.290832e-22</td><td> 4.652502</td><td> 5.158365</td><td>two.sided</td><td>0</td><td>0.95</td></tr>\n",
              "\t<tr><td>23</td><td> 9.672546</td><td>0.07967924</td><td>0.05885843</td><td>22</td><td>164.33578</td><td>1.748275e-35</td><td> 9.550481</td><td> 9.794611</td><td>two.sided</td><td>0</td><td>0.95</td></tr>\n",
              "\t<tr><td>23</td><td>12.106829</td><td>0.03667156</td><td>0.03993014</td><td>22</td><td>303.20030</td><td>2.473419e-41</td><td>12.024019</td><td>12.189639</td><td>two.sided</td><td>0</td><td>0.95</td></tr>\n",
              "\t<tr><td>23</td><td> 8.344406</td><td>0.45440085</td><td>0.14055803</td><td>22</td><td> 59.36627</td><td>8.832427e-26</td><td> 8.052906</td><td> 8.635905</td><td>two.sided</td><td>0</td><td>0.95</td></tr>\n",
              "</tbody>\n",
              "</table>\n"
            ]
          },
          "metadata": {}
        }
      ]
    },
    {
      "cell_type": "code",
      "metadata": {
        "id": "9tdYjYHYiD93"
      },
      "source": [
        "#dataExprCBA_df_ttest\n",
        "\n",
        "write.csv(dataExprCBA_df_ttest, \"datExprCBA_ttest.csv\")"
      ],
      "execution_count": 34,
      "outputs": []
    },
    {
      "cell_type": "code",
      "metadata": {
        "id": "evP9hXthiVqO"
      },
      "source": [
        "#cbind(c(dataExprCBA_df_ttest[6]), (dataExprCBA_df_ttest[7]))"
      ],
      "execution_count": 35,
      "outputs": []
    }
  ]
}