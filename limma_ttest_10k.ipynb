{
  "nbformat": 4,
  "nbformat_minor": 0,
  "metadata": {
    "colab": {
      "name": "limma_ttest_10k.ipynb",
      "provenance": [],
      "authorship_tag": "ABX9TyOpPKxxyUQh2+ZJiUJhu2JO",
      "include_colab_link": true
    },
    "kernelspec": {
      "name": "ir",
      "display_name": "R"
    },
    "language_info": {
      "name": "R"
    }
  },
  "cells": [
    {
      "cell_type": "markdown",
      "metadata": {
        "id": "view-in-github",
        "colab_type": "text"
      },
      "source": [
        "<a href=\"https://colab.research.google.com/github/almedida/thesis/blob/main/limma_ttest_10k.ipynb\" target=\"_parent\"><img src=\"https://colab.research.google.com/assets/colab-badge.svg\" alt=\"Open In Colab\"/></a>"
      ]
    },
    {
      "cell_type": "code",
      "execution_count": null,
      "metadata": {
        "id": "Y9yuvvKAngEo"
      },
      "outputs": [],
      "source": [
        "#install BiocManager\n",
        "if (!requireNamespace(\"BiocManager\", quietly = TRUE))\n",
        "  install.packages(\"BiocManager\")\n",
        "\n",
        "#install limma and qvalue packages\n",
        "BiocManager::install(c(\"limma\", \"qvalue\"))\n",
        "library(limma)\n",
        "library(qvalue)\n",
        "\n",
        "install.packages('pacman')\n",
        "library(pacman, devtools)\n",
        "p_load(\"tidyverse\", \"matrixTests\", \"gtools\", \"VennDiagram\")\n",
        "\n"
      ]
    },
    {
      "cell_type": "code",
      "source": [
        "#gene expression analysis for the 2 levels (Tech and CBA) for liver\n",
        "\n",
        "#load table on data frame liverExpr\n",
        "liverExpr = read.table(\"liver.csv\", header= T, sep=\",\")\n",
        "\n",
        "#create a factor list for the differentially expressed genes with Tech set as first level\n",
        "liverList <- factor(\n",
        "  x = c(rep(\"Tech\",6), rep(\"CBA\",6)),\n",
        "  levels=c(\"Tech\",\"CBA\")            # Set Tech to be the first level\n",
        ")\n",
        "\n",
        "design <- model.matrix(~liverList)          # Remove the zero\n",
        "\n",
        "\n"
      ],
      "metadata": {
        "id": "FVqUkBWYnqfG"
      },
      "execution_count": null,
      "outputs": []
    },
    {
      "cell_type": "code",
      "source": [
        "#Now we can run the differential expression pipeline\n",
        "\n",
        "fit <- lmFit(liverExpr, design)\n",
        "fit <- eBayes(fit)\n",
        "results <- decideTests(fit)\n",
        "write.csv(summary(results), \"summaryLiver2.csv\")\n"
      ],
      "metadata": {
        "id": "IPG50Oyrnzr7"
      },
      "execution_count": null,
      "outputs": []
    },
    {
      "cell_type": "code",
      "source": [
        "#View(fit, ceof=\"liverListCBA\")\n",
        "#The differentially expressed genes\n",
        "\n",
        "write.csv(topTable(fit, coef=\"liverListCBA\", n=42575), \"topLiver2.csv\")"
      ],
      "metadata": {
        "id": "sWzCNOspn7aO"
      },
      "execution_count": null,
      "outputs": []
    },
    {
      "cell_type": "code",
      "source": [
        "\n",
        "#visualization of the results\n",
        "plotMD(fit, coef=\"liverListCBA\", status=results)\n"
      ],
      "metadata": {
        "id": "-0kyvt9Un_xm"
      },
      "execution_count": null,
      "outputs": []
    },
    {
      "cell_type": "code",
      "source": [
        "##########################################\n",
        "#visualization of the results using intersection method \n",
        "#on the adjusted p-values from limma test\n",
        "#excel was used to do the intersection method analysis\n",
        "\n",
        "#adjusted p-values <=0.01\n",
        "draw.pairwise.venn(area1=21245, area2=7520,cross.area=3723,\n",
        "                   category=c(\"Kidney\",\"Liver\"),fill=c(\"Red\",\"Green\"),\n",
        ")\n",
        "\n",
        "\n",
        "#adjusted p-values <=0.05\n",
        "draw.pairwise.venn(area1=27350, area2=12989,cross.area=8144,\n",
        "                   category=c(\"Kidney\",\"Liver\"),fill=c(\"Red\",\"Green\"),\n",
        ")\n",
        "\n",
        "#adjusted p-values <=0.1\n",
        "draw.pairwise.venn(area1=30168, area2=16461,cross.area=11382,\n",
        "                   category=c(\"Kidney\",\"Liver\"),fill=c(\"Red\",\"Green\"),\n",
        ")"
      ],
      "metadata": {
        "id": "dNK5sa67oHYm"
      },
      "execution_count": null,
      "outputs": []
    },
    {
      "cell_type": "code",
      "source": [
        "##################################################\n",
        "# Setting CBA to be the first level\n",
        "liverList2 <- factor(\n",
        "  x = c(rep(\"Tech\",6), rep(\"CBA\",6)),\n",
        "  levels=c(\"CBA\",\"Tech\")            # Set Tech to be the first level\n",
        ")\n",
        "\n",
        "design2 <- model.matrix(~liverList2)          # Remove the zero"
      ],
      "metadata": {
        "id": "tI4GPf7yoSfd"
      },
      "execution_count": null,
      "outputs": []
    },
    {
      "cell_type": "code",
      "source": [
        "#Now we can run the differential expression pipeline\n",
        "\n",
        "fit2 <- lmFit(liverExpr, design)\n",
        "fit2 <- eBayes(fit2)\n",
        "results2 <- decideTests(fit2)\n",
        "summary(results2)\n",
        "dim(results2)\n",
        "\n",
        "topTable(fit2, coef=\"liverListCBA\", n=30)\n",
        "plotMD(fit, coef=\"liverlistCBA\", status=results)"
      ],
      "metadata": {
        "id": "Zoi8E7-MoWFu"
      },
      "execution_count": null,
      "outputs": []
    },
    {
      "cell_type": "code",
      "source": [
        "##################################################################################\n",
        "#either level gives the same results.\n",
        "\n",
        "#gene expression analysis for the 2 levels (Tech and CBA) for kidney\n",
        "\n",
        "#load table on data frame kidneyExpr\n",
        "kidneyExpr = read.table(\"kidney.csv\", header= T, sep=\",\")\n",
        "dim(kidneyExpr)\n",
        "#create a factor list for the differentially expressed genes with Tech set as first level\n",
        "kidneyList <- factor(\n",
        "  x = c(rep(\"Tech\",5), rep(\"CBA\",5)),\n",
        "  levels=c(\"Tech\",\"CBA\")            # Set Tech to be the first level\n",
        ")\n",
        "\n",
        "head(kidneyList)\n",
        "designKidney <- model.matrix(~kidneyList)          # Remove the zero"
      ],
      "metadata": {
        "id": "26NJ8WQ4ofhC"
      },
      "execution_count": null,
      "outputs": []
    },
    {
      "cell_type": "code",
      "source": [
        "##########################################\n",
        "#visualization of the results using intersection method \n",
        "#on the adjusted p-values from limma test vs BH ttest for each experiment\n",
        "#excel was used to do the intersection method analysis\n",
        "\n",
        "#experiment 1 - kidney\n",
        "#adjusted p-values <=0.01\n",
        "draw.pairwise.venn(area1=21245, area2=19092,cross.area=18560,\n",
        "                   category=c(\"Moderated t-test\",\"BH t-test\"),fill=c(\"Red\",\"Green\"),\n",
        ")\n",
        "\n",
        "\n",
        "#adjusted p-values <=0.05\n",
        "draw.pairwise.venn(area1=27350, area2=26162,cross.area=25658,\n",
        "                   category=c(\"Kidney\",\"Liver\"),fill=c(\"Red\",\"Green\"),\n",
        ")\n",
        "\n",
        "#adjusted p-values <=0.1\n",
        "draw.pairwise.venn(area1=30168, area2=29334,cross.area=28879,\n",
        "                   category=c(\"Kidney\",\"Liver\"),fill=c(\"Red\",\"Green\"),\n",
        ")\n"
      ],
      "metadata": {
        "id": "G_kqAu9Co1lB"
      },
      "execution_count": null,
      "outputs": []
    },
    {
      "cell_type": "code",
      "source": [
        "#experiment 2 - liver\n",
        "#adjusted p-values <=0.01\n",
        "draw.pairwise.venn(area1=7520, area2=6159,cross.area=5739,\n",
        "                   category=c(\"Moderated t-test\",\"BH t-test\"),fill=c(\"Red\",\"Green\"),\n",
        ")\n",
        "\n",
        "\n",
        "#adjusted p-values <=0.05\n",
        "draw.pairwise.venn(area1=12989, area2=12114,cross.area=11385,\n",
        "                   category=c(\"Kidney\",\"Liver\"),fill=c(\"Red\",\"Green\"),\n",
        ")\n",
        "\n",
        "#adjusted p-values <=0.1\n",
        "draw.pairwise.venn(area1=16461, area2=15862,cross.area=14977,\n",
        "                   category=c(\"Kidney\",\"Liver\"),fill=c(\"Red\",\"Green\"),\n",
        ")"
      ],
      "metadata": {
        "id": "ls2iSkMuo5To"
      },
      "execution_count": null,
      "outputs": []
    },
    {
      "cell_type": "code",
      "source": [
        "#Now we can run the differential expression pipeline\n",
        "fitKidney <- lmFit(kidneyExpr, designKidney)\n",
        "fitKidney <- eBayes(fitKidney)\n",
        "resultsKidney <- decideTests(fitKidney)\n",
        "write.csv(summary(resultsKidney), \"summaryKidney.csv\")\n",
        "\n",
        "#The top 30 differentially expressed genes\n",
        "\n",
        "write.csv(topTable(fitKidney, coef=\"kidneyListCBA\", n=42575), \"topKidney2.csv\")\n",
        "\n",
        "#visualization of the results\n",
        "plotMD(fitKidney, coef=\"kidneyListCBA\", status=resultsKidney)\n",
        "\n"
      ],
      "metadata": {
        "id": "lhqVUjz6pB2j"
      },
      "execution_count": null,
      "outputs": []
    }
  ]
}