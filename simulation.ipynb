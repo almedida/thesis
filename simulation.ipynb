{
  "nbformat": 4,
  "nbformat_minor": 0,
  "metadata": {
    "colab": {
      "name": "simulation.ipynb",
      "provenance": [],
      "authorship_tag": "ABX9TyOhko0EeDYYzAvtlXUzNYKU",
      "include_colab_link": true
    },
    "kernelspec": {
      "name": "ir",
      "display_name": "R"
    },
    "language_info": {
      "name": "R"
    }
  },
  "cells": [
    {
      "cell_type": "markdown",
      "metadata": {
        "id": "view-in-github",
        "colab_type": "text"
      },
      "source": [
        "<a href=\"https://colab.research.google.com/github/almedida/thesis/blob/main/simulation.ipynb\" target=\"_parent\"><img src=\"https://colab.research.google.com/assets/colab-badge.svg\" alt=\"Open In Colab\"/></a>"
      ]
    },
    {
      "cell_type": "code",
      "execution_count": 14,
      "metadata": {
        "id": "Q4ZIf_LWvFxD"
      },
      "outputs": [],
      "source": [
        "#load dataset\n",
        "sim_data = read.table(\"sim_data.csv\", header= TRUE, sep=\",\")\n",
        "N = ncol(sim_data) #no of columns\n",
        "n_gene = nrow(sim_data) #no of rows"
      ]
    },
    {
      "cell_type": "code",
      "source": [
        "head(sim_data)"
      ],
      "metadata": {
        "colab": {
          "base_uri": "https://localhost:8080/",
          "height": 303
        },
        "id": "b7UnOUy0vWRX",
        "outputId": "c5bc9455-79fd-465b-d4cd-eeab6f36bba9"
      },
      "execution_count": 10,
      "outputs": [
        {
          "output_type": "display_data",
          "data": {
            "text/plain": [
              "  GSM1247203 GSM1247204 GSM1247205 GSM1247206 GSM1247207 GSM1247208 GSM1247209\n",
              "1 4.319644   4.396137    3.968531  3.979268   3.901083   4.207761   3.963131  \n",
              "2 9.608635   9.244517   10.553440  9.754355   8.997556   9.027160   9.227125  \n",
              "3 5.923612   6.797588    6.369745  5.671180   6.077140   6.341990   6.686084  \n",
              "4 9.911118   9.421990    9.358638  9.275714   8.573832   9.072234   9.053680  \n",
              "5 6.292236   6.047995    6.268707  6.275980   6.257831   6.371053   6.149960  \n",
              "6 7.310085   8.409503    7.802326  7.260794   7.598630   7.504309   8.223495  \n",
              "  GSM1247210 GSM1247211 GSM1247212 ⋯ GSM1247410 GSM1247411 GSM1247412\n",
              "1 4.164432   3.873857   4.217890   ⋯  4.484714  4.219507   3.925787  \n",
              "2 9.198466   8.908276   9.604081   ⋯  8.846296  8.666471   9.462380  \n",
              "3 6.154192   5.906662   6.186725   ⋯  6.820596  6.006575   6.250236  \n",
              "4 9.549565   9.458813   9.247518   ⋯ 10.028440  9.816180   8.794598  \n",
              "5 6.261317   6.361110   6.336733   ⋯  6.278971  6.549239   6.395798  \n",
              "6 7.424841   7.065065   7.577485   ⋯  7.754192  7.051993   7.425191  \n",
              "  GSM1247413 GSM1247414 GSM1247415 GSM1247416 GSM1247417 GSM1247418 GSM1247419\n",
              "1 3.861954   4.015559   4.623454   5.223074   3.927950   3.798007   3.958021  \n",
              "2 9.199890   9.022814   9.072050   9.679663   8.615543   8.796901   8.688204  \n",
              "3 6.047955   6.467733   6.707928   7.916406   5.589499   5.016101   5.278193  \n",
              "4 9.688042   8.914406   9.211488   9.399957   9.693126   8.551371   9.780800  \n",
              "5 6.263772   6.119008   6.146906   6.276937   6.206087   6.438444   6.251627  \n",
              "6 7.989666   7.573813   7.743429   8.081255   7.023867   7.322741   7.321942  "
            ],
            "text/latex": "A data.frame: 6 × 217\n\\begin{tabular}{r|lllllllllllllllllllll}\n  & GSM1247203 & GSM1247204 & GSM1247205 & GSM1247206 & GSM1247207 & GSM1247208 & GSM1247209 & GSM1247210 & GSM1247211 & GSM1247212 & ⋯ & GSM1247410 & GSM1247411 & GSM1247412 & GSM1247413 & GSM1247414 & GSM1247415 & GSM1247416 & GSM1247417 & GSM1247418 & GSM1247419\\\\\n  & <dbl> & <dbl> & <dbl> & <dbl> & <dbl> & <dbl> & <dbl> & <dbl> & <dbl> & <dbl> & ⋯ & <dbl> & <dbl> & <dbl> & <dbl> & <dbl> & <dbl> & <dbl> & <dbl> & <dbl> & <dbl>\\\\\n\\hline\n\t1 & 4.319644 & 4.396137 &  3.968531 & 3.979268 & 3.901083 & 4.207761 & 3.963131 & 4.164432 & 3.873857 & 4.217890 & ⋯ &  4.484714 & 4.219507 & 3.925787 & 3.861954 & 4.015559 & 4.623454 & 5.223074 & 3.927950 & 3.798007 & 3.958021\\\\\n\t2 & 9.608635 & 9.244517 & 10.553440 & 9.754355 & 8.997556 & 9.027160 & 9.227125 & 9.198466 & 8.908276 & 9.604081 & ⋯ &  8.846296 & 8.666471 & 9.462380 & 9.199890 & 9.022814 & 9.072050 & 9.679663 & 8.615543 & 8.796901 & 8.688204\\\\\n\t3 & 5.923612 & 6.797588 &  6.369745 & 5.671180 & 6.077140 & 6.341990 & 6.686084 & 6.154192 & 5.906662 & 6.186725 & ⋯ &  6.820596 & 6.006575 & 6.250236 & 6.047955 & 6.467733 & 6.707928 & 7.916406 & 5.589499 & 5.016101 & 5.278193\\\\\n\t4 & 9.911118 & 9.421990 &  9.358638 & 9.275714 & 8.573832 & 9.072234 & 9.053680 & 9.549565 & 9.458813 & 9.247518 & ⋯ & 10.028440 & 9.816180 & 8.794598 & 9.688042 & 8.914406 & 9.211488 & 9.399957 & 9.693126 & 8.551371 & 9.780800\\\\\n\t5 & 6.292236 & 6.047995 &  6.268707 & 6.275980 & 6.257831 & 6.371053 & 6.149960 & 6.261317 & 6.361110 & 6.336733 & ⋯ &  6.278971 & 6.549239 & 6.395798 & 6.263772 & 6.119008 & 6.146906 & 6.276937 & 6.206087 & 6.438444 & 6.251627\\\\\n\t6 & 7.310085 & 8.409503 &  7.802326 & 7.260794 & 7.598630 & 7.504309 & 8.223495 & 7.424841 & 7.065065 & 7.577485 & ⋯ &  7.754192 & 7.051993 & 7.425191 & 7.989666 & 7.573813 & 7.743429 & 8.081255 & 7.023867 & 7.322741 & 7.321942\\\\\n\\end{tabular}\n",
            "text/markdown": "\nA data.frame: 6 × 217\n\n| <!--/--> | GSM1247203 &lt;dbl&gt; | GSM1247204 &lt;dbl&gt; | GSM1247205 &lt;dbl&gt; | GSM1247206 &lt;dbl&gt; | GSM1247207 &lt;dbl&gt; | GSM1247208 &lt;dbl&gt; | GSM1247209 &lt;dbl&gt; | GSM1247210 &lt;dbl&gt; | GSM1247211 &lt;dbl&gt; | GSM1247212 &lt;dbl&gt; | ⋯ ⋯ | GSM1247410 &lt;dbl&gt; | GSM1247411 &lt;dbl&gt; | GSM1247412 &lt;dbl&gt; | GSM1247413 &lt;dbl&gt; | GSM1247414 &lt;dbl&gt; | GSM1247415 &lt;dbl&gt; | GSM1247416 &lt;dbl&gt; | GSM1247417 &lt;dbl&gt; | GSM1247418 &lt;dbl&gt; | GSM1247419 &lt;dbl&gt; |\n|---|---|---|---|---|---|---|---|---|---|---|---|---|---|---|---|---|---|---|---|---|---|\n| 1 | 4.319644 | 4.396137 |  3.968531 | 3.979268 | 3.901083 | 4.207761 | 3.963131 | 4.164432 | 3.873857 | 4.217890 | ⋯ |  4.484714 | 4.219507 | 3.925787 | 3.861954 | 4.015559 | 4.623454 | 5.223074 | 3.927950 | 3.798007 | 3.958021 |\n| 2 | 9.608635 | 9.244517 | 10.553440 | 9.754355 | 8.997556 | 9.027160 | 9.227125 | 9.198466 | 8.908276 | 9.604081 | ⋯ |  8.846296 | 8.666471 | 9.462380 | 9.199890 | 9.022814 | 9.072050 | 9.679663 | 8.615543 | 8.796901 | 8.688204 |\n| 3 | 5.923612 | 6.797588 |  6.369745 | 5.671180 | 6.077140 | 6.341990 | 6.686084 | 6.154192 | 5.906662 | 6.186725 | ⋯ |  6.820596 | 6.006575 | 6.250236 | 6.047955 | 6.467733 | 6.707928 | 7.916406 | 5.589499 | 5.016101 | 5.278193 |\n| 4 | 9.911118 | 9.421990 |  9.358638 | 9.275714 | 8.573832 | 9.072234 | 9.053680 | 9.549565 | 9.458813 | 9.247518 | ⋯ | 10.028440 | 9.816180 | 8.794598 | 9.688042 | 8.914406 | 9.211488 | 9.399957 | 9.693126 | 8.551371 | 9.780800 |\n| 5 | 6.292236 | 6.047995 |  6.268707 | 6.275980 | 6.257831 | 6.371053 | 6.149960 | 6.261317 | 6.361110 | 6.336733 | ⋯ |  6.278971 | 6.549239 | 6.395798 | 6.263772 | 6.119008 | 6.146906 | 6.276937 | 6.206087 | 6.438444 | 6.251627 |\n| 6 | 7.310085 | 8.409503 |  7.802326 | 7.260794 | 7.598630 | 7.504309 | 8.223495 | 7.424841 | 7.065065 | 7.577485 | ⋯ |  7.754192 | 7.051993 | 7.425191 | 7.989666 | 7.573813 | 7.743429 | 8.081255 | 7.023867 | 7.322741 | 7.321942 |\n\n",
            "text/html": [
              "<table class=\"dataframe\">\n",
              "<caption>A data.frame: 6 × 217</caption>\n",
              "<thead>\n",
              "\t<tr><th></th><th scope=col>GSM1247203</th><th scope=col>GSM1247204</th><th scope=col>GSM1247205</th><th scope=col>GSM1247206</th><th scope=col>GSM1247207</th><th scope=col>GSM1247208</th><th scope=col>GSM1247209</th><th scope=col>GSM1247210</th><th scope=col>GSM1247211</th><th scope=col>GSM1247212</th><th scope=col>⋯</th><th scope=col>GSM1247410</th><th scope=col>GSM1247411</th><th scope=col>GSM1247412</th><th scope=col>GSM1247413</th><th scope=col>GSM1247414</th><th scope=col>GSM1247415</th><th scope=col>GSM1247416</th><th scope=col>GSM1247417</th><th scope=col>GSM1247418</th><th scope=col>GSM1247419</th></tr>\n",
              "\t<tr><th></th><th scope=col>&lt;dbl&gt;</th><th scope=col>&lt;dbl&gt;</th><th scope=col>&lt;dbl&gt;</th><th scope=col>&lt;dbl&gt;</th><th scope=col>&lt;dbl&gt;</th><th scope=col>&lt;dbl&gt;</th><th scope=col>&lt;dbl&gt;</th><th scope=col>&lt;dbl&gt;</th><th scope=col>&lt;dbl&gt;</th><th scope=col>&lt;dbl&gt;</th><th scope=col>⋯</th><th scope=col>&lt;dbl&gt;</th><th scope=col>&lt;dbl&gt;</th><th scope=col>&lt;dbl&gt;</th><th scope=col>&lt;dbl&gt;</th><th scope=col>&lt;dbl&gt;</th><th scope=col>&lt;dbl&gt;</th><th scope=col>&lt;dbl&gt;</th><th scope=col>&lt;dbl&gt;</th><th scope=col>&lt;dbl&gt;</th><th scope=col>&lt;dbl&gt;</th></tr>\n",
              "</thead>\n",
              "<tbody>\n",
              "\t<tr><th scope=row>1</th><td>4.319644</td><td>4.396137</td><td> 3.968531</td><td>3.979268</td><td>3.901083</td><td>4.207761</td><td>3.963131</td><td>4.164432</td><td>3.873857</td><td>4.217890</td><td>⋯</td><td> 4.484714</td><td>4.219507</td><td>3.925787</td><td>3.861954</td><td>4.015559</td><td>4.623454</td><td>5.223074</td><td>3.927950</td><td>3.798007</td><td>3.958021</td></tr>\n",
              "\t<tr><th scope=row>2</th><td>9.608635</td><td>9.244517</td><td>10.553440</td><td>9.754355</td><td>8.997556</td><td>9.027160</td><td>9.227125</td><td>9.198466</td><td>8.908276</td><td>9.604081</td><td>⋯</td><td> 8.846296</td><td>8.666471</td><td>9.462380</td><td>9.199890</td><td>9.022814</td><td>9.072050</td><td>9.679663</td><td>8.615543</td><td>8.796901</td><td>8.688204</td></tr>\n",
              "\t<tr><th scope=row>3</th><td>5.923612</td><td>6.797588</td><td> 6.369745</td><td>5.671180</td><td>6.077140</td><td>6.341990</td><td>6.686084</td><td>6.154192</td><td>5.906662</td><td>6.186725</td><td>⋯</td><td> 6.820596</td><td>6.006575</td><td>6.250236</td><td>6.047955</td><td>6.467733</td><td>6.707928</td><td>7.916406</td><td>5.589499</td><td>5.016101</td><td>5.278193</td></tr>\n",
              "\t<tr><th scope=row>4</th><td>9.911118</td><td>9.421990</td><td> 9.358638</td><td>9.275714</td><td>8.573832</td><td>9.072234</td><td>9.053680</td><td>9.549565</td><td>9.458813</td><td>9.247518</td><td>⋯</td><td>10.028440</td><td>9.816180</td><td>8.794598</td><td>9.688042</td><td>8.914406</td><td>9.211488</td><td>9.399957</td><td>9.693126</td><td>8.551371</td><td>9.780800</td></tr>\n",
              "\t<tr><th scope=row>5</th><td>6.292236</td><td>6.047995</td><td> 6.268707</td><td>6.275980</td><td>6.257831</td><td>6.371053</td><td>6.149960</td><td>6.261317</td><td>6.361110</td><td>6.336733</td><td>⋯</td><td> 6.278971</td><td>6.549239</td><td>6.395798</td><td>6.263772</td><td>6.119008</td><td>6.146906</td><td>6.276937</td><td>6.206087</td><td>6.438444</td><td>6.251627</td></tr>\n",
              "\t<tr><th scope=row>6</th><td>7.310085</td><td>8.409503</td><td> 7.802326</td><td>7.260794</td><td>7.598630</td><td>7.504309</td><td>8.223495</td><td>7.424841</td><td>7.065065</td><td>7.577485</td><td>⋯</td><td> 7.754192</td><td>7.051993</td><td>7.425191</td><td>7.989666</td><td>7.573813</td><td>7.743429</td><td>8.081255</td><td>7.023867</td><td>7.322741</td><td>7.321942</td></tr>\n",
              "</tbody>\n",
              "</table>\n"
            ]
          },
          "metadata": {}
        }
      ]
    },
    {
      "cell_type": "code",
      "source": [
        "dim(sim_data)"
      ],
      "metadata": {
        "colab": {
          "base_uri": "https://localhost:8080/",
          "height": 34
        },
        "id": "XBf6PuU_w8m4",
        "outputId": "217d7a13-5214-4af4-8ff2-d6497b506967"
      },
      "execution_count": 11,
      "outputs": [
        {
          "output_type": "display_data",
          "data": {
            "text/plain": [
              "[1] 20219   217"
            ],
            "text/latex": "\\begin{enumerate*}\n\\item 20219\n\\item 217\n\\end{enumerate*}\n",
            "text/markdown": "1. 20219\n2. 217\n\n\n",
            "text/html": [
              "<style>\n",
              ".list-inline {list-style: none; margin:0; padding: 0}\n",
              ".list-inline>li {display: inline-block}\n",
              ".list-inline>li:not(:last-child)::after {content: \"\\00b7\"; padding: 0 .5ex}\n",
              "</style>\n",
              "<ol class=list-inline><li>20219</li><li>217</li></ol>\n"
            ]
          },
          "metadata": {}
        }
      ]
    },
    {
      "cell_type": "code",
      "source": [
        "m = 10000 #no of genes to sample\n",
        "selected_genes = sample(1:n_gene, m)\n",
        "\n",
        "head(selected_genes)\n",
        "length(selected_genes)"
      ],
      "metadata": {
        "colab": {
          "base_uri": "https://localhost:8080/",
          "height": 51
        },
        "id": "8a4rpVGVwxrC",
        "outputId": "df4de86f-5742-4fc6-bcb0-3ec95ca9f355"
      },
      "execution_count": 19,
      "outputs": [
        {
          "output_type": "display_data",
          "data": {
            "text/plain": [
              "[1] 16858  9571 18833 10857 12480  5739"
            ],
            "text/latex": "\\begin{enumerate*}\n\\item 16858\n\\item 9571\n\\item 18833\n\\item 10857\n\\item 12480\n\\item 5739\n\\end{enumerate*}\n",
            "text/markdown": "1. 16858\n2. 9571\n3. 18833\n4. 10857\n5. 12480\n6. 5739\n\n\n",
            "text/html": [
              "<style>\n",
              ".list-inline {list-style: none; margin:0; padding: 0}\n",
              ".list-inline>li {display: inline-block}\n",
              ".list-inline>li:not(:last-child)::after {content: \"\\00b7\"; padding: 0 .5ex}\n",
              "</style>\n",
              "<ol class=list-inline><li>16858</li><li>9571</li><li>18833</li><li>10857</li><li>12480</li><li>5739</li></ol>\n"
            ]
          },
          "metadata": {}
        },
        {
          "output_type": "display_data",
          "data": {
            "text/plain": [
              "[1] 10000"
            ],
            "text/latex": "10000",
            "text/markdown": "10000",
            "text/html": [
              "10000"
            ]
          },
          "metadata": {}
        }
      ]
    },
    {
      "cell_type": "code",
      "source": [
        "#data corresponding to the randomly selected genes\n",
        "sim_data_m = sim_data[selected_genes, ]\n",
        "head(sim_data_m)"
      ],
      "metadata": {
        "colab": {
          "base_uri": "https://localhost:8080/",
          "height": 303
        },
        "id": "tjwoFEa7yn53",
        "outputId": "8e9af715-6731-4578-f53d-3c014587694c"
      },
      "execution_count": 21,
      "outputs": [
        {
          "output_type": "display_data",
          "data": {
            "text/plain": [
              "      GSM1247203 GSM1247204 GSM1247205 GSM1247206 GSM1247207 GSM1247208\n",
              "16858 9.834205   9.728776   9.877864   9.831219   10.110930  10.236310 \n",
              "9571  6.247123   6.142644   5.930130   6.129082    6.261016   6.241750 \n",
              "18833 6.853620   6.790506   6.546773   6.426023    6.540869   6.249522 \n",
              "10857 8.132205   8.039325   7.227472   8.150370    7.644443   7.897319 \n",
              "12480 8.182172   8.960248   8.737191   8.702542    8.501260   8.458043 \n",
              "5739  8.349228   8.484076   8.206788   8.652540    9.280329   8.747444 \n",
              "      GSM1247209 GSM1247210 GSM1247211 GSM1247212 ⋯ GSM1247410 GSM1247411\n",
              "16858 9.740843   9.807868   9.620656   9.784472   ⋯ 9.500644   9.743449  \n",
              "9571  6.403329   6.027418   6.276188   6.101913   ⋯ 6.235184   6.100324  \n",
              "18833 6.645580   6.881634   6.835781   6.929017   ⋯ 6.715308   6.721723  \n",
              "10857 7.797850   7.413829   7.024868   7.473260   ⋯ 7.078813   6.980391  \n",
              "12480 9.255169   8.364251   8.981539   8.837185   ⋯ 8.231828   8.408773  \n",
              "5739  7.058735   6.719518   7.417871   7.970224   ⋯ 6.024167   8.083303  \n",
              "      GSM1247412 GSM1247413 GSM1247414 GSM1247415 GSM1247416 GSM1247417\n",
              "16858 10.372680  10.743850  10.200810  10.313050  10.060710  9.515651  \n",
              "9571   6.373508   6.143636   5.831800   5.997923   6.166864  6.042427  \n",
              "18833  6.927734   6.397196   6.523164   6.503559   6.636858  6.904069  \n",
              "10857  7.512423   7.209757   7.475970   7.557890   7.204227  6.936886  \n",
              "12480  8.822608   9.159107   8.985075   8.338982   8.827399  8.494570  \n",
              "5739   8.282503   7.969309   6.801370   7.417867   7.656589  7.887016  \n",
              "      GSM1247418 GSM1247419\n",
              "16858 9.996252   9.954952  \n",
              "9571  6.244440   6.103913  \n",
              "18833 6.778741   6.648000  \n",
              "10857 7.456422   7.593637  \n",
              "12480 9.190440   8.260799  \n",
              "5739  8.812969   8.336909  "
            ],
            "text/latex": "A data.frame: 6 × 217\n\\begin{tabular}{r|lllllllllllllllllllll}\n  & GSM1247203 & GSM1247204 & GSM1247205 & GSM1247206 & GSM1247207 & GSM1247208 & GSM1247209 & GSM1247210 & GSM1247211 & GSM1247212 & ⋯ & GSM1247410 & GSM1247411 & GSM1247412 & GSM1247413 & GSM1247414 & GSM1247415 & GSM1247416 & GSM1247417 & GSM1247418 & GSM1247419\\\\\n  & <dbl> & <dbl> & <dbl> & <dbl> & <dbl> & <dbl> & <dbl> & <dbl> & <dbl> & <dbl> & ⋯ & <dbl> & <dbl> & <dbl> & <dbl> & <dbl> & <dbl> & <dbl> & <dbl> & <dbl> & <dbl>\\\\\n\\hline\n\t16858 & 9.834205 & 9.728776 & 9.877864 & 9.831219 & 10.110930 & 10.236310 & 9.740843 & 9.807868 & 9.620656 & 9.784472 & ⋯ & 9.500644 & 9.743449 & 10.372680 & 10.743850 & 10.200810 & 10.313050 & 10.060710 & 9.515651 & 9.996252 & 9.954952\\\\\n\t9571 & 6.247123 & 6.142644 & 5.930130 & 6.129082 &  6.261016 &  6.241750 & 6.403329 & 6.027418 & 6.276188 & 6.101913 & ⋯ & 6.235184 & 6.100324 &  6.373508 &  6.143636 &  5.831800 &  5.997923 &  6.166864 & 6.042427 & 6.244440 & 6.103913\\\\\n\t18833 & 6.853620 & 6.790506 & 6.546773 & 6.426023 &  6.540869 &  6.249522 & 6.645580 & 6.881634 & 6.835781 & 6.929017 & ⋯ & 6.715308 & 6.721723 &  6.927734 &  6.397196 &  6.523164 &  6.503559 &  6.636858 & 6.904069 & 6.778741 & 6.648000\\\\\n\t10857 & 8.132205 & 8.039325 & 7.227472 & 8.150370 &  7.644443 &  7.897319 & 7.797850 & 7.413829 & 7.024868 & 7.473260 & ⋯ & 7.078813 & 6.980391 &  7.512423 &  7.209757 &  7.475970 &  7.557890 &  7.204227 & 6.936886 & 7.456422 & 7.593637\\\\\n\t12480 & 8.182172 & 8.960248 & 8.737191 & 8.702542 &  8.501260 &  8.458043 & 9.255169 & 8.364251 & 8.981539 & 8.837185 & ⋯ & 8.231828 & 8.408773 &  8.822608 &  9.159107 &  8.985075 &  8.338982 &  8.827399 & 8.494570 & 9.190440 & 8.260799\\\\\n\t5739 & 8.349228 & 8.484076 & 8.206788 & 8.652540 &  9.280329 &  8.747444 & 7.058735 & 6.719518 & 7.417871 & 7.970224 & ⋯ & 6.024167 & 8.083303 &  8.282503 &  7.969309 &  6.801370 &  7.417867 &  7.656589 & 7.887016 & 8.812969 & 8.336909\\\\\n\\end{tabular}\n",
            "text/markdown": "\nA data.frame: 6 × 217\n\n| <!--/--> | GSM1247203 &lt;dbl&gt; | GSM1247204 &lt;dbl&gt; | GSM1247205 &lt;dbl&gt; | GSM1247206 &lt;dbl&gt; | GSM1247207 &lt;dbl&gt; | GSM1247208 &lt;dbl&gt; | GSM1247209 &lt;dbl&gt; | GSM1247210 &lt;dbl&gt; | GSM1247211 &lt;dbl&gt; | GSM1247212 &lt;dbl&gt; | ⋯ ⋯ | GSM1247410 &lt;dbl&gt; | GSM1247411 &lt;dbl&gt; | GSM1247412 &lt;dbl&gt; | GSM1247413 &lt;dbl&gt; | GSM1247414 &lt;dbl&gt; | GSM1247415 &lt;dbl&gt; | GSM1247416 &lt;dbl&gt; | GSM1247417 &lt;dbl&gt; | GSM1247418 &lt;dbl&gt; | GSM1247419 &lt;dbl&gt; |\n|---|---|---|---|---|---|---|---|---|---|---|---|---|---|---|---|---|---|---|---|---|---|\n| 16858 | 9.834205 | 9.728776 | 9.877864 | 9.831219 | 10.110930 | 10.236310 | 9.740843 | 9.807868 | 9.620656 | 9.784472 | ⋯ | 9.500644 | 9.743449 | 10.372680 | 10.743850 | 10.200810 | 10.313050 | 10.060710 | 9.515651 | 9.996252 | 9.954952 |\n| 9571 | 6.247123 | 6.142644 | 5.930130 | 6.129082 |  6.261016 |  6.241750 | 6.403329 | 6.027418 | 6.276188 | 6.101913 | ⋯ | 6.235184 | 6.100324 |  6.373508 |  6.143636 |  5.831800 |  5.997923 |  6.166864 | 6.042427 | 6.244440 | 6.103913 |\n| 18833 | 6.853620 | 6.790506 | 6.546773 | 6.426023 |  6.540869 |  6.249522 | 6.645580 | 6.881634 | 6.835781 | 6.929017 | ⋯ | 6.715308 | 6.721723 |  6.927734 |  6.397196 |  6.523164 |  6.503559 |  6.636858 | 6.904069 | 6.778741 | 6.648000 |\n| 10857 | 8.132205 | 8.039325 | 7.227472 | 8.150370 |  7.644443 |  7.897319 | 7.797850 | 7.413829 | 7.024868 | 7.473260 | ⋯ | 7.078813 | 6.980391 |  7.512423 |  7.209757 |  7.475970 |  7.557890 |  7.204227 | 6.936886 | 7.456422 | 7.593637 |\n| 12480 | 8.182172 | 8.960248 | 8.737191 | 8.702542 |  8.501260 |  8.458043 | 9.255169 | 8.364251 | 8.981539 | 8.837185 | ⋯ | 8.231828 | 8.408773 |  8.822608 |  9.159107 |  8.985075 |  8.338982 |  8.827399 | 8.494570 | 9.190440 | 8.260799 |\n| 5739 | 8.349228 | 8.484076 | 8.206788 | 8.652540 |  9.280329 |  8.747444 | 7.058735 | 6.719518 | 7.417871 | 7.970224 | ⋯ | 6.024167 | 8.083303 |  8.282503 |  7.969309 |  6.801370 |  7.417867 |  7.656589 | 7.887016 | 8.812969 | 8.336909 |\n\n",
            "text/html": [
              "<table class=\"dataframe\">\n",
              "<caption>A data.frame: 6 × 217</caption>\n",
              "<thead>\n",
              "\t<tr><th></th><th scope=col>GSM1247203</th><th scope=col>GSM1247204</th><th scope=col>GSM1247205</th><th scope=col>GSM1247206</th><th scope=col>GSM1247207</th><th scope=col>GSM1247208</th><th scope=col>GSM1247209</th><th scope=col>GSM1247210</th><th scope=col>GSM1247211</th><th scope=col>GSM1247212</th><th scope=col>⋯</th><th scope=col>GSM1247410</th><th scope=col>GSM1247411</th><th scope=col>GSM1247412</th><th scope=col>GSM1247413</th><th scope=col>GSM1247414</th><th scope=col>GSM1247415</th><th scope=col>GSM1247416</th><th scope=col>GSM1247417</th><th scope=col>GSM1247418</th><th scope=col>GSM1247419</th></tr>\n",
              "\t<tr><th></th><th scope=col>&lt;dbl&gt;</th><th scope=col>&lt;dbl&gt;</th><th scope=col>&lt;dbl&gt;</th><th scope=col>&lt;dbl&gt;</th><th scope=col>&lt;dbl&gt;</th><th scope=col>&lt;dbl&gt;</th><th scope=col>&lt;dbl&gt;</th><th scope=col>&lt;dbl&gt;</th><th scope=col>&lt;dbl&gt;</th><th scope=col>&lt;dbl&gt;</th><th scope=col>⋯</th><th scope=col>&lt;dbl&gt;</th><th scope=col>&lt;dbl&gt;</th><th scope=col>&lt;dbl&gt;</th><th scope=col>&lt;dbl&gt;</th><th scope=col>&lt;dbl&gt;</th><th scope=col>&lt;dbl&gt;</th><th scope=col>&lt;dbl&gt;</th><th scope=col>&lt;dbl&gt;</th><th scope=col>&lt;dbl&gt;</th><th scope=col>&lt;dbl&gt;</th></tr>\n",
              "</thead>\n",
              "<tbody>\n",
              "\t<tr><th scope=row>16858</th><td>9.834205</td><td>9.728776</td><td>9.877864</td><td>9.831219</td><td>10.110930</td><td>10.236310</td><td>9.740843</td><td>9.807868</td><td>9.620656</td><td>9.784472</td><td>⋯</td><td>9.500644</td><td>9.743449</td><td>10.372680</td><td>10.743850</td><td>10.200810</td><td>10.313050</td><td>10.060710</td><td>9.515651</td><td>9.996252</td><td>9.954952</td></tr>\n",
              "\t<tr><th scope=row>9571</th><td>6.247123</td><td>6.142644</td><td>5.930130</td><td>6.129082</td><td> 6.261016</td><td> 6.241750</td><td>6.403329</td><td>6.027418</td><td>6.276188</td><td>6.101913</td><td>⋯</td><td>6.235184</td><td>6.100324</td><td> 6.373508</td><td> 6.143636</td><td> 5.831800</td><td> 5.997923</td><td> 6.166864</td><td>6.042427</td><td>6.244440</td><td>6.103913</td></tr>\n",
              "\t<tr><th scope=row>18833</th><td>6.853620</td><td>6.790506</td><td>6.546773</td><td>6.426023</td><td> 6.540869</td><td> 6.249522</td><td>6.645580</td><td>6.881634</td><td>6.835781</td><td>6.929017</td><td>⋯</td><td>6.715308</td><td>6.721723</td><td> 6.927734</td><td> 6.397196</td><td> 6.523164</td><td> 6.503559</td><td> 6.636858</td><td>6.904069</td><td>6.778741</td><td>6.648000</td></tr>\n",
              "\t<tr><th scope=row>10857</th><td>8.132205</td><td>8.039325</td><td>7.227472</td><td>8.150370</td><td> 7.644443</td><td> 7.897319</td><td>7.797850</td><td>7.413829</td><td>7.024868</td><td>7.473260</td><td>⋯</td><td>7.078813</td><td>6.980391</td><td> 7.512423</td><td> 7.209757</td><td> 7.475970</td><td> 7.557890</td><td> 7.204227</td><td>6.936886</td><td>7.456422</td><td>7.593637</td></tr>\n",
              "\t<tr><th scope=row>12480</th><td>8.182172</td><td>8.960248</td><td>8.737191</td><td>8.702542</td><td> 8.501260</td><td> 8.458043</td><td>9.255169</td><td>8.364251</td><td>8.981539</td><td>8.837185</td><td>⋯</td><td>8.231828</td><td>8.408773</td><td> 8.822608</td><td> 9.159107</td><td> 8.985075</td><td> 8.338982</td><td> 8.827399</td><td>8.494570</td><td>9.190440</td><td>8.260799</td></tr>\n",
              "\t<tr><th scope=row>5739</th><td>8.349228</td><td>8.484076</td><td>8.206788</td><td>8.652540</td><td> 9.280329</td><td> 8.747444</td><td>7.058735</td><td>6.719518</td><td>7.417871</td><td>7.970224</td><td>⋯</td><td>6.024167</td><td>8.083303</td><td> 8.282503</td><td> 7.969309</td><td> 6.801370</td><td> 7.417867</td><td> 7.656589</td><td>7.887016</td><td>8.812969</td><td>8.336909</td></tr>\n",
              "</tbody>\n",
              "</table>\n"
            ]
          },
          "metadata": {}
        }
      ]
    },
    {
      "cell_type": "code",
      "source": [
        "#calculate standard deviation for each row\n",
        "data_std = apply(sim_data_m, 1, sd)\n",
        "\n",
        "head(data_std)\n",
        "length(data_std)"
      ],
      "metadata": {
        "colab": {
          "base_uri": "https://localhost:8080/",
          "height": 68
        },
        "id": "ZC3t0LfLzoxl",
        "outputId": "418ea30d-cadc-4c1d-f886-7a261cc70c25"
      },
      "execution_count": 27,
      "outputs": [
        {
          "output_type": "display_data",
          "data": {
            "text/plain": [
              "    16858      9571     18833     10857     12480      5739 \n",
              "0.3142635 0.1675315 0.1988829 0.4503776 0.3567584 0.7592337 "
            ],
            "text/latex": "\\begin{description*}\n\\item[16858] 0.314263508837363\n\\item[9571] 0.16753151717432\n\\item[18833] 0.19888290433753\n\\item[10857] 0.450377644499\n\\item[12480] 0.356758399382375\n\\item[5739] 0.759233727872282\n\\end{description*}\n",
            "text/markdown": "16858\n:   0.3142635088373639571\n:   0.1675315171743218833\n:   0.1988829043375310857\n:   0.45037764449912480\n:   0.3567583993823755739\n:   0.759233727872282\n\n",
            "text/html": [
              "<style>\n",
              ".dl-inline {width: auto; margin:0; padding: 0}\n",
              ".dl-inline>dt, .dl-inline>dd {float: none; width: auto; display: inline-block}\n",
              ".dl-inline>dt::after {content: \":\\0020\"; padding-right: .5ex}\n",
              ".dl-inline>dt:not(:first-of-type) {padding-left: .5ex}\n",
              "</style><dl class=dl-inline><dt>16858</dt><dd>0.314263508837363</dd><dt>9571</dt><dd>0.16753151717432</dd><dt>18833</dt><dd>0.19888290433753</dd><dt>10857</dt><dd>0.450377644499</dd><dt>12480</dt><dd>0.356758399382375</dd><dt>5739</dt><dd>0.759233727872282</dd></dl>\n"
            ]
          },
          "metadata": {}
        },
        {
          "output_type": "display_data",
          "data": {
            "text/plain": [
              "[1] 10000"
            ],
            "text/latex": "10000",
            "text/markdown": "10000",
            "text/html": [
              "10000"
            ]
          },
          "metadata": {}
        }
      ]
    },
    {
      "cell_type": "code",
      "source": [
        "n_trt_grp = 4 #no of experimental units\n",
        "selected_samples  = sample(1:N, 2*n_trt_grp)\n",
        "\n",
        "selected_samples\n",
        "\n",
        "trt_grp1 = selected_samples[1:n_trt_grp]\n",
        "trt_grp2 = selected_samples[(n_trt_grp + 1):(2*n_trt_grp)]\n",
        "\n",
        "trt_grp1\n",
        "trt_grp2"
      ],
      "metadata": {
        "colab": {
          "base_uri": "https://localhost:8080/",
          "height": 68
        },
        "id": "UkXbutdZ0dkn",
        "outputId": "93e84ddf-81aa-49b0-c44a-52080b061b19"
      },
      "execution_count": 32,
      "outputs": [
        {
          "output_type": "display_data",
          "data": {
            "text/plain": [
              "[1] 183  61 166 162  87 137  99 129"
            ],
            "text/latex": "\\begin{enumerate*}\n\\item 183\n\\item 61\n\\item 166\n\\item 162\n\\item 87\n\\item 137\n\\item 99\n\\item 129\n\\end{enumerate*}\n",
            "text/markdown": "1. 183\n2. 61\n3. 166\n4. 162\n5. 87\n6. 137\n7. 99\n8. 129\n\n\n",
            "text/html": [
              "<style>\n",
              ".list-inline {list-style: none; margin:0; padding: 0}\n",
              ".list-inline>li {display: inline-block}\n",
              ".list-inline>li:not(:last-child)::after {content: \"\\00b7\"; padding: 0 .5ex}\n",
              "</style>\n",
              "<ol class=list-inline><li>183</li><li>61</li><li>166</li><li>162</li><li>87</li><li>137</li><li>99</li><li>129</li></ol>\n"
            ]
          },
          "metadata": {}
        },
        {
          "output_type": "display_data",
          "data": {
            "text/plain": [
              "[1] 183  61 166 162"
            ],
            "text/latex": "\\begin{enumerate*}\n\\item 183\n\\item 61\n\\item 166\n\\item 162\n\\end{enumerate*}\n",
            "text/markdown": "1. 183\n2. 61\n3. 166\n4. 162\n\n\n",
            "text/html": [
              "<style>\n",
              ".list-inline {list-style: none; margin:0; padding: 0}\n",
              ".list-inline>li {display: inline-block}\n",
              ".list-inline>li:not(:last-child)::after {content: \"\\00b7\"; padding: 0 .5ex}\n",
              "</style>\n",
              "<ol class=list-inline><li>183</li><li>61</li><li>166</li><li>162</li></ol>\n"
            ]
          },
          "metadata": {}
        },
        {
          "output_type": "display_data",
          "data": {
            "text/plain": [
              "[1]  87 137  99 129"
            ],
            "text/latex": "\\begin{enumerate*}\n\\item 87\n\\item 137\n\\item 99\n\\item 129\n\\end{enumerate*}\n",
            "text/markdown": "1. 87\n2. 137\n3. 99\n4. 129\n\n\n",
            "text/html": [
              "<style>\n",
              ".list-inline {list-style: none; margin:0; padding: 0}\n",
              ".list-inline>li {display: inline-block}\n",
              ".list-inline>li:not(:last-child)::after {content: \"\\00b7\"; padding: 0 .5ex}\n",
              "</style>\n",
              "<ol class=list-inline><li>87</li><li>137</li><li>99</li><li>129</li></ol>\n"
            ]
          },
          "metadata": {}
        }
      ]
    }
  ]
}