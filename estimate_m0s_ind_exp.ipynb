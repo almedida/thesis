{
  "nbformat": 4,
  "nbformat_minor": 0,
  "metadata": {
    "colab": {
      "name": "Thesis_work_in_colab.ipynb",
      "provenance": [],
      "authorship_tag": "ABX9TyP79R+d1Ud+O1RLX9fpOYSq",
      "include_colab_link": true
    },
    "kernelspec": {
      "name": "ir",
      "display_name": "R"
    },
    "language_info": {
      "name": "R"
    }
  },
  "cells": [
    {
      "cell_type": "markdown",
      "metadata": {
        "id": "view-in-github",
        "colab_type": "text"
      },
      "source": [
        "<a href=\"https://colab.research.google.com/github/almedida/thesis/blob/main/Thesis_work_simulation.ipynb\" target=\"_parent\"><img src=\"https://colab.research.google.com/assets/colab-badge.svg\" alt=\"Open In Colab\"/></a>"
      ]
    },
    {
      "cell_type": "code",
      "metadata": {
        "colab": {
          "base_uri": "https://localhost:8080/"
        },
        "id": "Ja8SOFp28eno",
        "outputId": "8f6bf04f-11b2-4792-b0c2-c85bd5c4d787"
      },
      "source": [
        "install.packages('pacman')\n",
        "library(pacman)\n",
        "\n",
        "p_load(\"tidyverse\", \"tmvtnorm\" )"
      ],
      "execution_count": null,
      "outputs": [
        {
          "output_type": "stream",
          "name": "stderr",
          "text": [
            "Installing package into ‘/usr/local/lib/R/site-library’\n",
            "(as ‘lib’ is unspecified)\n",
            "\n",
            "Installing package into ‘/usr/local/lib/R/site-library’\n",
            "(as ‘lib’ is unspecified)\n",
            "\n",
            "also installing the dependencies ‘zoo’, ‘sandwich’, ‘mvtnorm’, ‘gmm’\n",
            "\n",
            "\n",
            "\n",
            "tmvtnorm installed\n",
            "\n"
          ]
        }
      ]
    },
    {
      "cell_type": "code",
      "metadata": {
        "id": "cN1QtLhd8rFo"
      },
      "source": [
        "#load dataset on data_df\n",
        "data_df = read.table(\"maize_bivariate_pvals.txt\", header= TRUE, sep=\"\")\n",
        "\n",
        "pval_raw = as.data.frame(as.matrix(data_df))\n",
        "pvals1 <- (as.matrix(pval_raw[,1]))\n",
        "pvals2 <- (as.matrix(pval_raw[,2]))\n"
      ],
      "execution_count": null,
      "outputs": []
    },
    {
      "cell_type": "code",
      "metadata": {
        "colab": {
          "base_uri": "https://localhost:8080/",
          "height": 240
        },
        "id": "jmRnj6oFQKid",
        "outputId": "56d7b3d5-2d4f-487c-98a5-20816d58f8e6"
      },
      "source": [
        "length(pvals1)\n",
        "length(pvals2)\n",
        "\n",
        "#dim(pvals2)\n",
        "head(pvals1, 5)"
      ],
      "execution_count": null,
      "outputs": [
        {
          "output_type": "display_data",
          "data": {
            "text/plain": [
              "[1] 5670"
            ],
            "text/latex": "5670",
            "text/markdown": "5670",
            "text/html": [
              "5670"
            ]
          },
          "metadata": {}
        },
        {
          "output_type": "display_data",
          "data": {
            "text/plain": [
              "[1] 5670"
            ],
            "text/latex": "5670",
            "text/markdown": "5670",
            "text/html": [
              "5670"
            ]
          },
          "metadata": {}
        },
        {
          "output_type": "display_data",
          "data": {
            "text/plain": [
              "     [,1]       \n",
              "[1,] 0.667606100\n",
              "[2,] 0.185740600\n",
              "[3,] 0.177833600\n",
              "[4,] 0.001735375\n",
              "[5,] 0.887147800"
            ],
            "text/latex": "A matrix: 5 × 1 of type dbl\n\\begin{tabular}{l}\n\t 0.667606100\\\\\n\t 0.185740600\\\\\n\t 0.177833600\\\\\n\t 0.001735375\\\\\n\t 0.887147800\\\\\n\\end{tabular}\n",
            "text/markdown": "\nA matrix: 5 × 1 of type dbl\n\n| 0.667606100 |\n| 0.185740600 |\n| 0.177833600 |\n| 0.001735375 |\n| 0.887147800 |\n\n",
            "text/html": [
              "<table class=\"dataframe\">\n",
              "<caption>A matrix: 5 × 1 of type dbl</caption>\n",
              "<tbody>\n",
              "\t<tr><td>0.667606100</td></tr>\n",
              "\t<tr><td>0.185740600</td></tr>\n",
              "\t<tr><td>0.177833600</td></tr>\n",
              "\t<tr><td>0.001735375</td></tr>\n",
              "\t<tr><td>0.887147800</td></tr>\n",
              "</tbody>\n",
              "</table>\n"
            ]
          },
          "metadata": {}
        }
      ]
    },
    {
      "cell_type": "code",
      "metadata": {
        "id": "zoH1adM1-qzw"
      },
      "source": [
        "###################################################################################\n",
        "###################################################################################\n",
        "##calc.cutoff slightly modifies the estimate.m0 function to return the appropriate\n",
        "##p-value cutoff where all p-values greater than the cutoff are assumed to come\n",
        "##from null cases.\n",
        "\n",
        "calc.cutoff = function(p, B = 20, max=1){\n",
        "\n",
        "  m <- length(p)\n",
        "  m0 <- m\n",
        "  bin <- c(-0.1, (1:B)/B*max)\n",
        "  bin.counts=rep(0,B)\n",
        "\n",
        "  for(i in 1:B){\n",
        "    bin.counts[i]=sum((p>bin[i])&(p<=bin[i+1]))\n",
        "  }\n",
        "\n",
        "  tail.means <- rev(cumsum(rev(bin.counts))/(1:B))\n",
        "  temp <- bin.counts - tail.means\n",
        "  index <- min((1:B)[temp <= 0])\n",
        "  cutoff2 <- (index)/B*max\n",
        "  if(cutoff2 == 1) {cutoff2 <- 1-1/B}\n",
        "\n",
        "  return(cutoff2)\n",
        "\n",
        "}\n"
      ],
      "execution_count": null,
      "outputs": []
    },
    {
      "cell_type": "code",
      "metadata": {
        "colab": {
          "base_uri": "https://localhost:8080/",
          "height": 97
        },
        "id": "g7H7MMh3QhBW",
        "outputId": "f47a4710-13d9-4951-a320-33aff6720685"
      },
      "source": [
        "cutoff_value1 = calc.cutoff(pvals1, B=20, max=1)\n",
        "cutoff_value2 = calc.cutoff(pvals2, B=20, max=1)\n",
        "\n",
        "cutoff = cbind(c(cutoff_value1), c(cutoff_value2))\n",
        "\n",
        "colnames(cutoff) = c(\"cutoff_value1\", \"cutoff_value2\")\n",
        "\n",
        "cutoff"
      ],
      "execution_count": null,
      "outputs": [
        {
          "output_type": "display_data",
          "data": {
            "text/plain": [
              "     cutoff_value1 cutoff_value2\n",
              "[1,] 0.7           0.55         "
            ],
            "text/latex": "A matrix: 1 × 2 of type dbl\n\\begin{tabular}{ll}\n cutoff\\_value1 & cutoff\\_value2\\\\\n\\hline\n\t 0.7 & 0.55\\\\\n\\end{tabular}\n",
            "text/markdown": "\nA matrix: 1 × 2 of type dbl\n\n| cutoff_value1 | cutoff_value2 |\n|---|---|\n| 0.7 | 0.55 |\n\n",
            "text/html": [
              "<table class=\"dataframe\">\n",
              "<caption>A matrix: 1 × 2 of type dbl</caption>\n",
              "<thead>\n",
              "\t<tr><th scope=col>cutoff_value1</th><th scope=col>cutoff_value2</th></tr>\n",
              "</thead>\n",
              "<tbody>\n",
              "\t<tr><td>0.7</td><td>0.55</td></tr>\n",
              "</tbody>\n",
              "</table>\n"
            ]
          },
          "metadata": {}
        }
      ]
    },
    {
      "cell_type": "code",
      "metadata": {
        "id": "4KMrPJxy8wYY",
        "colab": {
          "base_uri": "https://localhost:8080/",
          "height": 269
        },
        "outputId": "80efd4b8-a9aa-4527-d416-62a4e387d868"
      },
      "source": [
        "#filter dataset using cutoff points\n",
        "#pvalsB and pvalsM are column names (for pvalues) of the data set for this test(to be changed to column names of the loaded data set)\n",
        "\n",
        "# selecting pvalues in the upper-right quadrant using Histogram Based Method by Orr et al. (2012)\n",
        "#defined as lambda1 = cutoffvalue1 and lambda2 = cutoffvalue2 for BS and M respectively.\n",
        "#lambda1, lambda2 - probability of pvalsB and pvalsM in the upper-right quadrant respectively \n",
        "\n",
        "\n",
        "p_vals = data_df  %>% filter(pvalsB >=cutoff_value1, pvalsM>=cutoff_value2)\n",
        "\n",
        "dim(p_vals)\n",
        "\n",
        "head(p_vals, 5)\n"
      ],
      "execution_count": null,
      "outputs": [
        {
          "output_type": "display_data",
          "data": {
            "text/plain": [
              "[1] 216   2"
            ],
            "text/latex": "\\begin{enumerate*}\n\\item 216\n\\item 2\n\\end{enumerate*}\n",
            "text/markdown": "1. 216\n2. 2\n\n\n",
            "text/html": [
              "<style>\n",
              ".list-inline {list-style: none; margin:0; padding: 0}\n",
              ".list-inline>li {display: inline-block}\n",
              ".list-inline>li:not(:last-child)::after {content: \"\\00b7\"; padding: 0 .5ex}\n",
              "</style>\n",
              "<ol class=list-inline><li>216</li><li>2</li></ol>\n"
            ]
          },
          "metadata": {}
        },
        {
          "output_type": "display_data",
          "data": {
            "text/plain": [
              "   pvalsB    pvalsM   \n",
              "11 0.7153375 0.6583378\n",
              "45 0.8998438 0.7117380\n",
              "66 0.9151923 0.6807783\n",
              "87 0.7648103 0.9797820\n",
              "98 0.8525579 0.9223115"
            ],
            "text/latex": "A data.frame: 5 × 2\n\\begin{tabular}{r|ll}\n  & pvalsB & pvalsM\\\\\n  & <dbl> & <dbl>\\\\\n\\hline\n\t11 & 0.7153375 & 0.6583378\\\\\n\t45 & 0.8998438 & 0.7117380\\\\\n\t66 & 0.9151923 & 0.6807783\\\\\n\t87 & 0.7648103 & 0.9797820\\\\\n\t98 & 0.8525579 & 0.9223115\\\\\n\\end{tabular}\n",
            "text/markdown": "\nA data.frame: 5 × 2\n\n| <!--/--> | pvalsB &lt;dbl&gt; | pvalsM &lt;dbl&gt; |\n|---|---|---|\n| 11 | 0.7153375 | 0.6583378 |\n| 45 | 0.8998438 | 0.7117380 |\n| 66 | 0.9151923 | 0.6807783 |\n| 87 | 0.7648103 | 0.9797820 |\n| 98 | 0.8525579 | 0.9223115 |\n\n",
            "text/html": [
              "<table class=\"dataframe\">\n",
              "<caption>A data.frame: 5 × 2</caption>\n",
              "<thead>\n",
              "\t<tr><th></th><th scope=col>pvalsB</th><th scope=col>pvalsM</th></tr>\n",
              "\t<tr><th></th><th scope=col>&lt;dbl&gt;</th><th scope=col>&lt;dbl&gt;</th></tr>\n",
              "</thead>\n",
              "<tbody>\n",
              "\t<tr><th scope=row>11</th><td>0.7153375</td><td>0.6583378</td></tr>\n",
              "\t<tr><th scope=row>45</th><td>0.8998438</td><td>0.7117380</td></tr>\n",
              "\t<tr><th scope=row>66</th><td>0.9151923</td><td>0.6807783</td></tr>\n",
              "\t<tr><th scope=row>87</th><td>0.7648103</td><td>0.9797820</td></tr>\n",
              "\t<tr><th scope=row>98</th><td>0.8525579</td><td>0.9223115</td></tr>\n",
              "</tbody>\n",
              "</table>\n"
            ]
          },
          "metadata": {}
        }
      ]
    },
    {
      "cell_type": "code",
      "metadata": {
        "id": "BGTT4IE78xeB",
        "colab": {
          "base_uri": "https://localhost:8080/",
          "height": 283
        },
        "outputId": "cd7f10e1-2893-4910-c7b6-0c008e618c23"
      },
      "source": [
        "# convert selected pvalues to z values\n",
        "z_val = as.data.frame(qnorm(as.matrix(p_vals), lower.tail = TRUE))\n",
        "colnames(z_val) = c(\"zvals1\", \"zvals2\")\n",
        "\n",
        "head(z_val)\n"
      ],
      "execution_count": null,
      "outputs": [
        {
          "output_type": "display_data",
          "data": {
            "text/plain": [
              "    zvals1    zvals2   \n",
              "11  0.5690459 0.4079309\n",
              "45  1.2806620 0.5584692\n",
              "66  1.3734406 0.4698763\n",
              "87  0.7218619 2.0492671\n",
              "98  1.0474671 1.4207928\n",
              "143 0.6140156 1.8159933"
            ],
            "text/latex": "A data.frame: 6 × 2\n\\begin{tabular}{r|ll}\n  & zvals1 & zvals2\\\\\n  & <dbl> & <dbl>\\\\\n\\hline\n\t11 & 0.5690459 & 0.4079309\\\\\n\t45 & 1.2806620 & 0.5584692\\\\\n\t66 & 1.3734406 & 0.4698763\\\\\n\t87 & 0.7218619 & 2.0492671\\\\\n\t98 & 1.0474671 & 1.4207928\\\\\n\t143 & 0.6140156 & 1.8159933\\\\\n\\end{tabular}\n",
            "text/markdown": "\nA data.frame: 6 × 2\n\n| <!--/--> | zvals1 &lt;dbl&gt; | zvals2 &lt;dbl&gt; |\n|---|---|---|\n| 11 | 0.5690459 | 0.4079309 |\n| 45 | 1.2806620 | 0.5584692 |\n| 66 | 1.3734406 | 0.4698763 |\n| 87 | 0.7218619 | 2.0492671 |\n| 98 | 1.0474671 | 1.4207928 |\n| 143 | 0.6140156 | 1.8159933 |\n\n",
            "text/html": [
              "<table class=\"dataframe\">\n",
              "<caption>A data.frame: 6 × 2</caption>\n",
              "<thead>\n",
              "\t<tr><th></th><th scope=col>zvals1</th><th scope=col>zvals2</th></tr>\n",
              "\t<tr><th></th><th scope=col>&lt;dbl&gt;</th><th scope=col>&lt;dbl&gt;</th></tr>\n",
              "</thead>\n",
              "<tbody>\n",
              "\t<tr><th scope=row>11</th><td>0.5690459</td><td>0.4079309</td></tr>\n",
              "\t<tr><th scope=row>45</th><td>1.2806620</td><td>0.5584692</td></tr>\n",
              "\t<tr><th scope=row>66</th><td>1.3734406</td><td>0.4698763</td></tr>\n",
              "\t<tr><th scope=row>87</th><td>0.7218619</td><td>2.0492671</td></tr>\n",
              "\t<tr><th scope=row>98</th><td>1.0474671</td><td>1.4207928</td></tr>\n",
              "\t<tr><th scope=row>143</th><td>0.6140156</td><td>1.8159933</td></tr>\n",
              "</tbody>\n",
              "</table>\n"
            ]
          },
          "metadata": {}
        }
      ]
    },
    {
      "cell_type": "code",
      "metadata": {
        "colab": {
          "base_uri": "https://localhost:8080/",
          "height": 269
        },
        "id": "HAyzGSTiU7Wi",
        "outputId": "6327c55a-e310-4453-f6d4-9b8d91f32d8a"
      },
      "source": [
        "zvals1 <- (as.data.frame(as.matrix(z_val[,1])))\n",
        "zvals2 <- (as.data.frame(as.matrix(z_val[,2])))\n",
        "\n",
        "head(zvals1, 5)"
      ],
      "execution_count": null,
      "outputs": [
        {
          "output_type": "display_data",
          "data": {
            "text/plain": [
              "  V1       \n",
              "1 0.5690459\n",
              "2 1.2806620\n",
              "3 1.3734406\n",
              "4 0.7218619\n",
              "5 1.0474671"
            ],
            "text/latex": "A data.frame: 5 × 1\n\\begin{tabular}{r|l}\n  & V1\\\\\n  & <dbl>\\\\\n\\hline\n\t1 & 0.5690459\\\\\n\t2 & 1.2806620\\\\\n\t3 & 1.3734406\\\\\n\t4 & 0.7218619\\\\\n\t5 & 1.0474671\\\\\n\\end{tabular}\n",
            "text/markdown": "\nA data.frame: 5 × 1\n\n| <!--/--> | V1 &lt;dbl&gt; |\n|---|---|\n| 1 | 0.5690459 |\n| 2 | 1.2806620 |\n| 3 | 1.3734406 |\n| 4 | 0.7218619 |\n| 5 | 1.0474671 |\n\n",
            "text/html": [
              "<table class=\"dataframe\">\n",
              "<caption>A data.frame: 5 × 1</caption>\n",
              "<thead>\n",
              "\t<tr><th></th><th scope=col>V1</th></tr>\n",
              "\t<tr><th></th><th scope=col>&lt;dbl&gt;</th></tr>\n",
              "</thead>\n",
              "<tbody>\n",
              "\t<tr><th scope=row>1</th><td>0.5690459</td></tr>\n",
              "\t<tr><th scope=row>2</th><td>1.2806620</td></tr>\n",
              "\t<tr><th scope=row>3</th><td>1.3734406</td></tr>\n",
              "\t<tr><th scope=row>4</th><td>0.7218619</td></tr>\n",
              "\t<tr><th scope=row>5</th><td>1.0474671</td></tr>\n",
              "</tbody>\n",
              "</table>\n"
            ]
          },
          "metadata": {}
        }
      ]
    },
    {
      "cell_type": "code",
      "metadata": {
        "id": "QSWdnQjS82iS"
      },
      "source": [
        "# convert lambda(truncation points) to z values\n",
        "z_val_extremums = as.data.frame(qnorm(as.matrix(cbind(c(cutoff_value1,1),c(cutoff_value2,1))), lower.tail = TRUE))\n",
        "\n",
        "#selecting the lower bounds (minimum z values) of the bivariate z values\n",
        "min_z1 <- z_val_extremums[1,1]\n",
        "min_z2 <- z_val_extremums[1,2]"
      ],
      "execution_count": null,
      "outputs": []
    },
    {
      "cell_type": "code",
      "metadata": {
        "colab": {
          "base_uri": "https://localhost:8080/",
          "height": 159
        },
        "id": "LIlTr2Sd-dKH",
        "outputId": "62d0201f-ee8f-4567-85ca-f4108377a641"
      },
      "source": [
        "\n",
        "head(z_val_extremums, 2)"
      ],
      "execution_count": null,
      "outputs": [
        {
          "output_type": "display_data",
          "data": {
            "text/plain": [
              "  V1        V2       \n",
              "1 0.5244005 0.1256613\n",
              "2       Inf       Inf"
            ],
            "text/latex": "A data.frame: 2 × 2\n\\begin{tabular}{r|ll}\n  & V1 & V2\\\\\n  & <dbl> & <dbl>\\\\\n\\hline\n\t1 & 0.5244005 & 0.1256613\\\\\n\t2 &       Inf &       Inf\\\\\n\\end{tabular}\n",
            "text/markdown": "\nA data.frame: 2 × 2\n\n| <!--/--> | V1 &lt;dbl&gt; | V2 &lt;dbl&gt; |\n|---|---|---|\n| 1 | 0.5244005 | 0.1256613 |\n| 2 |       Inf |       Inf |\n\n",
            "text/html": [
              "<table class=\"dataframe\">\n",
              "<caption>A data.frame: 2 × 2</caption>\n",
              "<thead>\n",
              "\t<tr><th></th><th scope=col>V1</th><th scope=col>V2</th></tr>\n",
              "\t<tr><th></th><th scope=col>&lt;dbl&gt;</th><th scope=col>&lt;dbl&gt;</th></tr>\n",
              "</thead>\n",
              "<tbody>\n",
              "\t<tr><th scope=row>1</th><td>0.5244005</td><td>0.1256613</td></tr>\n",
              "\t<tr><th scope=row>2</th><td>      Inf</td><td>      Inf</td></tr>\n",
              "</tbody>\n",
              "</table>\n"
            ]
          },
          "metadata": {}
        }
      ]
    },
    {
      "cell_type": "code",
      "metadata": {
        "id": "2iDJiXxl-0xJ"
      },
      "source": [
        "###################################################################################\n",
        "###################################################################################\n",
        "\n",
        "estimate.m0s <- function(p1, p2, B=20){\n",
        "  m <- length(p1)\n",
        "\n",
        "  ##find lambda cutoffs using histogram-based method\n",
        "  c1 <- calc.cutoff(p1, B=B, max=1)\n",
        "  c2 <- calc.cutoff(p2, B=B, max=1)\n",
        "\n",
        "  ##estimate m0 for experiment 1\n",
        "  ind1 <- (p1>=c1)\n",
        "  m0.1 <- sum(ind1)/(1-c1)\n",
        "\n",
        "  ##estimate m0 for experiment 2  \n",
        "  ind2 <- (p2>=c2)\n",
        "  m0.2 <- sum(ind2)/(1-c2)\n",
        "\n",
        "\n",
        "  ##estimate m00\n",
        "  ind12 <- ind1 & ind2\n",
        "  nA <- sum(ind12)\n",
        "  #pA <- (1-c1)*(1-c2)\n",
        "  #m00 <- nA/pA\n",
        "  \n",
        "  \n",
        "  # density function for each row of the bivariate z values (x) and \n",
        "  # estimated parameters(rho)\n",
        "  density = function(x, rho)\n",
        "  {\n",
        "    sigma = matrix(c(1, rho, rho, 1), 2, 2)\n",
        "    z = dtmvnorm(x, mean = c(0,0), sigma = sigma, lower = c(min_z1, min_z2))\n",
        "  }\n",
        "  \n",
        "  # log likelihood of the joint densities\n",
        "  log_likelihood_fn = function(rho){\n",
        "    \n",
        "    joint_likelihood = z_val %>% split(.$zvals2) %>% map_dfr(~density(c(.$zvals1,.$zvals2),rho))    \n",
        "    return(-sum(log(joint_likelihood)))\n",
        "    \n",
        "  }\n",
        "  \n",
        "  #MLE of the log likelihood function\n",
        "  optimal_rho = optimize(log_likelihood_fn, lower = -1, upper = 1 )\n",
        "  optimal_rho = as.data.frame(optimal_rho)\n",
        "  \n",
        "  #probability of a random variable greater than cutoff values \n",
        "  rho = as.numeric(optimal_rho[1])\n",
        "  pA = pmvnorm(lower=c(min_z1, min_z2), upper=c(Inf, Inf), mean=c(0,0), sigma = matrix(c(1, rho, rho, 1), 2, 2))\n",
        "  \n",
        "  m00 <- nA/pA\n",
        "  \n",
        "  \n",
        "  \n",
        "  ##estimate m11\n",
        "  m11 <- sum(m - m0.1 - m0.2 + m00)\n",
        "  \n",
        "  \n",
        "  ret <- list()\n",
        "  ret$ms <- c(m, m0.1, m0.2, m11, m00)\n",
        "  names(ret$ms) <- c(\"m\", \"m0.1\", \"m0.2\", \"m11\",\"m00\")\n",
        "  ret$cutoffs <- c(c1, c2)\n",
        "  return(ret)\n",
        "}"
      ],
      "execution_count": null,
      "outputs": []
    },
    {
      "cell_type": "code",
      "metadata": {
        "colab": {
          "base_uri": "https://localhost:8080/",
          "height": 130
        },
        "id": "H0JIdvFr_DKM",
        "outputId": "05d4f01b-5ab7-467e-f288-74500e1fadb8"
      },
      "source": [
        "estimate.m0s(pvals1, pvals2, B=20)"
      ],
      "execution_count": null,
      "outputs": [
        {
          "output_type": "display_data",
          "data": {
            "text/plain": [
              "$ms\n",
              "       m     m0.1     m0.2      m11      m00 \n",
              "5670.000 2966.667 2582.222 1851.500 1730.389 \n",
              "\n",
              "$cutoffs\n",
              "[1] 0.70 0.55\n"
            ],
            "text/latex": "\\begin{description}\n\\item[\\$ms] \\begin{description*}\n\\item[m] 5670\n\\item[m0.1] 2966.66666666667\n\\item[m0.2] 2582.22222222222\n\\item[m11] 1851.49995058288\n\\item[m00] 1730.38883947177\n\\end{description*}\n\n\\item[\\$cutoffs] \\begin{enumerate*}\n\\item 0.7\n\\item 0.55\n\\end{enumerate*}\n\n\\end{description}\n",
            "text/markdown": "$ms\n:   m\n:   5670m0.1\n:   2966.66666666667m0.2\n:   2582.22222222222m11\n:   1851.49995058288m00\n:   1730.38883947177\n\n\n$cutoffs\n:   1. 0.7\n2. 0.55\n\n\n\n\n\n",
            "text/html": [
              "<dl>\n",
              "\t<dt>$ms</dt>\n",
              "\t\t<dd><style>\n",
              ".dl-inline {width: auto; margin:0; padding: 0}\n",
              ".dl-inline>dt, .dl-inline>dd {float: none; width: auto; display: inline-block}\n",
              ".dl-inline>dt::after {content: \":\\0020\"; padding-right: .5ex}\n",
              ".dl-inline>dt:not(:first-of-type) {padding-left: .5ex}\n",
              "</style><dl class=dl-inline><dt>m</dt><dd>5670</dd><dt>m0.1</dt><dd>2966.66666666667</dd><dt>m0.2</dt><dd>2582.22222222222</dd><dt>m11</dt><dd>1851.49995058288</dd><dt>m00</dt><dd>1730.38883947177</dd></dl>\n",
              "</dd>\n",
              "\t<dt>$cutoffs</dt>\n",
              "\t\t<dd><style>\n",
              ".list-inline {list-style: none; margin:0; padding: 0}\n",
              ".list-inline>li {display: inline-block}\n",
              ".list-inline>li:not(:last-child)::after {content: \"\\00b7\"; padding: 0 .5ex}\n",
              "</style>\n",
              "<ol class=list-inline><li>0.7</li><li>0.55</li></ol>\n",
              "</dd>\n",
              "</dl>\n"
            ]
          },
          "metadata": {}
        }
      ]
    }
  ]
}
