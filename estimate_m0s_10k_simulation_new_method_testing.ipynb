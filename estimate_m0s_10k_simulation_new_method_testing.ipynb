{
  "nbformat": 4,
  "nbformat_minor": 0,
  "metadata": {
    "colab": {
      "name": "Thesis_work_in_colab.ipynb",
      "provenance": [],
      "authorship_tag": "ABX9TyPLuxXjo3jD3vvWPkTSnrNC",
      "include_colab_link": true
    },
    "kernelspec": {
      "name": "ir",
      "display_name": "R"
    },
    "language_info": {
      "name": "R"
    }
  },
  "cells": [
    {
      "cell_type": "markdown",
      "metadata": {
        "id": "view-in-github",
        "colab_type": "text"
      },
      "source": [
        "<a href=\"https://colab.research.google.com/github/almedida/thesis/blob/main/estimate_m0s_10k_simulation_new_method_testing.ipynb\" target=\"_parent\"><img src=\"https://colab.research.google.com/assets/colab-badge.svg\" alt=\"Open In Colab\"/></a>"
      ]
    },
    {
      "cell_type": "code",
      "metadata": {
        "colab": {
          "base_uri": "https://localhost:8080/"
        },
        "id": "Ja8SOFp28eno",
        "outputId": "b1fe0330-cdbc-40a2-ab39-61e206af411b"
      },
      "source": [
        "install.packages('pacman')\n",
        "library(pacman)\n",
        "\n",
        "p_load(\"tidyverse\", \"tmvtnorm\" )"
      ],
      "execution_count": 1,
      "outputs": [
        {
          "output_type": "stream",
          "name": "stderr",
          "text": [
            "Installing package into ‘/usr/local/lib/R/site-library’\n",
            "(as ‘lib’ is unspecified)\n",
            "\n",
            "Installing package into ‘/usr/local/lib/R/site-library’\n",
            "(as ‘lib’ is unspecified)\n",
            "\n",
            "also installing the dependencies ‘zoo’, ‘sandwich’, ‘mvtnorm’, ‘gmm’\n",
            "\n",
            "\n",
            "\n",
            "tmvtnorm installed\n",
            "\n"
          ]
        }
      ]
    },
    {
      "cell_type": "markdown",
      "source": [
        "##**Load Dataset**##"
      ],
      "metadata": {
        "id": "4D4Kte3zMakb"
      }
    },
    {
      "cell_type": "code",
      "metadata": {
        "id": "cN1QtLhd8rFo"
      },
      "source": [
        "#load dataset on data_df\n",
        "data_df = read.table(\"ttest_limma_pvalue_10k_sorted.csv\", header= TRUE, sep=\",\")\n",
        "\n",
        "pval_raw = as.data.frame(as.matrix(data_df))\n",
        "pvals1 <- (as.matrix(pval_raw[,1]))\n",
        "pvals2 <- (as.matrix(pval_raw[,2]))\n"
      ],
      "execution_count": 2,
      "outputs": []
    },
    {
      "cell_type": "code",
      "metadata": {
        "colab": {
          "base_uri": "https://localhost:8080/",
          "height": 240
        },
        "id": "jmRnj6oFQKid",
        "outputId": "2b8e44bc-7dca-4f0d-d170-107cfdee24df"
      },
      "source": [
        "length(pvals1)\n",
        "length(pvals2)\n",
        "\n",
        "#dim(pvals2)\n",
        "head(pvals1, 5)"
      ],
      "execution_count": null,
      "outputs": [
        {
          "output_type": "display_data",
          "data": {
            "text/plain": [
              "[1] 10000"
            ],
            "text/latex": "10000",
            "text/markdown": "10000",
            "text/html": [
              "10000"
            ]
          },
          "metadata": {}
        },
        {
          "output_type": "display_data",
          "data": {
            "text/plain": [
              "[1] 10000"
            ],
            "text/latex": "10000",
            "text/markdown": "10000",
            "text/html": [
              "10000"
            ]
          },
          "metadata": {}
        },
        {
          "output_type": "display_data",
          "data": {
            "text/plain": [
              "     [,1]       \n",
              "[1,] 0.031585206\n",
              "[2,] 0.000428599\n",
              "[3,] 0.057169023\n",
              "[4,] 0.310835844\n",
              "[5,] 0.018508069"
            ],
            "text/latex": "A matrix: 5 × 1 of type dbl\n\\begin{tabular}{l}\n\t 0.031585206\\\\\n\t 0.000428599\\\\\n\t 0.057169023\\\\\n\t 0.310835844\\\\\n\t 0.018508069\\\\\n\\end{tabular}\n",
            "text/markdown": "\nA matrix: 5 × 1 of type dbl\n\n| 0.031585206 |\n| 0.000428599 |\n| 0.057169023 |\n| 0.310835844 |\n| 0.018508069 |\n\n",
            "text/html": [
              "<table class=\"dataframe\">\n",
              "<caption>A matrix: 5 × 1 of type dbl</caption>\n",
              "<tbody>\n",
              "\t<tr><td>0.031585206</td></tr>\n",
              "\t<tr><td>0.000428599</td></tr>\n",
              "\t<tr><td>0.057169023</td></tr>\n",
              "\t<tr><td>0.310835844</td></tr>\n",
              "\t<tr><td>0.018508069</td></tr>\n",
              "</tbody>\n",
              "</table>\n"
            ]
          },
          "metadata": {}
        }
      ]
    },
    {
      "cell_type": "markdown",
      "source": [
        "##**Calculate cut-off points using Histogram-based method**##"
      ],
      "metadata": {
        "id": "6ZwsPK6YMm14"
      }
    },
    {
      "cell_type": "markdown",
      "source": [
        "calc.cutoff slightly modifies the estimate.m0 function to return the appropriate p-value cutoff where all p-values greater than the cutoff are assumed to come from null cases."
      ],
      "metadata": {
        "id": "3Ons2netM-8S"
      }
    },
    {
      "cell_type": "code",
      "metadata": {
        "id": "zoH1adM1-qzw"
      },
      "source": [
        "calc.cutoff = function(p, B = 20, max=1){\n",
        "\n",
        "  m <- length(p)\n",
        "  m0 <- m\n",
        "  bin <- c(-0.1, (1:B)/B*max)\n",
        "  bin.counts=rep(0,B)\n",
        "\n",
        "  for(i in 1:B){\n",
        "    bin.counts[i]=sum((p>bin[i])&(p<=bin[i+1]))\n",
        "  }\n",
        "\n",
        "  tail.means <- rev(cumsum(rev(bin.counts))/(1:B))\n",
        "  temp <- bin.counts - tail.means\n",
        "  index <- min((1:B)[temp <= 0])\n",
        "  cutoff2 <- (index)/B*max\n",
        "  if(cutoff2 == 1) {cutoff2 <- 1-1/B}\n",
        "\n",
        "  return(cutoff2)\n",
        "\n",
        "}\n"
      ],
      "execution_count": 3,
      "outputs": []
    },
    {
      "cell_type": "code",
      "metadata": {
        "colab": {
          "base_uri": "https://localhost:8080/",
          "height": 97
        },
        "id": "g7H7MMh3QhBW",
        "outputId": "abb9da88-86ba-4cd0-d8f3-ba6d256cbc42"
      },
      "source": [
        "cutoff_value1 = calc.cutoff(pvals1, B=20, max=1)\n",
        "cutoff_value2 = calc.cutoff(pvals2, B=20, max=1)\n",
        "\n",
        "cutoff = cbind(c(cutoff_value1), c(cutoff_value2))\n",
        "\n",
        "colnames(cutoff) = c(\"cutoff_value1\", \"cutoff_value2\")\n",
        "\n",
        "cutoff"
      ],
      "execution_count": 4,
      "outputs": [
        {
          "output_type": "display_data",
          "data": {
            "text/plain": [
              "     cutoff_value1 cutoff_value2\n",
              "[1,] 0.3           0.15         "
            ],
            "text/latex": "A matrix: 1 × 2 of type dbl\n\\begin{tabular}{ll}\n cutoff\\_value1 & cutoff\\_value2\\\\\n\\hline\n\t 0.3 & 0.15\\\\\n\\end{tabular}\n",
            "text/markdown": "\nA matrix: 1 × 2 of type dbl\n\n| cutoff_value1 | cutoff_value2 |\n|---|---|\n| 0.3 | 0.15 |\n\n",
            "text/html": [
              "<table class=\"dataframe\">\n",
              "<caption>A matrix: 1 × 2 of type dbl</caption>\n",
              "<thead>\n",
              "\t<tr><th scope=col>cutoff_value1</th><th scope=col>cutoff_value2</th></tr>\n",
              "</thead>\n",
              "<tbody>\n",
              "\t<tr><td>0.3</td><td>0.15</td></tr>\n",
              "</tbody>\n",
              "</table>\n"
            ]
          },
          "metadata": {}
        }
      ]
    },
    {
      "cell_type": "markdown",
      "source": [
        "**Filter dataset using cutoff points**\n",
        "* selecting pvalues in the upper-right quadrant using Histogram-Based method\n",
        "*  defined as lambda1 = cutoffvalue1 and lambda2 = cutoffvalue2 for pvalue 1 and pvalue 2 respectively.\n",
        "*  lambda1, lambda2 - probability of pvalue 1 and pvalue 2 in the upper-right quadrant respectively \n"
      ],
      "metadata": {
        "id": "xEnVerkvNHFa"
      }
    },
    {
      "cell_type": "markdown",
      "source": [
        "convert lambda(truncation points) to z values"
      ],
      "metadata": {
        "id": "sEPoh_3vOxEt"
      }
    },
    {
      "cell_type": "markdown",
      "source": [
        "selecting the lower bounds (minimum z values) of the bivariate z values"
      ],
      "metadata": {
        "id": "MA2adFWuO_Ch"
      }
    },
    {
      "cell_type": "markdown",
      "source": [
        "##**Estimating m00s**##\n",
        "\n",
        "*  m0.1 - DE genes in experiment 1\n",
        "*  m0.2 - DE genes in experiment 2\n",
        "*  m11 - DE genes in both experiments\n",
        "*  m00 - EE genes in both experiments"
      ],
      "metadata": {
        "id": "wHyKLmZ6PbEM"
      }
    },
    {
      "cell_type": "code",
      "source": [
        "pval_to_zval <- function(p1, p2, B=B, max=1){\n",
        "\n",
        "  p_vals = pval_raw  %>% filter(pvalue >=cutoff_value1, limma_pvalue>=cutoff_value2)\n",
        "\n",
        "\n",
        "  cutoff_value1 = calc.cutoff(pvals1, B=20, max=1)\n",
        "  cutoff_value2 = calc.cutoff(pvals2, B=20, max=1)\n",
        "\n",
        "  z_val = as.data.frame(qnorm(as.matrix(p_vals), lower.tail = TRUE))\n",
        "  colnames(z_val) = c(\"zvals1\", \"zvals2\")\n",
        "\n",
        "  zvals1 <- (as.data.frame(as.matrix(z_val[,1])))\n",
        "  zvals2 <- (as.data.frame(as.matrix(z_val[,2])))\n",
        "\n",
        "  z_val_extremums = as.data.frame(qnorm(as.matrix(cbind(c(cutoff_value1,1),c(cutoff_value2,1))), lower.tail = TRUE))\n",
        "\n",
        "  min_z1 <- z_val_extremums[1,1]\n",
        "  min_z2 <- z_val_extremums[1,2]\n",
        "\n",
        "  return z_val\n",
        "  return min_z1\n",
        "  return min_z2\n",
        "}"
      ],
      "metadata": {
        "id": "pwcoH3tHngUm",
        "outputId": "d21090f7-70b6-48f2-950f-12c39410c74a",
        "colab": {
          "base_uri": "https://localhost:8080/",
          "height": 147
        }
      },
      "execution_count": 16,
      "outputs": [
        {
          "output_type": "error",
          "ename": "ERROR",
          "evalue": "ignored",
          "traceback": [
            "Error in parse(text = x, srcfile = src): <text>:20:10: unexpected symbol\n19: \n20:   return z_val\n             ^\nTraceback:\n"
          ]
        }
      ]
    },
    {
      "cell_type": "code",
      "source": [
        "z <- pval_to_zval(pvals1, pvals2, B=20, max=1)\n",
        "z"
      ],
      "metadata": {
        "id": "NaDSkD8IprOc"
      },
      "execution_count": null,
      "outputs": []
    },
    {
      "cell_type": "code",
      "metadata": {
        "id": "2iDJiXxl-0xJ"
      },
      "source": [
        "estimate.m0s <- function(p1, p2, B=20){\n",
        "  m <- length(p1)\n",
        "\n",
        "  ##find lambda cutoffs using histogram-based method\n",
        "  c1 <- calc.cutoff(p1, B=B, max=1)\n",
        "  c2 <- calc.cutoff(p2, B=B, max=1)\n",
        "\n",
        "  #call function pval_to_zval\n",
        "  pval_to_zval(p1, p2, B=B, max=1)\n",
        "\n",
        "  ##estimate m0 for experiment 1\n",
        "  ind1 <- (p1>=c1)\n",
        "  m0.1 <- sum(ind1)/(1-c1)\n",
        "\n",
        "  ##estimate m0 for experiment 2  \n",
        "  ind2 <- (p2>=c2)\n",
        "  m0.2 <- sum(ind2)/(1-c2)\n",
        "\n",
        "\n",
        "  ##estimate m00\n",
        "  ind12 <- ind1 & ind2\n",
        "  nA <- sum(ind12)\n",
        "  #pA <- (1-c1)*(1-c2)\n",
        "  #m00 <- nA/pA\n",
        "  \n",
        "  #here, we used converted pvalues to z values to estimnate m00\n",
        "  # density function for each row of the bivariate z values (x) and \n",
        "  # estimated parameters(rho)\n",
        "  density = function(x, rho)\n",
        "  {\n",
        "    sigma = matrix(c(1, rho, rho, 1), 2, 2)\n",
        "    z = dtmvnorm(x, mean = c(0,0), sigma = sigma, lower = c(min_z1, min_z2))\n",
        "  }\n",
        "  \n",
        "  # log likelihood of the joint densities\n",
        "  log_likelihood_fn = function(rho){\n",
        "    \n",
        "    joint_likelihood = z_val %>% split(.$zvals2) %>% map_dfr(~density(c(.$zvals1,.$zvals2),rho))    \n",
        "    return(-sum(log(joint_likelihood)))\n",
        "    \n",
        "  }\n",
        "  \n",
        "  #MLE of the log likelihood function\n",
        "  optimal_rho = optimize(log_likelihood_fn, lower = -1, upper = 1 )\n",
        "  optimal_rho = as.data.frame(optimal_rho)\n",
        "  \n",
        "  #probability of a random variable greater than cutoff values \n",
        "  rho = as.numeric(optimal_rho[1])\n",
        "  pA = pmvnorm(lower=c(min_z1, min_z2), upper=c(Inf, Inf), mean=c(0,0), sigma = matrix(c(1, rho, rho, 1), 2, 2))\n",
        "  \n",
        "  m00 <- nA/pA\n",
        "  \n",
        "  ##estimate m11\n",
        "  m11 <- sum(m - m0.1 - m0.2 + m00)\n",
        "  \n",
        "  ret <- list()\n",
        "  ret$ms <- c(m, m0.1, m0.2, m11, m00)\n",
        "  names(ret$ms) <- c(\"m\", \"m0.1\", \"m0.2\", \"m11\",\"m00\")\n",
        "  ret$cutoffs <- c(c1, c2)\n",
        "  return(ret)\n",
        "}"
      ],
      "execution_count": 13,
      "outputs": []
    },
    {
      "cell_type": "code",
      "source": [
        "estimate.m0s(pvals1, pvals2, B=20)"
      ],
      "metadata": {
        "id": "u8CIikunsTrW",
        "outputId": "17347c5f-9fa5-41f5-ac8d-ce6de9f7c6a3",
        "colab": {
          "base_uri": "https://localhost:8080/",
          "height": 283
        }
      },
      "execution_count": 14,
      "outputs": [
        {
          "output_type": "error",
          "ename": "ERROR",
          "evalue": "ignored",
          "traceback": [
            "Error in split(., .$zvals2): object 'z_val' not found\nTraceback:\n",
            "1. estimate.m0s(pvals1, pvals2, B = 20)",
            "2. optimize(log_likelihood_fn, lower = -1, upper = 1)   # at line 44 of file <text>",
            "3. (function (arg) \n . f(arg, ...))(-0.23606797749979)",
            "4. f(arg, ...)",
            "5. z_val %>% split(.$zvals2) %>% map_dfr(~density(c(.$zvals1, .$zvals2), \n .     rho))   # at line 38 of file <text>",
            "6. map_dfr(., ~density(c(.$zvals1, .$zvals2), rho))",
            "7. map(.x, .f, ...)",
            "8. split(., .$zvals2)"
          ]
        }
      ]
    }
  ]
}