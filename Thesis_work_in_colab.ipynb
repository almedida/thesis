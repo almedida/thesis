{
  "nbformat": 4,
  "nbformat_minor": 0,
  "metadata": {
    "colab": {
      "name": "Thesis_work_in_colab.ipynb",
      "provenance": [],
      "authorship_tag": "ABX9TyNa12cAdk4MZBVmGJqUqoCt",
      "include_colab_link": true
    },
    "kernelspec": {
      "name": "ir",
      "display_name": "R"
    },
    "language_info": {
      "name": "R"
    }
  },
  "cells": [
    {
      "cell_type": "markdown",
      "metadata": {
        "id": "view-in-github",
        "colab_type": "text"
      },
      "source": [
        "<a href=\"https://colab.research.google.com/github/almedida/thesis/blob/main/Thesis_work_in_colab.ipynb\" target=\"_parent\"><img src=\"https://colab.research.google.com/assets/colab-badge.svg\" alt=\"Open In Colab\"/></a>"
      ]
    },
    {
      "cell_type": "code",
      "metadata": {
        "colab": {
          "base_uri": "https://localhost:8080/"
        },
        "id": "Ja8SOFp28eno",
        "outputId": "ae40e987-4f0a-44f0-fd63-a4e30a7312dd"
      },
      "source": [
        "install.packages('pacman')\n",
        "library(pacman)\n",
        "\n",
        "p_load(\"tidyverse\", \"tmvtnorm\" )"
      ],
      "execution_count": 1,
      "outputs": [
        {
          "output_type": "stream",
          "name": "stderr",
          "text": [
            "Installing package into ‘/usr/local/lib/R/site-library’\n",
            "(as ‘lib’ is unspecified)\n",
            "\n",
            "Installing package into ‘/usr/local/lib/R/site-library’\n",
            "(as ‘lib’ is unspecified)\n",
            "\n",
            "also installing the dependencies ‘zoo’, ‘sandwich’, ‘mvtnorm’, ‘gmm’\n",
            "\n",
            "\n",
            "\n",
            "tmvtnorm installed\n",
            "\n"
          ]
        }
      ]
    },
    {
      "cell_type": "code",
      "metadata": {
        "id": "cN1QtLhd8rFo"
      },
      "source": [
        "#load dataset on data_df\n",
        "data_df = read.table(\"maize_bivariate_pvals.txt\", header= TRUE, sep=\"\")"
      ],
      "execution_count": null,
      "outputs": []
    },
    {
      "cell_type": "code",
      "metadata": {
        "id": "4KMrPJxy8wYY"
      },
      "source": [
        "#filter dataset using cutoff points\n",
        "#pvalsB and pvalsM are column names (for pvalues) of the data set for this test(to be changed to column names of the loaded data set)\n",
        "p_vals = data_df  %>% filter(pvalsB >=c1, pvalsM>=c2)\n"
      ],
      "execution_count": null,
      "outputs": []
    },
    {
      "cell_type": "code",
      "metadata": {
        "id": "BGTT4IE78xeB"
      },
      "source": [
        "# convert selected pvalues to z values\n",
        "z_val = as.data.frame(qnorm(as.matrix(p_vals), lower.tail = TRUE))\n",
        "colnames(z_val) = c(\"zvals1\", \"zvals2\")\n"
      ],
      "execution_count": null,
      "outputs": []
    },
    {
      "cell_type": "code",
      "metadata": {
        "id": "QSWdnQjS82iS"
      },
      "source": [
        "# convert lambda(truncation points) to z values\n",
        "z_val_extremums = as.data.frame(qnorm(as.matrix(cbind(c(c1,1),c(c2,1))), lower.tail = TRUE))\n",
        "\n",
        "#selecting the lower bounds (minimum z values) of the bivariate z values\n",
        "min_z1 <- z_val_extremums[1,1]\n",
        "min_z2 <- z_val_extremums[1,2]"
      ],
      "execution_count": null,
      "outputs": []
    }
  ]
}