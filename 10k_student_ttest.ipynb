{
  "nbformat": 4,
  "nbformat_minor": 0,
  "metadata": {
    "colab": {
      "name": "t_test.ipynb",
      "provenance": [],
      "authorship_tag": "ABX9TyOHjmZu4mhgvT/tZOZY4lEe",
      "include_colab_link": true
    },
    "kernelspec": {
      "name": "ir",
      "display_name": "R"
    },
    "language_info": {
      "name": "R"
    }
  },
  "cells": [
    {
      "cell_type": "markdown",
      "metadata": {
        "id": "view-in-github",
        "colab_type": "text"
      },
      "source": [
        "<a href=\"https://colab.research.google.com/github/almedida/thesis/blob/main/10k_student_ttest.ipynb\" target=\"_parent\"><img src=\"https://colab.research.google.com/assets/colab-badge.svg\" alt=\"Open In Colab\"/></a>"
      ]
    },
    {
      "cell_type": "code",
      "metadata": {
        "colab": {
          "base_uri": "https://localhost:8080/"
        },
        "id": "s2fJk8K3QVPl",
        "outputId": "586a4d97-ca59-4b98-d085-ebfd2b771a00"
      },
      "source": [
        "install.packages('pacman')\n",
        "library(pacman, devtools)\n",
        "p_load(\"tidyverse\", \"matrixTests\", \"gtools\", \"VennDiagram\")"
      ],
      "execution_count": 1,
      "outputs": [
        {
          "output_type": "stream",
          "name": "stderr",
          "text": [
            "Installing package into ‘/usr/local/lib/R/site-library’\n",
            "(as ‘lib’ is unspecified)\n",
            "\n",
            "Installing package into ‘/usr/local/lib/R/site-library’\n",
            "(as ‘lib’ is unspecified)\n",
            "\n",
            "also installing the dependency ‘matrixStats’\n",
            "\n",
            "\n",
            "\n",
            "matrixTests installed\n",
            "\n",
            "Installing package into ‘/usr/local/lib/R/site-library’\n",
            "(as ‘lib’ is unspecified)\n",
            "\n",
            "\n",
            "gtools installed\n",
            "\n",
            "Installing package into ‘/usr/local/lib/R/site-library’\n",
            "(as ‘lib’ is unspecified)\n",
            "\n",
            "also installing the dependencies ‘formatR’, ‘lambda.r’, ‘futile.options’, ‘futile.logger’\n",
            "\n",
            "\n",
            "\n",
            "VennDiagram installed\n",
            "\n"
          ]
        }
      ]
    },
    {
      "cell_type": "markdown",
      "source": [
        "##**Load Dataset**##"
      ],
      "metadata": {
        "id": "DOFRT2cbQwcH"
      }
    },
    {
      "cell_type": "markdown",
      "source": [
        "Load 10,000 selected genes with randomly selected samples in each group"
      ],
      "metadata": {
        "id": "odzaIwpcHDYC"
      }
    },
    {
      "cell_type": "code",
      "metadata": {
        "id": "ildnWqiRQTvV"
      },
      "source": [
        "tenk_group1_data = read.table(\"10k_untreated_group12.csv\", header= TRUE, sep=\",\")\n",
        "tenk_group2_data = read.table(\"10k_treated_grp22.csv\", header= TRUE, sep=\",\")"
      ],
      "execution_count": 4,
      "outputs": []
    },
    {
      "cell_type": "code",
      "source": [
        "head(tenk_group1_data)\n",
        "head(tenk_group2_data)"
      ],
      "metadata": {
        "id": "foFeDHW_QX-4",
        "outputId": "cb796002-bdb3-4194-d222-e705e440115c",
        "colab": {
          "base_uri": "https://localhost:8080/",
          "height": 549
        }
      },
      "execution_count": 5,
      "outputs": [
        {
          "output_type": "display_data",
          "data": {
            "text/plain": [
              "  X  GSM1247287 GSM1247409 GSM1247400 GSM1247208\n",
              "1  3  5.747143  6.217379   6.817949   6.341990  \n",
              "2  4 10.069770  8.557116   8.963299   9.072234  \n",
              "3  7  6.677855  6.604854   7.245951   6.646721  \n",
              "4  8  7.052094  7.027002   7.299794   6.756484  \n",
              "5  9  6.963023  7.168324   7.352896   6.994607  \n",
              "6 14  5.794534  6.068964   5.657244   6.176538  "
            ],
            "text/latex": "A data.frame: 6 × 5\n\\begin{tabular}{r|lllll}\n  & X & GSM1247287 & GSM1247409 & GSM1247400 & GSM1247208\\\\\n  & <int> & <dbl> & <dbl> & <dbl> & <dbl>\\\\\n\\hline\n\t1 &  3 &  5.747143 & 6.217379 & 6.817949 & 6.341990\\\\\n\t2 &  4 & 10.069770 & 8.557116 & 8.963299 & 9.072234\\\\\n\t3 &  7 &  6.677855 & 6.604854 & 7.245951 & 6.646721\\\\\n\t4 &  8 &  7.052094 & 7.027002 & 7.299794 & 6.756484\\\\\n\t5 &  9 &  6.963023 & 7.168324 & 7.352896 & 6.994607\\\\\n\t6 & 14 &  5.794534 & 6.068964 & 5.657244 & 6.176538\\\\\n\\end{tabular}\n",
            "text/markdown": "\nA data.frame: 6 × 5\n\n| <!--/--> | X &lt;int&gt; | GSM1247287 &lt;dbl&gt; | GSM1247409 &lt;dbl&gt; | GSM1247400 &lt;dbl&gt; | GSM1247208 &lt;dbl&gt; |\n|---|---|---|---|---|---|\n| 1 |  3 |  5.747143 | 6.217379 | 6.817949 | 6.341990 |\n| 2 |  4 | 10.069770 | 8.557116 | 8.963299 | 9.072234 |\n| 3 |  7 |  6.677855 | 6.604854 | 7.245951 | 6.646721 |\n| 4 |  8 |  7.052094 | 7.027002 | 7.299794 | 6.756484 |\n| 5 |  9 |  6.963023 | 7.168324 | 7.352896 | 6.994607 |\n| 6 | 14 |  5.794534 | 6.068964 | 5.657244 | 6.176538 |\n\n",
            "text/html": [
              "<table class=\"dataframe\">\n",
              "<caption>A data.frame: 6 × 5</caption>\n",
              "<thead>\n",
              "\t<tr><th></th><th scope=col>X</th><th scope=col>GSM1247287</th><th scope=col>GSM1247409</th><th scope=col>GSM1247400</th><th scope=col>GSM1247208</th></tr>\n",
              "\t<tr><th></th><th scope=col>&lt;int&gt;</th><th scope=col>&lt;dbl&gt;</th><th scope=col>&lt;dbl&gt;</th><th scope=col>&lt;dbl&gt;</th><th scope=col>&lt;dbl&gt;</th></tr>\n",
              "</thead>\n",
              "<tbody>\n",
              "\t<tr><th scope=row>1</th><td> 3</td><td> 5.747143</td><td>6.217379</td><td>6.817949</td><td>6.341990</td></tr>\n",
              "\t<tr><th scope=row>2</th><td> 4</td><td>10.069770</td><td>8.557116</td><td>8.963299</td><td>9.072234</td></tr>\n",
              "\t<tr><th scope=row>3</th><td> 7</td><td> 6.677855</td><td>6.604854</td><td>7.245951</td><td>6.646721</td></tr>\n",
              "\t<tr><th scope=row>4</th><td> 8</td><td> 7.052094</td><td>7.027002</td><td>7.299794</td><td>6.756484</td></tr>\n",
              "\t<tr><th scope=row>5</th><td> 9</td><td> 6.963023</td><td>7.168324</td><td>7.352896</td><td>6.994607</td></tr>\n",
              "\t<tr><th scope=row>6</th><td>14</td><td> 5.794534</td><td>6.068964</td><td>5.657244</td><td>6.176538</td></tr>\n",
              "</tbody>\n",
              "</table>\n"
            ]
          },
          "metadata": {}
        },
        {
          "output_type": "display_data",
          "data": {
            "text/plain": [
              "  X  GSM1247362 GSM1247338 GSM1247219 GSM1247295\n",
              "1  3  6.326476   5.778903   6.011732  6.693239  \n",
              "2  4 10.262686  10.541875  10.079571  9.618058  \n",
              "3  7  7.279109   7.170793   7.613719  7.317107  \n",
              "4  8  7.298507   7.137390   7.185195  7.392985  \n",
              "5  9  7.121931   7.076823   7.352460  7.202329  \n",
              "6 14  6.091486   6.058325   6.129704  6.091151  "
            ],
            "text/latex": "A data.frame: 6 × 5\n\\begin{tabular}{r|lllll}\n  & X & GSM1247362 & GSM1247338 & GSM1247219 & GSM1247295\\\\\n  & <int> & <dbl> & <dbl> & <dbl> & <dbl>\\\\\n\\hline\n\t1 &  3 &  6.326476 &  5.778903 &  6.011732 & 6.693239\\\\\n\t2 &  4 & 10.262686 & 10.541875 & 10.079571 & 9.618058\\\\\n\t3 &  7 &  7.279109 &  7.170793 &  7.613719 & 7.317107\\\\\n\t4 &  8 &  7.298507 &  7.137390 &  7.185195 & 7.392985\\\\\n\t5 &  9 &  7.121931 &  7.076823 &  7.352460 & 7.202329\\\\\n\t6 & 14 &  6.091486 &  6.058325 &  6.129704 & 6.091151\\\\\n\\end{tabular}\n",
            "text/markdown": "\nA data.frame: 6 × 5\n\n| <!--/--> | X &lt;int&gt; | GSM1247362 &lt;dbl&gt; | GSM1247338 &lt;dbl&gt; | GSM1247219 &lt;dbl&gt; | GSM1247295 &lt;dbl&gt; |\n|---|---|---|---|---|---|\n| 1 |  3 |  6.326476 |  5.778903 |  6.011732 | 6.693239 |\n| 2 |  4 | 10.262686 | 10.541875 | 10.079571 | 9.618058 |\n| 3 |  7 |  7.279109 |  7.170793 |  7.613719 | 7.317107 |\n| 4 |  8 |  7.298507 |  7.137390 |  7.185195 | 7.392985 |\n| 5 |  9 |  7.121931 |  7.076823 |  7.352460 | 7.202329 |\n| 6 | 14 |  6.091486 |  6.058325 |  6.129704 | 6.091151 |\n\n",
            "text/html": [
              "<table class=\"dataframe\">\n",
              "<caption>A data.frame: 6 × 5</caption>\n",
              "<thead>\n",
              "\t<tr><th></th><th scope=col>X</th><th scope=col>GSM1247362</th><th scope=col>GSM1247338</th><th scope=col>GSM1247219</th><th scope=col>GSM1247295</th></tr>\n",
              "\t<tr><th></th><th scope=col>&lt;int&gt;</th><th scope=col>&lt;dbl&gt;</th><th scope=col>&lt;dbl&gt;</th><th scope=col>&lt;dbl&gt;</th><th scope=col>&lt;dbl&gt;</th></tr>\n",
              "</thead>\n",
              "<tbody>\n",
              "\t<tr><th scope=row>1</th><td> 3</td><td> 6.326476</td><td> 5.778903</td><td> 6.011732</td><td>6.693239</td></tr>\n",
              "\t<tr><th scope=row>2</th><td> 4</td><td>10.262686</td><td>10.541875</td><td>10.079571</td><td>9.618058</td></tr>\n",
              "\t<tr><th scope=row>3</th><td> 7</td><td> 7.279109</td><td> 7.170793</td><td> 7.613719</td><td>7.317107</td></tr>\n",
              "\t<tr><th scope=row>4</th><td> 8</td><td> 7.298507</td><td> 7.137390</td><td> 7.185195</td><td>7.392985</td></tr>\n",
              "\t<tr><th scope=row>5</th><td> 9</td><td> 7.121931</td><td> 7.076823</td><td> 7.352460</td><td>7.202329</td></tr>\n",
              "\t<tr><th scope=row>6</th><td>14</td><td> 6.091486</td><td> 6.058325</td><td> 6.129704</td><td>6.091151</td></tr>\n",
              "</tbody>\n",
              "</table>\n"
            ]
          },
          "metadata": {}
        }
      ]
    },
    {
      "cell_type": "code",
      "source": [
        "tenk_group1_data = tenk_group1_data[-1]\n",
        "tenk_group2_data = tenk_group2_data[-1]"
      ],
      "metadata": {
        "id": "JWYBbQeMIS2h"
      },
      "execution_count": 6,
      "outputs": []
    },
    {
      "cell_type": "code",
      "source": [
        "head(tenk_group1_data)\n",
        "head(tenk_group2_data)"
      ],
      "metadata": {
        "colab": {
          "base_uri": "https://localhost:8080/",
          "height": 549
        },
        "id": "KlzlXvVqJKnW",
        "outputId": "1963d244-1366-4aca-9da8-ccfeb2316a8d"
      },
      "execution_count": 7,
      "outputs": [
        {
          "output_type": "display_data",
          "data": {
            "text/plain": [
              "  GSM1247287 GSM1247409 GSM1247400 GSM1247208\n",
              "1  5.747143  6.217379   6.817949   6.341990  \n",
              "2 10.069770  8.557116   8.963299   9.072234  \n",
              "3  6.677855  6.604854   7.245951   6.646721  \n",
              "4  7.052094  7.027002   7.299794   6.756484  \n",
              "5  6.963023  7.168324   7.352896   6.994607  \n",
              "6  5.794534  6.068964   5.657244   6.176538  "
            ],
            "text/latex": "A data.frame: 6 × 4\n\\begin{tabular}{r|llll}\n  & GSM1247287 & GSM1247409 & GSM1247400 & GSM1247208\\\\\n  & <dbl> & <dbl> & <dbl> & <dbl>\\\\\n\\hline\n\t1 &  5.747143 & 6.217379 & 6.817949 & 6.341990\\\\\n\t2 & 10.069770 & 8.557116 & 8.963299 & 9.072234\\\\\n\t3 &  6.677855 & 6.604854 & 7.245951 & 6.646721\\\\\n\t4 &  7.052094 & 7.027002 & 7.299794 & 6.756484\\\\\n\t5 &  6.963023 & 7.168324 & 7.352896 & 6.994607\\\\\n\t6 &  5.794534 & 6.068964 & 5.657244 & 6.176538\\\\\n\\end{tabular}\n",
            "text/markdown": "\nA data.frame: 6 × 4\n\n| <!--/--> | GSM1247287 &lt;dbl&gt; | GSM1247409 &lt;dbl&gt; | GSM1247400 &lt;dbl&gt; | GSM1247208 &lt;dbl&gt; |\n|---|---|---|---|---|\n| 1 |  5.747143 | 6.217379 | 6.817949 | 6.341990 |\n| 2 | 10.069770 | 8.557116 | 8.963299 | 9.072234 |\n| 3 |  6.677855 | 6.604854 | 7.245951 | 6.646721 |\n| 4 |  7.052094 | 7.027002 | 7.299794 | 6.756484 |\n| 5 |  6.963023 | 7.168324 | 7.352896 | 6.994607 |\n| 6 |  5.794534 | 6.068964 | 5.657244 | 6.176538 |\n\n",
            "text/html": [
              "<table class=\"dataframe\">\n",
              "<caption>A data.frame: 6 × 4</caption>\n",
              "<thead>\n",
              "\t<tr><th></th><th scope=col>GSM1247287</th><th scope=col>GSM1247409</th><th scope=col>GSM1247400</th><th scope=col>GSM1247208</th></tr>\n",
              "\t<tr><th></th><th scope=col>&lt;dbl&gt;</th><th scope=col>&lt;dbl&gt;</th><th scope=col>&lt;dbl&gt;</th><th scope=col>&lt;dbl&gt;</th></tr>\n",
              "</thead>\n",
              "<tbody>\n",
              "\t<tr><th scope=row>1</th><td> 5.747143</td><td>6.217379</td><td>6.817949</td><td>6.341990</td></tr>\n",
              "\t<tr><th scope=row>2</th><td>10.069770</td><td>8.557116</td><td>8.963299</td><td>9.072234</td></tr>\n",
              "\t<tr><th scope=row>3</th><td> 6.677855</td><td>6.604854</td><td>7.245951</td><td>6.646721</td></tr>\n",
              "\t<tr><th scope=row>4</th><td> 7.052094</td><td>7.027002</td><td>7.299794</td><td>6.756484</td></tr>\n",
              "\t<tr><th scope=row>5</th><td> 6.963023</td><td>7.168324</td><td>7.352896</td><td>6.994607</td></tr>\n",
              "\t<tr><th scope=row>6</th><td> 5.794534</td><td>6.068964</td><td>5.657244</td><td>6.176538</td></tr>\n",
              "</tbody>\n",
              "</table>\n"
            ]
          },
          "metadata": {}
        },
        {
          "output_type": "display_data",
          "data": {
            "text/plain": [
              "  GSM1247362 GSM1247338 GSM1247219 GSM1247295\n",
              "1  6.326476   5.778903   6.011732  6.693239  \n",
              "2 10.262686  10.541875  10.079571  9.618058  \n",
              "3  7.279109   7.170793   7.613719  7.317107  \n",
              "4  7.298507   7.137390   7.185195  7.392985  \n",
              "5  7.121931   7.076823   7.352460  7.202329  \n",
              "6  6.091486   6.058325   6.129704  6.091151  "
            ],
            "text/latex": "A data.frame: 6 × 4\n\\begin{tabular}{r|llll}\n  & GSM1247362 & GSM1247338 & GSM1247219 & GSM1247295\\\\\n  & <dbl> & <dbl> & <dbl> & <dbl>\\\\\n\\hline\n\t1 &  6.326476 &  5.778903 &  6.011732 & 6.693239\\\\\n\t2 & 10.262686 & 10.541875 & 10.079571 & 9.618058\\\\\n\t3 &  7.279109 &  7.170793 &  7.613719 & 7.317107\\\\\n\t4 &  7.298507 &  7.137390 &  7.185195 & 7.392985\\\\\n\t5 &  7.121931 &  7.076823 &  7.352460 & 7.202329\\\\\n\t6 &  6.091486 &  6.058325 &  6.129704 & 6.091151\\\\\n\\end{tabular}\n",
            "text/markdown": "\nA data.frame: 6 × 4\n\n| <!--/--> | GSM1247362 &lt;dbl&gt; | GSM1247338 &lt;dbl&gt; | GSM1247219 &lt;dbl&gt; | GSM1247295 &lt;dbl&gt; |\n|---|---|---|---|---|\n| 1 |  6.326476 |  5.778903 |  6.011732 | 6.693239 |\n| 2 | 10.262686 | 10.541875 | 10.079571 | 9.618058 |\n| 3 |  7.279109 |  7.170793 |  7.613719 | 7.317107 |\n| 4 |  7.298507 |  7.137390 |  7.185195 | 7.392985 |\n| 5 |  7.121931 |  7.076823 |  7.352460 | 7.202329 |\n| 6 |  6.091486 |  6.058325 |  6.129704 | 6.091151 |\n\n",
            "text/html": [
              "<table class=\"dataframe\">\n",
              "<caption>A data.frame: 6 × 4</caption>\n",
              "<thead>\n",
              "\t<tr><th></th><th scope=col>GSM1247362</th><th scope=col>GSM1247338</th><th scope=col>GSM1247219</th><th scope=col>GSM1247295</th></tr>\n",
              "\t<tr><th></th><th scope=col>&lt;dbl&gt;</th><th scope=col>&lt;dbl&gt;</th><th scope=col>&lt;dbl&gt;</th><th scope=col>&lt;dbl&gt;</th></tr>\n",
              "</thead>\n",
              "<tbody>\n",
              "\t<tr><th scope=row>1</th><td> 6.326476</td><td> 5.778903</td><td> 6.011732</td><td>6.693239</td></tr>\n",
              "\t<tr><th scope=row>2</th><td>10.262686</td><td>10.541875</td><td>10.079571</td><td>9.618058</td></tr>\n",
              "\t<tr><th scope=row>3</th><td> 7.279109</td><td> 7.170793</td><td> 7.613719</td><td>7.317107</td></tr>\n",
              "\t<tr><th scope=row>4</th><td> 7.298507</td><td> 7.137390</td><td> 7.185195</td><td>7.392985</td></tr>\n",
              "\t<tr><th scope=row>5</th><td> 7.121931</td><td> 7.076823</td><td> 7.352460</td><td>7.202329</td></tr>\n",
              "\t<tr><th scope=row>6</th><td> 6.091486</td><td> 6.058325</td><td> 6.129704</td><td>6.091151</td></tr>\n",
              "</tbody>\n",
              "</table>\n"
            ]
          },
          "metadata": {}
        }
      ]
    },
    {
      "cell_type": "markdown",
      "source": [
        "##**Extracting p-values using Student's t-test**##"
      ],
      "metadata": {
        "id": "cYu8zHvoV6_E"
      }
    },
    {
      "cell_type": "code",
      "metadata": {
        "id": "AHJC0Vom19gU"
      },
      "source": [
        "tenk_ttest <- row_t_equalvar(tenk_group1_data, tenk_group2_data, alternative = \"two.sided\", mu = 0, conf.level = 0.95)"
      ],
      "execution_count": 8,
      "outputs": []
    },
    {
      "cell_type": "code",
      "source": [
        "head(tenk_ttest)"
      ],
      "metadata": {
        "colab": {
          "base_uri": "https://localhost:8080/",
          "height": 303
        },
        "id": "v_BeUYghHyrt",
        "outputId": "59464510-5e84-4b95-b12b-7e8bbe2999a6"
      },
      "execution_count": 9,
      "outputs": [
        {
          "output_type": "display_data",
          "data": {
            "text/plain": [
              "  obs.x obs.y obs.tot mean.x   mean.y    mean.diff   var.x      var.y       \n",
              "1 4     4     8       6.281115  6.202587  0.07852775 0.19369496 0.1573405441\n",
              "2 4     4     8       9.165605 10.125548 -0.95994288 0.41247282 0.1505982832\n",
              "3 4     4     8       6.793845  7.345182 -0.55133664 0.09173886 0.0358924969\n",
              "4 4     4     8       7.033844  7.253519 -0.21967575 0.04934595 0.0132095996\n",
              "5 4     4     8       7.119713  7.188386 -0.06867325 0.03231354 0.0146590849\n",
              "6 4     4     8       5.924320  6.092666 -0.16834650 0.05756993 0.0008516018\n",
              "  var.pooled stderr    df statistic  pvalue     conf.low   conf.high  \n",
              "1 0.17551775 0.2962412 6   0.2650804 0.79981930 -0.6463485  0.80340397\n",
              "2 0.28153555 0.3751903 6  -2.5585492 0.04299260 -1.8780005 -0.04188524\n",
              "3 0.06381568 0.1786277 6  -3.0865133 0.02148336 -0.9884228 -0.11425051\n",
              "4 0.03127777 0.1250555 6  -1.7566255 0.12949834 -0.5256756  0.08632412\n",
              "5 0.02348631 0.1083658 6  -0.6337168 0.54964514 -0.3338349  0.19648841\n",
              "6 0.02921077 0.1208527 6  -1.3929887 0.21304556 -0.4640625  0.12736949\n",
              "  alternative mean.null conf.level\n",
              "1 two.sided   0         0.95      \n",
              "2 two.sided   0         0.95      \n",
              "3 two.sided   0         0.95      \n",
              "4 two.sided   0         0.95      \n",
              "5 two.sided   0         0.95      \n",
              "6 two.sided   0         0.95      "
            ],
            "text/latex": "A data.frame: 6 × 18\n\\begin{tabular}{r|llllllllllllllllll}\n  & obs.x & obs.y & obs.tot & mean.x & mean.y & mean.diff & var.x & var.y & var.pooled & stderr & df & statistic & pvalue & conf.low & conf.high & alternative & mean.null & conf.level\\\\\n  & <int> & <int> & <int> & <dbl> & <dbl> & <dbl> & <dbl> & <dbl> & <dbl> & <dbl> & <dbl> & <dbl> & <dbl> & <dbl> & <dbl> & <chr> & <dbl> & <dbl>\\\\\n\\hline\n\t1 & 4 & 4 & 8 & 6.281115 &  6.202587 &  0.07852775 & 0.19369496 & 0.1573405441 & 0.17551775 & 0.2962412 & 6 &  0.2650804 & 0.79981930 & -0.6463485 &  0.80340397 & two.sided & 0 & 0.95\\\\\n\t2 & 4 & 4 & 8 & 9.165605 & 10.125548 & -0.95994288 & 0.41247282 & 0.1505982832 & 0.28153555 & 0.3751903 & 6 & -2.5585492 & 0.04299260 & -1.8780005 & -0.04188524 & two.sided & 0 & 0.95\\\\\n\t3 & 4 & 4 & 8 & 6.793845 &  7.345182 & -0.55133664 & 0.09173886 & 0.0358924969 & 0.06381568 & 0.1786277 & 6 & -3.0865133 & 0.02148336 & -0.9884228 & -0.11425051 & two.sided & 0 & 0.95\\\\\n\t4 & 4 & 4 & 8 & 7.033844 &  7.253519 & -0.21967575 & 0.04934595 & 0.0132095996 & 0.03127777 & 0.1250555 & 6 & -1.7566255 & 0.12949834 & -0.5256756 &  0.08632412 & two.sided & 0 & 0.95\\\\\n\t5 & 4 & 4 & 8 & 7.119713 &  7.188386 & -0.06867325 & 0.03231354 & 0.0146590849 & 0.02348631 & 0.1083658 & 6 & -0.6337168 & 0.54964514 & -0.3338349 &  0.19648841 & two.sided & 0 & 0.95\\\\\n\t6 & 4 & 4 & 8 & 5.924320 &  6.092666 & -0.16834650 & 0.05756993 & 0.0008516018 & 0.02921077 & 0.1208527 & 6 & -1.3929887 & 0.21304556 & -0.4640625 &  0.12736949 & two.sided & 0 & 0.95\\\\\n\\end{tabular}\n",
            "text/markdown": "\nA data.frame: 6 × 18\n\n| <!--/--> | obs.x &lt;int&gt; | obs.y &lt;int&gt; | obs.tot &lt;int&gt; | mean.x &lt;dbl&gt; | mean.y &lt;dbl&gt; | mean.diff &lt;dbl&gt; | var.x &lt;dbl&gt; | var.y &lt;dbl&gt; | var.pooled &lt;dbl&gt; | stderr &lt;dbl&gt; | df &lt;dbl&gt; | statistic &lt;dbl&gt; | pvalue &lt;dbl&gt; | conf.low &lt;dbl&gt; | conf.high &lt;dbl&gt; | alternative &lt;chr&gt; | mean.null &lt;dbl&gt; | conf.level &lt;dbl&gt; |\n|---|---|---|---|---|---|---|---|---|---|---|---|---|---|---|---|---|---|---|\n| 1 | 4 | 4 | 8 | 6.281115 |  6.202587 |  0.07852775 | 0.19369496 | 0.1573405441 | 0.17551775 | 0.2962412 | 6 |  0.2650804 | 0.79981930 | -0.6463485 |  0.80340397 | two.sided | 0 | 0.95 |\n| 2 | 4 | 4 | 8 | 9.165605 | 10.125548 | -0.95994288 | 0.41247282 | 0.1505982832 | 0.28153555 | 0.3751903 | 6 | -2.5585492 | 0.04299260 | -1.8780005 | -0.04188524 | two.sided | 0 | 0.95 |\n| 3 | 4 | 4 | 8 | 6.793845 |  7.345182 | -0.55133664 | 0.09173886 | 0.0358924969 | 0.06381568 | 0.1786277 | 6 | -3.0865133 | 0.02148336 | -0.9884228 | -0.11425051 | two.sided | 0 | 0.95 |\n| 4 | 4 | 4 | 8 | 7.033844 |  7.253519 | -0.21967575 | 0.04934595 | 0.0132095996 | 0.03127777 | 0.1250555 | 6 | -1.7566255 | 0.12949834 | -0.5256756 |  0.08632412 | two.sided | 0 | 0.95 |\n| 5 | 4 | 4 | 8 | 7.119713 |  7.188386 | -0.06867325 | 0.03231354 | 0.0146590849 | 0.02348631 | 0.1083658 | 6 | -0.6337168 | 0.54964514 | -0.3338349 |  0.19648841 | two.sided | 0 | 0.95 |\n| 6 | 4 | 4 | 8 | 5.924320 |  6.092666 | -0.16834650 | 0.05756993 | 0.0008516018 | 0.02921077 | 0.1208527 | 6 | -1.3929887 | 0.21304556 | -0.4640625 |  0.12736949 | two.sided | 0 | 0.95 |\n\n",
            "text/html": [
              "<table class=\"dataframe\">\n",
              "<caption>A data.frame: 6 × 18</caption>\n",
              "<thead>\n",
              "\t<tr><th></th><th scope=col>obs.x</th><th scope=col>obs.y</th><th scope=col>obs.tot</th><th scope=col>mean.x</th><th scope=col>mean.y</th><th scope=col>mean.diff</th><th scope=col>var.x</th><th scope=col>var.y</th><th scope=col>var.pooled</th><th scope=col>stderr</th><th scope=col>df</th><th scope=col>statistic</th><th scope=col>pvalue</th><th scope=col>conf.low</th><th scope=col>conf.high</th><th scope=col>alternative</th><th scope=col>mean.null</th><th scope=col>conf.level</th></tr>\n",
              "\t<tr><th></th><th scope=col>&lt;int&gt;</th><th scope=col>&lt;int&gt;</th><th scope=col>&lt;int&gt;</th><th scope=col>&lt;dbl&gt;</th><th scope=col>&lt;dbl&gt;</th><th scope=col>&lt;dbl&gt;</th><th scope=col>&lt;dbl&gt;</th><th scope=col>&lt;dbl&gt;</th><th scope=col>&lt;dbl&gt;</th><th scope=col>&lt;dbl&gt;</th><th scope=col>&lt;dbl&gt;</th><th scope=col>&lt;dbl&gt;</th><th scope=col>&lt;dbl&gt;</th><th scope=col>&lt;dbl&gt;</th><th scope=col>&lt;dbl&gt;</th><th scope=col>&lt;chr&gt;</th><th scope=col>&lt;dbl&gt;</th><th scope=col>&lt;dbl&gt;</th></tr>\n",
              "</thead>\n",
              "<tbody>\n",
              "\t<tr><th scope=row>1</th><td>4</td><td>4</td><td>8</td><td>6.281115</td><td> 6.202587</td><td> 0.07852775</td><td>0.19369496</td><td>0.1573405441</td><td>0.17551775</td><td>0.2962412</td><td>6</td><td> 0.2650804</td><td>0.79981930</td><td>-0.6463485</td><td> 0.80340397</td><td>two.sided</td><td>0</td><td>0.95</td></tr>\n",
              "\t<tr><th scope=row>2</th><td>4</td><td>4</td><td>8</td><td>9.165605</td><td>10.125548</td><td>-0.95994288</td><td>0.41247282</td><td>0.1505982832</td><td>0.28153555</td><td>0.3751903</td><td>6</td><td>-2.5585492</td><td>0.04299260</td><td>-1.8780005</td><td>-0.04188524</td><td>two.sided</td><td>0</td><td>0.95</td></tr>\n",
              "\t<tr><th scope=row>3</th><td>4</td><td>4</td><td>8</td><td>6.793845</td><td> 7.345182</td><td>-0.55133664</td><td>0.09173886</td><td>0.0358924969</td><td>0.06381568</td><td>0.1786277</td><td>6</td><td>-3.0865133</td><td>0.02148336</td><td>-0.9884228</td><td>-0.11425051</td><td>two.sided</td><td>0</td><td>0.95</td></tr>\n",
              "\t<tr><th scope=row>4</th><td>4</td><td>4</td><td>8</td><td>7.033844</td><td> 7.253519</td><td>-0.21967575</td><td>0.04934595</td><td>0.0132095996</td><td>0.03127777</td><td>0.1250555</td><td>6</td><td>-1.7566255</td><td>0.12949834</td><td>-0.5256756</td><td> 0.08632412</td><td>two.sided</td><td>0</td><td>0.95</td></tr>\n",
              "\t<tr><th scope=row>5</th><td>4</td><td>4</td><td>8</td><td>7.119713</td><td> 7.188386</td><td>-0.06867325</td><td>0.03231354</td><td>0.0146590849</td><td>0.02348631</td><td>0.1083658</td><td>6</td><td>-0.6337168</td><td>0.54964514</td><td>-0.3338349</td><td> 0.19648841</td><td>two.sided</td><td>0</td><td>0.95</td></tr>\n",
              "\t<tr><th scope=row>6</th><td>4</td><td>4</td><td>8</td><td>5.924320</td><td> 6.092666</td><td>-0.16834650</td><td>0.05756993</td><td>0.0008516018</td><td>0.02921077</td><td>0.1208527</td><td>6</td><td>-1.3929887</td><td>0.21304556</td><td>-0.4640625</td><td> 0.12736949</td><td>two.sided</td><td>0</td><td>0.95</td></tr>\n",
              "</tbody>\n",
              "</table>\n"
            ]
          },
          "metadata": {}
        }
      ]
    },
    {
      "cell_type": "code",
      "source": [
        "write.csv(tenk_ttest, \"pvalue_10k_sorted_all_2.csv\", row.names=FALSE)"
      ],
      "metadata": {
        "id": "Eppk3F-tQJWa"
      },
      "execution_count": 11,
      "outputs": []
    },
    {
      "cell_type": "code",
      "metadata": {
        "id": "mu4CQAmUQ6iQ",
        "colab": {
          "base_uri": "https://localhost:8080/",
          "height": 300
        },
        "outputId": "f7b12248-518e-4759-def5-2129441776a2"
      },
      "source": [
        "pvalue_10k_sorted <- tenk_ttest[13]\n",
        "head(pvalue_10k_sorted)\n",
        "write.csv(pvalue_10k_sorted, \"pvalue_10k_sim2.csv\", row.names=FALSE)\n",
        "\n"
      ],
      "execution_count": 12,
      "outputs": [
        {
          "output_type": "display_data",
          "data": {
            "text/plain": [
              "  pvalue    \n",
              "1 0.79981930\n",
              "2 0.04299260\n",
              "3 0.02148336\n",
              "4 0.12949834\n",
              "5 0.54964514\n",
              "6 0.21304556"
            ],
            "text/latex": "A data.frame: 6 × 1\n\\begin{tabular}{r|l}\n  & pvalue\\\\\n  & <dbl>\\\\\n\\hline\n\t1 & 0.79981930\\\\\n\t2 & 0.04299260\\\\\n\t3 & 0.02148336\\\\\n\t4 & 0.12949834\\\\\n\t5 & 0.54964514\\\\\n\t6 & 0.21304556\\\\\n\\end{tabular}\n",
            "text/markdown": "\nA data.frame: 6 × 1\n\n| <!--/--> | pvalue &lt;dbl&gt; |\n|---|---|\n| 1 | 0.79981930 |\n| 2 | 0.04299260 |\n| 3 | 0.02148336 |\n| 4 | 0.12949834 |\n| 5 | 0.54964514 |\n| 6 | 0.21304556 |\n\n",
            "text/html": [
              "<table class=\"dataframe\">\n",
              "<caption>A data.frame: 6 × 1</caption>\n",
              "<thead>\n",
              "\t<tr><th></th><th scope=col>pvalue</th></tr>\n",
              "\t<tr><th></th><th scope=col>&lt;dbl&gt;</th></tr>\n",
              "</thead>\n",
              "<tbody>\n",
              "\t<tr><th scope=row>1</th><td>0.79981930</td></tr>\n",
              "\t<tr><th scope=row>2</th><td>0.04299260</td></tr>\n",
              "\t<tr><th scope=row>3</th><td>0.02148336</td></tr>\n",
              "\t<tr><th scope=row>4</th><td>0.12949834</td></tr>\n",
              "\t<tr><th scope=row>5</th><td>0.54964514</td></tr>\n",
              "\t<tr><th scope=row>6</th><td>0.21304556</td></tr>\n",
              "</tbody>\n",
              "</table>\n"
            ]
          },
          "metadata": {}
        }
      ]
    },
    {
      "cell_type": "code",
      "source": [
        "hist_data <- data.matrix(pvalue_10k_sorted)\n",
        "hist(hist_data)"
      ],
      "metadata": {
        "id": "2u7H5SPYs0Sl",
        "outputId": "a86f5a86-5957-4221-93b9-3b184c48b316",
        "colab": {
          "base_uri": "https://localhost:8080/",
          "height": 437
        }
      },
      "execution_count": 13,
      "outputs": [
        {
          "output_type": "display_data",
          "data": {
            "image/png": "[encoded data removed]",
            "text/plain": [
              "Plot with title “Histogram of hist_data”"
            ]
          },
          "metadata": {
            "image/png": {
              "width": 420,
              "height": 420
            }
          }
        }
      ]
    },
    {
      "cell_type": "code",
      "source": [
        "hist_limma = read.table(\"ttest_limma_pvalue_10k_sorted.csv\", header= TRUE, sep=\",\")\n",
        "\n",
        "head(hist_limma)\n",
        "hist_data <- data.matrix(pvalue_10k_sorted)\n",
        "\n",
        "hist(hist_data[, 1])\n"
      ],
      "metadata": {
        "id": "H4hKL-ObtYDB"
      },
      "execution_count": null,
      "outputs": []
    },
    {
      "cell_type": "code",
      "source": [
        "hist2 <- hist_limma[, 2]\n",
        "head(hist2)"
      ],
      "metadata": {
        "id": "q4ZzYzRcuO_4"
      },
      "execution_count": null,
      "outputs": []
    },
    {
      "cell_type": "markdown",
      "source": [
        "**Adjusted p-values using Benjamini Hochberg**"
      ],
      "metadata": {
        "id": "naL0O3RWWFyJ"
      }
    },
    {
      "cell_type": "code",
      "metadata": {
        "id": "vOXjDwW3Tbw6"
      },
      "source": [
        "adj_pvalue_10k_sorted <- data.matrix(as.data.frame(as.matrix(pvalue_10k_sorted)), rownames.force = NA)\n"
      ],
      "execution_count": 15,
      "outputs": []
    },
    {
      "cell_type": "code",
      "source": [
        "adj_pvalue_10k_sorted <-p.adjust(adj_pvalue_10k_sorted, \"BH\")"
      ],
      "metadata": {
        "id": "bLLS2nwHcke-"
      },
      "execution_count": 16,
      "outputs": []
    },
    {
      "cell_type": "code",
      "source": [
        "adj_pvalue_10k_sorted_df = data.frame(adj_pvalue_10k_sorted)\n",
        "head(adj_pvalue_10k_sorted_df)\n",
        "write.csv(adj_pvalue_10k_sorted_df, \"adj_pvalue_10k_sim2.csv\", row.names=FALSE)"
      ],
      "metadata": {
        "id": "Utlra-mMhn-l",
        "outputId": "0692b06f-6895-43d7-cc40-e327b84380ff",
        "colab": {
          "base_uri": "https://localhost:8080/",
          "height": 283
        }
      },
      "execution_count": 17,
      "outputs": [
        {
          "output_type": "display_data",
          "data": {
            "text/plain": [
              "  adj_pvalue_10k_sorted\n",
              "1 0.9832992            \n",
              "2 0.4832120            \n",
              "3 0.3412713            \n",
              "4 0.7446713            \n",
              "5 0.9623851            \n",
              "6 0.8437448            "
            ],
            "text/latex": "A data.frame: 6 × 1\n\\begin{tabular}{r|l}\n  & adj\\_pvalue\\_10k\\_sorted\\\\\n  & <dbl>\\\\\n\\hline\n\t1 & 0.9832992\\\\\n\t2 & 0.4832120\\\\\n\t3 & 0.3412713\\\\\n\t4 & 0.7446713\\\\\n\t5 & 0.9623851\\\\\n\t6 & 0.8437448\\\\\n\\end{tabular}\n",
            "text/markdown": "\nA data.frame: 6 × 1\n\n| <!--/--> | adj_pvalue_10k_sorted &lt;dbl&gt; |\n|---|---|\n| 1 | 0.9832992 |\n| 2 | 0.4832120 |\n| 3 | 0.3412713 |\n| 4 | 0.7446713 |\n| 5 | 0.9623851 |\n| 6 | 0.8437448 |\n\n",
            "text/html": [
              "<table class=\"dataframe\">\n",
              "<caption>A data.frame: 6 × 1</caption>\n",
              "<thead>\n",
              "\t<tr><th></th><th scope=col>adj_pvalue_10k_sorted</th></tr>\n",
              "\t<tr><th></th><th scope=col>&lt;dbl&gt;</th></tr>\n",
              "</thead>\n",
              "<tbody>\n",
              "\t<tr><th scope=row>1</th><td>0.9832992</td></tr>\n",
              "\t<tr><th scope=row>2</th><td>0.4832120</td></tr>\n",
              "\t<tr><th scope=row>3</th><td>0.3412713</td></tr>\n",
              "\t<tr><th scope=row>4</th><td>0.7446713</td></tr>\n",
              "\t<tr><th scope=row>5</th><td>0.9623851</td></tr>\n",
              "\t<tr><th scope=row>6</th><td>0.8437448</td></tr>\n",
              "</tbody>\n",
              "</table>\n"
            ]
          },
          "metadata": {}
        }
      ]
    },
    {
      "cell_type": "markdown",
      "source": [
        "##**Venn Diagram Analysis using Intersection method**##"
      ],
      "metadata": {
        "id": "8IoXZZcDXgDj"
      }
    },
    {
      "cell_type": "code",
      "metadata": {
        "id": "IpGtyK3Nkq8w"
      },
      "source": [
        "data0_01 = read.table(\"data0_01.csv\", header= TRUE, sep=\",\")\n",
        "data0_05 = read.table(\"data0_05.csv\", header= TRUE, sep=\",\")\n",
        "data0_1 = read.table(\"data0_1.csv\", header= TRUE, sep=\",\")"
      ],
      "execution_count": null,
      "outputs": []
    },
    {
      "cell_type": "code",
      "metadata": {
        "id": "HXRoAMZ-lYWv"
      },
      "source": [
        "dataKidney0_01 = sum(data0_01[1])\n",
        "dataLiver0_01 = sum(data0_01[2])\n",
        "dataIntersection0_01 = sum(data0_01[3])\n",
        "\n",
        "dataKidney0_05 = sum(data0_05[1])\n",
        "dataLiver0_05 = sum(data0_05[2])\n",
        "dataIntersection0_05 = sum(data0_05[3])\n",
        "\n",
        "dataKidney0_1 = sum(data0_1[1])\n",
        "dataLiver0_1 = sum(data0_1[2])\n",
        "dataIntersection0_1 = sum(data0_1[3])"
      ],
      "execution_count": null,
      "outputs": []
    },
    {
      "cell_type": "code",
      "metadata": {
        "id": "4fqaSKourksn"
      },
      "source": [
        "c(dataKidney0_01, dataLiver0_01, dataIntersection0_01)\n"
      ],
      "execution_count": null,
      "outputs": []
    },
    {
      "cell_type": "code",
      "metadata": {
        "id": "f_adyquWokaC"
      },
      "source": [
        "draw.pairwise.venn(area1=dataKidney0_01, area2=dataLiver0_01,cross.area=dataIntersection0_01,\n",
        "                   category=c(\"Kidney\",\"Liver\"),fill=c(\"Red\",\"Yellow\"),\n",
        "                   )"
      ],
      "execution_count": null,
      "outputs": []
    },
    {
      "cell_type": "code",
      "metadata": {
        "id": "vUM3UMnNzjS1"
      },
      "source": [
        "draw.pairwise.venn(area1=dataKidney0_05, area2=dataLiver0_05,cross.area=dataIntersection0_05,\n",
        "                   category=c(\"Kidney\",\"Liver\"),fill=c(\"Red\",\"Yellow\"),\n",
        "                   )"
      ],
      "execution_count": null,
      "outputs": []
    },
    {
      "cell_type": "code",
      "metadata": {
        "id": "LxEUFfhAzkAM"
      },
      "source": [
        "draw.pairwise.venn(area1=dataKidney0_1, area2=dataLiver0_1,cross.area=dataIntersection0_1,\n",
        "                   category=c(\"Kidney\",\"Liver\"),fill=c(\"Red\",\"Yellow\"),\n",
        "                   )"
      ],
      "execution_count": null,
      "outputs": []
    }
  ]
}