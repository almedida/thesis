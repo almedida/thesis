{
  "nbformat": 4,
  "nbformat_minor": 0,
  "metadata": {
    "colab": {
      "name": "simulation.ipynb",
      "provenance": [],
      "authorship_tag": "ABX9TyNYUC0eFqa59/sZmQCzdG4a",
      "include_colab_link": true
    },
    "kernelspec": {
      "name": "ir",
      "display_name": "R"
    },
    "language_info": {
      "name": "R"
    }
  },
  "cells": [
    {
      "cell_type": "markdown",
      "metadata": {
        "id": "view-in-github",
        "colab_type": "text"
      },
      "source": [
        "<a href=\"https://colab.research.google.com/github/almedida/thesis/blob/main/simulation.ipynb\" target=\"_parent\"><img src=\"https://colab.research.google.com/assets/colab-badge.svg\" alt=\"Open In Colab\"/></a>"
      ]
    },
    {
      "cell_type": "code",
      "execution_count": null,
      "metadata": {
        "id": "Q4ZIf_LWvFxD"
      },
      "outputs": [],
      "source": [
        "#load dataset\n",
        "sim_data = read.table(\"sim_data.csv\", header= TRUE, sep=\",\")\n",
        "N = ncol(sim_data) #no of columns\n",
        "n_gene = nrow(sim_data) #no of rows"
      ]
    },
    {
      "cell_type": "code",
      "source": [
        "head(sim_data)"
      ],
      "metadata": {
        "colab": {
          "base_uri": "https://localhost:8080/",
          "height": 303
        },
        "id": "b7UnOUy0vWRX",
        "outputId": "c5bc9455-79fd-465b-d4cd-eeab6f36bba9"
      },
      "execution_count": null,
      "outputs": [
        {
          "output_type": "display_data",
          "data": {
            "text/plain": [
              "  GSM1247203 GSM1247204 GSM1247205 GSM1247206 GSM1247207 GSM1247208 GSM1247209\n",
              "1 4.319644   4.396137    3.968531  3.979268   3.901083   4.207761   3.963131  \n",
              "2 9.608635   9.244517   10.553440  9.754355   8.997556   9.027160   9.227125  \n",
              "3 5.923612   6.797588    6.369745  5.671180   6.077140   6.341990   6.686084  \n",
              "4 9.911118   9.421990    9.358638  9.275714   8.573832   9.072234   9.053680  \n",
              "5 6.292236   6.047995    6.268707  6.275980   6.257831   6.371053   6.149960  \n",
              "6 7.310085   8.409503    7.802326  7.260794   7.598630   7.504309   8.223495  \n",
              "  GSM1247210 GSM1247211 GSM1247212 ⋯ GSM1247410 GSM1247411 GSM1247412\n",
              "1 4.164432   3.873857   4.217890   ⋯  4.484714  4.219507   3.925787  \n",
              "2 9.198466   8.908276   9.604081   ⋯  8.846296  8.666471   9.462380  \n",
              "3 6.154192   5.906662   6.186725   ⋯  6.820596  6.006575   6.250236  \n",
              "4 9.549565   9.458813   9.247518   ⋯ 10.028440  9.816180   8.794598  \n",
              "5 6.261317   6.361110   6.336733   ⋯  6.278971  6.549239   6.395798  \n",
              "6 7.424841   7.065065   7.577485   ⋯  7.754192  7.051993   7.425191  \n",
              "  GSM1247413 GSM1247414 GSM1247415 GSM1247416 GSM1247417 GSM1247418 GSM1247419\n",
              "1 3.861954   4.015559   4.623454   5.223074   3.927950   3.798007   3.958021  \n",
              "2 9.199890   9.022814   9.072050   9.679663   8.615543   8.796901   8.688204  \n",
              "3 6.047955   6.467733   6.707928   7.916406   5.589499   5.016101   5.278193  \n",
              "4 9.688042   8.914406   9.211488   9.399957   9.693126   8.551371   9.780800  \n",
              "5 6.263772   6.119008   6.146906   6.276937   6.206087   6.438444   6.251627  \n",
              "6 7.989666   7.573813   7.743429   8.081255   7.023867   7.322741   7.321942  "
            ],
            "text/latex": "A data.frame: 6 × 217\n\\begin{tabular}{r|lllllllllllllllllllll}\n  & GSM1247203 & GSM1247204 & GSM1247205 & GSM1247206 & GSM1247207 & GSM1247208 & GSM1247209 & GSM1247210 & GSM1247211 & GSM1247212 & ⋯ & GSM1247410 & GSM1247411 & GSM1247412 & GSM1247413 & GSM1247414 & GSM1247415 & GSM1247416 & GSM1247417 & GSM1247418 & GSM1247419\\\\\n  & <dbl> & <dbl> & <dbl> & <dbl> & <dbl> & <dbl> & <dbl> & <dbl> & <dbl> & <dbl> & ⋯ & <dbl> & <dbl> & <dbl> & <dbl> & <dbl> & <dbl> & <dbl> & <dbl> & <dbl> & <dbl>\\\\\n\\hline\n\t1 & 4.319644 & 4.396137 &  3.968531 & 3.979268 & 3.901083 & 4.207761 & 3.963131 & 4.164432 & 3.873857 & 4.217890 & ⋯ &  4.484714 & 4.219507 & 3.925787 & 3.861954 & 4.015559 & 4.623454 & 5.223074 & 3.927950 & 3.798007 & 3.958021\\\\\n\t2 & 9.608635 & 9.244517 & 10.553440 & 9.754355 & 8.997556 & 9.027160 & 9.227125 & 9.198466 & 8.908276 & 9.604081 & ⋯ &  8.846296 & 8.666471 & 9.462380 & 9.199890 & 9.022814 & 9.072050 & 9.679663 & 8.615543 & 8.796901 & 8.688204\\\\\n\t3 & 5.923612 & 6.797588 &  6.369745 & 5.671180 & 6.077140 & 6.341990 & 6.686084 & 6.154192 & 5.906662 & 6.186725 & ⋯ &  6.820596 & 6.006575 & 6.250236 & 6.047955 & 6.467733 & 6.707928 & 7.916406 & 5.589499 & 5.016101 & 5.278193\\\\\n\t4 & 9.911118 & 9.421990 &  9.358638 & 9.275714 & 8.573832 & 9.072234 & 9.053680 & 9.549565 & 9.458813 & 9.247518 & ⋯ & 10.028440 & 9.816180 & 8.794598 & 9.688042 & 8.914406 & 9.211488 & 9.399957 & 9.693126 & 8.551371 & 9.780800\\\\\n\t5 & 6.292236 & 6.047995 &  6.268707 & 6.275980 & 6.257831 & 6.371053 & 6.149960 & 6.261317 & 6.361110 & 6.336733 & ⋯ &  6.278971 & 6.549239 & 6.395798 & 6.263772 & 6.119008 & 6.146906 & 6.276937 & 6.206087 & 6.438444 & 6.251627\\\\\n\t6 & 7.310085 & 8.409503 &  7.802326 & 7.260794 & 7.598630 & 7.504309 & 8.223495 & 7.424841 & 7.065065 & 7.577485 & ⋯ &  7.754192 & 7.051993 & 7.425191 & 7.989666 & 7.573813 & 7.743429 & 8.081255 & 7.023867 & 7.322741 & 7.321942\\\\\n\\end{tabular}\n",
            "text/markdown": "\nA data.frame: 6 × 217\n\n| <!--/--> | GSM1247203 &lt;dbl&gt; | GSM1247204 &lt;dbl&gt; | GSM1247205 &lt;dbl&gt; | GSM1247206 &lt;dbl&gt; | GSM1247207 &lt;dbl&gt; | GSM1247208 &lt;dbl&gt; | GSM1247209 &lt;dbl&gt; | GSM1247210 &lt;dbl&gt; | GSM1247211 &lt;dbl&gt; | GSM1247212 &lt;dbl&gt; | ⋯ ⋯ | GSM1247410 &lt;dbl&gt; | GSM1247411 &lt;dbl&gt; | GSM1247412 &lt;dbl&gt; | GSM1247413 &lt;dbl&gt; | GSM1247414 &lt;dbl&gt; | GSM1247415 &lt;dbl&gt; | GSM1247416 &lt;dbl&gt; | GSM1247417 &lt;dbl&gt; | GSM1247418 &lt;dbl&gt; | GSM1247419 &lt;dbl&gt; |\n|---|---|---|---|---|---|---|---|---|---|---|---|---|---|---|---|---|---|---|---|---|---|\n| 1 | 4.319644 | 4.396137 |  3.968531 | 3.979268 | 3.901083 | 4.207761 | 3.963131 | 4.164432 | 3.873857 | 4.217890 | ⋯ |  4.484714 | 4.219507 | 3.925787 | 3.861954 | 4.015559 | 4.623454 | 5.223074 | 3.927950 | 3.798007 | 3.958021 |\n| 2 | 9.608635 | 9.244517 | 10.553440 | 9.754355 | 8.997556 | 9.027160 | 9.227125 | 9.198466 | 8.908276 | 9.604081 | ⋯ |  8.846296 | 8.666471 | 9.462380 | 9.199890 | 9.022814 | 9.072050 | 9.679663 | 8.615543 | 8.796901 | 8.688204 |\n| 3 | 5.923612 | 6.797588 |  6.369745 | 5.671180 | 6.077140 | 6.341990 | 6.686084 | 6.154192 | 5.906662 | 6.186725 | ⋯ |  6.820596 | 6.006575 | 6.250236 | 6.047955 | 6.467733 | 6.707928 | 7.916406 | 5.589499 | 5.016101 | 5.278193 |\n| 4 | 9.911118 | 9.421990 |  9.358638 | 9.275714 | 8.573832 | 9.072234 | 9.053680 | 9.549565 | 9.458813 | 9.247518 | ⋯ | 10.028440 | 9.816180 | 8.794598 | 9.688042 | 8.914406 | 9.211488 | 9.399957 | 9.693126 | 8.551371 | 9.780800 |\n| 5 | 6.292236 | 6.047995 |  6.268707 | 6.275980 | 6.257831 | 6.371053 | 6.149960 | 6.261317 | 6.361110 | 6.336733 | ⋯ |  6.278971 | 6.549239 | 6.395798 | 6.263772 | 6.119008 | 6.146906 | 6.276937 | 6.206087 | 6.438444 | 6.251627 |\n| 6 | 7.310085 | 8.409503 |  7.802326 | 7.260794 | 7.598630 | 7.504309 | 8.223495 | 7.424841 | 7.065065 | 7.577485 | ⋯ |  7.754192 | 7.051993 | 7.425191 | 7.989666 | 7.573813 | 7.743429 | 8.081255 | 7.023867 | 7.322741 | 7.321942 |\n\n",
            "text/html": [
              "<table class=\"dataframe\">\n",
              "<caption>A data.frame: 6 × 217</caption>\n",
              "<thead>\n",
              "\t<tr><th></th><th scope=col>GSM1247203</th><th scope=col>GSM1247204</th><th scope=col>GSM1247205</th><th scope=col>GSM1247206</th><th scope=col>GSM1247207</th><th scope=col>GSM1247208</th><th scope=col>GSM1247209</th><th scope=col>GSM1247210</th><th scope=col>GSM1247211</th><th scope=col>GSM1247212</th><th scope=col>⋯</th><th scope=col>GSM1247410</th><th scope=col>GSM1247411</th><th scope=col>GSM1247412</th><th scope=col>GSM1247413</th><th scope=col>GSM1247414</th><th scope=col>GSM1247415</th><th scope=col>GSM1247416</th><th scope=col>GSM1247417</th><th scope=col>GSM1247418</th><th scope=col>GSM1247419</th></tr>\n",
              "\t<tr><th></th><th scope=col>&lt;dbl&gt;</th><th scope=col>&lt;dbl&gt;</th><th scope=col>&lt;dbl&gt;</th><th scope=col>&lt;dbl&gt;</th><th scope=col>&lt;dbl&gt;</th><th scope=col>&lt;dbl&gt;</th><th scope=col>&lt;dbl&gt;</th><th scope=col>&lt;dbl&gt;</th><th scope=col>&lt;dbl&gt;</th><th scope=col>&lt;dbl&gt;</th><th scope=col>⋯</th><th scope=col>&lt;dbl&gt;</th><th scope=col>&lt;dbl&gt;</th><th scope=col>&lt;dbl&gt;</th><th scope=col>&lt;dbl&gt;</th><th scope=col>&lt;dbl&gt;</th><th scope=col>&lt;dbl&gt;</th><th scope=col>&lt;dbl&gt;</th><th scope=col>&lt;dbl&gt;</th><th scope=col>&lt;dbl&gt;</th><th scope=col>&lt;dbl&gt;</th></tr>\n",
              "</thead>\n",
              "<tbody>\n",
              "\t<tr><th scope=row>1</th><td>4.319644</td><td>4.396137</td><td> 3.968531</td><td>3.979268</td><td>3.901083</td><td>4.207761</td><td>3.963131</td><td>4.164432</td><td>3.873857</td><td>4.217890</td><td>⋯</td><td> 4.484714</td><td>4.219507</td><td>3.925787</td><td>3.861954</td><td>4.015559</td><td>4.623454</td><td>5.223074</td><td>3.927950</td><td>3.798007</td><td>3.958021</td></tr>\n",
              "\t<tr><th scope=row>2</th><td>9.608635</td><td>9.244517</td><td>10.553440</td><td>9.754355</td><td>8.997556</td><td>9.027160</td><td>9.227125</td><td>9.198466</td><td>8.908276</td><td>9.604081</td><td>⋯</td><td> 8.846296</td><td>8.666471</td><td>9.462380</td><td>9.199890</td><td>9.022814</td><td>9.072050</td><td>9.679663</td><td>8.615543</td><td>8.796901</td><td>8.688204</td></tr>\n",
              "\t<tr><th scope=row>3</th><td>5.923612</td><td>6.797588</td><td> 6.369745</td><td>5.671180</td><td>6.077140</td><td>6.341990</td><td>6.686084</td><td>6.154192</td><td>5.906662</td><td>6.186725</td><td>⋯</td><td> 6.820596</td><td>6.006575</td><td>6.250236</td><td>6.047955</td><td>6.467733</td><td>6.707928</td><td>7.916406</td><td>5.589499</td><td>5.016101</td><td>5.278193</td></tr>\n",
              "\t<tr><th scope=row>4</th><td>9.911118</td><td>9.421990</td><td> 9.358638</td><td>9.275714</td><td>8.573832</td><td>9.072234</td><td>9.053680</td><td>9.549565</td><td>9.458813</td><td>9.247518</td><td>⋯</td><td>10.028440</td><td>9.816180</td><td>8.794598</td><td>9.688042</td><td>8.914406</td><td>9.211488</td><td>9.399957</td><td>9.693126</td><td>8.551371</td><td>9.780800</td></tr>\n",
              "\t<tr><th scope=row>5</th><td>6.292236</td><td>6.047995</td><td> 6.268707</td><td>6.275980</td><td>6.257831</td><td>6.371053</td><td>6.149960</td><td>6.261317</td><td>6.361110</td><td>6.336733</td><td>⋯</td><td> 6.278971</td><td>6.549239</td><td>6.395798</td><td>6.263772</td><td>6.119008</td><td>6.146906</td><td>6.276937</td><td>6.206087</td><td>6.438444</td><td>6.251627</td></tr>\n",
              "\t<tr><th scope=row>6</th><td>7.310085</td><td>8.409503</td><td> 7.802326</td><td>7.260794</td><td>7.598630</td><td>7.504309</td><td>8.223495</td><td>7.424841</td><td>7.065065</td><td>7.577485</td><td>⋯</td><td> 7.754192</td><td>7.051993</td><td>7.425191</td><td>7.989666</td><td>7.573813</td><td>7.743429</td><td>8.081255</td><td>7.023867</td><td>7.322741</td><td>7.321942</td></tr>\n",
              "</tbody>\n",
              "</table>\n"
            ]
          },
          "metadata": {}
        }
      ]
    },
    {
      "cell_type": "code",
      "source": [
        "dim(sim_data)"
      ],
      "metadata": {
        "colab": {
          "base_uri": "https://localhost:8080/",
          "height": 34
        },
        "id": "XBf6PuU_w8m4",
        "outputId": "217d7a13-5214-4af4-8ff2-d6497b506967"
      },
      "execution_count": null,
      "outputs": [
        {
          "output_type": "display_data",
          "data": {
            "text/plain": [
              "[1] 20219   217"
            ],
            "text/latex": "\\begin{enumerate*}\n\\item 20219\n\\item 217\n\\end{enumerate*}\n",
            "text/markdown": "1. 20219\n2. 217\n\n\n",
            "text/html": [
              "<style>\n",
              ".list-inline {list-style: none; margin:0; padding: 0}\n",
              ".list-inline>li {display: inline-block}\n",
              ".list-inline>li:not(:last-child)::after {content: \"\\00b7\"; padding: 0 .5ex}\n",
              "</style>\n",
              "<ol class=list-inline><li>20219</li><li>217</li></ol>\n"
            ]
          },
          "metadata": {}
        }
      ]
    },
    {
      "cell_type": "code",
      "source": [
        "set.seed(1)\n",
        "m = 10000 #no of genes to sample\n",
        "random_genes = sample(n_gene, m) #randomly selected genes of size m from the total genes\n",
        "\n",
        "head(random_genes)\n",
        "length(random_genes)"
      ],
      "metadata": {
        "colab": {
          "base_uri": "https://localhost:8080/",
          "height": 51
        },
        "id": "8a4rpVGVwxrC",
        "outputId": "1f654386-1c20-4a03-c1f5-764cdd8f0f0e"
      },
      "execution_count": null,
      "outputs": [
        {
          "output_type": "display_data",
          "data": {
            "text/plain": [
              "[1] 17401  4775 13218 10539  8462  4050"
            ],
            "text/latex": "\\begin{enumerate*}\n\\item 17401\n\\item 4775\n\\item 13218\n\\item 10539\n\\item 8462\n\\item 4050\n\\end{enumerate*}\n",
            "text/markdown": "1. 17401\n2. 4775\n3. 13218\n4. 10539\n5. 8462\n6. 4050\n\n\n",
            "text/html": [
              "<style>\n",
              ".list-inline {list-style: none; margin:0; padding: 0}\n",
              ".list-inline>li {display: inline-block}\n",
              ".list-inline>li:not(:last-child)::after {content: \"\\00b7\"; padding: 0 .5ex}\n",
              "</style>\n",
              "<ol class=list-inline><li>17401</li><li>4775</li><li>13218</li><li>10539</li><li>8462</li><li>4050</li></ol>\n"
            ]
          },
          "metadata": {}
        },
        {
          "output_type": "display_data",
          "data": {
            "text/plain": [
              "[1] 10000"
            ],
            "text/latex": "10000",
            "text/markdown": "10000",
            "text/html": [
              "10000"
            ]
          },
          "metadata": {}
        }
      ]
    },
    {
      "cell_type": "code",
      "source": [
        "#1000 selected data corresponding to the randomly selected genes\n",
        "rand_selected_data = sim_data[random_genes, ]\n",
        "head(rand_selected_data)"
      ],
      "metadata": {
        "colab": {
          "base_uri": "https://localhost:8080/",
          "height": 303
        },
        "id": "tjwoFEa7yn53",
        "outputId": "1c66f74b-a8c1-4965-d4b3-5c9ac0c17872"
      },
      "execution_count": null,
      "outputs": [
        {
          "output_type": "display_data",
          "data": {
            "text/plain": [
              "      GSM1247203 GSM1247204 GSM1247205 GSM1247206 GSM1247207 GSM1247208\n",
              "17401  7.252734   7.303979  7.010113   6.760083    7.459250   7.264806 \n",
              "4775   4.165667   4.435168  4.385319   4.420685    4.152833   3.816157 \n",
              "13218  7.629774   8.434767  7.971606   8.015123    7.517571   7.230787 \n",
              "10539  6.915510   7.562835  7.405954   8.888284    6.957932   6.642156 \n",
              "8462   5.949411   5.801627  5.792423   5.666441    5.843078   5.670973 \n",
              "4050  10.050940  11.042590  9.510201   9.602699   10.909970  11.115290 \n",
              "      GSM1247209 GSM1247210 GSM1247211 GSM1247212 ⋯ GSM1247410 GSM1247411\n",
              "17401  7.441763  7.080874    7.218505   7.343332  ⋯ 7.379983    7.181466 \n",
              "4775   4.201120  4.029131    4.034959   4.177509  ⋯ 4.109681    4.031004 \n",
              "13218  7.881967  7.835166    8.319057   8.088978  ⋯ 8.052246    7.810543 \n",
              "10539  6.770809  6.772811    6.661028   6.976250  ⋯ 8.309056    6.928286 \n",
              "8462   5.809662  5.423051    5.958257   5.824004  ⋯ 5.784465    5.980613 \n",
              "4050  11.792050  9.915201   11.798120  10.769450  ⋯ 9.197424   10.616580 \n",
              "      GSM1247412 GSM1247413 GSM1247414 GSM1247415 GSM1247416 GSM1247417\n",
              "17401  7.332173   7.204830   7.089101   7.034548   7.151740  7.135917  \n",
              "4775   4.180370   4.046903   4.022233   4.061613   4.244768  3.818283  \n",
              "13218  7.634784   8.381040   7.980730   7.325929   7.867981  8.242966  \n",
              "10539  6.647726   6.942022   6.752002   6.683944   6.985731  7.734789  \n",
              "8462   5.989962   5.781039   6.324430   5.347286   6.174486  5.765319  \n",
              "4050  10.694180  10.988510  11.430450  10.100610  11.895710  9.907439  \n",
              "      GSM1247418 GSM1247419\n",
              "17401  7.595081  7.322358  \n",
              "4775   3.911840  4.099252  \n",
              "13218  7.700593  8.018120  \n",
              "10539  6.958129  7.541349  \n",
              "8462   5.868937  6.113311  \n",
              "4050  11.307340  9.178329  "
            ],
            "text/latex": "A data.frame: 6 × 217\n\\begin{tabular}{r|lllllllllllllllllllll}\n  & GSM1247203 & GSM1247204 & GSM1247205 & GSM1247206 & GSM1247207 & GSM1247208 & GSM1247209 & GSM1247210 & GSM1247211 & GSM1247212 & ⋯ & GSM1247410 & GSM1247411 & GSM1247412 & GSM1247413 & GSM1247414 & GSM1247415 & GSM1247416 & GSM1247417 & GSM1247418 & GSM1247419\\\\\n  & <dbl> & <dbl> & <dbl> & <dbl> & <dbl> & <dbl> & <dbl> & <dbl> & <dbl> & <dbl> & ⋯ & <dbl> & <dbl> & <dbl> & <dbl> & <dbl> & <dbl> & <dbl> & <dbl> & <dbl> & <dbl>\\\\\n\\hline\n\t17401 &  7.252734 &  7.303979 & 7.010113 & 6.760083 &  7.459250 &  7.264806 &  7.441763 & 7.080874 &  7.218505 &  7.343332 & ⋯ & 7.379983 &  7.181466 &  7.332173 &  7.204830 &  7.089101 &  7.034548 &  7.151740 & 7.135917 &  7.595081 & 7.322358\\\\\n\t4775 &  4.165667 &  4.435168 & 4.385319 & 4.420685 &  4.152833 &  3.816157 &  4.201120 & 4.029131 &  4.034959 &  4.177509 & ⋯ & 4.109681 &  4.031004 &  4.180370 &  4.046903 &  4.022233 &  4.061613 &  4.244768 & 3.818283 &  3.911840 & 4.099252\\\\\n\t13218 &  7.629774 &  8.434767 & 7.971606 & 8.015123 &  7.517571 &  7.230787 &  7.881967 & 7.835166 &  8.319057 &  8.088978 & ⋯ & 8.052246 &  7.810543 &  7.634784 &  8.381040 &  7.980730 &  7.325929 &  7.867981 & 8.242966 &  7.700593 & 8.018120\\\\\n\t10539 &  6.915510 &  7.562835 & 7.405954 & 8.888284 &  6.957932 &  6.642156 &  6.770809 & 6.772811 &  6.661028 &  6.976250 & ⋯ & 8.309056 &  6.928286 &  6.647726 &  6.942022 &  6.752002 &  6.683944 &  6.985731 & 7.734789 &  6.958129 & 7.541349\\\\\n\t8462 &  5.949411 &  5.801627 & 5.792423 & 5.666441 &  5.843078 &  5.670973 &  5.809662 & 5.423051 &  5.958257 &  5.824004 & ⋯ & 5.784465 &  5.980613 &  5.989962 &  5.781039 &  6.324430 &  5.347286 &  6.174486 & 5.765319 &  5.868937 & 6.113311\\\\\n\t4050 & 10.050940 & 11.042590 & 9.510201 & 9.602699 & 10.909970 & 11.115290 & 11.792050 & 9.915201 & 11.798120 & 10.769450 & ⋯ & 9.197424 & 10.616580 & 10.694180 & 10.988510 & 11.430450 & 10.100610 & 11.895710 & 9.907439 & 11.307340 & 9.178329\\\\\n\\end{tabular}\n",
            "text/markdown": "\nA data.frame: 6 × 217\n\n| <!--/--> | GSM1247203 &lt;dbl&gt; | GSM1247204 &lt;dbl&gt; | GSM1247205 &lt;dbl&gt; | GSM1247206 &lt;dbl&gt; | GSM1247207 &lt;dbl&gt; | GSM1247208 &lt;dbl&gt; | GSM1247209 &lt;dbl&gt; | GSM1247210 &lt;dbl&gt; | GSM1247211 &lt;dbl&gt; | GSM1247212 &lt;dbl&gt; | ⋯ ⋯ | GSM1247410 &lt;dbl&gt; | GSM1247411 &lt;dbl&gt; | GSM1247412 &lt;dbl&gt; | GSM1247413 &lt;dbl&gt; | GSM1247414 &lt;dbl&gt; | GSM1247415 &lt;dbl&gt; | GSM1247416 &lt;dbl&gt; | GSM1247417 &lt;dbl&gt; | GSM1247418 &lt;dbl&gt; | GSM1247419 &lt;dbl&gt; |\n|---|---|---|---|---|---|---|---|---|---|---|---|---|---|---|---|---|---|---|---|---|---|\n| 17401 |  7.252734 |  7.303979 | 7.010113 | 6.760083 |  7.459250 |  7.264806 |  7.441763 | 7.080874 |  7.218505 |  7.343332 | ⋯ | 7.379983 |  7.181466 |  7.332173 |  7.204830 |  7.089101 |  7.034548 |  7.151740 | 7.135917 |  7.595081 | 7.322358 |\n| 4775 |  4.165667 |  4.435168 | 4.385319 | 4.420685 |  4.152833 |  3.816157 |  4.201120 | 4.029131 |  4.034959 |  4.177509 | ⋯ | 4.109681 |  4.031004 |  4.180370 |  4.046903 |  4.022233 |  4.061613 |  4.244768 | 3.818283 |  3.911840 | 4.099252 |\n| 13218 |  7.629774 |  8.434767 | 7.971606 | 8.015123 |  7.517571 |  7.230787 |  7.881967 | 7.835166 |  8.319057 |  8.088978 | ⋯ | 8.052246 |  7.810543 |  7.634784 |  8.381040 |  7.980730 |  7.325929 |  7.867981 | 8.242966 |  7.700593 | 8.018120 |\n| 10539 |  6.915510 |  7.562835 | 7.405954 | 8.888284 |  6.957932 |  6.642156 |  6.770809 | 6.772811 |  6.661028 |  6.976250 | ⋯ | 8.309056 |  6.928286 |  6.647726 |  6.942022 |  6.752002 |  6.683944 |  6.985731 | 7.734789 |  6.958129 | 7.541349 |\n| 8462 |  5.949411 |  5.801627 | 5.792423 | 5.666441 |  5.843078 |  5.670973 |  5.809662 | 5.423051 |  5.958257 |  5.824004 | ⋯ | 5.784465 |  5.980613 |  5.989962 |  5.781039 |  6.324430 |  5.347286 |  6.174486 | 5.765319 |  5.868937 | 6.113311 |\n| 4050 | 10.050940 | 11.042590 | 9.510201 | 9.602699 | 10.909970 | 11.115290 | 11.792050 | 9.915201 | 11.798120 | 10.769450 | ⋯ | 9.197424 | 10.616580 | 10.694180 | 10.988510 | 11.430450 | 10.100610 | 11.895710 | 9.907439 | 11.307340 | 9.178329 |\n\n",
            "text/html": [
              "<table class=\"dataframe\">\n",
              "<caption>A data.frame: 6 × 217</caption>\n",
              "<thead>\n",
              "\t<tr><th></th><th scope=col>GSM1247203</th><th scope=col>GSM1247204</th><th scope=col>GSM1247205</th><th scope=col>GSM1247206</th><th scope=col>GSM1247207</th><th scope=col>GSM1247208</th><th scope=col>GSM1247209</th><th scope=col>GSM1247210</th><th scope=col>GSM1247211</th><th scope=col>GSM1247212</th><th scope=col>⋯</th><th scope=col>GSM1247410</th><th scope=col>GSM1247411</th><th scope=col>GSM1247412</th><th scope=col>GSM1247413</th><th scope=col>GSM1247414</th><th scope=col>GSM1247415</th><th scope=col>GSM1247416</th><th scope=col>GSM1247417</th><th scope=col>GSM1247418</th><th scope=col>GSM1247419</th></tr>\n",
              "\t<tr><th></th><th scope=col>&lt;dbl&gt;</th><th scope=col>&lt;dbl&gt;</th><th scope=col>&lt;dbl&gt;</th><th scope=col>&lt;dbl&gt;</th><th scope=col>&lt;dbl&gt;</th><th scope=col>&lt;dbl&gt;</th><th scope=col>&lt;dbl&gt;</th><th scope=col>&lt;dbl&gt;</th><th scope=col>&lt;dbl&gt;</th><th scope=col>&lt;dbl&gt;</th><th scope=col>⋯</th><th scope=col>&lt;dbl&gt;</th><th scope=col>&lt;dbl&gt;</th><th scope=col>&lt;dbl&gt;</th><th scope=col>&lt;dbl&gt;</th><th scope=col>&lt;dbl&gt;</th><th scope=col>&lt;dbl&gt;</th><th scope=col>&lt;dbl&gt;</th><th scope=col>&lt;dbl&gt;</th><th scope=col>&lt;dbl&gt;</th><th scope=col>&lt;dbl&gt;</th></tr>\n",
              "</thead>\n",
              "<tbody>\n",
              "\t<tr><th scope=row>17401</th><td> 7.252734</td><td> 7.303979</td><td>7.010113</td><td>6.760083</td><td> 7.459250</td><td> 7.264806</td><td> 7.441763</td><td>7.080874</td><td> 7.218505</td><td> 7.343332</td><td>⋯</td><td>7.379983</td><td> 7.181466</td><td> 7.332173</td><td> 7.204830</td><td> 7.089101</td><td> 7.034548</td><td> 7.151740</td><td>7.135917</td><td> 7.595081</td><td>7.322358</td></tr>\n",
              "\t<tr><th scope=row>4775</th><td> 4.165667</td><td> 4.435168</td><td>4.385319</td><td>4.420685</td><td> 4.152833</td><td> 3.816157</td><td> 4.201120</td><td>4.029131</td><td> 4.034959</td><td> 4.177509</td><td>⋯</td><td>4.109681</td><td> 4.031004</td><td> 4.180370</td><td> 4.046903</td><td> 4.022233</td><td> 4.061613</td><td> 4.244768</td><td>3.818283</td><td> 3.911840</td><td>4.099252</td></tr>\n",
              "\t<tr><th scope=row>13218</th><td> 7.629774</td><td> 8.434767</td><td>7.971606</td><td>8.015123</td><td> 7.517571</td><td> 7.230787</td><td> 7.881967</td><td>7.835166</td><td> 8.319057</td><td> 8.088978</td><td>⋯</td><td>8.052246</td><td> 7.810543</td><td> 7.634784</td><td> 8.381040</td><td> 7.980730</td><td> 7.325929</td><td> 7.867981</td><td>8.242966</td><td> 7.700593</td><td>8.018120</td></tr>\n",
              "\t<tr><th scope=row>10539</th><td> 6.915510</td><td> 7.562835</td><td>7.405954</td><td>8.888284</td><td> 6.957932</td><td> 6.642156</td><td> 6.770809</td><td>6.772811</td><td> 6.661028</td><td> 6.976250</td><td>⋯</td><td>8.309056</td><td> 6.928286</td><td> 6.647726</td><td> 6.942022</td><td> 6.752002</td><td> 6.683944</td><td> 6.985731</td><td>7.734789</td><td> 6.958129</td><td>7.541349</td></tr>\n",
              "\t<tr><th scope=row>8462</th><td> 5.949411</td><td> 5.801627</td><td>5.792423</td><td>5.666441</td><td> 5.843078</td><td> 5.670973</td><td> 5.809662</td><td>5.423051</td><td> 5.958257</td><td> 5.824004</td><td>⋯</td><td>5.784465</td><td> 5.980613</td><td> 5.989962</td><td> 5.781039</td><td> 6.324430</td><td> 5.347286</td><td> 6.174486</td><td>5.765319</td><td> 5.868937</td><td>6.113311</td></tr>\n",
              "\t<tr><th scope=row>4050</th><td>10.050940</td><td>11.042590</td><td>9.510201</td><td>9.602699</td><td>10.909970</td><td>11.115290</td><td>11.792050</td><td>9.915201</td><td>11.798120</td><td>10.769450</td><td>⋯</td><td>9.197424</td><td>10.616580</td><td>10.694180</td><td>10.988510</td><td>11.430450</td><td>10.100610</td><td>11.895710</td><td>9.907439</td><td>11.307340</td><td>9.178329</td></tr>\n",
              "</tbody>\n",
              "</table>\n"
            ]
          },
          "metadata": {}
        }
      ]
    },
    {
      "cell_type": "code",
      "source": [
        "#calculate standard deviation for each gene \n",
        "rand_selected_data_sd = apply(rand_selected_data, 1, sd)\n",
        "\n",
        "head(rand_selected_data_sd)\n",
        "length(rand_selected_data_sd)"
      ],
      "metadata": {
        "colab": {
          "base_uri": "https://localhost:8080/",
          "height": 68
        },
        "id": "ZC3t0LfLzoxl",
        "outputId": "1b8a4544-cbcd-4bb3-88e4-e2703696475a"
      },
      "execution_count": null,
      "outputs": [
        {
          "output_type": "display_data",
          "data": {
            "text/plain": [
              "    17401      4775     13218     10539      8462      4050 \n",
              "0.2237894 0.2063794 0.2945551 0.5984411 0.3111447 0.8521204 "
            ],
            "text/latex": "\\begin{description*}\n\\item[17401] 0.223789436940553\n\\item[4775] 0.206379379852298\n\\item[13218] 0.2945551365075\n\\item[10539] 0.598441090859509\n\\item[8462] 0.311144731430865\n\\item[4050] 0.852120407872688\n\\end{description*}\n",
            "text/markdown": "17401\n:   0.2237894369405534775\n:   0.20637937985229813218\n:   0.294555136507510539\n:   0.5984410908595098462\n:   0.3111447314308654050\n:   0.852120407872688\n\n",
            "text/html": [
              "<style>\n",
              ".dl-inline {width: auto; margin:0; padding: 0}\n",
              ".dl-inline>dt, .dl-inline>dd {float: none; width: auto; display: inline-block}\n",
              ".dl-inline>dt::after {content: \":\\0020\"; padding-right: .5ex}\n",
              ".dl-inline>dt:not(:first-of-type) {padding-left: .5ex}\n",
              "</style><dl class=dl-inline><dt>17401</dt><dd>0.223789436940553</dd><dt>4775</dt><dd>0.206379379852298</dd><dt>13218</dt><dd>0.2945551365075</dd><dt>10539</dt><dd>0.598441090859509</dd><dt>8462</dt><dd>0.311144731430865</dd><dt>4050</dt><dd>0.852120407872688</dd></dl>\n"
            ]
          },
          "metadata": {}
        },
        {
          "output_type": "display_data",
          "data": {
            "text/plain": [
              "[1] 10000"
            ],
            "text/latex": "10000",
            "text/markdown": "10000",
            "text/html": [
              "10000"
            ]
          },
          "metadata": {}
        }
      ]
    },
    {
      "cell_type": "code",
      "source": [
        "set.seed(1)\n",
        "n_samples = 4 #no of experimental units\n",
        "random_samples  = sample(N, 2*n_samples) #randomly select samples of size 2*n_trt_grp \n",
        "                                              #for treatment group\n",
        "\n",
        "random_samples\n",
        "\n",
        "trt_grp1 = random_samples[1:n_samples]\n",
        "trt_grp2 = random_samples[(n_samples + 1):(2*n_samples)]\n",
        "\n",
        "trt_grp1\n",
        "trt_grp2"
      ],
      "metadata": {
        "colab": {
          "base_uri": "https://localhost:8080/",
          "height": 68
        },
        "id": "UkXbutdZ0dkn",
        "outputId": "08188f0b-0cde-470f-fc88-60ef49318f67"
      },
      "execution_count": null,
      "outputs": [
        {
          "output_type": "display_data",
          "data": {
            "text/plain": [
              "[1]  68 167 129 162  43  14 210 187"
            ],
            "text/latex": "\\begin{enumerate*}\n\\item 68\n\\item 167\n\\item 129\n\\item 162\n\\item 43\n\\item 14\n\\item 210\n\\item 187\n\\end{enumerate*}\n",
            "text/markdown": "1. 68\n2. 167\n3. 129\n4. 162\n5. 43\n6. 14\n7. 210\n8. 187\n\n\n",
            "text/html": [
              "<style>\n",
              ".list-inline {list-style: none; margin:0; padding: 0}\n",
              ".list-inline>li {display: inline-block}\n",
              ".list-inline>li:not(:last-child)::after {content: \"\\00b7\"; padding: 0 .5ex}\n",
              "</style>\n",
              "<ol class=list-inline><li>68</li><li>167</li><li>129</li><li>162</li><li>43</li><li>14</li><li>210</li><li>187</li></ol>\n"
            ]
          },
          "metadata": {}
        },
        {
          "output_type": "display_data",
          "data": {
            "text/plain": [
              "[1]  68 167 129 162"
            ],
            "text/latex": "\\begin{enumerate*}\n\\item 68\n\\item 167\n\\item 129\n\\item 162\n\\end{enumerate*}\n",
            "text/markdown": "1. 68\n2. 167\n3. 129\n4. 162\n\n\n",
            "text/html": [
              "<style>\n",
              ".list-inline {list-style: none; margin:0; padding: 0}\n",
              ".list-inline>li {display: inline-block}\n",
              ".list-inline>li:not(:last-child)::after {content: \"\\00b7\"; padding: 0 .5ex}\n",
              "</style>\n",
              "<ol class=list-inline><li>68</li><li>167</li><li>129</li><li>162</li></ol>\n"
            ]
          },
          "metadata": {}
        },
        {
          "output_type": "display_data",
          "data": {
            "text/plain": [
              "[1]  43  14 210 187"
            ],
            "text/latex": "\\begin{enumerate*}\n\\item 43\n\\item 14\n\\item 210\n\\item 187\n\\end{enumerate*}\n",
            "text/markdown": "1. 43\n2. 14\n3. 210\n4. 187\n\n\n",
            "text/html": [
              "<style>\n",
              ".list-inline {list-style: none; margin:0; padding: 0}\n",
              ".list-inline>li {display: inline-block}\n",
              ".list-inline>li:not(:last-child)::after {content: \"\\00b7\"; padding: 0 .5ex}\n",
              "</style>\n",
              "<ol class=list-inline><li>43</li><li>14</li><li>210</li><li>187</li></ol>\n"
            ]
          },
          "metadata": {}
        }
      ]
    },
    {
      "cell_type": "code",
      "source": [
        "trt_grp1"
      ],
      "metadata": {
        "colab": {
          "base_uri": "https://localhost:8080/",
          "height": 34
        },
        "id": "0ohn3qmtOWE0",
        "outputId": "729f4b89-75ce-49fa-c41c-651902c410d7"
      },
      "execution_count": null,
      "outputs": [
        {
          "output_type": "display_data",
          "data": {
            "text/plain": [
              "[1]  85 207 198   6"
            ],
            "text/latex": "\\begin{enumerate*}\n\\item 85\n\\item 207\n\\item 198\n\\item 6\n\\end{enumerate*}\n",
            "text/markdown": "1. 85\n2. 207\n3. 198\n4. 6\n\n\n",
            "text/html": [
              "<style>\n",
              ".list-inline {list-style: none; margin:0; padding: 0}\n",
              ".list-inline>li {display: inline-block}\n",
              ".list-inline>li:not(:last-child)::after {content: \"\\00b7\"; padding: 0 .5ex}\n",
              "</style>\n",
              "<ol class=list-inline><li>85</li><li>207</li><li>198</li><li>6</li></ol>\n"
            ]
          },
          "metadata": {}
        }
      ]
    },
    {
      "cell_type": "code",
      "source": [
        "trt_grp1_data = rand_selected_data[trt_grp1]\n",
        "head(trt_grp1_data)\n",
        "\n",
        "dim(trt_grp1_data)"
      ],
      "metadata": {
        "colab": {
          "base_uri": "https://localhost:8080/",
          "height": 300
        },
        "id": "vIJZm5rUulU2",
        "outputId": "b11f6d34-01f0-4e52-e509-f32dc1f2fa86"
      },
      "execution_count": 77,
      "outputs": [
        {
          "output_type": "display_data",
          "data": {
            "text/plain": [
              "      GSM1247270 GSM1247369 GSM1247331 GSM1247364\n",
              "17401  7.440661   6.980917   7.245719   7.191339 \n",
              "4775   4.125719   4.080995   3.819399   4.104383 \n",
              "13218  7.896658   8.193822   8.064172   7.637587 \n",
              "10539  7.710653   6.906425   7.321344   7.207895 \n",
              "8462   6.211932   6.102299   5.840452   5.439352 \n",
              "4050  10.423190  11.512620  11.124810  10.188600 "
            ],
            "text/latex": "A data.frame: 6 × 4\n\\begin{tabular}{r|llll}\n  & GSM1247270 & GSM1247369 & GSM1247331 & GSM1247364\\\\\n  & <dbl> & <dbl> & <dbl> & <dbl>\\\\\n\\hline\n\t17401 &  7.440661 &  6.980917 &  7.245719 &  7.191339\\\\\n\t4775 &  4.125719 &  4.080995 &  3.819399 &  4.104383\\\\\n\t13218 &  7.896658 &  8.193822 &  8.064172 &  7.637587\\\\\n\t10539 &  7.710653 &  6.906425 &  7.321344 &  7.207895\\\\\n\t8462 &  6.211932 &  6.102299 &  5.840452 &  5.439352\\\\\n\t4050 & 10.423190 & 11.512620 & 11.124810 & 10.188600\\\\\n\\end{tabular}\n",
            "text/markdown": "\nA data.frame: 6 × 4\n\n| <!--/--> | GSM1247270 &lt;dbl&gt; | GSM1247369 &lt;dbl&gt; | GSM1247331 &lt;dbl&gt; | GSM1247364 &lt;dbl&gt; |\n|---|---|---|---|---|\n| 17401 |  7.440661 |  6.980917 |  7.245719 |  7.191339 |\n| 4775 |  4.125719 |  4.080995 |  3.819399 |  4.104383 |\n| 13218 |  7.896658 |  8.193822 |  8.064172 |  7.637587 |\n| 10539 |  7.710653 |  6.906425 |  7.321344 |  7.207895 |\n| 8462 |  6.211932 |  6.102299 |  5.840452 |  5.439352 |\n| 4050 | 10.423190 | 11.512620 | 11.124810 | 10.188600 |\n\n",
            "text/html": [
              "<table class=\"dataframe\">\n",
              "<caption>A data.frame: 6 × 4</caption>\n",
              "<thead>\n",
              "\t<tr><th></th><th scope=col>GSM1247270</th><th scope=col>GSM1247369</th><th scope=col>GSM1247331</th><th scope=col>GSM1247364</th></tr>\n",
              "\t<tr><th></th><th scope=col>&lt;dbl&gt;</th><th scope=col>&lt;dbl&gt;</th><th scope=col>&lt;dbl&gt;</th><th scope=col>&lt;dbl&gt;</th></tr>\n",
              "</thead>\n",
              "<tbody>\n",
              "\t<tr><th scope=row>17401</th><td> 7.440661</td><td> 6.980917</td><td> 7.245719</td><td> 7.191339</td></tr>\n",
              "\t<tr><th scope=row>4775</th><td> 4.125719</td><td> 4.080995</td><td> 3.819399</td><td> 4.104383</td></tr>\n",
              "\t<tr><th scope=row>13218</th><td> 7.896658</td><td> 8.193822</td><td> 8.064172</td><td> 7.637587</td></tr>\n",
              "\t<tr><th scope=row>10539</th><td> 7.710653</td><td> 6.906425</td><td> 7.321344</td><td> 7.207895</td></tr>\n",
              "\t<tr><th scope=row>8462</th><td> 6.211932</td><td> 6.102299</td><td> 5.840452</td><td> 5.439352</td></tr>\n",
              "\t<tr><th scope=row>4050</th><td>10.423190</td><td>11.512620</td><td>11.124810</td><td>10.188600</td></tr>\n",
              "</tbody>\n",
              "</table>\n"
            ]
          },
          "metadata": {}
        },
        {
          "output_type": "display_data",
          "data": {
            "text/plain": [
              "[1] 10000     4"
            ],
            "text/latex": "\\begin{enumerate*}\n\\item 10000\n\\item 4\n\\end{enumerate*}\n",
            "text/markdown": "1. 10000\n2. 4\n\n\n",
            "text/html": [
              "<style>\n",
              ".list-inline {list-style: none; margin:0; padding: 0}\n",
              ".list-inline>li {display: inline-block}\n",
              ".list-inline>li:not(:last-child)::after {content: \"\\00b7\"; padding: 0 .5ex}\n",
              "</style>\n",
              "<ol class=list-inline><li>10000</li><li>4</li></ol>\n"
            ]
          },
          "metadata": {}
        }
      ]
    },
    {
      "cell_type": "code",
      "source": [
        "trt_grp2_data = rand_selected_data[trt_grp2]\n",
        "head(trt_grp2_data)\n",
        "\n",
        "dim(trt_grp2_data)"
      ],
      "metadata": {
        "colab": {
          "base_uri": "https://localhost:8080/",
          "height": 300
        },
        "id": "jBtoZDkhkE1Z",
        "outputId": "2d566562-c359-4097-d766-c50f0ef7ccdb"
      },
      "execution_count": 79,
      "outputs": [
        {
          "output_type": "display_data",
          "data": {
            "text/plain": [
              "      GSM1247245 GSM1247216 GSM1247412 GSM1247389\n",
              "17401  7.281503  7.235446    7.332173   7.097853 \n",
              "4775   4.127808  4.584075    4.180370   3.777045 \n",
              "13218  7.935946  7.795728    7.634784   7.370020 \n",
              "10539  7.256062  7.494608    6.647726   6.818447 \n",
              "8462   5.813072  5.418977    5.989962   5.462583 \n",
              "4050  10.446420  9.349102   10.694180  10.714950 "
            ],
            "text/latex": "A data.frame: 6 × 4\n\\begin{tabular}{r|llll}\n  & GSM1247245 & GSM1247216 & GSM1247412 & GSM1247389\\\\\n  & <dbl> & <dbl> & <dbl> & <dbl>\\\\\n\\hline\n\t17401 &  7.281503 & 7.235446 &  7.332173 &  7.097853\\\\\n\t4775 &  4.127808 & 4.584075 &  4.180370 &  3.777045\\\\\n\t13218 &  7.935946 & 7.795728 &  7.634784 &  7.370020\\\\\n\t10539 &  7.256062 & 7.494608 &  6.647726 &  6.818447\\\\\n\t8462 &  5.813072 & 5.418977 &  5.989962 &  5.462583\\\\\n\t4050 & 10.446420 & 9.349102 & 10.694180 & 10.714950\\\\\n\\end{tabular}\n",
            "text/markdown": "\nA data.frame: 6 × 4\n\n| <!--/--> | GSM1247245 &lt;dbl&gt; | GSM1247216 &lt;dbl&gt; | GSM1247412 &lt;dbl&gt; | GSM1247389 &lt;dbl&gt; |\n|---|---|---|---|---|\n| 17401 |  7.281503 | 7.235446 |  7.332173 |  7.097853 |\n| 4775 |  4.127808 | 4.584075 |  4.180370 |  3.777045 |\n| 13218 |  7.935946 | 7.795728 |  7.634784 |  7.370020 |\n| 10539 |  7.256062 | 7.494608 |  6.647726 |  6.818447 |\n| 8462 |  5.813072 | 5.418977 |  5.989962 |  5.462583 |\n| 4050 | 10.446420 | 9.349102 | 10.694180 | 10.714950 |\n\n",
            "text/html": [
              "<table class=\"dataframe\">\n",
              "<caption>A data.frame: 6 × 4</caption>\n",
              "<thead>\n",
              "\t<tr><th></th><th scope=col>GSM1247245</th><th scope=col>GSM1247216</th><th scope=col>GSM1247412</th><th scope=col>GSM1247389</th></tr>\n",
              "\t<tr><th></th><th scope=col>&lt;dbl&gt;</th><th scope=col>&lt;dbl&gt;</th><th scope=col>&lt;dbl&gt;</th><th scope=col>&lt;dbl&gt;</th></tr>\n",
              "</thead>\n",
              "<tbody>\n",
              "\t<tr><th scope=row>17401</th><td> 7.281503</td><td>7.235446</td><td> 7.332173</td><td> 7.097853</td></tr>\n",
              "\t<tr><th scope=row>4775</th><td> 4.127808</td><td>4.584075</td><td> 4.180370</td><td> 3.777045</td></tr>\n",
              "\t<tr><th scope=row>13218</th><td> 7.935946</td><td>7.795728</td><td> 7.634784</td><td> 7.370020</td></tr>\n",
              "\t<tr><th scope=row>10539</th><td> 7.256062</td><td>7.494608</td><td> 6.647726</td><td> 6.818447</td></tr>\n",
              "\t<tr><th scope=row>8462</th><td> 5.813072</td><td>5.418977</td><td> 5.989962</td><td> 5.462583</td></tr>\n",
              "\t<tr><th scope=row>4050</th><td>10.446420</td><td>9.349102</td><td>10.694180</td><td>10.714950</td></tr>\n",
              "</tbody>\n",
              "</table>\n"
            ]
          },
          "metadata": {}
        },
        {
          "output_type": "display_data",
          "data": {
            "text/plain": [
              "[1] 10000     4"
            ],
            "text/latex": "\\begin{enumerate*}\n\\item 10000\n\\item 4\n\\end{enumerate*}\n",
            "text/markdown": "1. 10000\n2. 4\n\n\n",
            "text/html": [
              "<style>\n",
              ".list-inline {list-style: none; margin:0; padding: 0}\n",
              ".list-inline>li {display: inline-block}\n",
              ".list-inline>li:not(:last-child)::after {content: \"\\00b7\"; padding: 0 .5ex}\n",
              "</style>\n",
              "<ol class=list-inline><li>10000</li><li>4</li></ol>\n"
            ]
          },
          "metadata": {}
        }
      ]
    },
    {
      "cell_type": "code",
      "source": [
        "set.seed(1)\n",
        "#randomly selected jth gene and calculate sd\n",
        "gene_j = sample(n_gene, 1)\n",
        "gene_j\n",
        "sd_gene_j = apply(sim_data[gene_j, ], 1, sd)\n",
        "sd_gene_j\n",
        "#sd_gene_j = sample(rand_selected_data_sd, 1)\n",
        "#sd_gene_j"
      ],
      "metadata": {
        "colab": {
          "base_uri": "https://localhost:8080/",
          "height": 51
        },
        "id": "eaaPO8FSL849",
        "outputId": "362d777c-9a37-4f52-9487-9b8c8cbc5350"
      },
      "execution_count": 70,
      "outputs": [
        {
          "output_type": "display_data",
          "data": {
            "text/plain": [
              "[1] 17401"
            ],
            "text/latex": "17401",
            "text/markdown": "17401",
            "text/html": [
              "17401"
            ]
          },
          "metadata": {}
        },
        {
          "output_type": "display_data",
          "data": {
            "text/plain": [
              "    17401 \n",
              "0.2237894 "
            ],
            "text/latex": "\\textbf{17401:} 0.223789436940553",
            "text/markdown": "**17401:** 0.223789436940553",
            "text/html": [
              "<strong>17401:</strong> 0.223789436940553"
            ]
          },
          "metadata": {}
        }
      ]
    },
    {
      "cell_type": "code",
      "source": [
        "#calculate random normal\n",
        "set.seed(1)\n",
        "mu = 2\n",
        "dat0 <- rnorm(rand_selected_data[gene_j, ], mu, sd_gene_j)\n",
        "length(dat0)\n",
        "#treatment effect selected at random\n",
        "trt_effect = sample(dat0, 1)\n",
        "trt_effect"
      ],
      "metadata": {
        "colab": {
          "base_uri": "https://localhost:8080/",
          "height": 51
        },
        "id": "7xu1T3dNDf72",
        "outputId": "ff70824a-6d5e-4cbb-e40e-547bdd1c867f"
      },
      "execution_count": 81,
      "outputs": [
        {
          "output_type": "display_data",
          "data": {
            "text/plain": [
              "[1] 217"
            ],
            "text/latex": "217",
            "text/markdown": "217",
            "text/html": [
              "217"
            ]
          },
          "metadata": {}
        },
        {
          "output_type": "display_data",
          "data": {
            "text/plain": [
              "[1] 1.969776"
            ],
            "text/latex": "1.96977620624128",
            "text/markdown": "1.96977620624128",
            "text/html": [
              "1.96977620624128"
            ]
          },
          "metadata": {}
        }
      ]
    },
    {
      "cell_type": "code",
      "source": [
        "#add treatment effect to all genes \n",
        "trt_grp2_datacopy = trt_grp2_data\n",
        "\n",
        "trt_grp2_with_effect = trt_grp2_datacopy[1:m, ] + trt_effect\n",
        "head(trt_grp2_with_effect)"
      ],
      "metadata": {
        "colab": {
          "base_uri": "https://localhost:8080/",
          "height": 283
        },
        "id": "ZrwaVsjCXdCy",
        "outputId": "017cf608-e870-4856-8bff-990665ffcd8d"
      },
      "execution_count": 110,
      "outputs": [
        {
          "output_type": "display_data",
          "data": {
            "text/plain": [
              "      GSM1247245 GSM1247216 GSM1247412 GSM1247389\n",
              "17401  9.251279   9.205222   9.301949   9.067629 \n",
              "4775   6.097584   6.553851   6.150146   5.746821 \n",
              "13218  9.905722   9.765504   9.604560   9.339796 \n",
              "10539  9.225838   9.464384   8.617502   8.788223 \n",
              "8462   7.782848   7.388753   7.959738   7.432359 \n",
              "4050  12.416196  11.318878  12.663956  12.684726 "
            ],
            "text/latex": "A data.frame: 6 × 4\n\\begin{tabular}{r|llll}\n  & GSM1247245 & GSM1247216 & GSM1247412 & GSM1247389\\\\\n  & <dbl> & <dbl> & <dbl> & <dbl>\\\\\n\\hline\n\t17401 &  9.251279 &  9.205222 &  9.301949 &  9.067629\\\\\n\t4775 &  6.097584 &  6.553851 &  6.150146 &  5.746821\\\\\n\t13218 &  9.905722 &  9.765504 &  9.604560 &  9.339796\\\\\n\t10539 &  9.225838 &  9.464384 &  8.617502 &  8.788223\\\\\n\t8462 &  7.782848 &  7.388753 &  7.959738 &  7.432359\\\\\n\t4050 & 12.416196 & 11.318878 & 12.663956 & 12.684726\\\\\n\\end{tabular}\n",
            "text/markdown": "\nA data.frame: 6 × 4\n\n| <!--/--> | GSM1247245 &lt;dbl&gt; | GSM1247216 &lt;dbl&gt; | GSM1247412 &lt;dbl&gt; | GSM1247389 &lt;dbl&gt; |\n|---|---|---|---|---|\n| 17401 |  9.251279 |  9.205222 |  9.301949 |  9.067629 |\n| 4775 |  6.097584 |  6.553851 |  6.150146 |  5.746821 |\n| 13218 |  9.905722 |  9.765504 |  9.604560 |  9.339796 |\n| 10539 |  9.225838 |  9.464384 |  8.617502 |  8.788223 |\n| 8462 |  7.782848 |  7.388753 |  7.959738 |  7.432359 |\n| 4050 | 12.416196 | 11.318878 | 12.663956 | 12.684726 |\n\n",
            "text/html": [
              "<table class=\"dataframe\">\n",
              "<caption>A data.frame: 6 × 4</caption>\n",
              "<thead>\n",
              "\t<tr><th></th><th scope=col>GSM1247245</th><th scope=col>GSM1247216</th><th scope=col>GSM1247412</th><th scope=col>GSM1247389</th></tr>\n",
              "\t<tr><th></th><th scope=col>&lt;dbl&gt;</th><th scope=col>&lt;dbl&gt;</th><th scope=col>&lt;dbl&gt;</th><th scope=col>&lt;dbl&gt;</th></tr>\n",
              "</thead>\n",
              "<tbody>\n",
              "\t<tr><th scope=row>17401</th><td> 9.251279</td><td> 9.205222</td><td> 9.301949</td><td> 9.067629</td></tr>\n",
              "\t<tr><th scope=row>4775</th><td> 6.097584</td><td> 6.553851</td><td> 6.150146</td><td> 5.746821</td></tr>\n",
              "\t<tr><th scope=row>13218</th><td> 9.905722</td><td> 9.765504</td><td> 9.604560</td><td> 9.339796</td></tr>\n",
              "\t<tr><th scope=row>10539</th><td> 9.225838</td><td> 9.464384</td><td> 8.617502</td><td> 8.788223</td></tr>\n",
              "\t<tr><th scope=row>8462</th><td> 7.782848</td><td> 7.388753</td><td> 7.959738</td><td> 7.432359</td></tr>\n",
              "\t<tr><th scope=row>4050</th><td>12.416196</td><td>11.318878</td><td>12.663956</td><td>12.684726</td></tr>\n",
              "</tbody>\n",
              "</table>\n"
            ]
          },
          "metadata": {}
        }
      ]
    }
  ]
}